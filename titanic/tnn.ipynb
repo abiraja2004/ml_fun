{
 "cells": [
  {
   "cell_type": "code",
   "execution_count": 1,
   "metadata": {
    "collapsed": true
   },
   "outputs": [],
   "source": [
    "import random\n",
    "import pandas as pd\n",
    "import numpy as np\n",
    "import tensorflow as tf\n",
    "import skflow\n",
    "\n",
    "from sklearn.linear_model import LogisticRegression\n",
    "from sklearn.utils import check_array\n",
    "from sklearn.cross_validation import train_test_split\n",
    "from sklearn import metrics, cross_validation\n",
    "\n",
    "random.seed(42)"
   ]
  },
  {
   "cell_type": "code",
   "execution_count": 43,
   "metadata": {
    "collapsed": false
   },
   "outputs": [
    {
     "name": "stdout",
     "output_type": "stream",
     "text": [
      "Ken Cavagnolo \n",
      "Last updated: Fri Mar 04 2016 \n",
      "\n",
      "CPython 2.7.10\n",
      "IPython 4.0.3\n",
      "\n",
      "numpy 1.10.4\n",
      "pandas 0.17.1\n",
      "tensorflow 0.6.0\n",
      "skflow 0.1.0\n",
      "scikit-learn 0.17\n",
      "\n",
      "compiler   : GCC 5.2.1 20151010\n",
      "system     : Linux\n",
      "release    : 4.2.0-23-generic\n",
      "machine    : x86_64\n",
      "processor  : x86_64\n",
      "CPU cores  : 4\n",
      "interpreter: 64bit\n",
      "host name  : ubuntu\n",
      "Git hash   : f8c2c79984809a1a8d0d0f33f6556d59b9d385bd\n"
     ]
    }
   ],
   "source": [
    "%reload_ext watermark\n",
    "%watermark -a \"Ken Cavagnolo\" -n -u -v -m -h -g -p numpy,pandas,tensorflow,skflow,scikit-learn"
   ]
  },
  {
   "cell_type": "code",
   "execution_count": 25,
   "metadata": {
    "collapsed": false
   },
   "outputs": [],
   "source": [
    "data = pd.read_csv('data/titanic_train.csv')\n",
    "X = data[['Age', 'SibSp', 'Fare']].fillna(0)\n",
    "y = data['Survived']\n",
    "X_train, X_test, y_train, y_test = train_test_split(X, y, test_size=0.2, random_state=42)"
   ]
  },
  {
   "cell_type": "code",
   "execution_count": 26,
   "metadata": {
    "collapsed": false,
    "scrolled": true
   },
   "outputs": [
    {
     "name": "stdout",
     "output_type": "stream",
     "text": [
      "Accuracy: 0.664804469274\n",
      "ROC: 0.730746960046\n"
     ]
    }
   ],
   "source": [
    "lr = LogisticRegression()\n",
    "lr.fit(X_train, y_train)\n",
    "print(\"Accuracy: {0}\".format(metrics.accuracy_score(lr.predict(X_test), y_test)))\n",
    "print(\"ROC: {0}\".format(metrics.roc_auc_score(lr.predict(X_test), y_test)))"
   ]
  },
  {
   "cell_type": "code",
   "execution_count": 27,
   "metadata": {
    "collapsed": false,
    "scrolled": true
   },
   "outputs": [
    {
     "name": "stdout",
     "output_type": "stream",
     "text": [
      "Step #1, avg. loss: 9.65833\n",
      "Step #51, epoch #8, avg. loss: 3.02035\n",
      "Step #101, epoch #16, avg. loss: 3.04305\n",
      "Step #151, epoch #25, avg. loss: 2.88455\n",
      "Step #201, epoch #33, avg. loss: 2.90514\n",
      "Step #251, epoch #41, avg. loss: 2.92437\n",
      "Step #301, epoch #50, avg. loss: 2.86000\n",
      "Step #351, epoch #58, avg. loss: 2.88256\n",
      "Step #401, epoch #66, avg. loss: 2.85180\n",
      "Step #451, epoch #75, avg. loss: 2.86843\n",
      "Accuracy: 0.608938547486\n",
      "ROC: 0.651775147929\n"
     ]
    }
   ],
   "source": [
    "# Linear classifier.\n",
    "tflr = skflow.TensorFlowLinearClassifier(n_classes=2,\n",
    "                                         batch_size=128,\n",
    "                                         steps=500,\n",
    "                                         learning_rate=0.05)\n",
    "tflr.fit(X_train, y_train)\n",
    "print(\"Accuracy: {0}\".format(metrics.accuracy_score(tflr.predict(X_test), y_test)))\n",
    "print(\"ROC: {0}\".format(metrics.roc_auc_score(tflr.predict(X_test), y_test)))"
   ]
  },
  {
   "cell_type": "code",
   "execution_count": 28,
   "metadata": {
    "collapsed": false,
    "scrolled": true
   },
   "outputs": [
    {
     "name": "stdout",
     "output_type": "stream",
     "text": [
      "Step #1, avg. loss: 10.06707\n",
      "Step #51, epoch #8, avg. loss: 0.73915\n",
      "Step #101, epoch #16, avg. loss: 0.62324\n",
      "Step #151, epoch #25, avg. loss: 0.62795\n",
      "Step #201, epoch #33, avg. loss: 0.62312\n",
      "Step #251, epoch #41, avg. loss: 0.62120\n",
      "Step #301, epoch #50, avg. loss: 0.61702\n",
      "Step #351, epoch #58, avg. loss: 0.61531\n",
      "Step #401, epoch #66, avg. loss: 0.61496\n",
      "Step #451, epoch #75, avg. loss: 0.61467\n",
      "Accuracy: 0.653631284916\n",
      "ROC: 0.69435483871\n"
     ]
    }
   ],
   "source": [
    "# 3 layer neural network with rectified linear activation.\n",
    "classifier = skflow.TensorFlowDNNClassifier(hidden_units=[10, 20, 10],\n",
    "                                            n_classes=2,\n",
    "                                            batch_size=128,\n",
    "                                            steps=500,\n",
    "                                            learning_rate=0.05)\n",
    "classifier.fit(X_train, y_train)\n",
    "print(\"Accuracy: {0}\".format(metrics.accuracy_score(classifier.predict(X_test), y_test)))\n",
    "print(\"ROC: {0}\".format(metrics.roc_auc_score(classifier.predict(X_test), y_test)))"
   ]
  },
  {
   "cell_type": "code",
   "execution_count": 29,
   "metadata": {
    "collapsed": true
   },
   "outputs": [],
   "source": [
    "# 3 layer neural network with hyperbolic tangent activation.\n",
    "def dnn_tanh(X, y):\n",
    "    layers = skflow.ops.dnn(X, [10, 20, 10], tf.tanh)\n",
    "    return skflow.models.logistic_regression(layers, y)"
   ]
  },
  {
   "cell_type": "code",
   "execution_count": 31,
   "metadata": {
    "collapsed": false,
    "scrolled": true
   },
   "outputs": [
    {
     "name": "stdout",
     "output_type": "stream",
     "text": [
      "Step #1, avg. loss: 0.68093\n",
      "Step #51, epoch #8, avg. loss: 0.64784\n",
      "Step #101, epoch #16, avg. loss: 0.63315\n",
      "Step #151, epoch #25, avg. loss: 0.63321\n",
      "Step #201, epoch #33, avg. loss: 0.62441\n",
      "Step #251, epoch #41, avg. loss: 0.61640\n",
      "Step #301, epoch #50, avg. loss: 0.61377\n",
      "Step #351, epoch #58, avg. loss: 0.61024\n",
      "Step #401, epoch #66, avg. loss: 0.61550\n",
      "Step #451, epoch #75, avg. loss: 0.61014\n",
      "Accuracy: 0.692737430168\n",
      "ROC: 0.695760799484\n"
     ]
    }
   ],
   "source": [
    "classifier = skflow.TensorFlowEstimator(model_fn=dnn_tanh,\n",
    "                                        n_classes=2,\n",
    "                                        batch_size=128,\n",
    "                                        steps=500,\n",
    "                                        learning_rate=0.05)\n",
    "classifier.fit(X_train, y_train)\n",
    "print(\"Accuracy: {0}\".format(metrics.accuracy_score(classifier.predict(X_test), y_test)))\n",
    "print(\"ROC: {0}\".format(metrics.roc_auc_score(classifier.predict(X_test), y_test)))"
   ]
  },
  {
   "cell_type": "code",
   "execution_count": 35,
   "metadata": {
    "collapsed": true
   },
   "outputs": [],
   "source": [
    "data = pd.read_csv('data/titanic_train.csv')\n",
    "X = data[['Embarked']]\n",
    "y = data['Survived']\n",
    "X_train, X_test, y_train, y_test = train_test_split(X, y, test_size=0.2, random_state=42)"
   ]
  },
  {
   "cell_type": "code",
   "execution_count": 36,
   "metadata": {
    "collapsed": false
   },
   "outputs": [
    {
     "name": "stdout",
     "output_type": "stream",
     "text": [
      "('Embarked has next classes: ', array(['S', 'C', 'Q', nan], dtype=object))\n"
     ]
    }
   ],
   "source": [
    "embarked_classes = X_train[\"Embarked\"].unique()\n",
    "print('Embarked has next classes: ', embarked_classes)\n",
    "\n",
    "cat_processor = skflow.preprocessing.CategoricalProcessor()\n",
    "X_train = np.array(list(cat_processor.fit_transform(X_train)))\n",
    "X_test = np.array(list(cat_processor.transform(X_test)))\n",
    "\n",
    "# Total number of classes for this variable from Categorical Processor.\n",
    "# Includes unknown token and unique classes for variable.\n",
    "n_classes = len(cat_processor.vocabularies_[0])\n",
    "\n",
    "# embeddings\n",
    "EMBEDDING_SIZE = 3\n",
    "\n",
    "def categorical_model(X, y):\n",
    "    features = skflow.ops.categorical_variable(\n",
    "        X, n_classes, embedding_size=EMBEDDING_SIZE, name='embarked')\n",
    "    return skflow.models.logistic_regression(tf.squeeze(features, [1]), y)"
   ]
  },
  {
   "cell_type": "code",
   "execution_count": 33,
   "metadata": {
    "collapsed": false
   },
   "outputs": [
    {
     "name": "stdout",
     "output_type": "stream",
     "text": [
      "('Embarked has next classes: ', array(['S', 'C', 'Q', nan], dtype=object))\n",
      "Step #1, avg. loss: 0.76733\n",
      "Step #21, avg. loss: 0.67197\n",
      "Step #41, epoch #1, avg. loss: 0.67355\n",
      "Step #61, epoch #2, avg. loss: 0.65313\n",
      "Step #81, epoch #3, avg. loss: 0.65903\n",
      "Step #101, epoch #4, avg. loss: 0.65579\n",
      "Step #121, epoch #5, avg. loss: 0.64565\n",
      "Step #141, epoch #6, avg. loss: 0.65923\n",
      "Step #161, epoch #7, avg. loss: 0.65823\n",
      "Step #181, epoch #7, avg. loss: 0.65129\n",
      "Accuracy: 0.625698324022\n",
      "ROC: 0.610550615595\n"
     ]
    }
   ],
   "source": [
    "classifier = skflow.TensorFlowEstimator(model_fn=categorical_model,\n",
    "                                        n_classes=2)\n",
    "classifier.fit(X_train, y_train)\n",
    "print(\"Accuracy: {0}\".format(metrics.accuracy_score(classifier.predict(X_test), y_test)))\n",
    "print(\"ROC: {0}\".format(metrics.roc_auc_score(classifier.predict(X_test), y_test)))"
   ]
  },
  {
   "cell_type": "code",
   "execution_count": 37,
   "metadata": {
    "collapsed": true
   },
   "outputs": [],
   "source": [
    "def one_hot_categorical_model(X, y):\n",
    "    features = skflow.ops.one_hot_matrix(X, n_classes)\n",
    "    return skflow.models.logistic_regression(tf.squeeze(features, [1]), y)"
   ]
  },
  {
   "cell_type": "code",
   "execution_count": 38,
   "metadata": {
    "collapsed": false
   },
   "outputs": [
    {
     "name": "stdout",
     "output_type": "stream",
     "text": [
      "Step #1, avg. loss: 0.82722\n",
      "Step #101, epoch #4, avg. loss: 0.82588\n",
      "Step #201, epoch #8, avg. loss: 0.68599\n",
      "Step #301, epoch #13, avg. loss: 0.66034\n",
      "Step #401, epoch #17, avg. loss: 0.65153\n",
      "Step #501, epoch #21, avg. loss: 0.65113\n",
      "Step #601, epoch #26, avg. loss: 0.65095\n",
      "Step #701, epoch #30, avg. loss: 0.65017\n",
      "Step #801, epoch #34, avg. loss: 0.65184\n",
      "Step #901, epoch #39, avg. loss: 0.64966\n",
      "Accuracy: 0.625698324022\n",
      "ROC: 0.610550615595\n"
     ]
    }
   ],
   "source": [
    "classifier = skflow.TensorFlowEstimator(model_fn=one_hot_categorical_model,\n",
    "    n_classes=2, steps=1000, learning_rate=0.01)\n",
    "classifier.fit(X_train, y_train)\n",
    "\n",
    "print(\"Accuracy: {0}\".format(metrics.accuracy_score(classifier.predict(X_test), y_test)))\n",
    "print(\"ROC: {0}\".format(metrics.roc_auc_score(classifier.predict(X_test), y_test)))"
   ]
  },
  {
   "cell_type": "code",
   "execution_count": null,
   "metadata": {
    "collapsed": true
   },
   "outputs": [],
   "source": []
  }
 ],
 "metadata": {
  "kernelspec": {
   "display_name": "Python 2",
   "language": "python",
   "name": "python2"
  },
  "language_info": {
   "codemirror_mode": {
    "name": "ipython",
    "version": 2
   },
   "file_extension": ".py",
   "mimetype": "text/x-python",
   "name": "python",
   "nbconvert_exporter": "python",
   "pygments_lexer": "ipython2",
   "version": "2.7.10"
  }
 },
 "nbformat": 4,
 "nbformat_minor": 0
}
