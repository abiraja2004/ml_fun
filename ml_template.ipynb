{
 "cells": [
  {
   "cell_type": "markdown",
   "metadata": {},
   "source": [
    "# Imports"
   ]
  },
  {
   "cell_type": "code",
   "execution_count": null,
   "metadata": {
    "ExecuteTime": {
     "end_time": "2016-10-04T13:37:06.663946",
     "start_time": "2016-10-04T13:37:06.392050"
    },
    "collapsed": false
   },
   "outputs": [],
   "source": [
    "##########\n",
    "# basics #\n",
    "##########\n",
    "\n",
    "import warnings\n",
    "warnings.filterwarnings('ignore')\n",
    "import collections\n",
    "import datetime\n",
    "import glob\n",
    "import hashlib\n",
    "import itertools\n",
    "import math\n",
    "import operator\n",
    "import os\n",
    "import pickle\n",
    "import random\n",
    "import re\n",
    "import string\n",
    "import sys\n",
    "import time\n",
    "\n",
    "###########\n",
    "# science #\n",
    "###########\n",
    "\n",
    "import scipy as sp\n",
    "import numpy as np\n",
    "import pandas as pd\n",
    "rseed = random.seed(42)\n",
    "np.random.seed(rseed)\n",
    "\n",
    "######\n",
    "# ml #\n",
    "######\n",
    "\n",
    "import xgboost as xgb\n",
    "import theano as thno\n",
    "import keras as krs\n",
    "import tensorflow as tf\n",
    "\n",
    "###################\n",
    "# sklearn tooling #\n",
    "###################\n",
    "\n",
    "from sklearn import decomposition\n",
    "from sklearn import preprocessing\n",
    "from sklearn import metrics\n",
    "from sklearn import model_selection\n",
    "from sklearn import grid_search\n",
    "from sklearn import pipeline\n",
    "from sklearn import feature_selection\n",
    "\n",
    "#################\n",
    "# visualization #\n",
    "#################\n",
    "\n",
    "# plotly\n",
    "import plotly.plotly as py\n",
    "import plotly.tools as tls\n",
    "from plotly.graph_objs import *\n",
    "import cufflinks as cf\n",
    "tls.set_credentials_file(username=os.environ.get('PLOTLY_USERNAME'), api_key=os.environ.get('PLOTLY_APIKEY'))\n",
    "cf.set_config_file(offline=False, world_readable=True, theme='pearl')\n",
    "\n",
    "# matplotlib\n",
    "import matplotlib.pyplot as plt\n",
    "import matplotlib as mpl\n",
    "from IPython.display import set_matplotlib_formats\n",
    "set_matplotlib_formats('pdf', 'svg')\n",
    "mpl.rcParams['figure.figsize']=(12.0,4.0)\n",
    "%matplotlib inline\n",
    "\n",
    "# seaborn\n",
    "import seaborn as sns\n",
    "sns.set_style('darkgrid')\n",
    "sns.set_palette('muted', n_colors=15, desat=None)\n",
    "sns.set_context(\"notebook\", font_scale=1.5,\n",
    "                rc={\"lines.linewidth\": 2.5})\n",
    "\n",
    "#graphistry\n",
    "import graphistry\n",
    "graphistry.register(key=os.environ.get('GRAPHISTRY_APIKEY'))\n",
    "\n",
    "############\n",
    "# sys info #\n",
    "############\n",
    "\n",
    "%reload_ext watermark\n",
    "%watermark -a \"Ken Cavagnolo\" -n -u -v -m -h -g -p numpy,scipy,pandas,\\\n",
    "sklearn,theano,tensorflow,keras,xgboost,\\\n",
    "matplotlib,seaborn,plotly,graphistry"
   ]
  },
  {
   "cell_type": "markdown",
   "metadata": {},
   "source": [
    "# Define the problem"
   ]
  },
  {
   "cell_type": "markdown",
   "metadata": {},
   "source": [
    "## What's the problem?\n",
    "* Describe the problem informally, e.g. \"I need a program that will tell me which tweets will get retweets.\"\n",
    "\n",
    "* Describe the problem formally, e.g.\n",
    "    * Task (T): Classify a tweet that has not been published as going to get retweets or not.\n",
    "    * Experience (E): A corpus of tweets for an account where some have retweets and some do not.\n",
    "    * Performance (P): Classification accuracy, the number of tweets predicted correctly out of all tweets considered as a percentage.\n",
    "\n",
    "* List assumptions, e.g.\n",
    "    * The specific words used in the tweet matter to the model.\n",
    "    * The specific user that retweets does not matter to the model.\n",
    "    * The number of retweets may matter to the model.\n",
    "    * Older tweets are less predictive than more recent tweets.\n",
    "\n",
    "* List similar problems, e.g. \"A related problem would be email spam discrimination that uses text messages as input data and needs binary classification decision.\""
   ]
  },
  {
   "cell_type": "markdown",
   "metadata": {},
   "source": [
    "## Why do I care about this problem?\n",
    "* What is my motivation for studying this problem?\n",
    "* What are the benefits a solution provides?\n",
    "* How does will a solution be used, e.g. value proposition?"
   ]
  },
  {
   "cell_type": "markdown",
   "metadata": {},
   "source": [
    "## How should I solve this problem?\n",
    "* Brainstorm! Literally type everything as a stream of consciousness (coffee helps here)\n",
    "\n",
    "These are my thoughts. These are my thoughts. These are my thoughts. These are my thoughts. These are my thoughts. These are my thoughts. These are my thoughts. These are my thoughts. These are my thoughts. These are my thoughts.\n",
    "\n",
    "* Describe how to solve problem manually\n",
    "* What data do I have?\n",
    "* What data do I need?\n",
    "* What data I **don't** need?\n",
    "* What do I know the least about in the solution process above?\n",
    "    * knowledge gap 1\n",
    "    * knowledge gap 2\n",
    "* What am I concerned is incorrect in above solution? Find an expert online and ask them about these items\n",
    "    * concern 1\n",
    "    * concern 2"
   ]
  },
  {
   "cell_type": "markdown",
   "metadata": {},
   "source": [
    "# Data Preparation"
   ]
  },
  {
   "cell_type": "markdown",
   "metadata": {},
   "source": [
    "## Basics and ETL\n",
    "* What data sources am I using?\n",
    "* Format, Clean, Sample\n",
    "* Diagnose missing values and anomalies (MVA's)\n",
    "* What am I going to do w/ MVA's, e.g. simulate? averages? discard records?\n",
    "* Replace missing values\n",
    "* Remove duplicates\n",
    "* One-Hot encode categorical features\n",
    "* Find outliers and explain\n",
    "* Scale\n",
    "* Standardize"
   ]
  },
  {
   "cell_type": "markdown",
   "metadata": {},
   "source": [
    "## Summarize and visualize attributes\n",
    "* Data structure\n",
    "* Distributions\n",
    "* Histograms\n",
    "* Pairwise scatterplots"
   ]
  },
  {
   "cell_type": "markdown",
   "metadata": {},
   "source": [
    "## Feature Engineering\n",
    "* Data has complex multi-dimensional structures that ML algos know how to find and exploit to make decisions\n",
    "* You want to best expose those structures to the algo\n",
    "* Some structures may be too dense or too complex for the algo to find without help\n",
    "*Domain expertise comes into play here\n",
    "* Attribute decomposition into simpler components\n",
    "* Attribute aggregation, e.g. hyperattributes"
   ]
  },
  {
   "cell_type": "markdown",
   "metadata": {},
   "source": [
    "# Algorithm Evaluation"
   ]
  },
  {
   "cell_type": "markdown",
   "metadata": {},
   "source": [
    "## Experiments\n",
    "* Test harness = test, train, and validation splits\n",
    "* Loading up a bunch of standard machine learning algorithms into test harness\n",
    "* Run 5-10 standard algorithms from each [major algo family](http://machinelearningmastery.com/a-tour-of-machine-learning-algorithms/) using transformed and scaled versions of the dataset\n",
    "* Find types of algorithms and dataset combinations that give structure to the problem"
   ]
  },
  {
   "cell_type": "markdown",
   "metadata": {},
   "source": [
    "## Measure Performance\n",
    "* Select standard performance measures for the selected classes of algos\n",
    "* Report mean and standard deviation of the accuracy\n",
    "* Run statistical significance tests\n",
    "* Which results are meaningful and not just noise?\n",
    "* Create figures for each algo summarizing the distribution of accuracy\n",
    "* Consider 10-fold cross-validation, if applicable"
   ]
  },
  {
   "cell_type": "markdown",
   "metadata": {},
   "source": [
    "# Results"
   ]
  },
  {
   "cell_type": "markdown",
   "metadata": {},
   "source": [
    "## Algorithm Tuning\n",
    "* Which is the best model?\n",
    "* What's my method forsearching model param space?\n",
    "* Usually gonna be grid search\n",
    "* Don't forget, the more tuning, the greaters chance of overfitting"
   ]
  },
  {
   "cell_type": "markdown",
   "metadata": {},
   "source": [
    "## Ensemble Methods\n",
    "* Should results of several models be combined?\n",
    "* What's the justification?\n",
    "* If so, how?\n",
    "    * Bagging\n",
    "    * Boosting\n",
    "    * Blending"
   ]
  },
  {
   "cell_type": "markdown",
   "metadata": {},
   "source": [
    "# Communicate"
   ]
  },
  {
   "cell_type": "markdown",
   "metadata": {},
   "source": [
    "## Context\n",
    "* Intro and history\n",
    "* Statement of problem\n",
    "* Goal of this project"
   ]
  },
  {
   "cell_type": "markdown",
   "metadata": {},
   "source": [
    "## Methods and Findings\n",
    "* Data sources\n",
    "* Interesting things about data\n",
    "* Outline of methods\n",
    "* Implementation techniques\n",
    "* Evaluation of implementation\n",
    "* Analysis"
   ]
  },
  {
   "cell_type": "markdown",
   "metadata": {},
   "source": [
    "## Results and Caveats\n",
    "* What did I learn?\n",
    "* What is interesting?\n",
    "* What is useful?\n",
    "* Where does the model not work?\n",
    "* What questions does the model not answer?"
   ]
  },
  {
   "cell_type": "markdown",
   "metadata": {},
   "source": [
    "## Conclusions\n",
    "* Craft blog post from results\n",
    "* Post code to Github\n",
    "* Drop into social media stream"
   ]
  },
  {
   "cell_type": "code",
   "execution_count": null,
   "metadata": {
    "collapsed": false
   },
   "outputs": [],
   "source": [
    "import pandas as pd\n",
    "\n",
    "data = '/Library/Python/2.7/site-packages/pandas/tests/data/iris.csv'\n",
    "iris_data = pd.read_csv(data, na_values=['NA'])\n",
    "iris_data.describe()"
   ]
  },
  {
   "cell_type": "code",
   "execution_count": null,
   "metadata": {
    "collapsed": false
   },
   "outputs": [],
   "source": [
    "%matplotlib inline\n",
    "import matplotlib.pyplot as plt\n",
    "import seaborn as sb\n",
    "\n",
    "sb.pairplot(iris_data.dropna(), hue='Name')"
   ]
  },
  {
   "cell_type": "code",
   "execution_count": null,
   "metadata": {
    "collapsed": false
   },
   "outputs": [],
   "source": [
    "iris_data.loc[\n",
    "    (iris_data['SepalLength'] < 5.25) &\n",
    "    (iris_data['PetalWidth'] > 0.75)\n",
    "]"
   ]
  },
  {
   "cell_type": "code",
   "execution_count": null,
   "metadata": {
    "collapsed": true
   },
   "outputs": [],
   "source": []
  }
 ],
 "metadata": {
  "anaconda-cloud": {},
  "kernelspec": {
   "display_name": "Python [default]",
   "language": "python",
   "name": "python2"
  },
  "language_info": {
   "codemirror_mode": {
    "name": "ipython",
    "version": 2
   },
   "file_extension": ".py",
   "mimetype": "text/x-python",
   "name": "python",
   "nbconvert_exporter": "python",
   "pygments_lexer": "ipython2",
   "version": "2.7.12"
  }
 },
 "nbformat": 4,
 "nbformat_minor": 0
}
