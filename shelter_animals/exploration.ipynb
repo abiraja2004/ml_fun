{"cells":[
 {
  "cell_type": "markdown",
  "metadata": {},
  "source": "#Exploration of the dataset\nBefore you start to solve the classification task you should carry out some research to get familiar with the dataset and to decide what features and observations will be useful. Let's do it together."
 },
 {
  "cell_type": "code",
  "execution_count": null,
  "metadata": {
   "collapsed": false
  },
  "outputs": [],
  "source": "import pandas as pd\nimport seaborn as sns\nimport numpy as np\nimport matplotlib.pyplot as plt\n%matplotlib inline"
 },
 {
  "cell_type": "code",
  "execution_count": null,
  "metadata": {
   "collapsed": false
  },
  "outputs": [],
  "source": "animals = pd.read_csv('../input/train.csv')"
 },
 {
  "cell_type": "markdown",
  "metadata": {},
  "source": "First, let's count how many cats and dogs we have in the shelter."
 },
 {
  "cell_type": "code",
  "execution_count": null,
  "metadata": {
   "collapsed": false
  },
  "outputs": [],
  "source": "sns.countplot(animals.AnimalType, palette='Set3')"
 },
 {
  "cell_type": "markdown",
  "metadata": {},
  "source": "Now, let's see how different outcomes are distributed."
 },
 {
  "cell_type": "code",
  "execution_count": null,
  "metadata": {
   "collapsed": false
  },
  "outputs": [],
  "source": "sns.countplot(animals.OutcomeType, palette='Set3')"
 },
 {
  "cell_type": "markdown",
  "metadata": {},
  "source": "We can see that adoption and transfer are our leaders (good for poor animals)."
 },
 {
  "cell_type": "markdown",
  "metadata": {},
  "source": "We have another column - sex upon outcome. "
 },
 {
  "cell_type": "code",
  "execution_count": null,
  "metadata": {
   "collapsed": false
  },
  "outputs": [],
  "source": "sns.countplot(animals.SexuponOutcome, palette='Set3')"
 },
 {
  "cell_type": "markdown",
  "metadata": {},
  "source": "Actually, it contains two types of information: if animal was male or female and if it was neutered/spayed or intact. I hope it is a good idea to divided this column into two"
 },
 {
  "cell_type": "code",
  "execution_count": null,
  "metadata": {
   "collapsed": false
  },
  "outputs": [],
  "source": "# functions to get new parameters from the column\ndef get_sex(x):\n    x = str(x)\n    if x.find('Male') >= 0: return 'male'\n    if x.find('Female') >= 0: return 'female'\n    return 'unknown'\ndef get_neutered(x):\n    x = str(x)\n    if x.find('Spayed') >= 0: return 'neutered'\n    if x.find('Neutered') >= 0: return 'neutered'\n    if x.find('Intact') >= 0: return 'intact'\n    return 'unknown'\n"
 },
 {
  "cell_type": "code",
  "execution_count": null,
  "metadata": {
   "collapsed": false
  },
  "outputs": [],
  "source": "animals['Sex'] = animals.SexuponOutcome.apply(get_sex)\nanimals['Neutered'] = animals.SexuponOutcome.apply(get_neutered)\nf, (ax1, ax2) = plt.subplots(1, 2, figsize=(15, 4))\nsns.countplot(animals.Sex, palette='Set3', ax=ax1)\nsns.countplot(animals.Neutered, palette='Set3', ax=ax2)"
 },
 {
  "cell_type": "markdown",
  "metadata": {},
  "source": "Well, it seems like we have approximately equal number of male and female animals, and neutered (or spayed) prevail amongst them."
 },
 {
  "cell_type": "markdown",
  "metadata": {},
  "source": "Also we have information about breed, and some animals has pure or mixed breed. I wonder if  breed purity has some impact on the fate of animal."
 },
 {
  "cell_type": "code",
  "execution_count": null,
  "metadata": {
   "collapsed": false
  },
  "outputs": [],
  "source": "def get_mix(x):\n    x = str(x)\n    if x.find('Mix') >= 0: return 'mix'\n    return 'not'\nanimals['Mix'] = animals.Breed.apply(get_mix)\nsns.countplot(animals.Mix, palette='Set3')"
 },
 {
  "cell_type": "markdown",
  "metadata": {},
  "source": "Well, the poor animals from the shelter can not boast of breed purity in most cases."
 },
 {
  "cell_type": "markdown",
  "metadata": {},
  "source": "Now, let's see how different parameters influence on the outcome."
 },
 {
  "cell_type": "code",
  "execution_count": null,
  "metadata": {
   "collapsed": false
  },
  "outputs": [],
  "source": "f, (ax1, ax2) = plt.subplots(1, 2, figsize=(16, 4))\nsns.countplot(data=animals, x='OutcomeType',hue='Sex', ax=ax1)\nsns.countplot(data=animals, x='Sex',hue='OutcomeType', ax=ax2)"
 },
 {
  "cell_type": "code",
  "execution_count": null,
  "metadata": {
   "collapsed": false
  },
  "outputs": [],
  "source": "f, (ax1, ax2) = plt.subplots(1, 2, figsize=(16, 4))\nsns.countplot(data=animals, x='OutcomeType',hue='AnimalType', ax=ax1)\nsns.countplot(data=animals, x='AnimalType',hue='OutcomeType', ax=ax2)"
 },
 {
  "cell_type": "markdown",
  "metadata": {},
  "source": "Interesting notice: dogs tend to be returned to owner more often than cats. And cats are transferred more often than dogs."
 },
 {
  "cell_type": "code",
  "execution_count": null,
  "metadata": {
   "collapsed": false
  },
  "outputs": [],
  "source": "f, (ax1, ax2) = plt.subplots(1, 2, figsize=(16, 4))\nsns.countplot(data=animals, x='OutcomeType',hue='Neutered', ax=ax1)\nsns.countplot(data=animals, x='Neutered',hue='OutcomeType', ax=ax2)"
 },
 {
  "cell_type": "markdown",
  "metadata": {},
  "source": "Neutered animals have high chances to be adopted, while intact animals are more likely to be transferred."
 },
 {
  "cell_type": "code",
  "execution_count": null,
  "metadata": {
   "collapsed": false
  },
  "outputs": [],
  "source": "f, (ax1, ax2) = plt.subplots(1, 2, figsize=(16, 4))\nsns.countplot(data=animals, x='OutcomeType',hue='Mix', ax=ax1)\nsns.countplot(data=animals, x='Mix',hue='OutcomeType', ax=ax2)"
 },
 {
  "cell_type": "markdown",
  "metadata": {},
  "source": "Nothing special. Apparently, my suggestion about mixed breed and its effect on outcome was wrong."
 },
 {
  "cell_type": "markdown",
  "metadata": {},
  "source": "Another one parameter is age, but we have it in different units: years, months, weeks and days. Let's calculate every age in years and see if there is something interesting inside."
 },
 {
  "cell_type": "code",
  "execution_count": null,
  "metadata": {
   "collapsed": false
  },
  "outputs": [],
  "source": "def calc_age_in_years(x):\n    x = str(x)\n    if x == 'nan': return 0\n    age = int(x.split()[0])\n    if x.find('year') > -1: return age \n    if x.find('month')> -1: return age / 12.\n    if x.find('week')> -1: return age / 52.\n    if x.find('day')> -1: return age / 365.\n    else: return 0"
 },
 {
  "cell_type": "code",
  "execution_count": null,
  "metadata": {
   "collapsed": false
  },
  "outputs": [],
  "source": "animals['AgeInYears'] = animals.AgeuponOutcome.apply(calc_age_in_years)\nsns.distplot(animals.AgeInYears, bins = 20, kde=False)"
 },
 {
  "cell_type": "markdown",
  "metadata": {},
  "source": "Most of the animals in the shelter are 0-1 years old. Let's see if age has some effect on outcome."
 },
 {
  "cell_type": "code",
  "execution_count": null,
  "metadata": {
   "collapsed": false
  },
  "outputs": [],
  "source": "def calc_age_category(x):\n    if x < 3: return 'young'\n    if x < 5: return 'young adult'\n    if x < 10: return 'adult'\n    return 'old'\nanimals['AgeCategory'] = animals.AgeInYears.apply(calc_age_category)"
 },
 {
  "cell_type": "code",
  "execution_count": null,
  "metadata": {
   "collapsed": false
  },
  "outputs": [],
  "source": "f, (ax1, ax2) = plt.subplots(1, 2, figsize=(16, 4))\nsns.countplot(data=animals, x='OutcomeType',hue='AgeCategory', ax=ax1)\nsns.countplot(data=animals, x='AgeCategory',hue='OutcomeType', ax=ax2)"
 },
 {
  "cell_type": "markdown",
  "metadata": {},
  "source": "Interesting that young cats and dogs have much higher chances to be adopted or transferred than to be returned to owner or something else, while older animals with approximately equal probability can be adopted, transferred or returned."
 }
],"metadata":{"kernelspec":{"display_name":"Python 3","language":"python","name":"python3"}}, "nbformat": 4, "nbformat_minor": 0}