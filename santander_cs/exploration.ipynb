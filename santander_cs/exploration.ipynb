{
 "cells": [
  {
   "cell_type": "markdown",
   "metadata": {
    "heading_collapsed": true
   },
   "source": [
    "# Imports"
   ]
  },
  {
   "cell_type": "code",
   "execution_count": 28,
   "metadata": {
    "collapsed": false,
    "scrolled": true
   },
   "outputs": [],
   "source": [
    "import warnings\n",
    "warnings.filterwarnings('ignore')\n",
    "import string\n",
    "import glob\n",
    "import re\n",
    "import itertools\n",
    "import hashlib\n",
    "from collections import Counter\n",
    "import sys\n",
    "import os\n",
    "import numbers\n",
    "\n",
    "import scipy as sp\n",
    "import numpy as np\n",
    "import pandas as pd\n",
    "\n",
    "import plotly.plotly as py\n",
    "import plotly.tools as tls\n",
    "import plotly.graph_objs as go\n",
    "import cufflinks as cf\n",
    "cf.set_config_file(offline=False, world_readable=True, theme='pearl')\n",
    "tls.set_credentials_file(username=os.environ.get('PLOTLY_USERNAME'), api_key=os.environ.get('PLOTLY_APIKEY'))\n",
    "\n",
    "import matplotlib.pyplot as plt\n",
    "import matplotlib\n",
    "%matplotlib inline\n",
    "\n",
    "import seaborn as sns\n",
    "sns.set_context(\"notebook\",\n",
    "                font_scale=1.5,\n",
    "                rc={\"lines.linewidth\": 2.5})"
   ]
  },
  {
   "cell_type": "code",
   "execution_count": 20,
   "metadata": {
    "collapsed": false
   },
   "outputs": [
    {
     "name": "stdout",
     "output_type": "stream",
     "text": [
      "Ken Cavagnolo \n",
      "Last updated: Thu Mar 03 2016 \n",
      "\n",
      "CPython 2.7.10\n",
      "IPython 4.0.3\n",
      "\n",
      "numpy 1.10.4\n",
      "scipy 0.17.0\n",
      "pandas 0.17.1\n",
      "matplotlib 1.4.2\n",
      "plotly 1.8.12\n",
      "seaborn 0.7.0\n",
      "\n",
      "compiler   : GCC 5.2.1 20151010\n",
      "system     : Linux\n",
      "release    : 4.2.0-23-generic\n",
      "machine    : x86_64\n",
      "processor  : x86_64\n",
      "CPU cores  : 4\n",
      "interpreter: 64bit\n",
      "host name  : ubuntu\n",
      "Git hash   : 89a33b5a858cad0e011af09c5cce6ee379152ada\n"
     ]
    }
   ],
   "source": [
    "%reload_ext watermark\n",
    "%watermark -a \"Ken Cavagnolo\" -n -u -v -m -h -g -p numpy,scipy,pandas,matplotlib,plotly,seaborn"
   ]
  },
  {
   "cell_type": "markdown",
   "metadata": {
    "heading_collapsed": true
   },
   "source": [
    "# Read Data"
   ]
  },
  {
   "cell_type": "code",
   "execution_count": 18,
   "metadata": {
    "collapsed": true
   },
   "outputs": [],
   "source": [
    "# get datadir\n",
    "import platform\n",
    "uname = platform.uname()[0]\n",
    "if uname == 'Linux':\n",
    "    datadir = '/home/kcavagnolo/ml_fun/santander_cs/data/'\n",
    "elif uname == 'Darwin':\n",
    "    datadir = '/Users/cavagnolo/ml_fun/santander_cs/data/'\n",
    "else:\n",
    "    raise OSError(\"Unknown system: \" + str(uname))\n",
    "    \n",
    "files = sorted(glob.glob(datadir + '*.csv'))\n",
    "hdf_file = datadir + 'features.h5'"
   ]
  },
  {
   "cell_type": "code",
   "execution_count": null,
   "metadata": {
    "collapsed": false
   },
   "outputs": [],
   "source": [
    "# reopen hdf store\n",
    "hdf = pd.HDFStore(hdf_file)\n",
    "print hdf\n",
    "df_test = hdf['df_test']\n",
    "df_train = hdf['df_train']\n",
    "df_all = hdf['df_all']\n",
    "hdf.close()\n",
    "\n",
    "# reset indexing\n",
    "df_train = df_train.sort_values(by='id').reset_index(drop=True)\n",
    "df_test = df_test.sort_values(by='id').reset_index(drop=True)\n",
    "df_all = df_all.sort_values(by='id').reset_index(drop=True)\n",
    "\n",
    "# cols to drop\n",
    "attribute_drop = ['fault_severity', 'id', 'location', 'is_train']\n",
    "\n",
    "# col prefixes\n",
    "attributes = ['event_', 'resource_', 'severity_', 'log_feature_']"
   ]
  },
  {
   "cell_type": "markdown",
   "metadata": {},
   "source": [
    "# Summarize"
   ]
  },
  {
   "cell_type": "markdown",
   "metadata": {},
   "source": [
    "TODO:\n",
    "\n",
    "* Replace missing values\n",
    "* Remove duplicates\n",
    "* One-Hot encode categorical features\n",
    "* Find outliers and explain\n",
    "* Scale\n",
    "* Standardize"
   ]
  },
  {
   "cell_type": "code",
   "execution_count": 164,
   "metadata": {
    "collapsed": false
   },
   "outputs": [
    {
     "name": "stdout",
     "output_type": "stream",
     "text": [
      "(76020, 370)\n",
      "(75818, 369)\n"
     ]
    }
   ],
   "source": [
    "# build test df\n",
    "df = pd.read_csv(files[1], index_col=0)\n",
    "for c in df.columns:\n",
    "    if df[c].dtypes == 'object':\n",
    "        df[c] = df[c].map(lambda x: re.sub(\"[^0-9]\", \"\", x))\n",
    "df_test = df.copy()\n",
    "\n",
    "# build train df\n",
    "df = pd.read_csv(files[2], index_col=0)\n",
    "for c in df.columns:\n",
    "    if df[c].dtypes == 'object':\n",
    "        df[c] = df[c].map(lambda x: re.sub(\"[^0-9]\", \"\", x))\n",
    "df_train = df.copy()\n",
    "\n",
    "# show sizes\n",
    "print df_train.shape\n",
    "print df_test.shape\n",
    "\n",
    "# merge df's\n",
    "df_train.reset_index(inplace=True)\n",
    "df_test.reset_index(inplace=True)\n",
    "df_train['is_train'] = True\n",
    "df_test['is_train'] = False\n",
    "df_all = pd.concat([df_train, df_test], axis=0, ignore_index=False)\n",
    "a = df_train.shape[0]\n",
    "b = df_test.shape[0]\n",
    "c = df_all.shape[0]\n",
    "assert(a + b == c, \"DF's are not summing correctly\")"
   ]
  },
  {
   "cell_type": "code",
   "execution_count": 165,
   "metadata": {
    "collapsed": false,
    "scrolled": true
   },
   "outputs": [
    {
     "name": "stdout",
     "output_type": "stream",
     "text": [
      "var3                           208                                                              \n",
      "var15                          100                                                              \n",
      "imp_ent_var16_ult1             596                                                              \n",
      "imp_op_var39_comer_ult1        7551                                                              \n",
      "imp_op_var39_comer_ult3        9099                                                              \n",
      "imp_op_var40_comer_ult1        293                                                              \n",
      "imp_op_var40_comer_ult3        346                                                              \n",
      "imp_op_var40_efect_ult1        23                                                              \n",
      "imp_op_var40_efect_ult3        29                                                              \n",
      "imp_op_var40_ult1              224                                                              \n",
      "imp_op_var41_comer_ult1        7421                                                              \n",
      "imp_op_var41_comer_ult3        8961                                                              \n",
      "imp_op_var41_efect_ult1        331                                                              \n",
      "imp_op_var41_efect_ult3        454                                                              \n",
      "imp_op_var41_ult1              8032                                                              \n",
      "imp_op_var39_efect_ult1        336                                                              \n",
      "imp_op_var39_efect_ult3        462                                                              \n",
      "imp_op_var39_ult1              8149                                                              \n",
      "imp_sal_var16_ult1             66                                                              \n",
      "ind_var1_0                     2                                                              \n",
      "ind_var1                       2                                                              \n",
      "ind_var2_0                     1                                                              \n",
      "ind_var2                       1                                                              \n",
      "ind_var5_0                     2                                                              \n",
      "ind_var5                       2                                                              \n",
      "ind_var6_0                     2                                                              \n",
      "ind_var6                       2                                                              \n",
      "ind_var8_0                     2                                                              \n",
      "ind_var8                       2                                                              \n",
      "ind_var12_0                    2                                                              \n",
      "ind_var12                      2                                                              \n",
      "ind_var13_0                    2                                                              \n",
      "ind_var13_corto_0              2                                                              \n",
      "ind_var13_corto                2                                                              \n",
      "ind_var13_largo_0              2                                                              \n",
      "ind_var13_largo                2                                                              \n",
      "ind_var13_medio_0              2                                                              \n",
      "ind_var13_medio                2                                                              \n",
      "ind_var13                      2                                                              \n",
      "ind_var14_0                    2                                                              \n",
      "ind_var14                      2                                                              \n",
      "ind_var17_0                    2                                                              \n",
      "ind_var17                      2                                                              \n",
      "ind_var18_0                    2                                                              \n",
      "ind_var18                      2                                                              \n",
      "ind_var19                      2                                                              \n",
      "ind_var20_0                    2                                                              \n",
      "ind_var20                      2                                                              \n",
      "ind_var24_0                    2                                                              \n",
      "ind_var24                      2                                                              \n",
      "ind_var25_cte                  2                                                              \n",
      "ind_var26_0                    2                                                              \n",
      "ind_var26_cte                  2                                                              \n",
      "ind_var26                      2                                                              \n",
      "ind_var25_0                    2                                                              \n",
      "ind_var25                      2                                                              \n",
      "ind_var27_0                    1                                                              \n",
      "ind_var28_0                    1                                                              \n",
      "ind_var28                      1                                                              \n",
      "ind_var27                      1                                                              \n",
      "ind_var29_0                    2                                                              \n",
      "ind_var29                      2                                                              \n",
      "ind_var30_0                    2                                                              \n",
      "ind_var30                      2                                                              \n",
      "ind_var31_0                    2                                                              \n",
      "ind_var31                      2                                                              \n",
      "ind_var32_cte                  2                                                              \n",
      "ind_var32_0                    2                                                              \n",
      "ind_var32                      2                                                              \n",
      "ind_var33_0                    2                                                              \n",
      "ind_var33                      2                                                              \n",
      "ind_var34_0                    2                                                              \n",
      "ind_var34                      2                                                              \n",
      "ind_var37_cte                  2                                                              \n",
      "ind_var37_0                    2                                                              \n",
      "ind_var37                      2                                                              \n",
      "ind_var39_0                    2                                                              \n",
      "ind_var40_0                    2                                                              \n",
      "ind_var40                      2                                                              \n",
      "ind_var41_0                    2                                                              \n",
      "ind_var41                      1                                                              \n",
      "ind_var39                      2                                                              \n",
      "ind_var44_0                    2                                                              \n",
      "ind_var44                      2                                                              \n",
      "ind_var46_0                    1                                                              \n",
      "ind_var46                      1                                                              \n",
      "num_var1_0                     3                                                              \n",
      "num_var1                       3                                                              \n",
      "num_var4                       8                                                              \n",
      "num_var5_0                     5                                                              \n",
      "num_var5                       5                                                              \n",
      "num_var6_0                     2                                                              \n",
      "num_var6                       2                                                              \n",
      "num_var8_0                     3                                                              \n",
      "num_var8                       2                                                              \n",
      "num_var12_0                    6                                                              \n",
      "num_var12                      4                                                              \n",
      "num_var13_0                    7                                                              \n",
      "num_var13_corto_0              3                                                              \n",
      "num_var13_corto                3                                                              \n",
      "num_var13_largo_0              7                                                              \n",
      "num_var13_largo                7                                                              \n",
      "num_var13_medio_0              2                                                              \n",
      "num_var13_medio                2                                                              \n",
      "num_var13                      7                                                              \n",
      "num_var14_0                    5                                                              \n",
      "num_var14                      4                                                              \n",
      "num_var17_0                    11                                                              \n",
      "num_var17                      9                                                              \n",
      "num_var18_0                    2                                                              \n",
      "num_var18                      2                                                              \n",
      "num_var20_0                    2                                                              \n",
      "num_var20                      2                                                              \n",
      "num_var24_0                    4                                                              \n",
      "num_var24                      3                                                              \n",
      "num_var26_0                    9                                                              \n",
      "num_var26                      9                                                              \n",
      "num_var25_0                    9                                                              \n",
      "num_var25                      9                                                              \n",
      "num_op_var40_hace2             19                                                              \n",
      "num_op_var40_hace3             5                                                              \n",
      "num_op_var40_ult1              30                                                              \n",
      "num_op_var40_ult3              35                                                              \n",
      "num_op_var41_hace2             51                                                              \n",
      "num_op_var41_hace3             22                                                              \n",
      "num_op_var41_ult1              68                                                              \n",
      "num_op_var41_ult3              96                                                              \n",
      "num_op_var39_hace2             50                                                              \n",
      "num_op_var39_hace3             22                                                              \n",
      "num_op_var39_ult1              71                                                              \n",
      "num_op_var39_ult3              99                                                              \n",
      "num_var27_0                    1                                                              \n",
      "num_var28_0                    1                                                              \n",
      "num_var28                      1                                                              \n",
      "num_var27                      1                                                              \n",
      "num_var29_0                    2                                                              \n",
      "num_var29                      2                                                              \n",
      "num_var30_0                    11                                                              \n",
      "num_var30                      9                                                              \n",
      "num_var31_0                    11                                                              \n",
      "num_var31                      9                                                              \n",
      "num_var32_0                    5                                                              \n",
      "num_var32                      5                                                              \n",
      "num_var33_0                    4                                                              \n",
      "num_var33                      3                                                              \n",
      "num_var34_0                    2                                                              \n",
      "num_var34                      2                                                              \n",
      "num_var35                      13                                                              \n",
      "num_var37_med_ult2             21                                                              \n",
      "num_var37_0                    22                                                              \n",
      "num_var37                      22                                                              \n",
      "num_var39_0                    9                                                              \n",
      "num_var40_0                    3                                                              \n",
      "num_var40                      2                                                              \n",
      "num_var41_0                    9                                                              \n",
      "num_var41                      1                                                              \n",
      "num_var39                      2                                                              \n",
      "num_var42_0                    8                                                              \n",
      "num_var42                      7                                                              \n",
      "num_var44_0                    3                                                              \n",
      "num_var44                      2                                                              \n",
      "num_var46_0                    1                                                              \n",
      "num_var46                      1                                                              \n",
      "saldo_var1                     285                                                              \n",
      "saldo_var5                     11642                                                              \n",
      "saldo_var6                     3                                                              \n",
      "saldo_var8                     1989                                                              \n",
      "saldo_var12                    3059                                                              \n",
      "saldo_var13_corto              730                                                              \n",
      "saldo_var13_largo              229                                                              \n",
      "saldo_var13_medio              3                                                              \n",
      "saldo_var13                    859                                                              \n",
      "saldo_var14                    345                                                              \n",
      "saldo_var17                    111                                                              \n",
      "saldo_var18                    3                                                              \n",
      "saldo_var20                    176                                                              \n",
      "saldo_var24                    2614                                                              \n",
      "saldo_var26                    1592                                                              \n",
      "saldo_var25                    1524                                                              \n",
      "saldo_var28                    1                                                              \n",
      "saldo_var27                    1                                                              \n",
      "saldo_var29                    3                                                              \n",
      "saldo_var30                    16940                                                              \n",
      "saldo_var31                    278                                                              \n",
      "saldo_var32                    75                                                              \n",
      "saldo_var33                    48                                                              \n",
      "saldo_var34                    3                                                              \n",
      "saldo_var37                    4041                                                              \n",
      "saldo_var40                    282                                                              \n",
      "saldo_var41                    1                                                              \n",
      "saldo_var42                    15730                                                              \n",
      "saldo_var44                    129                                                              \n",
      "saldo_var46                    1                                                              \n",
      "var36                          5                                                              \n",
      "delta_imp_amort_var18_1y3      2                                                              \n",
      "delta_imp_amort_var34_1y3      2                                                              \n",
      "delta_imp_aport_var13_1y3      27                                                              \n",
      "delta_imp_aport_var17_1y3      7                                                              \n",
      "delta_imp_aport_var33_1y3      9                                                              \n",
      "delta_imp_compra_var44_1y3     17                                                              \n",
      "delta_imp_reemb_var13_1y3      2                                                              \n",
      "delta_imp_reemb_var17_1y3      3                                                              \n",
      "delta_imp_reemb_var33_1y3      2                                                              \n",
      "delta_imp_trasp_var17_in_1y3   3                                                              \n",
      "delta_imp_trasp_var17_out_1y3  2                                                              \n",
      "delta_imp_trasp_var33_in_1y3   3                                                              \n",
      "delta_imp_trasp_var33_out_1y3  2                                                              \n",
      "delta_imp_venta_var44_1y3      5                                                              \n",
      "delta_num_aport_var13_1y3      6                                                              \n",
      "delta_num_aport_var17_1y3      6                                                              \n",
      "delta_num_aport_var33_1y3      4                                                              \n",
      "delta_num_compra_var44_1y3     9                                                              \n",
      "delta_num_reemb_var13_1y3      2                                                              \n",
      "delta_num_reemb_var17_1y3      3                                                              \n",
      "delta_num_reemb_var33_1y3      2                                                              \n",
      "delta_num_trasp_var17_in_1y3   3                                                              \n",
      "delta_num_trasp_var17_out_1y3  2                                                              \n",
      "delta_num_trasp_var33_in_1y3   3                                                              \n",
      "delta_num_trasp_var33_out_1y3  2                                                              \n",
      "delta_num_venta_var44_1y3      5                                                              \n",
      "imp_amort_var18_hace3          1                                                              \n",
      "imp_amort_var18_ult1           3                                                              \n",
      "imp_amort_var34_hace3          1                                                              \n",
      "imp_amort_var34_ult1           3                                                              \n",
      "imp_aport_var13_hace3          425                                                              \n",
      "imp_aport_var13_ult1           182                                                              \n",
      "imp_aport_var17_hace3          20                                                              \n",
      "imp_aport_var17_ult1           42                                                              \n",
      "imp_aport_var33_hace3          16                                                              \n",
      "imp_aport_var33_ult1           6                                                              \n",
      "imp_var7_emit_ult1             4                                                              \n",
      "imp_var7_recib_ult1            184                                                              \n",
      "imp_compra_var44_hace3         33                                                              \n",
      "imp_compra_var44_ult1          85                                                              \n",
      "imp_reemb_var13_hace3          1                                                              \n",
      "imp_reemb_var13_ult1           33                                                              \n",
      "imp_reemb_var17_hace3          2                                                              \n",
      "imp_reemb_var17_ult1           20                                                              \n",
      "imp_reemb_var33_hace3          1                                                              \n",
      "imp_reemb_var33_ult1           2                                                              \n",
      "imp_var43_emit_ult1            2342                                                              \n",
      "imp_trans_var37_ult1           3831                                                              \n",
      "imp_trasp_var17_in_hace3       3                                                              \n",
      "imp_trasp_var17_in_ult1        5                                                              \n",
      "imp_trasp_var17_out_hace3      1                                                              \n",
      "imp_trasp_var17_out_ult1       5                                                              \n",
      "imp_trasp_var33_in_hace3       7                                                              \n",
      "imp_trasp_var33_in_ult1        6                                                              \n",
      "imp_trasp_var33_out_hace3      1                                                              \n",
      "imp_trasp_var33_out_ult1       2                                                              \n",
      "imp_venta_var44_hace3          4                                                              \n",
      "imp_venta_var44_ult1           45                                                              \n",
      "ind_var7_emit_ult1             2                                                              \n",
      "ind_var7_recib_ult1            2                                                              \n",
      "ind_var10_ult1                 2                                                              \n",
      "ind_var10cte_ult1              2                                                              \n",
      "ind_var9_cte_ult1              2                                                              \n",
      "ind_var9_ult1                  2                                                              \n",
      "ind_var43_emit_ult1            2                                                              \n",
      "ind_var43_recib_ult1           2                                                              \n",
      "var21                          24                                                              \n",
      "num_var2_0_ult1                1                                                              \n",
      "num_var2_ult1                  1                                                              \n",
      "num_aport_var13_hace3          8                                                              \n",
      "num_aport_var13_ult1           7                                                              \n",
      "num_aport_var17_hace3          5                                                              \n",
      "num_aport_var17_ult1           8                                                              \n",
      "num_aport_var33_hace3          4                                                              \n",
      "num_aport_var33_ult1           3                                                              \n",
      "num_var7_emit_ult1             2                                                              \n",
      "num_var7_recib_ult1            6                                                              \n",
      "num_compra_var44_hace3         4                                                              \n",
      "num_compra_var44_ult1          10                                                              \n",
      "num_ent_var16_ult1             13                                                              \n",
      "num_var22_hace2                22                                                              \n",
      "num_var22_hace3                19                                                              \n",
      "num_var22_ult1                 18                                                              \n",
      "num_var22_ult3                 33                                                              \n",
      "num_med_var22_ult3             15                                                              \n",
      "num_med_var45_ult3             71                                                              \n",
      "num_meses_var5_ult3            4                                                              \n",
      "num_meses_var8_ult3            4                                                              \n",
      "num_meses_var12_ult3           4                                                              \n",
      "num_meses_var13_corto_ult3     4                                                              \n",
      "num_meses_var13_largo_ult3     4                                                              \n",
      "num_meses_var13_medio_ult3     2                                                              \n",
      "num_meses_var17_ult3           4                                                              \n",
      "num_meses_var29_ult3           3                                                              \n",
      "num_meses_var33_ult3           4                                                              \n",
      "num_meses_var39_vig_ult3       4                                                              \n",
      "num_meses_var44_ult3           4                                                              \n",
      "num_op_var39_comer_ult1        63                                                              \n",
      "num_op_var39_comer_ult3        92                                                              \n",
      "num_op_var40_comer_ult1        34                                                              \n",
      "num_op_var40_comer_ult3        47                                                              \n",
      "num_op_var40_efect_ult1        7                                                              \n",
      "num_op_var40_efect_ult3        9                                                              \n",
      "num_op_var41_comer_ult1        60                                                              \n",
      "num_op_var41_comer_ult3        88                                                              \n",
      "num_op_var41_efect_ult1        25                                                              \n",
      "num_op_var41_efect_ult3        40                                                              \n",
      "num_op_var39_efect_ult1        26                                                              \n",
      "num_op_var39_efect_ult3        40                                                              \n",
      "num_reemb_var13_hace3          1                                                              \n",
      "num_reemb_var13_ult1           2                                                              \n",
      "num_reemb_var17_hace3          2                                                              \n",
      "num_reemb_var17_ult1           5                                                              \n",
      "num_reemb_var33_hace3          1                                                              \n",
      "num_reemb_var33_ult1           2                                                              \n",
      "num_sal_var16_ult1             6                                                              \n",
      "num_var43_emit_ult1            27                                                              \n",
      "num_var43_recib_ult1           38                                                              \n",
      "num_trasp_var11_ult1           18                                                              \n",
      "num_trasp_var17_in_hace3       3                                                              \n",
      "num_trasp_var17_in_ult1        2                                                              \n",
      "num_trasp_var17_out_hace3      1                                                              \n",
      "num_trasp_var17_out_ult1       2                                                              \n",
      "num_trasp_var33_in_hace3       2                                                              \n",
      "num_trasp_var33_in_ult1        3                                                              \n",
      "num_trasp_var33_out_hace3      1                                                              \n",
      "num_trasp_var33_out_ult1       2                                                              \n",
      "num_venta_var44_hace3          3                                                              \n",
      "num_venta_var44_ult1           9                                                              \n",
      "num_var45_hace2                85                                                              \n",
      "num_var45_hace3                66                                                              \n",
      "num_var45_ult1                 94                                                              \n",
      "num_var45_ult3                 172                                                              \n",
      "saldo_var2_ult1                1                                                              \n",
      "saldo_medio_var5_hace2         14486                                                              \n",
      "saldo_medio_var5_hace3         7787                                                              \n",
      "saldo_medio_var5_ult1          14778                                                              \n",
      "saldo_medio_var5_ult3          17330                                                              \n",
      "saldo_medio_var8_hace2         1325                                                              \n",
      "saldo_medio_var8_hace3         439                                                              \n",
      "saldo_medio_var8_ult1          2116                                                              \n",
      "saldo_medio_var8_ult3          2173                                                              \n",
      "saldo_medio_var12_hace2        2834                                                              \n",
      "saldo_medio_var12_hace3        1152                                                              \n",
      "saldo_medio_var12_ult1         3405                                                              \n",
      "saldo_medio_var12_ult3         3447                                                              \n",
      "saldo_medio_var13_corto_hace2  1628                                                              \n",
      "saldo_medio_var13_corto_hace3  968                                                              \n",
      "saldo_medio_var13_corto_ult1   943                                                              \n",
      "saldo_medio_var13_corto_ult3   2576                                                              \n",
      "saldo_medio_var13_largo_hace2  295                                                              \n",
      "saldo_medio_var13_largo_hace3  264                                                              \n",
      "saldo_medio_var13_largo_ult1   233                                                              \n",
      "saldo_medio_var13_largo_ult3   511                                                              \n",
      "saldo_medio_var13_medio_hace2  3                                                              \n",
      "saldo_medio_var13_medio_hace3  1                                                              \n",
      "saldo_medio_var13_medio_ult1   3                                                              \n",
      "saldo_medio_var13_medio_ult3   3                                                              \n",
      "saldo_medio_var17_hace2        88                                                              \n",
      "saldo_medio_var17_hace3        18                                                              \n",
      "saldo_medio_var17_ult1         119                                                              \n",
      "saldo_medio_var17_ult3         119                                                              \n",
      "saldo_medio_var29_hace2        5                                                              \n",
      "saldo_medio_var29_hace3        2                                                              \n",
      "saldo_medio_var29_ult1         4                                                              \n",
      "saldo_medio_var29_ult3         4                                                              \n",
      "saldo_medio_var33_hace2        43                                                              \n",
      "saldo_medio_var33_hace3        24                                                              \n",
      "saldo_medio_var33_ult1         48                                                              \n",
      "saldo_medio_var33_ult3         48                                                              \n",
      "saldo_medio_var44_hace2        99                                                              \n",
      "saldo_medio_var44_hace3        33                                                              \n",
      "saldo_medio_var44_ult1         141                                                              \n",
      "saldo_medio_var44_ult3         141                                                              \n",
      "var38                          57736                                                              \n",
      "TARGET                         2                                                              \n",
      "Singular cols:  ['ind_var2_0', 'ind_var2', 'ind_var27_0', 'ind_var28_0', 'ind_var28', 'ind_var27', 'ind_var41', 'ind_var46_0', 'ind_var46', 'num_var27_0', 'num_var28_0', 'num_var28', 'num_var27', 'num_var41', 'num_var46_0', 'num_var46', 'saldo_var28', 'saldo_var27', 'saldo_var41', 'saldo_var46', 'imp_amort_var18_hace3', 'imp_amort_var34_hace3', 'imp_reemb_var13_hace3', 'imp_reemb_var33_hace3', 'imp_trasp_var17_out_hace3', 'imp_trasp_var33_out_hace3', 'num_var2_0_ult1', 'num_var2_ult1', 'num_reemb_var13_hace3', 'num_reemb_var33_hace3', 'num_trasp_var17_out_hace3', 'num_trasp_var33_out_hace3', 'saldo_var2_ult1', 'saldo_medio_var13_medio_hace3']\n",
      "\n",
      "Binary cols:    ['ind_var1_0', 'ind_var1', 'ind_var5_0', 'ind_var5', 'ind_var6_0', 'ind_var6', 'ind_var8_0', 'ind_var8', 'ind_var12_0', 'ind_var12', 'ind_var13_0', 'ind_var13_corto_0', 'ind_var13_corto', 'ind_var13_largo_0', 'ind_var13_largo', 'ind_var13_medio_0', 'ind_var13_medio', 'ind_var13', 'ind_var14_0', 'ind_var14', 'ind_var17_0', 'ind_var17', 'ind_var18_0', 'ind_var18', 'ind_var19', 'ind_var20_0', 'ind_var20', 'ind_var24_0', 'ind_var24', 'ind_var25_cte', 'ind_var26_0', 'ind_var26_cte', 'ind_var26', 'ind_var25_0', 'ind_var25', 'ind_var29_0', 'ind_var29', 'ind_var30_0', 'ind_var30', 'ind_var31_0', 'ind_var31', 'ind_var32_cte', 'ind_var32_0', 'ind_var32', 'ind_var33_0', 'ind_var33', 'ind_var34_0', 'ind_var34', 'ind_var37_cte', 'ind_var37_0', 'ind_var37', 'ind_var39_0', 'ind_var40_0', 'ind_var40', 'ind_var41_0', 'ind_var39', 'ind_var44_0', 'ind_var44', 'num_var6_0', 'num_var6', 'num_var8', 'num_var13_medio_0', 'num_var13_medio', 'num_var18_0', 'num_var18', 'num_var20_0', 'num_var20', 'num_var29_0', 'num_var29', 'num_var34_0', 'num_var34', 'num_var40', 'num_var39', 'num_var44', 'delta_imp_amort_var18_1y3', 'delta_imp_amort_var34_1y3', 'delta_imp_reemb_var13_1y3', 'delta_imp_reemb_var33_1y3', 'delta_imp_trasp_var17_out_1y3', 'delta_imp_trasp_var33_out_1y3', 'delta_num_reemb_var13_1y3', 'delta_num_reemb_var33_1y3', 'delta_num_trasp_var17_out_1y3', 'delta_num_trasp_var33_out_1y3', 'imp_reemb_var17_hace3', 'imp_reemb_var33_ult1', 'imp_trasp_var33_out_ult1', 'ind_var7_emit_ult1', 'ind_var7_recib_ult1', 'ind_var10_ult1', 'ind_var10cte_ult1', 'ind_var9_cte_ult1', 'ind_var9_ult1', 'ind_var43_emit_ult1', 'ind_var43_recib_ult1', 'num_var7_emit_ult1', 'num_meses_var13_medio_ult3', 'num_reemb_var13_ult1', 'num_reemb_var17_hace3', 'num_reemb_var33_ult1', 'num_trasp_var17_in_ult1', 'num_trasp_var17_out_ult1', 'num_trasp_var33_in_hace3', 'num_trasp_var33_out_ult1', 'saldo_medio_var29_hace3', 'TARGET']\n",
      "\n",
      "Categorical cols: ['var3', 'var15', 'ind_var1_0', 'ind_var1', 'ind_var2_0', 'ind_var2', 'ind_var5_0', 'ind_var5', 'ind_var6_0', 'ind_var6', 'ind_var8_0', 'ind_var8', 'ind_var12_0', 'ind_var12', 'ind_var13_0', 'ind_var13_corto_0', 'ind_var13_corto', 'ind_var13_largo_0', 'ind_var13_largo', 'ind_var13_medio_0', 'ind_var13_medio', 'ind_var13', 'ind_var14_0', 'ind_var14', 'ind_var17_0', 'ind_var17', 'ind_var18_0', 'ind_var18', 'ind_var19', 'ind_var20_0', 'ind_var20', 'ind_var24_0', 'ind_var24', 'ind_var25_cte', 'ind_var26_0', 'ind_var26_cte', 'ind_var26', 'ind_var25_0', 'ind_var25', 'ind_var27_0', 'ind_var28_0', 'ind_var28', 'ind_var27', 'ind_var29_0', 'ind_var29', 'ind_var30_0', 'ind_var30', 'ind_var31_0', 'ind_var31', 'ind_var32_cte', 'ind_var32_0', 'ind_var32', 'ind_var33_0', 'ind_var33', 'ind_var34_0', 'ind_var34', 'ind_var37_cte', 'ind_var37_0', 'ind_var37', 'ind_var39_0', 'ind_var40_0', 'ind_var40', 'ind_var41_0', 'ind_var41', 'ind_var39', 'ind_var44_0', 'ind_var44', 'ind_var46_0', 'ind_var46', 'num_var1_0', 'num_var1', 'num_var4', 'num_var5_0', 'num_var5', 'num_var6_0', 'num_var6', 'num_var8_0', 'num_var8', 'num_var12_0', 'num_var12', 'num_var13_0', 'num_var13_corto_0', 'num_var13_corto', 'num_var13_largo_0', 'num_var13_largo', 'num_var13_medio_0', 'num_var13_medio', 'num_var13', 'num_var14_0', 'num_var14', 'num_var17_0', 'num_var17', 'num_var18_0', 'num_var18', 'num_var20_0', 'num_var20', 'num_var24_0', 'num_var24', 'num_var26_0', 'num_var26', 'num_var25_0', 'num_var25', 'num_op_var40_hace2', 'num_op_var40_hace3', 'num_op_var40_ult1', 'num_op_var40_ult3', 'num_op_var41_hace2', 'num_op_var41_hace3', 'num_op_var41_ult1', 'num_op_var41_ult3', 'num_op_var39_hace2', 'num_op_var39_hace3', 'num_op_var39_ult1', 'num_op_var39_ult3', 'num_var27_0', 'num_var28_0', 'num_var28', 'num_var27', 'num_var29_0', 'num_var29', 'num_var30_0', 'num_var30', 'num_var31_0', 'num_var31', 'num_var32_0', 'num_var32', 'num_var33_0', 'num_var33', 'num_var34_0', 'num_var34', 'num_var35', 'num_var37_med_ult2', 'num_var37_0', 'num_var37', 'num_var39_0', 'num_var40_0', 'num_var40', 'num_var41_0', 'num_var41', 'num_var39', 'num_var42_0', 'num_var42', 'num_var44_0', 'num_var44', 'num_var46_0', 'num_var46', 'saldo_var13_medio', 'saldo_var18', 'saldo_var28', 'saldo_var27', 'saldo_var34', 'saldo_var41', 'saldo_var46', 'var36', 'delta_imp_amort_var18_1y3', 'delta_imp_amort_var34_1y3', 'delta_imp_reemb_var13_1y3', 'delta_imp_reemb_var17_1y3', 'delta_imp_reemb_var33_1y3', 'delta_imp_trasp_var17_in_1y3', 'delta_imp_trasp_var17_out_1y3', 'delta_imp_trasp_var33_in_1y3', 'delta_imp_trasp_var33_out_1y3', 'delta_num_reemb_var13_1y3', 'delta_num_reemb_var17_1y3', 'delta_num_reemb_var33_1y3', 'delta_num_trasp_var17_in_1y3', 'delta_num_trasp_var17_out_1y3', 'delta_num_trasp_var33_in_1y3', 'delta_num_trasp_var33_out_1y3', 'imp_amort_var18_hace3', 'imp_amort_var34_hace3', 'imp_aport_var33_hace3', 'imp_aport_var33_ult1', 'imp_reemb_var13_hace3', 'imp_reemb_var33_hace3', 'imp_reemb_var33_ult1', 'imp_trasp_var17_out_hace3', 'imp_trasp_var33_out_hace3', 'imp_trasp_var33_out_ult1', 'ind_var7_emit_ult1', 'ind_var7_recib_ult1', 'ind_var10_ult1', 'ind_var10cte_ult1', 'ind_var9_cte_ult1', 'ind_var9_ult1', 'ind_var43_emit_ult1', 'ind_var43_recib_ult1', 'var21', 'num_var2_0_ult1', 'num_var2_ult1', 'num_aport_var13_hace3', 'num_aport_var13_ult1', 'num_aport_var17_hace3', 'num_aport_var17_ult1', 'num_aport_var33_hace3', 'num_aport_var33_ult1', 'num_var7_emit_ult1', 'num_var7_recib_ult1', 'num_compra_var44_hace3', 'num_compra_var44_ult1', 'num_ent_var16_ult1', 'num_var22_hace2', 'num_var22_hace3', 'num_var22_ult1', 'num_var22_ult3', 'num_med_var22_ult3', 'num_med_var45_ult3', 'num_meses_var5_ult3', 'num_meses_var8_ult3', 'num_meses_var12_ult3', 'num_meses_var13_corto_ult3', 'num_meses_var13_largo_ult3', 'num_meses_var13_medio_ult3', 'num_meses_var17_ult3', 'num_meses_var29_ult3', 'num_meses_var33_ult3', 'num_meses_var39_vig_ult3', 'num_meses_var44_ult3', 'num_op_var39_comer_ult1', 'num_op_var39_comer_ult3', 'num_op_var40_comer_ult1', 'num_op_var40_comer_ult3', 'num_op_var40_efect_ult1', 'num_op_var40_efect_ult3', 'num_op_var41_comer_ult1', 'num_op_var41_comer_ult3', 'num_op_var41_efect_ult1', 'num_op_var41_efect_ult3', 'num_op_var39_efect_ult1', 'num_op_var39_efect_ult3', 'num_reemb_var13_hace3', 'num_reemb_var13_ult1', 'num_reemb_var17_hace3', 'num_reemb_var17_ult1', 'num_reemb_var33_hace3', 'num_reemb_var33_ult1', 'num_sal_var16_ult1', 'num_var43_emit_ult1', 'num_var43_recib_ult1', 'num_trasp_var11_ult1', 'num_trasp_var17_in_hace3', 'num_trasp_var17_in_ult1', 'num_trasp_var17_out_hace3', 'num_trasp_var17_out_ult1', 'num_trasp_var33_in_hace3', 'num_trasp_var33_in_ult1', 'num_trasp_var33_out_hace3', 'num_trasp_var33_out_ult1', 'num_venta_var44_hace3', 'num_venta_var44_ult1', 'num_var45_hace2', 'num_var45_hace3', 'num_var45_ult1', 'num_var45_ult3', 'saldo_var2_ult1', 'saldo_medio_var13_medio_hace3', 'saldo_medio_var13_medio_ult1', 'TARGET']\n",
      "\n",
      "Continuous cols: ['imp_ent_var16_ult1', 'imp_op_var39_comer_ult1', 'imp_op_var39_comer_ult3', 'imp_op_var40_comer_ult1', 'imp_op_var40_comer_ult3', 'imp_op_var40_efect_ult1', 'imp_op_var40_efect_ult3', 'imp_op_var40_ult1', 'imp_op_var41_comer_ult1', 'imp_op_var41_comer_ult3', 'imp_op_var41_efect_ult1', 'imp_op_var41_efect_ult3', 'imp_op_var41_ult1', 'imp_op_var39_efect_ult1', 'imp_op_var39_efect_ult3', 'imp_op_var39_ult1', 'imp_sal_var16_ult1', 'saldo_var1', 'saldo_var5', 'saldo_var6', 'saldo_var8', 'saldo_var12', 'saldo_var13_corto', 'saldo_var13_largo', 'saldo_var13', 'saldo_var14', 'saldo_var17', 'saldo_var20', 'saldo_var24', 'saldo_var26', 'saldo_var25', 'saldo_var29', 'saldo_var30', 'saldo_var31', 'saldo_var32', 'saldo_var33', 'saldo_var37', 'saldo_var40', 'saldo_var42', 'saldo_var44', 'delta_imp_aport_var13_1y3', 'delta_imp_aport_var17_1y3', 'delta_imp_aport_var33_1y3', 'delta_imp_compra_var44_1y3', 'delta_imp_venta_var44_1y3', 'delta_num_aport_var13_1y3', 'delta_num_aport_var17_1y3', 'delta_num_aport_var33_1y3', 'delta_num_compra_var44_1y3', 'delta_num_venta_var44_1y3', 'imp_amort_var18_ult1', 'imp_amort_var34_ult1', 'imp_aport_var13_hace3', 'imp_aport_var13_ult1', 'imp_aport_var17_hace3', 'imp_aport_var17_ult1', 'imp_var7_emit_ult1', 'imp_var7_recib_ult1', 'imp_compra_var44_hace3', 'imp_compra_var44_ult1', 'imp_reemb_var13_ult1', 'imp_reemb_var17_hace3', 'imp_reemb_var17_ult1', 'imp_var43_emit_ult1', 'imp_trans_var37_ult1', 'imp_trasp_var17_in_hace3', 'imp_trasp_var17_in_ult1', 'imp_trasp_var17_out_ult1', 'imp_trasp_var33_in_hace3', 'imp_trasp_var33_in_ult1', 'imp_venta_var44_hace3', 'imp_venta_var44_ult1', 'saldo_medio_var5_hace2', 'saldo_medio_var5_hace3', 'saldo_medio_var5_ult1', 'saldo_medio_var5_ult3', 'saldo_medio_var8_hace2', 'saldo_medio_var8_hace3', 'saldo_medio_var8_ult1', 'saldo_medio_var8_ult3', 'saldo_medio_var12_hace2', 'saldo_medio_var12_hace3', 'saldo_medio_var12_ult1', 'saldo_medio_var12_ult3', 'saldo_medio_var13_corto_hace2', 'saldo_medio_var13_corto_hace3', 'saldo_medio_var13_corto_ult1', 'saldo_medio_var13_corto_ult3', 'saldo_medio_var13_largo_hace2', 'saldo_medio_var13_largo_hace3', 'saldo_medio_var13_largo_ult1', 'saldo_medio_var13_largo_ult3', 'saldo_medio_var13_medio_hace2', 'saldo_medio_var13_medio_ult3', 'saldo_medio_var17_hace2', 'saldo_medio_var17_hace3', 'saldo_medio_var17_ult1', 'saldo_medio_var17_ult3', 'saldo_medio_var29_hace2', 'saldo_medio_var29_hace3', 'saldo_medio_var29_ult1', 'saldo_medio_var29_ult3', 'saldo_medio_var33_hace2', 'saldo_medio_var33_hace3', 'saldo_medio_var33_ult1', 'saldo_medio_var33_ult3', 'saldo_medio_var44_hace2', 'saldo_medio_var44_hace3', 'saldo_medio_var44_ult1', 'saldo_medio_var44_ult3', 'var38']\n",
      "\n",
      "Observations:   76020\n"
     ]
    }
   ],
   "source": [
    "# go through each file and tell me what's in it\n",
    "empty = []\n",
    "binaries = []\n",
    "categoricals = []\n",
    "continuous = []\n",
    "for c in df.columns:\n",
    "    uflag = \"\"\n",
    "    nflag = \"\"\n",
    "    uni = len(pd.unique(df[c].ravel()))\n",
    "    nulls = np.count_nonzero(df[c].isnull())\n",
    "    if uni == 1:\n",
    "        empty.append(c)\n",
    "    elif uni == 2:\n",
    "        binaries.append(c)\n",
    "    if np.issubdtype(df[c].dtypes, np.integer):\n",
    "        categoricals.append(c)\n",
    "    elif np.issubdtype(df[c].dtypes, np.float):\n",
    "        continuous.append(c)\n",
    "    if obs == uni:\n",
    "        uflag = '*UNIQUE VALS PER KEY*'\n",
    "    if nulls >0 :\n",
    "        nflag = '*NULLS IN COL*'\n",
    "    print '{:30} {:d} {:30} {:30}'.format(c, uni, uflag, nflag)\n",
    "print '{:15} {:s}'.format('Singular cols:', empty)\n",
    "print ''\n",
    "print '{:15} {:s}'.format('Binary cols:', binaries)\n",
    "print ''\n",
    "print '{:15} {:s}'.format('Categorical cols:', categoricals)\n",
    "print ''\n",
    "print '{:15} {:s}'.format('Continuous cols:', continuous)\n",
    "print ''\n",
    "print '{:15} {:d}'.format('Observations:', df.shape[0])"
   ]
  },
  {
   "cell_type": "markdown",
   "metadata": {},
   "source": [
    "* Column names look fine, don't need to clean those\n",
    "* No nulls, hooray\n",
    "* Looks like no column has no unique mapping to ID\n",
    "\n",
    "Lots of empty cols, are they real? If so, ditch them."
   ]
  },
  {
   "cell_type": "code",
   "execution_count": 166,
   "metadata": {
    "collapsed": false
   },
   "outputs": [
    {
     "name": "stdout",
     "output_type": "stream",
     "text": [
      "(151838, 372)\n",
      "(151838, 338)\n"
     ]
    }
   ],
   "source": [
    "a = []\n",
    "for c in df_all.columns:\n",
    "    if df_all[c].sum() == 0:\n",
    "        a.append(c)\n",
    "if len(empty) == len(set(a) & set(empty)):\n",
    "    print df_all.shape\n",
    "    print df_all.drop(empty, 1).shape"
   ]
  },
  {
   "cell_type": "code",
   "execution_count": 167,
   "metadata": {
    "collapsed": true
   },
   "outputs": [],
   "source": [
    "df_all.drop(empty, 1, inplace=True)"
   ]
  },
  {
   "cell_type": "markdown",
   "metadata": {},
   "source": [
    "What about binary columns?"
   ]
  },
  {
   "cell_type": "code",
   "execution_count": 173,
   "metadata": {
    "collapsed": false,
    "scrolled": true
   },
   "outputs": [
    {
     "name": "stdout",
     "output_type": "stream",
     "text": [
      "ind_var1_0                    [0, 1]\n",
      "ind_var1                      [0, 1]\n",
      "ind_var5_0                    [0, 1]\n",
      "ind_var5                      [0, 1]\n",
      "ind_var6_0                    [0, 1]\n",
      "ind_var6                      [0, 1]\n",
      "ind_var8_0                    [0, 1]\n",
      "ind_var8                      [0, 1]\n",
      "ind_var12_0                   [0, 1]\n",
      "ind_var12                     [0, 1]\n",
      "ind_var13_0                   [0, 1]\n",
      "ind_var13_corto_0             [0, 1]\n",
      "ind_var13_corto               [0, 1]\n",
      "ind_var13_largo_0             [0, 1]\n",
      "ind_var13_largo               [0, 1]\n",
      "ind_var13_medio_0             [0, 1]\n",
      "ind_var13_medio               [0, 1]\n",
      "ind_var13                     [0, 1]\n",
      "ind_var14_0                   [0, 1]\n",
      "ind_var14                     [0, 1]\n",
      "ind_var17_0                   [0, 1]\n",
      "ind_var17                     [0, 1]\n",
      "ind_var18_0                   [0, 1]\n",
      "ind_var18                     [0, 1]\n",
      "ind_var19                     [0, 1]\n",
      "ind_var20_0                   [0, 1]\n",
      "ind_var20                     [0, 1]\n",
      "ind_var24_0                   [0, 1]\n",
      "ind_var24                     [0, 1]\n",
      "ind_var25_cte                 [0, 1]\n",
      "ind_var26_0                   [0, 1]\n",
      "ind_var26_cte                 [0, 1]\n",
      "ind_var26                     [0, 1]\n",
      "ind_var25_0                   [0, 1]\n",
      "ind_var25                     [0, 1]\n",
      "ind_var29_0                   [0, 1]\n",
      "ind_var29                     [0, 1]\n",
      "ind_var30_0                   [0, 1]\n",
      "ind_var30                     [0, 1]\n",
      "ind_var31_0                   [0, 1]\n",
      "ind_var31                     [0, 1]\n",
      "ind_var32_cte                 [0, 1]\n",
      "ind_var32_0                   [0, 1]\n",
      "ind_var32                     [0, 1]\n",
      "ind_var33_0                   [0, 1]\n",
      "ind_var33                     [0, 1]\n",
      "ind_var34_0                   [0, 1]\n",
      "ind_var34                     [0, 1]\n",
      "ind_var37_cte                 [0, 1]\n",
      "ind_var37_0                   [0, 1]\n",
      "ind_var37                     [0, 1]\n",
      "ind_var39_0                   [0, 1]\n",
      "ind_var40_0                   [0, 1]\n",
      "ind_var40                     [0, 1]\n",
      "ind_var41_0                   [0, 1]\n",
      "ind_var39                     [0, 1]\n",
      "ind_var44_0                   [0, 1]\n",
      "ind_var44                     [0, 1]\n",
      "num_var6_0                    [0, 1, 3]\n",
      "num_var6                      [0, 1, 3]\n",
      "num_var8                      [0, 1, 3]\n",
      "num_var13_medio_0             [0, 1, 3]\n",
      "num_var13_medio               [0, 1, 3]\n",
      "num_var18_0                   [0, 1]\n",
      "num_var18                     [0, 1]\n",
      "num_var20_0                   [0, 1, 3]\n",
      "num_var20                     [0, 1, 3]\n",
      "num_var29_0                   [0, 1, 3]\n",
      "num_var29                     [0, 1, 3]\n",
      "num_var34_0                   [0, 1]\n",
      "num_var34                     [0, 1]\n",
      "num_var40                     [0, 1, 3]\n",
      "num_var39                     [0, 1, 3]\n",
      "num_var44                     [0, 1, 3, 6]\n",
      "delta_imp_amort_var18_1y3     [0, 1]\n",
      "delta_imp_amort_var34_1y3     [0, 1]\n",
      "delta_imp_reemb_var13_1y3     [0, 1]\n",
      "delta_imp_reemb_var33_1y3     [0, 1]\n",
      "delta_imp_trasp_var17_out_1y3 [0, 1]\n",
      "delta_imp_trasp_var33_out_1y3 [0, 1]\n",
      "delta_num_reemb_var13_1y3     [0, 1]\n",
      "delta_num_reemb_var33_1y3     [0, 1]\n",
      "delta_num_trasp_var17_out_1y3 [0, 1]\n",
      "delta_num_trasp_var33_out_1y3 [0, 1]\n",
      "imp_reemb_var17_hace3         [0.0, 1.0, 12027.15]\n",
      "imp_reemb_var33_ult1          [0, 1]\n",
      "imp_trasp_var33_out_ult1      [0.0, 1.0]\n",
      "ind_var7_emit_ult1            [0, 1]\n",
      "ind_var7_recib_ult1           [0, 1]\n",
      "ind_var10_ult1                [0, 1]\n",
      "ind_var10cte_ult1             [0, 1]\n",
      "ind_var9_cte_ult1             [0, 1]\n",
      "ind_var9_ult1                 [0, 1]\n",
      "ind_var43_emit_ult1           [0, 1]\n",
      "ind_var43_recib_ult1          [0, 1]\n",
      "num_var7_emit_ult1            [0, 1, 3, 9]\n",
      "num_meses_var13_medio_ult3    [0, 1, 2]\n",
      "num_reemb_var13_ult1          [0, 1]\n",
      "num_reemb_var17_hace3         [0, 1, 3]\n",
      "num_reemb_var33_ult1          [0, 1]\n",
      "num_trasp_var17_in_ult1       [0, 1, 3, 6]\n",
      "num_trasp_var17_out_ult1      [0, 1]\n",
      "num_trasp_var33_in_hace3      [0, 1, 3]\n",
      "num_trasp_var33_out_ult1      [0, 1]\n",
      "saldo_medio_var29_hace3       [0.0, 1.0, 145.19999999999999]\n",
      "TARGET                        [0.0, 1.0, nan]\n"
     ]
    }
   ],
   "source": [
    "val = []\n",
    "for c in binaries:\n",
    "    print '{:30}{}'.format(c, sorted(df_all[c].unique()))"
   ]
  },
  {
   "cell_type": "markdown",
   "metadata": {},
   "source": [
    "What are all these 9999999999? Are they junk numbers?"
   ]
  },
  {
   "cell_type": "code",
   "execution_count": 174,
   "metadata": {
    "collapsed": false
   },
   "outputs": [],
   "source": [
    "all_nines = []\n",
    "for c in binaries:\n",
    "    cond = df_all[c] == 9999999999\n",
    "    a = len(df_all[cond])\n",
    "    b = len(df_all[(df_all[c] > 0)])\n",
    "    if a > 0:\n",
    "        print '{:30}{:5d}{:5d}'.format(c, a, b)\n",
    "        all_nines.append(c)"
   ]
  },
  {
   "cell_type": "markdown",
   "metadata": {},
   "source": [
    "Cols with all nines have a patternt to them, and there aren't many. Convert to 0, in which case the columns will be all 0's and need to be dropped, or convert to 1's and keep as an attribute? Keep."
   ]
  },
  {
   "cell_type": "code",
   "execution_count": 175,
   "metadata": {
    "collapsed": false
   },
   "outputs": [
    {
     "data": {
      "text/plain": [
       "[]"
      ]
     },
     "execution_count": 175,
     "metadata": {},
     "output_type": "execute_result"
    }
   ],
   "source": [
    "all_nines"
   ]
  },
  {
   "cell_type": "code",
   "execution_count": 172,
   "metadata": {
    "collapsed": false
   },
   "outputs": [],
   "source": [
    "for c in all_nines:\n",
    "    cond = df_all[c] == 9999999999\n",
    "    df_all[cond] = 1"
   ]
  },
  {
   "cell_type": "markdown",
   "metadata": {},
   "source": [
    "# Save"
   ]
  },
  {
   "cell_type": "code",
   "execution_count": 176,
   "metadata": {
    "collapsed": false
   },
   "outputs": [],
   "source": [
    "# save to hdf5 for easier loading later\n",
    "hdf = pd.HDFStore(hdf_file)\n",
    "hdf.put('df_test', df_test)\n",
    "hdf.put('df_train', df_train)\n",
    "hdf.put('df_all', df_all)\n",
    "hdf.close()"
   ]
  },
  {
   "cell_type": "markdown",
   "metadata": {
    "heading_collapsed": true
   },
   "source": [
    "# Attribute Summaries"
   ]
  },
  {
   "cell_type": "markdown",
   "metadata": {
    "heading_collapsed": true
   },
   "source": [
    "## Relations"
   ]
  },
  {
   "cell_type": "code",
   "execution_count": null,
   "metadata": {
    "collapsed": false
   },
   "outputs": [],
   "source": [
    "df_all[['id','location', 'fault_severity']].scatter_matrix()"
   ]
  },
  {
   "cell_type": "markdown",
   "metadata": {},
   "source": [
    "Looks like locations 100-500 don't produce any fault_sev==2 events. This could be useful to a model, so maybe don't throw out location as I had previously."
   ]
  },
  {
   "cell_type": "code",
   "execution_count": null,
   "metadata": {
    "collapsed": false,
    "scrolled": true
   },
   "outputs": [],
   "source": [
    "df_all.groupby(['location', 'fault_severity']).size()"
   ]
  },
  {
   "cell_type": "markdown",
   "metadata": {
    "heading_collapsed": true
   },
   "source": [
    "## Histograms"
   ]
  },
  {
   "cell_type": "code",
   "execution_count": null,
   "metadata": {
    "collapsed": false,
    "scrolled": false
   },
   "outputs": [],
   "source": [
    "# build axes\n",
    "mpl_fig = plt.figure()\n",
    "ax1 = mpl_fig.add_subplot(411)\n",
    "ax2 = mpl_fig.add_subplot(412)\n",
    "ax3 = mpl_fig.add_subplot(413)\n",
    "ax4 = mpl_fig.add_subplot(414)\n",
    "axs = [ax1, ax2, ax3, ax4]\n",
    "\n",
    "# iterate over each\n",
    "for cond in [True, False]:\n",
    "    for i, b in enumerate(attributes):\n",
    "        y = df_all[(df_all.is_train == cond)].filter(regex=b).apply(pd.value_counts).fillna(0).T[0]\n",
    "        y = 100.*(1.0-(y/df_all[(df_all.is_train == cond)].shape[0]))\n",
    "        x = range(1, len(y)+1)\n",
    "        axs[i].bar(x, y, label=attributes[i])\n",
    "        axs[i].set_ylabel(attributes[i])\n",
    "py.iplot_mpl(mpl_fig, strip_style=True)"
   ]
  },
  {
   "cell_type": "markdown",
   "metadata": {},
   "source": [
    "Distributions looks similar, so train will cv w/ test. Any structure in sequence of ID's?"
   ]
  },
  {
   "cell_type": "markdown",
   "metadata": {
    "heading_collapsed": true
   },
   "source": [
    "## Sequencing"
   ]
  },
  {
   "cell_type": "code",
   "execution_count": null,
   "metadata": {
    "collapsed": false
   },
   "outputs": [],
   "source": [
    "df = df_all[['id', 'fault_severity', 'location']].set_index('id')\n",
    "df.iplot(subplots=True, shape=(2,1), shared_xaxes=True)"
   ]
  },
  {
   "cell_type": "markdown",
   "metadata": {},
   "source": [
    "Both look like noise to me, gonna leave it for now. What about correlations among the various codes?"
   ]
  },
  {
   "cell_type": "markdown",
   "metadata": {
    "heading_collapsed": true
   },
   "source": [
    "## Correlations"
   ]
  },
  {
   "cell_type": "code",
   "execution_count": null,
   "metadata": {
    "collapsed": true
   },
   "outputs": [],
   "source": [
    "strongly_correlated = []\n",
    "corr_thresh = 0.12"
   ]
  },
  {
   "cell_type": "code",
   "execution_count": null,
   "metadata": {
    "collapsed": false,
    "scrolled": false
   },
   "outputs": [],
   "source": [
    "a = ['severity_type', 'event_type', 'resource_type']\n",
    "for b in a:\n",
    "\n",
    "    # correlation matrix\n",
    "    c = df_all.filter(regex=b).copy()\n",
    "    corr = c.corr(min_periods=len(c.columns)/10)\n",
    "\n",
    "    # colormap\n",
    "    cmap = sns.light_palette(\"navy\", as_cmap=True, reverse=True)\n",
    "    \n",
    "    # clustered heatmap of distances w/o mask\n",
    "    # dist 0 --> close, 1 --> distant\n",
    "    dsim = 1.0-np.abs(corr)\n",
    "    \n",
    "    # find degenerate params\n",
    "    mask = np.ones(dsim.shape,dtype='bool')\n",
    "    mask[np.triu_indices(len(dsim))] = False\n",
    "    x = ((dsim < corr_thresh) & mask).values.nonzero()\n",
    "    a = zip(x[0], x[1])\n",
    "    for x, y in a:\n",
    "        i1 = dsim.index[x]\n",
    "        i2 = dsim.columns[y]\n",
    "        strongly_correlated.append((i1, i2))\n",
    "\n",
    "    # plot matrix\n",
    "    if len(dsim) > 10:\n",
    "        annot=False\n",
    "    else:\n",
    "        annot=True\n",
    "    plt.figure(figsize=(15, 12))\n",
    "    g = sns.clustermap(data=dsim,\n",
    "                       method='complete',\n",
    "                       metric='correlation',\n",
    "                       cmap=cmap, linewidths=0.5, vmin=0.0, vmax = 1.0,\n",
    "                       annot=annot, fmt='.2f', annot_kws={'size':'10'})\n",
    "    plt.setp(g.ax_heatmap.yaxis.get_majorticklabels(), rotation=0)"
   ]
  },
  {
   "cell_type": "code",
   "execution_count": null,
   "metadata": {
    "collapsed": true
   },
   "outputs": [],
   "source": [
    "# log_feature specific\n",
    "c = df_all.filter(regex='log_feature').copy()\n",
    "log_corr = c.corr(min_periods=len(c.columns)/10)\n",
    "log_dsim = 1.0-np.abs(log_corr)"
   ]
  },
  {
   "cell_type": "code",
   "execution_count": null,
   "metadata": {
    "collapsed": true
   },
   "outputs": [],
   "source": [
    "mask = np.ones(log_dsim.shape,dtype='bool')\n",
    "mask[np.triu_indices(len(log_dsim))] = False\n",
    "x = ((log_dsim < corr_thresh) & mask).values.nonzero()\n",
    "a = zip(x[0], x[1])\n",
    "for x, y in a:\n",
    "    i1 = log_dsim.index[x]\n",
    "    i2 = log_dsim.columns[y]\n",
    "    strongly_correlated.append((i1, i2))"
   ]
  },
  {
   "cell_type": "code",
   "execution_count": null,
   "metadata": {
    "collapsed": false,
    "scrolled": false
   },
   "outputs": [],
   "source": [
    "cmap = sns.light_palette(\"navy\", as_cmap=True, reverse=True)\n",
    "g = sns.clustermap(data=log_dsim,\n",
    "                   method='complete',\n",
    "                   metric='correlation',\n",
    "                   cmap=cmap,\n",
    "                   xticklabels=False, yticklabels=False,\n",
    "                   linewidths=0.0,\n",
    "                   vmin=0.0,\n",
    "                   vmax = 1.0)"
   ]
  },
  {
   "cell_type": "code",
   "execution_count": null,
   "metadata": {
    "collapsed": true
   },
   "outputs": [],
   "source": [
    "# log_feature specific\n",
    "a = '|'.join(['severity_type', 'event_type', 'resource_type', 'log_feature'])\n",
    "c = df_all.filter(regex=a).copy()\n",
    "all_corr = c.corr(min_periods=len(c.columns)/10)\n",
    "all_dsim = 1.0 - np.abs(all_corr)"
   ]
  },
  {
   "cell_type": "code",
   "execution_count": null,
   "metadata": {
    "collapsed": false
   },
   "outputs": [],
   "source": [
    "mask = np.ones(all_dsim.shape,dtype='bool')\n",
    "mask[np.triu_indices(len(all_dsim))] = False\n",
    "x = ((all_dsim < 0.03) & mask).values.nonzero()\n",
    "a = zip(x[0], x[1])\n",
    "for x, y in a:\n",
    "    i1 = all_dsim.index[x]\n",
    "    i2 = all_dsim.columns[y]\n",
    "    if i1[:5] != i2[:5]:\n",
    "        strongly_correlated.append((i1, i2))"
   ]
  },
  {
   "cell_type": "code",
   "execution_count": null,
   "metadata": {
    "collapsed": false
   },
   "outputs": [],
   "source": [
    "plt.figure(figsize=(22, 20))\n",
    "cmap = sns.light_palette(\"navy\", as_cmap=True, reverse=True)\n",
    "g = sns.clustermap(data=all_dsim,\n",
    "                   method='complete',\n",
    "                   metric='correlation',\n",
    "                   cmap=cmap,\n",
    "                   xticklabels=False, yticklabels=False,\n",
    "                   linewidths=0.0,\n",
    "                   vmin=0.0,\n",
    "                   vmax = 1.0)"
   ]
  },
  {
   "cell_type": "code",
   "execution_count": null,
   "metadata": {
    "collapsed": false,
    "scrolled": true
   },
   "outputs": [],
   "source": [
    "print len(strongly_correlated)\n",
    "strongly_correlated"
   ]
  },
  {
   "cell_type": "markdown",
   "metadata": {},
   "source": [
    "The serverity types are mostly anti-correlated except type 1 and 2.\n",
    "\n",
    "There is interesting structure in the resource and event types. Makes me more curious about how these events are networked, i.e. communicating to each other? Build out as network problem? Can't: id and loc are 1:1 so the only connections will be among events that are the same, in that they have the same coding across all types. I don't see that as informative to a model.\n",
    "\n",
    "Log features are also clustered.\n",
    "\n",
    "**But, this is clearly a well-defined classification problem.**\n",
    "\n",
    "Want to see chains of correlations, e.g. [a,b]...[b,c], does that mean [a,c]? Run this..."
   ]
  },
  {
   "cell_type": "code",
   "execution_count": null,
   "metadata": {
    "collapsed": false
   },
   "outputs": [],
   "source": [
    "# most common features in corr stack\n",
    "sc_pairs = list(sum(strongly_correlated, ()))\n",
    "Counter(sc_pairs).most_common(10)"
   ]
  },
  {
   "cell_type": "code",
   "execution_count": null,
   "metadata": {
    "collapsed": false
   },
   "outputs": [],
   "source": [
    "chains = []\n",
    "for s in sorted(set(sum(strongly_correlated, ()))):\n",
    "    tmp = []\n",
    "    for sc in strongly_correlated:\n",
    "        if s in sc:\n",
    "            tmp.append(sc)\n",
    "    \n",
    "    chains.append(tuple(sorted(list(set(sum(tmp,()))))))"
   ]
  },
  {
   "cell_type": "code",
   "execution_count": null,
   "metadata": {
    "collapsed": false
   },
   "outputs": [],
   "source": [
    "print 'Strong correlations: ', len(strongly_correlated)\n",
    "print 'Resulting chains: ', len(set(chains))"
   ]
  },
  {
   "cell_type": "code",
   "execution_count": null,
   "metadata": {
    "collapsed": false
   },
   "outputs": [],
   "source": [
    "# for each chain\n",
    "# create super feature\n",
    "# find rows where all chain feature values == 1\n",
    "# set super feature col == 1\n",
    "\n",
    "a=['log_feature_160', 'log_feature_44']\n",
    "df = df_train.copy()\n",
    "df['super'] = np.zeros(len(df_train))\n",
    "for c in a:\n",
    "    df.super[(df[c] > 0)] = 1\n",
    "    \n",
    "d.sales[d.sales==24] = 100"
   ]
  },
  {
   "cell_type": "markdown",
   "metadata": {
    "heading_collapsed": true
   },
   "source": [
    "## Averages"
   ]
  },
  {
   "cell_type": "code",
   "execution_count": null,
   "metadata": {
    "collapsed": true
   },
   "outputs": [],
   "source": [
    "df = df_all[(df_all.is_train==True)].copy()"
   ]
  },
  {
   "cell_type": "code",
   "execution_count": null,
   "metadata": {
    "collapsed": false
   },
   "outputs": [],
   "source": [
    "sorted(df.fault_severity.unique())"
   ]
  },
  {
   "cell_type": "code",
   "execution_count": null,
   "metadata": {
    "collapsed": false,
    "scrolled": false
   },
   "outputs": [],
   "source": [
    "names = []\n",
    "pers = []\n",
    "avgs = []\n",
    "stds = []\n",
    "for a in attributes:\n",
    "    cnt = len(a)\n",
    "    for c in filter(lambda s: s[:cnt] == a, df.columns):\n",
    "        d = df[(df[c]>0)]\n",
    "        names.append(c)\n",
    "        pers.append(100.*float(d.shape[0])/float(df.shape[0]))\n",
    "        avgs.append(d.fault_severity.mean())\n",
    "        stds.append(d.fault_severity.std())"
   ]
  },
  {
   "cell_type": "code",
   "execution_count": null,
   "metadata": {
    "collapsed": false
   },
   "outputs": [],
   "source": [
    "fs = pd.DataFrame({'%tot':pers, 'avg':avgs, 'std':stds}, index=names).fillna(0)"
   ]
  },
  {
   "cell_type": "code",
   "execution_count": null,
   "metadata": {
    "collapsed": false
   },
   "outputs": [],
   "source": [
    "fsv = [0, 1, 2]\n",
    "cnt = 0\n",
    "drop_cols = {}\n",
    "for n in fsv:\n",
    "    a = fs[(fs['avg']==n) & (fs['std']==0)]\n",
    "    drop_cols[str(n)] = list(a.index)\n",
    "    cnt += a.shape[0]\n",
    "    print n, a.shape[0]\n",
    "print \"Drop \", cnt, \" of \", fs.shape[0]\n",
    "print \"Keeping \", fs.shape[0]-cnt, \" columns\""
   ]
  },
  {
   "cell_type": "markdown",
   "metadata": {},
   "source": [
    "So there are 192 attributes with a set fault severity value and standard dev of zero. So what if I build a model for events where all those features are 0 with those features dropped. So the fitting logic then becomes:\n",
    "\n",
    "```python\n",
    "known_fs = {}\n",
    "for fs, cols in drop_col.iteritems():\n",
    "    for col in cols:\n",
    "        for id in df[df[col] > 0]['id']:\n",
    "            known_fs[id] = fs        \n",
    "df = pd.get_dummies(known_fs)\n",
    "```"
   ]
  },
  {
   "cell_type": "markdown",
   "metadata": {
    "heading_collapsed": true
   },
   "source": [
    "## Uniqueness"
   ]
  },
  {
   "cell_type": "markdown",
   "metadata": {
    "heading_collapsed": true
   },
   "source": [
    "### Event ID"
   ]
  },
  {
   "cell_type": "code",
   "execution_count": null,
   "metadata": {
    "collapsed": false,
    "scrolled": true
   },
   "outputs": [],
   "source": [
    "# remove columns not characterizing events\n",
    "cols = [c for c in df_all.columns if any(c[:5] in a for a in attributes)]\n",
    "df = df_all[cols]\n",
    "\n",
    "# ensure all are binary\n",
    "df[(df != 0)] = 1\n",
    "\n",
    "# convert binary strings to a 36-bit hashed md5 hex code for easier handling\n",
    "df = df.apply(lambda x: int(hashlib.md5(''.join([e for e in x.astype(int).astype(str)])).hexdigest(), 36), axis=1)\n",
    "\n",
    "# attach back\n",
    "df_all['evt_id'] = df.astype(str)\n",
    "\n",
    "# save group sizes\n",
    "dsize = len(df_all)"
   ]
  },
  {
   "cell_type": "markdown",
   "metadata": {
    "heading_collapsed": true
   },
   "source": [
    "### Event ID(Fault Severity)"
   ]
  },
  {
   "cell_type": "code",
   "execution_count": null,
   "metadata": {
    "collapsed": false
   },
   "outputs": [],
   "source": [
    "# a stats handler for grouping\n",
    "def get_stats(group):\n",
    "    return {'evt_fs_sprd': group.max() - group.min(),\n",
    "            'evt_cnt': len(group),\n",
    "            'evt_freq': len(group)/float(dsize),\n",
    "            'evt_fs_mean': group.mean(),\n",
    "            'evt_fs_std': group.std()\n",
    "           }\n",
    "\n",
    "# build stats for each type of event\n",
    "events = df_all['fault_severity'].\\\n",
    "            groupby(df_all['evt_id']).\\\n",
    "            apply(get_stats).\\\n",
    "            unstack().\\\n",
    "            sort_values(by='evt_freq', ascending=False).reset_index()"
   ]
  },
  {
   "cell_type": "code",
   "execution_count": null,
   "metadata": {
    "collapsed": false
   },
   "outputs": [],
   "source": [
    "events.drop('evt_id', 1).iplot(kind='histogram', barmode='stack', histnorm='percent')"
   ]
  },
  {
   "cell_type": "code",
   "execution_count": null,
   "metadata": {
    "collapsed": false
   },
   "outputs": [],
   "source": [
    "# categorize the events based on freq\n",
    "bins = [0, 0.00475, 0.009, 1]\n",
    "group_names = ['rare', 'sparse', 'common']\n",
    "events['evt_cat'] = pd.cut(events['evt_freq'], bins, labels=group_names)"
   ]
  },
  {
   "cell_type": "code",
   "execution_count": null,
   "metadata": {
    "collapsed": false
   },
   "outputs": [],
   "source": [
    "events.iplot(kind='bubble', x='mean', y='freq', size='cnt',\n",
    "             text='hexcode', categories='event_category',\n",
    "             xTitle='Mean Fault Severity', yTitle='Type Frequency')"
   ]
  },
  {
   "cell_type": "markdown",
   "metadata": {
    "heading_collapsed": true
   },
   "source": [
    "### Locations(Fault Severity)"
   ]
  },
  {
   "cell_type": "code",
   "execution_count": null,
   "metadata": {
    "collapsed": false
   },
   "outputs": [],
   "source": [
    "# a stats handler for grouping\n",
    "def get_stats(group):\n",
    "    return {'loc_fs_sprd': group.max() - group.min(),\n",
    "            'loc_cnt': len(group),\n",
    "            'loc_freq': len(group)/float(dsize),\n",
    "            'loc_fs_mean': group.mean(),\n",
    "            'loc_fs_std': group.std()\n",
    "           }\n",
    "\n",
    "locations = df_all['fault_severity'].\\\n",
    "                groupby(df_all['location']).\\\n",
    "                apply(get_stats).\\\n",
    "                unstack().\\\n",
    "                sort_values(by='loc_freq', ascending=False).reset_index()"
   ]
  },
  {
   "cell_type": "code",
   "execution_count": null,
   "metadata": {
    "collapsed": false
   },
   "outputs": [],
   "source": [
    "locations.drop('location', 1).iplot(kind='histogram', barmode='stack', histnorm='percent')"
   ]
  },
  {
   "cell_type": "code",
   "execution_count": null,
   "metadata": {
    "collapsed": false
   },
   "outputs": [],
   "source": [
    "# categorize the events based on freq\n",
    "bins = [0, 0.0013, 0.004, 1]\n",
    "group_names = ['rare', 'sparse', 'common']\n",
    "locations['loc_cat'] = pd.cut(locations['loc_freq'], bins, labels=group_names)"
   ]
  },
  {
   "cell_type": "code",
   "execution_count": null,
   "metadata": {
    "collapsed": false
   },
   "outputs": [],
   "source": [
    "locations.iplot(kind='bubble', x='loc_fs_mean', y='loc_freq',\n",
    "                size='loc_cnt', text='location', categories='location_category',\n",
    "                xTitle='Mean Fault Severity', yTitle='Location Frequency')"
   ]
  },
  {
   "cell_type": "markdown",
   "metadata": {
    "heading_collapsed": true
   },
   "source": [
    "## Culling"
   ]
  },
  {
   "cell_type": "code",
   "execution_count": null,
   "metadata": {
    "collapsed": false
   },
   "outputs": [],
   "source": [
    "df_culled = df_all.copy()\n",
    "for k, v in drop_cols.iteritems():\n",
    "    for c in v:\n",
    "        df_culled = df_culled[df_culled[c] == 0]\n",
    "        df_culled.drop(c, 1, inplace=True)\n",
    "print \"Removed \", df_all.shape[0] - df_culled.shape[0], \" rows\"\n",
    "print \"Dropped \", df_all.shape[1] - df_culled.shape[1], \" cols\""
   ]
  },
  {
   "cell_type": "code",
   "execution_count": null,
   "metadata": {
    "collapsed": false
   },
   "outputs": [],
   "source": [
    "hdf = pd.HDFStore(hdf_file)\n",
    "hdf.put('df_culled', df_culled)\n",
    "hdf.close()"
   ]
  },
  {
   "cell_type": "code",
   "execution_count": null,
   "metadata": {
    "collapsed": false
   },
   "outputs": [],
   "source": [
    "known_fs = {}\n",
    "for fs, cols in drop_cols.iteritems():\n",
    "    for col in cols:\n",
    "        for id in df_all[(df_all[col] > 0) & (df_all.is_train==False)]['id']:\n",
    "            known_fs[id] = fs\n",
    "df_known = pd.Series(known_fs, name='predict')\n",
    "df_known.index.name = 'id'\n",
    "df_known = pd.get_dummies(df_known, prefix='predict').reset_index()"
   ]
  },
  {
   "cell_type": "code",
   "execution_count": null,
   "metadata": {
    "collapsed": false
   },
   "outputs": [],
   "source": [
    "df_known.head()"
   ]
  },
  {
   "cell_type": "code",
   "execution_count": null,
   "metadata": {
    "collapsed": false
   },
   "outputs": [],
   "source": [
    "check = df_known['id'].head()\n",
    "for a in check:\n",
    "    print known_fs[a]"
   ]
  },
  {
   "cell_type": "code",
   "execution_count": null,
   "metadata": {
    "collapsed": true
   },
   "outputs": [],
   "source": [
    "hdf = pd.HDFStore(hdf_file)\n",
    "hdf.put('df_known', df_known)\n",
    "hdf.close()"
   ]
  },
  {
   "cell_type": "markdown",
   "metadata": {},
   "source": [
    "**NB: in the end, the shapes of culled+known = df_all**"
   ]
  },
  {
   "cell_type": "code",
   "execution_count": null,
   "metadata": {
    "collapsed": false
   },
   "outputs": [],
   "source": [
    "assert df_known.shape[0] + df_culled[(df_culled.is_train==False)].shape[0] == df_all[(df_all.is_train==False)].shape[0], \"this is wrong\""
   ]
  },
  {
   "cell_type": "markdown",
   "metadata": {},
   "source": [
    "The known fault severity values are now stored in df_known in the hdf5, so let's predict the ones we don't know. K.I.S.S. == random forest. "
   ]
  },
  {
   "cell_type": "markdown",
   "metadata": {
    "heading_collapsed": true
   },
   "source": [
    "## Merge"
   ]
  },
  {
   "cell_type": "code",
   "execution_count": null,
   "metadata": {
    "collapsed": true
   },
   "outputs": [],
   "source": [
    "train_merge = pd.read_csv('data/train_merge.csv')\n",
    "test_merge = pd.read_csv('data/test_merge.csv')"
   ]
  },
  {
   "cell_type": "code",
   "execution_count": null,
   "metadata": {
    "collapsed": false
   },
   "outputs": [],
   "source": [
    "# merge loc info and drop dupe cols\n",
    "locations.location = locations.location.astype('int64')\n",
    "a = pd.merge(train_merge, locations, how = 'left', left_on = 'numloc', right_on = 'location')\n",
    "b = pd.merge(df_all[['id', 'evt_id']], events, how = 'left', left_on = 'evt_id', right_on = 'evt_id')\n",
    "c = pd.merge(a, b, how = 'left', left_on = 'id', right_on = 'id')\n",
    "c.drop(['loc_nid', 'numloc'], 1, inplace=True)\n",
    "train_merge = c.copy()"
   ]
  },
  {
   "cell_type": "code",
   "execution_count": null,
   "metadata": {
    "collapsed": true
   },
   "outputs": [],
   "source": [
    "a = pd.merge(test_merge, locations, how = 'left', left_on = 'numloc', right_on = 'location')\n",
    "b = pd.merge(df_all[['id', 'evt_id']], events, how = 'left', left_on = 'evt_id', right_on = 'evt_id')\n",
    "c = pd.merge(a, b, how = 'left', left_on = 'id', right_on = 'id')\n",
    "c.drop(['loc_nid', 'numloc'], 1, inplace=True)\n",
    "test_merge = c.copy()"
   ]
  },
  {
   "cell_type": "code",
   "execution_count": null,
   "metadata": {
    "collapsed": false
   },
   "outputs": [],
   "source": [
    "# one hot encode\n",
    "train_merge = pd.get_dummies(train_merge, columns=['loc_cat', 'evt_cat'])\n",
    "test_merge = pd.get_dummies(test_merge, columns=['loc_cat', 'evt_cat'])"
   ]
  },
  {
   "cell_type": "code",
   "execution_count": null,
   "metadata": {
    "collapsed": false,
    "scrolled": true
   },
   "outputs": [],
   "source": [
    "from sklearn.preprocessing import MinMaxScaler\n",
    "train_merge.location = train_merge[['location']].apply(lambda x: MinMaxScaler().fit_transform(x))\n",
    "test_merge.location = test_merge[['location']].apply(lambda x: MinMaxScaler().fit_transform(x))"
   ]
  },
  {
   "cell_type": "code",
   "execution_count": null,
   "metadata": {
    "collapsed": true
   },
   "outputs": [],
   "source": [
    "train_merge.to_csv('data/train_master.csv', index=False)\n",
    "test_merge.to_csv('data/test_master.csv', index=False)"
   ]
  },
  {
   "cell_type": "markdown",
   "metadata": {
    "collapsed": true,
    "heading_collapsed": true
   },
   "source": [
    "# Scratch"
   ]
  },
  {
   "cell_type": "raw",
   "metadata": {
    "collapsed": true
   },
   "source": [
    "library(xgboost)\n",
    "library(Matrix)\n",
    "\n",
    "set.seed(1234)\n",
    "\n",
    "train <- read.csv(\"../input/train.csv\")\n",
    "test  <- read.csv(\"../input/test.csv\")\n",
    "\n",
    "##### Removing IDs\n",
    "train$ID <- NULL\n",
    "test.id <- test$ID\n",
    "test$ID <- NULL\n",
    "\n",
    "##### Extracting TARGET\n",
    "train.y <- train$TARGET\n",
    "train$TARGET <- NULL\n",
    "\n",
    "##### 0 count per line\n",
    "count0 <- function(x) {\n",
    "    return( sum(x == 0) )\n",
    "}\n",
    "train$n0 <- apply(train, 1, FUN=count0)\n",
    "test$n0 <- apply(test, 1, FUN=count0)\n",
    "\n",
    "##### Removing constant features\n",
    "cat(\"\\n## Removing the constants features.\\n\")\n",
    "for (f in names(train)) {\n",
    "    if (length(unique(train[[f]])) == 1) {\n",
    "        cat(f, \"is constant in train. We delete it.\\n\")\n",
    "        train[[f]] <- NULL\n",
    "        test[[f]] <- NULL\n",
    "    }\n",
    "}\n",
    "\n",
    "##### Removing identical features\n",
    "features_pair <- combn(names(train), 2, simplify = F)\n",
    "toRemove <- c()\n",
    "for(pair in features_pair) {\n",
    "    f1 <- pair[1]\n",
    "    f2 <- pair[2]\n",
    "    \n",
    "    if (!(f1 %in% toRemove) & !(f2 %in% toRemove)) {\n",
    "        if (all(train[[f1]] == train[[f2]])) {\n",
    "            cat(f1, \"and\", f2, \"are equals.\\n\")\n",
    "            toRemove <- c(toRemove, f2)\n",
    "        }\n",
    "    }\n",
    "}\n",
    "\n",
    "feature.names <- setdiff(names(train), toRemove)\n",
    "\n",
    "train <- train[, feature.names]\n",
    "test <- test[, feature.names]\n",
    "\n",
    "train$TARGET <- train.y\n",
    "\n",
    "\n",
    "train <- sparse.model.matrix(TARGET ~ ., data = train)\n",
    "\n",
    "dtrain <- xgb.DMatrix(data=train, label=train.y)\n",
    "watchlist <- list(train=dtrain)\n",
    "\n",
    "param <- list(  objective           = \"binary:logistic\", \n",
    "                booster             = \"gbtree\",\n",
    "                eval_metric         = \"auc\",\n",
    "                eta                 = 0.02,\n",
    "                max_depth           = 6,\n",
    "                subsample           = 0.9,\n",
    "                colsample_bytree    = 0.85\n",
    ")\n",
    "\n",
    "clf <- xgb.train(   params              = param, \n",
    "                    data                = dtrain, \n",
    "                    nrounds             = 500, \n",
    "                    verbose             = 1,\n",
    "                    watchlist           = watchlist,\n",
    "                    maximize            = FALSE\n",
    ")\n",
    "\n",
    "\n",
    "test$TARGET <- -1\n",
    "test <- sparse.model.matrix(TARGET ~ ., data = test)\n",
    "\n",
    "preds <- predict(clf, test)\n",
    "submission <- data.frame(ID=test.id, TARGET=preds)\n",
    "cat(\"saving the submission file\\n\")\n",
    "write.csv(submission, \"submission.csv\", row.names = F)"
   ]
  }
 ],
 "metadata": {
  "gist": {
   "data": {
    "description": "notes.ipynb",
    "public": false
   },
   "id": ""
  },
  "kernelspec": {
   "display_name": "Python 2",
   "language": "python",
   "name": "python2"
  },
  "language_info": {
   "codemirror_mode": {
    "name": "ipython",
    "version": 2
   },
   "file_extension": ".py",
   "mimetype": "text/x-python",
   "name": "python",
   "nbconvert_exporter": "python",
   "pygments_lexer": "ipython2",
   "version": "2.7.10"
  }
 },
 "nbformat": 4,
 "nbformat_minor": 0
}
