{
 "cells": [
  {
   "cell_type": "code",
   "execution_count": 1,
   "metadata": {
    "collapsed": true
   },
   "outputs": [],
   "source": [
    "%matplotlib inline\n",
    "import pandas as pd\n",
    "import numpy as np\n",
    "import matplotlib.pyplot as plt\n",
    "from sklearn.tree import DecisionTreeClassifier\n",
    "from sklearn.ensemble import AdaBoostClassifier\n",
    "from sklearn.grid_search import GridSearchCV\n",
    "from utils import *"
   ]
  },
  {
   "cell_type": "code",
   "execution_count": 2,
   "metadata": {
    "collapsed": true
   },
   "outputs": [],
   "source": [
    "train = pd.read_csv('train_dataset.csv')\n",
    "test = pd.read_csv('test_dataset.csv')"
   ]
  },
  {
   "cell_type": "code",
   "execution_count": 4,
   "metadata": {
    "collapsed": false
   },
   "outputs": [],
   "source": [
    "sample = pd.read_csv('sample_submission.csv')"
   ]
  },
  {
   "cell_type": "code",
   "execution_count": 9,
   "metadata": {
    "collapsed": false
   },
   "outputs": [
    {
     "name": "stdout",
     "output_type": "stream",
     "text": [
      "0\n",
      "1\n",
      "2\n",
      "3\n",
      "4\n",
      "5\n",
      "6\n",
      "7\n",
      "8\n",
      "9\n",
      "10\n",
      "11\n",
      "12\n",
      "13\n",
      "14\n",
      "15\n",
      "16\n",
      "17\n",
      "18\n",
      "19\n",
      "20\n",
      "21\n",
      "22\n",
      "23\n",
      "24\n",
      "25\n",
      "26\n",
      "27\n",
      "28\n",
      "29\n",
      "30\n"
     ]
    }
   ],
   "source": [
    "dt_stump = DecisionTreeClassifier(max_depth=4, min_samples_leaf=1)\n",
    "adc = AdaBoostClassifier(\n",
    "    base_estimator=dt_stump,\n",
    "    learning_rate=1,\n",
    "    n_estimators=400,\n",
    "    algorithm=\"SAMME\")\n",
    "insample_scores = []\n",
    "outsample_scores = []\n",
    "insample_evaluates = []\n",
    "outsample_evaluates = []\n",
    "com_cats = []\n",
    "for rid, com_range in enumerate(full_ranges[1:]):\n",
    "    print(rid)\n",
    "    col_ids = list_sum(x[1] for x in com_range)\n",
    "    com_cat = string_sum(x[0] for x in com_range)\n",
    "    errors = get_score_evaluate(\n",
    "        train.iloc[:, col_ids].values,\n",
    "        train.loc[:, 'fault_severity'].values,\n",
    "        adc,\n",
    "        random_state=487)\n",
    "    insample_scores.append(errors[0])\n",
    "    outsample_scores.append(errors[1])\n",
    "    insample_evaluates.append(errors[2])\n",
    "    outsample_evaluates.append(errors[3])\n",
    "    com_cats.append(com_cat)\n",
    "res = pd.DataFrame(\n",
    "    {'insample_scores': insample_scores, \n",
    "     'outsample_scores': outsample_scores,\n",
    "     'insample_evaluates': insample_evaluates,\n",
    "     'outsample_evaluates': outsample_evaluates}, index=com_cats)"
   ]
  },
  {
   "cell_type": "code",
   "execution_count": 10,
   "metadata": {
    "collapsed": false
   },
   "outputs": [
    {
     "data": {
      "text/plain": [
       "AdaBoostClassifier(algorithm='SAMME',\n",
       "          base_estimator=DecisionTreeClassifier(class_weight=None, criterion='gini', max_depth=4,\n",
       "            max_features=None, max_leaf_nodes=None, min_samples_leaf=1,\n",
       "            min_samples_split=2, min_weight_fraction_leaf=0.0,\n",
       "            presort=False, random_state=None, splitter='best'),\n",
       "          learning_rate=1, n_estimators=400, random_state=None)"
      ]
     },
     "execution_count": 10,
     "metadata": {},
     "output_type": "execute_result"
    }
   ],
   "source": [
    "adc.fit(\n",
    "    train\n",
    "    .iloc[\n",
    "        :, \n",
    "        list(range(train_event_start, train_event_end)) +\n",
    "        list(range(train_feature_start, train_feature_end)) +\n",
    "        list(range(train_resource_start, train_resource_end)) +\n",
    "        list(range(train_severity_start, train_severity_end))\n",
    "        ], \n",
    "    train.loc[:, 'fault_severity'])"
   ]
  },
  {
   "cell_type": "code",
   "execution_count": 11,
   "metadata": {
    "collapsed": true
   },
   "outputs": [],
   "source": [
    "prob = adc.predict_proba(\n",
    "    test\n",
    "    .iloc[\n",
    "        :, \n",
    "        list(range(train_event_start, train_event_end)) +\n",
    "        list(range(train_feature_start, train_feature_end)) +\n",
    "        list(range(train_resource_start, train_resource_end)) +\n",
    "        list(range(train_severity_start, train_severity_end))\n",
    "        ])"
   ]
  },
  {
   "cell_type": "code",
   "execution_count": 12,
   "metadata": {
    "collapsed": false
   },
   "outputs": [],
   "source": [
    "adc_prob = pd.DataFrame({\n",
    "    'id': sample.loc[:, 'id'].values, \n",
    "    'predict_0': prob[:, 0],\n",
    "    'predict_1': prob[:, 1],\n",
    "    'predict_2': prob[:, 2]})"
   ]
  },
  {
   "cell_type": "code",
   "execution_count": 13,
   "metadata": {
    "collapsed": false
   },
   "outputs": [
    {
     "data": {
      "text/html": [
       "<div>\n",
       "<table border=\"1\" class=\"dataframe\">\n",
       "  <thead>\n",
       "    <tr style=\"text-align: right;\">\n",
       "      <th></th>\n",
       "      <th>id</th>\n",
       "      <th>predict_0</th>\n",
       "      <th>predict_1</th>\n",
       "      <th>predict_2</th>\n",
       "    </tr>\n",
       "  </thead>\n",
       "  <tbody>\n",
       "    <tr>\n",
       "      <th>0</th>\n",
       "      <td>11066</td>\n",
       "      <td>0.347273</td>\n",
       "      <td>0.348464</td>\n",
       "      <td>0.304263</td>\n",
       "    </tr>\n",
       "    <tr>\n",
       "      <th>1</th>\n",
       "      <td>18000</td>\n",
       "      <td>0.342442</td>\n",
       "      <td>0.339125</td>\n",
       "      <td>0.318434</td>\n",
       "    </tr>\n",
       "    <tr>\n",
       "      <th>2</th>\n",
       "      <td>16964</td>\n",
       "      <td>0.351915</td>\n",
       "      <td>0.343909</td>\n",
       "      <td>0.304176</td>\n",
       "    </tr>\n",
       "    <tr>\n",
       "      <th>3</th>\n",
       "      <td>4795</td>\n",
       "      <td>0.348483</td>\n",
       "      <td>0.335054</td>\n",
       "      <td>0.316462</td>\n",
       "    </tr>\n",
       "    <tr>\n",
       "      <th>4</th>\n",
       "      <td>3392</td>\n",
       "      <td>0.341679</td>\n",
       "      <td>0.341022</td>\n",
       "      <td>0.317300</td>\n",
       "    </tr>\n",
       "  </tbody>\n",
       "</table>\n",
       "</div>"
      ],
      "text/plain": [
       "      id  predict_0  predict_1  predict_2\n",
       "0  11066   0.347273   0.348464   0.304263\n",
       "1  18000   0.342442   0.339125   0.318434\n",
       "2  16964   0.351915   0.343909   0.304176\n",
       "3   4795   0.348483   0.335054   0.316462\n",
       "4   3392   0.341679   0.341022   0.317300"
      ]
     },
     "execution_count": 13,
     "metadata": {},
     "output_type": "execute_result"
    }
   ],
   "source": [
    "adc_prob.head()"
   ]
  },
  {
   "cell_type": "code",
   "execution_count": 16,
   "metadata": {
    "collapsed": false
   },
   "outputs": [],
   "source": [
    "adc_prob.to_csv('adc.csv', index=False)"
   ]
  },
  {
   "cell_type": "code",
   "execution_count": null,
   "metadata": {
    "collapsed": true
   },
   "outputs": [],
   "source": []
  }
 ],
 "metadata": {
  "kernelspec": {
   "display_name": "Python 2",
   "language": "python",
   "name": "python2"
  },
  "language_info": {
   "codemirror_mode": {
    "name": "ipython",
    "version": 2
   },
   "file_extension": ".py",
   "mimetype": "text/x-python",
   "name": "python",
   "nbconvert_exporter": "python",
   "pygments_lexer": "ipython2",
   "version": "2.7.10"
  }
 },
 "nbformat": 4,
 "nbformat_minor": 0
}
