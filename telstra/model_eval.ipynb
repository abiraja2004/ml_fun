{
 "cells": [
  {
   "cell_type": "markdown",
   "metadata": {
    "heading_collapsed": true
   },
   "source": [
    "# Imports"
   ]
  },
  {
   "cell_type": "code",
   "execution_count": 4,
   "metadata": {
    "collapsed": false,
    "scrolled": true
   },
   "outputs": [],
   "source": [
    "import warnings\n",
    "warnings.filterwarnings('ignore')\n",
    "\n",
    "from subprocess import call\n",
    "import os\n",
    "import sys\n",
    "import time\n",
    "import datetime\n",
    "import string\n",
    "import glob\n",
    "import re\n",
    "import itertools\n",
    "import math\n",
    "import random\n",
    "import operator\n",
    "\n",
    "import scipy as sp\n",
    "import numpy as np\n",
    "import pandas as pd\n",
    "\n",
    "import xgboost as xgb\n",
    "import theano as thno\n",
    "import theano.tensor as T\n",
    "from sklearn import preprocessing\n",
    "from sklearn import metrics\n",
    "from sklearn import cross_validation\n",
    "from sklearn import grid_search\n",
    "from sklearn import pipeline\n",
    "from sklearn import feature_selection\n",
    "\n",
    "import plotly.plotly as py\n",
    "import plotly.tools as tls\n",
    "import plotly.graph_objs as go\n",
    "import cufflinks as cf\n",
    "cf.set_config_file(offline=False, world_readable=True, theme='pearl')\n",
    "tls.set_credentials_file(username=os.environ.get('PLOTLY_USERNAME'), api_key=os.environ.get('PLOTLY_APIKEY'))\n",
    "\n",
    "import matplotlib.pyplot as plt\n",
    "import matplotlib\n",
    "%matplotlib inline\n",
    "\n",
    "import seaborn as sns\n",
    "sns.set(style=\"dark\", palette=\"muted\")\n",
    "sns.set_context(\"notebook\",\n",
    "                font_scale=1.5,\n",
    "                rc={\"lines.linewidth\": 2.5})\n",
    "\n",
    "rseed = random.seed(42)"
   ]
  },
  {
   "cell_type": "code",
   "execution_count": 3,
   "metadata": {
    "collapsed": false
   },
   "outputs": [
    {
     "name": "stdout",
     "output_type": "stream",
     "text": [
      "Ken Cavagnolo \n",
      "Last updated: Mon Feb 29 2016 \n",
      "\n",
      "CPython 2.7.10\n",
      "IPython 4.0.3\n",
      "\n",
      "numpy 1.10.4\n",
      "scipy 0.17.0\n",
      "pandas 0.17.1\n",
      "seaborn 0.7.0\n",
      "scikit-learn 0.17\n",
      "xgboost 0.4\n",
      "plotly 1.8.12\n",
      "\n",
      "compiler   : GCC 5.2.1 20151010\n",
      "system     : Linux\n",
      "release    : 4.2.0-23-generic\n",
      "machine    : x86_64\n",
      "processor  : x86_64\n",
      "CPU cores  : 4\n",
      "interpreter: 64bit\n",
      "host name  : ubuntu\n",
      "Git hash   : 9cf29d8ac160653f0c8cad3baf6270df604fcd54\n"
     ]
    }
   ],
   "source": [
    "%reload_ext watermark\n",
    "%watermark -a \"Ken Cavagnolo\" -n -u -v -m -h -g -p numpy,scipy,pandas,seaborn,scikit-learn,xgboost,plotly"
   ]
  },
  {
   "cell_type": "markdown",
   "metadata": {
    "heading_collapsed": true
   },
   "source": [
    "# Functions"
   ]
  },
  {
   "cell_type": "code",
   "execution_count": 7,
   "metadata": {
    "collapsed": true
   },
   "outputs": [],
   "source": [
    "def logloss(y_pred, y_true):\n",
    "    nrows = y_pred.shape[0]\n",
    "    y_pred = y_pred + 1e-15\n",
    "    probs = y_pred[list(range(nrows)), y_true.astype(int)]\n",
    "    return -np.sum(np.log(probs)) / nrows"
   ]
  },
  {
   "cell_type": "code",
   "execution_count": 8,
   "metadata": {
    "collapsed": true
   },
   "outputs": [],
   "source": [
    "def grid_report(grid_scores, n_top=5):\n",
    "    top_scores = sorted(grid_scores, key=operator.itemgetter(1), reverse=True)[:n_top]\n",
    "    for i, score in enumerate(top_scores):\n",
    "        print(\"Model #{0}\".format(i + 1))\n",
    "        print(\"Mean CV score: {0:.3f} (std: {1:.3f})\".format(\n",
    "              score.mean_validation_score,\n",
    "              np.std(score.cv_validation_scores)))\n",
    "        print(\"Est. Kscore: {:.3f}\".format(1/score.mean_validation_score))\n",
    "        print(\"Parameters: {0}\".format(score.parameters))\n",
    "        print(\"\")"
   ]
  },
  {
   "cell_type": "code",
   "execution_count": 9,
   "metadata": {
    "collapsed": true
   },
   "outputs": [],
   "source": [
    "def factors(n):    \n",
    "    return set(reduce(list.__add__,\n",
    "                      ([i, n//i] for i in range(1, int(n**0.5) + 1) if n % i == 0)))"
   ]
  },
  {
   "cell_type": "code",
   "execution_count": 10,
   "metadata": {
    "collapsed": true
   },
   "outputs": [],
   "source": [
    "def feature_indices(df, attr):\n",
    "    idx = {}\n",
    "    for a in attr:\n",
    "        idx[a] = [c for c in df.columns if c.startswith(a)]\n",
    "    return idx"
   ]
  },
  {
   "cell_type": "code",
   "execution_count": 11,
   "metadata": {
    "collapsed": true
   },
   "outputs": [],
   "source": [
    "def all_combos(attr):\n",
    "    combos = []\n",
    "    for i in range(1, len(attr)+1):\n",
    "        for subset in itertools.combinations(attr, i):\n",
    "            combos.append(subset)\n",
    "    return combos"
   ]
  },
  {
   "cell_type": "code",
   "execution_count": 12,
   "metadata": {
    "collapsed": true
   },
   "outputs": [],
   "source": [
    "def feature_mixer(df, attr, clf_class, **kwargs):\n",
    "    \n",
    "    # scoring arrays\n",
    "    acc = []\n",
    "    prec = []\n",
    "    recl = []\n",
    "    f1 = []\n",
    "    ks = []\n",
    "    \n",
    "    # get attribute combos to explore\n",
    "    attr_com = all_combos(attr)\n",
    "\n",
    "    # get these attr as indices\n",
    "    attr_idx = feature_indices(df, attr)\n",
    "    \n",
    "    # labelizer\n",
    "    lb = preprocessing.LabelBinarizer()\n",
    "    \n",
    "    # iterate through all combinations of features\n",
    "    for a in attr_com:\n",
    "\n",
    "        # get feature indices\n",
    "        idxs = []\n",
    "        for b in a:\n",
    "            idxs.extend(attr_idx[b])\n",
    "\n",
    "        # build datasets    \n",
    "        X = df.ix[:, (idxs)].copy().values\n",
    "        y = df.fault_severity.values\n",
    "        y_cat = lb.fit_transform(y)\n",
    "        y_pred = y.copy()\n",
    "        y_prob = y_cat.copy().astype(float)\n",
    "        \n",
    "        # initialize counters\n",
    "        mean_acc = 0.0\n",
    "        mean_prec = 0.0\n",
    "        mean_recl = 0.0\n",
    "        mean_f1 = 0.0\n",
    "        mean_ks = 0.0\n",
    "        \n",
    "        # run kfold cv\n",
    "        kf = cross_validation.StratifiedKFold(y, n_folds=10, shuffle=True)\n",
    "        for train_index, test_index in kf:\n",
    "            X_train, X_test = X[train_index], X[test_index]\n",
    "            y_train, y_test = y[train_index], y[test_index]\n",
    "            clf = clf_class(**kwargs)\n",
    "            clf = pipeline.Pipeline([('scaler', preprocessing.StandardScaler()), ('clf', clf)])\n",
    "            clf.fit(X_train, y_train)\n",
    "            y_pred[test_index] = clf.predict(X_test)\n",
    "            y_prob[test_index] = clf.predict_proba(X_test)\n",
    "            mean_acc += metrics.accuracy_score(y[test_index], y_pred[test_index])\n",
    "            mean_recl += metrics.recall_score(y[test_index], y_pred[test_index])\n",
    "            mean_prec += metrics.precision_score(y[test_index], y_pred[test_index])\n",
    "            mean_f1 += metrics.f1_score(y[test_index], y_pred[test_index])\n",
    "            mean_ks += kscore(y_prob[test_index], y[test_index])\n",
    "\n",
    "        # update mean counters\n",
    "        acc.append(mean_acc / len(kf))\n",
    "        recl.append(mean_recl / len(kf))\n",
    "        prec.append(mean_prec / len(kf))\n",
    "        f1.append(mean_f1 / len(kf))\n",
    "        ks.append(mean_ks / len(kf))\n",
    "\n",
    "    # make dataframe\n",
    "    result = pd.DataFrame({'attr_combo':attr_com, 'accuracy':acc,\n",
    "                           'precision':prec, 'recall':recl, 'f1':f1,\n",
    "                           'kscore':ks})\n",
    "    return result"
   ]
  },
  {
   "cell_type": "code",
   "execution_count": 13,
   "metadata": {
    "collapsed": true
   },
   "outputs": [],
   "source": [
    "class MyXGBClassifier(object):\n",
    "\n",
    "    def __init__(self, n_rounds=100, **params):\n",
    "        self.clf = None\n",
    "        self.params = params        \n",
    "        self.n_rounds = n_rounds\n",
    "        self.dtrain = None\n",
    "\n",
    "    def fit(self, X, Y):\n",
    "        num_boost_round = self.n_rounds\n",
    "        self.dtrain = xgb.DMatrix(X, label=Y)\n",
    "        self.clf = xgb.train(params=self.params, dtrain=self.dtrain, num_boost_round=num_boost_round)\n",
    "\n",
    "    def predict(self, X):\n",
    "        Y = self.predict_proba(X)\n",
    "        y = np.argmax(Y, axis=1)\n",
    "        return np.array(y)\n",
    "\n",
    "    def predict_proba(self, X):\n",
    "        dtest = xgb.DMatrix(X)\n",
    "        return self.predict(dtest)\n",
    "\n",
    "    def get_params(self, deep=True):\n",
    "        return self.params\n",
    "\n",
    "    def set_params(self, **params):\n",
    "        self.params.update(params)\n",
    "        return self\n",
    "\n",
    "    def logloss(self, X, Y):\n",
    "        return logloss(self, X, Y)\n",
    "\n",
    "    def score(self, X, Y):\n",
    "        y = self.predict_proba(X)\n",
    "        return 1. / logloss(y, Y)"
   ]
  },
  {
   "cell_type": "markdown",
   "metadata": {
    "heading_collapsed": true
   },
   "source": [
    "# Reload Point"
   ]
  },
  {
   "cell_type": "code",
   "execution_count": 5,
   "metadata": {
    "collapsed": false
   },
   "outputs": [
    {
     "name": "stdout",
     "output_type": "stream",
     "text": [
      "<class 'pandas.io.pytables.HDFStore'>\n",
      "File path: /home/kcavagnolo/ml_fun/telstra/data/features.h5\n",
      "/df_all               frame        (shape->[18552,458])\n",
      "/df_culled            frame        (shape->[17983,266])\n",
      "/df_known             frame        (shape->[346,4])    \n",
      "/df_test              frame        (shape->[11171,457])\n",
      "/df_train             frame        (shape->[7381,458]) \n"
     ]
    }
   ],
   "source": [
    "# get datadir\n",
    "import platform\n",
    "uname = platform.uname()[0]\n",
    "if uname == 'Linux':\n",
    "    datadir = '/home/kcavagnolo/ml_fun/telstra/data/'\n",
    "elif uname == 'Darwin':\n",
    "    datadir = '/Users/cavagnolo/ml_fun/telstra/data/'\n",
    "else:\n",
    "    raise OSError(\"Unknown system: \" + str(uname))\n",
    "\n",
    "# get files\n",
    "files = sorted(glob.glob(datadir + '*.csv'))\n",
    "train_orig = pd.read_csv(datadir + 'train_del.csv')\n",
    "test_orig = pd.read_csv(datadir + 'test_del.csv')\n",
    "event_type = pd.read_csv(datadir + 'event_type.csv')\n",
    "resource_type = pd.read_csv(datadir + 'resource_type.csv')\n",
    "severity_type = pd.read_csv(datadir + 'severity_type.csv')\n",
    "log_feature = pd.read_csv(datadir + 'log_feature.csv')\n",
    "sample = pd.read_csv(datadir + 'sample_submission.csv')\n",
    "hdf_file = datadir + 'features.h5'\n",
    "\n",
    "# reopen hdf store\n",
    "hdf = pd.HDFStore(hdf_file)\n",
    "print hdf\n",
    "df_test = hdf['df_test']\n",
    "df_train = hdf['df_train']\n",
    "df_all = hdf['df_all']\n",
    "hdf.close()\n",
    "\n",
    "# cols to drop\n",
    "attribute_drop = ['fault_severity', 'id', 'location', 'is_train']\n",
    "\n",
    "# col prefixes\n",
    "attributes = ['event_', 'resource_', 'severity_', 'log_feature_']"
   ]
  },
  {
   "cell_type": "markdown",
   "metadata": {
    "heading_collapsed": true
   },
   "source": [
    "# First Model"
   ]
  },
  {
   "cell_type": "markdown",
   "metadata": {
    "heading_collapsed": true
   },
   "source": [
    "## CV"
   ]
  },
  {
   "cell_type": "code",
   "execution_count": 14,
   "metadata": {
    "collapsed": true
   },
   "outputs": [],
   "source": [
    "# xgboost always does well on first pass\n",
    "params = {}\n",
    "params['objective'] = 'multi:softprob'\n",
    "params['eval_metric'] = 'mlogloss'\n",
    "params['num_class'] = 3\n",
    "params['eta'] = 0.05\n",
    "params['max_depth'] = 8\n",
    "params['colsample_bytree'] = 0.5\n",
    "params['min_child_weight'] = 0.9\n",
    "params['gamma'] = 0.2\n",
    "params['silent'] = 1\n",
    "num_round = 500"
   ]
  },
  {
   "cell_type": "code",
   "execution_count": null,
   "metadata": {
    "collapsed": true
   },
   "outputs": [],
   "source": [
    "train = train_orig.copy().fillna(0)\n",
    "test = test_orig.copy().fillna(0)\n",
    "\n",
    "labels = train.fault_severity\n",
    "#ids = test.id\n",
    "\n",
    "train.drop('fault_severity', 1, inplace=True)\n",
    "\n",
    "#cdrop = ['evt_id','id','fault_severity','location']\n",
    "#train.drop(cdrop, 1, inplace=True)\n",
    "#cdrop = ['evt_id','id','location']\n",
    "#test.drop(cdrop, 1, inplace=True)"
   ]
  },
  {
   "cell_type": "code",
   "execution_count": null,
   "metadata": {
    "collapsed": true
   },
   "outputs": [],
   "source": [
    "xgtrain = xgb.DMatrix(train, labels)\n",
    "model = xgb.cv(params, xgtrain,\n",
    "               num_boost_round=num_round, nfold=10,\n",
    "               stratified=True, metrics=\"mlogloss\",\n",
    "               early_stopping_rounds=10,\n",
    "               verbose_eval=True, seed=rseed)"
   ]
  },
  {
   "cell_type": "markdown",
   "metadata": {
    "heading_collapsed": true
   },
   "source": [
    "## Feature Importance"
   ]
  },
  {
   "cell_type": "code",
   "execution_count": null,
   "metadata": {
    "collapsed": true
   },
   "outputs": [],
   "source": [
    "outfile = open('xgb.fmap', 'w')\n",
    "for i, feat in enumerate(list(train.columns)):\n",
    "    outfile.write('{0}\\t{1}\\tq\\n'.format(i, feat))\n",
    "outfile.close()"
   ]
  },
  {
   "cell_type": "code",
   "execution_count": null,
   "metadata": {
    "collapsed": true
   },
   "outputs": [],
   "source": [
    "# feature importance\n",
    "importance = model.get_fscore(fmap='xgb.fmap')\n",
    "importance = sorted(importance.items(), key=operator.itemgetter(1), reverse=True)\n",
    "df_imp = pd.DataFrame(importance[:50], columns=['feature', 'fscore'])\n",
    "df_imp['fscore'] = df_imp['fscore'] / df_imp['fscore'].sum()\n",
    "\n",
    "plt.figure()\n",
    "df_imp.plot()\n",
    "df_imp.plot(kind='barh', x='feature', y='fscore', legend=False, figsize=(6, 10))\n",
    "plt.title('XGBoost Feature Importance')\n",
    "plt.xlabel('relative importance')\n",
    "plt.show()"
   ]
  },
  {
   "cell_type": "markdown",
   "metadata": {
    "heading_collapsed": true
   },
   "source": [
    "# Feature Engineering"
   ]
  },
  {
   "cell_type": "markdown",
   "metadata": {},
   "source": [
    "* Data has complex multi-dimensional structure that ML algos know how to find and exploit to make decisions\n",
    "* What's not exposed to the models?\n",
    "    * Events are too dense or too complex for the algo to find. Fix == dim reduction (PCA or SVD)\n",
    "    * How the various events are communicating. Fix == clustering\n",
    "    * There is more attribute aggregation/creation needed. Fix == hyperattributes\n",
    "    * Time and location dependance of the events. Fix == ???\n",
    "\n",
    "* Remove correlated features\n",
    "* Remove features using statistical tests\n",
    "* Try pair-wise feature interactions, e.g. a*b, a-b, a+b, a/b\n",
    "* Try feature transformations, e.g. sqrt(a), log(a), abs(a)"
   ]
  },
  {
   "cell_type": "markdown",
   "metadata": {
    "heading_collapsed": true
   },
   "source": [
    "## Importance"
   ]
  },
  {
   "cell_type": "code",
   "execution_count": null,
   "metadata": {
    "collapsed": false
   },
   "outputs": [],
   "source": [
    "# train data\n",
    "X_train = df_all[(df_all.is_train==True)].copy().drop(drop, 1)\n",
    "xcols   = X_train.columns\n",
    "X_train = X_train.values\n",
    "y_train = df_all[(df_all.is_train==True)].fault_severity.values\n",
    "\n",
    "# simple rand forest\n",
    "from sklearn.ensemble import RandomForestClassifier\n",
    "clf = RandomForestClassifier(n_estimators=3000, n_jobs=-1)\n",
    "scores = cross_validation.cross_val_score(clf, X_train, y_train, cv=15, n_jobs=-1)\n",
    "print scores.mean(), '+/-', scores.std()\n",
    "\n",
    "# top ten features\n",
    "clf = pipeline.Pipeline([('scaler', preprocessing.StandardScaler()), ('clf', clf)])\n",
    "clf.fit(X_train, y_train)\n",
    "fea_impt = zip(xcols, (clf.feature_importances_ * 100.0).astype(int))\n",
    "sorted(fea_impt, key=lambda x: -x[1])[0:10]"
   ]
  },
  {
   "cell_type": "markdown",
   "metadata": {
    "heading_collapsed": true
   },
   "source": [
    "## Extraction"
   ]
  },
  {
   "cell_type": "markdown",
   "metadata": {
    "heading_collapsed": true
   },
   "source": [
    "## Selection"
   ]
  },
  {
   "cell_type": "markdown",
   "metadata": {
    "heading_collapsed": true
   },
   "source": [
    "### Univariate"
   ]
  },
  {
   "cell_type": "code",
   "execution_count": null,
   "metadata": {
    "collapsed": false
   },
   "outputs": [],
   "source": [
    "from sklearn.svm import LinearSVC\n",
    "from sklearn.feature_selection import SelectPercentile, f_classif\n",
    "\n",
    "X = df_train.copy().drop(drop, 1)\n",
    "cols = X.columns\n",
    "X = X.values\n",
    "y = df_train.fault_severity.values.astype(int)\n",
    "\n",
    "mpl_fig = plt.figure(1, figsize=(11,8))\n",
    "plt.clf()\n",
    "\n",
    "X_indices = np.arange(X.shape[-1])\n",
    "\n",
    "# Univariate feature selection with F-test for feature scoring\n",
    "selector = SelectPercentile(f_classif, percentile=50)\n",
    "selector.fit(X, y)\n",
    "\n",
    "# get scores\n",
    "scores = -np.log10(np.array(selector.pvalues_))\n",
    "scores[np.isnan(scores)] = 0\n",
    "scores /= scores.max()\n",
    "plt.bar(X_indices - .45, scores,\n",
    "        width=.2, label=r'Univariate score ($-Log(p_{value})$)', color='g')\n",
    "\n",
    "# Compare to the weights of an SVM\n",
    "clf = LinearSVC(C=0.3, penalty=\"l1\", dual=False)\n",
    "clf.fit(X, y)\n",
    "\n",
    "svm_weights = (clf.coef_ ** 2).sum(axis=0)\n",
    "svm_weights /= svm_weights.max()\n",
    "\n",
    "plt.bar(X_indices - .25, svm_weights,\n",
    "        width=.2, label='SVM weight', color='r')\n",
    "\n",
    "clf_selected = LinearSVC(C=0.3, penalty=\"l1\", dual=False)\n",
    "clf_selected.fit(selector.transform(X), y)\n",
    "\n",
    "svm_weights_selected = (clf_selected.coef_ ** 2).sum(axis=0)\n",
    "svm_weights_selected /= svm_weights_selected.max()\n",
    "\n",
    "plt.bar(X_indices[selector.get_support()] - .05, svm_weights_selected,\n",
    "        width=.2, label='SVM weights after selection', color='b')\n",
    "\n",
    "\n",
    "plt.xlabel('Supported feature number')\n",
    "plt.yticks(())\n",
    "plt.axis('tight')\n",
    "plt.legend(loc='upper right')\n",
    "plt.show()"
   ]
  },
  {
   "cell_type": "code",
   "execution_count": null,
   "metadata": {
    "collapsed": false
   },
   "outputs": [],
   "source": [
    "print selector.transform(X).shape[1]\n",
    "uni_fea = Xcols[selector.get_support(indices=True)].tolist()"
   ]
  },
  {
   "cell_type": "code",
   "execution_count": null,
   "metadata": {
    "collapsed": false
   },
   "outputs": [],
   "source": [
    "# get index of max value\n",
    "idx = X_indices[selector.get_support()][svm_weights_selected.argmax()]\n",
    "\n",
    "# get column name\n",
    "Xcols[idx]"
   ]
  },
  {
   "cell_type": "markdown",
   "metadata": {},
   "source": [
    "Well no shit, it's log_feature_203 again. Check the baseline models section, it showed up in the decision tree feature importance list as #1 and being almost 2x more important than #2."
   ]
  },
  {
   "cell_type": "code",
   "execution_count": null,
   "metadata": {
    "collapsed": true
   },
   "outputs": [],
   "source": [
    "params = {'n_rounds':500,\n",
    "          'eta':0.3,\n",
    "          'max_depth':6,\n",
    "          'subsample':0.5,\n",
    "          'colsample_bytree':0.3,\n",
    "          'booster':'gbtree',\n",
    "          'objective':'multi:softprob',\n",
    "          'num_class':3,\n",
    "          'eval_metric':'mlogloss',\n",
    "          'silent':0}\n",
    "\n",
    "best = []\n",
    "for n in range(70, 105, 5):\n",
    "    ch2 = feature_selection.GenericUnivariateSelect(score_func=feature_selection.chi2,\n",
    "                                  mode='percentile',\n",
    "                                  param=n)\n",
    "\n",
    "    fs_train = ch2.fit_transform(train, labels)\n",
    "    fs_test = ch2.transform(test)\n",
    "    fs_train = xgb.DMatrix(fs_train, labels)\n",
    "    scores = xgb.cv(params, fs_train, num_round, nfold=10,\n",
    "                    metrics={'mlogloss'}, seed=rseed)\n",
    "    best.append((n, scores[(scores['test-mlogloss-mean'] == min(scores['test-mlogloss-mean']))].values[0]))\n",
    "print best"
   ]
  },
  {
   "cell_type": "markdown",
   "metadata": {
    "heading_collapsed": true
   },
   "source": [
    "### Recursive"
   ]
  },
  {
   "cell_type": "markdown",
   "metadata": {},
   "source": [
    "Want to know what features may be the most important before any transformation. Try recursive feature elimination with cross-validation (RFECV). For multiclass, stratified K-fold used by default and shuffle is True."
   ]
  },
  {
   "cell_type": "code",
   "execution_count": null,
   "metadata": {
    "collapsed": false
   },
   "outputs": [],
   "source": [
    "from sklearn.feature_selection import RFECV\n",
    "from sklearn.linear_model import LogisticRegression as LR\n",
    "from sklearn.ensemble import RandomForestClassifier as RF\n",
    "from sklearn.linear_model import SGDClassifier as SGD\n",
    "from sklearn.naive_bayes import MultinomialNB as MNB\n",
    "\n",
    "# get training data\n",
    "X = df_all[(df_all.is_train == True)].copy()\n",
    "y = X.fault_severity\n",
    "X.drop(drop, 1, inplace=True)\n",
    "\n",
    "# make df to store results\n",
    "df_frank = pd.DataFrame({'feature':X.columns.values})\n",
    "\n",
    "# create base classifier\n",
    "models =[]\n",
    "models.append(LR(n_jobs=-1))\n",
    "models.append(RF(n_jobs=-1))\n",
    "models.append(SGD(n_jobs=-1))\n",
    "models.append(MNB())\n",
    "\n",
    "# iterate over models\n",
    "for m in models:\n",
    "    mname = str(m).split('(')[0]\n",
    "    rfecv = RFECV(m, cv=3, scoring='accuracy')\n",
    "    rfecv = rfecv.fit(X, y)\n",
    "    print(\"%s Optimal # features: %d\" % (mname, rfecv.n_features_))\n",
    "    c = 'rfecv_'+str(mname[:3])\n",
    "    df_frank[c] = rfecv.ranking_\n",
    "    \n",
    "    # n_features vs cv score\n",
    "    plt.figure()\n",
    "    plt.title(mname)\n",
    "    plt.xlabel(\"# features\")\n",
    "    plt.ylabel(\"CV score\")\n",
    "    plt.plot(range(1, len(rfecv.grid_scores_) + 1), rfecv.grid_scores_)\n",
    "    plt.axvline(rfecv.n_features_, color='r', linestyle='--')\n",
    "    plt.show()"
   ]
  },
  {
   "cell_type": "markdown",
   "metadata": {},
   "source": [
    "MNB is not a good model, nor SGD. Try SVC linear in their place."
   ]
  },
  {
   "cell_type": "code",
   "execution_count": null,
   "metadata": {
    "collapsed": false
   },
   "outputs": [],
   "source": [
    "from sklearn.svm import SVC\n",
    "m = SVC(kernel='linear')\n",
    "mname = str(m).split('(')[0]\n",
    "rfecv = RFECV(m, cv=3, scoring='accuracy')\n",
    "rfecv = rfecv.fit(X, y)\n",
    "print(\"%s Optimal # features: %d\" % (mname, rfecv.n_features_))\n",
    "c = 'rfecv_'+str(mname[:3])\n",
    "df_frank[c] = rfecv.ranking_\n",
    "    \n",
    "# n_features vs cv score\n",
    "plt.figure()\n",
    "plt.title(mname)\n",
    "plt.xlabel(\"# features\")\n",
    "plt.ylabel(\"CV score\")\n",
    "plt.plot(range(1, len(rfecv.grid_scores_) + 1), rfecv.grid_scores_)\n",
    "plt.axvline(rfecv.n_features_, color='r', linestyle='--')\n",
    "plt.show()"
   ]
  },
  {
   "cell_type": "code",
   "execution_count": null,
   "metadata": {
    "collapsed": false
   },
   "outputs": [],
   "source": [
    "# get avg rank and abs rank\n",
    "df_frank['avg_rank'] = df_frank[['rfecv_Log', 'rfecv_Ran', 'rfecv_SVC']].mean(axis=1)\n",
    "df_frank['abs_rank'] = df_frank.avg_rank.rank(method='min')"
   ]
  },
  {
   "cell_type": "code",
   "execution_count": null,
   "metadata": {
    "collapsed": false
   },
   "outputs": [],
   "source": [
    "# save to hdf5 file\n",
    "hdf = pd.HDFStore(hdf_file)\n",
    "hdf.put('df_frank', df_frank)\n",
    "hdf.close()\n",
    "call([\"lrztar\", \"-zf\", hdf_file])"
   ]
  },
  {
   "cell_type": "markdown",
   "metadata": {
    "heading_collapsed": true
   },
   "source": [
    "### Weights"
   ]
  },
  {
   "cell_type": "code",
   "execution_count": null,
   "metadata": {
    "collapsed": false
   },
   "outputs": [],
   "source": [
    "from sklearn.svm import LinearSVC\n",
    "X = df_train.copy().drop(drop, 1)\n",
    "cols = X.columns\n",
    "y = df_train.fault_severity\n",
    "clf = LinearSVC(C=0.3, penalty=\"l1\", dual=False)\n",
    "selector = feature_selection.SelectFromModel(clf, threshold=0.50)\n",
    "selector.fit(X, y)"
   ]
  },
  {
   "cell_type": "code",
   "execution_count": null,
   "metadata": {
    "collapsed": false,
    "scrolled": true
   },
   "outputs": [],
   "source": [
    "print selector.transform(X).shape[1]\n",
    "imp_fea = cols[selector.get_support(indices=True)].tolist()"
   ]
  },
  {
   "cell_type": "markdown",
   "metadata": {
    "heading_collapsed": true
   },
   "source": [
    "## Construction"
   ]
  },
  {
   "cell_type": "markdown",
   "metadata": {
    "heading_collapsed": true
   },
   "source": [
    "### Dimension Reduction"
   ]
  },
  {
   "cell_type": "markdown",
   "metadata": {},
   "source": [
    "The correlation matricies show there are redundant values. How many components in the full dataset to preserve? The eigenvalues in SVD should help determine what attributes are valuable. Data is sparse matrix of binary and multiclass values, options for analysis:\n",
    "* [Single value decomposition and Principal component analysis](http://blog.applied.ai/visualising-high-dimensional-data/)\n",
    "* [Kernel PCA](http://sebastianraschka.com/Articles/2014_kernel_pca.html)\n",
    "* [Locally Linear Embedding](http://scikit-learn.org/stable/auto_examples/manifold/plot_swissroll.html)\n",
    "* [t-Distributed Stochastic Neighbor Embedding](https://www.oreilly.com/learning/an-illustrated-introduction-to-the-t-sne-algorithm)"
   ]
  },
  {
   "cell_type": "markdown",
   "metadata": {
    "heading_collapsed": true
   },
   "source": [
    "#### SVD"
   ]
  },
  {
   "cell_type": "code",
   "execution_count": null,
   "metadata": {
    "collapsed": false
   },
   "outputs": [],
   "source": [
    "# get rid of the cols that I suspect are not important\n",
    "X = df_all.copy().drop(drop, 1)\n",
    "\n",
    "# orig num comps\n",
    "ncomps = X.shape[1] - 1\n",
    "\n",
    "# run svd\n",
    "from sklearn.decomposition import TruncatedSVD\n",
    "svd = TruncatedSVD(n_components=ncomps)\n",
    "svd_fit = svd.fit(X)\n",
    "\n",
    "# print out variance ranges\n",
    "for i in range(0, X.shape[1], 20):\n",
    "    svar = svd_fit.explained_variance_ratio_.cumsum()[i]\n",
    "    if svar >= 0.95:\n",
    "        print('Variance preserved at {:} components == {:.1%}'.format(i, svar))\n",
    "\n",
    "# plot result        \n",
    "ax = pd.Series(svd_fit.explained_variance_ratio_.cumsum()).plot(kind='line')"
   ]
  },
  {
   "cell_type": "markdown",
   "metadata": {},
   "source": [
    "At 60 components 98% of variance is preserved, so try keeping just those in a new df."
   ]
  },
  {
   "cell_type": "code",
   "execution_count": null,
   "metadata": {
    "collapsed": true
   },
   "outputs": [],
   "source": [
    "# transform X\n",
    "ncomps = 60\n",
    "X_svd = TruncatedSVD(n_components=ncomps).fit_transform(X)\n",
    "\n",
    "# save svd to df and add back dropped cols\n",
    "df_svd = pd.DataFrame(X_svd, columns=['svd{}'.format(c) for c in range(ncomps)], index=df_all.index)\n",
    "for c in drop:\n",
    "    df_svd[c] = df_all[c]\n",
    "\n",
    "# save col names for easy filter later\n",
    "svdcols = [c for c in df_svd.columns if c[:3] == 'svd']\n",
    "\n",
    "# check size\n",
    "assert(df_svd.shape[0] == df_all.shape[0])"
   ]
  },
  {
   "cell_type": "code",
   "execution_count": null,
   "metadata": {
    "collapsed": false
   },
   "outputs": [],
   "source": [
    "# save to hdf5 file\n",
    "hdf = pd.HDFStore(hdf_file)\n",
    "hdf.put('df_svd', df_svd)\n",
    "hdf.close()\n",
    "call([\"lrztar\", \"-zf\", hdf_file])"
   ]
  },
  {
   "cell_type": "markdown",
   "metadata": {
    "heading_collapsed": true
   },
   "source": [
    "#### Linear PCA"
   ]
  },
  {
   "cell_type": "code",
   "execution_count": null,
   "metadata": {
    "collapsed": false,
    "scrolled": true
   },
   "outputs": [],
   "source": [
    "# get rid of the cols that I suspect are not important\n",
    "X = df_all.copy().drop(drop, 1)\n",
    "\n",
    "# orig num comps\n",
    "ncomps = X.shape[1] - 1\n",
    "\n",
    "# run pca\n",
    "from sklearn.decomposition import PCA, KernelPCA\n",
    "pca = PCA(n_components=ncomps, whiten=True)\n",
    "pca_fit = pca.fit(X)\n",
    "\n",
    "# plot result        \n",
    "ax = pd.Series(pca_fit.explained_variance_ratio_.cumsum()).plot(kind='line')"
   ]
  },
  {
   "cell_type": "code",
   "execution_count": null,
   "metadata": {
    "collapsed": false
   },
   "outputs": [],
   "source": [
    "# transform X\n",
    "ncomps = 2\n",
    "X_pca = PCA(n_components=ncomps, whiten=True).fit_transform(X)\n",
    "\n",
    "# check transform\n",
    "print \"Mean: \", np.round(X_pca.mean(axis=0), decimals=5)\n",
    "print \"Stdv: \", np.round(X_pca.std(axis=0), decimals=5)\n",
    "print \"Corr: \", np.round(np.corrcoef(X_pca.T), decimals=5)\n",
    "\n",
    "# save pca to df and add back dropped cols\n",
    "df_pca = pd.DataFrame(X_pca,\n",
    "                      columns=['pca{}'.format(c) for c in range(ncomps)],\n",
    "                      index=df_all.index)\n",
    "for c in drop:\n",
    "    df_pca[c] = df_all[c]\n",
    "\n",
    "# save col names for easy filter later\n",
    "pcacols = [c for c in df_pca.columns if c[:3] == 'pca']\n",
    "\n",
    "# check size\n",
    "assert(df_pca.shape[0] == df_all.shape[0])"
   ]
  },
  {
   "cell_type": "code",
   "execution_count": null,
   "metadata": {
    "collapsed": false
   },
   "outputs": [],
   "source": [
    "g = sns.lmplot('pca0', 'pca1',\n",
    "               data=df_pca,\n",
    "               fit_reg=False,\n",
    "               col=\"fault_severity\")"
   ]
  },
  {
   "cell_type": "code",
   "execution_count": null,
   "metadata": {
    "collapsed": false
   },
   "outputs": [],
   "source": [
    "# save to hdf5 file\n",
    "hdf = pd.HDFStore(hdf_file)\n",
    "hdf.put('df_pca', df_pca)\n",
    "hdf.close()\n",
    "call([\"lrztar\", \"-zf\", hdf_file])"
   ]
  },
  {
   "cell_type": "markdown",
   "metadata": {},
   "source": [
    "Doesn't look like linearly separable data (as exposed in correlation tasks above). Need to try kernel PCA to remove the nonlinearity."
   ]
  },
  {
   "cell_type": "markdown",
   "metadata": {
    "heading_collapsed": true
   },
   "source": [
    "#### Kernel PCA"
   ]
  },
  {
   "cell_type": "code",
   "execution_count": null,
   "metadata": {
    "collapsed": true
   },
   "outputs": [],
   "source": [
    "# transform X\n",
    "X_kpca = KernelPCA(n_components=2, kernel=\"rbf\", gamma=20).fit_transform(X)"
   ]
  },
  {
   "cell_type": "code",
   "execution_count": null,
   "metadata": {
    "collapsed": false
   },
   "outputs": [],
   "source": [
    "# save pca to df and add back dropped cols\n",
    "df_kpca = pd.DataFrame(X_kpca,\n",
    "                       columns=['kpca{}'.format(c) for c in range(ncomps)],\n",
    "                       index=df_all.index)\n",
    "\n",
    "for c in drop:\n",
    "    df_kpca[c] = df_all[c]\n",
    "\n",
    "# save col names for easy filter later\n",
    "kpcacols = [c for c in df_kpca.columns if c[:4] == 'kpca']\n",
    "\n",
    "# check size\n",
    "assert(df_kpca.shape[0] == df_all.shape[0])"
   ]
  },
  {
   "cell_type": "code",
   "execution_count": null,
   "metadata": {
    "collapsed": false
   },
   "outputs": [],
   "source": [
    "g = sns.lmplot('kpca0', 'kpca1',\n",
    "               data=df_kpca,\n",
    "               fit_reg=False,\n",
    "               col=\"fault_severity\")"
   ]
  },
  {
   "cell_type": "code",
   "execution_count": null,
   "metadata": {
    "collapsed": false
   },
   "outputs": [],
   "source": [
    "# save to hdf5 file\n",
    "hdf = pd.HDFStore(hdf_file)\n",
    "hdf.put('df_kpca', df_kpca)\n",
    "hdf.close()\n",
    "call([\"lrztar\", \"-zf\", hdf_file])"
   ]
  },
  {
   "cell_type": "markdown",
   "metadata": {
    "heading_collapsed": true
   },
   "source": [
    "#### LLE"
   ]
  },
  {
   "cell_type": "code",
   "execution_count": null,
   "metadata": {
    "collapsed": false
   },
   "outputs": [],
   "source": [
    "from sklearn import manifold\n",
    "X_lle, err = manifold.locally_linear_embedding(X, n_neighbors=12,\n",
    "                                             n_components=2)\n",
    "print(\"Done. Reconstruction error: %g\" % err)"
   ]
  },
  {
   "cell_type": "code",
   "execution_count": null,
   "metadata": {
    "collapsed": true
   },
   "outputs": [],
   "source": [
    "# save pca to df and add back dropped cols\n",
    "df_lle = pd.DataFrame(X_lle,\n",
    "                      columns=['lle{}'.format(c) for c in range(ncomps)],\n",
    "                      index=df_all.index)\n",
    "for c in drop:\n",
    "    df_lle[c] = df_all[c]\n",
    "\n",
    "# save col names for easy filter later\n",
    "llecols = [c for c in df_lle.columns if c[:3] == 'lle']\n",
    "\n",
    "# check size\n",
    "assert(df_lle.shape[0] == df_all.shape[0])"
   ]
  },
  {
   "cell_type": "code",
   "execution_count": null,
   "metadata": {
    "collapsed": false
   },
   "outputs": [],
   "source": [
    "g = sns.lmplot('lle0', 'lle1',\n",
    "               data=df_lle,\n",
    "               fit_reg=False,\n",
    "               col=\"fault_severity\")"
   ]
  },
  {
   "cell_type": "code",
   "execution_count": null,
   "metadata": {
    "collapsed": false
   },
   "outputs": [],
   "source": [
    "# save to hdf5 file\n",
    "hdf = pd.HDFStore(hdf_file)\n",
    "hdf.put('df_lle', df_lle)\n",
    "hdf.close()\n",
    "call([\"lrztar\", \"-zf\", hdf_file])"
   ]
  },
  {
   "cell_type": "markdown",
   "metadata": {
    "heading_collapsed": true
   },
   "source": [
    "#### t-SNE"
   ]
  },
  {
   "cell_type": "markdown",
   "metadata": {},
   "source": [
    "Tried SVD and KPCA inputs: SVD outperformed any other. Using it as input to t-SNE"
   ]
  },
  {
   "cell_type": "code",
   "execution_count": null,
   "metadata": {
    "collapsed": true
   },
   "outputs": [],
   "source": [
    "# build tsne fitter\n",
    "from sklearn.manifold import TSNE\n",
    "#metric = metrics.pairwise.manhattan_distances\n",
    "tsne = TSNE(n_components=2,\n",
    "            #init='pca',\n",
    "            perplexity=50,\n",
    "            #metric=metric,\n",
    "            learning_rate=500,\n",
    "            method='barnes_hut',\n",
    "            verbose=2)\n",
    "\n",
    "# fit training data only\n",
    "Z = tsne.fit_transform(df_all)"
   ]
  },
  {
   "cell_type": "code",
   "execution_count": 13,
   "metadata": {
    "collapsed": false
   },
   "outputs": [],
   "source": [
    "# save to df\n",
    "df_tsne = pd.DataFrame(Z, columns=['x','y'], index=df_all.index)\n",
    "df_tsne['fault_severity'] = df_all.fault_severity\n",
    "\n",
    "# check size\n",
    "assert(df_tsne.shape[0] == df_all.shape[0])"
   ]
  },
  {
   "cell_type": "code",
   "execution_count": 14,
   "metadata": {
    "collapsed": false,
    "scrolled": true
   },
   "outputs": [
    {
     "data": {
      "image/png": "[encoded data removed]",
      "text/plain": [
       "<matplotlib.figure.Figure at 0x118586dd0>"
      ]
     },
     "metadata": {},
     "output_type": "display_data"
    }
   ],
   "source": [
    "# kpca\n",
    "g = sns.lmplot('x', 'y',\n",
    "               data=df_tsne,\n",
    "               fit_reg=False,\n",
    "               col=\"fault_severity\")"
   ]
  },
  {
   "cell_type": "code",
   "execution_count": null,
   "metadata": {
    "collapsed": false
   },
   "outputs": [],
   "source": [
    "# save to hdf5 file\n",
    "hdf = pd.HDFStore(hdf_file)\n",
    "hdf.put('df_tsne', df_tsne)\n",
    "hdf.close()\n",
    "call([\"lrztar\", \"-zf\", hdf_file])"
   ]
  },
  {
   "cell_type": "markdown",
   "metadata": {
    "heading_collapsed": true
   },
   "source": [
    "### Clustering"
   ]
  },
  {
   "cell_type": "markdown",
   "metadata": {},
   "source": [
    "Clustering may be interesting too: could add cluster membership as a new feature. \n",
    "\n",
    "* [Binary Jaccard similarity matrix fed into hierarchical cluster and then using the top \"nodes\"](http://scikit-learn.org/stable/modules/generated/sklearn.metrics.jaccard_similarity_score.html)\n",
    "* [K-mode/median clustering](https://github.com/nicodv/kmodes)\n",
    "* [Cosine similarities fed into spectral clustering or dbscan](http://stackoverflow.com/questions/30089675/clustering-cosine-similarity-matrix)\n",
    "* Frequent itemset mining"
   ]
  },
  {
   "cell_type": "markdown",
   "metadata": {},
   "source": [
    "#### DBScan"
   ]
  },
  {
   "cell_type": "code",
   "execution_count": null,
   "metadata": {
    "collapsed": false
   },
   "outputs": [],
   "source": [
    "# remove the log_feature features which are scaled volumes\n",
    "ecols = [c for c in df_all.columns if 'log_feature' not in c]\n",
    "X = df_all.copy()[ecols]\n",
    "X = X[(X.is_train == True)].drop(drop, 1)"
   ]
  },
  {
   "cell_type": "code",
   "execution_count": null,
   "metadata": {
    "collapsed": false
   },
   "outputs": [],
   "source": [
    "# base similarity matrix\n",
    "similarity = np.dot(X, X.T)\n",
    "\n",
    "# squared magnitude of preference vectors (number of occurrences)\n",
    "square_mag = np.diag(similarity)\n",
    "\n",
    "# inverse squared magnitude\n",
    "inv_square_mag = 1 / square_mag\n",
    "\n",
    "# if it doesn't occur, set it's inverse magnitude to zero (instead of inf)\n",
    "inv_square_mag[np.isinf(inv_square_mag)] = 0\n",
    "\n",
    "# inverse of the magnitude\n",
    "inv_mag = np.sqrt(inv_square_mag)\n",
    "\n",
    "# cosine similarity\n",
    "cosine = similarity * inv_mag\n",
    "cosine = cosine.T * inv_mag"
   ]
  },
  {
   "cell_type": "code",
   "execution_count": null,
   "metadata": {
    "collapsed": false
   },
   "outputs": [],
   "source": [
    "# find whole factors for matrix\n",
    "factors(cosine.shape[0])"
   ]
  },
  {
   "cell_type": "code",
   "execution_count": null,
   "metadata": {
    "collapsed": false
   },
   "outputs": [],
   "source": [
    "# plot it\n",
    "binning = 11\n",
    "plt.figure(figsize=(14, 11))\n",
    "cmap = sns.light_palette(\"blue\", as_cmap=True)\n",
    "plt.imshow(cosine[::binning, ::binning], interpolation='none', cmap=cmap)"
   ]
  },
  {
   "cell_type": "code",
   "execution_count": null,
   "metadata": {
    "collapsed": true
   },
   "outputs": [],
   "source": [
    "# dbscan expects distances, so need 1-cosine input\n",
    "from sklearn.cluster import DBSCAN\n",
    "dbclust = DBSCAN(min_samples=30, eps=0.6).fit_predict(1.0-cosine)"
   ]
  },
  {
   "cell_type": "code",
   "execution_count": null,
   "metadata": {
    "collapsed": false
   },
   "outputs": [],
   "source": [
    "# viz the cluster dist\n",
    "from collections import Counter\n",
    "for i in Counter(dbclust).items():\n",
    "    print i\n",
    "sns.distplot(dbclust, kde=False)"
   ]
  },
  {
   "cell_type": "markdown",
   "metadata": {
    "heading_collapsed": true
   },
   "source": [
    "#### K-modes"
   ]
  },
  {
   "cell_type": "code",
   "execution_count": null,
   "metadata": {
    "collapsed": false
   },
   "outputs": [],
   "source": [
    "from kmodes import kmodes\n",
    "\n",
    "# build the clusters\n",
    "km = kmodes.KModes(n_clusters=22, init='Cao', n_init=5, verbose=1)\n",
    "clusters = km.fit_predict(X)\n",
    "\n",
    "# viz the cluster dist\n",
    "for i in Counter(clusters).items():\n",
    "    print i\n",
    "sns.distplot(clusters, kde=False)"
   ]
  },
  {
   "cell_type": "markdown",
   "metadata": {},
   "source": [
    "That's not a terrible result, it somewhat mimics the tsne result, except for bins 3 and 4, as I don't see any isolated points in tsne, but it's not a 1:1 comparison. Let's see how this performs. First add the cluster assignments to the X matrix."
   ]
  },
  {
   "cell_type": "markdown",
   "metadata": {
    "heading_collapsed": true
   },
   "source": [
    "#### Hierarchical"
   ]
  },
  {
   "cell_type": "markdown",
   "metadata": {},
   "source": [
    "revisit the correlation measures\n",
    "run a hierarch model"
   ]
  },
  {
   "cell_type": "code",
   "execution_count": null,
   "metadata": {
    "collapsed": true
   },
   "outputs": [],
   "source": [
    "from scipy.spatial.distance import pdist\n",
    "from scipy.cluster.hierarchy import dendrogram, linkage\n",
    "from scipy.cluster.hierarchy import cophenet\n",
    "from scipy.cluster.hierarchy import fcluster\n",
    "\n",
    "# create dist matrix\n",
    "Y = 1.0 - np.abs(df_svd.corr())\n",
    "Z = linkage(Y, 'complete', 'correlation')\n",
    "\n",
    "# check cophenetic coeffs; closer to 1, the better\n",
    "c, coph_dists = cophenet(Z, Y)\n",
    "print c\n",
    "\n",
    "# view dendro\n",
    "dendro = dendrogram(z, labels=Y.columns)\n",
    "plt.show()"
   ]
  },
  {
   "cell_type": "code",
   "execution_count": null,
   "metadata": {
    "collapsed": true
   },
   "outputs": [],
   "source": [
    "k = 2\n",
    "clusters = fcluster(Z, k, criterion='maxclust')\n",
    "plt.figure(figsize=(14, 11))\n",
    "plt.scatter(df_svd[:, 0], df_svd[:, 1], c=clusters, cmap='prism')\n",
    "plt.show()"
   ]
  },
  {
   "cell_type": "markdown",
   "metadata": {},
   "source": [
    "Check validity of clusters using permutation tests"
   ]
  },
  {
   "cell_type": "code",
   "execution_count": null,
   "metadata": {
    "collapsed": true
   },
   "outputs": [],
   "source": [
    "# create permutation\n",
    "svm = SVC(kernel='linear')\n",
    "cv = StratifiedKFold(y, 2)\n",
    "score, permutation_scores, pvalue = permutation_test_score(\n",
    "    svm, X, y, scoring=\"accuracy\", cv=cv, n_permutations=100, n_jobs=-1)\n",
    "print(\"Classification score %s (pvalue : %s)\" % (score, pvalue))\n",
    "\n",
    "# histo of permu scores\n",
    "plt.hist(permutation_scores, 20, label='Permutation scores')\n",
    "ylim = plt.ylim()\n",
    "plt.plot(2 * [score], ylim, '--g', linewidth=3,\n",
    "         label='Classification Score (pvalue %s)' % pvalue)\n",
    "plt.plot(2 * [1. / n_classes], ylim, '--k', linewidth=3, label='Luck')\n",
    "plt.ylim(ylim)\n",
    "plt.legend()\n",
    "plt.xlabel('Score')\n",
    "plt.show()"
   ]
  },
  {
   "cell_type": "code",
   "execution_count": null,
   "metadata": {
    "collapsed": false
   },
   "outputs": [],
   "source": [
    "# append cluster membership to the no-location version of X\n",
    "a = np.array(clusters)[np.newaxis]\n",
    "print 'X no loc ', X_nl.shape\n",
    "X_nlc = np.concatenate((X_nl, a.T), axis=1)\n",
    "print 'X no loc+clu ', X_nlc.shape"
   ]
  },
  {
   "cell_type": "markdown",
   "metadata": {
    "heading_collapsed": true
   },
   "source": [
    "## Learning"
   ]
  },
  {
   "cell_type": "markdown",
   "metadata": {
    "heading_collapsed": true
   },
   "source": [
    "### Stacking"
   ]
  },
  {
   "cell_type": "code",
   "execution_count": null,
   "metadata": {
    "collapsed": true
   },
   "outputs": [],
   "source": [
    "from sklearn.pipeline import Pipeline, FeatureUnion\n",
    "from sklearn.grid_search import GridSearchCV\n",
    "from sklearn.svm import SVC\n",
    "from sklearn.decomposition import PCA\n",
    "from sklearn.feature_selection import SelectKBest\n",
    "\n",
    "X = \n",
    "y = \n",
    "\n",
    "# pca\n",
    "pca = PCA(n_components=2)\n",
    "\n",
    "# univariate\n",
    "selection = SelectKBest(k=1)\n",
    "\n",
    "# combined estimator\n",
    "combined_features = FeatureUnion([(\"pca\", pca), (\"univ_select\", selection)])\n",
    "\n",
    "# Use combined features to transform dataset:\n",
    "X_features = combined_features.fit(X, y).transform(X)\n",
    "\n",
    "svm = SVC(kernel=\"linear\")\n",
    "\n",
    "# Do grid search over k, n_components and C:\n",
    "pipeline = Pipeline([(\"features\", combined_features), (\"svm\", svm)])\n",
    "param_grid = dict(features__pca__n_components=[1, 2, 3],\n",
    "                  features__univ_select__k=[1, 2],\n",
    "                  svm__C=[0.1, 1, 10])\n",
    "\n",
    "grid_search = GridSearchCV(pipeline, param_grid=param_grid, verbose=10)\n",
    "grid_search.fit(X, y)\n",
    "print(grid_search.best_estimator_)"
   ]
  },
  {
   "cell_type": "markdown",
   "metadata": {
    "heading_collapsed": true
   },
   "source": [
    "# Model Evaluation"
   ]
  },
  {
   "cell_type": "markdown",
   "metadata": {
    "heading_collapsed": true
   },
   "source": [
    "## Lasagne"
   ]
  },
  {
   "cell_type": "markdown",
   "metadata": {},
   "source": [
    "* use PCA with NN (2 hidden layers + ReLU + dropout)\n",
    "* shooting for logloss < 0.5"
   ]
  },
  {
   "cell_type": "code",
   "execution_count": null,
   "metadata": {
    "collapsed": false
   },
   "outputs": [],
   "source": [
    "import lasagne\n",
    "\n",
    "# real train data\n",
    "X = df_all[(df_all.is_train==True)].copy()\n",
    "y = X.fault_severity.values\n",
    "X.drop(drop, 1, inplace=True)\n",
    "X = X.as_matrix()\n",
    "\n",
    "# theano format\n",
    "X = X.astype(thno.config.floatX)\n",
    "y = y.astype('int32')"
   ]
  },
  {
   "cell_type": "code",
   "execution_count": null,
   "metadata": {
    "collapsed": false
   },
   "outputs": [],
   "source": [
    "# input layer\n",
    "l_in = lasagne.layers.InputLayer(\n",
    "    shape=X.shape\n",
    ")\n",
    "\n",
    "# hidden layer1\n",
    "l_hidden1 = lasagne.layers.DenseLayer(\n",
    "    l_in,\n",
    "    num_units=30,\n",
    "    nonlinearity=lasagne.nonlinearities.rectify,\n",
    "    W=lasagne.init.HeNormal(gain='relu')\n",
    ")\n",
    "\n",
    "# hidden layer2\n",
    "l_hidden2 = lasagne.layers.DenseLayer(\n",
    "    l_hidden1,\n",
    "    num_units=10,\n",
    "    nonlinearity=lasagne.nonlinearities.rectify,\n",
    "    W=lasagne.init.HeNormal(gain='relu')\n",
    ")\n",
    "\n",
    "# dropout layer\n",
    "l_dropout = lasagne.layers.DropoutLayer(\n",
    "    l_hidden2,\n",
    "    p=0.25\n",
    ")\n",
    "\n",
    "# output layer\n",
    "l_output = lasagne.layers.DenseLayer(\n",
    "    l_dropout,\n",
    "    num_units=3,\n",
    "    nonlinearity=lasagne.nonlinearities.softmax)"
   ]
  },
  {
   "cell_type": "code",
   "execution_count": null,
   "metadata": {
    "collapsed": false
   },
   "outputs": [],
   "source": [
    "output_train = lasagne.layers.get_output(l_output, X)\n",
    "\n",
    "loss_train = lasagne.objectives.aggregate(\n",
    "    lasagne.objectives.categorical_crossentropy(output_train, y))\n",
    "\n",
    "output_eval = lasagne.layers.get_output(l_output, X, deterministic=True)\n",
    "\n",
    "loss_train = lasagne.objectives.aggregate(\n",
    "    lasagne.objectives.categorical_crossentropy(output_eval, y))"
   ]
  },
  {
   "cell_type": "code",
   "execution_count": null,
   "metadata": {
    "collapsed": false
   },
   "outputs": [],
   "source": [
    "all_params = lasagne.layers.get_all_params(l_output)"
   ]
  },
  {
   "cell_type": "code",
   "execution_count": null,
   "metadata": {
    "collapsed": false
   },
   "outputs": [],
   "source": [
    "# Use ADADELTA for updates\n",
    "updates = lasagne.updates.adadelta(loss_train, all_params)\n",
    "true_output = T.ivector('true_output')\n",
    "train = theano.function([l_in.input_var, true_output], loss_train, updates=updates)"
   ]
  },
  {
   "cell_type": "code",
   "execution_count": null,
   "metadata": {
    "collapsed": true
   },
   "outputs": [],
   "source": [
    "# train in mini-batches\n",
    "batch_size = 100\n",
    "n_epochs = 10\n",
    "\n",
    "# iterate\n",
    "batch_idx = 0\n",
    "epoch = 0\n",
    "while epoch < n_epochs:\n",
    "    # extract train data/label batch and update the parameters with it\n",
    "    train(dataset['train']['X'][batch_idx:batch_idx + batch_size],\n",
    " \n",
    "          \n",
    "          \n",
    "          dataset['train']['y'][batch_idx:batch_idx + BATCH_SIZE])\n",
    " batch_idx += BATCH_SIZE\n",
    " # Once we've trained on the entire training set...\n",
    " if batch_idx >= dataset['train']['X'].shape[0]:\n",
    " # Reset the batch index\n",
    " batch_idx = 0\n",
    " # Update the number of epochs trained\n",
    " epoch += 1\n",
    " # Compute the network's on the validation data\n",
    " val_output = get_output(dataset['valid']['X'])\n",
    " # The predicted class is just the index of the largest probability in the output\n",
    " val_predictions = np.argmax(val_output, axis=1)\n",
    " # The accuracy is the average number of correct predictions\n",
    " accuracy = np.mean(val_predictions == dataset['valid']['y'])\n",
    " print(\"Epoch {} validation accuracy: {}\".format(epoch, accuracy))"
   ]
  },
  {
   "cell_type": "markdown",
   "metadata": {
    "heading_collapsed": true
   },
   "source": [
    "## Keras"
   ]
  },
  {
   "cell_type": "code",
   "execution_count": null,
   "metadata": {
    "collapsed": false
   },
   "outputs": [],
   "source": [
    "# quick existing model test\n",
    "from keras.models import Sequential\n",
    "from keras.layers.core import Dense, Dropout, Activation\n",
    "from keras.utils import np_utils\n",
    "thno.config.compute_test_value = 'warn'\n",
    "\n",
    "# base data\n",
    "X_train = df_train.copy().drop(drop, 1).as_matrix()\n",
    "y_train = df_train.fault_severity.values"
   ]
  },
  {
   "cell_type": "code",
   "execution_count": null,
   "metadata": {
    "collapsed": false,
    "scrolled": true
   },
   "outputs": [],
   "source": [
    "# rebuild the train and test sets\n",
    "X_train, X_test, y_train, y_test = cross_validation.train_test_split(X, y, test_size=0.4)\n",
    "Y_train = np_utils.to_categorical(y_train, 3)\n",
    "Y_test = np_utils.to_categorical(y_test, 3)\n",
    "\n",
    "# common vars\n",
    "nb_epoch = 100\n",
    "dims = X_train.shape[1]\n",
    "fs = list(factors(dims))\n",
    "batch_size = fs[-1]/4\n",
    "\n",
    "# NN model and layers\n",
    "model = Sequential()\n",
    "model.add(Dense(512, input_shape=(dims,)))\n",
    "model.add(Activation('relu'))\n",
    "model.add(Dropout(0.2))\n",
    "model.add(Dense(512))\n",
    "model.add(Activation('relu'))\n",
    "model.add(Dropout(0.2))\n",
    "model.add(Dense(3))\n",
    "model.add(Activation('softmax'))\n",
    "\n",
    "# build model\n",
    "model.compile(loss='categorical_crossentropy', optimizer='rmsprop')\n",
    "\n",
    "# fit the model\n",
    "model.fit(X_train, Y_train,\n",
    "          batch_size=batch_size,\n",
    "          nb_epoch=nb_epoch,\n",
    "          show_accuracy=True,\n",
    "          verbose=1,\n",
    "          validation_data=(X_test, Y_test))\n",
    "score = model.evaluate(X_test, Y_test,\n",
    "                       show_accuracy=True,\n",
    "                       verbose=0)\n",
    "print('Test score:', score[0])\n",
    "print('Test accuracy:', score[1])"
   ]
  },
  {
   "cell_type": "code",
   "execution_count": null,
   "metadata": {
    "collapsed": false
   },
   "outputs": [],
   "source": [
    "# base data\n",
    "X = df_test.copy()\n",
    "ids = X.id\n",
    "for c in drop:\n",
    "    if c in X.columns:\n",
    "        X.drop(c, 1, inplace=True)\n",
    "X = X.as_matrix()\n",
    "y_probs = model.predict(X)\n",
    "\n",
    "final = [[iden, (y_probs[j][0]), (y_probs[j][1]), (y_probs[j][2])] for j, iden in enumerate(ids)]\n",
    "frame = pd.DataFrame(final,columns=('id','predict_0','predict_1','predict_2'))\n",
    "frame.to_csv(\"keras.csv\",index=False)"
   ]
  },
  {
   "cell_type": "markdown",
   "metadata": {},
   "source": [
    "|Run|Local  |LB     |Changes|\n",
    "|---|-------|-------|:------|\n",
    "|1  |0.62779|0.65748|Initial\n",
    "|2  |0.67230|-------|Adadelta opt\n",
    "|3  |0.75352|-------|SGD opt\n",
    "|4  |0.82378|-------|Adam\n",
    "\n",
    "\n",
    "According to forums:\n",
    "\"The norm for CV and LB disagreement seems to be about 0.01-0.03 based on what I've experienced and read from others. A disagreement as large as you have indicates you're probably over-fitting and may have some minor leakage.\""
   ]
  },
  {
   "cell_type": "markdown",
   "metadata": {
    "heading_collapsed": true
   },
   "source": [
    "## XGBoost"
   ]
  },
  {
   "cell_type": "code",
   "execution_count": null,
   "metadata": {
    "collapsed": false
   },
   "outputs": [],
   "source": [
    "# get train inputs\n",
    "X_train = df_train.copy()\n",
    "y_train = X_train.fault_severity\n",
    "X_train.drop(drop, 1, inplace=True)\n",
    "\n",
    "# get test inputs\n",
    "X_test = df_test.copy()\n",
    "X_test.drop(drop, 1, inplace=True)\n",
    "\n",
    "# split train into... train and test\n",
    "from sklearn.cross_validation import train_test_split\n",
    "xg_train, xg_test, yg_train, yg_test = train_test_split(X_train, y_train, test_size=0.33)"
   ]
  },
  {
   "cell_type": "code",
   "execution_count": null,
   "metadata": {
    "collapsed": true
   },
   "outputs": [],
   "source": [
    "xg_train = xgb.DMatrix(xg_train, label=yg_train.values)\n",
    "xg_test = xgb.DMatrix(xg_test, label=yg_test.values)"
   ]
  },
  {
   "cell_type": "code",
   "execution_count": null,
   "metadata": {
    "collapsed": true
   },
   "outputs": [],
   "source": [
    "clf = MyXGBClassifier(n_rounds=500,\n",
    "                      eta=0.3,\n",
    "                      max_depth=10,\n",
    "                      subsample=0.5,\n",
    "                      colsample_bytree=0.9,\n",
    "                      booster='gbtree',\n",
    "                      objective='multi:softprob',\n",
    "                      num_class=3,\n",
    "                      eval_metric='mlogloss',\n",
    "                      silent=0)\n",
    "\n",
    "param_grid = {'eta': [0.05, 0.3, 0.5],\n",
    "              'min_child_weight': [0.6, 0.8, 1.0],\n",
    "              'max_depth': [6, 8, 10],\n",
    "              'colsample_bytree': [0.3, 0.5]\n",
    "              'gamma': [0.0, 0.2, 0.4]\n",
    "             }\n",
    "\n",
    "gridcv = grid_search.GridSearchCV(clf, param_grid, n_jobs=-1, cv=10)"
   ]
  },
  {
   "cell_type": "code",
   "execution_count": null,
   "metadata": {
    "collapsed": true
   },
   "outputs": [],
   "source": [
    "mtrain = train.as_matrix()\n",
    "mlabels = labels.as_matrix()\n",
    "gridcv.fit(mtrain, mlabels)"
   ]
  },
  {
   "cell_type": "code",
   "execution_count": null,
   "metadata": {
    "collapsed": true
   },
   "outputs": [],
   "source": [
    "report(clf.grid_scores_)"
   ]
  },
  {
   "cell_type": "code",
   "execution_count": null,
   "metadata": {
    "collapsed": false,
    "scrolled": false
   },
   "outputs": [],
   "source": [
    "# plot feature importance\n",
    "f, ax = plt.subplots(figsize=(8,20))\n",
    "xgb.plot_importance(bst, ax=ax)"
   ]
  },
  {
   "cell_type": "code",
   "execution_count": null,
   "metadata": {
    "collapsed": true
   },
   "outputs": [],
   "source": [
    "# predict xgboost\n",
    "cdrop = ['evt_id','id']\n",
    "test.drop(cdrop, 1, inplace=True)\n",
    "mtest = test.as_matrix()\n",
    "\n",
    "clf = MyXGBClassifier(n_rounds=500,\n",
    "                      eta=0.3,\n",
    "                      max_depth=10,\n",
    "                      subsample=0.5,\n",
    "                      colsample_bytree=0.9,\n",
    "                      booster='gbtree',\n",
    "                      objective='multi:softprob',\n",
    "                      num_class=3,\n",
    "                      eval_metric='mlogloss',\n",
    "                      silent=0)\n",
    "\n",
    "mtrain = train.as_matrix()\n",
    "mlabels = labels.as_matrix()\n",
    "clf.fit(mtrain, mlabels)\n",
    "\n",
    "predictions = clf.predict_proba(mtest)\n",
    "predictions_df = pd.DataFrame({\n",
    "        'id': ids,\n",
    "        'predict_0': predictions[:, 0],\n",
    "        'predict_1': predictions[:, 1],\n",
    "        'predict_2': predictions[:, 2]\n",
    "    })\n",
    "predictions_df.to_csv('xgb_X.XXXXX.csv', index=False)"
   ]
  },
  {
   "cell_type": "markdown",
   "metadata": {
    "heading_collapsed": true
   },
   "source": [
    "## Decision Trees"
   ]
  },
  {
   "cell_type": "code",
   "execution_count": null,
   "metadata": {
    "collapsed": false,
    "scrolled": true
   },
   "outputs": [],
   "source": [
    "from sklearn.tree import DecisionTreeClassifier as DT\n",
    "from sklearn.ensemble import AdaBoostClassifier as ABC\n",
    "tree_stump = DT(max_depth=4, min_samples_leaf=1)\n",
    "\n",
    "kwargs = {'base_estimator':tree_stump,\n",
    "          'learning_rate':1,\n",
    "          'n_estimators':400,\n",
    "          'algorithm':\"SAMME\"}\n",
    "\n",
    "results = feature_mixer(df_train, attributes, ABC, **kwargs)"
   ]
  },
  {
   "cell_type": "code",
   "execution_count": 70,
   "metadata": {
    "collapsed": true
   },
   "outputs": [],
   "source": [
    "# save to hdf5 file\n",
    "hdf = pd.HDFStore(hdf_file)\n",
    "hdf.put('df_adatree', results)\n",
    "hdf.close()"
   ]
  },
  {
   "cell_type": "code",
   "execution_count": 74,
   "metadata": {
    "collapsed": false,
    "scrolled": false
   },
   "outputs": [
    {
     "data": {
      "image/png": "[encoded data removed]",
      "text/plain": [
       "<matplotlib.figure.Figure at 0x11be7be50>"
      ]
     },
     "metadata": {},
     "output_type": "display_data"
    }
   ],
   "source": [
    "plt.figure(figsize=(16, 6))\n",
    "ax = plt.subplot(111)\n",
    "results.loc[:, 'accuracy'].plot(kind='line', ax=ax, rot=90, marker='o')\n",
    "results.loc[:, 'precision'].plot(kind='line', ax=ax, color='r', rot=90, marker='o')\n",
    "results.loc[:, 'recall'].plot(kind='line', ax=ax, color='y', rot=90, marker='o')\n",
    "results.loc[:, 'f1'].plot(kind='line', ax=ax, color='g', rot=90, marker='o')\n",
    "results.loc[:, 'kscore'].plot(kind='line', ax=ax, color='b', rot=90, marker='o')\n",
    "plt.xticks(range(len(results.index)), results.attr_combo)\n",
    "plt.show()"
   ]
  },
  {
   "cell_type": "markdown",
   "metadata": {
    "heading_collapsed": true
   },
   "source": [
    "### Algorithm Tuning"
   ]
  },
  {
   "cell_type": "markdown",
   "metadata": {
    "heading_collapsed": true
   },
   "source": [
    "#### Question: What are the important features in the model?"
   ]
  },
  {
   "cell_type": "code",
   "execution_count": null,
   "metadata": {
    "collapsed": false
   },
   "outputs": [],
   "source": [
    "# feature importance\n",
    "kf = cross_validation.KFold(len(y), n_folds=10, shuffle=True, random_state=4)\n",
    "y_pred = y.copy()\n",
    "\n",
    "# keep values for all features\n",
    "feat_impt = {}\n",
    "for f in features:\n",
    "    feat_impt[f] = []\n",
    "\n",
    "# go through all features    \n",
    "for train_index, test_index in kf:\n",
    "    clf = RF(n_estimators=50, min_samples_split=2, n_jobs=-1)\n",
    "    X_train, X_test = X.ix[train_index], X.ix[test_index]\n",
    "    y_train, y_test = y[train_index], y[test_index]\n",
    "    clf.fit(X_train, y_train)\n",
    "    y_pred[test_index] = clf.predict(X_test)\n",
    "    importances = clf.feature_importances_\n",
    "    std = np.std([tree.feature_importances_ for tree in clf.estimators_], axis=0)\n",
    "    indices = np.argsort(importances)[::-1]\n",
    "    for f in range(X.shape[1]):\n",
    "        feat_impt[features[indices[f]]].append(importances[indices[f]])\n",
    "\n",
    "for k in feat_impt:\n",
    "    val = np.mean(feat_impt[k])\n",
    "    std = np.std(feat_impt[k])\n",
    "    feat_impt[k] = val"
   ]
  },
  {
   "cell_type": "code",
   "execution_count": null,
   "metadata": {
    "collapsed": false
   },
   "outputs": [],
   "source": [
    "# sort the features by importance\n",
    "sorted_feat = sorted(feat_impt.items(), key=operator.itemgetter(1))\n",
    "sorted_feat.reverse()\n",
    "\n",
    "# bookkeeping\n",
    "cumper = 0.\n",
    "nbr = False\n",
    "\n",
    "# make a copy of original dataframe to drop unneeded features\n",
    "X_keep = X.copy()\n",
    "\n",
    "# print out importances\n",
    "print \"item -- feature -- weight -- cumm_weight\"\n",
    "for i, k in enumerate(sorted_feat):\n",
    "    cumper += k[1]\n",
    "    \n",
    "    # tell me when we hit 90% of weights\n",
    "    if (nbr is False and cumper >= 0.95):\n",
    "        print '**----  Reached 95%  ----**'\n",
    "        nbr = True\n",
    "    print i, k[0], '{:.1%}'.format(k[1]), '{:.0%}'.format(cumper)\n",
    "    \n",
    "    # drop unneeded features\n",
    "    if nbr is True:\n",
    "        X_keep = X_keep.drop(k[0], axis=1)"
   ]
  },
  {
   "cell_type": "code",
   "execution_count": null,
   "metadata": {
    "collapsed": false
   },
   "outputs": [],
   "source": [
    "features_keep = X_keep.columns\n",
    "\n",
    "# checks\n",
    "print \"\\n%d observations of %d features\" % X_keep.shape\n",
    "print \"Unique labels:\", np.unique(y)\n",
    "print \"Gut-check features: %i\" % len(features_keep)"
   ]
  },
  {
   "cell_type": "markdown",
   "metadata": {},
   "source": [
    "Re-run the ML test harness for RF only and see if the model improves (below is cut and paste of earlier code)"
   ]
  },
  {
   "cell_type": "code",
   "execution_count": null,
   "metadata": {
    "collapsed": false,
    "scrolled": true
   },
   "outputs": [],
   "source": [
    "ml_models = []\n",
    "ml_models.append([\"Random Forest\", RF, {'n_estimators':72,\n",
    "                                        'min_samples_split':9,\n",
    "                                        'n_jobs':-1}])\n",
    "acc = []\n",
    "prec = []\n",
    "recl = []\n",
    "f1 = []\n",
    "cms = []\n",
    "for m in ml_models:\n",
    "    y_pred, mean_acc, mean_prec, mean_recl, mean_f1 = run_cv(X_keep, y, m[1], **m[2])\n",
    "    acc.append(mean_acc)\n",
    "    prec.append(mean_prec)\n",
    "    recl.append(mean_recl)\n",
    "    f1.append(mean_f1)\n",
    "    cms.append((m[0], metrics.confusion_matrix(y, y_pred)))\n",
    "\n",
    "draw_confusion_matrices(cms, np.unique(y))\n",
    "max_idx, max_value = max(enumerate(acc), key=operator.itemgetter(1))\n",
    "print '{:20} {:20} {:.2%}'.format('Best accuracy:', ml_models[max_idx][0], acc[max_idx])\n",
    "max_idx, max_value = max(enumerate(prec), key=operator.itemgetter(1))\n",
    "print '{:20} {:20} {:.2%}'.format('Best precision:', ml_models[max_idx][0], prec[max_idx])\n",
    "max_idx, max_value = max(enumerate(recl), key=operator.itemgetter(1))\n",
    "print '{:20} {:20} {:.2%}'.format('Best recall:', ml_models[max_idx][0], recl[max_idx])"
   ]
  },
  {
   "cell_type": "markdown",
   "metadata": {},
   "source": [
    "* RF predictive power got worse when features contributing < 10% weight were dropped.\n",
    "* **RF predictive power got better when features contributing < 5% weight were dropped.**"
   ]
  },
  {
   "cell_type": "markdown",
   "metadata": {
    "heading_collapsed": true
   },
   "source": [
    "#### Question: What model has best calibration and discrimination?"
   ]
  },
  {
   "cell_type": "markdown",
   "metadata": {},
   "source": [
    "Calibration measures the difference between actual and predicted probability for individual groups. Discrimination measures the difference between model predictions and the baseline probability. Equations are taken from [Yang, Yates, and Smith (1991)](http://psychology.huji.ac.il/.upload/Ilan/YanivYatesSmith1991PB.pdf)."
   ]
  },
  {
   "cell_type": "code",
   "execution_count": null,
   "metadata": {
    "collapsed": true
   },
   "outputs": [],
   "source": [
    "def run_prob_cv(X, y, clf_class, **kwargs):\n",
    "    kf = cross_validation.KFold(len(y), n_folds=10, shuffle=True)\n",
    "    y_prob = np.zeros((len(y), 3))\n",
    "    for train_index, test_index in kf:\n",
    "        clf = clf_class(**kwargs)\n",
    "        X_train, X_test = X.ix[train_index], X.ix[test_index]\n",
    "        y_train = y[train_index]\n",
    "        clf.fit(X_train,y_train)\n",
    "        y_prob[test_index] = clf.predict_proba(X_test)\n",
    "    return y_prob\n",
    "\n",
    "def calibration(prob, outcome,n_bins=10):\n",
    "    prob = np.array(prob)\n",
    "    outcome = np.array(outcome)\n",
    "    c = 0.0\n",
    "    judgement_bins = np.arange(n_bins + 1) / n_bins\n",
    "    bin_num = np.digitize(prob,judgement_bins)\n",
    "    for j_bin in np.unique(bin_num):\n",
    "        in_bin = bin_num == j_bin\n",
    "        predicted_prob = np.mean(prob[in_bin])\n",
    "        true_bin_prob = np.mean(outcome[in_bin])\n",
    "        c += np.sum(in_bin) * ((predicted_prob - true_bin_prob) ** 2)\n",
    "    return c / len(prob)\n",
    "\n",
    "def discrimination(prob, outcome, n_bins=10):\n",
    "    prob = np.array(prob)\n",
    "    outcome = np.array(outcome)\n",
    "    d = 0.0\n",
    "    base_prob = np.mean(outcome)\n",
    "    judgement_bins = np.arange(n_bins + 1) / n_bins\n",
    "    bin_num = np.digitize(prob,judgement_bins)\n",
    "    for j_bin in np.unique(bin_num):\n",
    "        in_bin = bin_num == j_bin\n",
    "        true_bin_prob = np.mean(outcome[in_bin])\n",
    "        d += np.sum(in_bin) * ((true_bin_prob - base_prob) ** 2)\n",
    "    return d / len(prob)"
   ]
  },
  {
   "cell_type": "code",
   "execution_count": null,
   "metadata": {
    "collapsed": false
   },
   "outputs": [],
   "source": [
    "print \"Lower calibration and higher discrimination are preferred...\"\n",
    "\n",
    "ml_models = []\n",
    "#ml_models.append([\"XGBoost\", XGBC, {'max_depth':3, 'n_estimators':300, 'learning_rate':0.05}])\n",
    "#ml_models.append([\"Support Vector Machine\", SVC, {}])\n",
    "ml_models.append([\"Linear Logistic Regression\", LR, {'multi_class':'multinomial',\n",
    "                                                     'solver':'lbfgs'}])\n",
    "ml_models.append([\"Naive Bayes\", NB, {}])\n",
    "ml_models.append([\"Decision Trees\", DT, {}])\n",
    "ml_models.append([\"Random Forest\", RF, {'n_estimators':200,\n",
    "                                        'min_samples_split':2, 'n_jobs':-1}])\n",
    "\n",
    "cal_err = []\n",
    "discrim = []\n",
    "for m in ml_models:\n",
    "    print \"\\n\"+m[0]\n",
    "    pred_prob = run_prob_cv(X, y, m[1], **m[2])\n",
    "    churn_prob, is_churn = pred_prob[:,1], y == 1\n",
    "    cal_err.append(calibration(churn_prob, is_churn))\n",
    "    discrim.append(discrimination(churn_prob,is_churn))\n",
    "    print '{:20} {:.4f}'.format(\"Calibration Error\", cal_err[-1])\n",
    "    print '{:20} {:.4f}'.format(\"Discrimination\", discrim[-1])\n",
    "    \n",
    "idx, value = min(enumerate(cal_err), key=operator.itemgetter(1))\n",
    "print '{:20} {:20} {:.3%}'.format('\\nBest calibration error:', ml_models[idx][0], cal_err[idx])\n",
    "idx, value = max(enumerate(discrim), key=operator.itemgetter(1))\n",
    "print '{:20} {:20} {:.2%}'.format('Best discrimination:', ml_models[idx][0], discrim[idx])"
   ]
  },
  {
   "cell_type": "markdown",
   "metadata": {
    "heading_collapsed": true
   },
   "source": [
    "#### Question: Can we tune the model params to get better results?"
   ]
  },
  {
   "cell_type": "code",
   "execution_count": null,
   "metadata": {
    "collapsed": true
   },
   "outputs": [],
   "source": [
    "from operator import itemgetter\n",
    "\n",
    "def report(grid_scores, n_top=3):\n",
    "    top_scores = sorted(grid_scores, key=itemgetter(1), reverse=True)[:n_top]\n",
    "    for i, score in enumerate(top_scores):\n",
    "        print(\"Model with rank: {0}\".format(i + 1))\n",
    "        print(\"Mean validation score: {0:.3f} (std: {1:.3f})\".format(\n",
    "              score.mean_validation_score,\n",
    "              np.std(score.cv_validation_scores)))\n",
    "        print(\"Parameters: {0}\".format(score.parameters))\n",
    "        print(\"\")"
   ]
  },
  {
   "cell_type": "code",
   "execution_count": null,
   "metadata": {
    "collapsed": false
   },
   "outputs": [],
   "source": [
    "clf = RF(n_jobs=-1)\n",
    "param_grid = {\"n_estimators\":[50, 75, 100],\n",
    "              \"max_depth\": [None, 3],\n",
    "              \"max_features\": [None, 'auto'],\n",
    "              \"min_samples_split\": [4, 9],\n",
    "              \"min_samples_leaf\": [1],\n",
    "              \"bootstrap\": [True, False],\n",
    "              \"criterion\": [\"gini\", \"entropy\"]}\n",
    "gs = grid_search.GridSearchCV(clf, param_grid=param_grid)\n",
    "start = time()\n",
    "gs.fit(X, y)\n",
    "\n",
    "print(\"GridSearchCV took %.2f seconds for %d candidate parameter settings.\"\n",
    "      % (time() - start, len(gs.grid_scores_)))\n",
    "report(grid_search.grid_scores_)"
   ]
  },
  {
   "cell_type": "markdown",
   "metadata": {},
   "source": [
    "**Best scores using X (took 542.40 seconds for 32 candidate parameter settings):**\n",
    "\n",
    "Model with rank: 1\n",
    "Mean validation score: 0.956 (std: 0.007)\n",
    "Parameters: {'bootstrap': True, 'min_samples_leaf': 1, 'n_estimators': 500, 'min_samples_split': 4, 'criterion': 'entropy', 'max_features': 'auto', 'max_depth': None}\n",
    "\n",
    "Model with rank: 2\n",
    "Mean validation score: 0.956 (std: 0.009)\n",
    "Parameters: {'bootstrap': False, 'min_samples_leaf': 1, 'n_estimators': 1000, 'min_samples_split': 4, 'criterion': 'entropy', 'max_features': 'auto', 'max_depth': None}\n",
    "\n",
    "Model with rank: 3\n",
    "Mean validation score: 0.955 (std: 0.006)\n",
    "Parameters: {'bootstrap': True, 'min_samples_leaf': 1, 'n_estimators': 1000, 'min_samples_split': 4, 'criterion': 'entropy', 'max_features': 'auto', 'max_depth': None}\n",
    "\n",
    "\n",
    "**Best scores using X_keep (took 471.68 seconds for 48 candidate parameter settings):**\n",
    "\n",
    "Model with rank: 1\n",
    "Mean validation score: 0.957 (std: 0.007)\n",
    "Parameters: {'bootstrap': False, 'min_samples_leaf': 1, 'n_estimators': 1000, 'min_samples_split': 4, 'criterion': 'entropy', 'max_features': 'auto', 'max_depth': None}\n",
    "\n",
    "Model with rank: 2\n",
    "Mean validation score: 0.956 (std: 0.006)\n",
    "Parameters: {'bootstrap': True, 'min_samples_leaf': 1, 'n_estimators': 500, 'min_samples_split': 4, 'criterion': 'entropy', 'max_features': 'auto', 'max_depth': None}\n",
    "\n",
    "Model with rank: 3\n",
    "Mean validation score: 0.956 (std: 0.007)\n",
    "Parameters: {'bootstrap': False, 'min_samples_leaf': 1, 'n_estimators': 50, 'min_samples_split': 4, 'criterion': 'entropy', 'max_features': 'auto', 'max_depth': None}"
   ]
  },
  {
   "cell_type": "code",
   "execution_count": null,
   "metadata": {
    "collapsed": false
   },
   "outputs": [],
   "source": [
    "ml_models = []\n",
    "ml_models.append([\"Random Forest\", RF, {'bootstrap': True,\n",
    "                                        'min_samples_leaf': 1,\n",
    "                                        'n_estimators': 500,\n",
    "                                        'min_samples_split': 4,\n",
    "                                        'criterion': 'entropy',\n",
    "                                        'max_features': 'auto',\n",
    "                                        'max_depth': None,\n",
    "                                        'n_jobs': -1}])\n",
    "acc = []\n",
    "prec = []\n",
    "recl = []\n",
    "f1 = []\n",
    "cms = []\n",
    "for m in ml_models:\n",
    "    y_pred, mean_acc, mean_prec, mean_recl, mean_f1 = run_cv(X, y, m[1], **m[2])\n",
    "    acc.append(mean_acc)\n",
    "    prec.append(mean_prec)\n",
    "    recl.append(mean_recl)\n",
    "    f1.append(mean_f1)\n",
    "    cms.append((m[0], metrics.confusion_matrix(y, y_pred)))\n",
    "draw_confusion_matrices(cms, np.unique(y))\n",
    "max_idx, max_value = max(enumerate(acc), key=operator.itemgetter(1))\n",
    "print '{:20} {:20} {:.2%}'.format('Best accuracy:', ml_models[max_idx][0], acc[max_idx])\n",
    "max_idx, max_value = max(enumerate(prec), key=operator.itemgetter(1))\n",
    "print '{:20} {:20} {:.2%}'.format('Best precision:', ml_models[max_idx][0], prec[max_idx])\n",
    "max_idx, max_value = max(enumerate(recl), key=operator.itemgetter(1))\n",
    "print '{:20} {:20} {:.2%}'.format('Best recall:', ml_models[max_idx][0], recl[max_idx])"
   ]
  },
  {
   "cell_type": "markdown",
   "metadata": {},
   "source": [
    "**This model is hardly better than the initial guess, but it's technically simpler, so I'll run with this one.**"
   ]
  },
  {
   "cell_type": "code",
   "execution_count": null,
   "metadata": {
    "collapsed": false
   },
   "outputs": [],
   "source": [
    "# Use 10 estimators so predictions are all multiples of 0.1\n",
    "m = ([\"Random Forest\", RF, {'bootstrap': True,\n",
    "                            'min_samples_leaf': 1,\n",
    "                            'n_estimators': 10,\n",
    "                            'min_samples_split': 1,\n",
    "                            'criterion': 'entropy',\n",
    "                            'max_features': 'auto',\n",
    "                            'max_depth': None,\n",
    "                            'n_jobs': -1}])\n",
    "pred_prob = run_prob_cv(X, y, m[1], **m[2])\n",
    "pred_churn = pred_prob[:,1]\n",
    "is_churn = y == 1\n",
    "\n",
    "# Number of times a predicted probability is assigned to an observation\n",
    "counts = pd.value_counts(pred_churn)\n",
    "\n",
    "# calculate true probabilities\n",
    "true_prob = {}\n",
    "for prob in counts.index:\n",
    "    true_prob[prob] = np.mean(is_churn[pred_churn == prob])\n",
    "    true_prob = pd.Series(true_prob)\n",
    "\n",
    "# pandas-fu\n",
    "counts = pd.concat([counts,true_prob], axis=1).reset_index()\n",
    "counts.columns = ['pred_prob', 'count', 'true_prob']\n",
    "counts"
   ]
  },
  {
   "cell_type": "code",
   "execution_count": null,
   "metadata": {
    "collapsed": false
   },
   "outputs": [],
   "source": [
    "from ggplot import *\n",
    "baseline = np.mean(is_churn)\n",
    "ggplot(counts, aes(x='pred_prob',y='true_prob',size='count')) + \\\n",
    "        geom_point(color='blue') + \\\n",
    "        stat_function(fun = lambda x: x, color='red') + \\\n",
    "        stat_function(fun = lambda x: baseline, color='green') + \\\n",
    "        xlim(-0.05,  1.05) + \\\n",
    "        ylim(-0.05,1.05) + \\\n",
    "        ggtitle(\"Random Forest\") + \\\n",
    "        xlab(\"Predicted probability\") + ylab(\"Relative frequency of outcome\")"
   ]
  },
  {
   "cell_type": "markdown",
   "metadata": {
    "heading_collapsed": true
   },
   "source": [
    "# Final Model"
   ]
  },
  {
   "cell_type": "code",
   "execution_count": null,
   "metadata": {
    "collapsed": true
   },
   "outputs": [],
   "source": [
    "# event, feature, resource, severity, volume, location\n",
    "\n",
    "adc = pd.read_csv('adc.csv') #efrs\n",
    "rf = pd.read_csv('randomforest.csv') #esv\n",
    "loc = pd.read_csv('location.csv') # l\n",
    "gbc = pd.read_csv('gbc.csv') # e\n",
    "nn = pd.read_csv('neural_network.csv') # rs\n",
    "xgbc = pd.read_csv('xgbc.csv') # efrsvl\n",
    "\n",
    "df_final = rf.copy()\n",
    "df_final.loc[:, 'predict_0':'predict_2'] = (\n",
    "    5.0*rf.loc[:, 'predict_0':'predict_2'] + \n",
    "    3.0*loc.loc[:, 'predict_0':'predict_2'] +\n",
    "    0.1*adc.loc[:, 'predict_0':'predict_2'] +\n",
    "    0.2*nn.loc[:, 'predict_0':'predict_2'] +\n",
    "    6.0*gbc.loc[:, 'predict_0':'predict_2'] +\n",
    "    10.0*xgbc.loc[:, 'predict_0':'predict_2']\n",
    "    )/24.3\n",
    "\n",
    "df_final.to_csv('blend.csv', index=False)"
   ]
  },
  {
   "cell_type": "code",
   "execution_count": null,
   "metadata": {
    "collapsed": true
   },
   "outputs": [],
   "source": [
    "# save to hdf5 file\n",
    "hdf = pd.HDFStore(hdf_file)\n",
    "hdf.put('df_final', df_final)\n",
    "hdf.close()\n",
    "call([\"lrztar\", \"-zf\", hdf_file])"
   ]
  },
  {
   "cell_type": "markdown",
   "metadata": {
    "heading_collapsed": true
   },
   "source": [
    "# Scratch"
   ]
  },
  {
   "cell_type": "raw",
   "metadata": {},
   "source": [
    "# log_feature_rarityThreshold <- 50\n",
    "# event_type_rarity_threshold <- 5\n",
    "\n",
    "# log_feature[, \":=\"(numlf = makeNumeric(log_feature), log_feature = makeReadable(log_feature))]\n",
    "# event_type[, \":=\"(numet = makeNumeric(event_type), event_type = makeReadable(event_type))]\n",
    "# resource_type[, \":=\"(resource_type = makeReadable(resource_type))]\n",
    "# severity_type[, \":=\"(numst = makeNumeric(severity_type), severity_type = makeReadable(severity_type))]\n",
    "\n",
    "\n",
    "# train[, \":=\"(numloc = makeNumeric(location),\n",
    "#              location = makeReadable(location))]\n",
    "# test[, \":=\"(numloc = makeNumeric(location),\n",
    "#             location = makeReadable(location), fault_severity = -1)]\n",
    "\n",
    "# total <- rbind(train, test)%>%setkey(\"id\")\n",
    "\n",
    "# if(groupCardinalities){\n",
    "#   #LF reduction\n",
    "#   rare_lf <- log_feature[total][,.N, by=log_feature][N<=log_feature_rarityThreshold][,log_feature]\n",
    "#   log_feature$log_feature[log_feature$log_feature%in%rare_lf] <- \"rare_lf\"\n",
    "  \n",
    "#   rare_et <- event_type[total][,.N, by=event_type][N<=event_type_rarity_threshold][,event_type]\n",
    "#   event_type$event_type[event_type$event_type%in%rare_et] <- \"rare_et\"\n",
    "#   rm(list=c(\"rare_lf\", \"rare_et\"))\n",
    "# }\n",
    "\n",
    "# if(computeFeatures){\n",
    "\n",
    "#   t1 <- log_feature[total][,.(\n",
    "#     loc_nid = uniqueN(id),\n",
    "#     loc_nlf = uniqueN(log_feature),\n",
    "#     loc_sumvol = sum(volume),\n",
    "#     loc_avgvol = mean(volume),\n",
    "#     loc_sdvol = ifelse(is.na(sd(volume)), 0, sd(volume)),\n",
    "#     loc_logvol = log(sum(volume)),\n",
    "#     loc_vollog = sum(log(volume+1)),\n",
    "#     loc_sqrtvol = sqrt(sum(volume)),\n",
    "#     loc_volsqrt = sum(sqrt(volume))), keyby=location]\n",
    "  \n",
    "#   t2 <- resource_type[total][, .(loc_nrt = uniqueN(resource_type)), keyby=location]\n",
    "#   t3 <- event_type[total][, .(loc_net = uniqueN(event_type)), keyby=location]\n",
    "#   t4 <- severity_type[total][, .(loc_nst = uniqueN(severity_type)), keyby=location]\n",
    "  \n",
    "#   joined_total <- resource_type[event_type][severity_type][total]\n",
    "#   # nombres de combinaisons différentes de resource_type/event_type par location\n",
    "#   t5 <- joined_total[,etrtcomb := paste(resource_type, event_type, sep = \"x\")][, .(loc_etrtcomb = uniqueN(etrtcomb)), keyby=location]\n",
    "#   t6 <- joined_total[,etstcomb := paste(severity_type, event_type, sep = \"x\")][, .(loc_etstcomb = uniqueN(etstcomb)), keyby=location]\n",
    "#   t7 <- joined_total[,rtstcomb := paste(severity_type, resource_type, sep = \"x\")][, .(loc_rtstcomb = uniqueN(rtstcomb)), keyby=location]\n",
    "  \n",
    "#   location_info_total <- t1[t2][t3][t4][t5][t6][t7]\n",
    "  \n",
    "#   lf_info <- log_feature[total][,.(\n",
    "#     sumlf = sum(numlf), \n",
    "#     avglf = mean(numlf), \n",
    "#     sdlf = ifelse(is.na(sd(numlf)), 0, sd(numlf)),\n",
    "#     minlf = min(numlf),\n",
    "#     maxlf = max(numlf)),by=id]\n",
    "  \n",
    "#   etst <- event_type[, .(\n",
    "#     id, \n",
    "#     minumet = min(numet), \n",
    "#     maxnumet = max(numet), \n",
    "#     avgnumet = mean(numet)), by=id][severity_type][total][,.(et.st = avgnumet*numst),by=id]\n",
    "  \n",
    "#   total <- total[lf_info][etst]\n",
    "#   total <- merge(total, location_info_total, by = \"location\")\n",
    "# }\n",
    "# setkeyv(total[,\":=\"(location=NULL)], c(\"id\", \"fault_severity\"))\n",
    "\n",
    "# na.ids <- log_feature[total][fault_severity != -1][is.na(log_feature)][,id]\n",
    "# if(length(na.ids) > 0)\n",
    "#   total <- total[-na.ids]\n",
    "\n",
    "# total_lf_volume  <- dcast(\n",
    "#   log_feature[total],\n",
    "#   id + fault_severity ~ log_feature,\n",
    "#   value.var = \"volume\",\n",
    "#   fun = sum\n",
    "# )\n",
    "\n",
    "# total_et <-\n",
    "#   dcast(event_type[total], id + fault_severity ~ event_type, value.var = \"event_type\", fun = length)\n",
    "# total_rt <-\n",
    "#   dcast(\n",
    "#     resource_type[total], id + fault_severity ~ resource_type, value.var = \"resource_type\", fun = length\n",
    "#   )\n",
    "# total_st <-\n",
    "#   dcast(\n",
    "#     severity_type[total], id + fault_severity ~ severity_type, value.var = \"severity_type\", fun = length\n",
    "#   )\n",
    "\n",
    "# total.wide <-\n",
    "#   total[total_lf_volume][total_et][total_rt][total_st]\n",
    "\n",
    "# if(computeManualInteractions){\n",
    "#   total.wide[,\":=\"(\n",
    "\n",
    "#     som_vol_test = (f203 * f312 * f232 * f170),\n",
    "    \n",
    "#     som_vol_feat = (f82 + f203 + f71 + f193 + f80),\n",
    "#     som_vol_feat_c0 = (f313 + f233 + f315),\n",
    "#     som_vol_feat_c1 = (f82 + f203 + f170),\n",
    "#     som_vol_feat_c2 = (f71 + f193 + f80) ) ]\n",
    "# }\n",
    "\n",
    "# train.wide <- total.wide[fault_severity != -1,-\"id\", with = FALSE]\n",
    "# test.wide <- total.wide[fault_severity == -1,-\"id\", with = FALSE]\n",
    "\n",
    "# if(writeFiles){\n",
    "#   writeLines(\"Writing train.csv and test.csv...\")\n",
    "#   write.csv(train.wide, paste(sep = \"-\", \"train.csv\"), row.names = F, quote = F)\n",
    "#   write.csv(test.wide[,.SD, .SDcols = -\"fault_severity\"], paste(sep = \"-\", \"test.csv\"), row.names = F, quote = F)\n",
    "#   writeLines(\"...done\")}\n",
    "\n",
    "# xtrain <- as.matrix(train.wide[,-\"fault_severity\", with = F])\n",
    "# names(xtrain) <- setdiff(names(train.wide), \"fault_severity\")\n",
    "# ytrain <- train.wide$fault_severity\n",
    "\n",
    "# xtest <-  as.matrix(test.wide[,-\"fault_severity\", with = F])\n",
    "# names(xtest) <- setdiff(names(test.wide), \"fault_severity\")\n",
    "# test.id <- test$id\n",
    "\n",
    "# writeLines(\"Cleaning up...\")\n",
    "# rm(list=c(\"na.ids\", \"total.wide\", \"total_et\", \"total_rt\", \"total_st\", \n",
    "#           \"total_lf_volume\", \"train.wide\", \"test.wide\", \"total\",\n",
    "#           \"location_info_total\",\"joined_total\", \"lf_info\", paste0(\"t\", 1:7)))"
   ]
  }
 ],
 "metadata": {
  "gist": {
   "data": {
    "description": "notes.ipynb",
    "public": false
   },
   "id": ""
  },
  "kernelspec": {
   "display_name": "Python 2",
   "language": "python",
   "name": "python2"
  },
  "language_info": {
   "codemirror_mode": {
    "name": "ipython",
    "version": 2
   },
   "file_extension": ".py",
   "mimetype": "text/x-python",
   "name": "python",
   "nbconvert_exporter": "python",
   "pygments_lexer": "ipython2",
   "version": "2.7.10"
  }
 },
 "nbformat": 4,
 "nbformat_minor": 0
}
