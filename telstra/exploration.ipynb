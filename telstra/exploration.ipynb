{
 "cells": [
  {
   "cell_type": "markdown",
   "metadata": {},
   "source": [
    "# Imports"
   ]
  },
  {
   "cell_type": "code",
   "execution_count": 2,
   "metadata": {
    "collapsed": false,
    "hidden": true,
    "scrolled": true
   },
   "outputs": [],
   "source": [
    "import warnings\n",
    "warnings.filterwarnings('ignore')\n",
    "import os\n",
    "import sys\n",
    "import string\n",
    "import glob\n",
    "import re\n",
    "import itertools\n",
    "import hashlib\n",
    "from collections import Counter\n",
    "\n",
    "import scipy as sp\n",
    "import numpy as np\n",
    "import pandas as pd\n",
    "\n",
    "import plotly.plotly as py\n",
    "import plotly.tools as tls\n",
    "import plotly.graph_objs as go\n",
    "import cufflinks as cf\n",
    "cf.set_config_file(offline=False, world_readable=True, theme='pearl')\n",
    "tls.set_credentials_file(username=os.environ.get('PLOTLY_USERNAME'), api_key=os.environ.get('PLOTLY_APIKEY'))\n",
    "\n",
    "import matplotlib.pyplot as plt\n",
    "import matplotlib\n",
    "%matplotlib inline\n",
    "\n",
    "import seaborn as sns\n",
    "sns.set_context(\"notebook\",\n",
    "                font_scale=1.5,\n",
    "                rc={\"lines.linewidth\": 2.5})"
   ]
  },
  {
   "cell_type": "markdown",
   "metadata": {},
   "source": [
    "# Files"
   ]
  },
  {
   "cell_type": "code",
   "execution_count": 3,
   "metadata": {
    "collapsed": false
   },
   "outputs": [
    {
     "name": "stdout",
     "output_type": "stream",
     "text": [
      "<class 'pandas.io.pytables.HDFStore'>\n",
      "File path: /Users/cavagnolo/ml_fun/telstra/data/features.h5\n",
      "/df_adatree            frame        (shape->[15,6])     \n",
      "/df_all                frame        (shape->[18552,458])\n",
      "/df_culled             frame        (shape->[17983,266])\n",
      "/df_known              frame        (shape->[569,4])    \n",
      "/df_test               frame        (shape->[11171,457])\n",
      "/df_train              frame        (shape->[7381,458]) \n"
     ]
    }
   ],
   "source": [
    "# get datadir\n",
    "import platform\n",
    "uname = platform.uname()[0]\n",
    "if uname == 'Linux':\n",
    "    datadir = '/home/kcavagnolo/ml_fun/telstra/data/'\n",
    "elif uname == 'Darwin':\n",
    "    datadir = '/Users/cavagnolo/ml_fun/telstra/data/'\n",
    "else:\n",
    "    raise OSError(\"Unknown system: \" + str(uname))\n",
    "\n",
    "# get files\n",
    "files = sorted(glob.glob(datadir + '*.csv'))\n",
    "hdf_file = datadir + 'features.h5'\n",
    "\n",
    "# reopen hdf store\n",
    "hdf = pd.HDFStore(hdf_file)\n",
    "\n",
    "# reload df's\n",
    "print hdf\n",
    "df_test = hdf['df_test']\n",
    "df_train = hdf['df_train']\n",
    "df_all = hdf['df_all']\n",
    "hdf.close()\n",
    "\n",
    "# reset indexing\n",
    "df_train = df_train.sort_values(by='id').reset_index(drop=True)\n",
    "df_test = df_test.sort_values(by='id').reset_index(drop=True)\n",
    "df_all = df_all.sort_values(by='id').reset_index(drop=True)\n",
    "\n",
    "# cols to drop\n",
    "attribute_drop = ['fault_severity', 'id', 'location', 'is_train']\n",
    "\n",
    "# col prefixes\n",
    "attributes = ['event_', 'resource_', 'severity_', 'log_feature_']"
   ]
  },
  {
   "cell_type": "code",
   "execution_count": 11,
   "metadata": {
    "collapsed": false,
    "scrolled": false
   },
   "outputs": [
    {
     "name": "stdout",
     "output_type": "stream",
     "text": [
      "Filename:       /home/kcavagnolo/ml_fun/telstra/data/event_type.csv\n",
      "Observations:   31170\n",
      "id              18552 *MULTIPLE VALS PER KEY*                     \n",
      "event_type      53 *MULTIPLE VALS PER KEY*                     \n",
      "\n",
      "\n",
      "Filename:       /home/kcavagnolo/ml_fun/telstra/data/log_feature.csv\n",
      "Observations:   58671\n",
      "id              18552 *MULTIPLE VALS PER KEY*                     \n",
      "log_feature     386 *MULTIPLE VALS PER KEY*                     \n",
      "volume          341 *MULTIPLE VALS PER KEY*                     \n",
      "\n",
      "\n",
      "Filename:       /home/kcavagnolo/ml_fun/telstra/data/resource_type.csv\n",
      "Observations:   21076\n",
      "id              18552 *MULTIPLE VALS PER KEY*                     \n",
      "resource_type   10 *MULTIPLE VALS PER KEY*                     \n",
      "\n",
      "\n",
      "Filename:       /home/kcavagnolo/ml_fun/telstra/data/sample_submission.csv\n",
      "Observations:   11171\n",
      "id              11171                                          \n",
      "predict_0       1 *MULTIPLE VALS PER KEY*                     \n",
      "predict_1       1 *MULTIPLE VALS PER KEY*                     \n",
      "predict_2       1 *MULTIPLE VALS PER KEY*                     \n",
      "\n",
      "\n",
      "Filename:       /home/kcavagnolo/ml_fun/telstra/data/severity_type.csv\n",
      "Observations:   18552\n",
      "id              18552                                          \n",
      "severity_type   5 *MULTIPLE VALS PER KEY*                     \n",
      "\n",
      "\n",
      "Filename:       /home/kcavagnolo/ml_fun/telstra/data/test.csv\n",
      "Observations:   11171\n",
      "id              11171                                          \n",
      "location        1039 *MULTIPLE VALS PER KEY*                     \n",
      "\n",
      "\n",
      "Filename:       /home/kcavagnolo/ml_fun/telstra/data/train.csv\n",
      "Observations:   7381\n",
      "id              7381                                          \n",
      "location        929 *MULTIPLE VALS PER KEY*                     \n",
      "fault_severity  3 *MULTIPLE VALS PER KEY*                     \n",
      "\n",
      "\n"
     ]
    }
   ],
   "source": [
    "# go through each file and tell me what's in it\n",
    "for f in files:\n",
    "    df = pd.read_csv(f)\n",
    "    cols = df.columns.tolist()\n",
    "    obs = df.shape[0]\n",
    "    print '{:15} {:s}'.format('Filename:', f)\n",
    "    print '{:15} {:d}'.format('Observations:', obs)\n",
    "    for c in cols:\n",
    "        uflag = \"\"\n",
    "        nflag = \"\"\n",
    "        uni = len(pd.unique(df[c].ravel()))\n",
    "        nulls = np.count_nonzero(df[c].isnull())\n",
    "        if obs != uni:\n",
    "            uflag = '*MULTIPLE VALS PER KEY*'\n",
    "        if nulls >0 :\n",
    "            nflag = '*NULLS IN COL*'\n",
    "        print '{:15} {:d} {:20} {:20}'.format(c, uni, uflag, nflag)\n",
    "    print '\\n'"
   ]
  },
  {
   "cell_type": "markdown",
   "metadata": {},
   "source": [
    "* Column names look fine, don't need to clean those\n",
    "* No nulls, hooray\n",
    "* Looks like each ID has only one severity type and multiple event types| log features| resource types:\n",
    "\n",
    "For example, in the training set, consider ID 10005:\n",
    "\n",
    "|id| item | code | sev/vol\n",
    "|:-|:-|:-:|:-:\n",
    "|10005 | location |802 | 0\n",
    "|10005|severity_type |1|\n",
    "|10005|event_type |11|\n",
    "|10005|event_type |13|\n",
    "|10005|event_type |14|\n",
    "|10005|log_feature| 345|1\n",
    "|10005|log_feature| 54|1\n",
    "|10005|resource_type |4|\n",
    "|10005|resource_type |6|\n",
    "|10005|resource_type |8|\n",
    "\n",
    "Transposing would be\n",
    "\n",
    "|id|loc|sev|evt|fea|res\n",
    "|-|\n",
    "|10005|{802:0}|1|[11,13,14]|{54:1,345:1}|[4,6,8]\n",
    "\n",
    "For a single id, the coding can't be a list, so one hot encode every type? How many are we talking?\n",
    "* 53 event types (binary)\n",
    "* 386 log features (continuous)\n",
    "* 10 resource types (binary)\n",
    "\n",
    "That's 449 features. Regardless, need to join all this data together. It's all categorical data (code_n is y/n), except for the log features which has a volume."
   ]
  },
  {
   "cell_type": "markdown",
   "metadata": {},
   "source": [
    "# Basics"
   ]
  },
  {
   "cell_type": "markdown",
   "metadata": {},
   "source": [
    "* <s>Replace missing values</s>\n",
    "* <s>Remove duplicates</s>\n",
    "* <s>One-Hot encode categorical features</s>\n",
    "* Find outliers and explain\n",
    "* <s>Scale</s>\n",
    "* <s>Standardize</s>"
   ]
  },
  {
   "cell_type": "markdown",
   "metadata": {},
   "source": [
    "## Raw"
   ]
  },
  {
   "cell_type": "code",
   "execution_count": 5,
   "metadata": {
    "collapsed": false
   },
   "outputs": [
    {
     "data": {
      "text/plain": [
       "['/Users/cavagnolo/ml_fun/telstra/data/event_type.csv',\n",
       " '/Users/cavagnolo/ml_fun/telstra/data/log_feature.csv',\n",
       " '/Users/cavagnolo/ml_fun/telstra/data/resource_type.csv',\n",
       " '/Users/cavagnolo/ml_fun/telstra/data/sample_submission.csv',\n",
       " '/Users/cavagnolo/ml_fun/telstra/data/severity_type.csv',\n",
       " '/Users/cavagnolo/ml_fun/telstra/data/test.csv',\n",
       " '/Users/cavagnolo/ml_fun/telstra/data/test_dataset.csv',\n",
       " '/Users/cavagnolo/ml_fun/telstra/data/test_dl.csv',\n",
       " '/Users/cavagnolo/ml_fun/telstra/data/test_ksmod.csv',\n",
       " '/Users/cavagnolo/ml_fun/telstra/data/test_master.csv',\n",
       " '/Users/cavagnolo/ml_fun/telstra/data/test_merge.csv',\n",
       " '/Users/cavagnolo/ml_fun/telstra/data/train.csv',\n",
       " '/Users/cavagnolo/ml_fun/telstra/data/train_dataset.csv',\n",
       " '/Users/cavagnolo/ml_fun/telstra/data/train_dl.csv',\n",
       " '/Users/cavagnolo/ml_fun/telstra/data/train_ksmod.csv',\n",
       " '/Users/cavagnolo/ml_fun/telstra/data/train_master.csv',\n",
       " '/Users/cavagnolo/ml_fun/telstra/data/train_merge.csv']"
      ]
     },
     "execution_count": 5,
     "metadata": {},
     "output_type": "execute_result"
    }
   ],
   "source": [
    "files"
   ]
  },
  {
   "cell_type": "code",
   "execution_count": 49,
   "metadata": {
    "collapsed": false
   },
   "outputs": [
    {
     "name": "stdout",
     "output_type": "stream",
     "text": [
      "(7381, 2)\n",
      "(11171, 1)\n"
     ]
    }
   ],
   "source": [
    "# build train df\n",
    "df = pd.read_csv(datadir + 'train.csv', index_col=0)\n",
    "for c in df.columns:\n",
    "    if df[c].dtypes == 'object':\n",
    "        df[c] = df[c].map(lambda x: re.sub(\"[^0-9]\", \"\", x))\n",
    "df_train = df.copy()\n",
    "\n",
    "# build test df\n",
    "df = pd.read_csv(datadir + 'test.csv', index_col=0)\n",
    "for c in df.columns:\n",
    "    if df[c].dtypes == 'object':\n",
    "        df[c] = df[c].map(lambda x: re.sub(\"[^0-9]\", \"\", x))\n",
    "df_test = df.copy()\n",
    "\n",
    "print df_train.shape\n",
    "print df_test.shape"
   ]
  },
  {
   "cell_type": "code",
   "execution_count": 68,
   "metadata": {
    "collapsed": false
   },
   "outputs": [],
   "source": [
    "sev = pd.read_csv(datadir + 'severity_type.csv', index_col='id')\n",
    "sev = sev.join(df_train, rsuffix='train')\n",
    "sev = sev.join(df_test, rsuffix='test')\n",
    "sev.severity_type = sev.severity_type.map(lambda x: re.sub(\"[^0-9]\", \"\", x))"
   ]
  },
  {
   "cell_type": "code",
   "execution_count": 71,
   "metadata": {
    "collapsed": false
   },
   "outputs": [
    {
     "data": {
      "text/html": [
       "<div>\n",
       "<table border=\"1\" class=\"dataframe\">\n",
       "  <thead>\n",
       "    <tr style=\"text-align: right;\">\n",
       "      <th></th>\n",
       "      <th>severity_type</th>\n",
       "      <th>location</th>\n",
       "      <th>fault_severity</th>\n",
       "      <th>locationtest</th>\n",
       "    </tr>\n",
       "    <tr>\n",
       "      <th>id</th>\n",
       "      <th></th>\n",
       "      <th></th>\n",
       "      <th></th>\n",
       "      <th></th>\n",
       "    </tr>\n",
       "  </thead>\n",
       "  <tbody>\n",
       "    <tr>\n",
       "      <th>6597</th>\n",
       "      <td>2</td>\n",
       "      <td>NaN</td>\n",
       "      <td>NaN</td>\n",
       "      <td>1</td>\n",
       "    </tr>\n",
       "    <tr>\n",
       "      <th>8011</th>\n",
       "      <td>2</td>\n",
       "      <td>1</td>\n",
       "      <td>0</td>\n",
       "      <td>NaN</td>\n",
       "    </tr>\n",
       "    <tr>\n",
       "      <th>2597</th>\n",
       "      <td>2</td>\n",
       "      <td>NaN</td>\n",
       "      <td>NaN</td>\n",
       "      <td>1</td>\n",
       "    </tr>\n",
       "    <tr>\n",
       "      <th>5022</th>\n",
       "      <td>1</td>\n",
       "      <td>NaN</td>\n",
       "      <td>NaN</td>\n",
       "      <td>1</td>\n",
       "    </tr>\n",
       "    <tr>\n",
       "      <th>6852</th>\n",
       "      <td>1</td>\n",
       "      <td>NaN</td>\n",
       "      <td>NaN</td>\n",
       "      <td>1</td>\n",
       "    </tr>\n",
       "    <tr>\n",
       "      <th>5611</th>\n",
       "      <td>2</td>\n",
       "      <td>NaN</td>\n",
       "      <td>NaN</td>\n",
       "      <td>1</td>\n",
       "    </tr>\n",
       "    <tr>\n",
       "      <th>14838</th>\n",
       "      <td>1</td>\n",
       "      <td>NaN</td>\n",
       "      <td>NaN</td>\n",
       "      <td>1</td>\n",
       "    </tr>\n",
       "    <tr>\n",
       "      <th>2588</th>\n",
       "      <td>1</td>\n",
       "      <td>1</td>\n",
       "      <td>0</td>\n",
       "      <td>NaN</td>\n",
       "    </tr>\n",
       "    <tr>\n",
       "      <th>4848</th>\n",
       "      <td>1</td>\n",
       "      <td>1</td>\n",
       "      <td>0</td>\n",
       "      <td>NaN</td>\n",
       "    </tr>\n",
       "    <tr>\n",
       "      <th>6914</th>\n",
       "      <td>1</td>\n",
       "      <td>1</td>\n",
       "      <td>0</td>\n",
       "      <td>NaN</td>\n",
       "    </tr>\n",
       "    <tr>\n",
       "      <th>5337</th>\n",
       "      <td>1</td>\n",
       "      <td>1</td>\n",
       "      <td>0</td>\n",
       "      <td>NaN</td>\n",
       "    </tr>\n",
       "    <tr>\n",
       "      <th>10460</th>\n",
       "      <td>1</td>\n",
       "      <td>NaN</td>\n",
       "      <td>NaN</td>\n",
       "      <td>1</td>\n",
       "    </tr>\n",
       "    <tr>\n",
       "      <th>15494</th>\n",
       "      <td>1</td>\n",
       "      <td>1</td>\n",
       "      <td>0</td>\n",
       "      <td>NaN</td>\n",
       "    </tr>\n",
       "    <tr>\n",
       "      <th>10289</th>\n",
       "      <td>1</td>\n",
       "      <td>NaN</td>\n",
       "      <td>NaN</td>\n",
       "      <td>1</td>\n",
       "    </tr>\n",
       "    <tr>\n",
       "      <th>8587</th>\n",
       "      <td>1</td>\n",
       "      <td>NaN</td>\n",
       "      <td>NaN</td>\n",
       "      <td>1</td>\n",
       "    </tr>\n",
       "    <tr>\n",
       "      <th>12943</th>\n",
       "      <td>1</td>\n",
       "      <td>NaN</td>\n",
       "      <td>NaN</td>\n",
       "      <td>1</td>\n",
       "    </tr>\n",
       "    <tr>\n",
       "      <th>590</th>\n",
       "      <td>2</td>\n",
       "      <td>NaN</td>\n",
       "      <td>NaN</td>\n",
       "      <td>1</td>\n",
       "    </tr>\n",
       "    <tr>\n",
       "      <th>16416</th>\n",
       "      <td>2</td>\n",
       "      <td>NaN</td>\n",
       "      <td>NaN</td>\n",
       "      <td>1</td>\n",
       "    </tr>\n",
       "    <tr>\n",
       "      <th>3399</th>\n",
       "      <td>1</td>\n",
       "      <td>NaN</td>\n",
       "      <td>NaN</td>\n",
       "      <td>1</td>\n",
       "    </tr>\n",
       "    <tr>\n",
       "      <th>1505</th>\n",
       "      <td>1</td>\n",
       "      <td>NaN</td>\n",
       "      <td>NaN</td>\n",
       "      <td>1</td>\n",
       "    </tr>\n",
       "    <tr>\n",
       "      <th>9446</th>\n",
       "      <td>1</td>\n",
       "      <td>NaN</td>\n",
       "      <td>NaN</td>\n",
       "      <td>1</td>\n",
       "    </tr>\n",
       "    <tr>\n",
       "      <th>12482</th>\n",
       "      <td>2</td>\n",
       "      <td>NaN</td>\n",
       "      <td>NaN</td>\n",
       "      <td>1</td>\n",
       "    </tr>\n",
       "    <tr>\n",
       "      <th>16538</th>\n",
       "      <td>1</td>\n",
       "      <td>NaN</td>\n",
       "      <td>NaN</td>\n",
       "      <td>1</td>\n",
       "    </tr>\n",
       "    <tr>\n",
       "      <th>2250</th>\n",
       "      <td>1</td>\n",
       "      <td>1</td>\n",
       "      <td>0</td>\n",
       "      <td>NaN</td>\n",
       "    </tr>\n",
       "    <tr>\n",
       "      <th>5259</th>\n",
       "      <td>1</td>\n",
       "      <td>1</td>\n",
       "      <td>0</td>\n",
       "      <td>NaN</td>\n",
       "    </tr>\n",
       "    <tr>\n",
       "      <th>12751</th>\n",
       "      <td>2</td>\n",
       "      <td>NaN</td>\n",
       "      <td>NaN</td>\n",
       "      <td>1</td>\n",
       "    </tr>\n",
       "    <tr>\n",
       "      <th>5195</th>\n",
       "      <td>2</td>\n",
       "      <td>NaN</td>\n",
       "      <td>NaN</td>\n",
       "      <td>1</td>\n",
       "    </tr>\n",
       "    <tr>\n",
       "      <th>1233</th>\n",
       "      <td>1</td>\n",
       "      <td>NaN</td>\n",
       "      <td>NaN</td>\n",
       "      <td>1</td>\n",
       "    </tr>\n",
       "    <tr>\n",
       "      <th>4703</th>\n",
       "      <td>1</td>\n",
       "      <td>1</td>\n",
       "      <td>2</td>\n",
       "      <td>NaN</td>\n",
       "    </tr>\n",
       "    <tr>\n",
       "      <th>17508</th>\n",
       "      <td>1</td>\n",
       "      <td>NaN</td>\n",
       "      <td>NaN</td>\n",
       "      <td>1</td>\n",
       "    </tr>\n",
       "    <tr>\n",
       "      <th>6008</th>\n",
       "      <td>1</td>\n",
       "      <td>NaN</td>\n",
       "      <td>NaN</td>\n",
       "      <td>1</td>\n",
       "    </tr>\n",
       "    <tr>\n",
       "      <th>2906</th>\n",
       "      <td>2</td>\n",
       "      <td>1</td>\n",
       "      <td>0</td>\n",
       "      <td>NaN</td>\n",
       "    </tr>\n",
       "    <tr>\n",
       "      <th>1247</th>\n",
       "      <td>1</td>\n",
       "      <td>1</td>\n",
       "      <td>0</td>\n",
       "      <td>NaN</td>\n",
       "    </tr>\n",
       "    <tr>\n",
       "      <th>17909</th>\n",
       "      <td>1</td>\n",
       "      <td>NaN</td>\n",
       "      <td>NaN</td>\n",
       "      <td>1</td>\n",
       "    </tr>\n",
       "    <tr>\n",
       "      <th>8148</th>\n",
       "      <td>1</td>\n",
       "      <td>1</td>\n",
       "      <td>1</td>\n",
       "      <td>NaN</td>\n",
       "    </tr>\n",
       "    <tr>\n",
       "      <th>17595</th>\n",
       "      <td>1</td>\n",
       "      <td>1</td>\n",
       "      <td>2</td>\n",
       "      <td>NaN</td>\n",
       "    </tr>\n",
       "    <tr>\n",
       "      <th>7515</th>\n",
       "      <td>1</td>\n",
       "      <td>NaN</td>\n",
       "      <td>NaN</td>\n",
       "      <td>1</td>\n",
       "    </tr>\n",
       "    <tr>\n",
       "      <th>17041</th>\n",
       "      <td>1</td>\n",
       "      <td>1</td>\n",
       "      <td>1</td>\n",
       "      <td>NaN</td>\n",
       "    </tr>\n",
       "    <tr>\n",
       "      <th>6692</th>\n",
       "      <td>2</td>\n",
       "      <td>NaN</td>\n",
       "      <td>NaN</td>\n",
       "      <td>1</td>\n",
       "    </tr>\n",
       "    <tr>\n",
       "      <th>14595</th>\n",
       "      <td>2</td>\n",
       "      <td>1</td>\n",
       "      <td>1</td>\n",
       "      <td>NaN</td>\n",
       "    </tr>\n",
       "    <tr>\n",
       "      <th>15952</th>\n",
       "      <td>1</td>\n",
       "      <td>1</td>\n",
       "      <td>1</td>\n",
       "      <td>NaN</td>\n",
       "    </tr>\n",
       "    <tr>\n",
       "      <th>9664</th>\n",
       "      <td>2</td>\n",
       "      <td>1</td>\n",
       "      <td>1</td>\n",
       "      <td>NaN</td>\n",
       "    </tr>\n",
       "    <tr>\n",
       "      <th>3952</th>\n",
       "      <td>1</td>\n",
       "      <td>1</td>\n",
       "      <td>1</td>\n",
       "      <td>NaN</td>\n",
       "    </tr>\n",
       "    <tr>\n",
       "      <th>8461</th>\n",
       "      <td>2</td>\n",
       "      <td>NaN</td>\n",
       "      <td>NaN</td>\n",
       "      <td>1</td>\n",
       "    </tr>\n",
       "    <tr>\n",
       "      <th>6743</th>\n",
       "      <td>2</td>\n",
       "      <td>NaN</td>\n",
       "      <td>NaN</td>\n",
       "      <td>1</td>\n",
       "    </tr>\n",
       "    <tr>\n",
       "      <th>16097</th>\n",
       "      <td>1</td>\n",
       "      <td>1</td>\n",
       "      <td>0</td>\n",
       "      <td>NaN</td>\n",
       "    </tr>\n",
       "    <tr>\n",
       "      <th>1235</th>\n",
       "      <td>1</td>\n",
       "      <td>1</td>\n",
       "      <td>1</td>\n",
       "      <td>NaN</td>\n",
       "    </tr>\n",
       "    <tr>\n",
       "      <th>9317</th>\n",
       "      <td>2</td>\n",
       "      <td>NaN</td>\n",
       "      <td>NaN</td>\n",
       "      <td>1</td>\n",
       "    </tr>\n",
       "    <tr>\n",
       "      <th>9651</th>\n",
       "      <td>1</td>\n",
       "      <td>NaN</td>\n",
       "      <td>NaN</td>\n",
       "      <td>1</td>\n",
       "    </tr>\n",
       "    <tr>\n",
       "      <th>7832</th>\n",
       "      <td>1</td>\n",
       "      <td>NaN</td>\n",
       "      <td>NaN</td>\n",
       "      <td>1</td>\n",
       "    </tr>\n",
       "  </tbody>\n",
       "</table>\n",
       "</div>"
      ],
      "text/plain": [
       "      severity_type location  fault_severity locationtest\n",
       "id                                                       \n",
       "6597              2      NaN             NaN            1\n",
       "8011              2        1               0          NaN\n",
       "2597              2      NaN             NaN            1\n",
       "5022              1      NaN             NaN            1\n",
       "6852              1      NaN             NaN            1\n",
       "5611              2      NaN             NaN            1\n",
       "14838             1      NaN             NaN            1\n",
       "2588              1        1               0          NaN\n",
       "4848              1        1               0          NaN\n",
       "6914              1        1               0          NaN\n",
       "5337              1        1               0          NaN\n",
       "10460             1      NaN             NaN            1\n",
       "15494             1        1               0          NaN\n",
       "10289             1      NaN             NaN            1\n",
       "8587              1      NaN             NaN            1\n",
       "12943             1      NaN             NaN            1\n",
       "590               2      NaN             NaN            1\n",
       "16416             2      NaN             NaN            1\n",
       "3399              1      NaN             NaN            1\n",
       "1505              1      NaN             NaN            1\n",
       "9446              1      NaN             NaN            1\n",
       "12482             2      NaN             NaN            1\n",
       "16538             1      NaN             NaN            1\n",
       "2250              1        1               0          NaN\n",
       "5259              1        1               0          NaN\n",
       "12751             2      NaN             NaN            1\n",
       "5195              2      NaN             NaN            1\n",
       "1233              1      NaN             NaN            1\n",
       "4703              1        1               2          NaN\n",
       "17508             1      NaN             NaN            1\n",
       "6008              1      NaN             NaN            1\n",
       "2906              2        1               0          NaN\n",
       "1247              1        1               0          NaN\n",
       "17909             1      NaN             NaN            1\n",
       "8148              1        1               1          NaN\n",
       "17595             1        1               2          NaN\n",
       "7515              1      NaN             NaN            1\n",
       "17041             1        1               1          NaN\n",
       "6692              2      NaN             NaN            1\n",
       "14595             2        1               1          NaN\n",
       "15952             1        1               1          NaN\n",
       "9664              2        1               1          NaN\n",
       "3952              1        1               1          NaN\n",
       "8461              2      NaN             NaN            1\n",
       "6743              2      NaN             NaN            1\n",
       "16097             1        1               0          NaN\n",
       "1235              1        1               1          NaN\n",
       "9317              2      NaN             NaN            1\n",
       "9651              1      NaN             NaN            1\n",
       "7832              1      NaN             NaN            1"
      ]
     },
     "execution_count": 71,
     "metadata": {},
     "output_type": "execute_result"
    }
   ],
   "source": [
    "sev.head(50)"
   ]
  },
  {
   "cell_type": "code",
   "execution_count": 85,
   "metadata": {
    "collapsed": false
   },
   "outputs": [],
   "source": [
    "sev['sev_loc_order'] = np.zeros(len(sev))"
   ]
  },
  {
   "cell_type": "code",
   "execution_count": 88,
   "metadata": {
    "collapsed": false
   },
   "outputs": [],
   "source": [
    "for loc in df_train.location.unique():\n",
    "    df = sev[(sev.location == loc) | (sev.locationtest == loc)]\n",
    "    sev['sev_loc_order'][(sev.location == loc) | (sev.locationtest == loc)] = range(0,(len(df)))"
   ]
  },
  {
   "cell_type": "code",
   "execution_count": 89,
   "metadata": {
    "collapsed": false
   },
   "outputs": [
    {
     "data": {
      "text/html": [
       "<div>\n",
       "<table border=\"1\" class=\"dataframe\">\n",
       "  <thead>\n",
       "    <tr style=\"text-align: right;\">\n",
       "      <th></th>\n",
       "      <th>severity_type</th>\n",
       "      <th>location</th>\n",
       "      <th>fault_severity</th>\n",
       "      <th>locationtest</th>\n",
       "      <th>sev_loc_order</th>\n",
       "    </tr>\n",
       "    <tr>\n",
       "      <th>id</th>\n",
       "      <th></th>\n",
       "      <th></th>\n",
       "      <th></th>\n",
       "      <th></th>\n",
       "      <th></th>\n",
       "    </tr>\n",
       "  </thead>\n",
       "  <tbody>\n",
       "    <tr>\n",
       "      <th>6597</th>\n",
       "      <td>2</td>\n",
       "      <td>NaN</td>\n",
       "      <td>NaN</td>\n",
       "      <td>1</td>\n",
       "      <td>0</td>\n",
       "    </tr>\n",
       "    <tr>\n",
       "      <th>8011</th>\n",
       "      <td>2</td>\n",
       "      <td>1</td>\n",
       "      <td>0</td>\n",
       "      <td>NaN</td>\n",
       "      <td>1</td>\n",
       "    </tr>\n",
       "    <tr>\n",
       "      <th>2597</th>\n",
       "      <td>2</td>\n",
       "      <td>NaN</td>\n",
       "      <td>NaN</td>\n",
       "      <td>1</td>\n",
       "      <td>2</td>\n",
       "    </tr>\n",
       "    <tr>\n",
       "      <th>5022</th>\n",
       "      <td>1</td>\n",
       "      <td>NaN</td>\n",
       "      <td>NaN</td>\n",
       "      <td>1</td>\n",
       "      <td>3</td>\n",
       "    </tr>\n",
       "    <tr>\n",
       "      <th>6852</th>\n",
       "      <td>1</td>\n",
       "      <td>NaN</td>\n",
       "      <td>NaN</td>\n",
       "      <td>1</td>\n",
       "      <td>4</td>\n",
       "    </tr>\n",
       "    <tr>\n",
       "      <th>5611</th>\n",
       "      <td>2</td>\n",
       "      <td>NaN</td>\n",
       "      <td>NaN</td>\n",
       "      <td>1</td>\n",
       "      <td>5</td>\n",
       "    </tr>\n",
       "    <tr>\n",
       "      <th>14838</th>\n",
       "      <td>1</td>\n",
       "      <td>NaN</td>\n",
       "      <td>NaN</td>\n",
       "      <td>1</td>\n",
       "      <td>6</td>\n",
       "    </tr>\n",
       "    <tr>\n",
       "      <th>2588</th>\n",
       "      <td>1</td>\n",
       "      <td>1</td>\n",
       "      <td>0</td>\n",
       "      <td>NaN</td>\n",
       "      <td>7</td>\n",
       "    </tr>\n",
       "    <tr>\n",
       "      <th>4848</th>\n",
       "      <td>1</td>\n",
       "      <td>1</td>\n",
       "      <td>0</td>\n",
       "      <td>NaN</td>\n",
       "      <td>8</td>\n",
       "    </tr>\n",
       "    <tr>\n",
       "      <th>6914</th>\n",
       "      <td>1</td>\n",
       "      <td>1</td>\n",
       "      <td>0</td>\n",
       "      <td>NaN</td>\n",
       "      <td>9</td>\n",
       "    </tr>\n",
       "    <tr>\n",
       "      <th>5337</th>\n",
       "      <td>1</td>\n",
       "      <td>1</td>\n",
       "      <td>0</td>\n",
       "      <td>NaN</td>\n",
       "      <td>10</td>\n",
       "    </tr>\n",
       "    <tr>\n",
       "      <th>10460</th>\n",
       "      <td>1</td>\n",
       "      <td>NaN</td>\n",
       "      <td>NaN</td>\n",
       "      <td>1</td>\n",
       "      <td>11</td>\n",
       "    </tr>\n",
       "    <tr>\n",
       "      <th>15494</th>\n",
       "      <td>1</td>\n",
       "      <td>1</td>\n",
       "      <td>0</td>\n",
       "      <td>NaN</td>\n",
       "      <td>12</td>\n",
       "    </tr>\n",
       "    <tr>\n",
       "      <th>10289</th>\n",
       "      <td>1</td>\n",
       "      <td>NaN</td>\n",
       "      <td>NaN</td>\n",
       "      <td>1</td>\n",
       "      <td>13</td>\n",
       "    </tr>\n",
       "    <tr>\n",
       "      <th>8587</th>\n",
       "      <td>1</td>\n",
       "      <td>NaN</td>\n",
       "      <td>NaN</td>\n",
       "      <td>1</td>\n",
       "      <td>14</td>\n",
       "    </tr>\n",
       "    <tr>\n",
       "      <th>12943</th>\n",
       "      <td>1</td>\n",
       "      <td>NaN</td>\n",
       "      <td>NaN</td>\n",
       "      <td>1</td>\n",
       "      <td>15</td>\n",
       "    </tr>\n",
       "    <tr>\n",
       "      <th>590</th>\n",
       "      <td>2</td>\n",
       "      <td>NaN</td>\n",
       "      <td>NaN</td>\n",
       "      <td>1</td>\n",
       "      <td>16</td>\n",
       "    </tr>\n",
       "    <tr>\n",
       "      <th>16416</th>\n",
       "      <td>2</td>\n",
       "      <td>NaN</td>\n",
       "      <td>NaN</td>\n",
       "      <td>1</td>\n",
       "      <td>17</td>\n",
       "    </tr>\n",
       "    <tr>\n",
       "      <th>3399</th>\n",
       "      <td>1</td>\n",
       "      <td>NaN</td>\n",
       "      <td>NaN</td>\n",
       "      <td>1</td>\n",
       "      <td>18</td>\n",
       "    </tr>\n",
       "    <tr>\n",
       "      <th>1505</th>\n",
       "      <td>1</td>\n",
       "      <td>NaN</td>\n",
       "      <td>NaN</td>\n",
       "      <td>1</td>\n",
       "      <td>19</td>\n",
       "    </tr>\n",
       "    <tr>\n",
       "      <th>9446</th>\n",
       "      <td>1</td>\n",
       "      <td>NaN</td>\n",
       "      <td>NaN</td>\n",
       "      <td>1</td>\n",
       "      <td>20</td>\n",
       "    </tr>\n",
       "    <tr>\n",
       "      <th>12482</th>\n",
       "      <td>2</td>\n",
       "      <td>NaN</td>\n",
       "      <td>NaN</td>\n",
       "      <td>1</td>\n",
       "      <td>21</td>\n",
       "    </tr>\n",
       "    <tr>\n",
       "      <th>16538</th>\n",
       "      <td>1</td>\n",
       "      <td>NaN</td>\n",
       "      <td>NaN</td>\n",
       "      <td>1</td>\n",
       "      <td>22</td>\n",
       "    </tr>\n",
       "    <tr>\n",
       "      <th>2250</th>\n",
       "      <td>1</td>\n",
       "      <td>1</td>\n",
       "      <td>0</td>\n",
       "      <td>NaN</td>\n",
       "      <td>23</td>\n",
       "    </tr>\n",
       "    <tr>\n",
       "      <th>5259</th>\n",
       "      <td>1</td>\n",
       "      <td>1</td>\n",
       "      <td>0</td>\n",
       "      <td>NaN</td>\n",
       "      <td>24</td>\n",
       "    </tr>\n",
       "    <tr>\n",
       "      <th>12751</th>\n",
       "      <td>2</td>\n",
       "      <td>NaN</td>\n",
       "      <td>NaN</td>\n",
       "      <td>1</td>\n",
       "      <td>25</td>\n",
       "    </tr>\n",
       "    <tr>\n",
       "      <th>5195</th>\n",
       "      <td>2</td>\n",
       "      <td>NaN</td>\n",
       "      <td>NaN</td>\n",
       "      <td>1</td>\n",
       "      <td>26</td>\n",
       "    </tr>\n",
       "    <tr>\n",
       "      <th>1233</th>\n",
       "      <td>1</td>\n",
       "      <td>NaN</td>\n",
       "      <td>NaN</td>\n",
       "      <td>1</td>\n",
       "      <td>27</td>\n",
       "    </tr>\n",
       "    <tr>\n",
       "      <th>4703</th>\n",
       "      <td>1</td>\n",
       "      <td>1</td>\n",
       "      <td>2</td>\n",
       "      <td>NaN</td>\n",
       "      <td>28</td>\n",
       "    </tr>\n",
       "    <tr>\n",
       "      <th>17508</th>\n",
       "      <td>1</td>\n",
       "      <td>NaN</td>\n",
       "      <td>NaN</td>\n",
       "      <td>1</td>\n",
       "      <td>29</td>\n",
       "    </tr>\n",
       "    <tr>\n",
       "      <th>...</th>\n",
       "      <td>...</td>\n",
       "      <td>...</td>\n",
       "      <td>...</td>\n",
       "      <td>...</td>\n",
       "      <td>...</td>\n",
       "    </tr>\n",
       "    <tr>\n",
       "      <th>2240</th>\n",
       "      <td>1</td>\n",
       "      <td>10</td>\n",
       "      <td>0</td>\n",
       "      <td>NaN</td>\n",
       "      <td>1</td>\n",
       "    </tr>\n",
       "    <tr>\n",
       "      <th>5356</th>\n",
       "      <td>1</td>\n",
       "      <td>NaN</td>\n",
       "      <td>NaN</td>\n",
       "      <td>10</td>\n",
       "      <td>2</td>\n",
       "    </tr>\n",
       "    <tr>\n",
       "      <th>1285</th>\n",
       "      <td>2</td>\n",
       "      <td>NaN</td>\n",
       "      <td>NaN</td>\n",
       "      <td>100</td>\n",
       "      <td>0</td>\n",
       "    </tr>\n",
       "    <tr>\n",
       "      <th>17155</th>\n",
       "      <td>1</td>\n",
       "      <td>NaN</td>\n",
       "      <td>NaN</td>\n",
       "      <td>100</td>\n",
       "      <td>1</td>\n",
       "    </tr>\n",
       "    <tr>\n",
       "      <th>1308</th>\n",
       "      <td>2</td>\n",
       "      <td>100</td>\n",
       "      <td>0</td>\n",
       "      <td>NaN</td>\n",
       "      <td>2</td>\n",
       "    </tr>\n",
       "    <tr>\n",
       "      <th>3251</th>\n",
       "      <td>2</td>\n",
       "      <td>NaN</td>\n",
       "      <td>NaN</td>\n",
       "      <td>100</td>\n",
       "      <td>3</td>\n",
       "    </tr>\n",
       "    <tr>\n",
       "      <th>9313</th>\n",
       "      <td>1</td>\n",
       "      <td>100</td>\n",
       "      <td>0</td>\n",
       "      <td>NaN</td>\n",
       "      <td>4</td>\n",
       "    </tr>\n",
       "    <tr>\n",
       "      <th>14926</th>\n",
       "      <td>2</td>\n",
       "      <td>NaN</td>\n",
       "      <td>NaN</td>\n",
       "      <td>100</td>\n",
       "      <td>5</td>\n",
       "    </tr>\n",
       "    <tr>\n",
       "      <th>17407</th>\n",
       "      <td>2</td>\n",
       "      <td>100</td>\n",
       "      <td>0</td>\n",
       "      <td>NaN</td>\n",
       "      <td>6</td>\n",
       "    </tr>\n",
       "    <tr>\n",
       "      <th>6395</th>\n",
       "      <td>2</td>\n",
       "      <td>100</td>\n",
       "      <td>0</td>\n",
       "      <td>NaN</td>\n",
       "      <td>7</td>\n",
       "    </tr>\n",
       "    <tr>\n",
       "      <th>16600</th>\n",
       "      <td>2</td>\n",
       "      <td>NaN</td>\n",
       "      <td>NaN</td>\n",
       "      <td>100</td>\n",
       "      <td>8</td>\n",
       "    </tr>\n",
       "    <tr>\n",
       "      <th>137</th>\n",
       "      <td>2</td>\n",
       "      <td>NaN</td>\n",
       "      <td>NaN</td>\n",
       "      <td>100</td>\n",
       "      <td>9</td>\n",
       "    </tr>\n",
       "    <tr>\n",
       "      <th>17255</th>\n",
       "      <td>2</td>\n",
       "      <td>100</td>\n",
       "      <td>0</td>\n",
       "      <td>NaN</td>\n",
       "      <td>10</td>\n",
       "    </tr>\n",
       "    <tr>\n",
       "      <th>8443</th>\n",
       "      <td>2</td>\n",
       "      <td>NaN</td>\n",
       "      <td>NaN</td>\n",
       "      <td>100</td>\n",
       "      <td>11</td>\n",
       "    </tr>\n",
       "    <tr>\n",
       "      <th>9291</th>\n",
       "      <td>2</td>\n",
       "      <td>NaN</td>\n",
       "      <td>NaN</td>\n",
       "      <td>100</td>\n",
       "      <td>12</td>\n",
       "    </tr>\n",
       "    <tr>\n",
       "      <th>1821</th>\n",
       "      <td>2</td>\n",
       "      <td>NaN</td>\n",
       "      <td>NaN</td>\n",
       "      <td>100</td>\n",
       "      <td>13</td>\n",
       "    </tr>\n",
       "    <tr>\n",
       "      <th>13270</th>\n",
       "      <td>2</td>\n",
       "      <td>NaN</td>\n",
       "      <td>NaN</td>\n",
       "      <td>100</td>\n",
       "      <td>14</td>\n",
       "    </tr>\n",
       "    <tr>\n",
       "      <th>18500</th>\n",
       "      <td>2</td>\n",
       "      <td>NaN</td>\n",
       "      <td>NaN</td>\n",
       "      <td>100</td>\n",
       "      <td>15</td>\n",
       "    </tr>\n",
       "    <tr>\n",
       "      <th>8774</th>\n",
       "      <td>4</td>\n",
       "      <td>100</td>\n",
       "      <td>0</td>\n",
       "      <td>NaN</td>\n",
       "      <td>16</td>\n",
       "    </tr>\n",
       "    <tr>\n",
       "      <th>1243</th>\n",
       "      <td>2</td>\n",
       "      <td>NaN</td>\n",
       "      <td>NaN</td>\n",
       "      <td>100</td>\n",
       "      <td>17</td>\n",
       "    </tr>\n",
       "    <tr>\n",
       "      <th>6474</th>\n",
       "      <td>2</td>\n",
       "      <td>100</td>\n",
       "      <td>1</td>\n",
       "      <td>NaN</td>\n",
       "      <td>18</td>\n",
       "    </tr>\n",
       "    <tr>\n",
       "      <th>15687</th>\n",
       "      <td>2</td>\n",
       "      <td>NaN</td>\n",
       "      <td>NaN</td>\n",
       "      <td>100</td>\n",
       "      <td>19</td>\n",
       "    </tr>\n",
       "    <tr>\n",
       "      <th>16351</th>\n",
       "      <td>2</td>\n",
       "      <td>NaN</td>\n",
       "      <td>NaN</td>\n",
       "      <td>100</td>\n",
       "      <td>20</td>\n",
       "    </tr>\n",
       "    <tr>\n",
       "      <th>5163</th>\n",
       "      <td>2</td>\n",
       "      <td>NaN</td>\n",
       "      <td>NaN</td>\n",
       "      <td>100</td>\n",
       "      <td>21</td>\n",
       "    </tr>\n",
       "    <tr>\n",
       "      <th>12650</th>\n",
       "      <td>4</td>\n",
       "      <td>100</td>\n",
       "      <td>0</td>\n",
       "      <td>NaN</td>\n",
       "      <td>22</td>\n",
       "    </tr>\n",
       "    <tr>\n",
       "      <th>7116</th>\n",
       "      <td>2</td>\n",
       "      <td>NaN</td>\n",
       "      <td>NaN</td>\n",
       "      <td>100</td>\n",
       "      <td>23</td>\n",
       "    </tr>\n",
       "    <tr>\n",
       "      <th>18189</th>\n",
       "      <td>2</td>\n",
       "      <td>NaN</td>\n",
       "      <td>NaN</td>\n",
       "      <td>100</td>\n",
       "      <td>24</td>\n",
       "    </tr>\n",
       "    <tr>\n",
       "      <th>2653</th>\n",
       "      <td>4</td>\n",
       "      <td>100</td>\n",
       "      <td>0</td>\n",
       "      <td>NaN</td>\n",
       "      <td>25</td>\n",
       "    </tr>\n",
       "    <tr>\n",
       "      <th>3331</th>\n",
       "      <td>2</td>\n",
       "      <td>100</td>\n",
       "      <td>0</td>\n",
       "      <td>NaN</td>\n",
       "      <td>26</td>\n",
       "    </tr>\n",
       "    <tr>\n",
       "      <th>3375</th>\n",
       "      <td>2</td>\n",
       "      <td>100</td>\n",
       "      <td>0</td>\n",
       "      <td>NaN</td>\n",
       "      <td>27</td>\n",
       "    </tr>\n",
       "  </tbody>\n",
       "</table>\n",
       "<p>100 rows × 5 columns</p>\n",
       "</div>"
      ],
      "text/plain": [
       "      severity_type location  fault_severity locationtest  sev_loc_order\n",
       "id                                                                      \n",
       "6597              2      NaN             NaN            1              0\n",
       "8011              2        1               0          NaN              1\n",
       "2597              2      NaN             NaN            1              2\n",
       "5022              1      NaN             NaN            1              3\n",
       "6852              1      NaN             NaN            1              4\n",
       "5611              2      NaN             NaN            1              5\n",
       "14838             1      NaN             NaN            1              6\n",
       "2588              1        1               0          NaN              7\n",
       "4848              1        1               0          NaN              8\n",
       "6914              1        1               0          NaN              9\n",
       "5337              1        1               0          NaN             10\n",
       "10460             1      NaN             NaN            1             11\n",
       "15494             1        1               0          NaN             12\n",
       "10289             1      NaN             NaN            1             13\n",
       "8587              1      NaN             NaN            1             14\n",
       "12943             1      NaN             NaN            1             15\n",
       "590               2      NaN             NaN            1             16\n",
       "16416             2      NaN             NaN            1             17\n",
       "3399              1      NaN             NaN            1             18\n",
       "1505              1      NaN             NaN            1             19\n",
       "9446              1      NaN             NaN            1             20\n",
       "12482             2      NaN             NaN            1             21\n",
       "16538             1      NaN             NaN            1             22\n",
       "2250              1        1               0          NaN             23\n",
       "5259              1        1               0          NaN             24\n",
       "12751             2      NaN             NaN            1             25\n",
       "5195              2      NaN             NaN            1             26\n",
       "1233              1      NaN             NaN            1             27\n",
       "4703              1        1               2          NaN             28\n",
       "17508             1      NaN             NaN            1             29\n",
       "...             ...      ...             ...          ...            ...\n",
       "2240              1       10               0          NaN              1\n",
       "5356              1      NaN             NaN           10              2\n",
       "1285              2      NaN             NaN          100              0\n",
       "17155             1      NaN             NaN          100              1\n",
       "1308              2      100               0          NaN              2\n",
       "3251              2      NaN             NaN          100              3\n",
       "9313              1      100               0          NaN              4\n",
       "14926             2      NaN             NaN          100              5\n",
       "17407             2      100               0          NaN              6\n",
       "6395              2      100               0          NaN              7\n",
       "16600             2      NaN             NaN          100              8\n",
       "137               2      NaN             NaN          100              9\n",
       "17255             2      100               0          NaN             10\n",
       "8443              2      NaN             NaN          100             11\n",
       "9291              2      NaN             NaN          100             12\n",
       "1821              2      NaN             NaN          100             13\n",
       "13270             2      NaN             NaN          100             14\n",
       "18500             2      NaN             NaN          100             15\n",
       "8774              4      100               0          NaN             16\n",
       "1243              2      NaN             NaN          100             17\n",
       "6474              2      100               1          NaN             18\n",
       "15687             2      NaN             NaN          100             19\n",
       "16351             2      NaN             NaN          100             20\n",
       "5163              2      NaN             NaN          100             21\n",
       "12650             4      100               0          NaN             22\n",
       "7116              2      NaN             NaN          100             23\n",
       "18189             2      NaN             NaN          100             24\n",
       "2653              4      100               0          NaN             25\n",
       "3331              2      100               0          NaN             26\n",
       "3375              2      100               0          NaN             27\n",
       "\n",
       "[100 rows x 5 columns]"
      ]
     },
     "execution_count": 89,
     "metadata": {},
     "output_type": "execute_result"
    }
   ],
   "source": [
    "sev.head(100)"
   ]
  },
  {
   "cell_type": "markdown",
   "metadata": {
    "heading_collapsed": true
   },
   "source": [
    "## Scaling"
   ]
  },
  {
   "cell_type": "code",
   "execution_count": null,
   "metadata": {
    "collapsed": false,
    "hidden": true
   },
   "outputs": [],
   "source": [
    "# read raw volumes\n",
    "df = pd.read_csv(files[1])\n",
    "\n",
    "# cleanup col names\n",
    "for c in df.columns:\n",
    "    if df[c].dtypes == 'object':\n",
    "        df[c] = df[c].map(lambda x: re.sub(\"[^0-9]\", \"\", x))\n",
    "        \n",
    "# re-org by id        \n",
    "vols = df.pivot(index='id', columns='log_feature', values='volume').fillna(0)\n",
    "cnames = ['log_feature_'+str(x) for x in vols.columns]\n",
    "\n",
    "# scale or min-max\n",
    "vols_scl = vols.apply(lambda x: preprocessing.MinMaxScaler().fit_transform(x))\n",
    "vols_scl.columns = cnames"
   ]
  },
  {
   "cell_type": "markdown",
   "metadata": {
    "heading_collapsed": true
   },
   "source": [
    "## One hot and join"
   ]
  },
  {
   "cell_type": "code",
   "execution_count": null,
   "metadata": {
    "collapsed": true,
    "hidden": true
   },
   "outputs": [],
   "source": [
    "# add categorical event_type, resource_type, severity_type\n",
    "nfiles = [files[0], files[2], files[3]]\n",
    "for f in nfiles:\n",
    "    df = pd.read_csv(f, index_col=0)\n",
    "    for c in df.columns:\n",
    "        df[c] = df[c].map(lambda x: re.sub(\"[^0-9]\", \"\", x))\n",
    "    dfv = pd.get_dummies(df).groupby(df.index).sum()\n",
    "    df_train = df_train.join(dfv)\n",
    "    df_test = df_test.join(dfv)"
   ]
  },
  {
   "cell_type": "code",
   "execution_count": null,
   "metadata": {
    "collapsed": false,
    "hidden": true
   },
   "outputs": [],
   "source": [
    "# join volumes\n",
    "df_train = df_train.join(vols_scl)\n",
    "df_test = df_test.join(vols_scl)"
   ]
  },
  {
   "cell_type": "code",
   "execution_count": null,
   "metadata": {
    "collapsed": false,
    "hidden": true
   },
   "outputs": [],
   "source": [
    "# gut check the 10005 entry from above\n",
    "junk = df_train.T\n",
    "x = junk.loc[:, 10005] > 0\n",
    "x[x].index"
   ]
  },
  {
   "cell_type": "markdown",
   "metadata": {
    "heading_collapsed": true
   },
   "source": [
    "# Save"
   ]
  },
  {
   "cell_type": "code",
   "execution_count": null,
   "metadata": {
    "collapsed": true,
    "hidden": true
   },
   "outputs": [],
   "source": [
    "# merge df's\n",
    "df_train.reset_index(inplace=True)\n",
    "df_test.reset_index(inplace=True)\n",
    "df_train['is_train'] = True\n",
    "df_test['is_train'] = False\n",
    "df_all = pd.concat([df_train, df_test], axis=0, ignore_index=False)\n",
    "a = df_train.shape[0]\n",
    "b = df_test.shape[0]\n",
    "c = df_all.shape[0]\n",
    "assert(a + b == c, \"DF's are not summing correctly\")"
   ]
  },
  {
   "cell_type": "code",
   "execution_count": null,
   "metadata": {
    "collapsed": false,
    "hidden": true
   },
   "outputs": [],
   "source": [
    "# save to hdf5 for easier loading later\n",
    "call([\"rm\", \"-rf\", hdf_file])\n",
    "hdf = pd.HDFStore(hdf_file)\n",
    "hdf.put('df_test', df_test)\n",
    "hdf.put('df_train', df_train)\n",
    "hdf.put('df_all', df_all)\n",
    "hdf.close()"
   ]
  },
  {
   "cell_type": "markdown",
   "metadata": {},
   "source": [
    "# Attribute Summaries"
   ]
  },
  {
   "cell_type": "markdown",
   "metadata": {
    "heading_collapsed": true
   },
   "source": [
    "## Relations"
   ]
  },
  {
   "cell_type": "code",
   "execution_count": 4,
   "metadata": {
    "collapsed": false,
    "hidden": true
   },
   "outputs": [
    {
     "name": "stdout",
     "output_type": "stream",
     "text": [
      "The draw time for this plot will be slow for all clients.\n"
     ]
    },
    {
     "data": {
      "text/html": [
       "<iframe id=\"igraph\" scrolling=\"no\" style=\"border:none;\"seamless=\"seamless\" src=\"https://plot.ly/~kcavagnolo/660.embed\" height=\"525px\" width=\"100%\"></iframe>"
      ],
      "text/plain": [
       "<plotly.tools.PlotlyDisplay object>"
      ]
     },
     "execution_count": 4,
     "metadata": {},
     "output_type": "execute_result"
    }
   ],
   "source": [
    "df_all[['id','location', 'fault_severity']].scatter_matrix()"
   ]
  },
  {
   "cell_type": "markdown",
   "metadata": {
    "hidden": true
   },
   "source": [
    "Looks like locations 100-500 don't produce any fault_sev==2 events. This could be useful to a model, so maybe don't throw out location as I had previously."
   ]
  },
  {
   "cell_type": "code",
   "execution_count": 110,
   "metadata": {
    "collapsed": false,
    "hidden": true,
    "scrolled": true
   },
   "outputs": [
    {
     "data": {
      "text/plain": [
       "location  fault_severity\n",
       "1         0                 14\n",
       "          1                  8\n",
       "          2                  2\n",
       "10        0                  1\n",
       "100       0                 13\n",
       "          1                  2\n",
       "1000      0                  3\n",
       "1002      0                  1\n",
       "1005      0                  1\n",
       "1006      0                  3\n",
       "1007      0                 16\n",
       "          1                  3\n",
       "1008      0                 34\n",
       "          1                 21\n",
       "          2                 16\n",
       "1009      0                  4\n",
       "101       0                  1\n",
       "1010      0                 13\n",
       "          1                  6\n",
       "1011      0                  1\n",
       "          1                  7\n",
       "          2                  1\n",
       "1013      0                  1\n",
       "1014      0                  5\n",
       "          1                  6\n",
       "          2                  1\n",
       "1015      0                  5\n",
       "          1                  6\n",
       "1016      1                  2\n",
       "          2                  1\n",
       "                            ..\n",
       "979       1                  1\n",
       "980       0                  1\n",
       "          1                  2\n",
       "981       0                  1\n",
       "          1                  1\n",
       "983       0                  2\n",
       "          1                  3\n",
       "984       0                  7\n",
       "          1                  8\n",
       "          2                  4\n",
       "987       0                  1\n",
       "989       0                  3\n",
       "          1                 11\n",
       "          2                  2\n",
       "99        0                  2\n",
       "990       0                  3\n",
       "          1                  3\n",
       "991       1                  1\n",
       "          2                  2\n",
       "994       0                  5\n",
       "995       0                  4\n",
       "          1                 14\n",
       "          2                 22\n",
       "996       0                  1\n",
       "          1                  3\n",
       "998       0                  4\n",
       "          1                  6\n",
       "          2                  1\n",
       "999       0                  3\n",
       "          1                  3\n",
       "dtype: int64"
      ]
     },
     "execution_count": 110,
     "metadata": {},
     "output_type": "execute_result"
    }
   ],
   "source": [
    "df_all.groupby(['location', 'fault_severity']).size()"
   ]
  },
  {
   "cell_type": "markdown",
   "metadata": {
    "heading_collapsed": true
   },
   "source": [
    "## Histograms"
   ]
  },
  {
   "cell_type": "code",
   "execution_count": 3,
   "metadata": {
    "collapsed": false,
    "hidden": true,
    "scrolled": false
   },
   "outputs": [
    {
     "data": {
      "text/html": [
       "<iframe id=\"igraph\" scrolling=\"no\" style=\"border:none;\"seamless=\"seamless\" src=\"https://plot.ly/~kcavagnolo/658.embed\" height=\"525px\" width=\"100%\"></iframe>"
      ],
      "text/plain": [
       "<plotly.tools.PlotlyDisplay object>"
      ]
     },
     "execution_count": 3,
     "metadata": {},
     "output_type": "execute_result"
    }
   ],
   "source": [
    "# build axes\n",
    "mpl_fig = plt.figure()\n",
    "ax1 = mpl_fig.add_subplot(411)\n",
    "ax2 = mpl_fig.add_subplot(412)\n",
    "ax3 = mpl_fig.add_subplot(413)\n",
    "ax4 = mpl_fig.add_subplot(414)\n",
    "axs = [ax1, ax2, ax3, ax4]\n",
    "\n",
    "# iterate over each\n",
    "for cond in [True, False]:\n",
    "    for i, b in enumerate(attributes):\n",
    "        y = df_all[(df_all.is_train == cond)].filter(regex=b).apply(pd.value_counts).fillna(0).T[0]\n",
    "        y = 100.*(1.0-(y/df_all[(df_all.is_train == cond)].shape[0]))\n",
    "        x = range(1, len(y)+1)\n",
    "        axs[i].bar(x, y, label=attributes[i])\n",
    "        axs[i].set_ylabel(attributes[i])\n",
    "py.iplot_mpl(mpl_fig, strip_style=True)"
   ]
  },
  {
   "cell_type": "markdown",
   "metadata": {
    "hidden": true
   },
   "source": [
    "Distributions looks similar, so train will cv w/ test. Any structure in sequence of ID's?"
   ]
  },
  {
   "cell_type": "markdown",
   "metadata": {
    "heading_collapsed": true
   },
   "source": [
    "## Sequencing"
   ]
  },
  {
   "cell_type": "code",
   "execution_count": 35,
   "metadata": {
    "collapsed": false,
    "hidden": true
   },
   "outputs": [
    {
     "name": "stdout",
     "output_type": "stream",
     "text": [
      "The draw time for this plot will be slow for clients without much RAM.\n"
     ]
    },
    {
     "data": {
      "text/html": [
       "<iframe id=\"igraph\" scrolling=\"no\" style=\"border:none;\"seamless=\"seamless\" src=\"https://plot.ly/~kcavagnolo/594.embed\" height=\"525px\" width=\"100%\"></iframe>"
      ],
      "text/plain": [
       "<plotly.tools.PlotlyDisplay object>"
      ]
     },
     "execution_count": 35,
     "metadata": {},
     "output_type": "execute_result"
    }
   ],
   "source": [
    "df = df_all[['id', 'fault_severity', 'location']].set_index('id')\n",
    "df.iplot(subplots=True, shape=(2,1), shared_xaxes=True)"
   ]
  },
  {
   "cell_type": "markdown",
   "metadata": {
    "hidden": true
   },
   "source": [
    "Both look like noise to me, gonna leave it for now. What about correlations among the various codes?"
   ]
  },
  {
   "cell_type": "markdown",
   "metadata": {},
   "source": [
    "## Correlations"
   ]
  },
  {
   "cell_type": "code",
   "execution_count": 4,
   "metadata": {
    "collapsed": true,
    "hidden": true
   },
   "outputs": [],
   "source": [
    "strongly_correlated = []\n",
    "corr_thresh = 0.12"
   ]
  },
  {
   "cell_type": "code",
   "execution_count": 5,
   "metadata": {
    "collapsed": false,
    "hidden": true,
    "scrolled": false
   },
   "outputs": [
    {
     "data": {
      "text/plain": [
       "<matplotlib.figure.Figure at 0x7f89fbbe7f10>"
      ]
     },
     "metadata": {},
     "output_type": "display_data"
    },
    {
     "data": {
      "image/png": "[encoded data removed]",
      "text/plain": [
       "<matplotlib.figure.Figure at 0x7f89fa841d50>"
      ]
     },
     "metadata": {},
     "output_type": "display_data"
    },
    {
     "data": {
      "text/plain": [
       "<matplotlib.figure.Figure at 0x7f8a2c14a390>"
      ]
     },
     "metadata": {},
     "output_type": "display_data"
    },
    {
     "data": {
      "image/png": "[encoded data removed]",
      "text/plain": [
       "<matplotlib.figure.Figure at 0x7f89fa554bd0>"
      ]
     },
     "metadata": {},
     "output_type": "display_data"
    },
    {
     "data": {
      "text/plain": [
       "<matplotlib.figure.Figure at 0x7f89fa9cd290>"
      ]
     },
     "metadata": {},
     "output_type": "display_data"
    },
    {
     "data": {
      "image/png": "[encoded data removed]",
      "text/plain": [
       "<matplotlib.figure.Figure at 0x7f89fa18d090>"
      ]
     },
     "metadata": {},
     "output_type": "display_data"
    }
   ],
   "source": [
    "a = ['severity_type', 'event_type', 'resource_type']\n",
    "for b in a:\n",
    "\n",
    "    # correlation matrix\n",
    "    c = df_all.filter(regex=b).copy()\n",
    "    corr = c.corr(min_periods=len(c.columns)/10)\n",
    "\n",
    "    # colormap\n",
    "    cmap = sns.light_palette(\"navy\", as_cmap=True, reverse=True)\n",
    "    \n",
    "    # clustered heatmap of distances w/o mask\n",
    "    # dist 0 --> close, 1 --> distant\n",
    "    dsim = 1.0-np.abs(corr)\n",
    "    \n",
    "    # find degenerate params\n",
    "    mask = np.ones(dsim.shape,dtype='bool')\n",
    "    mask[np.triu_indices(len(dsim))] = False\n",
    "    x = ((dsim < corr_thresh) & mask).values.nonzero()\n",
    "    a = zip(x[0], x[1])\n",
    "    for x, y in a:\n",
    "        i1 = dsim.index[x]\n",
    "        i2 = dsim.columns[y]\n",
    "        strongly_correlated.append((i1, i2))\n",
    "\n",
    "    # plot matrix\n",
    "    if len(dsim) > 10:\n",
    "        annot=False\n",
    "    else:\n",
    "        annot=True\n",
    "    plt.figure(figsize=(15, 12))\n",
    "    g = sns.clustermap(data=dsim,\n",
    "                       method='complete',\n",
    "                       metric='correlation',\n",
    "                       cmap=cmap, linewidths=0.5, vmin=0.0, vmax = 1.0,\n",
    "                       annot=annot, fmt='.2f', annot_kws={'size':'10'})\n",
    "    plt.setp(g.ax_heatmap.yaxis.get_majorticklabels(), rotation=0)"
   ]
  },
  {
   "cell_type": "code",
   "execution_count": 6,
   "metadata": {
    "collapsed": true,
    "hidden": true
   },
   "outputs": [],
   "source": [
    "# log_feature specific\n",
    "c = df_all.filter(regex='log_feature').copy()\n",
    "log_corr = c.corr(min_periods=len(c.columns)/10)\n",
    "log_dsim = 1.0-np.abs(log_corr)"
   ]
  },
  {
   "cell_type": "code",
   "execution_count": 7,
   "metadata": {
    "collapsed": true,
    "hidden": true
   },
   "outputs": [],
   "source": [
    "mask = np.ones(log_dsim.shape,dtype='bool')\n",
    "mask[np.triu_indices(len(log_dsim))] = False\n",
    "x = ((log_dsim < corr_thresh) & mask).values.nonzero()\n",
    "a = zip(x[0], x[1])\n",
    "for x, y in a:\n",
    "    i1 = log_dsim.index[x]\n",
    "    i2 = log_dsim.columns[y]\n",
    "    strongly_correlated.append((i1, i2))"
   ]
  },
  {
   "cell_type": "code",
   "execution_count": 76,
   "metadata": {
    "collapsed": false,
    "hidden": true,
    "scrolled": false
   },
   "outputs": [
    {
     "data": {
      "image/png": "[encoded data removed]",
      "text/plain": [
       "<matplotlib.figure.Figure at 0x7f269b2b9210>"
      ]
     },
     "metadata": {},
     "output_type": "display_data"
    }
   ],
   "source": [
    "cmap = sns.light_palette(\"navy\", as_cmap=True, reverse=True)\n",
    "g = sns.clustermap(data=log_dsim,\n",
    "                   method='complete',\n",
    "                   metric='correlation',\n",
    "                   cmap=cmap,\n",
    "                   xticklabels=False, yticklabels=False,\n",
    "                   linewidths=0.0,\n",
    "                   vmin=0.0,\n",
    "                   vmax = 1.0)"
   ]
  },
  {
   "cell_type": "code",
   "execution_count": 8,
   "metadata": {
    "collapsed": true,
    "hidden": true
   },
   "outputs": [],
   "source": [
    "# log_feature specific\n",
    "a = '|'.join(['severity_type', 'event_type', 'resource_type', 'log_feature'])\n",
    "c = df_all.filter(regex=a).copy()\n",
    "all_corr = c.corr(min_periods=len(c.columns)/10)\n",
    "all_dsim = 1.0 - np.abs(all_corr)"
   ]
  },
  {
   "cell_type": "code",
   "execution_count": 9,
   "metadata": {
    "collapsed": false,
    "hidden": true
   },
   "outputs": [],
   "source": [
    "mask = np.ones(all_dsim.shape,dtype='bool')\n",
    "mask[np.triu_indices(len(all_dsim))] = False\n",
    "x = ((all_dsim < 0.03) & mask).values.nonzero()\n",
    "a = zip(x[0], x[1])\n",
    "for x, y in a:\n",
    "    i1 = all_dsim.index[x]\n",
    "    i2 = all_dsim.columns[y]\n",
    "    if i1[:5] != i2[:5]:\n",
    "        strongly_correlated.append((i1, i2))"
   ]
  },
  {
   "cell_type": "code",
   "execution_count": 52,
   "metadata": {
    "collapsed": false,
    "hidden": true
   },
   "outputs": [
    {
     "data": {
      "text/plain": [
       "<matplotlib.figure.Figure at 0x7f269e6cc6d0>"
      ]
     },
     "metadata": {},
     "output_type": "display_data"
    },
    {
     "data": {
      "image/png": "[encoded data removed]",
      "text/plain": [
       "<matplotlib.figure.Figure at 0x7f269b3018d0>"
      ]
     },
     "metadata": {},
     "output_type": "display_data"
    }
   ],
   "source": [
    "plt.figure(figsize=(22, 20))\n",
    "cmap = sns.light_palette(\"navy\", as_cmap=True, reverse=True)\n",
    "g = sns.clustermap(data=all_dsim,\n",
    "                   method='complete',\n",
    "                   metric='correlation',\n",
    "                   cmap=cmap,\n",
    "                   xticklabels=False, yticklabels=False,\n",
    "                   linewidths=0.0,\n",
    "                   vmin=0.0,\n",
    "                   vmax = 1.0)"
   ]
  },
  {
   "cell_type": "code",
   "execution_count": 10,
   "metadata": {
    "collapsed": false,
    "hidden": true,
    "scrolled": true
   },
   "outputs": [
    {
     "name": "stdout",
     "output_type": "stream",
     "text": [
      "121\n"
     ]
    },
    {
     "data": {
      "text/plain": [
       "[('severity_type_2', 'severity_type_1'),\n",
       " ('event_type_35', 'event_type_34'),\n",
       " ('event_type_44', 'event_type_42'),\n",
       " ('event_type_53', 'event_type_49'),\n",
       " ('log_feature_125', 'log_feature_120'),\n",
       " ('log_feature_131', 'log_feature_130'),\n",
       " ('log_feature_143', 'log_feature_142'),\n",
       " ('log_feature_147', 'log_feature_146'),\n",
       " ('log_feature_148', 'log_feature_146'),\n",
       " ('log_feature_148', 'log_feature_147'),\n",
       " ('log_feature_15', 'log_feature_149'),\n",
       " ('log_feature_16', 'log_feature_145'),\n",
       " ('log_feature_192', 'log_feature_175'),\n",
       " ('log_feature_2', 'log_feature_137'),\n",
       " ('log_feature_211', 'log_feature_160'),\n",
       " ('log_feature_213', 'log_feature_128'),\n",
       " ('log_feature_217', 'log_feature_132'),\n",
       " ('log_feature_219', 'log_feature_134'),\n",
       " ('log_feature_25', 'log_feature_111'),\n",
       " ('log_feature_27', 'log_feature_114'),\n",
       " ('log_feature_278', 'log_feature_277'),\n",
       " ('log_feature_28', 'log_feature_115'),\n",
       " ('log_feature_287', 'log_feature_286'),\n",
       " ('log_feature_29', 'log_feature_117'),\n",
       " ('log_feature_291', 'log_feature_283'),\n",
       " ('log_feature_30', 'log_feature_118'),\n",
       " ('log_feature_308', 'log_feature_228'),\n",
       " ('log_feature_309', 'log_feature_229'),\n",
       " ('log_feature_31', 'log_feature_119'),\n",
       " ('log_feature_310', 'log_feature_230'),\n",
       " ('log_feature_312', 'log_feature_232'),\n",
       " ('log_feature_313', 'log_feature_233'),\n",
       " ('log_feature_314', 'log_feature_234'),\n",
       " ('log_feature_315', 'log_feature_235'),\n",
       " ('log_feature_318', 'log_feature_239'),\n",
       " ('log_feature_32', 'log_feature_124'),\n",
       " ('log_feature_323', 'log_feature_243'),\n",
       " ('log_feature_325', 'log_feature_245'),\n",
       " ('log_feature_326', 'log_feature_246'),\n",
       " ('log_feature_335', 'log_feature_257'),\n",
       " ('log_feature_336', 'log_feature_258'),\n",
       " ('log_feature_337', 'log_feature_259'),\n",
       " ('log_feature_34', 'log_feature_124'),\n",
       " ('log_feature_34', 'log_feature_32'),\n",
       " ('log_feature_343', 'log_feature_271'),\n",
       " ('log_feature_347', 'log_feature_274'),\n",
       " ('log_feature_348', 'log_feature_275'),\n",
       " ('log_feature_349', 'log_feature_276'),\n",
       " ('log_feature_350', 'log_feature_13'),\n",
       " ('log_feature_352', 'log_feature_351'),\n",
       " ('log_feature_353', 'log_feature_277'),\n",
       " ('log_feature_353', 'log_feature_278'),\n",
       " ('log_feature_354', 'log_feature_277'),\n",
       " ('log_feature_354', 'log_feature_278'),\n",
       " ('log_feature_354', 'log_feature_353'),\n",
       " ('log_feature_355', 'log_feature_351'),\n",
       " ('log_feature_355', 'log_feature_352'),\n",
       " ('log_feature_356', 'log_feature_351'),\n",
       " ('log_feature_356', 'log_feature_352'),\n",
       " ('log_feature_356', 'log_feature_355'),\n",
       " ('log_feature_358', 'log_feature_357'),\n",
       " ('log_feature_361', 'log_feature_359'),\n",
       " ('log_feature_362', 'log_feature_360'),\n",
       " ('log_feature_372', 'log_feature_286'),\n",
       " ('log_feature_372', 'log_feature_287'),\n",
       " ('log_feature_375', 'log_feature_124'),\n",
       " ('log_feature_375', 'log_feature_32'),\n",
       " ('log_feature_375', 'log_feature_34'),\n",
       " ('log_feature_376', 'log_feature_368'),\n",
       " ('log_feature_377', 'log_feature_292'),\n",
       " ('log_feature_379', 'log_feature_294'),\n",
       " ('log_feature_380', 'log_feature_295'),\n",
       " ('log_feature_383', 'log_feature_298'),\n",
       " ('log_feature_384', 'log_feature_299'),\n",
       " ('log_feature_386', 'log_feature_300'),\n",
       " ('log_feature_41', 'log_feature_156'),\n",
       " ('log_feature_42', 'log_feature_157'),\n",
       " ('log_feature_44', 'log_feature_160'),\n",
       " ('log_feature_50', 'log_feature_166'),\n",
       " ('log_feature_51', 'log_feature_101'),\n",
       " ('log_feature_56', 'log_feature_172'),\n",
       " ('log_feature_66', 'log_feature_188'),\n",
       " ('log_feature_67', 'log_feature_189'),\n",
       " ('log_feature_70', 'log_feature_107'),\n",
       " ('log_feature_74', 'log_feature_196'),\n",
       " ('log_feature_79', 'log_feature_200'),\n",
       " ('log_feature_8', 'log_feature_141'),\n",
       " ('log_feature_81', 'log_feature_202'),\n",
       " ('log_feature_88', 'log_feature_346'),\n",
       " ('log_feature_89', 'log_feature_346'),\n",
       " ('log_feature_89', 'log_feature_88'),\n",
       " ('log_feature_9', 'log_feature_144'),\n",
       " ('log_feature_90', 'log_feature_346'),\n",
       " ('log_feature_90', 'log_feature_88'),\n",
       " ('log_feature_90', 'log_feature_89'),\n",
       " ('log_feature_91', 'log_feature_346'),\n",
       " ('log_feature_91', 'log_feature_88'),\n",
       " ('log_feature_91', 'log_feature_89'),\n",
       " ('log_feature_91', 'log_feature_90'),\n",
       " ('log_feature_92', 'log_feature_346'),\n",
       " ('log_feature_92', 'log_feature_88'),\n",
       " ('log_feature_92', 'log_feature_89'),\n",
       " ('log_feature_92', 'log_feature_90'),\n",
       " ('log_feature_92', 'log_feature_91'),\n",
       " ('log_feature_94', 'log_feature_211'),\n",
       " ('log_feature_96', 'log_feature_145'),\n",
       " ('log_feature_96', 'log_feature_16'),\n",
       " ('log_feature_126', 'event_type_17'),\n",
       " ('log_feature_279', 'event_type_31'),\n",
       " ('log_feature_281', 'event_type_33'),\n",
       " ('log_feature_286', 'event_type_52'),\n",
       " ('log_feature_287', 'event_type_52'),\n",
       " ('log_feature_3', 'event_type_4'),\n",
       " ('log_feature_371', 'event_type_48'),\n",
       " ('log_feature_372', 'event_type_52'),\n",
       " ('log_feature_377', 'event_type_51'),\n",
       " ('resource_type_10', 'event_type_18'),\n",
       " ('resource_type_3', 'event_type_10'),\n",
       " ('resource_type_4', 'event_type_14'),\n",
       " ('resource_type_5', 'event_type_19'),\n",
       " ('resource_type_6', 'event_type_13')]"
      ]
     },
     "execution_count": 10,
     "metadata": {},
     "output_type": "execute_result"
    }
   ],
   "source": [
    "print len(strongly_correlated)\n",
    "strongly_correlated"
   ]
  },
  {
   "cell_type": "markdown",
   "metadata": {
    "hidden": true
   },
   "source": [
    "The serverity types are mostly anti-correlated except type 1 and 2.\n",
    "\n",
    "There is interesting structure in the resource and event types. Makes me more curious about how these events are networked, i.e. communicating to each other? Build out as network problem? Can't: id and loc are 1:1 so the only connections will be among events that are the same, in that they have the same coding across all types. I don't see that as informative to a model.\n",
    "\n",
    "Log features are also clustered.\n",
    "\n",
    "**But, this is clearly a well-defined classification problem.**\n",
    "\n",
    "Want to see chains of correlations, e.g. [a,b]...[b,c], does that mean [a,c]? Run this..."
   ]
  },
  {
   "cell_type": "code",
   "execution_count": 17,
   "metadata": {
    "collapsed": false,
    "hidden": true
   },
   "outputs": [
    {
     "data": {
      "text/plain": [
       "[('log_feature_91', 5),\n",
       " ('log_feature_90', 5),\n",
       " ('log_feature_92', 5),\n",
       " ('log_feature_89', 5),\n",
       " ('log_feature_346', 5),\n",
       " ('log_feature_88', 5),\n",
       " ('log_feature_278', 3),\n",
       " ('event_type_52', 3),\n",
       " ('log_feature_277', 3),\n",
       " ('log_feature_372', 3)]"
      ]
     },
     "execution_count": 17,
     "metadata": {},
     "output_type": "execute_result"
    }
   ],
   "source": [
    "# most common features in corr stack\n",
    "sc_pairs = list(sum(strongly_correlated, ()))\n",
    "Counter(sc_pairs).most_common(10)"
   ]
  },
  {
   "cell_type": "code",
   "execution_count": 67,
   "metadata": {
    "collapsed": false,
    "hidden": true
   },
   "outputs": [],
   "source": [
    "chains = []\n",
    "for s in sorted(set(sum(strongly_correlated, ()))):\n",
    "    tmp = []\n",
    "    for sc in strongly_correlated:\n",
    "        if s in sc:\n",
    "            tmp.append(sc)\n",
    "    \n",
    "    chains.append(tuple(sorted(list(set(sum(tmp,()))))))"
   ]
  },
  {
   "cell_type": "code",
   "execution_count": 71,
   "metadata": {
    "collapsed": false,
    "hidden": true
   },
   "outputs": [
    {
     "name": "stdout",
     "output_type": "stream",
     "text": [
      "Strong correlations:  121\n",
      "Resulting chains:  85\n"
     ]
    }
   ],
   "source": [
    "print 'Strong correlations: ', len(strongly_correlated)\n",
    "print 'Resulting chains: ', len(set(chains))"
   ]
  },
  {
   "cell_type": "code",
   "execution_count": null,
   "metadata": {
    "collapsed": false,
    "hidden": true
   },
   "outputs": [],
   "source": [
    "# for each chain\n",
    "# create super feature\n",
    "# find rows where all chain feature values == 1\n",
    "# set super feature col == 1\n",
    "\n",
    "a=['log_feature_160', 'log_feature_44']\n",
    "df = df_train.copy()\n",
    "df['super'] = np.zeros(len(df_train))\n",
    "for c in a:\n",
    "    df.super[(df[c] > 0)] = 1\n",
    "    \n",
    "d.sales[d.sales==24] = 100"
   ]
  },
  {
   "cell_type": "markdown",
   "metadata": {
    "heading_collapsed": true
   },
   "source": [
    "## Averages"
   ]
  },
  {
   "cell_type": "code",
   "execution_count": 13,
   "metadata": {
    "collapsed": true,
    "hidden": true
   },
   "outputs": [],
   "source": [
    "df = df_all[(df_all.is_train==True)].copy()"
   ]
  },
  {
   "cell_type": "code",
   "execution_count": 14,
   "metadata": {
    "collapsed": false,
    "hidden": true
   },
   "outputs": [
    {
     "data": {
      "text/plain": [
       "[0.0, 1.0, 2.0]"
      ]
     },
     "execution_count": 14,
     "metadata": {},
     "output_type": "execute_result"
    }
   ],
   "source": [
    "sorted(df.fault_severity.unique())"
   ]
  },
  {
   "cell_type": "code",
   "execution_count": 15,
   "metadata": {
    "collapsed": false,
    "hidden": true,
    "scrolled": false
   },
   "outputs": [],
   "source": [
    "names = []\n",
    "pers = []\n",
    "avgs = []\n",
    "stds = []\n",
    "for a in attributes:\n",
    "    cnt = len(a)\n",
    "    for c in filter(lambda s: s[:cnt] == a, df.columns):\n",
    "        d = df[(df[c]>0)]\n",
    "        names.append(c)\n",
    "        pers.append(100.*float(d.shape[0])/float(df.shape[0]))\n",
    "        avgs.append(d.fault_severity.mean())\n",
    "        stds.append(d.fault_severity.std())"
   ]
  },
  {
   "cell_type": "code",
   "execution_count": 16,
   "metadata": {
    "collapsed": false,
    "hidden": true
   },
   "outputs": [],
   "source": [
    "fs = pd.DataFrame({'%tot':pers, 'avg':avgs, 'std':stds}, index=names).fillna(0)"
   ]
  },
  {
   "cell_type": "code",
   "execution_count": 17,
   "metadata": {
    "collapsed": false,
    "hidden": true
   },
   "outputs": [
    {
     "name": "stdout",
     "output_type": "stream",
     "text": [
      "0 136\n",
      "1 32\n",
      "2 24\n",
      "Drop  192  of  454\n",
      "Keeping  262  columns\n"
     ]
    }
   ],
   "source": [
    "fsv = [0, 1, 2]\n",
    "cnt = 0\n",
    "drop_cols = {}\n",
    "for n in fsv:\n",
    "    a = fs[(fs['avg']==n) & (fs['std']==0)]\n",
    "    drop_cols[str(n)] = list(a.index)\n",
    "    cnt += a.shape[0]\n",
    "    print n, a.shape[0]\n",
    "print \"Drop \", cnt, \" of \", fs.shape[0]\n",
    "print \"Keeping \", fs.shape[0]-cnt, \" columns\""
   ]
  },
  {
   "cell_type": "markdown",
   "metadata": {
    "hidden": true
   },
   "source": [
    "So there are 192 attributes with a set fault severity value and standard dev of zero. So what if I build a model for events where all those features are 0 with those features dropped. So the fitting logic then becomes:\n",
    "\n",
    "```python\n",
    "known_fs = {}\n",
    "for fs, cols in drop_col.iteritems():\n",
    "    for col in cols:\n",
    "        for id in df[df[col] > 0]['id']:\n",
    "            known_fs[id] = fs        \n",
    "df = pd.get_dummies(known_fs)\n",
    "```"
   ]
  },
  {
   "cell_type": "markdown",
   "metadata": {
    "heading_collapsed": true
   },
   "source": [
    "## Uniqueness"
   ]
  },
  {
   "cell_type": "markdown",
   "metadata": {
    "heading_collapsed": true,
    "hidden": true
   },
   "source": [
    "### Event ID"
   ]
  },
  {
   "cell_type": "code",
   "execution_count": 3,
   "metadata": {
    "collapsed": false,
    "hidden": true,
    "scrolled": true
   },
   "outputs": [],
   "source": [
    "# remove columns not characterizing events\n",
    "cols = [c for c in df_all.columns if any(c[:5] in a for a in attributes)]\n",
    "df = df_all[cols]\n",
    "\n",
    "# ensure all are binary\n",
    "df[(df != 0)] = 1\n",
    "\n",
    "# convert binary strings to a 36-bit hashed md5 hex code for easier handling\n",
    "df = df.apply(lambda x: int(hashlib.md5(''.join([e for e in x.astype(int).astype(str)])).hexdigest(), 36), axis=1)\n",
    "\n",
    "# attach back\n",
    "df_all['evt_id'] = df.astype(str)\n",
    "\n",
    "# save group sizes\n",
    "dsize = len(df_all)"
   ]
  },
  {
   "cell_type": "markdown",
   "metadata": {
    "heading_collapsed": true,
    "hidden": true
   },
   "source": [
    "### Event ID(Fault Severity)"
   ]
  },
  {
   "cell_type": "code",
   "execution_count": 4,
   "metadata": {
    "collapsed": false,
    "hidden": true
   },
   "outputs": [],
   "source": [
    "# a stats handler for grouping\n",
    "def get_stats(group):\n",
    "    return {'evt_fs_sprd': group.max() - group.min(),\n",
    "            'evt_cnt': len(group),\n",
    "            'evt_freq': len(group)/float(dsize),\n",
    "            'evt_fs_mean': group.mean(),\n",
    "            'evt_fs_std': group.std()\n",
    "           }\n",
    "\n",
    "# build stats for each type of event\n",
    "events = df_all['fault_severity'].\\\n",
    "            groupby(df_all['evt_id']).\\\n",
    "            apply(get_stats).\\\n",
    "            unstack().\\\n",
    "            sort_values(by='evt_freq', ascending=False).reset_index()"
   ]
  },
  {
   "cell_type": "code",
   "execution_count": null,
   "metadata": {
    "collapsed": false,
    "hidden": true
   },
   "outputs": [],
   "source": [
    "events.drop('evt_id', 1).iplot(kind='histogram', barmode='stack', histnorm='percent')"
   ]
  },
  {
   "cell_type": "code",
   "execution_count": 7,
   "metadata": {
    "collapsed": false,
    "hidden": true
   },
   "outputs": [],
   "source": [
    "# categorize the events based on freq\n",
    "bins = [0, 0.00475, 0.009, 1]\n",
    "group_names = ['rare', 'sparse', 'common']\n",
    "events['evt_cat'] = pd.cut(events['evt_freq'], bins, labels=group_names)"
   ]
  },
  {
   "cell_type": "code",
   "execution_count": 87,
   "metadata": {
    "collapsed": false,
    "hidden": true
   },
   "outputs": [
    {
     "data": {
      "text/html": [
       "<iframe id=\"igraph\" scrolling=\"no\" style=\"border:none;\"seamless=\"seamless\" src=\"https://plot.ly/~kcavagnolo/642.embed\" height=\"525px\" width=\"100%\"></iframe>"
      ],
      "text/plain": [
       "<plotly.tools.PlotlyDisplay object>"
      ]
     },
     "execution_count": 87,
     "metadata": {},
     "output_type": "execute_result"
    }
   ],
   "source": [
    "events.iplot(kind='bubble', x='mean', y='freq', size='cnt',\n",
    "             text='hexcode', categories='event_category',\n",
    "             xTitle='Mean Fault Severity', yTitle='Type Frequency')"
   ]
  },
  {
   "cell_type": "markdown",
   "metadata": {
    "heading_collapsed": true,
    "hidden": true
   },
   "source": [
    "### Locations(Fault Severity)"
   ]
  },
  {
   "cell_type": "code",
   "execution_count": 5,
   "metadata": {
    "collapsed": false,
    "hidden": true
   },
   "outputs": [],
   "source": [
    "# a stats handler for grouping\n",
    "def get_stats(group):\n",
    "    return {'loc_fs_sprd': group.max() - group.min(),\n",
    "            'loc_cnt': len(group),\n",
    "            'loc_freq': len(group)/float(dsize),\n",
    "            'loc_fs_mean': group.mean(),\n",
    "            'loc_fs_std': group.std()\n",
    "           }\n",
    "\n",
    "locations = df_all['fault_severity'].\\\n",
    "                groupby(df_all['location']).\\\n",
    "                apply(get_stats).\\\n",
    "                unstack().\\\n",
    "                sort_values(by='loc_freq', ascending=False).reset_index()"
   ]
  },
  {
   "cell_type": "code",
   "execution_count": 141,
   "metadata": {
    "collapsed": false,
    "hidden": true
   },
   "outputs": [
    {
     "data": {
      "text/html": [
       "<iframe id=\"igraph\" scrolling=\"no\" style=\"border:none;\"seamless=\"seamless\" src=\"https://plot.ly/~kcavagnolo/654.embed\" height=\"525px\" width=\"100%\"></iframe>"
      ],
      "text/plain": [
       "<plotly.tools.PlotlyDisplay object>"
      ]
     },
     "execution_count": 141,
     "metadata": {},
     "output_type": "execute_result"
    }
   ],
   "source": [
    "locations.drop('location', 1).iplot(kind='histogram', barmode='stack', histnorm='percent')"
   ]
  },
  {
   "cell_type": "code",
   "execution_count": 13,
   "metadata": {
    "collapsed": false,
    "hidden": true
   },
   "outputs": [],
   "source": [
    "# categorize the events based on freq\n",
    "bins = [0, 0.0013, 0.004, 1]\n",
    "group_names = ['rare', 'sparse', 'common']\n",
    "locations['loc_cat'] = pd.cut(locations['loc_freq'], bins, labels=group_names)"
   ]
  },
  {
   "cell_type": "code",
   "execution_count": 143,
   "metadata": {
    "collapsed": false,
    "hidden": true
   },
   "outputs": [
    {
     "data": {
      "text/html": [
       "<iframe id=\"igraph\" scrolling=\"no\" style=\"border:none;\"seamless=\"seamless\" src=\"https://plot.ly/~kcavagnolo/656.embed\" height=\"525px\" width=\"100%\"></iframe>"
      ],
      "text/plain": [
       "<plotly.tools.PlotlyDisplay object>"
      ]
     },
     "execution_count": 143,
     "metadata": {},
     "output_type": "execute_result"
    }
   ],
   "source": [
    "locations.iplot(kind='bubble', x='loc_fs_mean', y='loc_freq',\n",
    "                size='loc_cnt', text='location', categories='location_category',\n",
    "                xTitle='Mean Fault Severity', yTitle='Location Frequency')"
   ]
  },
  {
   "cell_type": "markdown",
   "metadata": {
    "heading_collapsed": true
   },
   "source": [
    "## Culling"
   ]
  },
  {
   "cell_type": "code",
   "execution_count": 18,
   "metadata": {
    "collapsed": false,
    "hidden": true
   },
   "outputs": [
    {
     "name": "stdout",
     "output_type": "stream",
     "text": [
      "Removed  569  rows\n",
      "Dropped  192  cols\n"
     ]
    }
   ],
   "source": [
    "df_culled = df_all.copy()\n",
    "for k, v in drop_cols.iteritems():\n",
    "    for c in v:\n",
    "        df_culled = df_culled[df_culled[c] == 0]\n",
    "        df_culled.drop(c, 1, inplace=True)\n",
    "print \"Removed \", df_all.shape[0] - df_culled.shape[0], \" rows\"\n",
    "print \"Dropped \", df_all.shape[1] - df_culled.shape[1], \" cols\""
   ]
  },
  {
   "cell_type": "code",
   "execution_count": 20,
   "metadata": {
    "collapsed": false,
    "hidden": true
   },
   "outputs": [],
   "source": [
    "hdf = pd.HDFStore(hdf_file)\n",
    "hdf.put('df_culled', df_culled)\n",
    "hdf.close()"
   ]
  },
  {
   "cell_type": "code",
   "execution_count": 21,
   "metadata": {
    "collapsed": false,
    "hidden": true
   },
   "outputs": [],
   "source": [
    "known_fs = {}\n",
    "for fs, cols in drop_cols.iteritems():\n",
    "    for col in cols:\n",
    "        for id in df_all[(df_all[col] > 0) & (df_all.is_train==False)]['id']:\n",
    "            known_fs[id] = fs\n",
    "df_known = pd.Series(known_fs, name='predict')\n",
    "df_known.index.name = 'id'\n",
    "df_known = pd.get_dummies(df_known, prefix='predict').reset_index()"
   ]
  },
  {
   "cell_type": "code",
   "execution_count": 22,
   "metadata": {
    "collapsed": false,
    "hidden": true
   },
   "outputs": [
    {
     "data": {
      "text/html": [
       "<div>\n",
       "<table border=\"1\" class=\"dataframe\">\n",
       "  <thead>\n",
       "    <tr style=\"text-align: right;\">\n",
       "      <th></th>\n",
       "      <th>id</th>\n",
       "      <th>predict_0</th>\n",
       "      <th>predict_1</th>\n",
       "      <th>predict_2</th>\n",
       "    </tr>\n",
       "  </thead>\n",
       "  <tbody>\n",
       "    <tr>\n",
       "      <th>0</th>\n",
       "      <td>78</td>\n",
       "      <td>0</td>\n",
       "      <td>0</td>\n",
       "      <td>1</td>\n",
       "    </tr>\n",
       "    <tr>\n",
       "      <th>1</th>\n",
       "      <td>128</td>\n",
       "      <td>1</td>\n",
       "      <td>0</td>\n",
       "      <td>0</td>\n",
       "    </tr>\n",
       "    <tr>\n",
       "      <th>2</th>\n",
       "      <td>150</td>\n",
       "      <td>0</td>\n",
       "      <td>1</td>\n",
       "      <td>0</td>\n",
       "    </tr>\n",
       "    <tr>\n",
       "      <th>3</th>\n",
       "      <td>208</td>\n",
       "      <td>1</td>\n",
       "      <td>0</td>\n",
       "      <td>0</td>\n",
       "    </tr>\n",
       "    <tr>\n",
       "      <th>4</th>\n",
       "      <td>215</td>\n",
       "      <td>0</td>\n",
       "      <td>0</td>\n",
       "      <td>1</td>\n",
       "    </tr>\n",
       "  </tbody>\n",
       "</table>\n",
       "</div>"
      ],
      "text/plain": [
       "    id  predict_0  predict_1  predict_2\n",
       "0   78          0          0          1\n",
       "1  128          1          0          0\n",
       "2  150          0          1          0\n",
       "3  208          1          0          0\n",
       "4  215          0          0          1"
      ]
     },
     "execution_count": 22,
     "metadata": {},
     "output_type": "execute_result"
    }
   ],
   "source": [
    "df_known.head()"
   ]
  },
  {
   "cell_type": "code",
   "execution_count": 23,
   "metadata": {
    "collapsed": false,
    "hidden": true
   },
   "outputs": [
    {
     "name": "stdout",
     "output_type": "stream",
     "text": [
      "2\n",
      "0\n",
      "1\n",
      "0\n",
      "2\n"
     ]
    }
   ],
   "source": [
    "check = df_known['id'].head()\n",
    "for a in check:\n",
    "    print known_fs[a]"
   ]
  },
  {
   "cell_type": "code",
   "execution_count": 24,
   "metadata": {
    "collapsed": true,
    "hidden": true
   },
   "outputs": [],
   "source": [
    "hdf = pd.HDFStore(hdf_file)\n",
    "hdf.put('df_known', df_known)\n",
    "hdf.close()"
   ]
  },
  {
   "cell_type": "markdown",
   "metadata": {
    "hidden": true
   },
   "source": [
    "**NB: in the end, the shapes of culled+known = df_all**"
   ]
  },
  {
   "cell_type": "code",
   "execution_count": 25,
   "metadata": {
    "collapsed": false,
    "hidden": true
   },
   "outputs": [],
   "source": [
    "assert df_known.shape[0] + df_culled[(df_culled.is_train==False)].shape[0] == df_all[(df_all.is_train==False)].shape[0], \"this is wrong\""
   ]
  },
  {
   "cell_type": "markdown",
   "metadata": {
    "hidden": true
   },
   "source": [
    "The known fault severity values are now stored in df_known in the hdf5, so let's predict the ones we don't know. K.I.S.S. == random forest. "
   ]
  },
  {
   "cell_type": "markdown",
   "metadata": {
    "heading_collapsed": true
   },
   "source": [
    "## Merge"
   ]
  },
  {
   "cell_type": "code",
   "execution_count": 6,
   "metadata": {
    "collapsed": true,
    "hidden": true
   },
   "outputs": [],
   "source": [
    "train_merge = pd.read_csv('data/train_merge.csv')\n",
    "test_merge = pd.read_csv('data/test_merge.csv')"
   ]
  },
  {
   "cell_type": "code",
   "execution_count": 7,
   "metadata": {
    "collapsed": false,
    "hidden": true
   },
   "outputs": [],
   "source": [
    "# merge loc info and drop dupe cols\n",
    "locations.location = locations.location.astype('int64')\n",
    "a = pd.merge(train_merge, locations, how = 'left', left_on = 'numloc', right_on = 'location')\n",
    "b = pd.merge(df_all[['id', 'evt_id']], events, how = 'left', left_on = 'evt_id', right_on = 'evt_id')\n",
    "c = pd.merge(a, b, how = 'left', left_on = 'id', right_on = 'id')\n",
    "c.drop(['loc_nid', 'numloc'], 1, inplace=True)\n",
    "train_merge = c.copy()"
   ]
  },
  {
   "cell_type": "code",
   "execution_count": 8,
   "metadata": {
    "collapsed": true,
    "hidden": true
   },
   "outputs": [],
   "source": [
    "a = pd.merge(test_merge, locations, how = 'left', left_on = 'numloc', right_on = 'location')\n",
    "b = pd.merge(df_all[['id', 'evt_id']], events, how = 'left', left_on = 'evt_id', right_on = 'evt_id')\n",
    "c = pd.merge(a, b, how = 'left', left_on = 'id', right_on = 'id')\n",
    "c.drop(['loc_nid', 'numloc'], 1, inplace=True)\n",
    "test_merge = c.copy()"
   ]
  },
  {
   "cell_type": "code",
   "execution_count": 93,
   "metadata": {
    "collapsed": false,
    "hidden": true
   },
   "outputs": [],
   "source": [
    "# one hot encode\n",
    "train_merge = pd.get_dummies(train_merge, columns=['loc_cat', 'evt_cat'])\n",
    "test_merge = pd.get_dummies(test_merge, columns=['loc_cat', 'evt_cat'])"
   ]
  },
  {
   "cell_type": "code",
   "execution_count": 10,
   "metadata": {
    "collapsed": false,
    "hidden": true,
    "scrolled": true
   },
   "outputs": [
    {
     "name": "stderr",
     "output_type": "stream",
     "text": [
      "/usr/local/lib/python2.7/site-packages/sklearn/utils/validation.py:420: DataConversionWarning:\n",
      "\n",
      "Data with input dtype int64 was converted to float64 by MinMaxScaler.\n",
      "\n",
      "/usr/local/lib/python2.7/site-packages/sklearn/preprocessing/data.py:324: DeprecationWarning:\n",
      "\n",
      "Passing 1d arrays as data is deprecated in 0.17 and will raise ValueError in 0.19. Reshape your data either using X.reshape(-1, 1) if your data has a single feature or X.reshape(1, -1) if it contains a single sample.\n",
      "\n",
      "/usr/local/lib/python2.7/site-packages/sklearn/preprocessing/data.py:359: DeprecationWarning:\n",
      "\n",
      "Passing 1d arrays as data is deprecated in 0.17 and will raise ValueError in 0.19. Reshape your data either using X.reshape(-1, 1) if your data has a single feature or X.reshape(1, -1) if it contains a single sample.\n",
      "\n",
      "/usr/local/lib/python2.7/site-packages/sklearn/utils/validation.py:420: DataConversionWarning:\n",
      "\n",
      "Data with input dtype int64 was converted to float64 by MinMaxScaler.\n",
      "\n",
      "/usr/local/lib/python2.7/site-packages/sklearn/preprocessing/data.py:324: DeprecationWarning:\n",
      "\n",
      "Passing 1d arrays as data is deprecated in 0.17 and will raise ValueError in 0.19. Reshape your data either using X.reshape(-1, 1) if your data has a single feature or X.reshape(1, -1) if it contains a single sample.\n",
      "\n",
      "/usr/local/lib/python2.7/site-packages/sklearn/preprocessing/data.py:359: DeprecationWarning:\n",
      "\n",
      "Passing 1d arrays as data is deprecated in 0.17 and will raise ValueError in 0.19. Reshape your data either using X.reshape(-1, 1) if your data has a single feature or X.reshape(1, -1) if it contains a single sample.\n",
      "\n",
      "/usr/local/lib/python2.7/site-packages/sklearn/utils/validation.py:420: DataConversionWarning:\n",
      "\n",
      "Data with input dtype int64 was converted to float64 by MinMaxScaler.\n",
      "\n",
      "/usr/local/lib/python2.7/site-packages/sklearn/preprocessing/data.py:324: DeprecationWarning:\n",
      "\n",
      "Passing 1d arrays as data is deprecated in 0.17 and will raise ValueError in 0.19. Reshape your data either using X.reshape(-1, 1) if your data has a single feature or X.reshape(1, -1) if it contains a single sample.\n",
      "\n",
      "/usr/local/lib/python2.7/site-packages/sklearn/preprocessing/data.py:359: DeprecationWarning:\n",
      "\n",
      "Passing 1d arrays as data is deprecated in 0.17 and will raise ValueError in 0.19. Reshape your data either using X.reshape(-1, 1) if your data has a single feature or X.reshape(1, -1) if it contains a single sample.\n",
      "\n",
      "/usr/local/lib/python2.7/site-packages/sklearn/utils/validation.py:420: DataConversionWarning:\n",
      "\n",
      "Data with input dtype int64 was converted to float64 by MinMaxScaler.\n",
      "\n",
      "/usr/local/lib/python2.7/site-packages/sklearn/preprocessing/data.py:324: DeprecationWarning:\n",
      "\n",
      "Passing 1d arrays as data is deprecated in 0.17 and will raise ValueError in 0.19. Reshape your data either using X.reshape(-1, 1) if your data has a single feature or X.reshape(1, -1) if it contains a single sample.\n",
      "\n",
      "/usr/local/lib/python2.7/site-packages/sklearn/preprocessing/data.py:359: DeprecationWarning:\n",
      "\n",
      "Passing 1d arrays as data is deprecated in 0.17 and will raise ValueError in 0.19. Reshape your data either using X.reshape(-1, 1) if your data has a single feature or X.reshape(1, -1) if it contains a single sample.\n",
      "\n"
     ]
    }
   ],
   "source": [
    "from sklearn.preprocessing import MinMaxScaler\n",
    "train_merge.location = train_merge[['location']].apply(lambda x: MinMaxScaler().fit_transform(x))\n",
    "test_merge.location = test_merge[['location']].apply(lambda x: MinMaxScaler().fit_transform(x))"
   ]
  },
  {
   "cell_type": "code",
   "execution_count": 11,
   "metadata": {
    "collapsed": true,
    "hidden": true
   },
   "outputs": [],
   "source": [
    "train_merge.to_csv('data/train_master.csv', index=False)\n",
    "test_merge.to_csv('data/test_master.csv', index=False)"
   ]
  },
  {
   "cell_type": "markdown",
   "metadata": {
    "collapsed": true,
    "heading_collapsed": true
   },
   "source": [
    "# Scratch"
   ]
  },
  {
   "cell_type": "code",
   "execution_count": 13,
   "metadata": {
    "collapsed": true,
    "hidden": true
   },
   "outputs": [],
   "source": []
  }
 ],
 "metadata": {
  "anaconda-cloud": {},
  "gist": {
   "data": {
    "description": "notes.ipynb",
    "public": false
   },
   "id": ""
  },
  "kernelspec": {
   "display_name": "Python [default]",
   "language": "python",
   "name": "python2"
  },
  "language_info": {
   "codemirror_mode": {
    "name": "ipython",
    "version": 2
   },
   "file_extension": ".py",
   "mimetype": "text/x-python",
   "name": "python",
   "nbconvert_exporter": "python",
   "pygments_lexer": "ipython2",
   "version": "2.7.13"
  }
 },
 "nbformat": 4,
 "nbformat_minor": 0
}
