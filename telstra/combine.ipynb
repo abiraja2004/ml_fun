{
 "cells": [
  {
   "cell_type": "code",
   "execution_count": 7,
   "metadata": {
    "collapsed": true
   },
   "outputs": [],
   "source": [
    "import numpy as np\n",
    "import pandas as pd"
   ]
  },
  {
   "cell_type": "code",
   "execution_count": 14,
   "metadata": {
    "collapsed": false
   },
   "outputs": [],
   "source": [
    "#xgb = pd.read_csv('output_dl/xgbc.csv')  # 0.569\n",
    "gbc = pd.read_csv('output_dl/gbc.csv')   # 0.566\n",
    "#ker = pd.read_csv('output/keras.csv') # 0.657\n",
    "#rfc = pd.read_csv('output_dl/rfc.csv')   # 0.663\n",
    "#tnn = pd.read_csv('output_dl/tnn.csv')   # 0.877\n",
    "#adc = pd.read_csv('output_dl/adc.csv')   # 1.072\n",
    "#loc = pd.read_csv('output_dl/loc.csv')   # 2.950\n",
    "ens = pd.read_csv('output_dl/ens.csv')   # 0.494"
   ]
  },
  {
   "cell_type": "code",
   "execution_count": 15,
   "metadata": {
    "collapsed": false
   },
   "outputs": [],
   "source": [
    "combine = xgb.copy()"
   ]
  },
  {
   "cell_type": "code",
   "execution_count": 16,
   "metadata": {
    "collapsed": false
   },
   "outputs": [],
   "source": [
    "combine.loc[:, 'predict_0':'predict_2'] = (\n",
    "    #0.0*xgb.loc[:, 'predict_0':'predict_2'] +\n",
    "    0.1*gbc.loc[:, 'predict_0':'predict_2'] +\n",
    "    #0.0*ker.loc[:, 'predict_0':'predict_2'] +\n",
    "    #0.1*rfc.loc[:, 'predict_0':'predict_2'] + \n",
    "    #0.0*tnn.loc[:, 'predict_0':'predict_2'] +\n",
    "    #0.0*adc.loc[:, 'predict_0':'predict_2'] +\n",
    "    #0.0*loc.loc[:, 'predict_0':'predict_2']\n",
    "    0.9*ens.loc[:, 'predict_0':'predict_2']\n",
    "    )# / 24.3"
   ]
  },
  {
   "cell_type": "code",
   "execution_count": 17,
   "metadata": {
    "collapsed": true
   },
   "outputs": [],
   "source": [
    "combine.to_csv('stacked.csv', index=False)"
   ]
  },
  {
   "cell_type": "code",
   "execution_count": null,
   "metadata": {
    "collapsed": true
   },
   "outputs": [],
   "source": []
  }
 ],
 "metadata": {
  "kernelspec": {
   "display_name": "Python 2",
   "language": "python",
   "name": "python2"
  },
  "language_info": {
   "codemirror_mode": {
    "name": "ipython",
    "version": 2
   },
   "file_extension": ".py",
   "mimetype": "text/x-python",
   "name": "python",
   "nbconvert_exporter": "python",
   "pygments_lexer": "ipython2",
   "version": "2.7.10"
  }
 },
 "nbformat": 4,
 "nbformat_minor": 0
}
