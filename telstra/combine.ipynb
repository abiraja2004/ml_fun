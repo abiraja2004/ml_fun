{
 "cells": [
  {
   "cell_type": "code",
   "execution_count": 1,
   "metadata": {
    "collapsed": true
   },
   "outputs": [],
   "source": [
    "import numpy as np\n",
    "import pandas as pd"
   ]
  },
  {
   "cell_type": "code",
   "execution_count": 2,
   "metadata": {
    "collapsed": false
   },
   "outputs": [],
   "source": [
    "xgb = pd.read_csv('output/xgbc.csv')  # 0.592\n",
    "gbc = pd.read_csv('output/gbc.csv')   # 0.566\n",
    "ker = pd.read_csv('output/keras.csv') # 0.657\n",
    "rfc = pd.read_csv('output/rfc.csv')   # 0.663\n",
    "tnn = pd.read_csv('output/tnn.csv')   # 0.877\n",
    "adc = pd.read_csv('output/adc.csv')   # 1.072\n",
    "loc = pd.read_csv('output/loc.csv')   # 2.950"
   ]
  },
  {
   "cell_type": "code",
   "execution_count": 3,
   "metadata": {
    "collapsed": false
   },
   "outputs": [],
   "source": [
    "combine = xgb.copy()"
   ]
  },
  {
   "cell_type": "code",
   "execution_count": 7,
   "metadata": {
    "collapsed": false
   },
   "outputs": [
    {
     "name": "stdout",
     "output_type": "stream",
     "text": [
      "25.35\n"
     ]
    }
   ],
   "source": [
    "print 10+6+5+4+0.2+0.1+0.05"
   ]
  },
  {
   "cell_type": "code",
   "execution_count": 8,
   "metadata": {
    "collapsed": false
   },
   "outputs": [],
   "source": [
    "combine.loc[:, 'predict_0':'predict_2'] = (\n",
    "    10.0*xgb.loc[:, 'predict_0':'predict_2'] +\n",
    "    6.00*gbc.loc[:, 'predict_0':'predict_2'] +\n",
    "    5.00*ker.loc[:, 'predict_0':'predict_2'] +\n",
    "    4.00*rfc.loc[:, 'predict_0':'predict_2'] + \n",
    "    0.20*tnn.loc[:, 'predict_0':'predict_2'] +\n",
    "    0.10*adc.loc[:, 'predict_0':'predict_2'] +\n",
    "    0.05*loc.loc[:, 'predict_0':'predict_2']\n",
    "    ) / 25.35"
   ]
  },
  {
   "cell_type": "code",
   "execution_count": 9,
   "metadata": {
    "collapsed": true
   },
   "outputs": [],
   "source": [
    "combine.to_csv('stacked_0.xxxxx.csv', index=False)"
   ]
  },
  {
   "cell_type": "code",
   "execution_count": null,
   "metadata": {
    "collapsed": true
   },
   "outputs": [],
   "source": []
  }
 ],
 "metadata": {
  "kernelspec": {
   "display_name": "Python 2",
   "language": "python",
   "name": "python2"
  },
  "language_info": {
   "codemirror_mode": {
    "name": "ipython",
    "version": 2
   },
   "file_extension": ".py",
   "mimetype": "text/x-python",
   "name": "python",
   "nbconvert_exporter": "python",
   "pygments_lexer": "ipython2",
   "version": "2.7.10"
  }
 },
 "nbformat": 4,
 "nbformat_minor": 0
}
