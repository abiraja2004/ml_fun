{
 "cells": [
  {
   "cell_type": "code",
   "execution_count": 1,
   "metadata": {
    "collapsed": true
   },
   "outputs": [],
   "source": [
    "%matplotlib inline\n",
    "import pandas as pd\n",
    "import numpy as np\n",
    "import time\n",
    "import matplotlib.pyplot as plt\n",
    "import xgboost as xgb\n",
    "from sklearn.cross_validation import train_test_split\n",
    "from utils import *\n",
    "import re\n",
    "import datetime as dt"
   ]
  },
  {
   "cell_type": "code",
   "execution_count": 2,
   "metadata": {
    "collapsed": true
   },
   "outputs": [],
   "source": [
    "train = pd.read_csv('data/train_master.csv').fillna(0)\n",
    "test = pd.read_csv('data/test_master.csv').fillna(0)\n",
    "sample = pd.read_csv('data/sample_submission.csv')"
   ]
  },
  {
   "cell_type": "code",
   "execution_count": 3,
   "metadata": {
    "collapsed": true
   },
   "outputs": [],
   "source": [
    "params = {}\n",
    "params['objective'] = 'multi:softprob'\n",
    "params['num_class'] = 3\n",
    "params['eval_metric'] = 'mlogloss'\n",
    "params['eta'] = 0.05\n",
    "params['max_depth'] = 8\n",
    "params['colsample_bytree'] = 0.3\n",
    "params['silent'] = 1\n",
    "num_round = 500"
   ]
  },
  {
   "cell_type": "code",
   "execution_count": 5,
   "metadata": {
    "collapsed": false
   },
   "outputs": [],
   "source": [
    "xgmat = xgb.DMatrix(train.iloc[:, 1:], label=train.loc[:, 'fault_severity'])\n",
    "bst = xgb.train(params, xgmat, num_round)"
   ]
  },
  {
   "cell_type": "code",
   "execution_count": 8,
   "metadata": {
    "collapsed": true
   },
   "outputs": [],
   "source": [
    "testmat = xgb.DMatrix(test.iloc[:, 2:])"
   ]
  },
  {
   "cell_type": "code",
   "execution_count": 9,
   "metadata": {
    "collapsed": true
   },
   "outputs": [],
   "source": [
    "prob = bst.predict(testmat)"
   ]
  },
  {
   "cell_type": "code",
   "execution_count": 10,
   "metadata": {
    "collapsed": false
   },
   "outputs": [
    {
     "data": {
      "text/plain": [
       "array([[  9.87458169e-01,   1.21495444e-02,   3.92277172e-04],\n",
       "       [  1.99917555e-01,   5.51306084e-02,   7.44951844e-01],\n",
       "       [  9.94599462e-01,   5.36156865e-03,   3.89436100e-05],\n",
       "       ..., \n",
       "       [  1.53612763e-01,   8.38197470e-01,   8.18978157e-03],\n",
       "       [  9.68703687e-01,   3.12639661e-02,   3.23433014e-05],\n",
       "       [  9.71620262e-01,   2.80892085e-02,   2.90460273e-04]], dtype=float32)"
      ]
     },
     "execution_count": 10,
     "metadata": {},
     "output_type": "execute_result"
    }
   ],
   "source": [
    "prob"
   ]
  },
  {
   "cell_type": "code",
   "execution_count": 11,
   "metadata": {
    "collapsed": true
   },
   "outputs": [],
   "source": [
    "xgbc_prob = pd.DataFrame({\n",
    "    'id': sample.loc[:, 'id'].values, \n",
    "    'predict_0': prob[:, 0],\n",
    "    'predict_1': prob[:, 1],\n",
    "    'predict_2': prob[:, 2]})"
   ]
  },
  {
   "cell_type": "code",
   "execution_count": 12,
   "metadata": {
    "collapsed": true
   },
   "outputs": [],
   "source": [
    "xgbc_prob.to_csv('xgbc.csv', index=False)"
   ]
  },
  {
   "cell_type": "code",
   "execution_count": null,
   "metadata": {
    "collapsed": true
   },
   "outputs": [],
   "source": []
  }
 ],
 "metadata": {
  "kernelspec": {
   "display_name": "Python 2",
   "language": "python",
   "name": "python2"
  },
  "language_info": {
   "codemirror_mode": {
    "name": "ipython",
    "version": 2
   },
   "file_extension": ".py",
   "mimetype": "text/x-python",
   "name": "python",
   "nbconvert_exporter": "python",
   "pygments_lexer": "ipython2",
   "version": "2.7.10"
  }
 },
 "nbformat": 4,
 "nbformat_minor": 0
}
