{
 "cells": [
  {
   "cell_type": "markdown",
   "metadata": {
    "heading_collapsed": true
   },
   "source": [
    "# Imports"
   ]
  },
  {
   "cell_type": "code",
   "execution_count": 1,
   "metadata": {
    "collapsed": true
   },
   "outputs": [],
   "source": [
    "import numpy as np\n",
    "import pandas as pd\n",
    "import itertools\n",
    "import math\n",
    "import random\n",
    "import sys\n",
    "import operator\n",
    "\n",
    "import matplotlib.pyplot as plt\n",
    "import matplotlib\n",
    "%matplotlib inline\n",
    "\n",
    "import xgboost as xgb\n",
    "from sklearn import preprocessing\n",
    "from sklearn import metrics\n",
    "from sklearn import cross_validation\n",
    "from sklearn import grid_search\n",
    "from sklearn import pipeline\n",
    "from sklearn import feature_selection"
   ]
  },
  {
   "cell_type": "code",
   "execution_count": 2,
   "metadata": {
    "collapsed": true
   },
   "outputs": [],
   "source": [
    "rseed = random.seed(42)"
   ]
  },
  {
   "cell_type": "markdown",
   "metadata": {
    "heading_collapsed": true
   },
   "source": [
    "# Data"
   ]
  },
  {
   "cell_type": "code",
   "execution_count": 3,
   "metadata": {
    "collapsed": false
   },
   "outputs": [],
   "source": [
    "train_orig = pd.read_csv('../data/train_master.csv')\n",
    "test_orig = pd.read_csv('../data/test_master.csv')\n",
    "event_type = pd.read_csv('../data/event_type.csv')\n",
    "resource_type = pd.read_csv('../data/resource_type.csv')\n",
    "severity_type = pd.read_csv('../data/severity_type.csv')\n",
    "log_feature = pd.read_csv('../data/log_feature.csv')\n",
    "sample = pd.read_csv('../data/sample_submission.csv')"
   ]
  },
  {
   "cell_type": "markdown",
   "metadata": {
    "heading_collapsed": true
   },
   "source": [
    "# Functions"
   ]
  },
  {
   "cell_type": "code",
   "execution_count": 4,
   "metadata": {
    "collapsed": true
   },
   "outputs": [],
   "source": [
    "def logloss(y_pred, y_true):\n",
    "    nrows = y_pred.shape[0]\n",
    "    y_pred = y_pred + 1e-15\n",
    "    probs = y_pred[list(range(nrows)), y_true.astype(int)]\n",
    "    return -np.sum(np.log(probs)) / nrows"
   ]
  },
  {
   "cell_type": "code",
   "execution_count": 5,
   "metadata": {
    "collapsed": true
   },
   "outputs": [],
   "source": [
    "def report(grid_scores, n_top=5):\n",
    "    top_scores = sorted(grid_scores, key=operator.itemgetter(1), reverse=True)[:n_top]\n",
    "    for i, score in enumerate(top_scores):\n",
    "        print(\"Model #{0}\".format(i + 1))\n",
    "        print(\"Mean CV score: {0:.3f} (std: {1:.3f})\".format(\n",
    "              score.mean_validation_score,\n",
    "              np.std(score.cv_validation_scores)))\n",
    "        print(\"Est. Kscore: {:.3f}\".format(1/score.mean_validation_score))\n",
    "        print(\"Parameters: {0}\".format(score.parameters))\n",
    "        print(\"\")"
   ]
  },
  {
   "cell_type": "code",
   "execution_count": 6,
   "metadata": {
    "collapsed": true
   },
   "outputs": [],
   "source": [
    "class MyXGBClassifier(object):\n",
    "\n",
    "    def __init__(self, n_rounds=100, **params):\n",
    "        self.clf = None\n",
    "        self.params = params        \n",
    "        self.n_rounds = n_rounds\n",
    "        self.dtrain = None\n",
    "\n",
    "    def fit(self, X, Y):\n",
    "        num_boost_round = self.n_rounds\n",
    "        self.dtrain = xgb.DMatrix(X, label=Y)\n",
    "        self.clf = xgb.train(params=self.params, dtrain=self.dtrain, num_boost_round=num_boost_round)\n",
    "\n",
    "    def predict(self, X):\n",
    "        Y = self.predict_proba(X)\n",
    "        y = np.argmax(Y, axis=1)\n",
    "        return np.array(y)\n",
    "\n",
    "    def predict_proba(self, X):\n",
    "        dtest = xgb.DMatrix(X)\n",
    "        return self.predict(dtest)\n",
    "\n",
    "    def get_params(self, deep=True):\n",
    "        return self.params\n",
    "\n",
    "    def set_params(self, **params):\n",
    "        self.params.update(params)\n",
    "        return self\n",
    "\n",
    "    def logloss(self, X, Y):\n",
    "        return logloss(self, X, Y)\n",
    "\n",
    "    def score(self, X, Y):\n",
    "        y = self.predict_proba(X)\n",
    "        return 1. / logloss(y, Y)"
   ]
  },
  {
   "cell_type": "code",
   "execution_count": 8,
   "metadata": {
    "collapsed": true
   },
   "outputs": [],
   "source": [
    "def filter_on_total(x, distribution, total=1, value='Rare'):\n",
    "    try:\n",
    "        if distribution[x] < total:\n",
    "            return value\n",
    "    except (ValueError, KeyError):\n",
    "        return np.nan\n",
    "    else:\n",
    "        return x"
   ]
  },
  {
   "cell_type": "code",
   "execution_count": 9,
   "metadata": {
    "collapsed": true
   },
   "outputs": [],
   "source": [
    "def resource_type_features(df):\n",
    "    resource_type_dummies = pd.get_dummies(resource_type['resource_type'])\n",
    "    resource_dummy = pd.concat([resource_type, resource_type_dummies],\n",
    "                               axis=1)\n",
    "    resource_grpd = resource_dummy.groupby(resource_dummy.id).sum()\n",
    "    df_resource = pd.merge(df, resource_grpd, left_on='id', right_index=True)\n",
    "    return df_resource.drop(['resource_type 1', 'resource_type 2',\n",
    "                             'resource_type 4',\n",
    "                             'resource_type 6', 'resource_type 8',\n",
    "                             'resource_type 10'], axis=1)"
   ]
  },
  {
   "cell_type": "code",
   "execution_count": 10,
   "metadata": {
    "collapsed": true
   },
   "outputs": [],
   "source": [
    "def resource_type_event_count(df):\n",
    "\n",
    "    p = pd.merge(resource_type, event_type, on='id')\n",
    "    t = p.loc[p['resource_type'] == 'resource_type 2', ['id', 'event_type']] \\\n",
    "        .groupby(by=['id'], as_index=False).count()\n",
    "    df_two = pd.merge(df, t, on='id', how='left')\n",
    "\n",
    "    f = p.loc[p['resource_type'] == 'resource_type 4', ['id', 'event_type']] \\\n",
    "        .groupby(by='id', as_index=False).count()\n",
    "    df_four = pd.merge(df_two, f, on='id', how='left')\n",
    "\n",
    "    e = p.loc[p['resource_type'] == 'resource_type 8', ['id', 'event_type']] \\\n",
    "        .groupby(by='id', as_index=False).count()\n",
    "    df_eight = pd.merge(df_four, e, on='id', how='left')\n",
    "\n",
    "    t = p.loc[p['resource_type'] == 'resource_type 10', ['id', 'event_type']] \\\n",
    "        .groupby(by='id', as_index=False).count()\n",
    "    df_ten = pd.merge(df_eight, t, on='id', how='left')\n",
    "\n",
    "    return df_ten"
   ]
  },
  {
   "cell_type": "code",
   "execution_count": 11,
   "metadata": {
    "collapsed": true
   },
   "outputs": [],
   "source": [
    "def resource_type_log(df):\n",
    "\n",
    "    p = pd.merge(resource_type, log_feature, on='id')\n",
    "    t = p.loc[(p['resource_type'] == 'resource_type 1'), ['id', 'log_feature']] \\\n",
    "        .groupby(by='id', as_index=False).count()\n",
    "    df_one = pd.merge(df, t, on='id', how='left')\n",
    "\n",
    "    tw = p.loc[(p['resource_type'] == 'resource_type 2'), ['id', 'log_feature']] \\\n",
    "        .groupby(by='id', as_index=False).count()\n",
    "    df_two = pd.merge(df_one, tw, on='id', how='left')\n",
    "\n",
    "    se = p.loc[(p['resource_type'] == 'resource_type 7'), ['id', 'log_feature']] \\\n",
    "        .groupby(by='id', as_index=False).count()\n",
    "    df_se = pd.merge(df_two, se, on='id', how='left')\n",
    "\n",
    "    ei = p.loc[(p['resource_type'] == 'resource_type 8'), ['id', 'log_feature']] \\\n",
    "        .groupby(by='id', as_index=False).count()\n",
    "    df_ei = pd.merge(df_se, ei, on='id', how='left')\n",
    "\n",
    "    n = p.loc[(p['resource_type'] == 'resource_type 9'), ['id', 'log_feature']] \\\n",
    "        .groupby(by='id', as_index=False).count()\n",
    "    df_n = pd.merge(df_ei, n, on='id', how='left')\n",
    "\n",
    "    return df_n"
   ]
  },
  {
   "cell_type": "code",
   "execution_count": 12,
   "metadata": {
    "collapsed": true
   },
   "outputs": [],
   "source": [
    "def resource_type_log_sum(df):\n",
    "\n",
    "    p = pd.merge(resource_type, log_feature, on='id')\n",
    "    t = p.loc[(p['resource_type'] == 'resource_type 3'), ['id', 'volume']] \\\n",
    "        .groupby(by='id', as_index=False).sum()\n",
    "    df_one = pd.merge(df, t, on='id', how='left')\n",
    "\n",
    "    f = p.loc[(p['resource_type'] == 'resource_type 4'), ['id', 'volume']] \\\n",
    "        .groupby(by='id', as_index=False).sum()\n",
    "    df_f = pd.merge(df, f, on='id', how='left')\n",
    "\n",
    "    return df_f"
   ]
  },
  {
   "cell_type": "code",
   "execution_count": 13,
   "metadata": {
    "collapsed": true
   },
   "outputs": [],
   "source": [
    "def resource_type_log_total(df):\n",
    "\n",
    "    p = pd.merge(resource_type, log_feature, on='id')\n",
    "\n",
    "    # resource type 2\n",
    "    t = p.loc[(p['resource_type'] == 'resource_type 2'), ['id', 'log_feature']] \\\n",
    "        .groupby(by='id', as_index=False).count()\n",
    "\n",
    "    t.loc[:, 'volume'] = p.loc[(p['resource_type'] == 'resource_type 2'), ['id', 'volume']] \\\n",
    "        .groupby(by='id', as_index=False).sum()['volume']\n",
    "\n",
    "    t.loc[:, 'total log volume two'] = t['volume'] / t['log_feature']\n",
    "\n",
    "    df_one = pd.merge(df, t[['id', 'total log volume two']], on='id', how='left')\n",
    "\n",
    "    # resource type ten\n",
    "    te = p.loc[(p['resource_type'] == 'resource_type 10'), ['id', 'log_feature']] \\\n",
    "        .groupby(by='id', as_index=False).count()\n",
    "\n",
    "    te.loc[:, 'volume'] = p.loc[(p['resource_type'] == 'resource_type 10'), ['id', 'volume']] \\\n",
    "        .groupby(by='id', as_index=False).sum()['volume']\n",
    "\n",
    "    te.loc[:, 'total log volume ten'] = te['log_feature'] * te['volume']\n",
    "\n",
    "    df_te = pd.merge(df_one, te[['id', 'total log volume ten']], on='id', how='left')\n",
    "\n",
    "    return df_te"
   ]
  },
  {
   "cell_type": "code",
   "execution_count": 14,
   "metadata": {
    "collapsed": true
   },
   "outputs": [],
   "source": [
    "def resource_type_severity(df):\n",
    "\n",
    "    p = pd.merge(resource_type, severity_type, on='id')\n",
    "    p.loc[:, 'resource type severity'] = \\\n",
    "        ((p['resource_type'] == 'resource_type 6') &\n",
    "        (p['severity_type'] == 'severity_type 1')).astype(float)\n",
    "\n",
    "    t = p[['id', 'resource type severity']].groupby(by='id', as_index=False).median()\n",
    "\n",
    "    return pd.merge(df, t, on='id', how='left')"
   ]
  },
  {
   "cell_type": "code",
   "execution_count": 15,
   "metadata": {
    "collapsed": true
   },
   "outputs": [],
   "source": [
    "def severity_type_features(df):\n",
    "\n",
    "    severity_type_dummies = pd.get_dummies(severity_type['severity_type'])\n",
    "    severity_dummy = pd.concat([severity_type, severity_type_dummies],\n",
    "                               axis=1)\n",
    "\n",
    "    severity_grpd = severity_dummy.groupby(severity_dummy.id).sum()\n",
    "\n",
    "    df_severity = pd.merge(df, severity_grpd, left_on='id', right_index=True)\n",
    "    return df_severity"
   ]
  },
  {
   "cell_type": "code",
   "execution_count": 16,
   "metadata": {
    "collapsed": true
   },
   "outputs": [],
   "source": [
    "def severity_high(df):\n",
    "\n",
    "    p = severity_type[['id', 'severity_type']]\n",
    "\n",
    "    p.loc[:, 'high log severity'] = (p['severity_type'].isin(['severity_type 3',\n",
    "                                                              'severity_type 4',\n",
    "                                                              'severity_type 5'])).astype(float)\n",
    "    ret = pd.merge(df, p[['id', 'high log severity']], on='id', how='left')\n",
    "    return ret"
   ]
  },
  {
   "cell_type": "code",
   "execution_count": 17,
   "metadata": {
    "collapsed": true
   },
   "outputs": [],
   "source": [
    "def severity_event(df):\n",
    "\n",
    "    p = pd.merge(severity_type, event_type, on='id')\n",
    "    t = p.loc[(p['severity_type'] == 'severity_type 1'), ['id', 'event_type']] \\\n",
    "        .groupby(by='id', as_index=False).count()\n",
    "    df_one = pd.merge(df, t, on='id', how='left')\n",
    "\n",
    "    return df_one"
   ]
  },
  {
   "cell_type": "code",
   "execution_count": 18,
   "metadata": {
    "collapsed": true
   },
   "outputs": [],
   "source": [
    "def severity_log(df):\n",
    "\n",
    "    p = pd.merge(severity_type, log_feature, on='id')\n",
    "\n",
    "    tw = p.loc[(p['severity_type'] == 'severity_type 2'), ['id', 'log_feature']] \\\n",
    "        .groupby(by='id', as_index=False).count()\n",
    "    df_tw = pd.merge(df, tw, on='id', how='left')\n",
    "\n",
    "    return df_tw"
   ]
  },
  {
   "cell_type": "code",
   "execution_count": 19,
   "metadata": {
    "collapsed": true
   },
   "outputs": [],
   "source": [
    "def severity_log_sum(df):\n",
    "\n",
    "    p = pd.merge(severity_type, log_feature, on='id')\n",
    "\n",
    "    t = p.loc[(p['severity_type'] == 'severity_type 2'), ['id', 'log_feature']] \\\n",
    "        .groupby(by='id', as_index=False).count()\n",
    "    t.loc[:, 'severity_volume'] = p.loc[(p['severity_type'] == 'severity_type 2'), ['id', 'volume']] \\\n",
    "        .groupby(by='id', as_index=False).sum()\n",
    "\n",
    "    t.loc[:, 'severity_log_volume'] = t['severity_volume'] / t['log_feature']\n",
    "    df_one = pd.merge(df, t[['id', 'severity_log_volume']], on='id', how='left')\n",
    "\n",
    "    return df_one"
   ]
  },
  {
   "cell_type": "code",
   "execution_count": 20,
   "metadata": {
    "collapsed": true
   },
   "outputs": [],
   "source": [
    "def log_features(df):\n",
    "\n",
    "    log_table = pd.pivot_table(\n",
    "        log_feature, values='volume',\n",
    "        index='id', columns='log_feature',\n",
    "        aggfunc=np.sum, fill_value=0\n",
    "    )\n",
    "    df_log = pd.merge(df, log_table, left_on='id', right_index=True)\n",
    "\n",
    "    return df_log"
   ]
  },
  {
   "cell_type": "code",
   "execution_count": 21,
   "metadata": {
    "collapsed": true
   },
   "outputs": [],
   "source": [
    "def log_feature_volume(df):\n",
    "\n",
    "    g = log_feature[['id', 'volume']].groupby(by='id', as_index=False).sum()\n",
    "    ret_g = pd.merge(df, g, on='id', how='left')\n",
    "\n",
    "    h = log_feature[['id', 'log_feature']].groupby(by='id', as_index=False).count()\n",
    "    i = pd.merge(h, g, on='id', how='left')\n",
    "\n",
    "    i.loc[:, 'feature_by_volume'] = i['log_feature'] * i['volume']\n",
    "    ret = pd.merge(ret_g, i[['id', 'feature_by_volume']], on='id', how='left')\n",
    "\n",
    "    return ret"
   ]
  },
  {
   "cell_type": "code",
   "execution_count": 22,
   "metadata": {
    "collapsed": true
   },
   "outputs": [],
   "source": [
    "def log_feature_prob(train, test, level=0):\n",
    "\n",
    "    t = pd.merge(train[['id', 'fault_severity']], log_feature, on='id',\n",
    "                 how='left').drop_duplicates()\n",
    "\n",
    "    log_given_severity = \\\n",
    "       t.loc[t['fault_severity'] == level, 'log_feature'].value_counts() / \\\n",
    "       t['fault_severity'].value_counts()[level]\n",
    "\n",
    "    severity_prob = \\\n",
    "        t['fault_severity'].value_counts()[level] / len(t)\n",
    "\n",
    "    log_probs = \\\n",
    "        t['log_feature'].value_counts() / len(t)\n",
    "\n",
    "    log_feature_probs = \\\n",
    "        (log_given_severity * severity_prob) / log_probs\n",
    "\n",
    "    prob_df = pd.DataFrame({'probs': log_feature_probs})\n",
    "\n",
    "    p = pd.merge(t, prob_df, left_on='log_feature', right_index=True, how='left')\n",
    "    prob_table = pd.pivot_table(p, values='probs', index='id', columns='log_feature',\n",
    "                                aggfunc=np.mean, fill_value=0)\n",
    "\n",
    "    train = pd.merge(train, prob_table, left_on='id', right_index=True,\n",
    "                     how='left')\n",
    "    test = pd.merge(test, prob_table, left_on='id', right_index=True,\n",
    "                    how='left')\n",
    "\n",
    "    return train, test"
   ]
  },
  {
   "cell_type": "code",
   "execution_count": 23,
   "metadata": {
    "collapsed": true
   },
   "outputs": [],
   "source": [
    "def dangerous_log(train, test, level=0):\n",
    "\n",
    "    feature_count = \\\n",
    "        train.loc[\n",
    "            (train['fault_severity'] == level),\n",
    "            ['log_feature', 'volume']\n",
    "        ].groupby(by='log_feature', sort=False).sum()\n",
    "\n",
    "    feature_total = \\\n",
    "        train.loc[\n",
    "            (train['fault_severity'] == level),\n",
    "            'volume'\n",
    "        ].sum()\n",
    "\n",
    "    danger = feature_count / feature_total\n",
    "\n",
    "    train.loc[\n",
    "        (train['fault_severity'] == level) & (train['log_feature'].isin(danger.index)),\n",
    "            'dangerous_log'\n",
    "    ] = danger['volume']\n",
    "\n",
    "    test.loc[\n",
    "        (test['fault_severity'] == level) & (test['log_feature'].isin(danger.index)),\n",
    "            'dangerous_log'\n",
    "    ] = danger['volume']\n",
    "\n",
    "    return train, test"
   ]
  },
  {
   "cell_type": "code",
   "execution_count": 24,
   "metadata": {
    "collapsed": true
   },
   "outputs": [],
   "source": [
    "def danger_log(train, test):\n",
    "\n",
    "    train, test = dangerous_log(train, test, level=0)\n",
    "    train, test = dangerous_log(train, test, level=1)\n",
    "    train, test = dangerous_log(train, test, level=2)\n",
    "\n",
    "    return train, test"
   ]
  },
  {
   "cell_type": "code",
   "execution_count": 25,
   "metadata": {
    "collapsed": true
   },
   "outputs": [],
   "source": [
    "def location_features(train, test, cutoff=0):\n",
    "\n",
    "    train_locations = train[['location']]\n",
    "    test_locations = test[['location']]\n",
    "\n",
    "    train_locations.loc[:, 'train'] = True\n",
    "    test_locations.loc[:, 'train'] = False\n",
    "\n",
    "    train_distribution = train_locations['location'].value_counts()\n",
    "\n",
    "    locations = pd.concat([train_locations, test_locations])\n",
    "    locations.loc[:, 'location'] = locations['location'] \\\n",
    "        .apply(rare_category, args=(train_distribution, ),\n",
    "               cutoff=cutoff, value='RareLocation')\n",
    "\n",
    "    locations_bin = pd.get_dummies(locations['location'])\n",
    "    locations_dummy = pd.concat([locations, locations_bin], axis=1)\n",
    "\n",
    "    msk = locations_dummy['train']\n",
    "    locations_dummy.drop(['train', 'location'], axis=1, inplace=True)\n",
    "\n",
    "    train_locs = pd.concat([train, locations_dummy[msk]], axis=1)\n",
    "    test_locs = pd.concat([test, locations_dummy[~msk]], axis=1)\n",
    "\n",
    "    return train_locs, test_locs"
   ]
  },
  {
   "cell_type": "code",
   "execution_count": 26,
   "metadata": {
    "collapsed": true
   },
   "outputs": [],
   "source": [
    "def dangerous_location(train, test):\n",
    "\n",
    "    danger = \\\n",
    "        (train.loc[(train['fault_severity'] == 2) | (train['fault_severity'] == 1), 'location']).value_counts() / \\\n",
    "        len(train.loc[(train['fault_severity'] == 2) | (train['fault_severity'] == 1), 'location'])\n",
    "\n",
    "    msk = danger >= 0.025\n",
    "\n",
    "    train.loc[train['location'].isin(danger[msk].index), 'dangerous'] = 1\n",
    "    test.loc[test['location'].isin(danger[msk].index), 'dangerous'] = 1\n",
    "\n",
    "    return train, test"
   ]
  },
  {
   "cell_type": "code",
   "execution_count": 27,
   "metadata": {
    "collapsed": true
   },
   "outputs": [],
   "source": [
    "def event_type_features(df):\n",
    "\n",
    "    event_type_dummies = pd.get_dummies(event_type['event_type'])\n",
    "    event_dummy = pd.concat([event_type, event_type_dummies], axis=1)\n",
    "\n",
    "    event_grpd = event_dummy \\\n",
    "        .groupby(event_dummy.id).sum()\n",
    "\n",
    "    df_event = pd.merge(df, event_grpd, left_on='id', right_index=True)\n",
    "    return df_event"
   ]
  },
  {
   "cell_type": "code",
   "execution_count": 28,
   "metadata": {
    "collapsed": true
   },
   "outputs": [],
   "source": [
    "def event_resource_features(df):\n",
    "\n",
    "    e = pd.merge(event_type, resource_type, on='id')\n",
    "    p = e.loc[e['event_type'] == 'event_type 23', ['id', 'resource_type']] \\\n",
    "        .groupby(by='id', as_index=False).count()\n",
    "    df_23 = pd.merge(df, p, on='id', how='left')\n",
    "\n",
    "    return df_23"
   ]
  },
  {
   "cell_type": "code",
   "execution_count": 29,
   "metadata": {
    "collapsed": true
   },
   "outputs": [],
   "source": [
    "def event_log_features(df):\n",
    "\n",
    "    l = pd.merge(event_type, log_feature, on='id')\n",
    "    p = l.loc[l['event_type'] == 'event_type 15', ['id', 'volume']] \\\n",
    "        .groupby(by='id', as_index=False).sum()\n",
    "\n",
    "    df_15 = pd.merge(df, p[['id', 'volume']], on='id', how='left')\n",
    "\n",
    "    p = l.loc[l['event_type'] == 'event_type 15', ['id', 'log_feature']] \\\n",
    "        .groupby(by='id', as_index=False).count()\n",
    "\n",
    "    df_15c = pd.merge(df_15, p, on='id', how='left')\n",
    "\n",
    "\n",
    "    p = l.loc[l['event_type'] == 'event_type 14', ['id', 'volume']] \\\n",
    "        .groupby(by='id', as_index=False).sum()\n",
    "    df_14 = pd.merge(df_15c, p[['id', 'volume']], on='id', how='left')\n",
    "\n",
    "    return df_14"
   ]
  },
  {
   "cell_type": "code",
   "execution_count": 30,
   "metadata": {
    "collapsed": true
   },
   "outputs": [],
   "source": [
    "def event_severity_prob(train, test, level=0):\n",
    "\n",
    "    t = pd.merge(train[['id', 'fault_severity']], event_type, on='id',\n",
    "                 how='left').drop_duplicates()\n",
    "\n",
    "    event_given_severity = \\\n",
    "        t.loc[t['fault_severity'] == level, 'event_type'].value_counts() / \\\n",
    "        len(t.loc[t['fault_severity'] == level])\n",
    "\n",
    "    severity_probs = \\\n",
    "        len(t.loc[t['fault_severity'] == level, :]) / len(t)\n",
    "\n",
    "    event_probs = \\\n",
    "        t['event_type'].value_counts() / len(t['event_type'])\n",
    "\n",
    "    event_severity_probs = \\\n",
    "        (event_given_severity * severity_probs) / event_probs\n",
    "\n",
    "    prob_df = pd.DataFrame({'probs': event_severity_probs})\n",
    "\n",
    "    p = pd.merge(t, prob_df, left_on='event_type', right_index=True, how='left')\n",
    "    prob_table = pd.pivot_table(p, values='probs', index='id', columns='event_type',\n",
    "                                aggfunc=np.median, fill_value=0)\n",
    "\n",
    "    train = pd.merge(train, prob_table, left_on='id', right_index=True,\n",
    "                     how='left')\n",
    "    test = pd.merge(test, prob_table, left_on='id', right_index=True,\n",
    "                    how='left')\n",
    "\n",
    "    return train, test"
   ]
  },
  {
   "cell_type": "code",
   "execution_count": 31,
   "metadata": {
    "collapsed": true
   },
   "outputs": [],
   "source": [
    "def event_severity(train, test):\n",
    "\n",
    "    train, test = event_severity_prob(train, test, level=2)\n",
    "\n",
    "    return train, test"
   ]
  },
  {
   "cell_type": "code",
   "execution_count": 32,
   "metadata": {
    "collapsed": true
   },
   "outputs": [],
   "source": [
    "def rare_category(x, category_distribution, cutoff=1, value='Rare'):\n",
    "    try:\n",
    "        if category_distribution[x] < cutoff:\n",
    "            return value\n",
    "    except (ValueError, KeyError):\n",
    "        return np.nan\n",
    "    else:\n",
    "        return x"
   ]
  },
  {
   "cell_type": "code",
   "execution_count": 33,
   "metadata": {
    "collapsed": true
   },
   "outputs": [],
   "source": [
    "def base_features(df):\n",
    "    a = event_type_features(df)\n",
    "    a = resource_type_features(a)\n",
    "    a = severity_type_features(a)\n",
    "    a = log_features(a)\n",
    "    a = log_feature_volume(a)\n",
    "    a = severity_high(a)\n",
    "    a = resource_type_event_count(a)\n",
    "    return resource_type_log(a)"
   ]
  },
  {
   "cell_type": "markdown",
   "metadata": {
    "heading_collapsed": true
   },
   "source": [
    "# Modeling Data"
   ]
  },
  {
   "cell_type": "code",
   "execution_count": 17,
   "metadata": {
    "collapsed": false
   },
   "outputs": [],
   "source": [
    "train = train_orig.copy().fillna(0)\n",
    "test = test_orig.copy().fillna(0)\n",
    "\n",
    "labels = train.fault_severity\n",
    "ids = test.id\n",
    "\n",
    "cdrop = ['evt_id','id','fault_severity','location']\n",
    "train.drop(cdrop, 1, inplace=True)\n",
    "cdrop = ['evt_id','id','location']\n",
    "test.drop(cdrop, 1, inplace=True)"
   ]
  },
  {
   "cell_type": "code",
   "execution_count": 12,
   "metadata": {
    "collapsed": true
   },
   "outputs": [],
   "source": [
    "outfile = open('xgb.fmap', 'w')\n",
    "for i, feat in enumerate(list(train.columns)):\n",
    "    outfile.write('{0}\\t{1}\\tq\\n'.format(i, feat))\n",
    "outfile.close()"
   ]
  },
  {
   "cell_type": "markdown",
   "metadata": {
    "heading_collapsed": true
   },
   "source": [
    "# Feature Importance"
   ]
  },
  {
   "cell_type": "code",
   "execution_count": 13,
   "metadata": {
    "collapsed": false
   },
   "outputs": [],
   "source": [
    "# train\n",
    "params = {}\n",
    "params['objective'] = 'multi:softprob'\n",
    "params['num_class'] = 3\n",
    "params['eval_metric'] = 'mlogloss'\n",
    "params['eta'] = 0.3\n",
    "params['max_depth'] = 6\n",
    "params['subsample'] = 0.5\n",
    "params['colsample_bytree'] = 0.9\n",
    "params['silent'] = 1\n",
    "num_round = 500\n",
    "xgtrain = xgb.DMatrix(train, labels)\n",
    "model = xgb.train(params, xgtrain, num_boost_round=num_round)"
   ]
  },
  {
   "cell_type": "code",
   "execution_count": 14,
   "metadata": {
    "collapsed": false
   },
   "outputs": [
    {
     "data": {
      "text/plain": [
       "<matplotlib.figure.Figure at 0x104628150>"
      ]
     },
     "metadata": {},
     "output_type": "display_data"
    },
    {
     "data": {
      "image/png": "[encoded data removed]",
      "text/plain": [
       "<matplotlib.figure.Figure at 0x10c0de390>"
      ]
     },
     "metadata": {},
     "output_type": "display_data"
    },
    {
     "data": {
      "image/png": "[encoded data removed]",
      "text/plain": [
       "<matplotlib.figure.Figure at 0x11664fa90>"
      ]
     },
     "metadata": {},
     "output_type": "display_data"
    }
   ],
   "source": [
    "# feature importance\n",
    "importance = model.get_fscore(fmap='xgb.fmap')\n",
    "importance = sorted(importance.items(), key=operator.itemgetter(1), reverse=True)\n",
    "df_imp = pd.DataFrame(importance[:50], columns=['feature', 'fscore'])\n",
    "df_imp['fscore'] = df_imp['fscore'] / df_imp['fscore'].sum()\n",
    "\n",
    "plt.figure()\n",
    "df_imp.plot()\n",
    "df_imp.plot(kind='barh', x='feature', y='fscore', legend=False, figsize=(6, 10))\n",
    "plt.title('XGBoost Feature Importance')\n",
    "plt.xlabel('relative importance')\n",
    "plt.show()"
   ]
  },
  {
   "cell_type": "markdown",
   "metadata": {},
   "source": [
    "# Hypertune"
   ]
  },
  {
   "cell_type": "code",
   "execution_count": 17,
   "metadata": {
    "collapsed": false
   },
   "outputs": [],
   "source": [
    "clf = MyXGBClassifier(n_rounds=500,\n",
    "                      eta=0.3,\n",
    "                      max_depth=10,\n",
    "                      subsample=0.5,\n",
    "                      colsample_bytree=0.9,\n",
    "                      booster='gbtree',\n",
    "                      objective='multi:softprob',\n",
    "                      num_class=3,\n",
    "                      eval_metric='mlogloss',\n",
    "                      silent=0)\n",
    "\n",
    "param_grid = {'eta': [0.05, 0.3, 0.5],\n",
    "              'min_child_weight': [0.6, 0.8, 1.0],\n",
    "              'max_depth': [6, 8, 10],\n",
    "              'colsample_bytree': [0.3, 0.5]\n",
    "              'gamma': [0.0, 0.2, 0.4]\n",
    "             }\n",
    "\n",
    "gridcv = grid_search.GridSearchCV(clf, param_grid, n_jobs=-1, cv=10)"
   ]
  },
  {
   "cell_type": "code",
   "execution_count": null,
   "metadata": {
    "collapsed": false
   },
   "outputs": [],
   "source": [
    "mtrain = train.as_matrix()\n",
    "mlabels = labels.as_matrix()\n",
    "gridcv.fit(mtrain, mlabels)"
   ]
  },
  {
   "cell_type": "code",
   "execution_count": 11,
   "metadata": {
    "collapsed": false
   },
   "outputs": [
    {
     "name": "stdout",
     "output_type": "stream",
     "text": [
      "Model #1\n",
      "Mean CV score: 2.628 (std: 0.138)\n",
      "Est. Kscore: 0.381\n",
      "Parameters: {'colsample_bytree': 0.3, 'max_depth': 6}\n",
      "\n",
      "Model #2\n",
      "Mean CV score: 2.180 (std: 0.120)\n",
      "Est. Kscore: 0.459\n",
      "Parameters: {'colsample_bytree': 0.3, 'max_depth': 10}\n",
      "\n"
     ]
    }
   ],
   "source": [
    "report(clf.grid_scores_)"
   ]
  },
  {
   "cell_type": "markdown",
   "metadata": {
    "heading_collapsed": true
   },
   "source": [
    "# Feature Selection"
   ]
  },
  {
   "cell_type": "code",
   "execution_count": 18,
   "metadata": {
    "collapsed": false
   },
   "outputs": [
    {
     "ename": "KeyboardInterrupt",
     "evalue": "",
     "output_type": "error",
     "traceback": [
      "\u001b[0;31m---------------------------------------------------------------------------\u001b[0m",
      "\u001b[0;31mKeyboardInterrupt\u001b[0m                         Traceback (most recent call last)",
      "\u001b[0;32m<ipython-input-18-f482f99696c4>\u001b[0m in \u001b[0;36m<module>\u001b[0;34m()\u001b[0m\n\u001b[1;32m     20\u001b[0m     \u001b[0mfs_train\u001b[0m \u001b[0;34m=\u001b[0m \u001b[0mxgb\u001b[0m\u001b[0;34m.\u001b[0m\u001b[0mDMatrix\u001b[0m\u001b[0;34m(\u001b[0m\u001b[0mfs_train\u001b[0m\u001b[0;34m,\u001b[0m \u001b[0mlabels\u001b[0m\u001b[0;34m)\u001b[0m\u001b[0;34m\u001b[0m\u001b[0m\n\u001b[1;32m     21\u001b[0m     scores = xgb.cv(params, fs_train, num_round, nfold=10,\n\u001b[0;32m---> 22\u001b[0;31m                     metrics={'mlogloss'}, seed=rseed)\n\u001b[0m\u001b[1;32m     23\u001b[0m     \u001b[0mbest\u001b[0m\u001b[0;34m.\u001b[0m\u001b[0mappend\u001b[0m\u001b[0;34m(\u001b[0m\u001b[0;34m(\u001b[0m\u001b[0mn\u001b[0m\u001b[0;34m,\u001b[0m \u001b[0mscores\u001b[0m\u001b[0;34m[\u001b[0m\u001b[0;34m(\u001b[0m\u001b[0mscores\u001b[0m\u001b[0;34m[\u001b[0m\u001b[0;34m'test-mlogloss-mean'\u001b[0m\u001b[0;34m]\u001b[0m \u001b[0;34m==\u001b[0m \u001b[0mmin\u001b[0m\u001b[0;34m(\u001b[0m\u001b[0mscores\u001b[0m\u001b[0;34m[\u001b[0m\u001b[0;34m'test-mlogloss-mean'\u001b[0m\u001b[0;34m]\u001b[0m\u001b[0;34m)\u001b[0m\u001b[0;34m)\u001b[0m\u001b[0;34m]\u001b[0m\u001b[0;34m.\u001b[0m\u001b[0mvalues\u001b[0m\u001b[0;34m[\u001b[0m\u001b[0;36m0\u001b[0m\u001b[0;34m]\u001b[0m\u001b[0;34m)\u001b[0m\u001b[0;34m)\u001b[0m\u001b[0;34m\u001b[0m\u001b[0m\n\u001b[1;32m     24\u001b[0m \u001b[0;32mprint\u001b[0m \u001b[0mbest\u001b[0m\u001b[0;34m\u001b[0m\u001b[0m\n",
      "\u001b[0;32m/usr/local/lib/python2.7/site-packages/xgboost-0.4-py2.7.egg/xgboost/training.pyc\u001b[0m in \u001b[0;36mcv\u001b[0;34m(params, dtrain, num_boost_round, nfold, metrics, obj, feval, maximize, early_stopping_rounds, fpreproc, as_pandas, show_progress, show_stdv, seed)\u001b[0m\n\u001b[1;32m    440\u001b[0m     \u001b[0;32mfor\u001b[0m \u001b[0mi\u001b[0m \u001b[0;32min\u001b[0m \u001b[0mrange\u001b[0m\u001b[0;34m(\u001b[0m\u001b[0mnum_boost_round\u001b[0m\u001b[0;34m)\u001b[0m\u001b[0;34m:\u001b[0m\u001b[0;34m\u001b[0m\u001b[0m\n\u001b[1;32m    441\u001b[0m         \u001b[0;32mfor\u001b[0m \u001b[0mfold\u001b[0m \u001b[0;32min\u001b[0m \u001b[0mcvfolds\u001b[0m\u001b[0;34m:\u001b[0m\u001b[0;34m\u001b[0m\u001b[0m\n\u001b[0;32m--> 442\u001b[0;31m             \u001b[0mfold\u001b[0m\u001b[0;34m.\u001b[0m\u001b[0mupdate\u001b[0m\u001b[0;34m(\u001b[0m\u001b[0mi\u001b[0m\u001b[0;34m,\u001b[0m \u001b[0mobj\u001b[0m\u001b[0;34m)\u001b[0m\u001b[0;34m\u001b[0m\u001b[0m\n\u001b[0m\u001b[1;32m    443\u001b[0m         res = aggcv([f.eval(i, feval) for f in cvfolds],\n\u001b[1;32m    444\u001b[0m                     \u001b[0mshow_stdv\u001b[0m\u001b[0;34m=\u001b[0m\u001b[0mshow_stdv\u001b[0m\u001b[0;34m,\u001b[0m \u001b[0mshow_progress\u001b[0m\u001b[0;34m=\u001b[0m\u001b[0mshow_progress\u001b[0m\u001b[0;34m,\u001b[0m\u001b[0;34m\u001b[0m\u001b[0m\n",
      "\u001b[0;32m/usr/local/lib/python2.7/site-packages/xgboost-0.4-py2.7.egg/xgboost/training.pyc\u001b[0m in \u001b[0;36mupdate\u001b[0;34m(self, iteration, fobj)\u001b[0m\n\u001b[1;32m    255\u001b[0m     \u001b[0;32mdef\u001b[0m \u001b[0mupdate\u001b[0m\u001b[0;34m(\u001b[0m\u001b[0mself\u001b[0m\u001b[0;34m,\u001b[0m \u001b[0miteration\u001b[0m\u001b[0;34m,\u001b[0m \u001b[0mfobj\u001b[0m\u001b[0;34m)\u001b[0m\u001b[0;34m:\u001b[0m\u001b[0;34m\u001b[0m\u001b[0m\n\u001b[1;32m    256\u001b[0m         \u001b[0;34m\"\"\"\"Update the boosters for one iteration\"\"\"\u001b[0m\u001b[0;34m\u001b[0m\u001b[0m\n\u001b[0;32m--> 257\u001b[0;31m         \u001b[0mself\u001b[0m\u001b[0;34m.\u001b[0m\u001b[0mbst\u001b[0m\u001b[0;34m.\u001b[0m\u001b[0mupdate\u001b[0m\u001b[0;34m(\u001b[0m\u001b[0mself\u001b[0m\u001b[0;34m.\u001b[0m\u001b[0mdtrain\u001b[0m\u001b[0;34m,\u001b[0m \u001b[0miteration\u001b[0m\u001b[0;34m,\u001b[0m \u001b[0mfobj\u001b[0m\u001b[0;34m)\u001b[0m\u001b[0;34m\u001b[0m\u001b[0m\n\u001b[0m\u001b[1;32m    258\u001b[0m \u001b[0;34m\u001b[0m\u001b[0m\n\u001b[1;32m    259\u001b[0m     \u001b[0;32mdef\u001b[0m \u001b[0meval\u001b[0m\u001b[0;34m(\u001b[0m\u001b[0mself\u001b[0m\u001b[0;34m,\u001b[0m \u001b[0miteration\u001b[0m\u001b[0;34m,\u001b[0m \u001b[0mfeval\u001b[0m\u001b[0;34m)\u001b[0m\u001b[0;34m:\u001b[0m\u001b[0;34m\u001b[0m\u001b[0m\n",
      "\u001b[0;32m/usr/local/lib/python2.7/site-packages/xgboost-0.4-py2.7.egg/xgboost/core.pyc\u001b[0m in \u001b[0;36mupdate\u001b[0;34m(self, dtrain, iteration, fobj)\u001b[0m\n\u001b[1;32m    694\u001b[0m \u001b[0;34m\u001b[0m\u001b[0m\n\u001b[1;32m    695\u001b[0m         \u001b[0;32mif\u001b[0m \u001b[0mfobj\u001b[0m \u001b[0;32mis\u001b[0m \u001b[0mNone\u001b[0m\u001b[0;34m:\u001b[0m\u001b[0;34m\u001b[0m\u001b[0m\n\u001b[0;32m--> 696\u001b[0;31m             \u001b[0m_check_call\u001b[0m\u001b[0;34m(\u001b[0m\u001b[0m_LIB\u001b[0m\u001b[0;34m.\u001b[0m\u001b[0mXGBoosterUpdateOneIter\u001b[0m\u001b[0;34m(\u001b[0m\u001b[0mself\u001b[0m\u001b[0;34m.\u001b[0m\u001b[0mhandle\u001b[0m\u001b[0;34m,\u001b[0m \u001b[0miteration\u001b[0m\u001b[0;34m,\u001b[0m \u001b[0mdtrain\u001b[0m\u001b[0;34m.\u001b[0m\u001b[0mhandle\u001b[0m\u001b[0;34m)\u001b[0m\u001b[0;34m)\u001b[0m\u001b[0;34m\u001b[0m\u001b[0m\n\u001b[0m\u001b[1;32m    697\u001b[0m         \u001b[0;32melse\u001b[0m\u001b[0;34m:\u001b[0m\u001b[0;34m\u001b[0m\u001b[0m\n\u001b[1;32m    698\u001b[0m             \u001b[0mpred\u001b[0m \u001b[0;34m=\u001b[0m \u001b[0mself\u001b[0m\u001b[0;34m.\u001b[0m\u001b[0mpredict\u001b[0m\u001b[0;34m(\u001b[0m\u001b[0mdtrain\u001b[0m\u001b[0;34m)\u001b[0m\u001b[0;34m\u001b[0m\u001b[0m\n",
      "\u001b[0;31mKeyboardInterrupt\u001b[0m: "
     ]
    }
   ],
   "source": [
    "params = {'n_rounds':500,\n",
    "          'eta':0.3,\n",
    "          'max_depth':6,\n",
    "          'subsample':0.5,\n",
    "          'colsample_bytree':0.3,\n",
    "          'booster':'gbtree',\n",
    "          'objective':'multi:softprob',\n",
    "          'num_class':3,\n",
    "          'eval_metric':'mlogloss',\n",
    "          'silent':0}\n",
    "\n",
    "best = []\n",
    "for n in range(70, 105, 5):\n",
    "    ch2 = feature_selection.GenericUnivariateSelect(score_func=feature_selection.chi2,\n",
    "                                  mode='percentile',\n",
    "                                  param=n)\n",
    "\n",
    "    fs_train = ch2.fit_transform(train, labels)\n",
    "    fs_test = ch2.transform(test)\n",
    "    fs_train = xgb.DMatrix(fs_train, labels)\n",
    "    scores = xgb.cv(params, fs_train, num_round, nfold=10,\n",
    "                    metrics={'mlogloss'}, seed=rseed)\n",
    "    best.append((n, scores[(scores['test-mlogloss-mean'] == min(scores['test-mlogloss-mean']))].values[0]))\n",
    "print best"
   ]
  },
  {
   "cell_type": "markdown",
   "metadata": {
    "heading_collapsed": true
   },
   "source": [
    "# Submit"
   ]
  },
  {
   "cell_type": "code",
   "execution_count": 9,
   "metadata": {
    "collapsed": true
   },
   "outputs": [],
   "source": [
    "# predict xgboost\n",
    "cdrop = ['evt_id','id']\n",
    "test.drop(cdrop, 1, inplace=True)\n",
    "mtest = test.as_matrix()"
   ]
  },
  {
   "cell_type": "code",
   "execution_count": 10,
   "metadata": {
    "collapsed": true
   },
   "outputs": [],
   "source": [
    "clf = MyXGBClassifier(n_rounds=500,\n",
    "                      eta=0.3,\n",
    "                      max_depth=10,\n",
    "                      subsample=0.5,\n",
    "                      colsample_bytree=0.9,\n",
    "                      booster='gbtree',\n",
    "                      objective='multi:softprob',\n",
    "                      num_class=3,\n",
    "                      eval_metric='mlogloss',\n",
    "                      silent=0)"
   ]
  },
  {
   "cell_type": "code",
   "execution_count": 11,
   "metadata": {
    "collapsed": true
   },
   "outputs": [],
   "source": [
    "mtrain = train.as_matrix()\n",
    "mlabels = labels.as_matrix()\n",
    "clf.fit(mtrain, mlabels)"
   ]
  },
  {
   "cell_type": "code",
   "execution_count": 19,
   "metadata": {
    "collapsed": false
   },
   "outputs": [],
   "source": [
    "predictions = clf.predict_proba(mtest)\n",
    "predictions_df = pd.DataFrame({\n",
    "        'id': ids,\n",
    "        'predict_0': predictions[:, 0],\n",
    "        'predict_1': predictions[:, 1],\n",
    "        'predict_2': predictions[:, 2]\n",
    "    })\n",
    "predictions_df.to_csv('xgb_X.XXXXX.csv', index=False)"
   ]
  },
  {
   "cell_type": "markdown",
   "metadata": {
    "heading_collapsed": true
   },
   "source": [
    "# Scratch"
   ]
  },
  {
   "cell_type": "code",
   "execution_count": 1,
   "metadata": {
    "collapsed": false
   },
   "outputs": [
    {
     "name": "stdout",
     "output_type": "stream",
     "text": [
      "/Users/cavagnolo/ml_fun/telstra/testing\r\n"
     ]
    }
   ],
   "source": [
    "!pwd"
   ]
  },
  {
   "cell_type": "code",
   "execution_count": 2,
   "metadata": {
    "collapsed": true
   },
   "outputs": [],
   "source": [
    "train = pd.read_csv('../data/train_master.csv')\n",
    "test = pd.read_csv('../data/test_master.csv')"
   ]
  },
  {
   "cell_type": "code",
   "execution_count": 3,
   "metadata": {
    "collapsed": true
   },
   "outputs": [],
   "source": [
    "c = ['id','location','evt_id']\n",
    "train.drop(c,1,inplace=True)\n",
    "test.drop(c,1,inplace=True)"
   ]
  },
  {
   "cell_type": "code",
   "execution_count": 4,
   "metadata": {
    "collapsed": true
   },
   "outputs": [],
   "source": [
    "train.fillna(0).to_csv('tr2.csv', index=False)\n",
    "test.fillna(0).to_csv('te2.csv', index=False)"
   ]
  },
  {
   "cell_type": "code",
   "execution_count": 28,
   "metadata": {
    "collapsed": true
   },
   "outputs": [],
   "source": [
    "# log_feature_rarityThreshold <- 50\n",
    "# event_type_rarity_threshold <- 5\n",
    "\n",
    "# log_feature[, \":=\"(numlf = makeNumeric(log_feature), log_feature = makeReadable(log_feature))]\n",
    "# event_type[, \":=\"(numet = makeNumeric(event_type), event_type = makeReadable(event_type))]\n",
    "# resource_type[, \":=\"(resource_type = makeReadable(resource_type))]\n",
    "# severity_type[, \":=\"(numst = makeNumeric(severity_type), severity_type = makeReadable(severity_type))]\n",
    "\n",
    "\n",
    "# train[, \":=\"(numloc = makeNumeric(location),\n",
    "#              location = makeReadable(location))]\n",
    "# test[, \":=\"(numloc = makeNumeric(location),\n",
    "#             location = makeReadable(location), fault_severity = -1)]\n",
    "\n",
    "# total <- rbind(train, test)%>%setkey(\"id\")\n",
    "\n",
    "# if(groupCardinalities){\n",
    "#   #LF reduction\n",
    "#   rare_lf <- log_feature[total][,.N, by=log_feature][N<=log_feature_rarityThreshold][,log_feature]\n",
    "#   log_feature$log_feature[log_feature$log_feature%in%rare_lf] <- \"rare_lf\"\n",
    "  \n",
    "#   rare_et <- event_type[total][,.N, by=event_type][N<=event_type_rarity_threshold][,event_type]\n",
    "#   event_type$event_type[event_type$event_type%in%rare_et] <- \"rare_et\"\n",
    "#   rm(list=c(\"rare_lf\", \"rare_et\"))\n",
    "# }\n",
    "\n",
    "# if(computeFeatures){\n",
    "\n",
    "#   t1 <- log_feature[total][,.(\n",
    "#     loc_nid = uniqueN(id),\n",
    "#     loc_nlf = uniqueN(log_feature),\n",
    "#     loc_sumvol = sum(volume),\n",
    "#     loc_avgvol = mean(volume),\n",
    "#     loc_sdvol = ifelse(is.na(sd(volume)), 0, sd(volume)),\n",
    "#     loc_logvol = log(sum(volume)),\n",
    "#     loc_vollog = sum(log(volume+1)),\n",
    "#     loc_sqrtvol = sqrt(sum(volume)),\n",
    "#     loc_volsqrt = sum(sqrt(volume))), keyby=location]\n",
    "  \n",
    "#   t2 <- resource_type[total][, .(loc_nrt = uniqueN(resource_type)), keyby=location]\n",
    "#   t3 <- event_type[total][, .(loc_net = uniqueN(event_type)), keyby=location]\n",
    "#   t4 <- severity_type[total][, .(loc_nst = uniqueN(severity_type)), keyby=location]\n",
    "  \n",
    "#   joined_total <- resource_type[event_type][severity_type][total]\n",
    "#   # nombres de combinaisons différentes de resource_type/event_type par location\n",
    "#   t5 <- joined_total[,etrtcomb := paste(resource_type, event_type, sep = \"x\")][, .(loc_etrtcomb = uniqueN(etrtcomb)), keyby=location]\n",
    "#   t6 <- joined_total[,etstcomb := paste(severity_type, event_type, sep = \"x\")][, .(loc_etstcomb = uniqueN(etstcomb)), keyby=location]\n",
    "#   t7 <- joined_total[,rtstcomb := paste(severity_type, resource_type, sep = \"x\")][, .(loc_rtstcomb = uniqueN(rtstcomb)), keyby=location]\n",
    "  \n",
    "#   location_info_total <- t1[t2][t3][t4][t5][t6][t7]\n",
    "  \n",
    "#   lf_info <- log_feature[total][,.(\n",
    "#     sumlf = sum(numlf), \n",
    "#     avglf = mean(numlf), \n",
    "#     sdlf = ifelse(is.na(sd(numlf)), 0, sd(numlf)),\n",
    "#     minlf = min(numlf),\n",
    "#     maxlf = max(numlf)),by=id]\n",
    "  \n",
    "#   etst <- event_type[, .(\n",
    "#     id, \n",
    "#     minumet = min(numet), \n",
    "#     maxnumet = max(numet), \n",
    "#     avgnumet = mean(numet)), by=id][severity_type][total][,.(et.st = avgnumet*numst),by=id]\n",
    "  \n",
    "#   total <- total[lf_info][etst]\n",
    "#   total <- merge(total, location_info_total, by = \"location\")\n",
    "# }\n",
    "# setkeyv(total[,\":=\"(location=NULL)], c(\"id\", \"fault_severity\"))\n",
    "\n",
    "# na.ids <- log_feature[total][fault_severity != -1][is.na(log_feature)][,id]\n",
    "# if(length(na.ids) > 0)\n",
    "#   total <- total[-na.ids]\n",
    "\n",
    "# total_lf_volume  <- dcast(\n",
    "#   log_feature[total],\n",
    "#   id + fault_severity ~ log_feature,\n",
    "#   value.var = \"volume\",\n",
    "#   fun = sum\n",
    "# )\n",
    "\n",
    "# total_et <-\n",
    "#   dcast(event_type[total], id + fault_severity ~ event_type, value.var = \"event_type\", fun = length)\n",
    "# total_rt <-\n",
    "#   dcast(\n",
    "#     resource_type[total], id + fault_severity ~ resource_type, value.var = \"resource_type\", fun = length\n",
    "#   )\n",
    "# total_st <-\n",
    "#   dcast(\n",
    "#     severity_type[total], id + fault_severity ~ severity_type, value.var = \"severity_type\", fun = length\n",
    "#   )\n",
    "\n",
    "# total.wide <-\n",
    "#   total[total_lf_volume][total_et][total_rt][total_st]\n",
    "\n",
    "# if(computeManualInteractions){\n",
    "#   total.wide[,\":=\"(\n",
    "\n",
    "#     som_vol_test = (f203 * f312 * f232 * f170),\n",
    "    \n",
    "#     som_vol_feat = (f82 + f203 + f71 + f193 + f80),\n",
    "#     som_vol_feat_c0 = (f313 + f233 + f315),\n",
    "#     som_vol_feat_c1 = (f82 + f203 + f170),\n",
    "#     som_vol_feat_c2 = (f71 + f193 + f80) ) ]\n",
    "# }\n",
    "\n",
    "# train.wide <- total.wide[fault_severity != -1,-\"id\", with = FALSE]\n",
    "# test.wide <- total.wide[fault_severity == -1,-\"id\", with = FALSE]\n",
    "\n",
    "# if(writeFiles){\n",
    "#   writeLines(\"Writing train.csv and test.csv...\")\n",
    "#   write.csv(train.wide, paste(sep = \"-\", \"train.csv\"), row.names = F, quote = F)\n",
    "#   write.csv(test.wide[,.SD, .SDcols = -\"fault_severity\"], paste(sep = \"-\", \"test.csv\"), row.names = F, quote = F)\n",
    "#   writeLines(\"...done\")}\n",
    "\n",
    "# xtrain <- as.matrix(train.wide[,-\"fault_severity\", with = F])\n",
    "# names(xtrain) <- setdiff(names(train.wide), \"fault_severity\")\n",
    "# ytrain <- train.wide$fault_severity\n",
    "\n",
    "# xtest <-  as.matrix(test.wide[,-\"fault_severity\", with = F])\n",
    "# names(xtest) <- setdiff(names(test.wide), \"fault_severity\")\n",
    "# test.id <- test$id\n",
    "\n",
    "# writeLines(\"Cleaning up...\")\n",
    "# rm(list=c(\"na.ids\", \"total.wide\", \"total_et\", \"total_rt\", \"total_st\", \n",
    "#           \"total_lf_volume\", \"train.wide\", \"test.wide\", \"total\",\n",
    "#           \"location_info_total\",\"joined_total\", \"lf_info\", paste0(\"t\", 1:7)))"
   ]
  },
  {
   "cell_type": "code",
   "execution_count": null,
   "metadata": {
    "collapsed": true
   },
   "outputs": [],
   "source": []
  }
 ],
 "metadata": {
  "kernelspec": {
   "display_name": "Python 2",
   "language": "python",
   "name": "python2"
  },
  "language_info": {
   "codemirror_mode": {
    "name": "ipython",
    "version": 2
   },
   "file_extension": ".py",
   "mimetype": "text/x-python",
   "name": "python",
   "nbconvert_exporter": "python",
   "pygments_lexer": "ipython2",
   "version": "2.7.10"
  }
 },
 "nbformat": 4,
 "nbformat_minor": 0
}
