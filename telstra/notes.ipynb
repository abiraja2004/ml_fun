{
 "cells": [
  {
   "cell_type": "markdown",
   "metadata": {},
   "source": [
    "# Telstra Network Disruptions"
   ]
  },
  {
   "cell_type": "code",
   "execution_count": 119,
   "metadata": {
    "collapsed": false,
    "scrolled": true
   },
   "outputs": [],
   "source": [
    "##############\n",
    "# basic libs #\n",
    "##############\n",
    "\n",
    "from tqdm import *\n",
    "import warnings\n",
    "import os, sys, time, datetime, json, string, glob, re\n",
    "warnings.filterwarnings('ignore')\n",
    "\n",
    "############\n",
    "# plumbing #\n",
    "############\n",
    "\n",
    "from sqlalchemy import create_engine\n",
    "from collections import OrderedDict\n",
    "import urllib2, requests, operator, hashlib, uuid\n",
    "\n",
    "###########\n",
    "# science #\n",
    "###########\n",
    "\n",
    "from math import radians, cos, sin, asin, sqrt\n",
    "from scipy import integrate, stats, interp\n",
    "from scipy.spatial import distance\n",
    "import numpy as np\n",
    "import pandas as pd\n",
    "import pymc3 as pm\n",
    "import theano as thno\n",
    "import theano.tensor as T\n",
    "\n",
    "#################\n",
    "# visualization #\n",
    "#################\n",
    "\n",
    "# plotly\n",
    "import plotly.plotly as py\n",
    "import plotly.tools as tls\n",
    "import plotly.graph_objs as go\n",
    "import cufflinks as cf\n",
    "cf.set_config_file(offline=False, world_readable=True, theme='pearl')\n",
    "tls.set_credentials_file(username=os.environ.get('PLOTLY_USERNAME'), api_key=os.environ.get('PLOTLY_APIKEY'))\n",
    "\n",
    "# matplotlib\n",
    "import matplotlib.pyplot as plt\n",
    "import matplotlib\n",
    "%matplotlib inline\n",
    "\n",
    "# seaborn\n",
    "import seaborn as sns\n",
    "sns.set_style('darkgrid')\n",
    "sns.set_palette('muted')\n",
    "sns.set_context(\"notebook\", font_scale=1.5,\n",
    "                rc={\"lines.linewidth\": 2.5})\n",
    "\n",
    "#graphistry\n",
    "import graphistry\n",
    "graphistry.register(key=os.environ.get('GRAPHISTRY_APIKEY'))\n",
    "\n",
    "########\n",
    "# data #\n",
    "########\n",
    "\n",
    "datadir = '/home/kcavagnolo/ml_fun/telstra/data/'\n",
    "files = sorted(glob.glob(datadir+'*.csv'))"
   ]
  },
  {
   "cell_type": "markdown",
   "metadata": {},
   "source": [
    "## What's the problem?\n",
    "\n",
    "* Informal: using Telstra's service logs, the task is to predict the severity of a network disruption.\n",
    "\n",
    "* Describe the problem formally, e.g.\n",
    "    * Task (T): For a specific time and location, classify network fault severity as 0 == no faults, 1 == few faults, 2 == many faults. Fault severity is a measurement of actual reported faults from users of the network and is the target variable.\n",
    "    * Experience (E): Each row in the train/test data represents a location and a time point. They are identified by the \"id\" column, which is the key \"id\" used in the other data files (event_type, resource_type, severity_type, log_feature) that contain features extracted from log files and other sources. Note that severity_type:\n",
    "        * Is a categorical feature extracted from the log files\n",
    "        * \"Often\" (**when is it not?**) the type of the warning message coming from the log files\n",
    "        * Does not have an ordering\n",
    "    * Performance (P): Classification accuracy, the number of fault events predicted correctly (a set of predicted probabilities one for every fault severity mus be given) out of all faults considered as a percentage.\n",
    "\n",
    "* Assumptions:\n",
    "    * All given features will matter to the model.\n",
    "    * The clustering in time and location matter to the model, but may be mutually exclusive.\n",
    "    * The volume of faults may not matter to the model.\n",
    "    * Systemic long duration, low-volume correlated faults could be hiding in data.\n",
    "\n",
    "* Similar problems:\n",
    "    * Airline loyalty and medallion class problem\n",
    "    * Anomaly detection, e.g. [Twitter's R package](https://github.com/nicolasmiller/pyculiarity)"
   ]
  },
  {
   "cell_type": "markdown",
   "metadata": {},
   "source": [
    "## How should I solve this problem?\n",
    "* Brainstorm! Literally type everything as a stream of consciousness (coffee helps here)\n",
    "\n",
    "These are my thoughts. These are my thoughts. These are my thoughts. These are my thoughts. These are my thoughts. These are my thoughts. These are my thoughts. These are my thoughts. These are my thoughts. These are my thoughts.\n",
    "\n",
    "* Describe how to solve problem manually\n",
    "* What data do I have?\n",
    "* What data do I need?\n",
    "* What data I **don't** need?\n",
    "* What do I know the least about in the solution process above?\n",
    "    * knowledge gap 1\n",
    "    * knowledge gap 2\n",
    "* What am I concerned is incorrect in above solution? Find an expert online and ask them about these items\n",
    "    * concern 1\n",
    "    * concern 2"
   ]
  },
  {
   "cell_type": "markdown",
   "metadata": {},
   "source": [
    "# Data Preparation\n",
    "\n",
    "## ETL"
   ]
  },
  {
   "cell_type": "code",
   "execution_count": 65,
   "metadata": {
    "collapsed": false
   },
   "outputs": [
    {
     "name": "stdout",
     "output_type": "stream",
     "text": [
      "Filename:       /home/kcavagnolo/ml_fun/telstra/data/event_type.csv\n",
      "Observations:   31170\n",
      "id              18552 *MULTIPLE VALS PER KEY*                     \n",
      "event_type      53 *MULTIPLE VALS PER KEY*                     \n",
      "\n",
      "\n",
      "Filename:       /home/kcavagnolo/ml_fun/telstra/data/log_feature.csv\n",
      "Observations:   58671\n",
      "id              18552 *MULTIPLE VALS PER KEY*                     \n",
      "log_feature     386 *MULTIPLE VALS PER KEY*                     \n",
      "volume          9 *MULTIPLE VALS PER KEY*                     \n",
      "\n",
      "\n",
      "Filename:       /home/kcavagnolo/ml_fun/telstra/data/resource_type.csv\n",
      "Observations:   21076\n",
      "id              18552 *MULTIPLE VALS PER KEY*                     \n",
      "resource_type   10 *MULTIPLE VALS PER KEY*                     \n",
      "\n",
      "\n",
      "Filename:       /home/kcavagnolo/ml_fun/telstra/data/severity_type.csv\n",
      "Observations:   18552\n",
      "id              18552                                          \n",
      "severity_type   5 *MULTIPLE VALS PER KEY*                     \n",
      "\n",
      "\n",
      "Filename:       /home/kcavagnolo/ml_fun/telstra/data/test.csv\n",
      "Observations:   11171\n",
      "id              11171                                          \n",
      "location        1039 *MULTIPLE VALS PER KEY*                     \n",
      "\n",
      "\n",
      "Filename:       /home/kcavagnolo/ml_fun/telstra/data/train.csv\n",
      "Observations:   7381\n",
      "id              7381                                          \n",
      "location        929 *MULTIPLE VALS PER KEY*                     \n",
      "fault_severity  3 *MULTIPLE VALS PER KEY*                     \n",
      "\n",
      "\n"
     ]
    }
   ],
   "source": [
    "# go through each file and tell me what's in it\n",
    "for f in files:\n",
    "    df = pd.read_csv(f)\n",
    "    cols = df.columns.tolist()\n",
    "    obs = df.shape[0]\n",
    "    print '{:15} {:s}'.format('Filename:', f)\n",
    "    print '{:15} {:d}'.format('Observations:', obs)\n",
    "    for c in cols:\n",
    "        uflag = \"\"\n",
    "        nflag = \"\"\n",
    "        uni = len(pd.unique(df[c].ravel()))\n",
    "        nulls = np.count_nonzero(df[c].isnull())\n",
    "        if obs != uni:\n",
    "            uflag = '*MULTIPLE VALS PER KEY*'\n",
    "        if nulls >0 :\n",
    "            nflag = '*NULLS IN COL*'\n",
    "        print '{:15} {:d} {:20} {:20}'.format(c, uni, uflag, nflag)\n",
    "    print '\\n'"
   ]
  },
  {
   "cell_type": "markdown",
   "metadata": {},
   "source": [
    "* Column names look fine, don't need to clean those\n",
    "* No nulls, hooray\n",
    "* Looks like each ID has only one severity type and multiple event types| log features| resource types:\n",
    "\n",
    "For example, in the training set, consider ID 10005:\n",
    "\n",
    "|id| item | code | sev/vol\n",
    "|:-|:-|:-:|:-:\n",
    "|10005 | location |802 | 0\n",
    "|10005|severity_type |1|\n",
    "|10005|event_type |11|\n",
    "|10005|event_type |13|\n",
    "|10005|event_type |14|\n",
    "|10005|log_feature| 345|1\n",
    "|10005|log_feature| 54|1\n",
    "|10005|resource_type |4|\n",
    "|10005|resource_type |6|\n",
    "|10005|resource_type |8|\n",
    "\n",
    "Transposing would be\n",
    "\n",
    "|id|loc|sev|evt|fea|res\n",
    "|-|\n",
    "|10005|{802:0}|1|[11,13,14]|{54:1,345:1}|[4,6,8]\n",
    "\n",
    "For a single id, the coding can't be a list, so one hot encode every type? How many are we talking?\n",
    "* 53 event types (binary)\n",
    "* 386 log features (continuous)\n",
    "* 10 resource types (binary)\n",
    "\n",
    "That's 449 features. Regardless, need to join all this data together. It's all categorical data (code_n is y/n), except for the log features which has a volume. What's the distribution and can data be re-binned into fewer values?"
   ]
  },
  {
   "cell_type": "code",
   "execution_count": 147,
   "metadata": {
    "collapsed": false
   },
   "outputs": [
    {
     "data": {
      "image/png": "[encoded data removed]",
      "text/plain": [
       "<matplotlib.figure.Figure at 0x7f7565d73f50>"
      ]
     },
     "metadata": {},
     "output_type": "display_data"
    }
   ],
   "source": [
    "# one time analysis to re-bin volunme data\n",
    "df = pd.read_csv('/home/kcavagnolo/ml_fun/telstra/data/log_feature_volume', index_col=0)\n",
    "x = np.log10(df['volume'][(df.volume > 0)].values)\n",
    "sns.distplot(x, bins=8, kde=False, fit=stats.expon)\n",
    "\n",
    "# grab the bins in log space use the built-in Freedman-Diaconis rule\n",
    "hist, bins = np.histogram(x, bins=8)\n",
    "\n",
    "# assign each volume to a bin\n",
    "inds = np.digitize(x, bins)\n",
    "\n",
    "# add this to the df\n",
    "df['volume'] = inds\n",
    "\n",
    "# re-save\n",
    "df.to_csv('/home/kcavagnolo/ml_fun/telstra/data/log_feature_class',index=False)"
   ]
  },
  {
   "cell_type": "markdown",
   "metadata": {},
   "source": [
    "The event sev, evt, and res values can be coded into categoricals of 0/1 (one hot encode)"
   ]
  },
  {
   "cell_type": "code",
   "execution_count": 237,
   "metadata": {
    "collapsed": false
   },
   "outputs": [
    {
     "data": {
      "text/plain": [
       "['/home/kcavagnolo/ml_fun/telstra/data/event_type.csv',\n",
       " '/home/kcavagnolo/ml_fun/telstra/data/log_feature.csv',\n",
       " '/home/kcavagnolo/ml_fun/telstra/data/resource_type.csv',\n",
       " '/home/kcavagnolo/ml_fun/telstra/data/severity_type.csv',\n",
       " '/home/kcavagnolo/ml_fun/telstra/data/test.csv',\n",
       " '/home/kcavagnolo/ml_fun/telstra/data/train.csv']"
      ]
     },
     "execution_count": 237,
     "metadata": {},
     "output_type": "execute_result"
    }
   ],
   "source": [
    "files"
   ]
  },
  {
   "cell_type": "code",
   "execution_count": 266,
   "metadata": {
    "collapsed": false
   },
   "outputs": [],
   "source": [
    "# set the train set as the master df on which to join everything\n",
    "df = pd.read_csv(files[5], index_col=0)\n",
    "for c in df.columns:\n",
    "    if df[c].dtypes == 'object':\n",
    "        df[c] = df[c].map(lambda x: re.sub(\"[^0-9]\", \"\", x))\n",
    "df_train = df.copy()\n",
    "\n",
    "df = pd.read_csv(files[4], index_col=0)\n",
    "for c in df.columns:\n",
    "    if df[c].dtypes == 'object':\n",
    "        df[c] = df[c].map(lambda x: re.sub(\"[^0-9]\", \"\", x))\n",
    "df_test = df.copy()"
   ]
  },
  {
   "cell_type": "code",
   "execution_count": 267,
   "metadata": {
    "collapsed": false
   },
   "outputs": [],
   "source": [
    "# let's work on the three files that are all categorical\n",
    "# event_type, resource_type, severity_type\n",
    "nfiles = [files[0], files[2], files[3]]\n",
    "\n",
    "# iterate over files\n",
    "for f in nfiles:\n",
    "    df = pd.read_csv(f, index_col=0)\n",
    "    for c in df.columns:\n",
    "        df[c] = df[c].map(lambda x: re.sub(\"[^0-9]\", \"\", x))\n",
    "    dfv = pd.get_dummies(df).groupby(df.index).sum()\n",
    "    df_train = df_train.join(dfv)\n",
    "    df_test = df_test.join(dfv)"
   ]
  },
  {
   "cell_type": "code",
   "execution_count": 268,
   "metadata": {
    "collapsed": false
   },
   "outputs": [
    {
     "name": "stdout",
     "output_type": "stream",
     "text": [
      "id              int64\n",
      "log_feature    object\n",
      "volume          int64\n",
      "dtype: object\n"
     ]
    }
   ],
   "source": [
    "# let's work on the file that is not exactly categorical\n",
    "# log_feature\n",
    "\n",
    "# build a matrix of lfea that has values set to the volume\n",
    "df = pd.read_csv(files[1])\n",
    "for c in df.columns:\n",
    "    if df[c].dtypes == 'object':\n",
    "        df[c] = df[c].map(lambda x: re.sub(\"[^0-9]\", \"\", x))\n",
    "\n",
    "# keep track of unique values\n",
    "codes = {}\n",
    "vals = pd.unique(df['id'].values.ravel())\n",
    "num = max(pd.unique(df['log_feature'].values.ravel().astype(int)))+1\n",
    "cnames = ['lfea'+str(x) for x in range(1,num)]\n",
    "\n",
    "# iterate over id's\n",
    "for id in vals:\n",
    "    x = [0]*num\n",
    "    for i in df['log_feature'].loc[df['id'] == id].tolist():\n",
    "        i = int(i)\n",
    "        x[i] = int(df['volume'][(df['id'] == id) & (df['log_feature'] == str(i))])\n",
    "    codes[id] = x\n",
    "\n",
    "# dump to dataframe\n",
    "df = pd.DataFrame.from_dict(codes, orient='index')\n",
    "df = df.drop(0, 1)\n",
    "df.columns = cnames"
   ]
  },
  {
   "cell_type": "code",
   "execution_count": 269,
   "metadata": {
    "collapsed": false
   },
   "outputs": [
    {
     "data": {
      "text/plain": [
       "Index([u'location', u'event_type_11', u'event_type_13', u'event_type_14',\n",
       "       u'resource_type_4', u'resource_type_6', u'resource_type_8',\n",
       "       u'severity_type_1', u'lfea54', u'lfea345'],\n",
       "      dtype='object')"
      ]
     },
     "execution_count": 269,
     "metadata": {},
     "output_type": "execute_result"
    }
   ],
   "source": [
    "# gut check the 10005 entry from above\n",
    "junk = df_train.join(df)\n",
    "dft = junk.T\n",
    "x = dft.loc[:, 10005] > 0\n",
    "x[x].index"
   ]
  },
  {
   "cell_type": "markdown",
   "metadata": {},
   "source": [
    "Yep, those are all correct. So this is a good dataset now."
   ]
  },
  {
   "cell_type": "code",
   "execution_count": 270,
   "metadata": {
    "collapsed": true
   },
   "outputs": [],
   "source": [
    "# join the log features\n",
    "df_train = df_train.join(df)\n",
    "df_test = df_test.join(df)"
   ]
  },
  {
   "cell_type": "code",
   "execution_count": 271,
   "metadata": {
    "collapsed": false
   },
   "outputs": [
    {
     "name": "stdout",
     "output_type": "stream",
     "text": [
      "(7381, 456)\n"
     ]
    },
    {
     "data": {
      "text/html": [
       "<div>\n",
       "<table border=\"1\" class=\"dataframe\">\n",
       "  <thead>\n",
       "    <tr style=\"text-align: right;\">\n",
       "      <th></th>\n",
       "      <th>location</th>\n",
       "      <th>fault_severity</th>\n",
       "      <th>event_type_1</th>\n",
       "      <th>event_type_10</th>\n",
       "      <th>event_type_11</th>\n",
       "      <th>event_type_12</th>\n",
       "      <th>event_type_13</th>\n",
       "      <th>event_type_14</th>\n",
       "      <th>event_type_15</th>\n",
       "      <th>event_type_17</th>\n",
       "      <th>...</th>\n",
       "      <th>lfea377</th>\n",
       "      <th>lfea378</th>\n",
       "      <th>lfea379</th>\n",
       "      <th>lfea380</th>\n",
       "      <th>lfea381</th>\n",
       "      <th>lfea382</th>\n",
       "      <th>lfea383</th>\n",
       "      <th>lfea384</th>\n",
       "      <th>lfea385</th>\n",
       "      <th>lfea386</th>\n",
       "    </tr>\n",
       "    <tr>\n",
       "      <th>id</th>\n",
       "      <th></th>\n",
       "      <th></th>\n",
       "      <th></th>\n",
       "      <th></th>\n",
       "      <th></th>\n",
       "      <th></th>\n",
       "      <th></th>\n",
       "      <th></th>\n",
       "      <th></th>\n",
       "      <th></th>\n",
       "      <th></th>\n",
       "      <th></th>\n",
       "      <th></th>\n",
       "      <th></th>\n",
       "      <th></th>\n",
       "      <th></th>\n",
       "      <th></th>\n",
       "      <th></th>\n",
       "      <th></th>\n",
       "      <th></th>\n",
       "      <th></th>\n",
       "    </tr>\n",
       "  </thead>\n",
       "  <tbody>\n",
       "    <tr>\n",
       "      <th>14121</th>\n",
       "      <td>118</td>\n",
       "      <td>1</td>\n",
       "      <td>0</td>\n",
       "      <td>0</td>\n",
       "      <td>0</td>\n",
       "      <td>0</td>\n",
       "      <td>0</td>\n",
       "      <td>0</td>\n",
       "      <td>0</td>\n",
       "      <td>0</td>\n",
       "      <td>...</td>\n",
       "      <td>0</td>\n",
       "      <td>0</td>\n",
       "      <td>0</td>\n",
       "      <td>0</td>\n",
       "      <td>0</td>\n",
       "      <td>0</td>\n",
       "      <td>0</td>\n",
       "      <td>0</td>\n",
       "      <td>0</td>\n",
       "      <td>0</td>\n",
       "    </tr>\n",
       "    <tr>\n",
       "      <th>9320</th>\n",
       "      <td>91</td>\n",
       "      <td>0</td>\n",
       "      <td>0</td>\n",
       "      <td>0</td>\n",
       "      <td>0</td>\n",
       "      <td>0</td>\n",
       "      <td>0</td>\n",
       "      <td>0</td>\n",
       "      <td>0</td>\n",
       "      <td>0</td>\n",
       "      <td>...</td>\n",
       "      <td>0</td>\n",
       "      <td>0</td>\n",
       "      <td>0</td>\n",
       "      <td>0</td>\n",
       "      <td>0</td>\n",
       "      <td>0</td>\n",
       "      <td>0</td>\n",
       "      <td>0</td>\n",
       "      <td>0</td>\n",
       "      <td>0</td>\n",
       "    </tr>\n",
       "    <tr>\n",
       "      <th>14394</th>\n",
       "      <td>152</td>\n",
       "      <td>1</td>\n",
       "      <td>0</td>\n",
       "      <td>0</td>\n",
       "      <td>0</td>\n",
       "      <td>0</td>\n",
       "      <td>0</td>\n",
       "      <td>0</td>\n",
       "      <td>0</td>\n",
       "      <td>0</td>\n",
       "      <td>...</td>\n",
       "      <td>0</td>\n",
       "      <td>0</td>\n",
       "      <td>0</td>\n",
       "      <td>0</td>\n",
       "      <td>0</td>\n",
       "      <td>0</td>\n",
       "      <td>0</td>\n",
       "      <td>0</td>\n",
       "      <td>0</td>\n",
       "      <td>0</td>\n",
       "    </tr>\n",
       "    <tr>\n",
       "      <th>8218</th>\n",
       "      <td>931</td>\n",
       "      <td>1</td>\n",
       "      <td>0</td>\n",
       "      <td>0</td>\n",
       "      <td>1</td>\n",
       "      <td>0</td>\n",
       "      <td>0</td>\n",
       "      <td>0</td>\n",
       "      <td>1</td>\n",
       "      <td>0</td>\n",
       "      <td>...</td>\n",
       "      <td>0</td>\n",
       "      <td>0</td>\n",
       "      <td>0</td>\n",
       "      <td>0</td>\n",
       "      <td>0</td>\n",
       "      <td>0</td>\n",
       "      <td>0</td>\n",
       "      <td>0</td>\n",
       "      <td>0</td>\n",
       "      <td>0</td>\n",
       "    </tr>\n",
       "    <tr>\n",
       "      <th>14804</th>\n",
       "      <td>120</td>\n",
       "      <td>0</td>\n",
       "      <td>0</td>\n",
       "      <td>0</td>\n",
       "      <td>1</td>\n",
       "      <td>0</td>\n",
       "      <td>0</td>\n",
       "      <td>0</td>\n",
       "      <td>0</td>\n",
       "      <td>0</td>\n",
       "      <td>...</td>\n",
       "      <td>0</td>\n",
       "      <td>0</td>\n",
       "      <td>0</td>\n",
       "      <td>0</td>\n",
       "      <td>0</td>\n",
       "      <td>0</td>\n",
       "      <td>0</td>\n",
       "      <td>0</td>\n",
       "      <td>0</td>\n",
       "      <td>0</td>\n",
       "    </tr>\n",
       "  </tbody>\n",
       "</table>\n",
       "<p>5 rows × 456 columns</p>\n",
       "</div>"
      ],
      "text/plain": [
       "      location  fault_severity  event_type_1  event_type_10  event_type_11  \\\n",
       "id                                                                           \n",
       "14121      118               1             0              0              0   \n",
       "9320        91               0             0              0              0   \n",
       "14394      152               1             0              0              0   \n",
       "8218       931               1             0              0              1   \n",
       "14804      120               0             0              0              1   \n",
       "\n",
       "       event_type_12  event_type_13  event_type_14  event_type_15  \\\n",
       "id                                                                  \n",
       "14121              0              0              0              0   \n",
       "9320               0              0              0              0   \n",
       "14394              0              0              0              0   \n",
       "8218               0              0              0              1   \n",
       "14804              0              0              0              0   \n",
       "\n",
       "       event_type_17   ...     lfea377  lfea378  lfea379  lfea380  lfea381  \\\n",
       "id                     ...                                                   \n",
       "14121              0   ...           0        0        0        0        0   \n",
       "9320               0   ...           0        0        0        0        0   \n",
       "14394              0   ...           0        0        0        0        0   \n",
       "8218               0   ...           0        0        0        0        0   \n",
       "14804              0   ...           0        0        0        0        0   \n",
       "\n",
       "       lfea382  lfea383  lfea384  lfea385  lfea386  \n",
       "id                                                  \n",
       "14121        0        0        0        0        0  \n",
       "9320         0        0        0        0        0  \n",
       "14394        0        0        0        0        0  \n",
       "8218         0        0        0        0        0  \n",
       "14804        0        0        0        0        0  \n",
       "\n",
       "[5 rows x 456 columns]"
      ]
     },
     "execution_count": 271,
     "metadata": {},
     "output_type": "execute_result"
    }
   ],
   "source": [
    "# check the df shape\n",
    "print df_train.shape\n",
    "df_train.head()"
   ]
  },
  {
   "cell_type": "code",
   "execution_count": 272,
   "metadata": {
    "collapsed": false
   },
   "outputs": [
    {
     "name": "stdout",
     "output_type": "stream",
     "text": [
      "(11171, 455)\n"
     ]
    },
    {
     "data": {
      "text/html": [
       "<div>\n",
       "<table border=\"1\" class=\"dataframe\">\n",
       "  <thead>\n",
       "    <tr style=\"text-align: right;\">\n",
       "      <th></th>\n",
       "      <th>location</th>\n",
       "      <th>event_type_1</th>\n",
       "      <th>event_type_10</th>\n",
       "      <th>event_type_11</th>\n",
       "      <th>event_type_12</th>\n",
       "      <th>event_type_13</th>\n",
       "      <th>event_type_14</th>\n",
       "      <th>event_type_15</th>\n",
       "      <th>event_type_17</th>\n",
       "      <th>event_type_18</th>\n",
       "      <th>...</th>\n",
       "      <th>lfea377</th>\n",
       "      <th>lfea378</th>\n",
       "      <th>lfea379</th>\n",
       "      <th>lfea380</th>\n",
       "      <th>lfea381</th>\n",
       "      <th>lfea382</th>\n",
       "      <th>lfea383</th>\n",
       "      <th>lfea384</th>\n",
       "      <th>lfea385</th>\n",
       "      <th>lfea386</th>\n",
       "    </tr>\n",
       "    <tr>\n",
       "      <th>id</th>\n",
       "      <th></th>\n",
       "      <th></th>\n",
       "      <th></th>\n",
       "      <th></th>\n",
       "      <th></th>\n",
       "      <th></th>\n",
       "      <th></th>\n",
       "      <th></th>\n",
       "      <th></th>\n",
       "      <th></th>\n",
       "      <th></th>\n",
       "      <th></th>\n",
       "      <th></th>\n",
       "      <th></th>\n",
       "      <th></th>\n",
       "      <th></th>\n",
       "      <th></th>\n",
       "      <th></th>\n",
       "      <th></th>\n",
       "      <th></th>\n",
       "      <th></th>\n",
       "    </tr>\n",
       "  </thead>\n",
       "  <tbody>\n",
       "    <tr>\n",
       "      <th>11066</th>\n",
       "      <td>481</td>\n",
       "      <td>0</td>\n",
       "      <td>0</td>\n",
       "      <td>0</td>\n",
       "      <td>0</td>\n",
       "      <td>0</td>\n",
       "      <td>0</td>\n",
       "      <td>0</td>\n",
       "      <td>0</td>\n",
       "      <td>0</td>\n",
       "      <td>...</td>\n",
       "      <td>0</td>\n",
       "      <td>0</td>\n",
       "      <td>0</td>\n",
       "      <td>0</td>\n",
       "      <td>0</td>\n",
       "      <td>0</td>\n",
       "      <td>0</td>\n",
       "      <td>0</td>\n",
       "      <td>0</td>\n",
       "      <td>0</td>\n",
       "    </tr>\n",
       "    <tr>\n",
       "      <th>18000</th>\n",
       "      <td>962</td>\n",
       "      <td>0</td>\n",
       "      <td>0</td>\n",
       "      <td>1</td>\n",
       "      <td>0</td>\n",
       "      <td>0</td>\n",
       "      <td>0</td>\n",
       "      <td>1</td>\n",
       "      <td>0</td>\n",
       "      <td>0</td>\n",
       "      <td>...</td>\n",
       "      <td>0</td>\n",
       "      <td>0</td>\n",
       "      <td>0</td>\n",
       "      <td>0</td>\n",
       "      <td>0</td>\n",
       "      <td>0</td>\n",
       "      <td>0</td>\n",
       "      <td>0</td>\n",
       "      <td>0</td>\n",
       "      <td>0</td>\n",
       "    </tr>\n",
       "    <tr>\n",
       "      <th>16964</th>\n",
       "      <td>491</td>\n",
       "      <td>0</td>\n",
       "      <td>0</td>\n",
       "      <td>0</td>\n",
       "      <td>0</td>\n",
       "      <td>0</td>\n",
       "      <td>0</td>\n",
       "      <td>0</td>\n",
       "      <td>0</td>\n",
       "      <td>0</td>\n",
       "      <td>...</td>\n",
       "      <td>0</td>\n",
       "      <td>0</td>\n",
       "      <td>0</td>\n",
       "      <td>0</td>\n",
       "      <td>0</td>\n",
       "      <td>0</td>\n",
       "      <td>0</td>\n",
       "      <td>0</td>\n",
       "      <td>0</td>\n",
       "      <td>0</td>\n",
       "    </tr>\n",
       "    <tr>\n",
       "      <th>4795</th>\n",
       "      <td>532</td>\n",
       "      <td>0</td>\n",
       "      <td>1</td>\n",
       "      <td>0</td>\n",
       "      <td>0</td>\n",
       "      <td>0</td>\n",
       "      <td>0</td>\n",
       "      <td>0</td>\n",
       "      <td>0</td>\n",
       "      <td>0</td>\n",
       "      <td>...</td>\n",
       "      <td>0</td>\n",
       "      <td>0</td>\n",
       "      <td>0</td>\n",
       "      <td>0</td>\n",
       "      <td>0</td>\n",
       "      <td>0</td>\n",
       "      <td>0</td>\n",
       "      <td>0</td>\n",
       "      <td>0</td>\n",
       "      <td>0</td>\n",
       "    </tr>\n",
       "    <tr>\n",
       "      <th>3392</th>\n",
       "      <td>600</td>\n",
       "      <td>0</td>\n",
       "      <td>0</td>\n",
       "      <td>0</td>\n",
       "      <td>0</td>\n",
       "      <td>0</td>\n",
       "      <td>0</td>\n",
       "      <td>1</td>\n",
       "      <td>0</td>\n",
       "      <td>0</td>\n",
       "      <td>...</td>\n",
       "      <td>0</td>\n",
       "      <td>0</td>\n",
       "      <td>0</td>\n",
       "      <td>0</td>\n",
       "      <td>0</td>\n",
       "      <td>0</td>\n",
       "      <td>0</td>\n",
       "      <td>0</td>\n",
       "      <td>0</td>\n",
       "      <td>0</td>\n",
       "    </tr>\n",
       "  </tbody>\n",
       "</table>\n",
       "<p>5 rows × 455 columns</p>\n",
       "</div>"
      ],
      "text/plain": [
       "      location  event_type_1  event_type_10  event_type_11  event_type_12  \\\n",
       "id                                                                          \n",
       "11066      481             0              0              0              0   \n",
       "18000      962             0              0              1              0   \n",
       "16964      491             0              0              0              0   \n",
       "4795       532             0              1              0              0   \n",
       "3392       600             0              0              0              0   \n",
       "\n",
       "       event_type_13  event_type_14  event_type_15  event_type_17  \\\n",
       "id                                                                  \n",
       "11066              0              0              0              0   \n",
       "18000              0              0              1              0   \n",
       "16964              0              0              0              0   \n",
       "4795               0              0              0              0   \n",
       "3392               0              0              1              0   \n",
       "\n",
       "       event_type_18   ...     lfea377  lfea378  lfea379  lfea380  lfea381  \\\n",
       "id                     ...                                                   \n",
       "11066              0   ...           0        0        0        0        0   \n",
       "18000              0   ...           0        0        0        0        0   \n",
       "16964              0   ...           0        0        0        0        0   \n",
       "4795               0   ...           0        0        0        0        0   \n",
       "3392               0   ...           0        0        0        0        0   \n",
       "\n",
       "       lfea382  lfea383  lfea384  lfea385  lfea386  \n",
       "id                                                  \n",
       "11066        0        0        0        0        0  \n",
       "18000        0        0        0        0        0  \n",
       "16964        0        0        0        0        0  \n",
       "4795         0        0        0        0        0  \n",
       "3392         0        0        0        0        0  \n",
       "\n",
       "[5 rows x 455 columns]"
      ]
     },
     "execution_count": 272,
     "metadata": {},
     "output_type": "execute_result"
    }
   ],
   "source": [
    "# check the df shape\n",
    "print df_test.shape\n",
    "df_test.head()"
   ]
  },
  {
   "cell_type": "code",
   "execution_count": 273,
   "metadata": {
    "collapsed": false
   },
   "outputs": [
    {
     "name": "stdout",
     "output_type": "stream",
     "text": [
      "Output filename is: /home/kcavagnolo/ml_fun/telstra/data/test_features.h5.lrz\n",
      "/home/kcavagnolo/ml_fun/telstra/data/test_features.h5 - Compression Ratio: 249.570. Average Compression Speed:  4.333MB/s.\n",
      "Total time: 00:00:08.12\n",
      "Output filename is: /home/kcavagnolo/ml_fun/telstra/data/train_features.h5.lrz\n",
      "/home/kcavagnolo/ml_fun/telstra/data/train_features.h5 - Compression Ratio: 231.844. Average Compression Speed:  4.333MB/s.\n",
      "Total time: 00:00:05.59\n"
     ]
    }
   ],
   "source": [
    "# save to lrzipped hdf5 for easier loading later\n",
    "df_test.to_hdf(datadir + 'test_features.h5', 'df')\n",
    "!lrzip -zf /home/kcavagnolo/ml_fun/telstra/data/test_features.h5\n",
    "!rm -f /home/kcavagnolo/ml_fun/telstra/data/test_features.h5\n",
    "\n",
    "df_train.to_hdf(datadir + 'train_features.h5', 'df')\n",
    "!lrzip -zf /home/kcavagnolo/ml_fun/telstra/data/train_features.h5\n",
    "!rm -f /home/kcavagnolo/ml_fun/telstra/data/train_features.h5"
   ]
  },
  {
   "cell_type": "markdown",
   "metadata": {},
   "source": [
    "# Reload the hdf5 file -- better starting point for future analysis."
   ]
  },
  {
   "cell_type": "code",
   "execution_count": 69,
   "metadata": {
    "collapsed": false
   },
   "outputs": [
    {
     "name": "stdout",
     "output_type": "stream",
     "text": [
      "<class 'pandas.io.pytables.HDFStore'>\n",
      "File path: /home/kcavagnolo/ml_fun/telstra/data/features.h5\n",
      "/df            frame        (shape->[7381,456])\n"
     ]
    }
   ],
   "source": [
    "#!lrunzip -f /home/kcavagnolo/ml_fun/telstra/data/features.h5.lrz\n",
    "store = pd.HDFStore(datadir+'features.h5')\n",
    "print store"
   ]
  },
  {
   "cell_type": "code",
   "execution_count": 86,
   "metadata": {
    "collapsed": false
   },
   "outputs": [
    {
     "name": "stdout",
     "output_type": "stream",
     "text": [
      "Index([u'location', u'fault_severity', u'event_type_1', u'event_type_10',\n",
      "       u'event_type_11', u'event_type_12', u'event_type_13', u'event_type_14',\n",
      "       u'event_type_15', u'event_type_17',\n",
      "       ...\n",
      "       u'lfea377', u'lfea378', u'lfea379', u'lfea380', u'lfea381', u'lfea382',\n",
      "       u'lfea383', u'lfea384', u'lfea385', u'lfea386'],\n",
      "      dtype='object', length=456)\n"
     ]
    },
    {
     "data": {
      "text/html": [
       "<div>\n",
       "<table border=\"1\" class=\"dataframe\">\n",
       "  <thead>\n",
       "    <tr style=\"text-align: right;\">\n",
       "      <th></th>\n",
       "      <th>location</th>\n",
       "      <th>fault_severity</th>\n",
       "      <th>event_type_1</th>\n",
       "      <th>event_type_10</th>\n",
       "      <th>event_type_11</th>\n",
       "      <th>event_type_12</th>\n",
       "      <th>event_type_13</th>\n",
       "      <th>event_type_14</th>\n",
       "      <th>event_type_15</th>\n",
       "      <th>event_type_17</th>\n",
       "      <th>...</th>\n",
       "      <th>lfea377</th>\n",
       "      <th>lfea378</th>\n",
       "      <th>lfea379</th>\n",
       "      <th>lfea380</th>\n",
       "      <th>lfea381</th>\n",
       "      <th>lfea382</th>\n",
       "      <th>lfea383</th>\n",
       "      <th>lfea384</th>\n",
       "      <th>lfea385</th>\n",
       "      <th>lfea386</th>\n",
       "    </tr>\n",
       "    <tr>\n",
       "      <th>id</th>\n",
       "      <th></th>\n",
       "      <th></th>\n",
       "      <th></th>\n",
       "      <th></th>\n",
       "      <th></th>\n",
       "      <th></th>\n",
       "      <th></th>\n",
       "      <th></th>\n",
       "      <th></th>\n",
       "      <th></th>\n",
       "      <th></th>\n",
       "      <th></th>\n",
       "      <th></th>\n",
       "      <th></th>\n",
       "      <th></th>\n",
       "      <th></th>\n",
       "      <th></th>\n",
       "      <th></th>\n",
       "      <th></th>\n",
       "      <th></th>\n",
       "      <th></th>\n",
       "    </tr>\n",
       "  </thead>\n",
       "  <tbody>\n",
       "    <tr>\n",
       "      <th>1</th>\n",
       "      <td>601</td>\n",
       "      <td>1</td>\n",
       "      <td>0</td>\n",
       "      <td>0</td>\n",
       "      <td>1</td>\n",
       "      <td>0</td>\n",
       "      <td>1</td>\n",
       "      <td>0</td>\n",
       "      <td>0</td>\n",
       "      <td>0</td>\n",
       "      <td>...</td>\n",
       "      <td>0</td>\n",
       "      <td>0</td>\n",
       "      <td>0</td>\n",
       "      <td>0</td>\n",
       "      <td>0</td>\n",
       "      <td>0</td>\n",
       "      <td>0</td>\n",
       "      <td>0</td>\n",
       "      <td>0</td>\n",
       "      <td>0</td>\n",
       "    </tr>\n",
       "    <tr>\n",
       "      <th>5</th>\n",
       "      <td>460</td>\n",
       "      <td>0</td>\n",
       "      <td>0</td>\n",
       "      <td>0</td>\n",
       "      <td>0</td>\n",
       "      <td>0</td>\n",
       "      <td>0</td>\n",
       "      <td>0</td>\n",
       "      <td>0</td>\n",
       "      <td>0</td>\n",
       "      <td>...</td>\n",
       "      <td>0</td>\n",
       "      <td>0</td>\n",
       "      <td>0</td>\n",
       "      <td>0</td>\n",
       "      <td>0</td>\n",
       "      <td>0</td>\n",
       "      <td>0</td>\n",
       "      <td>0</td>\n",
       "      <td>0</td>\n",
       "      <td>0</td>\n",
       "    </tr>\n",
       "    <tr>\n",
       "      <th>6</th>\n",
       "      <td>332</td>\n",
       "      <td>1</td>\n",
       "      <td>0</td>\n",
       "      <td>0</td>\n",
       "      <td>0</td>\n",
       "      <td>0</td>\n",
       "      <td>0</td>\n",
       "      <td>0</td>\n",
       "      <td>0</td>\n",
       "      <td>0</td>\n",
       "      <td>...</td>\n",
       "      <td>0</td>\n",
       "      <td>0</td>\n",
       "      <td>0</td>\n",
       "      <td>0</td>\n",
       "      <td>0</td>\n",
       "      <td>0</td>\n",
       "      <td>0</td>\n",
       "      <td>0</td>\n",
       "      <td>0</td>\n",
       "      <td>0</td>\n",
       "    </tr>\n",
       "    <tr>\n",
       "      <th>8</th>\n",
       "      <td>243</td>\n",
       "      <td>0</td>\n",
       "      <td>0</td>\n",
       "      <td>0</td>\n",
       "      <td>0</td>\n",
       "      <td>0</td>\n",
       "      <td>0</td>\n",
       "      <td>0</td>\n",
       "      <td>0</td>\n",
       "      <td>0</td>\n",
       "      <td>...</td>\n",
       "      <td>0</td>\n",
       "      <td>0</td>\n",
       "      <td>0</td>\n",
       "      <td>0</td>\n",
       "      <td>0</td>\n",
       "      <td>0</td>\n",
       "      <td>0</td>\n",
       "      <td>0</td>\n",
       "      <td>0</td>\n",
       "      <td>0</td>\n",
       "    </tr>\n",
       "    <tr>\n",
       "      <th>13</th>\n",
       "      <td>418</td>\n",
       "      <td>0</td>\n",
       "      <td>0</td>\n",
       "      <td>0</td>\n",
       "      <td>0</td>\n",
       "      <td>0</td>\n",
       "      <td>0</td>\n",
       "      <td>0</td>\n",
       "      <td>0</td>\n",
       "      <td>0</td>\n",
       "      <td>...</td>\n",
       "      <td>0</td>\n",
       "      <td>0</td>\n",
       "      <td>0</td>\n",
       "      <td>0</td>\n",
       "      <td>0</td>\n",
       "      <td>0</td>\n",
       "      <td>0</td>\n",
       "      <td>0</td>\n",
       "      <td>0</td>\n",
       "      <td>0</td>\n",
       "    </tr>\n",
       "  </tbody>\n",
       "</table>\n",
       "<p>5 rows × 456 columns</p>\n",
       "</div>"
      ],
      "text/plain": [
       "   location  fault_severity  event_type_1  event_type_10  event_type_11  \\\n",
       "id                                                                        \n",
       "1       601               1             0              0              1   \n",
       "5       460               0             0              0              0   \n",
       "6       332               1             0              0              0   \n",
       "8       243               0             0              0              0   \n",
       "13      418               0             0              0              0   \n",
       "\n",
       "    event_type_12  event_type_13  event_type_14  event_type_15  event_type_17  \\\n",
       "id                                                                              \n",
       "1               0              1              0              0              0   \n",
       "5               0              0              0              0              0   \n",
       "6               0              0              0              0              0   \n",
       "8               0              0              0              0              0   \n",
       "13              0              0              0              0              0   \n",
       "\n",
       "     ...     lfea377  lfea378  lfea379  lfea380  lfea381  lfea382  lfea383  \\\n",
       "id   ...                                                                     \n",
       "1    ...           0        0        0        0        0        0        0   \n",
       "5    ...           0        0        0        0        0        0        0   \n",
       "6    ...           0        0        0        0        0        0        0   \n",
       "8    ...           0        0        0        0        0        0        0   \n",
       "13   ...           0        0        0        0        0        0        0   \n",
       "\n",
       "    lfea384  lfea385  lfea386  \n",
       "id                             \n",
       "1         0        0        0  \n",
       "5         0        0        0  \n",
       "6         0        0        0  \n",
       "8         0        0        0  \n",
       "13        0        0        0  \n",
       "\n",
       "[5 rows x 456 columns]"
      ]
     },
     "execution_count": 86,
     "metadata": {},
     "output_type": "execute_result"
    }
   ],
   "source": [
    "# check the df contents to be sure it's okay\n",
    "df = store['df']\n",
    "df.sort_index(inplace=True)\n",
    "print df.columns\n",
    "df.head()"
   ]
  },
  {
   "cell_type": "markdown",
   "metadata": {},
   "source": [
    "## Attribute Summaries"
   ]
  },
  {
   "cell_type": "code",
   "execution_count": 6,
   "metadata": {
    "collapsed": false,
    "scrolled": false
   },
   "outputs": [
    {
     "data": {
      "text/html": [
       "<iframe id=\"igraph\" scrolling=\"no\" style=\"border:none;\"seamless=\"seamless\" src=\"https://plot.ly/~kcavagnolo/464.embed\" height=\"525px\" width=\"100%\"></iframe>"
      ],
      "text/plain": [
       "<plotly.tools.PlotlyDisplay object>"
      ]
     },
     "execution_count": 6,
     "metadata": {},
     "output_type": "execute_result"
    }
   ],
   "source": [
    "# items to plot\n",
    "a = ['eve', 'lfea', 'res', 'sev']\n",
    "\n",
    "# build axes\n",
    "mpl_fig = plt.figure()\n",
    "ax1 = mpl_fig.add_subplot(411)\n",
    "ax2 = mpl_fig.add_subplot(412)\n",
    "ax3 = mpl_fig.add_subplot(413)\n",
    "ax4 = mpl_fig.add_subplot(414)\n",
    "axs = [ax1, ax2, ax3, ax4]\n",
    "\n",
    "# iterate over each\n",
    "for i, b in enumerate(a):\n",
    "    y = df.filter(regex=b).apply(pd.value_counts).fillna(0).T[1]\n",
    "    #y = 100.*(y/df.shape[0])\n",
    "    x = range(1,len(y)+1)\n",
    "    axs[i].bar(x, y, label=a[i])\n",
    "    axs[i].set_ylabel(a[i])\n",
    "py.iplot_mpl(mpl_fig, strip_style=True)"
   ]
  },
  {
   "cell_type": "markdown",
   "metadata": {},
   "source": [
    "## Feature Engineering\n",
    "* Data has complex multi-dimensional structures that ML algos know how to find and exploit to make decisions\n",
    "* You want to best expose those structures to the algo\n",
    "* Some structures may be too dense or too complex for the algo to find without help (domain expertise comes into play here)\n",
    "* Attribute decomposition into simpler components\n",
    "* Attribute aggregation, e.g. hyperattributes\n",
    "\n",
    "Any structure in the id sequencing, e.g. a time-series surrogate?"
   ]
  },
  {
   "cell_type": "code",
   "execution_count": 224,
   "metadata": {
    "collapsed": false
   },
   "outputs": [
    {
     "data": {
      "image/png": "[encoded data removed]",
      "text/plain": [
       "<matplotlib.figure.Figure at 0x7f1e93f5ad90>"
      ]
     },
     "metadata": {},
     "output_type": "display_data"
    }
   ],
   "source": [
    "fault = df.fault_severity.astype(float)\n",
    "n = len(fault)\n",
    "plt.bar(np.arange(n), fault)\n",
    "plt.show()"
   ]
  },
  {
   "cell_type": "code",
   "execution_count": 225,
   "metadata": {
    "collapsed": false
   },
   "outputs": [
    {
     "data": {
      "image/png": "[encoded data removed]",
      "text/plain": [
       "<matplotlib.figure.Figure at 0x7f1e9372dfd0>"
      ]
     },
     "metadata": {},
     "output_type": "display_data"
    }
   ],
   "source": [
    "loc = df.location.astype(float)\n",
    "plt.bar(np.arange(n), loc)\n",
    "plt.show()"
   ]
  },
  {
   "cell_type": "markdown",
   "metadata": {},
   "source": [
    "Both look like noise to me, gonna leave it for now. What about correlations among the various codes?"
   ]
  },
  {
   "cell_type": "code",
   "execution_count": 265,
   "metadata": {
    "collapsed": false,
    "scrolled": false
   },
   "outputs": [
    {
     "data": {
      "image/png": "[encoded data removed]",
      "text/plain": [
       "<matplotlib.figure.Figure at 0x7f1e8a5ef290>"
      ]
     },
     "metadata": {},
     "output_type": "display_data"
    },
    {
     "data": {
      "image/png": "[encoded data removed]",
      "text/plain": [
       "<matplotlib.figure.Figure at 0x7f1e8a51d590>"
      ]
     },
     "metadata": {},
     "output_type": "display_data"
    },
    {
     "data": {
      "image/png": "[encoded data removed]",
      "text/plain": [
       "<matplotlib.figure.Figure at 0x7f1e8a3c2890>"
      ]
     },
     "metadata": {},
     "output_type": "display_data"
    }
   ],
   "source": [
    "a = ['severity_type', 'event_type', 'resource_type']\n",
    "for b in a:\n",
    "\n",
    "    # Compute the correlation matrix\n",
    "    corr = df.filter(regex=b).corr()\n",
    "\n",
    "    # Generate a mask for the upper triangle\n",
    "    mask = np.zeros_like(corr, dtype=np.bool)\n",
    "    mask[np.triu_indices_from(mask)] = True\n",
    "\n",
    "    # Set up the matplotlib figure\n",
    "    f, ax = plt.subplots(figsize=(14, 11))\n",
    "\n",
    "    # Generate a custom diverging colormap\n",
    "    cmap = sns.diverging_palette(220, 10, as_cmap=True)\n",
    "\n",
    "    # Draw the heatmap with the mask and correct aspect ratio\n",
    "    sns.heatmap(corr, mask=mask, cmap=cmap,\n",
    "                linewidths=.5, cbar_kws={\"shrink\": .5}, ax=ax)"
   ]
  },
  {
   "cell_type": "markdown",
   "metadata": {},
   "source": [
    "The serverity types are anti-correlated as expected, and there is interesting structure in the resource and event types.\n",
    "\n",
    "Makes me more curious about how these events are networked, i.e. communicating to each other? Build out as network problem? Can't: id and loc are 1:1 so the only connections will be among events that are the same, in that they have the same coding across all types. I don't see that as informative to a model.\n",
    "\n",
    "However, clustering should be interesting: can add cluster membership as a new feature. Data is sparse matrix of binary and multiclass values, options for analysis:\n",
    "* binary Jaccard similarity distance and [score](http://scikit-learn.org/stable/modules/generated/sklearn.metrics.jaccard_similarity_score.html)\n",
    "* K-mode clustering\n",
    "* Cosine Distance (and other sparse text vectors)\n",
    "* dissimilarity matrix\n",
    "\n",
    "For k-means, see the odot ipynb, which isn't relevant here since this is categorical data (0/1) and Euclidean distance (used for clustering in k-menas) will be meaningless."
   ]
  },
  {
   "cell_type": "code",
   "execution_count": 194,
   "metadata": {
    "collapsed": false
   },
   "outputs": [],
   "source": [
    "# preprocess\n",
    "from sklearn import preprocessing\n",
    "\n",
    "# re-scale location to reduce it's weight\n",
    "minmax = preprocessing.MinMaxScaler()\n",
    "df2 = df.copy()\n",
    "a = df2.location\n",
    "df2['location'] = minmax.fit_transform(a)"
   ]
  },
  {
   "cell_type": "code",
   "execution_count": 196,
   "metadata": {
    "collapsed": false
   },
   "outputs": [
    {
     "name": "stdout",
     "output_type": "stream",
     "text": [
      "7381 observations of 455 features (loc)\n",
      "7381 observations of 454 features (noloc)\n",
      "Unique labels: [0 1 2]\n"
     ]
    }
   ],
   "source": [
    "# save X, y, and feature names\n",
    "y = df2.fault_severity.as_matrix()\n",
    "df_l = df2.copy\n",
    "df_nl = df2.drop('location', 1).copy()\n",
    "fea_l = df2.drop('fault_severity', axis=1).columns\n",
    "fea_nl = df2.drop('fault_severity', axis=1).drop('location', 1).columns\n",
    "X_l = df2.drop('fault_severity', 1).as_matrix().astype(np.float)\n",
    "X_nl = df2.drop('fault_severity', 1).drop('location', 1).as_matrix().astype(np.float)\n",
    "\n",
    "# checks\n",
    "print \"%d observations of %d features (loc)\" % X_l.shape\n",
    "print \"%d observations of %d features (noloc)\" % X_nl.shape\n",
    "print \"Unique labels:\", np.unique(y)"
   ]
  },
  {
   "cell_type": "code",
   "execution_count": 97,
   "metadata": {
    "collapsed": false
   },
   "outputs": [],
   "source": [
    "# temp train/test split\n",
    "from sklearn.cross_validation import train_test_split\n",
    "X_ltrain, X_ltest, y_train, y_test = train_test_split(X_l, y, test_size=0.3)\n",
    "X_nltrain, X_nltest, y_train, y_test = train_test_split(X_nl, y, test_size=0.3)\n",
    "\n",
    "# check for struc in tsne\n",
    "from sklearn.manifold import TSNE\n",
    "tsne = TSNE(n_components=2)\n",
    "xl = tsne.fit_transform(X_ltest)\n",
    "xnl = tsne.fit_transform(X_nltest)"
   ]
  },
  {
   "cell_type": "code",
   "execution_count": 98,
   "metadata": {
    "collapsed": false
   },
   "outputs": [
    {
     "data": {
      "text/html": [
       "<iframe id=\"igraph\" scrolling=\"no\" style=\"border:none;\"seamless=\"seamless\" src=\"https://plot.ly/~kcavagnolo/470.embed\" height=\"525px\" width=\"100%\"></iframe>"
      ],
      "text/plain": [
       "<plotly.tools.PlotlyDisplay object>"
      ]
     },
     "execution_count": 98,
     "metadata": {},
     "output_type": "execute_result"
    }
   ],
   "source": [
    "# plot the result\n",
    "mpl_fig = plt.figure()\n",
    "vis_x = xl[:, 0]\n",
    "vis_y = xl[:, 1]\n",
    "sns.regplot(vis_x, vis_y,\n",
    "           fit_reg=False,\n",
    "           scatter=True,\n",
    "           scatter_kws={\"c\": y_test,\n",
    "                        \"cmap\": plt.cm.jet,\n",
    "                        \"label\": y_test}\n",
    "           )\n",
    "plt.title('t-SNE (w/ location)')\n",
    "plt.xlabel('P1')\n",
    "plt.ylabel('P2')\n",
    "py.iplot_mpl(mpl_fig, strip_style=True)"
   ]
  },
  {
   "cell_type": "code",
   "execution_count": 99,
   "metadata": {
    "collapsed": false
   },
   "outputs": [
    {
     "data": {
      "text/html": [
       "<iframe id=\"igraph\" scrolling=\"no\" style=\"border:none;\"seamless=\"seamless\" src=\"https://plot.ly/~kcavagnolo/472.embed\" height=\"525px\" width=\"100%\"></iframe>"
      ],
      "text/plain": [
       "<plotly.tools.PlotlyDisplay object>"
      ]
     },
     "execution_count": 99,
     "metadata": {},
     "output_type": "execute_result"
    }
   ],
   "source": [
    "# plot the result\n",
    "mpl_fig = plt.figure()\n",
    "vis_x = xnl[:, 0]\n",
    "vis_y = xnl[:, 1]\n",
    "sns.regplot(vis_x, vis_y,\n",
    "           fit_reg=False,\n",
    "           scatter=True,\n",
    "           scatter_kws={\"c\": y_test,\n",
    "                        \"cmap\": plt.cm.jet,\n",
    "                        \"label\": y_test}\n",
    "           )\n",
    "plt.title('t-SNE (w/o location)')\n",
    "plt.xlabel('P1')\n",
    "plt.ylabel('P2')\n",
    "py.iplot_mpl(mpl_fig, strip_style=True)"
   ]
  },
  {
   "cell_type": "markdown",
   "metadata": {},
   "source": [
    "This... is not obvious. But the clustering of high fault events looks clearer without location."
   ]
  },
  {
   "cell_type": "code",
   "execution_count": 100,
   "metadata": {
    "collapsed": false
   },
   "outputs": [
    {
     "name": "stdout",
     "output_type": "stream",
     "text": [
      "Initialization method and algorithm are deterministic. Setting n_init to 1.\n",
      "Init: initializing centroids\n",
      "Init: initializing clusters\n",
      "Starting iterations...\n",
      "Run 1, iteration: 1/100, moves: 2870, cost: 31832.0\n",
      "Run 1, iteration: 2/100, moves: 248, cost: 31678.0\n",
      "Run 1, iteration: 3/100, moves: 33, cost: 31631.0\n",
      "Run 1, iteration: 4/100, moves: 7, cost: 31630.0\n",
      "Run 1, iteration: 5/100, moves: 0, cost: 31630.0\n"
     ]
    }
   ],
   "source": [
    "from kmodes import kmodes\n",
    "km = kmodes.KModes(n_clusters=10, init='Cao', n_init=5, verbose=1)\n",
    "clusters = km.fit_predict(X_nl)"
   ]
  },
  {
   "cell_type": "code",
   "execution_count": 101,
   "metadata": {
    "collapsed": false
   },
   "outputs": [
    {
     "name": "stdout",
     "output_type": "stream",
     "text": [
      "(0, 4099)\n",
      "(1, 178)\n",
      "(2, 520)\n",
      "(3, 56)\n",
      "(4, 2)\n",
      "(5, 490)\n",
      "(6, 33)\n",
      "(7, 1)\n",
      "(8, 1980)\n",
      "(9, 22)\n"
     ]
    },
    {
     "data": {
      "text/plain": [
       "<matplotlib.axes._subplots.AxesSubplot at 0x7f6db03e6e10>"
      ]
     },
     "execution_count": 101,
     "metadata": {},
     "output_type": "execute_result"
    },
    {
     "data": {
      "image/png": "[encoded data removed]",
      "text/plain": [
       "<matplotlib.figure.Figure at 0x7f6db054c350>"
      ]
     },
     "metadata": {},
     "output_type": "display_data"
    }
   ],
   "source": [
    "from collections import Counter\n",
    "for i in Counter(clusters).items():\n",
    "    print i\n",
    "sns.distplot(clusters, kde=False)"
   ]
  },
  {
   "cell_type": "markdown",
   "metadata": {},
   "source": [
    "That's not a terrible result, it somewhat mimics the tsne result, except for bins 3 and 4, as I don't see any isolated points in tsne, but it's not a 1:1 comparison. Let's see how this performs. First add the cluster assignments to the X matrix."
   ]
  },
  {
   "cell_type": "code",
   "execution_count": 111,
   "metadata": {
    "collapsed": false
   },
   "outputs": [
    {
     "name": "stdout",
     "output_type": "stream",
     "text": [
      "X no loc  (7381, 454)\n",
      "X no loc+clu  (7381, 455)\n"
     ]
    }
   ],
   "source": [
    "# append cluster membership to the no-location version of X\n",
    "a = np.array(clusters)[np.newaxis]\n",
    "print 'X no loc ', X_nl.shape\n",
    "X_nlc = np.concatenate((X_nl, a.T), axis=1)\n",
    "print 'X no loc+clu ', X_nlc.shape"
   ]
  },
  {
   "cell_type": "markdown",
   "metadata": {},
   "source": [
    "# Algorithm Evaluation\n",
    "## Experiments\n",
    "Going to build test harness of test, train, and validation splits using KFolding. Then run predicitions for each fold. Also want to keep track of true positive rate (tpr) and false positive rate (fpr) so I can evaluate receiving operating characteristic curves (ROC's) and the associated area under the curve (AUC) of each. I will also plot the confusion matrix for each model to visualize the predicitve results.\n",
    "\n",
    "want to try\n",
    "xgboost\n",
    "sklearn predict_proba"
   ]
  },
  {
   "cell_type": "code",
   "execution_count": 112,
   "metadata": {
    "collapsed": false
   },
   "outputs": [
    {
     "name": "stdout",
     "output_type": "stream",
     "text": [
      "5904 train samples\n",
      "1477 test samples\n"
     ]
    }
   ],
   "source": [
    "#quick existing model test\n",
    "from keras.models import Sequential\n",
    "from keras.layers.core import Dense, Dropout, Activation\n",
    "from keras.optimizers import SGD, Adam, RMSprop\n",
    "from keras.utils import np_utils\n",
    "thno.config.compute_test_value = 'warn'\n",
    "\n",
    "batch_size = 128\n",
    "nb_epoch = 20\n",
    "\n",
    "\n",
    "# rebuild the train and test sets\n",
    "X_nlctrain, X_nlctest, y_train, y_test = train_test_split(X_nlc, y, test_size=0.2)\n",
    "\n",
    "X_train = X_nlctrain.astype('float32')\n",
    "X_test = X_nlctest.astype('float32')\n",
    "X_train /= 255\n",
    "X_test /= 255\n",
    "\n",
    "Y_train = np_utils.to_categorical(y_train, 3).astype('float32')\n",
    "Y_test = np_utils.to_categorical(y_test, 3).astype('float32')\n",
    "\n",
    "print X_train.shape[0], 'train samples'\n",
    "print X_test.shape[0], 'test samples'\n",
    "dims = X_nlc.shape[1]"
   ]
  },
  {
   "cell_type": "code",
   "execution_count": 108,
   "metadata": {
    "collapsed": false
   },
   "outputs": [],
   "source": [
    "model = Sequential()\n",
    "\n",
    "model.add(Dense(512, input_shape=(dims,)))\n",
    "model.add(Activation('relu'))\n",
    "model.add(Dropout(0.2))\n",
    "\n",
    "model.add(Dense(512))\n",
    "model.add(Activation('relu'))\n",
    "model.add(Dropout(0.2))\n",
    "\n",
    "model.add(Dense(3))\n",
    "model.add(Activation('softmax'))\n",
    "\n",
    "rms = RMSprop()\n",
    "model.compile(loss='categorical_crossentropy', optimizer=rms)"
   ]
  },
  {
   "cell_type": "code",
   "execution_count": 109,
   "metadata": {
    "collapsed": false
   },
   "outputs": [
    {
     "name": "stdout",
     "output_type": "stream",
     "text": [
      "Train on 5904 samples, validate on 1477 samples\n",
      "Epoch 1/20\n",
      "1s - loss: 0.9037 - acc: 0.6355 - val_loss: 0.8212 - val_acc: 0.6696\n",
      "Epoch 2/20\n",
      "1s - loss: 0.8634 - acc: 0.6428 - val_loss: 0.8165 - val_acc: 0.6696\n",
      "Epoch 3/20\n",
      "1s - loss: 0.8605 - acc: 0.6428 - val_loss: 0.8239 - val_acc: 0.6696\n",
      "Epoch 4/20\n",
      "1s - loss: 0.8561 - acc: 0.6428 - val_loss: 0.8241 - val_acc: 0.6696\n",
      "Epoch 5/20\n",
      "1s - loss: 0.8512 - acc: 0.6428 - val_loss: 0.8080 - val_acc: 0.6696\n",
      "Epoch 6/20\n",
      "1s - loss: 0.8419 - acc: 0.6428 - val_loss: 0.7907 - val_acc: 0.6696\n",
      "Epoch 7/20\n",
      "1s - loss: 0.8278 - acc: 0.6428 - val_loss: 0.7759 - val_acc: 0.6696\n",
      "Epoch 8/20\n",
      "1s - loss: 0.8099 - acc: 0.6428 - val_loss: 0.7568 - val_acc: 0.6696\n",
      "Epoch 9/20\n",
      "1s - loss: 0.7890 - acc: 0.6424 - val_loss: 0.7554 - val_acc: 0.6696\n",
      "Epoch 10/20\n",
      "2s - loss: 0.7740 - acc: 0.6402 - val_loss: 0.7277 - val_acc: 0.6649\n",
      "Epoch 11/20\n",
      "1s - loss: 0.7577 - acc: 0.6404 - val_loss: 0.7669 - val_acc: 0.6865\n",
      "Epoch 12/20\n",
      "1s - loss: 0.7486 - acc: 0.6509 - val_loss: 0.7027 - val_acc: 0.6682\n",
      "Epoch 13/20\n",
      "1s - loss: 0.7381 - acc: 0.6601 - val_loss: 0.7483 - val_acc: 0.6716\n",
      "Epoch 14/20\n",
      "1s - loss: 0.7316 - acc: 0.6692 - val_loss: 0.6995 - val_acc: 0.6811\n",
      "Epoch 15/20\n",
      "1s - loss: 0.7254 - acc: 0.6738 - val_loss: 0.6840 - val_acc: 0.7048\n",
      "Epoch 16/20\n",
      "1s - loss: 0.7224 - acc: 0.6733 - val_loss: 0.6911 - val_acc: 0.6811\n",
      "Epoch 17/20\n",
      "1s - loss: 0.7159 - acc: 0.6758 - val_loss: 0.7489 - val_acc: 0.6777\n",
      "Epoch 18/20\n",
      "1s - loss: 0.7145 - acc: 0.6760 - val_loss: 0.6811 - val_acc: 0.6838\n",
      "Epoch 19/20\n",
      "1s - loss: 0.7086 - acc: 0.6787 - val_loss: 0.6751 - val_acc: 0.6825\n",
      "Epoch 20/20\n",
      "1s - loss: 0.7058 - acc: 0.6765 - val_loss: 0.6889 - val_acc: 0.6804\n",
      "('Test score:', 0.68888679233530359)\n",
      "('Test accuracy:', 0.6804333107650643)\n"
     ]
    }
   ],
   "source": [
    "model.fit(X_train, Y_train,\n",
    "          batch_size=batch_size,\n",
    "          nb_epoch=nb_epoch,\n",
    "          show_accuracy=True,\n",
    "          verbose=2,\n",
    "          validation_data=(X_test, Y_test))\n",
    "score = model.evaluate(X_test, Y_test,\n",
    "                       show_accuracy=True, verbose=0)\n",
    "print('Test score:', score[0])\n",
    "print('Test accuracy:', score[1])"
   ]
  },
  {
   "cell_type": "code",
   "execution_count": 161,
   "metadata": {
    "collapsed": true
   },
   "outputs": [],
   "source": [
    "# load scikit harness\n",
    "from sklearn import metrics\n",
    "from sklearn.cross_validation import KFold"
   ]
  },
  {
   "cell_type": "code",
   "execution_count": 156,
   "metadata": {
    "collapsed": true
   },
   "outputs": [],
   "source": [
    "# build a cross-validation function\n",
    "def run_cv(X, y, clf_class, **kwargs):\n",
    "    kf = KFold(len(y), n_folds=10, shuffle=True)\n",
    "    y_pred = y.copy()\n",
    "    #mean_tpr = 0.0\n",
    "    mean_acc = 0.0\n",
    "    mean_prec = 0.0\n",
    "    mean_recl = 0.0\n",
    "    mean_f1 = 0.0\n",
    "    for train_index, test_index in kf:\n",
    "        clf = clf_class(**kwargs)\n",
    "        X_train, X_test = X[train_index], X[test_index]\n",
    "        y_train, y_test = y[train_index], y[test_index]\n",
    "        clf.fit(X_train, y_train)\n",
    "        y_pred[test_index] = clf.predict(X_test)\n",
    "        mean_acc += metrics.accuracy_score(y[test_index], y_pred[test_index])\n",
    "        mean_recl += metrics.recall_score(y[test_index], y_pred[test_index])\n",
    "        mean_prec += metrics.precision_score(y[test_index], y_pred[test_index])\n",
    "        mean_f1 += metrics.f1_score(y[test_index], y_pred[test_index])\n",
    "    mean_acc /= len(kf)\n",
    "    mean_recl /= len(kf)\n",
    "    mean_prec /= len(kf)\n",
    "    mean_f1 /= len(kf)\n",
    "    return y_pred, mean_acc, mean_prec, mean_recl, mean_f1\n",
    "\n",
    "def draw_confusion_matrices(confusion_matrices, class_names):\n",
    "    labels = list(class_names)\n",
    "    for cm in confusion_matrices:\n",
    "        fig = plt.figure()\n",
    "        ax = fig.add_subplot(111)\n",
    "        cax = ax.matshow(cm[1])\n",
    "        fig.colorbar(cax)\n",
    "        ax.set_xticklabels([''] + labels)\n",
    "        ax.set_yticklabels([''] + labels)\n",
    "        plt.title('%s' % cm[0])\n",
    "        plt.xlabel('Predicted')\n",
    "        plt.ylabel('True')\n",
    "        for i,j in ((x,y) for x in xrange(len(cm[1])) for y in xrange(len(cm[1][0]))):\n",
    "            val = '{:.1%}'.format(cm[1][i][j]/cm[1].sum())\n",
    "            ax.annotate(str(val), xy=(i,j), color='white', ha=\"center\", va=\"center\")\n",
    "        plt.show()"
   ]
  },
  {
   "cell_type": "markdown",
   "metadata": {},
   "source": [
    "Loading up a bunch of standard machine learning algorithms into test harness. This is a classification problem, so let's try the standard models..."
   ]
  },
  {
   "cell_type": "code",
   "execution_count": 153,
   "metadata": {
    "collapsed": false
   },
   "outputs": [],
   "source": [
    "from xgboost import XGBClassifier as XGBC\n",
    "from sklearn.svm import SVC\n",
    "from sklearn.linear_model import LogisticRegression as LR\n",
    "from sklearn.naive_bayes import GaussianNB as NB\n",
    "from sklearn.ensemble import RandomForestClassifier as RF\n",
    "from sklearn.ensemble import AdaBoostClassifier as ARF\n",
    "from sklearn.neighbors import KNeighborsClassifier as KNN\n",
    "from sklearn.neural_network import BernoulliRBM as RBM\n",
    "from sklearn.tree import DecisionTreeClassifier as DT\n",
    "\n",
    "# accuracy tests for some models\n",
    "ml_models = []\n",
    "ml_models.append([\"XGBoost\", XGBC, {'max_depth':3, 'n_estimators':300, 'learning_rate':0.05}])\n",
    "ml_models.append([\"Support Vector Machine\", SVC, {}])\n",
    "ml_models.append([\"Linear Logistic Regression\", LR, {'multi_class':'multinomial',\n",
    "                                                     'solver':'lbfgs'}])\n",
    "ml_models.append([\"Naive Bayes\", NB, {}])\n",
    "ml_models.append([\"Decision Trees\", DT, {}])\n",
    "ml_models.append([\"Random Forest\", RF, {'n_estimators':200,\n",
    "                                        'min_samples_split':2, 'n_jobs':-1}])"
   ]
  },
  {
   "cell_type": "markdown",
   "metadata": {},
   "source": [
    "## Measure Performance\n",
    "\n",
    "Show me the accuracy (acc), precision (prec), recall (recl), confusion matrix (cm), and mean auc for each model."
   ]
  },
  {
   "cell_type": "code",
   "execution_count": null,
   "metadata": {
    "collapsed": false
   },
   "outputs": [],
   "source": [
    "# process each model\n",
    "models = []\n",
    "acc = []\n",
    "prec = []\n",
    "recl = []\n",
    "f1 = []\n",
    "cms = []\n",
    "aucs = []\n",
    "for m in ml_models:\n",
    "    y_pred, mean_acc, mean_prec, mean_recl, mean_f1 = run_cv(X_nl, y, m[1], **m[2])\n",
    "    models.append(m[0])\n",
    "    acc.append(mean_acc)\n",
    "    prec.append(mean_prec)\n",
    "    recl.append(mean_recl)\n",
    "    f1.append(mean_f1)\n",
    "    cms.append((m[0], metrics.confusion_matrix(y, y_pred)))\n",
    "\n",
    "# plot confusion matricies\n",
    "draw_confusion_matrices(cms, np.unique(y))"
   ]
  },
  {
   "cell_type": "code",
   "execution_count": 155,
   "metadata": {
    "collapsed": false
   },
   "outputs": [
    {
     "data": {
      "text/html": [
       "<div>\n",
       "<table border=\"1\" class=\"dataframe\">\n",
       "  <thead>\n",
       "    <tr style=\"text-align: right;\">\n",
       "      <th></th>\n",
       "      <th>model</th>\n",
       "      <th>accuracy</th>\n",
       "      <th>precision</th>\n",
       "      <th>recall</th>\n",
       "      <th>f1</th>\n",
       "    </tr>\n",
       "  </thead>\n",
       "  <tbody>\n",
       "    <tr>\n",
       "      <th>5</th>\n",
       "      <td>Random Forest</td>\n",
       "      <td>0.743665</td>\n",
       "      <td>0.737782</td>\n",
       "      <td>0.743665</td>\n",
       "      <td>0.738680</td>\n",
       "    </tr>\n",
       "    <tr>\n",
       "      <th>0</th>\n",
       "      <td>XGBoost</td>\n",
       "      <td>0.741903</td>\n",
       "      <td>0.731333</td>\n",
       "      <td>0.741903</td>\n",
       "      <td>0.722615</td>\n",
       "    </tr>\n",
       "    <tr>\n",
       "      <th>4</th>\n",
       "      <td>Decision Trees</td>\n",
       "      <td>0.727814</td>\n",
       "      <td>0.720446</td>\n",
       "      <td>0.727814</td>\n",
       "      <td>0.721668</td>\n",
       "    </tr>\n",
       "    <tr>\n",
       "      <th>2</th>\n",
       "      <td>Linear Logistic Regression</td>\n",
       "      <td>0.711963</td>\n",
       "      <td>0.689689</td>\n",
       "      <td>0.711963</td>\n",
       "      <td>0.688776</td>\n",
       "    </tr>\n",
       "    <tr>\n",
       "      <th>1</th>\n",
       "      <td>Support Vector Machine</td>\n",
       "      <td>0.678227</td>\n",
       "      <td>0.599846</td>\n",
       "      <td>0.678227</td>\n",
       "      <td>0.588759</td>\n",
       "    </tr>\n",
       "    <tr>\n",
       "      <th>3</th>\n",
       "      <td>Naive Bayes</td>\n",
       "      <td>0.286550</td>\n",
       "      <td>0.676226</td>\n",
       "      <td>0.286550</td>\n",
       "      <td>0.286550</td>\n",
       "    </tr>\n",
       "  </tbody>\n",
       "</table>\n",
       "</div>"
      ],
      "text/plain": [
       "                        model  accuracy  precision    recall        f1\n",
       "5               Random Forest  0.743665   0.737782  0.743665  0.738680\n",
       "0                     XGBoost  0.741903   0.731333  0.741903  0.722615\n",
       "4              Decision Trees  0.727814   0.720446  0.727814  0.721668\n",
       "2  Linear Logistic Regression  0.711963   0.689689  0.711963  0.688776\n",
       "1      Support Vector Machine  0.678227   0.599846  0.678227  0.588759\n",
       "3                 Naive Bayes  0.286550   0.676226  0.286550  0.286550"
      ]
     },
     "execution_count": 155,
     "metadata": {},
     "output_type": "execute_result"
    }
   ],
   "source": [
    "models_df = pd.DataFrame.from_items([('model', models),\n",
    "                              ('accuracy', acc),\n",
    "                              ('precision', prec),\n",
    "                              ('recall', recl),\n",
    "                              ('f1', f1)\n",
    "                              ])\n",
    "models_df.sort(['accuracy', 'precision', 'recall', 'f1'], ascending=[False, False, False, False])"
   ]
  },
  {
   "cell_type": "markdown",
   "metadata": {},
   "source": [
    "# Testing Results "
   ]
  },
  {
   "cell_type": "code",
   "execution_count": 186,
   "metadata": {
    "collapsed": false
   },
   "outputs": [],
   "source": [
    "# go ahead and set X == X_nlc\n",
    "X = X_nl.copy()\n",
    "features = fea_nl.copy()"
   ]
  },
  {
   "cell_type": "code",
   "execution_count": 187,
   "metadata": {
    "collapsed": false
   },
   "outputs": [
    {
     "name": "stdout",
     "output_type": "stream",
     "text": [
      "Best accuracy:       Random Forest        74.37%\n",
      "Best precision:      Random Forest        73.78%\n",
      "Best recall:         Random Forest        74.37%\n"
     ]
    }
   ],
   "source": [
    "# best and worst models\n",
    "max_idx, max_value = max(enumerate(acc), key=operator.itemgetter(1))\n",
    "print '{:20} {:20} {:.2%}'.format('Best accuracy:', ml_models[max_idx][0], acc[max_idx])\n",
    "\n",
    "max_idx, max_value = max(enumerate(prec), key=operator.itemgetter(1))\n",
    "print '{:20} {:20} {:.2%}'.format('Best precision:', ml_models[max_idx][0], prec[max_idx])\n",
    "\n",
    "max_idx, max_value = max(enumerate(recl), key=operator.itemgetter(1))\n",
    "print '{:20} {:20} {:.2%}'.format('Best recall:', ml_models[max_idx][0], recl[max_idx])"
   ]
  },
  {
   "cell_type": "markdown",
   "metadata": {},
   "source": [
    "Random forest is the obvious winner by all measures, so let's take a crack at tuning that model.\n",
    "\n",
    "## Algorithm Tuning\n",
    "\n",
    "### Question: What are the important features in the model, and does the model improve when using those features only?"
   ]
  },
  {
   "cell_type": "code",
   "execution_count": 197,
   "metadata": {
    "collapsed": false
   },
   "outputs": [],
   "source": [
    "# feature importance\n",
    "kf = KFold(len(y), n_folds=10, shuffle=True, random_state=4)\n",
    "y_pred = y.copy()\n",
    "\n",
    "# keep values for all features\n",
    "feat_impt = {}\n",
    "for f in features:\n",
    "    feat_impt[f] = []\n",
    "\n",
    "# go through all features    \n",
    "for train_index, test_index in kf:\n",
    "    clf = RF(n_estimators=50, min_samples_split=2, n_jobs=-1)\n",
    "    X_train, X_test = X[train_index], X[test_index]\n",
    "    y_train, y_test = y[train_index], y[test_index]\n",
    "    clf.fit(X_train, y_train)\n",
    "    y_pred[test_index] = clf.predict(X_test)\n",
    "    importances = clf.feature_importances_\n",
    "    std = np.std([tree.feature_importances_ for tree in clf.estimators_], axis=0)\n",
    "    indices = np.argsort(importances)[::-1]\n",
    "    for f in range(X.shape[1]):\n",
    "        feat_impt[features[indices[f]]].append(importances[indices[f]])\n",
    "\n",
    "for k in feat_impt:\n",
    "    val = np.mean(feat_impt[k])\n",
    "    std = np.std(feat_impt[k])\n",
    "    feat_impt[k] = val"
   ]
  },
  {
   "cell_type": "code",
   "execution_count": 209,
   "metadata": {
    "collapsed": false
   },
   "outputs": [
    {
     "name": "stdout",
     "output_type": "stream",
     "text": [
      "item -- feature -- weight -- cumm_weight\n",
      "0 lfea203 14.1% 14%\n",
      "1 lfea82 7.2% 21%\n",
      "2 lfea170 3.5% 25%\n",
      "3 lfea312 2.6% 27%\n",
      "4 lfea54 2.4% 30%\n",
      "5 lfea71 2.3% 32%\n",
      "6 lfea80 2.2% 34%\n",
      "7 event_type_15 2.0% 36%\n",
      "8 lfea232 1.9% 38%\n",
      "9 lfea68 1.8% 40%\n",
      "10 lfea193 1.8% 42%\n",
      "11 severity_type_1 1.8% 44%\n",
      "12 lfea201 1.7% 45%\n",
      "13 event_type_35 1.6% 47%\n",
      "14 resource_type_2 1.4% 48%\n",
      "15 resource_type_8 1.3% 50%\n",
      "16 lfea73 1.3% 51%\n",
      "17 lfea313 1.2% 52%\n",
      "18 severity_type_2 1.2% 53%\n",
      "19 lfea307 1.0% 54%\n",
      "20 lfea227 1.0% 55%\n",
      "21 lfea315 0.9% 56%\n",
      "22 event_type_11 0.9% 57%\n",
      "23 lfea195 0.9% 58%\n",
      "24 lfea233 0.9% 59%\n",
      "25 event_type_34 0.9% 60%\n",
      "26 event_type_54 0.8% 61%\n",
      "27 lfea202 0.8% 61%\n",
      "28 lfea209 0.7% 62%\n",
      "29 lfea273 0.7% 63%\n",
      "30 lfea171 0.7% 63%\n",
      "31 lfea283 0.6% 64%\n",
      "32 lfea81 0.6% 65%\n",
      "33 lfea155 0.6% 65%\n",
      "34 lfea55 0.6% 66%\n",
      "35 lfea291 0.6% 67%\n",
      "36 lfea179 0.6% 67%\n",
      "37 severity_type_4 0.6% 68%\n",
      "38 lfea314 0.6% 68%\n",
      "39 lfea219 0.6% 69%\n",
      "40 lfea70 0.6% 69%\n",
      "41 lfea235 0.5% 70%\n",
      "42 lfea134 0.5% 71%\n",
      "43 lfea223 0.5% 71%\n",
      "44 lfea376 0.5% 72%\n",
      "45 lfea345 0.5% 72%\n",
      "46 lfea56 0.5% 73%\n",
      "47 lfea87 0.5% 73%\n",
      "48 lfea234 0.5% 74%\n",
      "49 lfea306 0.5% 74%\n",
      "50 lfea375 0.5% 75%\n",
      "51 lfea172 0.5% 75%\n",
      "52 lfea368 0.5% 76%\n",
      "53 lfea301 0.5% 76%\n",
      "54 resource_type_6 0.4% 77%\n",
      "55 event_type_13 0.4% 77%\n",
      "56 event_type_20 0.4% 77%\n",
      "57 lfea191 0.4% 78%\n",
      "58 lfea290 0.4% 78%\n",
      "59 lfea207 0.4% 79%\n",
      "60 event_type_14 0.4% 79%\n",
      "61 lfea196 0.4% 79%\n",
      "62 resource_type_4 0.4% 80%\n",
      "63 lfea74 0.4% 80%\n",
      "64 lfea222 0.4% 80%\n",
      "65 lfea182 0.4% 81%\n",
      "66 lfea75 0.3% 81%\n",
      "67 lfea86 0.3% 81%\n",
      "68 lfea309 0.3% 82%\n",
      "69 event_type_22 0.3% 82%\n",
      "70 lfea44 0.3% 82%\n",
      "71 resource_type_7 0.3% 83%\n",
      "72 lfea197 0.3% 83%\n",
      "73 lfea221 0.3% 83%\n",
      "74 lfea160 0.3% 83%\n",
      "75 event_type_23 0.3% 84%\n",
      "76 lfea157 0.3% 84%\n",
      "77 lfea198 0.2% 84%\n",
      "78 lfea51 0.2% 84%\n",
      "79 lfea360 0.2% 85%\n",
      "80 lfea229 0.2% 85%\n",
      "81 lfea62 0.2% 85%\n",
      "82 lfea204 0.2% 85%\n",
      "83 resource_type_1 0.2% 86%\n",
      "84 lfea362 0.2% 86%\n",
      "85 lfea181 0.2% 86%\n",
      "86 lfea305 0.2% 86%\n",
      "87 lfea167 0.2% 86%\n",
      "88 lfea228 0.2% 87%\n",
      "89 lfea206 0.2% 87%\n",
      "90 lfea308 0.2% 87%\n",
      "91 lfea230 0.2% 87%\n",
      "92 lfea205 0.2% 88%\n",
      "93 lfea47 0.2% 88%\n",
      "94 lfea83 0.2% 88%\n",
      "95 lfea85 0.2% 88%\n",
      "96 lfea187 0.2% 88%\n",
      "97 lfea42 0.2% 88%\n",
      "98 lfea310 0.2% 89%\n",
      "99 resource_type_9 0.2% 89%\n",
      "100 lfea76 0.2% 89%\n",
      "101 lfea220 0.2% 89%\n",
      "102 event_type_43 0.2% 89%\n",
      "103 lfea135 0.2% 89%\n",
      "104 lfea45 0.2% 90%\n",
      "105 lfea63 0.2% 90%\n",
      "106 lfea218 0.2% 90%\n",
      "107 lfea163 0.2% 90%\n",
      "108 event_type_10 0.2% 90%\n",
      "109 resource_type_3 0.2% 90%\n",
      "110 lfea103 0.2% 90%\n",
      "111 lfea289 0.2% 91%\n",
      "112 lfea94 0.1% 91%\n",
      "113 lfea374 0.1% 91%\n",
      "114 lfea39 0.1% 91%\n",
      "115 lfea200 0.1% 91%\n",
      "116 event_type_44 0.1% 91%\n",
      "117 lfea95 0.1% 91%\n",
      "118 event_type_50 0.1% 92%\n",
      "119 lfea217 0.1% 92%\n",
      "120 lfea46 0.1% 92%\n",
      "121 lfea183 0.1% 92%\n",
      "122 resource_type_10 0.1% 92%\n",
      "123 event_type_18 0.1% 92%\n",
      "124 lfea154 0.1% 92%\n",
      "125 event_type_7 0.1% 92%\n",
      "126 lfea211 0.1% 92%\n",
      "127 lfea66 0.1% 93%\n",
      "128 lfea118 0.1% 93%\n",
      "129 event_type_21 0.1% 93%\n",
      "130 lfea280 0.1% 93%\n",
      "131 lfea153 0.1% 93%\n",
      "132 event_type_42 0.1% 93%\n",
      "133 event_type_6 0.1% 93%\n",
      "134 lfea133 0.1% 93%\n",
      "135 event_type_2 0.1% 93%\n",
      "136 lfea188 0.1% 93%\n",
      "137 event_type_5 0.1% 94%\n",
      "138 lfea318 0.1% 94%\n",
      "139 lfea105 0.1% 94%\n",
      "140 event_type_30 0.1% 94%\n",
      "141 event_type_32 0.1% 94%\n",
      "142 lfea178 0.1% 94%\n",
      "143 lfea378 0.1% 94%\n",
      "144 lfea293 0.1% 94%\n",
      "145 lfea65 0.1% 94%\n",
      "146 lfea239 0.1% 94%\n",
      "147 lfea177 0.1% 94%\n",
      "148 lfea8 0.1% 94%\n",
      "149 lfea164 0.1% 94%\n",
      "150 lfea304 0.1% 95%\n",
      "151 lfea35 0.1% 95%\n",
      "152 lfea136 0.1% 95%\n",
      "153 lfea285 0.1% 95%\n",
      "154 lfea156 0.1% 95%\n",
      "155 lfea141 0.1% 95%\n",
      "156 lfea150 0.1% 95%\n",
      "**----  Reached 95%  ----**\n",
      "157 event_type_3 0.1% 95%\n",
      "158 lfea359 0.1% 95%\n",
      "159 lfea370 0.1% 95%\n",
      "160 lfea161 0.1% 95%\n",
      "161 lfea276 0.1% 95%\n",
      "162 lfea41 0.1% 95%\n",
      "163 lfea111 0.1% 95%\n",
      "164 lfea169 0.1% 96%\n",
      "165 lfea38 0.1% 96%\n",
      "166 event_type_45 0.1% 96%\n",
      "167 lfea224 0.1% 96%\n",
      "168 lfea53 0.1% 96%\n",
      "169 lfea303 0.1% 96%\n",
      "170 event_type_27 0.1% 96%\n",
      "171 event_type_26 0.1% 96%\n",
      "172 lfea284 0.1% 96%\n",
      "173 severity_type_5 0.1% 96%\n",
      "174 lfea152 0.1% 96%\n",
      "175 lfea353 0.1% 96%\n",
      "176 lfea125 0.1% 96%\n",
      "177 lfea101 0.1% 96%\n",
      "178 lfea30 0.1% 96%\n",
      "179 event_type_47 0.1% 96%\n",
      "180 lfea361 0.1% 96%\n",
      "181 event_type_31 0.1% 96%\n",
      "182 lfea354 0.1% 97%\n",
      "183 event_type_53 0.1% 97%\n",
      "184 lfea108 0.1% 97%\n",
      "185 lfea20 0.1% 97%\n",
      "186 lfea162 0.1% 97%\n",
      "187 event_type_24 0.1% 97%\n",
      "188 event_type_28 0.0% 97%\n",
      "189 lfea132 0.0% 97%\n",
      "190 lfea190 0.0% 97%\n",
      "191 lfea1 0.0% 97%\n",
      "192 event_type_19 0.0% 97%\n",
      "193 lfea212 0.0% 97%\n",
      "194 lfea279 0.0% 97%\n",
      "195 lfea358 0.0% 97%\n",
      "196 lfea84 0.0% 97%\n",
      "197 lfea288 0.0% 97%\n",
      "198 lfea165 0.0% 97%\n",
      "199 lfea277 0.0% 97%\n",
      "200 lfea357 0.0% 97%\n",
      "201 lfea49 0.0% 97%\n",
      "202 lfea52 0.0% 98%\n",
      "203 lfea140 0.0% 98%\n",
      "204 resource_type_5 0.0% 98%\n",
      "205 event_type_49 0.0% 98%\n",
      "206 lfea120 0.0% 98%\n",
      "207 lfea61 0.0% 98%\n",
      "208 lfea67 0.0% 98%\n",
      "209 lfea278 0.0% 98%\n",
      "210 lfea114 0.0% 98%\n",
      "211 lfea349 0.0% 98%\n",
      "212 event_type_39 0.0% 98%\n",
      "213 lfea240 0.0% 98%\n",
      "214 lfea127 0.0% 98%\n",
      "215 lfea317 0.0% 98%\n",
      "216 lfea367 0.0% 98%\n",
      "217 event_type_38 0.0% 98%\n",
      "218 lfea225 0.0% 98%\n",
      "219 lfea319 0.0% 98%\n",
      "220 event_type_29 0.0% 98%\n",
      "221 event_type_8 0.0% 98%\n",
      "222 event_type_40 0.0% 98%\n",
      "223 lfea109 0.0% 98%\n",
      "224 lfea57 0.0% 98%\n",
      "225 lfea168 0.0% 98%\n",
      "226 lfea112 0.0% 98%\n",
      "227 lfea37 0.0% 98%\n",
      "228 lfea40 0.0% 98%\n",
      "229 lfea176 0.0% 98%\n",
      "230 lfea60 0.0% 98%\n",
      "231 lfea369 0.0% 99%\n",
      "232 lfea166 0.0% 99%\n",
      "233 lfea2 0.0% 99%\n",
      "234 lfea79 0.0% 99%\n",
      "235 event_type_36 0.0% 99%\n",
      "236 lfea173 0.0% 99%\n",
      "237 lfea316 0.0% 99%\n",
      "238 lfea255 0.0% 99%\n",
      "239 lfea340 0.0% 99%\n",
      "240 lfea59 0.0% 99%\n",
      "241 lfea327 0.0% 99%\n",
      "242 lfea58 0.0% 99%\n",
      "243 lfea69 0.0% 99%\n",
      "244 lfea117 0.0% 99%\n",
      "245 lfea27 0.0% 99%\n",
      "246 lfea29 0.0% 99%\n",
      "247 lfea322 0.0% 99%\n",
      "248 lfea210 0.0% 99%\n",
      "249 event_type_46 0.0% 99%\n",
      "250 lfea247 0.0% 99%\n",
      "251 lfea50 0.0% 99%\n",
      "252 lfea338 0.0% 99%\n",
      "253 lfea48 0.0% 99%\n",
      "254 lfea330 0.0% 99%\n",
      "255 lfea78 0.0% 99%\n",
      "256 lfea159 0.0% 99%\n",
      "257 lfea106 0.0% 99%\n",
      "258 lfea10 0.0% 99%\n",
      "259 lfea261 0.0% 99%\n",
      "260 lfea332 0.0% 99%\n",
      "261 lfea25 0.0% 99%\n",
      "262 lfea237 0.0% 99%\n",
      "263 lfea265 0.0% 99%\n",
      "264 lfea189 0.0% 99%\n",
      "265 lfea139 0.0% 99%\n",
      "266 lfea347 0.0% 99%\n",
      "267 lfea348 0.0% 99%\n",
      "268 lfea137 0.0% 99%\n",
      "269 lfea275 0.0% 99%\n",
      "270 lfea297 0.0% 99%\n",
      "271 lfea251 0.0% 99%\n",
      "272 lfea302 0.0% 99%\n",
      "273 lfea236 0.0% 99%\n",
      "274 event_type_9 0.0% 99%\n",
      "275 lfea18 0.0% 99%\n",
      "276 lfea254 0.0% 99%\n",
      "277 lfea22 0.0% 99%\n",
      "278 lfea199 0.0% 99%\n",
      "279 event_type_12 0.0% 99%\n",
      "280 lfea15 0.0% 99%\n",
      "281 lfea333 0.0% 99%\n",
      "282 lfea124 0.0% 99%\n",
      "283 lfea98 0.0% 99%\n",
      "284 lfea298 0.0% 99%\n",
      "285 lfea383 0.0% 99%\n",
      "286 lfea88 0.0% 100%\n",
      "287 lfea274 0.0% 100%\n",
      "288 lfea104 0.0% 100%\n",
      "289 lfea158 0.0% 100%\n",
      "290 lfea115 0.0% 100%\n",
      "291 lfea174 0.0% 100%\n",
      "292 lfea380 0.0% 100%\n",
      "293 lfea242 0.0% 100%\n",
      "294 lfea208 0.0% 100%\n",
      "295 lfea89 0.0% 100%\n",
      "296 lfea145 0.0% 100%\n",
      "297 lfea91 0.0% 100%\n",
      "298 lfea250 0.0% 100%\n",
      "299 lfea339 0.0% 100%\n",
      "300 lfea21 0.0% 100%\n",
      "301 lfea147 0.0% 100%\n",
      "302 lfea295 0.0% 100%\n",
      "303 lfea146 0.0% 100%\n",
      "304 lfea186 0.0% 100%\n",
      "305 lfea241 0.0% 100%\n",
      "306 lfea331 0.0% 100%\n",
      "307 lfea99 0.0% 100%\n",
      "308 lfea262 0.0% 100%\n",
      "309 lfea28 0.0% 100%\n",
      "310 lfea325 0.0% 100%\n",
      "311 lfea320 0.0% 100%\n",
      "312 lfea238 0.0% 100%\n",
      "313 lfea245 0.0% 100%\n",
      "314 lfea346 0.0% 100%\n",
      "315 lfea148 0.0% 100%\n",
      "316 lfea43 0.0% 100%\n",
      "317 lfea149 0.0% 100%\n",
      "318 lfea92 0.0% 100%\n",
      "319 lfea377 0.0% 100%\n",
      "320 lfea5 0.0% 100%\n",
      "321 lfea64 0.0% 100%\n",
      "322 lfea90 0.0% 100%\n",
      "323 lfea226 0.0% 100%\n",
      "324 event_type_1 0.0% 100%\n",
      "325 lfea194 0.0% 100%\n",
      "326 lfea323 0.0% 100%\n",
      "327 lfea243 0.0% 100%\n",
      "328 lfea292 0.0% 100%\n",
      "329 lfea259 0.0% 100%\n",
      "330 lfea256 0.0% 100%\n",
      "331 lfea13 0.0% 100%\n",
      "332 event_type_51 0.0% 100%\n",
      "333 lfea384 0.0% 100%\n",
      "334 lfea122 0.0% 100%\n",
      "335 lfea107 0.0% 100%\n",
      "336 lfea248 0.0% 100%\n",
      "337 lfea9 0.0% 100%\n",
      "338 lfea299 0.0% 100%\n",
      "339 lfea128 0.0% 100%\n",
      "340 lfea97 0.0% 100%\n",
      "341 lfea337 0.0% 100%\n",
      "342 lfea110 0.0% 100%\n",
      "343 lfea257 0.0% 100%\n",
      "344 lfea144 0.0% 100%\n",
      "345 lfea350 0.0% 100%\n",
      "346 lfea311 0.0% 100%\n",
      "347 lfea253 0.0% 100%\n",
      "348 severity_type_3 0.0% 100%\n",
      "349 lfea213 0.0% 100%\n",
      "350 lfea17 0.0% 100%\n",
      "351 lfea373 0.0% 100%\n",
      "352 lfea7 0.0% 100%\n",
      "353 lfea266 0.0% 100%\n",
      "354 lfea113 0.0% 100%\n",
      "355 lfea334 0.0% 100%\n",
      "356 lfea180 0.0% 100%\n",
      "357 lfea12 0.0% 100%\n",
      "358 lfea142 0.0% 100%\n",
      "359 lfea26 0.0% 100%\n",
      "360 lfea16 0.0% 100%\n",
      "361 lfea96 0.0% 100%\n",
      "362 event_type_37 0.0% 100%\n",
      "363 lfea244 0.0% 100%\n",
      "364 lfea11 0.0% 100%\n",
      "365 lfea143 0.0% 100%\n",
      "366 lfea335 0.0% 100%\n",
      "367 lfea77 0.0% 100%\n",
      "368 lfea365 0.0% 100%\n",
      "369 lfea341 0.0% 100%\n",
      "370 lfea268 0.0% 100%\n",
      "371 lfea329 0.0% 100%\n",
      "372 lfea249 0.0% 100%\n",
      "373 lfea371 0.0% 100%\n",
      "374 lfea260 0.0% 100%\n",
      "375 event_type_48 0.0% 100%\n",
      "376 event_type_41 0.0% 100%\n",
      "377 lfea123 0.0% 100%\n",
      "378 lfea258 0.0% 100%\n",
      "379 lfea267 0.0% 100%\n",
      "380 lfea33 0.0% 100%\n",
      "381 lfea336 0.0% 100%\n",
      "382 lfea175 0.0% 100%\n",
      "383 lfea328 0.0% 100%\n",
      "384 lfea231 0.0% 100%\n",
      "385 lfea216 0.0% 100%\n",
      "386 lfea364 0.0% 100%\n",
      "387 lfea192 0.0% 100%\n",
      "388 lfea215 0.0% 100%\n",
      "389 lfea363 0.0% 100%\n",
      "390 lfea24 0.0% 100%\n",
      "391 lfea366 0.0% 100%\n",
      "392 event_type_25 0.0% 100%\n",
      "393 lfea131 0.0% 100%\n",
      "394 lfea130 0.0% 100%\n",
      "395 lfea344 0.0% 100%\n",
      "396 lfea343 0.0% 100%\n",
      "397 lfea342 0.0% 100%\n",
      "398 lfea121 0.0% 100%\n",
      "399 lfea126 0.0% 100%\n",
      "400 lfea282 0.0% 100%\n",
      "401 lfea129 0.0% 100%\n",
      "402 lfea286 0.0% 100%\n",
      "403 lfea287 0.0% 100%\n",
      "404 lfea93 0.0% 100%\n",
      "405 event_type_17 0.0% 100%\n",
      "406 lfea300 0.0% 100%\n",
      "407 lfea72 0.0% 100%\n",
      "408 lfea272 0.0% 100%\n",
      "409 lfea271 0.0% 100%\n",
      "410 lfea270 0.0% 100%\n",
      "411 event_type_52 0.0% 100%\n",
      "412 lfea31 0.0% 100%\n",
      "413 lfea32 0.0% 100%\n",
      "414 lfea34 0.0% 100%\n",
      "415 lfea36 0.0% 100%\n",
      "416 lfea355 0.0% 100%\n",
      "417 lfea356 0.0% 100%\n",
      "418 lfea351 0.0% 100%\n",
      "419 lfea352 0.0% 100%\n",
      "420 lfea138 0.0% 100%\n",
      "421 event_type_4 0.0% 100%\n",
      "422 lfea281 0.0% 100%\n",
      "423 lfea100 0.0% 100%\n",
      "424 lfea102 0.0% 100%\n",
      "425 lfea3 0.0% 100%\n",
      "426 lfea6 0.0% 100%\n",
      "427 lfea4 0.0% 100%\n",
      "428 lfea214 0.0% 100%\n",
      "429 lfea263 0.0% 100%\n",
      "430 lfea264 0.0% 100%\n",
      "431 lfea269 0.0% 100%\n",
      "432 lfea23 0.0% 100%\n",
      "433 lfea321 0.0% 100%\n",
      "434 lfea324 0.0% 100%\n",
      "435 lfea326 0.0% 100%\n",
      "436 lfea151 0.0% 100%\n",
      "437 lfea252 0.0% 100%\n",
      "438 event_type_33 0.0% 100%\n",
      "439 lfea379 0.0% 100%\n",
      "440 lfea372 0.0% 100%\n",
      "441 lfea185 0.0% 100%\n",
      "442 lfea184 0.0% 100%\n",
      "443 lfea116 0.0% 100%\n",
      "444 lfea294 0.0% 100%\n",
      "445 lfea296 0.0% 100%\n",
      "446 lfea119 0.0% 100%\n",
      "447 lfea382 0.0% 100%\n",
      "448 lfea381 0.0% 100%\n",
      "449 lfea386 0.0% 100%\n",
      "450 lfea385 0.0% 100%\n",
      "451 lfea14 0.0% 100%\n",
      "452 lfea19 0.0% 100%\n",
      "453 lfea246 0.0% 100%\n"
     ]
    }
   ],
   "source": [
    "# sort the features by importance\n",
    "sorted_feat = sorted(feat_impt.items(), key=operator.itemgetter(1))\n",
    "sorted_feat.reverse()\n",
    "\n",
    "# bookkeeping\n",
    "cumper = 0.\n",
    "nbr = False\n",
    "\n",
    "# make a copy of original dataframe to drop unneeded features\n",
    "X_keep = df_nl.copy()\n",
    "\n",
    "# print out importances\n",
    "print \"item -- feature -- weight -- cumm_weight\"\n",
    "for i, k in enumerate(sorted_feat):\n",
    "    cumper += k[1]\n",
    "    \n",
    "    # tell me when we hit 90% of weights\n",
    "    if (nbr is False and cumper >= 0.95):\n",
    "        print '**----  Reached 95%  ----**'\n",
    "        nbr = True\n",
    "    print i, k[0], '{:.1%}'.format(k[1]), '{:.0%}'.format(cumper)\n",
    "    \n",
    "    # drop unneeded features\n",
    "    if nbr is True:\n",
    "        X_keep = X_keep.drop(k[0], axis=1)"
   ]
  },
  {
   "cell_type": "code",
   "execution_count": 210,
   "metadata": {
    "collapsed": false
   },
   "outputs": [
    {
     "name": "stdout",
     "output_type": "stream",
     "text": [
      "\n",
      "7381 observations of 157 features\n",
      "Unique labels: [0 1 2]\n",
      "Gut-check features: 157\n"
     ]
    }
   ],
   "source": [
    "# get names of all features in new df\n",
    "X_keep = X_keep.drop('fault_severity', axis=1)\n",
    "features_keep = X_keep.columns\n",
    "X_keep = X_keep.as_matrix().astype(np.float)\n",
    "\n",
    "# checks\n",
    "print \"\\n%d observations of %d features\" % X_keep.shape\n",
    "print \"Unique labels:\", np.unique(y)\n",
    "print \"Gut-check features: %i\" % len(features_keep)"
   ]
  },
  {
   "cell_type": "markdown",
   "metadata": {},
   "source": [
    "Re-run the ML test harness for RF only and see if the model improves (below is cut and paste of earlier code)"
   ]
  },
  {
   "cell_type": "code",
   "execution_count": 212,
   "metadata": {
    "collapsed": false
   },
   "outputs": [
    {
     "data": {
      "image/png": "[encoded data removed]",
      "text/plain": [
       "<matplotlib.figure.Figure at 0x7f6da2540e10>"
      ]
     },
     "metadata": {},
     "output_type": "display_data"
    },
    {
     "name": "stdout",
     "output_type": "stream",
     "text": [
      "Best accuracy:       Random Forest        74.65%\n",
      "Best precision:      Random Forest        73.95%\n",
      "Best recall:         Random Forest        74.65%\n"
     ]
    }
   ],
   "source": [
    "ml_models = []\n",
    "ml_models.append([\"Random Forest\", RF, {'n_estimators':72,\n",
    "                                        'min_samples_split':9,\n",
    "                                        'n_jobs':-1}])\n",
    "acc = []\n",
    "prec = []\n",
    "recl = []\n",
    "f1 = []\n",
    "cms = []\n",
    "for m in ml_models:\n",
    "    y_pred, mean_acc, mean_prec, mean_recl, mean_f1 = run_cv(X_keep, y, m[1], **m[2])\n",
    "    acc.append(mean_acc)\n",
    "    prec.append(mean_prec)\n",
    "    recl.append(mean_recl)\n",
    "    f1.append(mean_f1)\n",
    "    cms.append((m[0], metrics.confusion_matrix(y, y_pred)))\n",
    "\n",
    "draw_confusion_matrices(cms, np.unique(y))\n",
    "max_idx, max_value = max(enumerate(acc), key=operator.itemgetter(1))\n",
    "print '{:20} {:20} {:.2%}'.format('Best accuracy:', ml_models[max_idx][0], acc[max_idx])\n",
    "max_idx, max_value = max(enumerate(prec), key=operator.itemgetter(1))\n",
    "print '{:20} {:20} {:.2%}'.format('Best precision:', ml_models[max_idx][0], prec[max_idx])\n",
    "max_idx, max_value = max(enumerate(recl), key=operator.itemgetter(1))\n",
    "print '{:20} {:20} {:.2%}'.format('Best recall:', ml_models[max_idx][0], recl[max_idx])"
   ]
  },
  {
   "cell_type": "markdown",
   "metadata": {},
   "source": [
    "* RF predictive power got worse when features contributing < 10% weight were dropped.\n",
    "* **RF predictive power got better when features contributing < 5% weight were dropped.**\n",
    "\n",
    "### Question: But is RF superior in its calibration and discrimination?\n",
    "\n",
    "Calibration measures the difference between actual and predicted probability for individual groups. Discrimination measures the difference between model predictions and the baseline probability. Equations are taken from [Yang, Yates, and Smith (1991)](http://psychology.huji.ac.il/.upload/Ilan/YanivYatesSmith1991PB.pdf)."
   ]
  },
  {
   "cell_type": "code",
   "execution_count": 222,
   "metadata": {
    "collapsed": true
   },
   "outputs": [],
   "source": [
    "from operator import idiv\n",
    "\n",
    "def run_prob_cv(X, y, clf_class, **kwargs):\n",
    "    kf = KFold(len(y), n_folds=10, shuffle=True)\n",
    "    y_prob = np.zeros((len(y), 3))\n",
    "    for train_index, test_index in kf:\n",
    "        clf = clf_class(**kwargs)\n",
    "        X_train, X_test = X[train_index], X[test_index]\n",
    "        y_train = y[train_index]\n",
    "        clf.fit(X_train,y_train)\n",
    "        y_prob[test_index] = clf.predict_proba(X_test)\n",
    "    return y_prob\n",
    "\n",
    "def calibration(prob, outcome,n_bins=10):\n",
    "    prob = np.array(prob)\n",
    "    outcome = np.array(outcome)\n",
    "    c = 0.0\n",
    "    judgement_bins = np.arange(n_bins + 1) / n_bins\n",
    "    bin_num = np.digitize(prob,judgement_bins)\n",
    "    for j_bin in np.unique(bin_num):\n",
    "        in_bin = bin_num == j_bin\n",
    "        predicted_prob = np.mean(prob[in_bin])\n",
    "        true_bin_prob = np.mean(outcome[in_bin])\n",
    "        c += np.sum(in_bin) * ((predicted_prob - true_bin_prob) ** 2)\n",
    "    return c / len(prob)\n",
    "\n",
    "def discrimination(prob, outcome, n_bins=10):\n",
    "    prob = np.array(prob)\n",
    "    outcome = np.array(outcome)\n",
    "    d = 0.0\n",
    "    base_prob = np.mean(outcome)\n",
    "    judgement_bins = np.arange(n_bins + 1) / n_bins\n",
    "    bin_num = np.digitize(prob,judgement_bins)\n",
    "    for j_bin in np.unique(bin_num):\n",
    "        in_bin = bin_num == j_bin\n",
    "        true_bin_prob = np.mean(outcome[in_bin])\n",
    "        d += np.sum(in_bin) * ((true_bin_prob - base_prob) ** 2)\n",
    "    return d / len(prob)"
   ]
  },
  {
   "cell_type": "code",
   "execution_count": 234,
   "metadata": {
    "collapsed": false
   },
   "outputs": [
    {
     "name": "stdout",
     "output_type": "stream",
     "text": [
      "Lower calibration and higher discrimination are preferred...\n",
      "\n",
      "Linear Logistic Regression\n",
      "Calibration Error    0.0000\n",
      "Discrimination       0.0000\n",
      "\n",
      "Naive Bayes\n",
      "Calibration Error    0.2523\n",
      "Discrimination       0.0006\n",
      "\n",
      "Decision Trees\n",
      "Calibration Error    0.0241\n",
      "Discrimination       0.0099\n",
      "\n",
      "Random Forest\n",
      "Calibration Error    0.0002\n",
      "Discrimination       0.0004\n",
      "\n",
      "Best calibration error: Linear Logistic Regression 0.000%\n",
      "Best discrimination: Decision Trees       0.99%\n"
     ]
    }
   ],
   "source": [
    "print \"Lower calibration and higher discrimination are preferred...\"\n",
    "\n",
    "ml_models = []\n",
    "#ml_models.append([\"XGBoost\", XGBC, {'max_depth':3, 'n_estimators':300, 'learning_rate':0.05}])\n",
    "#ml_models.append([\"Support Vector Machine\", SVC, {}])\n",
    "ml_models.append([\"Linear Logistic Regression\", LR, {'multi_class':'multinomial',\n",
    "                                                     'solver':'lbfgs'}])\n",
    "ml_models.append([\"Naive Bayes\", NB, {}])\n",
    "ml_models.append([\"Decision Trees\", DT, {}])\n",
    "ml_models.append([\"Random Forest\", RF, {'n_estimators':200,\n",
    "                                        'min_samples_split':2, 'n_jobs':-1}])\n",
    "\n",
    "cal_err = []\n",
    "discrim = []\n",
    "for m in ml_models:\n",
    "    print \"\\n\"+m[0]\n",
    "    pred_prob = run_prob_cv(X, y, m[1], **m[2])\n",
    "    churn_prob, is_churn = pred_prob[:,1], y == 1\n",
    "    cal_err.append(calibration(churn_prob, is_churn))\n",
    "    discrim.append(discrimination(churn_prob,is_churn))\n",
    "    print '{:20} {:.4f}'.format(\"Calibration Error\", cal_err[-1])\n",
    "    print '{:20} {:.4f}'.format(\"Discrimination\", discrim[-1])\n",
    "    \n",
    "idx, value = min(enumerate(cal_err), key=operator.itemgetter(1))\n",
    "print '{:20} {:20} {:.3%}'.format('\\nBest calibration error:', ml_models[idx][0], cal_err[idx])\n",
    "idx, value = max(enumerate(discrim), key=operator.itemgetter(1))\n",
    "print '{:20} {:20} {:.2%}'.format('Best discrimination:', ml_models[idx][0], discrim[idx])"
   ]
  },
  {
   "cell_type": "markdown",
   "metadata": {},
   "source": [
    "### Question: Can we tune the model params to get better results?"
   ]
  },
  {
   "cell_type": "code",
   "execution_count": 235,
   "metadata": {
    "collapsed": true
   },
   "outputs": [],
   "source": [
    "from operator import itemgetter\n",
    "\n",
    "def report(grid_scores, n_top=3):\n",
    "    top_scores = sorted(grid_scores, key=itemgetter(1), reverse=True)[:n_top]\n",
    "    for i, score in enumerate(top_scores):\n",
    "        print(\"Model with rank: {0}\".format(i + 1))\n",
    "        print(\"Mean validation score: {0:.3f} (std: {1:.3f})\".format(\n",
    "              score.mean_validation_score,\n",
    "              np.std(score.cv_validation_scores)))\n",
    "        print(\"Parameters: {0}\".format(score.parameters))\n",
    "        print(\"\")"
   ]
  },
  {
   "cell_type": "code",
   "execution_count": 236,
   "metadata": {
    "collapsed": false
   },
   "outputs": [
    {
     "ename": "KeyboardInterrupt",
     "evalue": "",
     "output_type": "error",
     "traceback": [
      "\u001b[1;31m---------------------------------------------------------------------------\u001b[0m",
      "\u001b[1;31mKeyboardInterrupt\u001b[0m                         Traceback (most recent call last)",
      "\u001b[1;32m<ipython-input-236-28a71e9efa2b>\u001b[0m in \u001b[0;36m<module>\u001b[1;34m()\u001b[0m\n\u001b[0;32m     12\u001b[0m \u001b[0mgrid_search\u001b[0m \u001b[1;33m=\u001b[0m \u001b[0mGridSearchCV\u001b[0m\u001b[1;33m(\u001b[0m\u001b[0mclf\u001b[0m\u001b[1;33m,\u001b[0m \u001b[0mparam_grid\u001b[0m\u001b[1;33m=\u001b[0m\u001b[0mparam_grid\u001b[0m\u001b[1;33m)\u001b[0m\u001b[1;33m\u001b[0m\u001b[0m\n\u001b[0;32m     13\u001b[0m \u001b[0mstart\u001b[0m \u001b[1;33m=\u001b[0m \u001b[0mtime\u001b[0m\u001b[1;33m(\u001b[0m\u001b[1;33m)\u001b[0m\u001b[1;33m\u001b[0m\u001b[0m\n\u001b[1;32m---> 14\u001b[1;33m \u001b[0mgrid_search\u001b[0m\u001b[1;33m.\u001b[0m\u001b[0mfit\u001b[0m\u001b[1;33m(\u001b[0m\u001b[0mX\u001b[0m\u001b[1;33m,\u001b[0m \u001b[0my\u001b[0m\u001b[1;33m)\u001b[0m\u001b[1;33m\u001b[0m\u001b[0m\n\u001b[0m\u001b[0;32m     15\u001b[0m \u001b[1;33m\u001b[0m\u001b[0m\n\u001b[0;32m     16\u001b[0m print(\"GridSearchCV took %.2f seconds for %d candidate parameter settings.\"\n",
      "\u001b[1;32m/usr/local/lib/python2.7/dist-packages/sklearn/grid_search.pyc\u001b[0m in \u001b[0;36mfit\u001b[1;34m(self, X, y)\u001b[0m\n\u001b[0;32m    802\u001b[0m \u001b[1;33m\u001b[0m\u001b[0m\n\u001b[0;32m    803\u001b[0m         \"\"\"\n\u001b[1;32m--> 804\u001b[1;33m         \u001b[1;32mreturn\u001b[0m \u001b[0mself\u001b[0m\u001b[1;33m.\u001b[0m\u001b[0m_fit\u001b[0m\u001b[1;33m(\u001b[0m\u001b[0mX\u001b[0m\u001b[1;33m,\u001b[0m \u001b[0my\u001b[0m\u001b[1;33m,\u001b[0m \u001b[0mParameterGrid\u001b[0m\u001b[1;33m(\u001b[0m\u001b[0mself\u001b[0m\u001b[1;33m.\u001b[0m\u001b[0mparam_grid\u001b[0m\u001b[1;33m)\u001b[0m\u001b[1;33m)\u001b[0m\u001b[1;33m\u001b[0m\u001b[0m\n\u001b[0m\u001b[0;32m    805\u001b[0m \u001b[1;33m\u001b[0m\u001b[0m\n\u001b[0;32m    806\u001b[0m \u001b[1;33m\u001b[0m\u001b[0m\n",
      "\u001b[1;32m/usr/local/lib/python2.7/dist-packages/sklearn/grid_search.pyc\u001b[0m in \u001b[0;36m_fit\u001b[1;34m(self, X, y, parameter_iterable)\u001b[0m\n\u001b[0;32m    551\u001b[0m                                     \u001b[0mself\u001b[0m\u001b[1;33m.\u001b[0m\u001b[0mfit_params\u001b[0m\u001b[1;33m,\u001b[0m \u001b[0mreturn_parameters\u001b[0m\u001b[1;33m=\u001b[0m\u001b[0mTrue\u001b[0m\u001b[1;33m,\u001b[0m\u001b[1;33m\u001b[0m\u001b[0m\n\u001b[0;32m    552\u001b[0m                                     error_score=self.error_score)\n\u001b[1;32m--> 553\u001b[1;33m                 \u001b[1;32mfor\u001b[0m \u001b[0mparameters\u001b[0m \u001b[1;32min\u001b[0m \u001b[0mparameter_iterable\u001b[0m\u001b[1;33m\u001b[0m\u001b[0m\n\u001b[0m\u001b[0;32m    554\u001b[0m                 for train, test in cv)\n\u001b[0;32m    555\u001b[0m \u001b[1;33m\u001b[0m\u001b[0m\n",
      "\u001b[1;32m/usr/local/lib/python2.7/dist-packages/sklearn/externals/joblib/parallel.pyc\u001b[0m in \u001b[0;36m__call__\u001b[1;34m(self, iterable)\u001b[0m\n\u001b[0;32m    802\u001b[0m             \u001b[0mself\u001b[0m\u001b[1;33m.\u001b[0m\u001b[0m_iterating\u001b[0m \u001b[1;33m=\u001b[0m \u001b[0mTrue\u001b[0m\u001b[1;33m\u001b[0m\u001b[0m\n\u001b[0;32m    803\u001b[0m \u001b[1;33m\u001b[0m\u001b[0m\n\u001b[1;32m--> 804\u001b[1;33m             \u001b[1;32mwhile\u001b[0m \u001b[0mself\u001b[0m\u001b[1;33m.\u001b[0m\u001b[0mdispatch_one_batch\u001b[0m\u001b[1;33m(\u001b[0m\u001b[0miterator\u001b[0m\u001b[1;33m)\u001b[0m\u001b[1;33m:\u001b[0m\u001b[1;33m\u001b[0m\u001b[0m\n\u001b[0m\u001b[0;32m    805\u001b[0m                 \u001b[1;32mpass\u001b[0m\u001b[1;33m\u001b[0m\u001b[0m\n\u001b[0;32m    806\u001b[0m \u001b[1;33m\u001b[0m\u001b[0m\n",
      "\u001b[1;32m/usr/local/lib/python2.7/dist-packages/sklearn/externals/joblib/parallel.pyc\u001b[0m in \u001b[0;36mdispatch_one_batch\u001b[1;34m(self, iterator)\u001b[0m\n\u001b[0;32m    660\u001b[0m                 \u001b[1;32mreturn\u001b[0m \u001b[0mFalse\u001b[0m\u001b[1;33m\u001b[0m\u001b[0m\n\u001b[0;32m    661\u001b[0m             \u001b[1;32melse\u001b[0m\u001b[1;33m:\u001b[0m\u001b[1;33m\u001b[0m\u001b[0m\n\u001b[1;32m--> 662\u001b[1;33m                 \u001b[0mself\u001b[0m\u001b[1;33m.\u001b[0m\u001b[0m_dispatch\u001b[0m\u001b[1;33m(\u001b[0m\u001b[0mtasks\u001b[0m\u001b[1;33m)\u001b[0m\u001b[1;33m\u001b[0m\u001b[0m\n\u001b[0m\u001b[0;32m    663\u001b[0m                 \u001b[1;32mreturn\u001b[0m \u001b[0mTrue\u001b[0m\u001b[1;33m\u001b[0m\u001b[0m\n\u001b[0;32m    664\u001b[0m \u001b[1;33m\u001b[0m\u001b[0m\n",
      "\u001b[1;32m/usr/local/lib/python2.7/dist-packages/sklearn/externals/joblib/parallel.pyc\u001b[0m in \u001b[0;36m_dispatch\u001b[1;34m(self, batch)\u001b[0m\n\u001b[0;32m    568\u001b[0m \u001b[1;33m\u001b[0m\u001b[0m\n\u001b[0;32m    569\u001b[0m         \u001b[1;32mif\u001b[0m \u001b[0mself\u001b[0m\u001b[1;33m.\u001b[0m\u001b[0m_pool\u001b[0m \u001b[1;32mis\u001b[0m \u001b[0mNone\u001b[0m\u001b[1;33m:\u001b[0m\u001b[1;33m\u001b[0m\u001b[0m\n\u001b[1;32m--> 570\u001b[1;33m             \u001b[0mjob\u001b[0m \u001b[1;33m=\u001b[0m \u001b[0mImmediateComputeBatch\u001b[0m\u001b[1;33m(\u001b[0m\u001b[0mbatch\u001b[0m\u001b[1;33m)\u001b[0m\u001b[1;33m\u001b[0m\u001b[0m\n\u001b[0m\u001b[0;32m    571\u001b[0m             \u001b[0mself\u001b[0m\u001b[1;33m.\u001b[0m\u001b[0m_jobs\u001b[0m\u001b[1;33m.\u001b[0m\u001b[0mappend\u001b[0m\u001b[1;33m(\u001b[0m\u001b[0mjob\u001b[0m\u001b[1;33m)\u001b[0m\u001b[1;33m\u001b[0m\u001b[0m\n\u001b[0;32m    572\u001b[0m             \u001b[0mself\u001b[0m\u001b[1;33m.\u001b[0m\u001b[0mn_dispatched_batches\u001b[0m \u001b[1;33m+=\u001b[0m \u001b[1;36m1\u001b[0m\u001b[1;33m\u001b[0m\u001b[0m\n",
      "\u001b[1;32m/usr/local/lib/python2.7/dist-packages/sklearn/externals/joblib/parallel.pyc\u001b[0m in \u001b[0;36m__init__\u001b[1;34m(self, batch)\u001b[0m\n\u001b[0;32m    181\u001b[0m         \u001b[1;31m# Don't delay the application, to avoid keeping the input\u001b[0m\u001b[1;33m\u001b[0m\u001b[1;33m\u001b[0m\u001b[0m\n\u001b[0;32m    182\u001b[0m         \u001b[1;31m# arguments in memory\u001b[0m\u001b[1;33m\u001b[0m\u001b[1;33m\u001b[0m\u001b[0m\n\u001b[1;32m--> 183\u001b[1;33m         \u001b[0mself\u001b[0m\u001b[1;33m.\u001b[0m\u001b[0mresults\u001b[0m \u001b[1;33m=\u001b[0m \u001b[0mbatch\u001b[0m\u001b[1;33m(\u001b[0m\u001b[1;33m)\u001b[0m\u001b[1;33m\u001b[0m\u001b[0m\n\u001b[0m\u001b[0;32m    184\u001b[0m \u001b[1;33m\u001b[0m\u001b[0m\n\u001b[0;32m    185\u001b[0m     \u001b[1;32mdef\u001b[0m \u001b[0mget\u001b[0m\u001b[1;33m(\u001b[0m\u001b[0mself\u001b[0m\u001b[1;33m)\u001b[0m\u001b[1;33m:\u001b[0m\u001b[1;33m\u001b[0m\u001b[0m\n",
      "\u001b[1;32m/usr/local/lib/python2.7/dist-packages/sklearn/externals/joblib/parallel.pyc\u001b[0m in \u001b[0;36m__call__\u001b[1;34m(self)\u001b[0m\n\u001b[0;32m     70\u001b[0m \u001b[1;33m\u001b[0m\u001b[0m\n\u001b[0;32m     71\u001b[0m     \u001b[1;32mdef\u001b[0m \u001b[0m__call__\u001b[0m\u001b[1;33m(\u001b[0m\u001b[0mself\u001b[0m\u001b[1;33m)\u001b[0m\u001b[1;33m:\u001b[0m\u001b[1;33m\u001b[0m\u001b[0m\n\u001b[1;32m---> 72\u001b[1;33m         \u001b[1;32mreturn\u001b[0m \u001b[1;33m[\u001b[0m\u001b[0mfunc\u001b[0m\u001b[1;33m(\u001b[0m\u001b[1;33m*\u001b[0m\u001b[0margs\u001b[0m\u001b[1;33m,\u001b[0m \u001b[1;33m**\u001b[0m\u001b[0mkwargs\u001b[0m\u001b[1;33m)\u001b[0m \u001b[1;32mfor\u001b[0m \u001b[0mfunc\u001b[0m\u001b[1;33m,\u001b[0m \u001b[0margs\u001b[0m\u001b[1;33m,\u001b[0m \u001b[0mkwargs\u001b[0m \u001b[1;32min\u001b[0m \u001b[0mself\u001b[0m\u001b[1;33m.\u001b[0m\u001b[0mitems\u001b[0m\u001b[1;33m]\u001b[0m\u001b[1;33m\u001b[0m\u001b[0m\n\u001b[0m\u001b[0;32m     73\u001b[0m \u001b[1;33m\u001b[0m\u001b[0m\n\u001b[0;32m     74\u001b[0m     \u001b[1;32mdef\u001b[0m \u001b[0m__len__\u001b[0m\u001b[1;33m(\u001b[0m\u001b[0mself\u001b[0m\u001b[1;33m)\u001b[0m\u001b[1;33m:\u001b[0m\u001b[1;33m\u001b[0m\u001b[0m\n",
      "\u001b[1;32m/usr/local/lib/python2.7/dist-packages/sklearn/cross_validation.pyc\u001b[0m in \u001b[0;36m_fit_and_score\u001b[1;34m(estimator, X, y, scorer, train, test, verbose, parameters, fit_params, return_train_score, return_parameters, error_score)\u001b[0m\n\u001b[0;32m   1529\u001b[0m             \u001b[0mestimator\u001b[0m\u001b[1;33m.\u001b[0m\u001b[0mfit\u001b[0m\u001b[1;33m(\u001b[0m\u001b[0mX_train\u001b[0m\u001b[1;33m,\u001b[0m \u001b[1;33m**\u001b[0m\u001b[0mfit_params\u001b[0m\u001b[1;33m)\u001b[0m\u001b[1;33m\u001b[0m\u001b[0m\n\u001b[0;32m   1530\u001b[0m         \u001b[1;32melse\u001b[0m\u001b[1;33m:\u001b[0m\u001b[1;33m\u001b[0m\u001b[0m\n\u001b[1;32m-> 1531\u001b[1;33m             \u001b[0mestimator\u001b[0m\u001b[1;33m.\u001b[0m\u001b[0mfit\u001b[0m\u001b[1;33m(\u001b[0m\u001b[0mX_train\u001b[0m\u001b[1;33m,\u001b[0m \u001b[0my_train\u001b[0m\u001b[1;33m,\u001b[0m \u001b[1;33m**\u001b[0m\u001b[0mfit_params\u001b[0m\u001b[1;33m)\u001b[0m\u001b[1;33m\u001b[0m\u001b[0m\n\u001b[0m\u001b[0;32m   1532\u001b[0m \u001b[1;33m\u001b[0m\u001b[0m\n\u001b[0;32m   1533\u001b[0m     \u001b[1;32mexcept\u001b[0m \u001b[0mException\u001b[0m \u001b[1;32mas\u001b[0m \u001b[0me\u001b[0m\u001b[1;33m:\u001b[0m\u001b[1;33m\u001b[0m\u001b[0m\n",
      "\u001b[1;32m/usr/local/lib/python2.7/dist-packages/sklearn/ensemble/forest.pyc\u001b[0m in \u001b[0;36mfit\u001b[1;34m(self, X, y, sample_weight)\u001b[0m\n\u001b[0;32m    276\u001b[0m             \u001b[1;32mfor\u001b[0m \u001b[0mi\u001b[0m \u001b[1;32min\u001b[0m \u001b[0mrange\u001b[0m\u001b[1;33m(\u001b[0m\u001b[0mn_more_estimators\u001b[0m\u001b[1;33m)\u001b[0m\u001b[1;33m:\u001b[0m\u001b[1;33m\u001b[0m\u001b[0m\n\u001b[0;32m    277\u001b[0m                 \u001b[0mtree\u001b[0m \u001b[1;33m=\u001b[0m \u001b[0mself\u001b[0m\u001b[1;33m.\u001b[0m\u001b[0m_make_estimator\u001b[0m\u001b[1;33m(\u001b[0m\u001b[0mappend\u001b[0m\u001b[1;33m=\u001b[0m\u001b[0mFalse\u001b[0m\u001b[1;33m)\u001b[0m\u001b[1;33m\u001b[0m\u001b[0m\n\u001b[1;32m--> 278\u001b[1;33m                 \u001b[0mtree\u001b[0m\u001b[1;33m.\u001b[0m\u001b[0mset_params\u001b[0m\u001b[1;33m(\u001b[0m\u001b[0mrandom_state\u001b[0m\u001b[1;33m=\u001b[0m\u001b[0mrandom_state\u001b[0m\u001b[1;33m.\u001b[0m\u001b[0mrandint\u001b[0m\u001b[1;33m(\u001b[0m\u001b[0mMAX_INT\u001b[0m\u001b[1;33m)\u001b[0m\u001b[1;33m)\u001b[0m\u001b[1;33m\u001b[0m\u001b[0m\n\u001b[0m\u001b[0;32m    279\u001b[0m                 \u001b[0mtrees\u001b[0m\u001b[1;33m.\u001b[0m\u001b[0mappend\u001b[0m\u001b[1;33m(\u001b[0m\u001b[0mtree\u001b[0m\u001b[1;33m)\u001b[0m\u001b[1;33m\u001b[0m\u001b[0m\n\u001b[0;32m    280\u001b[0m \u001b[1;33m\u001b[0m\u001b[0m\n",
      "\u001b[1;32m/usr/local/lib/python2.7/dist-packages/sklearn/base.pyc\u001b[0m in \u001b[0;36mset_params\u001b[1;34m(self, **params)\u001b[0m\n\u001b[0;32m    249\u001b[0m             \u001b[1;31m# Simple optimisation to gain speed (inspect is slow)\u001b[0m\u001b[1;33m\u001b[0m\u001b[1;33m\u001b[0m\u001b[0m\n\u001b[0;32m    250\u001b[0m             \u001b[1;32mreturn\u001b[0m \u001b[0mself\u001b[0m\u001b[1;33m\u001b[0m\u001b[0m\n\u001b[1;32m--> 251\u001b[1;33m         \u001b[0mvalid_params\u001b[0m \u001b[1;33m=\u001b[0m \u001b[0mself\u001b[0m\u001b[1;33m.\u001b[0m\u001b[0mget_params\u001b[0m\u001b[1;33m(\u001b[0m\u001b[0mdeep\u001b[0m\u001b[1;33m=\u001b[0m\u001b[0mTrue\u001b[0m\u001b[1;33m)\u001b[0m\u001b[1;33m\u001b[0m\u001b[0m\n\u001b[0m\u001b[0;32m    252\u001b[0m         \u001b[1;32mfor\u001b[0m \u001b[0mkey\u001b[0m\u001b[1;33m,\u001b[0m \u001b[0mvalue\u001b[0m \u001b[1;32min\u001b[0m \u001b[0msix\u001b[0m\u001b[1;33m.\u001b[0m\u001b[0miteritems\u001b[0m\u001b[1;33m(\u001b[0m\u001b[0mparams\u001b[0m\u001b[1;33m)\u001b[0m\u001b[1;33m:\u001b[0m\u001b[1;33m\u001b[0m\u001b[0m\n\u001b[0;32m    253\u001b[0m             \u001b[0msplit\u001b[0m \u001b[1;33m=\u001b[0m \u001b[0mkey\u001b[0m\u001b[1;33m.\u001b[0m\u001b[0msplit\u001b[0m\u001b[1;33m(\u001b[0m\u001b[1;34m'__'\u001b[0m\u001b[1;33m,\u001b[0m \u001b[1;36m1\u001b[0m\u001b[1;33m)\u001b[0m\u001b[1;33m\u001b[0m\u001b[0m\n",
      "\u001b[1;32m/usr/local/lib/python2.7/dist-packages/sklearn/base.pyc\u001b[0m in \u001b[0;36mget_params\u001b[1;34m(self, deep)\u001b[0m\n\u001b[0;32m    212\u001b[0m         \"\"\"\n\u001b[0;32m    213\u001b[0m         \u001b[0mout\u001b[0m \u001b[1;33m=\u001b[0m \u001b[0mdict\u001b[0m\u001b[1;33m(\u001b[0m\u001b[1;33m)\u001b[0m\u001b[1;33m\u001b[0m\u001b[0m\n\u001b[1;32m--> 214\u001b[1;33m         \u001b[1;32mfor\u001b[0m \u001b[0mkey\u001b[0m \u001b[1;32min\u001b[0m \u001b[0mself\u001b[0m\u001b[1;33m.\u001b[0m\u001b[0m_get_param_names\u001b[0m\u001b[1;33m(\u001b[0m\u001b[1;33m)\u001b[0m\u001b[1;33m:\u001b[0m\u001b[1;33m\u001b[0m\u001b[0m\n\u001b[0m\u001b[0;32m    215\u001b[0m             \u001b[1;31m# We need deprecation warnings to always be on in order to\u001b[0m\u001b[1;33m\u001b[0m\u001b[1;33m\u001b[0m\u001b[0m\n\u001b[0;32m    216\u001b[0m             \u001b[1;31m# catch deprecated param values.\u001b[0m\u001b[1;33m\u001b[0m\u001b[1;33m\u001b[0m\u001b[0m\n",
      "\u001b[1;32m/usr/local/lib/python2.7/dist-packages/sklearn/base.pyc\u001b[0m in \u001b[0;36m_get_param_names\u001b[1;34m(cls)\u001b[0m\n\u001b[0;32m    182\u001b[0m         \u001b[1;31m# introspect the constructor arguments to find the model parameters\u001b[0m\u001b[1;33m\u001b[0m\u001b[1;33m\u001b[0m\u001b[0m\n\u001b[0;32m    183\u001b[0m         \u001b[1;31m# to represent\u001b[0m\u001b[1;33m\u001b[0m\u001b[1;33m\u001b[0m\u001b[0m\n\u001b[1;32m--> 184\u001b[1;33m         \u001b[0minit_signature\u001b[0m \u001b[1;33m=\u001b[0m \u001b[0msignature\u001b[0m\u001b[1;33m(\u001b[0m\u001b[0minit\u001b[0m\u001b[1;33m)\u001b[0m\u001b[1;33m\u001b[0m\u001b[0m\n\u001b[0m\u001b[0;32m    185\u001b[0m         \u001b[1;31m# Consider the constructor parameters excluding 'self'\u001b[0m\u001b[1;33m\u001b[0m\u001b[1;33m\u001b[0m\u001b[0m\n\u001b[0;32m    186\u001b[0m         parameters = [p for p in init_signature.parameters.values()\n",
      "\u001b[1;32m/usr/local/lib/python2.7/dist-packages/sklearn/externals/funcsigs.pyc\u001b[0m in \u001b[0;36msignature\u001b[1;34m(obj)\u001b[0m\n\u001b[0;32m     60\u001b[0m \u001b[1;33m\u001b[0m\u001b[0m\n\u001b[0;32m     61\u001b[0m     \u001b[1;32mif\u001b[0m \u001b[0misinstance\u001b[0m\u001b[1;33m(\u001b[0m\u001b[0mobj\u001b[0m\u001b[1;33m,\u001b[0m \u001b[0mtypes\u001b[0m\u001b[1;33m.\u001b[0m\u001b[0mMethodType\u001b[0m\u001b[1;33m)\u001b[0m\u001b[1;33m:\u001b[0m\u001b[1;33m\u001b[0m\u001b[0m\n\u001b[1;32m---> 62\u001b[1;33m         \u001b[0msig\u001b[0m \u001b[1;33m=\u001b[0m \u001b[0msignature\u001b[0m\u001b[1;33m(\u001b[0m\u001b[0mobj\u001b[0m\u001b[1;33m.\u001b[0m\u001b[0m__func__\u001b[0m\u001b[1;33m)\u001b[0m\u001b[1;33m\u001b[0m\u001b[0m\n\u001b[0m\u001b[0;32m     63\u001b[0m         \u001b[1;32mif\u001b[0m \u001b[0mobj\u001b[0m\u001b[1;33m.\u001b[0m\u001b[0m__self__\u001b[0m \u001b[1;32mis\u001b[0m \u001b[0mNone\u001b[0m\u001b[1;33m:\u001b[0m\u001b[1;33m\u001b[0m\u001b[0m\n\u001b[0;32m     64\u001b[0m             \u001b[1;31m# Unbound method: the first parameter becomes positional-only\u001b[0m\u001b[1;33m\u001b[0m\u001b[1;33m\u001b[0m\u001b[0m\n",
      "\u001b[1;32m/usr/local/lib/python2.7/dist-packages/sklearn/externals/funcsigs.pyc\u001b[0m in \u001b[0;36msignature\u001b[1;34m(obj)\u001b[0m\n\u001b[0;32m     92\u001b[0m \u001b[1;33m\u001b[0m\u001b[0m\n\u001b[0;32m     93\u001b[0m     \u001b[1;32mif\u001b[0m \u001b[0misinstance\u001b[0m\u001b[1;33m(\u001b[0m\u001b[0mobj\u001b[0m\u001b[1;33m,\u001b[0m \u001b[0mtypes\u001b[0m\u001b[1;33m.\u001b[0m\u001b[0mFunctionType\u001b[0m\u001b[1;33m)\u001b[0m\u001b[1;33m:\u001b[0m\u001b[1;33m\u001b[0m\u001b[0m\n\u001b[1;32m---> 94\u001b[1;33m         \u001b[1;32mreturn\u001b[0m \u001b[0mSignature\u001b[0m\u001b[1;33m.\u001b[0m\u001b[0mfrom_function\u001b[0m\u001b[1;33m(\u001b[0m\u001b[0mobj\u001b[0m\u001b[1;33m)\u001b[0m\u001b[1;33m\u001b[0m\u001b[0m\n\u001b[0m\u001b[0;32m     95\u001b[0m \u001b[1;33m\u001b[0m\u001b[0m\n\u001b[0;32m     96\u001b[0m     \u001b[1;32mif\u001b[0m \u001b[0misinstance\u001b[0m\u001b[1;33m(\u001b[0m\u001b[0mobj\u001b[0m\u001b[1;33m,\u001b[0m \u001b[0mfunctools\u001b[0m\u001b[1;33m.\u001b[0m\u001b[0mpartial\u001b[0m\u001b[1;33m)\u001b[0m\u001b[1;33m:\u001b[0m\u001b[1;33m\u001b[0m\u001b[0m\n",
      "\u001b[1;32m/usr/local/lib/python2.7/dist-packages/sklearn/externals/funcsigs.pyc\u001b[0m in \u001b[0;36mfrom_function\u001b[1;34m(cls, func)\u001b[0m\n\u001b[0;32m    549\u001b[0m             parameters.append(Parameter(name, annotation=annotation,\n\u001b[0;32m    550\u001b[0m                                         \u001b[0mkind\u001b[0m\u001b[1;33m=\u001b[0m\u001b[0m_POSITIONAL_OR_KEYWORD\u001b[0m\u001b[1;33m,\u001b[0m\u001b[1;33m\u001b[0m\u001b[0m\n\u001b[1;32m--> 551\u001b[1;33m                                         default=defaults[offset]))\n\u001b[0m\u001b[0;32m    552\u001b[0m \u001b[1;33m\u001b[0m\u001b[0m\n\u001b[0;32m    553\u001b[0m         \u001b[1;31m# *args\u001b[0m\u001b[1;33m\u001b[0m\u001b[1;33m\u001b[0m\u001b[0m\n",
      "\u001b[1;31mKeyboardInterrupt\u001b[0m: "
     ]
    }
   ],
   "source": [
    "from time import time\n",
    "from sklearn.grid_search import GridSearchCV\n",
    "\n",
    "clf = RF(n_jobs=-1)\n",
    "param_grid = {\"n_estimators\":[50, 75, 100],\n",
    "              \"max_depth\": [None, 3],\n",
    "              \"max_features\": [None, 'auto'],\n",
    "              \"min_samples_split\": [4, 9],\n",
    "              \"min_samples_leaf\": [1],\n",
    "              \"bootstrap\": [True, False],\n",
    "              \"criterion\": [\"gini\", \"entropy\"]}\n",
    "grid_search = GridSearchCV(clf, param_grid=param_grid)\n",
    "start = time()\n",
    "grid_search.fit(X, y)\n",
    "\n",
    "print(\"GridSearchCV took %.2f seconds for %d candidate parameter settings.\"\n",
    "      % (time() - start, len(grid_search.grid_scores_)))\n",
    "report(grid_search.grid_scores_)"
   ]
  },
  {
   "cell_type": "markdown",
   "metadata": {},
   "source": [
    "**Best scores using X (took 542.40 seconds for 32 candidate parameter settings):**\n",
    "\n",
    "Model with rank: 1\n",
    "Mean validation score: 0.956 (std: 0.007)\n",
    "Parameters: {'bootstrap': True, 'min_samples_leaf': 1, 'n_estimators': 500, 'min_samples_split': 4, 'criterion': 'entropy', 'max_features': 'auto', 'max_depth': None}\n",
    "\n",
    "Model with rank: 2\n",
    "Mean validation score: 0.956 (std: 0.009)\n",
    "Parameters: {'bootstrap': False, 'min_samples_leaf': 1, 'n_estimators': 1000, 'min_samples_split': 4, 'criterion': 'entropy', 'max_features': 'auto', 'max_depth': None}\n",
    "\n",
    "Model with rank: 3\n",
    "Mean validation score: 0.955 (std: 0.006)\n",
    "Parameters: {'bootstrap': True, 'min_samples_leaf': 1, 'n_estimators': 1000, 'min_samples_split': 4, 'criterion': 'entropy', 'max_features': 'auto', 'max_depth': None}\n",
    "\n",
    "\n",
    "**Best scores using X_keep (took 471.68 seconds for 48 candidate parameter settings):**\n",
    "\n",
    "Model with rank: 1\n",
    "Mean validation score: 0.957 (std: 0.007)\n",
    "Parameters: {'bootstrap': False, 'min_samples_leaf': 1, 'n_estimators': 1000, 'min_samples_split': 4, 'criterion': 'entropy', 'max_features': 'auto', 'max_depth': None}\n",
    "\n",
    "Model with rank: 2\n",
    "Mean validation score: 0.956 (std: 0.006)\n",
    "Parameters: {'bootstrap': True, 'min_samples_leaf': 1, 'n_estimators': 500, 'min_samples_split': 4, 'criterion': 'entropy', 'max_features': 'auto', 'max_depth': None}\n",
    "\n",
    "Model with rank: 3\n",
    "Mean validation score: 0.956 (std: 0.007)\n",
    "Parameters: {'bootstrap': False, 'min_samples_leaf': 1, 'n_estimators': 50, 'min_samples_split': 4, 'criterion': 'entropy', 'max_features': 'auto', 'max_depth': None}"
   ]
  },
  {
   "cell_type": "code",
   "execution_count": null,
   "metadata": {
    "collapsed": false
   },
   "outputs": [],
   "source": [
    "ml_models = []\n",
    "ml_models.append([\"Random Forest\", RF, {'bootstrap': True,\n",
    "                                        'min_samples_leaf': 1,\n",
    "                                        'n_estimators': 500,\n",
    "                                        'min_samples_split': 4,\n",
    "                                        'criterion': 'entropy',\n",
    "                                        'max_features': 'auto',\n",
    "                                        'max_depth': None,\n",
    "                                        'n_jobs': -1}])\n",
    "acc = []\n",
    "prec = []\n",
    "recl = []\n",
    "f1 = []\n",
    "cms = []\n",
    "for m in ml_models:\n",
    "    y_pred, mean_acc, mean_prec, mean_recl, mean_f1 = run_cv(X, y, m[1], **m[2])\n",
    "    acc.append(mean_acc)\n",
    "    prec.append(mean_prec)\n",
    "    recl.append(mean_recl)\n",
    "    f1.append(mean_f1)\n",
    "    cms.append((m[0], metrics.confusion_matrix(y, y_pred)))\n",
    "draw_confusion_matrices(cms, np.unique(y))\n",
    "max_idx, max_value = max(enumerate(acc), key=operator.itemgetter(1))\n",
    "print '{:20} {:20} {:.2%}'.format('Best accuracy:', ml_models[max_idx][0], acc[max_idx])\n",
    "max_idx, max_value = max(enumerate(prec), key=operator.itemgetter(1))\n",
    "print '{:20} {:20} {:.2%}'.format('Best precision:', ml_models[max_idx][0], prec[max_idx])\n",
    "max_idx, max_value = max(enumerate(recl), key=operator.itemgetter(1))\n",
    "print '{:20} {:20} {:.2%}'.format('Best recall:', ml_models[max_idx][0], recl[max_idx])"
   ]
  },
  {
   "cell_type": "markdown",
   "metadata": {},
   "source": [
    "**This model is hardly better than the initial guess, but it's technically simpler, so I'll run with this one.**"
   ]
  },
  {
   "cell_type": "code",
   "execution_count": null,
   "metadata": {
    "collapsed": false
   },
   "outputs": [],
   "source": [
    "# Use 10 estimators so predictions are all multiples of 0.1\n",
    "m = ([\"Random Forest\", RF, {'bootstrap': True,\n",
    "                            'min_samples_leaf': 1,\n",
    "                            'n_estimators': 10,\n",
    "                            'min_samples_split': 1,\n",
    "                            'criterion': 'entropy',\n",
    "                            'max_features': 'auto',\n",
    "                            'max_depth': None,\n",
    "                            'n_jobs': -1}])\n",
    "pred_prob = run_prob_cv(X, y, m[1], **m[2])\n",
    "pred_churn = pred_prob[:,1]\n",
    "is_churn = y == 1\n",
    "\n",
    "# Number of times a predicted probability is assigned to an observation\n",
    "counts = pd.value_counts(pred_churn)\n",
    "\n",
    "# calculate true probabilities\n",
    "true_prob = {}\n",
    "for prob in counts.index:\n",
    "    true_prob[prob] = np.mean(is_churn[pred_churn == prob])\n",
    "    true_prob = pd.Series(true_prob)\n",
    "\n",
    "# pandas-fu\n",
    "counts = pd.concat([counts,true_prob], axis=1).reset_index()\n",
    "counts.columns = ['pred_prob', 'count', 'true_prob']\n",
    "counts"
   ]
  },
  {
   "cell_type": "code",
   "execution_count": null,
   "metadata": {
    "collapsed": false
   },
   "outputs": [],
   "source": [
    "from ggplot import *\n",
    "baseline = np.mean(is_churn)\n",
    "ggplot(counts, aes(x='pred_prob',y='true_prob',size='count')) + \\\n",
    "        geom_point(color='blue') + \\\n",
    "        stat_function(fun = lambda x: x, color='red') + \\\n",
    "        stat_function(fun = lambda x: baseline, color='green') + \\\n",
    "        xlim(-0.05,  1.05) + \\\n",
    "        ylim(-0.05,1.05) + \\\n",
    "        ggtitle(\"Random Forest\") + \\\n",
    "        xlab(\"Predicted probability\") + ylab(\"Relative frequency of outcome\")"
   ]
  },
  {
   "cell_type": "markdown",
   "metadata": {},
   "source": [
    "# -------------------------------------------------------------------------------------------------------------\n",
    "# -------------------------------------------------------------------------------------------------------------\n",
    "# Stuff below is collected junk that might be used."
   ]
  },
  {
   "cell_type": "code",
   "execution_count": null,
   "metadata": {
    "collapsed": true
   },
   "outputs": [],
   "source": [
    "import xgboost as xgb\n",
    "x_train_xgb = x_train.as_matrix()\n",
    "y_train_xgb = y_train.as_matrix()\n",
    "model = xgb.XGBClassifier()\n",
    "model.fit(x_train_xgb, y_train_xgb)\n",
    "y_probs = model.predict_proba(x_test.as_matrix())\n",
    "print(y_probs)\n",
    "\n",
    "final = [[iden,(y_probs[j][0]),(y_probs[j][1]),(y_probs[j][2])] for j,iden in enumerate(testUniqueIds)]\n",
    "frame = pd.DataFrame(final,columns=('id','predict_0','predict_1','predict_2'))\n",
    "frame.to_csv(\"submission.csv\",index=False)"
   ]
  },
  {
   "cell_type": "code",
   "execution_count": null,
   "metadata": {
    "collapsed": true
   },
   "outputs": [],
   "source": [
    "# build random forest\n",
    "clf = RandomForestClassifier(n_estimators=50, oob_score=True)  \n",
    "n_trials = 100\n",
    "test_size_percent = 0.1\n",
    "\n",
    "# build labels\n",
    "sig_field = 'sms_count'\n",
    "signals = df[[c for c in df.columns if c != sig_field]]\n",
    "labels = df[sig_field]\n",
    "\n",
    "# test train split\n",
    "plot_data = []\n",
    "for trial in range(n_trials):\n",
    "    train_signals, test_signals, train_labels, test_labels = train_test_split(\n",
    "                                                            signals, labels, test_size=test_size_percent)\n",
    "    clf.fit(train_signals, train_labels)\n",
    "    predictions = clf.predict_proba(test_signals)[:,1]\n",
    "    precision, recall, thresholds = precision_recall_curve(test_labels, predictions)  \n",
    "    thresholds = np.append(thresholds, 1)\n",
    "    queue_rate = []  \n",
    "    for threshold in thresholds:  \n",
    "        queue_rate.append((predictions >= threshold).mean())\n",
    "        \n",
    "    # save plot data\n",
    "    plot_data.append({\n",
    "            'thresholds': thresholds\n",
    "        ,   'precision': precision\n",
    "        ,   'recall': recall\n",
    "        ,   'queue_rate': queue_rate\n",
    "    })\n",
    "    \n",
    "# plot model\n",
    "uniform_thresholds = np.linspace(0, 1, 101)\n",
    "uniform_precision_plots = []  \n",
    "uniform_recall_plots= []  \n",
    "uniform_queue_rate_plots= []\n",
    "for p in plot_data:  \n",
    "    uniform_precision = []\n",
    "    uniform_recall = []\n",
    "    uniform_queue_rate = []\n",
    "    for ut in uniform_thresholds:\n",
    "        index = bisect.bisect_left(p['thresholds'], ut)\n",
    "        uniform_precision.append(p['precision'][index])\n",
    "        uniform_recall.append(p['recall'][index])\n",
    "        uniform_queue_rate.append(p['queue_rate'][index])\n",
    "\n",
    "    uniform_precision_plots.append(uniform_precision)\n",
    "    uniform_recall_plots.append(uniform_recall)\n",
    "    uniform_queue_rate_plots.append(uniform_queue_rate)\n",
    "\n",
    "quantiles = [0.1, 0.5, 0.9]  \n",
    "lower_precision, median_precision, upper_precision = mstats.mquantiles(uniform_precision_plots, quantiles, axis=0)  \n",
    "lower_recall, median_recall, upper_recall = mstats.mquantiles(uniform_recall_plots, quantiles, axis=0)  \n",
    "lower_queue_rate, median_queue_rate, upper_queue_rate = mstats.mquantiles(uniform_queue_rate_plots, quantiles, axis=0)\n",
    "\n",
    "plt.plot(uniform_thresholds, median_precision)  \n",
    "plt.plot(uniform_thresholds, median_recall)  \n",
    "plt.plot(uniform_thresholds, median_queue_rate)\n",
    "\n",
    "plt.fill_between(uniform_thresholds, upper_precision, lower_precision, alpha=0.5, linewidth=0, color=sns.color_palette()[0])  \n",
    "plt.fill_between(uniform_thresholds, upper_recall, lower_recall, alpha=0.5, linewidth=0, color=sns.color_palette()[1])  \n",
    "plt.fill_between(uniform_thresholds, upper_queue_rate, lower_queue_rate, alpha=0.5, linewidth=0, color=sns.color_palette()[2])\n",
    "\n",
    "leg = plt.legend(('precision', 'recall', 'queue_rate'), frameon=True)  \n",
    "leg.get_frame().set_edgecolor('k')  \n",
    "plt.xlabel('threshold')  \n",
    "plt.ylabel('%')  \n",
    "\n",
    "uniform_payout_plots = []\n",
    "n = 10000  \n",
    "success_payoff = 100  \n",
    "case_cost = 20\n",
    "\n",
    "for p in plot_data:  \n",
    "    uniform_payout = []\n",
    "    for ut in uniform_thresholds:\n",
    "        index = bisect.bisect_left(p['thresholds'], ut)\n",
    "        precision = p['precision'][index]\n",
    "        queue_rate = p['queue_rate'][index]\n",
    "        payout = n*queue_rate*(precision*100 - case_cost)\n",
    "        uniform_payout.append(payout)\n",
    "    uniform_payout_plots.append(uniform_payout)\n",
    "\n",
    "quantiles = [0.1, 0.5, 0.9]\n",
    "lower_payout, median_payout, upper_payout = mstats.mquantiles(uniform_payout_plots, quantiles, axis=0)\n",
    "\n",
    "plt.plot(uniform_thresholds, median_payout, color=sns.color_palette()[4])  \n",
    "plt.fill_between(uniform_thresholds, upper_payout, lower_payout, alpha=0.5, linewidth=0, color=sns.color_palette()[4])\n",
    "\n",
    "max_ap = uniform_thresholds[np.argmax(median_payout)]  \n",
    "plt.vlines([max_ap], -100000, 150000, linestyles='--')  \n",
    "plt.ylim(-100000, 150000)\n",
    "\n",
    "leg = plt.legend(('payout ($)', 'median argmax = {:.2f}'.format(max_ap)), frameon=True)  \n",
    "leg.get_frame().set_edgecolor('k')  \n",
    "plt.xlabel('threshold')  \n",
    "plt.ylabel('$')  \n",
    "plt.title(\"Payout as a Function of Threshold\")\n",
    "\n",
    "print '{0:.0f}'.format(np.max(median_payout))"
   ]
  }
 ],
 "metadata": {
  "kernelspec": {
   "display_name": "Python 2",
   "language": "python",
   "name": "python2"
  },
  "language_info": {
   "codemirror_mode": {
    "name": "ipython",
    "version": 2
   },
   "file_extension": ".py",
   "mimetype": "text/x-python",
   "name": "python",
   "nbconvert_exporter": "python",
   "pygments_lexer": "ipython2",
   "version": "2.7.10"
  }
 },
 "nbformat": 4,
 "nbformat_minor": 0
}
