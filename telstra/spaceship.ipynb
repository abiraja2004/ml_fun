{
 "cells": [
  {
   "cell_type": "markdown",
   "metadata": {},
   "source": [
    "# Imports"
   ]
  },
  {
   "cell_type": "code",
   "execution_count": 1,
   "metadata": {
    "collapsed": false,
    "scrolled": true
   },
   "outputs": [],
   "source": [
<<<<<<< HEAD
    "##############\n",
    "# basic libs #\n",
    "##############\n",
    "\n",
    "from subprocess import call\n",
    "from tqdm import *\n",
    "from time import time\n",
    "import warnings\n",
    "warnings.filterwarnings('ignore')\n",
    "import os, sys, time, datetime, json, string, glob, re\n",
    "\n",
    "############\n",
    "# plumbing #\n",
    "############\n",
    "\n",
    "import tempfile\n",
    "from joblib import Memory\n",
    "cachedir = tempfile.mkdtemp()\n",
    "mem = Memory(cachedir=cachedir, verbose=1)\n",
    "\n",
    "from sqlalchemy import create_engine\n",
    "from collections import OrderedDict\n",
    "import urllib2, requests, operator, hashlib, uuid, itertools\n",
    "\n",
    "###########\n",
    "# science #\n",
    "###########\n",
=======
    "from subprocess import call\n",
    "from time import time\n",
    "import warnings\n",
    "warnings.filterwarnings('ignore')\n",
    "import os, sys, time, datetime, string, glob, re\n",
>>>>>>> 9f47264f3074ab180144dc57fdc34786e3b4a7e5
    "\n",
    "import scipy as sp\n",
    "import numpy as np\n",
    "import pandas as pd\n",
    "\n",
<<<<<<< HEAD
    "#######\n",
    "# ML #\n",
    "######\n",
    "\n",
=======
>>>>>>> 9f47264f3074ab180144dc57fdc34786e3b4a7e5
    "import theano as thno\n",
    "import theano.tensor as T\n",
    "from sklearn import preprocessing\n",
    "from sklearn import metrics\n",
    "from sklearn import cross_validation\n",
    "from sklearn import grid_search\n",
    "from sklearn import pipeline\n",
    "from sklearn import feature_selection\n",
    "\n",
<<<<<<< HEAD
    "#################\n",
    "# visualization #\n",
    "#################\n",
    "\n",
=======
>>>>>>> 9f47264f3074ab180144dc57fdc34786e3b4a7e5
    "# plotly\n",
    "import plotly.plotly as py\n",
    "import plotly.tools as tls\n",
    "import plotly.graph_objs as go\n",
    "import cufflinks as cf\n",
    "cf.set_config_file(offline=False, world_readable=True, theme='pearl')\n",
    "tls.set_credentials_file(username=os.environ.get('PLOTLY_USERNAME'), api_key=os.environ.get('PLOTLY_APIKEY'))\n",
    "\n",
    "# matplotlib\n",
    "import matplotlib.pyplot as plt\n",
    "import matplotlib\n",
    "%matplotlib inline\n",
    "\n",
    "# seaborn\n",
    "import seaborn as sns\n",
    "sns.set(style=\"dark\", palette=\"muted\")\n",
    "sns.set_context(\"notebook\",\n",
    "                font_scale=1.5,\n",
<<<<<<< HEAD
    "                rc={\"lines.linewidth\": 2.5})\n",
    "\n",
    "#graphistry\n",
    "import graphistry\n",
    "graphistry.register(key=os.environ.get('GRAPHISTRY_APIKEY'))"
=======
    "                rc={\"lines.linewidth\": 2.5})"
>>>>>>> 9f47264f3074ab180144dc57fdc34786e3b4a7e5
   ]
  },
  {
   "cell_type": "code",
   "execution_count": 56,
   "metadata": {
    "collapsed": false
   },
   "outputs": [
    {
     "name": "stdout",
     "output_type": "stream",
     "text": [
      "Ken Cavagnolo \n",
      "last updated: Tue Feb 16 2016 \n",
      "\n",
      "CPython 2.7.10\n",
      "IPython 4.1.1\n",
      "\n",
      "numpy 1.10.1\n",
      "scipy 0.16.1\n",
      "pandas 0.17.0\n",
      "seaborn 0.6.0\n",
      "scikit-learn 0.17\n",
      "\n",
      "compiler   : GCC 4.2.1 Compatible Apple LLVM 7.0.0 (clang-700.0.72)\n",
      "system     : Darwin\n",
      "release    : 15.3.0\n",
      "machine    : x86_64\n",
      "processor  : i386\n",
      "CPU cores  : 4\n",
      "interpreter: 64bit\n",
      "host name  : DrGonzo.local\n",
      "Git hash   : e29e15ac86fc5c43f32586a8450afdc05278d6ec\n"
     ]
    }
   ],
   "source": [
    "%reload_ext watermark\n",
    "%watermark -a \"Ken Cavagnolo\" -n -u -v -m -h -g -p numpy,scipy,pandas,seaborn,scikit-learn"
   ]
  },
  {
   "cell_type": "markdown",
<<<<<<< HEAD
   "metadata": {
    "heading_collapsed": true
   },
=======
   "metadata": {},
>>>>>>> 9f47264f3074ab180144dc57fdc34786e3b4a7e5
   "source": [
    "# Functions"
   ]
  },
  {
   "cell_type": "code",
   "execution_count": 69,
   "metadata": {
    "collapsed": true
   },
   "outputs": [],
   "source": [
    "def kscore(y_pred, y_true):\n",
    "    nrows = y_pred.shape[0]\n",
    "    y_pred = y_pred + 1e-15\n",
    "    probs = y_pred[list(range(nrows)), y_true.astype(int)]\n",
    "    return - np.sum(np.log(probs)) / nrows"
   ]
  },
  {
   "cell_type": "code",
   "execution_count": 5,
   "metadata": {
    "collapsed": true
   },
   "outputs": [],
   "source": [
    "def factors(n):    \n",
    "    return set(reduce(list.__add__,\n",
    "                      ([i, n//i] for i in range(1, int(n**0.5) + 1) if n % i == 0)))"
   ]
  },
  {
   "cell_type": "code",
   "execution_count": 6,
   "metadata": {
    "collapsed": true
   },
   "outputs": [],
   "source": [
    "def feature_indices(df, attr):\n",
    "    idx = {}\n",
    "    for a in attr:\n",
    "        idx[a] = [c for c in df.columns if c.startswith(a)]\n",
    "    return idx"
   ]
  },
  {
   "cell_type": "code",
   "execution_count": 7,
   "metadata": {
    "collapsed": true
   },
   "outputs": [],
   "source": [
    "def all_combos(attr):\n",
    "    combos = []\n",
    "    for i in range(1, len(attr)+1):\n",
    "        for subset in itertools.combinations(attr, i):\n",
    "            combos.append(subset)\n",
    "    return combos"
   ]
  },
  {
   "cell_type": "code",
   "execution_count": 67,
   "metadata": {
    "collapsed": true
   },
   "outputs": [],
   "source": [
    "def feature_mixer(df, attr, clf_class, **kwargs):\n",
    "    \n",
    "    # scoring arrays\n",
    "    acc = []\n",
    "    prec = []\n",
    "    recl = []\n",
    "    f1 = []\n",
    "    ks = []\n",
    "    \n",
    "    # get attribute combos to explore\n",
    "    attr_com = all_combos(attr)\n",
    "\n",
    "    # get these attr as indices\n",
    "    attr_idx = feature_indices(df, attr)\n",
    "    \n",
    "    # labelizer\n",
    "    lb = preprocessing.LabelBinarizer()\n",
    "    \n",
    "    # iterate through all combinations of features\n",
    "    for a in attr_com:\n",
    "\n",
    "        # get feature indices\n",
    "        idxs = []\n",
    "        for b in a:\n",
    "            idxs.extend(attr_idx[b])\n",
    "\n",
    "        # build datasets    \n",
    "        X = df.ix[:, (idxs)].copy().values\n",
    "        y = df.fault_severity.values\n",
    "        y_cat = lb.fit_transform(y)\n",
    "        y_pred = y.copy()\n",
    "        y_prob = y_cat.copy().astype(float)\n",
    "        \n",
    "        # initialize counters\n",
    "        mean_acc = 0.0\n",
    "        mean_prec = 0.0\n",
    "        mean_recl = 0.0\n",
    "        mean_f1 = 0.0\n",
    "        mean_ks = 0.0\n",
    "        \n",
    "        # run kfold cv\n",
    "        kf = cross_validation.StratifiedKFold(y, n_folds=10, shuffle=True)\n",
    "        for train_index, test_index in kf:\n",
    "            X_train, X_test = X[train_index], X[test_index]\n",
    "            y_train, y_test = y[train_index], y[test_index]\n",
    "            clf = clf_class(**kwargs)\n",
    "            clf = pipeline.Pipeline([('scaler', preprocessing.StandardScaler()), ('clf', clf)])\n",
    "            clf.fit(X_train, y_train)\n",
    "            y_pred[test_index] = clf.predict(X_test)\n",
    "            y_prob[test_index] = clf.predict_proba(X_test)\n",
    "            mean_acc += metrics.accuracy_score(y[test_index], y_pred[test_index])\n",
    "            mean_recl += metrics.recall_score(y[test_index], y_pred[test_index])\n",
    "            mean_prec += metrics.precision_score(y[test_index], y_pred[test_index])\n",
    "            mean_f1 += metrics.f1_score(y[test_index], y_pred[test_index])\n",
    "            mean_ks += kscore(y_prob[test_index], y[test_index])\n",
    "\n",
    "        # update mean counters\n",
    "        acc.append(mean_acc / len(kf))\n",
    "        recl.append(mean_recl / len(kf))\n",
    "        prec.append(mean_prec / len(kf))\n",
    "        f1.append(mean_f1 / len(kf))\n",
    "        ks.append(mean_ks / len(kf))\n",
    "\n",
    "    # make dataframe\n",
    "    result = pd.DataFrame({'attr_combo':attr_com, 'accuracy':acc,\n",
    "                           'precision':prec, 'recall':recl, 'f1':f1,\n",
    "                           'kscore':ks})\n",
    "    return result"
   ]
  },
  {
<<<<<<< HEAD
   "cell_type": "code",
   "execution_count": null,
   "metadata": {
    "collapsed": true
   },
   "outputs": [],
   "source": [
    "def draw_confusion_matrices(confusion_matrices, class_names):\n",
    "    labels = list(class_names)\n",
    "    for cm in confusion_matrices:\n",
    "        fig = plt.figure()\n",
    "        ax = fig.add_subplot(111)\n",
    "        cax = ax.matshow(cm[1])\n",
    "        fig.colorbar(cax)\n",
    "        ax.set_xticklabels([''] + labels)\n",
    "        ax.set_yticklabels([''] + labels)\n",
    "        plt.title('%s' % cm[0])\n",
    "        plt.xlabel('Predicted')\n",
    "        plt.ylabel('True')\n",
    "        for i,j in ((x,y) for x in xrange(len(cm[1])) for y in xrange(len(cm[1][0]))):\n",
    "            val = '{:.1%}'.format(cm[1][i][j]/cm[1].sum())\n",
    "            ax.annotate(str(val), xy=(i,j), color='white', ha=\"center\", va=\"center\")\n",
    "        plt.show()"
   ]
  },
  {
=======
>>>>>>> 9f47264f3074ab180144dc57fdc34786e3b4a7e5
   "cell_type": "markdown",
   "metadata": {
    "heading_collapsed": true
   },
   "source": [
<<<<<<< HEAD
    "# What's the problem?"
   ]
  },
  {
   "cell_type": "markdown",
   "metadata": {},
   "source": [
    "* Informal: using Telstra's service logs, the task is to predict the severity of a network disruption.\n",
    "\n",
    "* Describe the problem formally, e.g.\n",
    "    * Task (T): For a specific time and location, classify network fault severity as 0 == no faults, 1 == few faults, 2 == many faults. Fault severity is a measurement of actual reported faults from users of the network and is the target variable.\n",
    "    * Experience (E): Each row in the train/test data represents a location and a time point. They are identified by the \"id\" column, which is the key \"id\" used in the other data files (event_type, resource_type, severity_type, log_feature) that contain features extracted from log files and other sources. Note that severity_type:\n",
    "        * Is a categorical feature extracted from the log files\n",
    "        * \"Often\" (**when is it not?**) the type of the warning message coming from the log files\n",
    "        * Does not have an ordering\n",
    "    * Performance (P): Classification accuracy, the number of fault events predicted correctly (a set of predicted probabilities one for every fault severity mus be given) out of all faults considered as a percentage.\n",
    "\n",
    "* Assumptions:\n",
    "    * All given features will matter to the model.\n",
    "    * The clustering in time and location matter to the model, but may be mutually exclusive.\n",
    "    * The volume of faults may not matter to the model.\n",
    "    * Systemic long duration, low-volume correlated faults could be hiding in data.\n",
    "\n",
    "* Similar problems:\n",
    "    * Airline loyalty and medallion class problem\n",
    "    * Anomaly detection, e.g. [Twitter's R package](https://github.com/nicolasmiller/pyculiarity)"
=======
    "# Reload Point"
   ]
  },
  {
   "cell_type": "code",
   "execution_count": 75,
   "metadata": {
    "collapsed": false
   },
   "outputs": [
    {
     "name": "stdout",
     "output_type": "stream",
     "text": [
      "<class 'pandas.io.pytables.HDFStore'>\n",
      "File path: /Users/cavagnolo/ml_fun/telstra/data/features.h5\n",
      "/df_adatree            frame        (shape->[15,6])     \n",
      "/df_all                frame        (shape->[18552,458])\n",
      "/df_test               frame        (shape->[11171,457])\n",
      "/df_train              frame        (shape->[7381,458]) \n"
     ]
    }
   ],
   "source": [
    "# get datadir\n",
    "import platform\n",
    "uname = platform.uname()[0]\n",
    "if uname == 'Linux':\n",
    "    datadir = '/home/kcavagnolo/ml_fun/telstra/data/'\n",
    "elif uname == 'Darwin':\n",
    "    datadir = '/Users/cavagnolo/ml_fun/telstra/data/'\n",
    "else:\n",
    "    raise OSError(\"Unknown system: \" + str(uname))\n",
    "\n",
    "# get files\n",
    "files = sorted(glob.glob(datadir + '*.csv'))\n",
    "hdf_file = datadir + 'features.h5'\n",
    "\n",
    "# reopen hdf store\n",
    "hdf = pd.HDFStore(hdf_file)\n",
    "\n",
    "# reload df's\n",
    "print hdf\n",
    "df_test = hdf['df_test']\n",
    "df_train = hdf['df_train']\n",
    "df_all = hdf['df_all']\n",
    "#df_svd = hdf['df_svd']\n",
    "#df_pca = hdf['df_pca']\n",
    "#df_kpca = hdf['df_kpca']\n",
    "#df_lle = hdf['df_lle']\n",
    "#df_tsne = hdf['df_tsne']\n",
    "hdf.close()\n",
    "\n",
    "# relevant columns\n",
    "#svdcols = [c for c in df_svd.columns if c[:3] == 'svd']\n",
    "#pcacols = [c for c in df_pca.columns if c[:3] == 'pca']\n",
    "#kpcacols = [c for c in df_kpca.columns if c[:4] == 'kpca']\n",
    "#llecols = [c for c in df_lle.columns if c[:3] == 'lle']\n",
    "\n",
    "# cols to drop\n",
    "attribute_drop = ['fault_severity', 'id', 'location', 'is_train']\n",
    "\n",
    "# col prefixes\n",
    "attributes = ['event_', 'resource_', 'severity_', 'log_feature_']"
>>>>>>> 9f47264f3074ab180144dc57fdc34786e3b4a7e5
   ]
  },
  {
   "cell_type": "markdown",
   "metadata": {
    "heading_collapsed": true
   },
   "source": [
<<<<<<< HEAD
    "# How to approach the problem?"
=======
    "# Feature Engineering"
>>>>>>> 9f47264f3074ab180144dc57fdc34786e3b4a7e5
   ]
  },
  {
   "cell_type": "markdown",
   "metadata": {},
   "source": [
<<<<<<< HEAD
    "* Brainstorm! Literally type everything as a stream of consciousness (coffee helps here)\n",
    "\n",
    "These are my thoughts. These are my thoughts. These are my thoughts. These are my thoughts. These are my thoughts. These are my thoughts. These are my thoughts. These are my thoughts. These are my thoughts. These are my thoughts.\n",
    "\n",
    "* Describe how to solve problem manually\n",
    "* What data do I have?\n",
    "* What data do I need?\n",
    "* What data I **don't** need?\n",
    "* What do I know the least about in the solution process above?\n",
    "    * knowledge gap 1\n",
    "    * knowledge gap 2\n",
    "* What am I concerned is incorrect in above solution? Find an expert online and ask them about these items\n",
    "    * concern 1\n",
    "    * concern 2"
   ]
  },
  {
   "cell_type": "markdown",
   "metadata": {
    "heading_collapsed": true
   },
   "source": [
    "# Data Preparation"
=======
    "* Data has complex multi-dimensional structure that ML algos know how to find and exploit to make decisions\n",
    "* What's not exposed to the models?\n",
    "    * Events are too dense or too complex for the algo to find. Fix == dim reduction (PCA or SVD)\n",
    "    * How the various events are communicating. Fix == clustering\n",
    "    * There is more attribute aggregation/creation needed. Fix == hyperattributes\n",
    "    * Time and location dependance of the events. Fix == ???\n",
    "\n",
    "* Remove correlated features\n",
    "* Remove features using statistical tests\n",
    "* Try pair-wise feature interactions, e.g. a*b, a-b, a+b, a/b\n",
    "* Try feature transformations, e.g. sqrt(a), log(a), abs(a)"
>>>>>>> 9f47264f3074ab180144dc57fdc34786e3b4a7e5
   ]
  },
  {
   "cell_type": "markdown",
   "metadata": {
    "heading_collapsed": true
   },
   "source": [
<<<<<<< HEAD
    "## Summarize"
=======
    "## Importance"
>>>>>>> 9f47264f3074ab180144dc57fdc34786e3b4a7e5
   ]
  },
  {
   "cell_type": "code",
   "execution_count": null,
   "metadata": {
    "collapsed": false
   },
   "outputs": [],
   "source": [
<<<<<<< HEAD
    "# go through each file and tell me what's in it\n",
    "for f in files:\n",
    "    df = pd.read_csv(f)\n",
    "    cols = df.columns.tolist()\n",
    "    obs = df.shape[0]\n",
    "    print '{:15} {:s}'.format('Filename:', f)\n",
    "    print '{:15} {:d}'.format('Observations:', obs)\n",
    "    for c in cols:\n",
    "        uflag = \"\"\n",
    "        nflag = \"\"\n",
    "        uni = len(pd.unique(df[c].ravel()))\n",
    "        nulls = np.count_nonzero(df[c].isnull())\n",
    "        if obs != uni:\n",
    "            uflag = '*MULTIPLE VALS PER KEY*'\n",
    "        if nulls >0 :\n",
    "            nflag = '*NULLS IN COL*'\n",
    "        print '{:15} {:d} {:20} {:20}'.format(c, uni, uflag, nflag)\n",
    "    print '\\n'"
   ]
  },
  {
   "cell_type": "markdown",
   "metadata": {},
   "source": [
    "* Column names look fine, don't need to clean those\n",
    "* No nulls, hooray\n",
    "* Looks like each ID has only one severity type and multiple event types| log features| resource types:\n",
    "\n",
    "For example, in the training set, consider ID 10005:\n",
    "\n",
    "|id| item | code | sev/vol\n",
    "|:-|:-|:-:|:-:\n",
    "|10005 | location |802 | 0\n",
    "|10005|severity_type |1|\n",
    "|10005|event_type |11|\n",
    "|10005|event_type |13|\n",
    "|10005|event_type |14|\n",
    "|10005|log_feature| 345|1\n",
    "|10005|log_feature| 54|1\n",
    "|10005|resource_type |4|\n",
    "|10005|resource_type |6|\n",
    "|10005|resource_type |8|\n",
    "\n",
    "Transposing would be\n",
    "\n",
    "|id|loc|sev|evt|fea|res\n",
    "|-|\n",
    "|10005|{802:0}|1|[11,13,14]|{54:1,345:1}|[4,6,8]\n",
    "\n",
    "For a single id, the coding can't be a list, so one hot encode every type? How many are we talking?\n",
    "* 53 event types (binary)\n",
    "* 386 log features (continuous)\n",
    "* 10 resource types (binary)\n",
    "\n",
    "That's 449 features. Regardless, need to join all this data together. It's all categorical data (code_n is y/n), except for the log features which has a volume."
=======
    "# train data\n",
    "X_train = df_all[(df_all.is_train==True)].copy().drop(drop, 1)\n",
    "xcols   = X_train.columns\n",
    "X_train = X_train.values\n",
    "y_train = df_all[(df_all.is_train==True)].fault_severity.values\n",
    "\n",
    "# simple rand forest\n",
    "from sklearn.ensemble import RandomForestClassifier\n",
    "clf = RandomForestClassifier(n_estimators=3000, n_jobs=-1)\n",
    "scores = cross_validation.cross_val_score(clf, X_train, y_train, cv=15, n_jobs=-1)\n",
    "print scores.mean(), '+/-', scores.std()\n",
    "\n",
    "# top ten features\n",
    "clf = pipeline.Pipeline([('scaler', preprocessing.StandardScaler()), ('clf', clf)])\n",
    "clf.fit(X_train, y_train)\n",
    "fea_impt = zip(xcols, (clf.feature_importances_ * 100.0).astype(int))\n",
    "sorted(fea_impt, key=lambda x: -x[1])[0:10]"
>>>>>>> 9f47264f3074ab180144dc57fdc34786e3b4a7e5
   ]
  },
  {
   "cell_type": "markdown",
   "metadata": {
    "heading_collapsed": true
   },
   "source": [
<<<<<<< HEAD
    "## Basics"
=======
    "## Extraction"
>>>>>>> 9f47264f3074ab180144dc57fdc34786e3b4a7e5
   ]
  },
  {
   "cell_type": "markdown",
<<<<<<< HEAD
   "metadata": {},
   "source": [
    "* Replace missing values\n",
    "* Remove duplicates\n",
    "* One-Hot encode categorical features\n",
    "* Find outliers and explain\n",
    "* Scale\n",
    "* Standardize"
   ]
  },
  {
   "cell_type": "code",
   "execution_count": null,
   "metadata": {
    "collapsed": false
   },
   "outputs": [],
   "source": [
    "# read raw volumes\n",
    "df = pd.read_csv(files[1])\n",
    "\n",
    "# cleanup col names\n",
    "for c in df.columns:\n",
    "    if df[c].dtypes == 'object':\n",
    "        df[c] = df[c].map(lambda x: re.sub(\"[^0-9]\", \"\", x))\n",
    "        \n",
    "# re-org by id        \n",
    "vols = df.pivot(index='id', columns='log_feature', values='volume').fillna(0)\n",
    "cnames = ['log_feature_'+str(x) for x in vols.columns]\n",
    "\n",
    "# scale or min-max\n",
    "vols_scl = vols.apply(lambda x: preprocessing.MinMaxScaler().fit_transform(x))\n",
    "vols_scl.columns = cnames"
=======
   "metadata": {
    "heading_collapsed": true
   },
   "source": [
    "## Selection"
   ]
  },
  {
   "cell_type": "markdown",
   "metadata": {
    "heading_collapsed": true
   },
   "source": [
    "### Univariate"
>>>>>>> 9f47264f3074ab180144dc57fdc34786e3b4a7e5
   ]
  },
  {
   "cell_type": "code",
   "execution_count": null,
   "metadata": {
    "collapsed": false
   },
   "outputs": [],
   "source": [
<<<<<<< HEAD
    "# build train df\n",
    "df = pd.read_csv(files[5], index_col=0)\n",
    "for c in df.columns:\n",
    "    if df[c].dtypes == 'object':\n",
    "        df[c] = df[c].map(lambda x: re.sub(\"[^0-9]\", \"\", x))\n",
    "df_train = df.copy()\n",
    "\n",
    "# build test df\n",
    "df = pd.read_csv(files[4], index_col=0)\n",
    "for c in df.columns:\n",
    "    if df[c].dtypes == 'object':\n",
    "        df[c] = df[c].map(lambda x: re.sub(\"[^0-9]\", \"\", x))\n",
    "df_test = df.copy()\n",
    "\n",
    "print df_train.shape\n",
    "print df_test.shape"
   ]
  },
  {
   "cell_type": "code",
   "execution_count": null,
   "metadata": {
    "collapsed": true
   },
   "outputs": [],
   "source": [
    "# add categorical event_type, resource_type, severity_type\n",
    "nfiles = [files[0], files[2], files[3]]\n",
    "for f in nfiles:\n",
    "    df = pd.read_csv(f, index_col=0)\n",
    "    for c in df.columns:\n",
    "        df[c] = df[c].map(lambda x: re.sub(\"[^0-9]\", \"\", x))\n",
    "    dfv = pd.get_dummies(df).groupby(df.index).sum()\n",
    "    df_train = df_train.join(dfv)\n",
    "    df_test = df_test.join(dfv)"
=======
    "from sklearn.svm import LinearSVC\n",
    "from sklearn.feature_selection import SelectPercentile, f_classif\n",
    "\n",
    "X = df_train.copy().drop(drop, 1)\n",
    "cols = X.columns\n",
    "X = X.values\n",
    "y = df_train.fault_severity.values.astype(int)\n",
    "\n",
    "mpl_fig = plt.figure(1, figsize=(11,8))\n",
    "plt.clf()\n",
    "\n",
    "X_indices = np.arange(X.shape[-1])\n",
    "\n",
    "# Univariate feature selection with F-test for feature scoring\n",
    "selector = SelectPercentile(f_classif, percentile=50)\n",
    "selector.fit(X, y)\n",
    "\n",
    "# get scores\n",
    "scores = -np.log10(np.array(selector.pvalues_))\n",
    "scores[np.isnan(scores)] = 0\n",
    "scores /= scores.max()\n",
    "plt.bar(X_indices - .45, scores,\n",
    "        width=.2, label=r'Univariate score ($-Log(p_{value})$)', color='g')\n",
    "\n",
    "# Compare to the weights of an SVM\n",
    "clf = LinearSVC(C=0.3, penalty=\"l1\", dual=False)\n",
    "clf.fit(X, y)\n",
    "\n",
    "svm_weights = (clf.coef_ ** 2).sum(axis=0)\n",
    "svm_weights /= svm_weights.max()\n",
    "\n",
    "plt.bar(X_indices - .25, svm_weights,\n",
    "        width=.2, label='SVM weight', color='r')\n",
    "\n",
    "clf_selected = LinearSVC(C=0.3, penalty=\"l1\", dual=False)\n",
    "clf_selected.fit(selector.transform(X), y)\n",
    "\n",
    "svm_weights_selected = (clf_selected.coef_ ** 2).sum(axis=0)\n",
    "svm_weights_selected /= svm_weights_selected.max()\n",
    "\n",
    "plt.bar(X_indices[selector.get_support()] - .05, svm_weights_selected,\n",
    "        width=.2, label='SVM weights after selection', color='b')\n",
    "\n",
    "\n",
    "plt.xlabel('Supported feature number')\n",
    "plt.yticks(())\n",
    "plt.axis('tight')\n",
    "plt.legend(loc='upper right')\n",
    "plt.show()"
>>>>>>> 9f47264f3074ab180144dc57fdc34786e3b4a7e5
   ]
  },
  {
   "cell_type": "code",
   "execution_count": null,
   "metadata": {
    "collapsed": false
   },
   "outputs": [],
   "source": [
<<<<<<< HEAD
    "# join scaled volumes\n",
    "df_train = df_train.join(vols_scl)\n",
    "df_test = df_test.join(vols_scl)"
=======
    "print selector.transform(X).shape[1]\n",
    "uni_fea = Xcols[selector.get_support(indices=True)].tolist()"
>>>>>>> 9f47264f3074ab180144dc57fdc34786e3b4a7e5
   ]
  },
  {
   "cell_type": "code",
   "execution_count": null,
   "metadata": {
    "collapsed": false
   },
   "outputs": [],
   "source": [
<<<<<<< HEAD
    "# gut check the 10005 entry from above\n",
    "junk = df_train.T\n",
    "x = junk.loc[:, 10005] > 0\n",
    "x[x].index"
   ]
  },
  {
   "cell_type": "code",
   "execution_count": null,
   "metadata": {
    "collapsed": true
   },
   "outputs": [],
   "source": [
    "# one time analysis to re-bin volunme data\n",
    "#df = pd.read_csv(files[1], index_col=0)\n",
    "#x = np.log10(df['volume'][(df.volume > 0)].values)\n",
    "#sns.distplot(x, bins=8, kde=False, fit=stats.expon)\n",
    "\n",
    "# grab the bins in log space use the built-in Freedman-Diaconis rule\n",
    "#hist, bins = np.histogram(x, bins=8)\n",
    "\n",
    "# assign each volume to a bin\n",
    "#inds = np.digitize(x, bins)\n",
    "\n",
    "# add this to the df\n",
    "#df['volume'] = inds"
=======
    "# get index of max value\n",
    "idx = X_indices[selector.get_support()][svm_weights_selected.argmax()]\n",
    "\n",
    "# get column name\n",
    "Xcols[idx]"
   ]
  },
  {
   "cell_type": "markdown",
   "metadata": {},
   "source": [
    "Well no shit, it's log_feature_203 again. Check the baseline models section, it showed up in the decision tree feature importance list as #1 and being almost 2x more important than #2."
>>>>>>> 9f47264f3074ab180144dc57fdc34786e3b4a7e5
   ]
  },
  {
   "cell_type": "markdown",
   "metadata": {
    "heading_collapsed": true
   },
   "source": [
<<<<<<< HEAD
    "## Save"
   ]
  },
  {
   "cell_type": "code",
   "execution_count": null,
   "metadata": {
    "collapsed": true
   },
   "outputs": [],
   "source": [
    "# merge df's\n",
    "df_train.reset_index(inplace=True)\n",
    "df_test.reset_index(inplace=True)\n",
    "df_train['is_train'] = True\n",
    "df_test['is_train'] = False\n",
    "df_all = pd.concat([df_train, df_test], axis=0, ignore_index=False)\n",
    "a = df_train.shape[0]\n",
    "b = df_test.shape[0]\n",
    "c = df_all.shape[0]\n",
    "assert(a + b == c, \"DF's are not summing correctly\")"
=======
    "### Recursive"
   ]
  },
  {
   "cell_type": "markdown",
   "metadata": {},
   "source": [
    "Want to know what features may be the most important before any transformation. Try recursive feature elimination with cross-validation (RFECV). For multiclass, stratified K-fold used by default and shuffle is True."
>>>>>>> 9f47264f3074ab180144dc57fdc34786e3b4a7e5
   ]
  },
  {
   "cell_type": "code",
   "execution_count": null,
   "metadata": {
    "collapsed": false
   },
   "outputs": [],
   "source": [
<<<<<<< HEAD
    "# save to hdf5 for easier loading later\n",
    "call([\"rm\", \"-rf\", hdf_file])\n",
    "hdf = pd.HDFStore(hdf_file)\n",
    "hdf.put('df_test', df_test)\n",
    "hdf.put('df_train', df_train)\n",
    "hdf.put('df_all', df_all)\n",
    "hdf.close()\n",
    "call([\"lrztar\", \"-zf\", hdf_file])"
   ]
  },
  {
   "cell_type": "markdown",
   "metadata": {
    "heading_collapsed": true
   },
   "source": [
    "# Reload Point"
   ]
  },
  {
   "cell_type": "code",
   "execution_count": 75,
   "metadata": {
    "collapsed": false
   },
   "outputs": [
    {
     "name": "stdout",
     "output_type": "stream",
     "text": [
      "<class 'pandas.io.pytables.HDFStore'>\n",
      "File path: /Users/cavagnolo/ml_fun/telstra/data/features.h5\n",
      "/df_adatree            frame        (shape->[15,6])     \n",
      "/df_all                frame        (shape->[18552,458])\n",
      "/df_test               frame        (shape->[11171,457])\n",
      "/df_train              frame        (shape->[7381,458]) \n"
     ]
    }
   ],
   "source": [
    "# get datadir\n",
    "import platform\n",
    "uname = platform.uname()[0]\n",
    "if uname == 'Linux':\n",
    "    datadir = '/home/kcavagnolo/ml_fun/telstra/data/'\n",
    "elif uname == 'Darwin':\n",
    "    datadir = '/Users/cavagnolo/ml_fun/telstra/data/'\n",
    "else:\n",
    "    raise OSError(\"Unknown system: \" + str(uname))\n",
    "\n",
    "# get files\n",
    "files = sorted(glob.glob(datadir + '*.csv'))\n",
    "hdf_file = datadir + 'features.h5'\n",
    "\n",
    "# reopen hdf store\n",
    "hdf = pd.HDFStore(hdf_file)\n",
    "\n",
    "# reload df's\n",
    "print hdf\n",
    "df_test = hdf['df_test']\n",
    "df_train = hdf['df_train']\n",
    "df_all = hdf['df_all']\n",
    "#df_svd = hdf['df_svd']\n",
    "#df_pca = hdf['df_pca']\n",
    "#df_kpca = hdf['df_kpca']\n",
    "#df_lle = hdf['df_lle']\n",
    "#df_tsne = hdf['df_tsne']\n",
    "hdf.close()\n",
    "\n",
    "# relevant columns\n",
    "#svdcols = [c for c in df_svd.columns if c[:3] == 'svd']\n",
    "#pcacols = [c for c in df_pca.columns if c[:3] == 'pca']\n",
    "#kpcacols = [c for c in df_kpca.columns if c[:4] == 'kpca']\n",
    "#llecols = [c for c in df_lle.columns if c[:3] == 'lle']\n",
    "\n",
    "# cols to drop\n",
    "attribute_drop = ['fault_severity', 'id', 'location', 'is_train']\n",
    "\n",
    "# col prefixes\n",
    "attributes = ['event_', 'resource_', 'severity_', 'log_feature_']"
=======
    "from sklearn.feature_selection import RFECV\n",
    "from sklearn.linear_model import LogisticRegression as LR\n",
    "from sklearn.ensemble import RandomForestClassifier as RF\n",
    "from sklearn.linear_model import SGDClassifier as SGD\n",
    "from sklearn.naive_bayes import MultinomialNB as MNB\n",
    "\n",
    "# get training data\n",
    "X = df_all[(df_all.is_train == True)].copy()\n",
    "y = X.fault_severity\n",
    "X.drop(drop, 1, inplace=True)\n",
    "\n",
    "# make df to store results\n",
    "df_frank = pd.DataFrame({'feature':X.columns.values})\n",
    "\n",
    "# create base classifier\n",
    "models =[]\n",
    "models.append(LR(n_jobs=-1))\n",
    "models.append(RF(n_jobs=-1))\n",
    "models.append(SGD(n_jobs=-1))\n",
    "models.append(MNB())\n",
    "\n",
    "# iterate over models\n",
    "for m in models:\n",
    "    mname = str(m).split('(')[0]\n",
    "    rfecv = RFECV(m, cv=3, scoring='accuracy')\n",
    "    rfecv = rfecv.fit(X, y)\n",
    "    print(\"%s Optimal # features: %d\" % (mname, rfecv.n_features_))\n",
    "    c = 'rfecv_'+str(mname[:3])\n",
    "    df_frank[c] = rfecv.ranking_\n",
    "    \n",
    "    # n_features vs cv score\n",
    "    plt.figure()\n",
    "    plt.title(mname)\n",
    "    plt.xlabel(\"# features\")\n",
    "    plt.ylabel(\"CV score\")\n",
    "    plt.plot(range(1, len(rfecv.grid_scores_) + 1), rfecv.grid_scores_)\n",
    "    plt.axvline(rfecv.n_features_, color='r', linestyle='--')\n",
    "    plt.show()"
>>>>>>> 9f47264f3074ab180144dc57fdc34786e3b4a7e5
   ]
  },
  {
   "cell_type": "markdown",
<<<<<<< HEAD
   "metadata": {
    "heading_collapsed": true
   },
   "source": [
    "# Attribute Summaries"
=======
   "metadata": {},
   "source": [
    "MNB is not a good model, nor SGD. Try SVC linear in their place."
>>>>>>> 9f47264f3074ab180144dc57fdc34786e3b4a7e5
   ]
  },
  {
   "cell_type": "code",
   "execution_count": null,
   "metadata": {
    "collapsed": false
   },
   "outputs": [],
   "source": [
<<<<<<< HEAD
    "df_train.filter(regex='log_feature_').mean().order(ascending=False).head()"
=======
    "from sklearn.svm import SVC\n",
    "m = SVC(kernel='linear')\n",
    "mname = str(m).split('(')[0]\n",
    "rfecv = RFECV(m, cv=3, scoring='accuracy')\n",
    "rfecv = rfecv.fit(X, y)\n",
    "print(\"%s Optimal # features: %d\" % (mname, rfecv.n_features_))\n",
    "c = 'rfecv_'+str(mname[:3])\n",
    "df_frank[c] = rfecv.ranking_\n",
    "    \n",
    "# n_features vs cv score\n",
    "plt.figure()\n",
    "plt.title(mname)\n",
    "plt.xlabel(\"# features\")\n",
    "plt.ylabel(\"CV score\")\n",
    "plt.plot(range(1, len(rfecv.grid_scores_) + 1), rfecv.grid_scores_)\n",
    "plt.axvline(rfecv.n_features_, color='r', linestyle='--')\n",
    "plt.show()"
>>>>>>> 9f47264f3074ab180144dc57fdc34786e3b4a7e5
   ]
  },
  {
   "cell_type": "code",
   "execution_count": null,
   "metadata": {
    "collapsed": false
   },
   "outputs": [],
   "source": [
<<<<<<< HEAD
    "df_all['log_feature_312'][(df_all.log_feature_312 > 0)].count().astype(float)/len(df_all)"
   ]
  },
  {
   "cell_type": "markdown",
   "metadata": {
    "heading_collapsed": true
   },
   "source": [
    "## Histograms"
=======
    "# get avg rank and abs rank\n",
    "df_frank['avg_rank'] = df_frank[['rfecv_Log', 'rfecv_Ran', 'rfecv_SVC']].mean(axis=1)\n",
    "df_frank['abs_rank'] = df_frank.avg_rank.rank(method='min')"
>>>>>>> 9f47264f3074ab180144dc57fdc34786e3b4a7e5
   ]
  },
  {
   "cell_type": "code",
   "execution_count": null,
   "metadata": {
<<<<<<< HEAD
    "collapsed": false,
    "scrolled": false
   },
   "outputs": [],
   "source": [
    "# items to plot\n",
    "a = ['event_', 'resource_', 'severity_', 'log_fea']\n",
    "\n",
    "# build axes\n",
    "mpl_fig = plt.figure()\n",
    "ax1 = mpl_fig.add_subplot(411)\n",
    "ax2 = mpl_fig.add_subplot(412)\n",
    "ax3 = mpl_fig.add_subplot(413)\n",
    "ax4 = mpl_fig.add_subplot(414)\n",
    "axs = [ax1, ax2, ax3, ax4]\n",
    "\n",
    "# iterate over each\n",
    "for cond in [True, False]:\n",
    "    for i, b in enumerate(a):\n",
    "        y = df_all[(df_all.is_train == cond)].filter(regex=b).apply(pd.value_counts).fillna(0).T[0]\n",
    "        y = 100.*(1.0-(y/df_all[(df_all.is_train == cond)].shape[0]))\n",
    "        x = range(1, len(y)+1)\n",
    "        axs[i].bar(x, y, label=a[i])\n",
    "        axs[i].set_ylabel(a[i])\n",
    "py.iplot_mpl(mpl_fig, strip_style=True)"
=======
    "collapsed": false
   },
   "outputs": [],
   "source": [
    "# save to hdf5 file\n",
    "hdf = pd.HDFStore(hdf_file)\n",
    "hdf.put('df_frank', df_frank)\n",
    "hdf.close()\n",
    "call([\"lrztar\", \"-zf\", hdf_file])"
>>>>>>> 9f47264f3074ab180144dc57fdc34786e3b4a7e5
   ]
  },
  {
   "cell_type": "markdown",
   "metadata": {},
   "source": [
<<<<<<< HEAD
    "Distributions looks similar, so train will cv w/ test. Any structure in sequence of ID's?"
   ]
  },
  {
   "cell_type": "markdown",
   "metadata": {
    "heading_collapsed": true
   },
   "source": [
    "## Sequencing"
=======
    "### Weights"
   ]
  },
  {
   "cell_type": "code",
   "execution_count": null,
   "metadata": {
    "collapsed": false
   },
   "outputs": [],
   "source": [
    "from sklearn.svm import LinearSVC\n",
    "X = df_train.copy().drop(drop, 1)\n",
    "cols = X.columns\n",
    "y = df_train.fault_severity\n",
    "clf = LinearSVC(C=0.3, penalty=\"l1\", dual=False)\n",
    "selector = feature_selection.SelectFromModel(clf, threshold=0.50)\n",
    "selector.fit(X, y)"
>>>>>>> 9f47264f3074ab180144dc57fdc34786e3b4a7e5
   ]
  },
  {
   "cell_type": "code",
   "execution_count": null,
   "metadata": {
<<<<<<< HEAD
    "collapsed": false
   },
   "outputs": [],
   "source": [
    "fault = df_all[(df_all.is_train == True)].fault_severity.astype(float)\n",
    "n = len(fault)\n",
    "plt.bar(np.arange(n), fault)\n",
    "plt.show()"
   ]
  },
  {
   "cell_type": "code",
   "execution_count": null,
   "metadata": {
    "collapsed": false
   },
   "outputs": [],
   "source": [
    "loc = df_train.location.astype(float)\n",
    "plt.bar(np.arange(n), loc)\n",
    "plt.show()"
=======
    "collapsed": false,
    "scrolled": true
   },
   "outputs": [],
   "source": [
    "print selector.transform(X).shape[1]\n",
    "imp_fea = cols[selector.get_support(indices=True)].tolist()"
   ]
  },
  {
   "cell_type": "markdown",
   "metadata": {
    "heading_collapsed": true
   },
   "source": [
    "## Construction"
   ]
  },
  {
   "cell_type": "markdown",
   "metadata": {
    "heading_collapsed": true
   },
   "source": [
    "### Dimension Reduction"
>>>>>>> 9f47264f3074ab180144dc57fdc34786e3b4a7e5
   ]
  },
  {
   "cell_type": "markdown",
   "metadata": {},
   "source": [
<<<<<<< HEAD
    "Both look like noise to me, gonna leave it for now. What about correlations among the various codes?"
=======
    "The correlation matricies show there are redundant values. How many components in the full dataset to preserve? The eigenvalues in SVD should help determine what attributes are valuable. Data is sparse matrix of binary and multiclass values, options for analysis:\n",
    "* [Single value decomposition and Principal component analysis](http://blog.applied.ai/visualising-high-dimensional-data/)\n",
    "* [Kernel PCA](http://sebastianraschka.com/Articles/2014_kernel_pca.html)\n",
    "* [Locally Linear Embedding](http://scikit-learn.org/stable/auto_examples/manifold/plot_swissroll.html)\n",
    "* [t-Distributed Stochastic Neighbor Embedding](https://www.oreilly.com/learning/an-illustrated-introduction-to-the-t-sne-algorithm)"
>>>>>>> 9f47264f3074ab180144dc57fdc34786e3b4a7e5
   ]
  },
  {
   "cell_type": "markdown",
   "metadata": {
    "heading_collapsed": true
   },
   "source": [
<<<<<<< HEAD
    "## Correlations"
=======
    "#### SVD"
>>>>>>> 9f47264f3074ab180144dc57fdc34786e3b4a7e5
   ]
  },
  {
   "cell_type": "code",
   "execution_count": null,
   "metadata": {
<<<<<<< HEAD
    "collapsed": false,
    "scrolled": false
   },
   "outputs": [],
   "source": [
    "a = ['severity_type', 'event_type', 'resource_type']#, 'log_feature']\n",
    "for b in a:\n",
    "\n",
    "    # correlation matrix\n",
    "    c = df_all.filter(regex=b).copy()\n",
    "    corr = c.corr(min_periods=len(c.columns)/10)\n",
    "\n",
    "    # colormap\n",
    "    cmap = sns.light_palette(\"navy\", as_cmap=True, reverse=True)\n",
    "    \n",
    "    # clustered heatmap of distances w/o mask\n",
    "    # dist 0 --> close, 1 --> distant\n",
    "    dsim = 1.0-np.abs(corr)\n",
    "    \n",
    "    # find degenerate params\n",
    "    mask = np.ones(dsim.shape,dtype='bool')\n",
    "    mask[np.triu_indices(len(dsim))] = False\n",
    "    x = ((dsim < 0.2) & mask).values.nonzero()\n",
    "    a = zip(x[0], x[1])\n",
    "    for x, y in a:\n",
    "        print dsim.index[x], dsim.columns[y]\n",
    "\n",
    "    # plot matrix\n",
    "    if len(dsim) > 10:\n",
    "        annot=False\n",
    "    else:\n",
    "        annot=True\n",
    "    plt.figure(figsize=(15, 12))\n",
    "    g = sns.clustermap(data=dsim,\n",
    "                       method='complete',\n",
    "                       metric='correlation',\n",
    "                       cmap=cmap, linewidths=0.5, vmin=0.0, vmax = 1.0,\n",
    "                       annot=annot, fmt='.2f', annot_kws={'size':'10'})\n",
    "    plt.setp(g.ax_heatmap.yaxis.get_majorticklabels(), rotation=0)"
=======
    "collapsed": false
   },
   "outputs": [],
   "source": [
    "# get rid of the cols that I suspect are not important\n",
    "X = df_all.copy().drop(drop, 1)\n",
    "\n",
    "# orig num comps\n",
    "ncomps = X.shape[1] - 1\n",
    "\n",
    "# run svd\n",
    "from sklearn.decomposition import TruncatedSVD\n",
    "svd = TruncatedSVD(n_components=ncomps)\n",
    "svd_fit = svd.fit(X)\n",
    "\n",
    "# print out variance ranges\n",
    "for i in range(0, X.shape[1], 20):\n",
    "    svar = svd_fit.explained_variance_ratio_.cumsum()[i]\n",
    "    if svar >= 0.95:\n",
    "        print('Variance preserved at {:} components == {:.1%}'.format(i, svar))\n",
    "\n",
    "# plot result        \n",
    "ax = pd.Series(svd_fit.explained_variance_ratio_.cumsum()).plot(kind='line')"
   ]
  },
  {
   "cell_type": "markdown",
   "metadata": {},
   "source": [
    "At 60 components 98% of variance is preserved, so try keeping just those in a new df."
>>>>>>> 9f47264f3074ab180144dc57fdc34786e3b4a7e5
   ]
  },
  {
   "cell_type": "code",
   "execution_count": null,
   "metadata": {
    "collapsed": true
   },
   "outputs": [],
   "source": [
<<<<<<< HEAD
    "# log_feature specific\n",
    "c = df_all.filter(regex='log_feature').copy()\n",
    "log_corr = c.corr(min_periods=len(c.columns)/10)\n",
    "log_dsim = 1.0-np.abs(log_corr)"
=======
    "# transform X\n",
    "ncomps = 60\n",
    "X_svd = TruncatedSVD(n_components=ncomps).fit_transform(X)\n",
    "\n",
    "# save svd to df and add back dropped cols\n",
    "df_svd = pd.DataFrame(X_svd, columns=['svd{}'.format(c) for c in range(ncomps)], index=df_all.index)\n",
    "for c in drop:\n",
    "    df_svd[c] = df_all[c]\n",
    "\n",
    "# save col names for easy filter later\n",
    "svdcols = [c for c in df_svd.columns if c[:3] == 'svd']\n",
    "\n",
    "# check size\n",
    "assert(df_svd.shape[0] == df_all.shape[0])"
>>>>>>> 9f47264f3074ab180144dc57fdc34786e3b4a7e5
   ]
  },
  {
   "cell_type": "code",
   "execution_count": null,
   "metadata": {
<<<<<<< HEAD
    "collapsed": false,
    "scrolled": false
   },
   "outputs": [],
   "source": [
    "cmap = sns.light_palette(\"navy\", as_cmap=True, reverse=True)\n",
    "g = sns.clustermap(data=log_dsim,\n",
    "                   method='complete',\n",
    "                   metric='correlation',\n",
    "                   cmap=cmap,\n",
    "                   xticklabels=False, yticklabels=False,\n",
    "                   linewidths=0.0,\n",
    "                   vmin=0.0,\n",
    "                   vmax = 1.0)"
   ]
  },
  {
   "cell_type": "markdown",
   "metadata": {},
   "source": [
    "The serverity types are mostly anti-correlated except type 1 and 2.\n",
    "\n",
    "There is interesting structure in the resource and event types. Makes me more curious about how these events are networked, i.e. communicating to each other? Build out as network problem? Can't: id and loc are 1:1 so the only connections will be among events that are the same, in that they have the same coding across all types. I don't see that as informative to a model.\n",
    "\n",
    "Log features are also clustered.\n",
    "\n",
    "**But, this is clearly a well-defined classification problem.**"
=======
    "collapsed": false
   },
   "outputs": [],
   "source": [
    "# save to hdf5 file\n",
    "hdf = pd.HDFStore(hdf_file)\n",
    "hdf.put('df_svd', df_svd)\n",
    "hdf.close()\n",
    "call([\"lrztar\", \"-zf\", hdf_file])"
>>>>>>> 9f47264f3074ab180144dc57fdc34786e3b4a7e5
   ]
  },
  {
   "cell_type": "markdown",
   "metadata": {
    "heading_collapsed": true
   },
   "source": [
<<<<<<< HEAD
    "# Baseline Models"
=======
    "#### Linear PCA"
>>>>>>> 9f47264f3074ab180144dc57fdc34786e3b4a7e5
   ]
  },
  {
   "cell_type": "code",
<<<<<<< HEAD
   "execution_count": 13,
   "metadata": {
    "collapsed": false
   },
   "outputs": [
    {
     "name": "stdout",
     "output_type": "stream",
     "text": [
      "Random 0.492209727679\n",
      "DecTree 0.708578037387 +/- 0.00453391681256\n",
      "Bagging 0.731473003559 +/- 0.00649180683277\n",
      "RandFor 0.743939498292 +/- 0.00803920433022\n"
     ]
    }
   ],
   "source": [
    "# train data\n",
    "X_train = df_all[(df_all.is_train==True)].copy().drop(attribute_drop, 1)\n",
    "xcols   = X_train.columns\n",
    "X_train = X_train.values\n",
    "y_train = df_all[(df_all.is_train==True)].fault_severity.values\n",
    "\n",
    "# random test, should be close to 50%\n",
    "pred_rand = np.random.choice(y_train, len(y_train))\n",
    "print 'Random', metrics.accuracy_score(y_train, pred_rand)\n",
    "\n",
    "# couple models\n",
    "from sklearn.tree import DecisionTreeClassifier as DT\n",
    "from sklearn.ensemble import BaggingClassifier as BC\n",
    "from sklearn.ensemble import RandomForestClassifier as RF\n",
    "\n",
    "# classifiers\n",
    "clfs = []\n",
    "clfs.append(('DecTree', DT(max_depth=30)))\n",
    "clfs.append(('Bagging', BC(n_estimators=100, n_jobs=-1)))\n",
    "clfs.append(('RandFor', RF(n_estimators=3000, n_jobs=-1)))\n",
    "\n",
    "# score each on cv\n",
    "for clf in clfs:\n",
    "    scores = cross_validation.cross_val_score(clf[1], X_train, y_train, cv=5)\n",
    "    print clf[0], scores.mean(), '+/-', scores.std()"
=======
   "execution_count": null,
   "metadata": {
    "collapsed": false,
    "scrolled": true
   },
   "outputs": [],
   "source": [
    "# get rid of the cols that I suspect are not important\n",
    "X = df_all.copy().drop(drop, 1)\n",
    "\n",
    "# orig num comps\n",
    "ncomps = X.shape[1] - 1\n",
    "\n",
    "# run pca\n",
    "from sklearn.decomposition import PCA, KernelPCA\n",
    "pca = PCA(n_components=ncomps, whiten=True)\n",
    "pca_fit = pca.fit(X)\n",
    "\n",
    "# plot result        \n",
    "ax = pd.Series(pca_fit.explained_variance_ratio_.cumsum()).plot(kind='line')"
>>>>>>> 9f47264f3074ab180144dc57fdc34786e3b4a7e5
   ]
  },
  {
   "cell_type": "code",
<<<<<<< HEAD
   "execution_count": 19,
   "metadata": {
    "collapsed": false
   },
   "outputs": [
    {
     "data": {
      "text/plain": [
       "0.23289458747262803"
      ]
     },
     "execution_count": 19,
     "metadata": {},
     "output_type": "execute_result"
    }
   ],
   "source": [
    "# fit a model\n",
    "clf = clfs[1][1]\n",
    "clf.fit(X_train, y_train)\n",
    "y_pred = clf.predict_proba(X_train)\n",
    "kscore(y_pred, y_train)"
=======
   "execution_count": null,
   "metadata": {
    "collapsed": false
   },
   "outputs": [],
   "source": [
    "# transform X\n",
    "ncomps = 2\n",
    "X_pca = PCA(n_components=ncomps, whiten=True).fit_transform(X)\n",
    "\n",
    "# check transform\n",
    "print \"Mean: \", np.round(X_pca.mean(axis=0), decimals=5)\n",
    "print \"Stdv: \", np.round(X_pca.std(axis=0), decimals=5)\n",
    "print \"Corr: \", np.round(np.corrcoef(X_pca.T), decimals=5)\n",
    "\n",
    "# save pca to df and add back dropped cols\n",
    "df_pca = pd.DataFrame(X_pca,\n",
    "                      columns=['pca{}'.format(c) for c in range(ncomps)],\n",
    "                      index=df_all.index)\n",
    "for c in drop:\n",
    "    df_pca[c] = df_all[c]\n",
    "\n",
    "# save col names for easy filter later\n",
    "pcacols = [c for c in df_pca.columns if c[:3] == 'pca']\n",
    "\n",
    "# check size\n",
    "assert(df_pca.shape[0] == df_all.shape[0])"
>>>>>>> 9f47264f3074ab180144dc57fdc34786e3b4a7e5
   ]
  },
  {
   "cell_type": "code",
<<<<<<< HEAD
   "execution_count": 24,
   "metadata": {
    "collapsed": false
   },
   "outputs": [
    {
     "data": {
      "text/plain": [
       "['fault_severity', 'id', 'location', 'is_train']"
      ]
     },
     "execution_count": 24,
     "metadata": {},
     "output_type": "execute_result"
    }
   ],
   "source": [
    "attribute_drop"
=======
   "execution_count": null,
   "metadata": {
    "collapsed": false
   },
   "outputs": [],
   "source": [
    "g = sns.lmplot('pca0', 'pca1',\n",
    "               data=df_pca,\n",
    "               fit_reg=False,\n",
    "               col=\"fault_severity\")"
>>>>>>> 9f47264f3074ab180144dc57fdc34786e3b4a7e5
   ]
  },
  {
   "cell_type": "code",
<<<<<<< HEAD
   "execution_count": 23,
   "metadata": {
    "collapsed": false
   },
   "outputs": [
    {
     "ename": "ValueError",
     "evalue": "labels ['fault_severity'] not contained in axis",
     "output_type": "error",
     "traceback": [
      "\u001b[0;31m---------------------------------------------------------------------------\u001b[0m",
      "\u001b[0;31mValueError\u001b[0m                                Traceback (most recent call last)",
      "\u001b[0;32m<ipython-input-23-2b6ff9091a5d>\u001b[0m in \u001b[0;36m<module>\u001b[0;34m()\u001b[0m\n\u001b[0;32m----> 1\u001b[0;31m \u001b[0mX_test\u001b[0m \u001b[0;34m=\u001b[0m \u001b[0mdf_test\u001b[0m\u001b[0;34m.\u001b[0m\u001b[0mcopy\u001b[0m\u001b[0;34m(\u001b[0m\u001b[0;34m)\u001b[0m\u001b[0;34m.\u001b[0m\u001b[0mdrop\u001b[0m\u001b[0;34m(\u001b[0m\u001b[0mattribute_drop\u001b[0m\u001b[0;34m,\u001b[0m \u001b[0;36m1\u001b[0m\u001b[0;34m)\u001b[0m\u001b[0;34m.\u001b[0m\u001b[0mvalues\u001b[0m\u001b[0;34m\u001b[0m\u001b[0m\n\u001b[0m\u001b[1;32m      2\u001b[0m \u001b[0mids\u001b[0m \u001b[0;34m=\u001b[0m \u001b[0mdf_test\u001b[0m\u001b[0;34m.\u001b[0m\u001b[0mid\u001b[0m\u001b[0;34m.\u001b[0m\u001b[0mvalues\u001b[0m\u001b[0;34m\u001b[0m\u001b[0m\n\u001b[1;32m      3\u001b[0m \u001b[0mprob\u001b[0m \u001b[0;34m=\u001b[0m \u001b[0mclf\u001b[0m\u001b[0;34m.\u001b[0m\u001b[0mpredict_proba\u001b[0m\u001b[0;34m(\u001b[0m\u001b[0mX_test\u001b[0m\u001b[0;34m)\u001b[0m\u001b[0;34m\u001b[0m\u001b[0m\n\u001b[1;32m      4\u001b[0m \u001b[0;34m\u001b[0m\u001b[0m\n\u001b[1;32m      5\u001b[0m df_result = pd.DataFrame({\n",
      "\u001b[0;32m/usr/local/lib/python2.7/site-packages/pandas/core/generic.pyc\u001b[0m in \u001b[0;36mdrop\u001b[0;34m(self, labels, axis, level, inplace, errors)\u001b[0m\n\u001b[1;32m   1614\u001b[0m                 \u001b[0mnew_axis\u001b[0m \u001b[0;34m=\u001b[0m \u001b[0maxis\u001b[0m\u001b[0;34m.\u001b[0m\u001b[0mdrop\u001b[0m\u001b[0;34m(\u001b[0m\u001b[0mlabels\u001b[0m\u001b[0;34m,\u001b[0m \u001b[0mlevel\u001b[0m\u001b[0;34m=\u001b[0m\u001b[0mlevel\u001b[0m\u001b[0;34m,\u001b[0m \u001b[0merrors\u001b[0m\u001b[0;34m=\u001b[0m\u001b[0merrors\u001b[0m\u001b[0;34m)\u001b[0m\u001b[0;34m\u001b[0m\u001b[0m\n\u001b[1;32m   1615\u001b[0m             \u001b[0;32melse\u001b[0m\u001b[0;34m:\u001b[0m\u001b[0;34m\u001b[0m\u001b[0m\n\u001b[0;32m-> 1616\u001b[0;31m                 \u001b[0mnew_axis\u001b[0m \u001b[0;34m=\u001b[0m \u001b[0maxis\u001b[0m\u001b[0;34m.\u001b[0m\u001b[0mdrop\u001b[0m\u001b[0;34m(\u001b[0m\u001b[0mlabels\u001b[0m\u001b[0;34m,\u001b[0m \u001b[0merrors\u001b[0m\u001b[0;34m=\u001b[0m\u001b[0merrors\u001b[0m\u001b[0;34m)\u001b[0m\u001b[0;34m\u001b[0m\u001b[0m\n\u001b[0m\u001b[1;32m   1617\u001b[0m             \u001b[0mdropped\u001b[0m \u001b[0;34m=\u001b[0m \u001b[0mself\u001b[0m\u001b[0;34m.\u001b[0m\u001b[0mreindex\u001b[0m\u001b[0;34m(\u001b[0m\u001b[0;34m**\u001b[0m\u001b[0;34m{\u001b[0m\u001b[0maxis_name\u001b[0m\u001b[0;34m:\u001b[0m \u001b[0mnew_axis\u001b[0m\u001b[0;34m}\u001b[0m\u001b[0;34m)\u001b[0m\u001b[0;34m\u001b[0m\u001b[0m\n\u001b[1;32m   1618\u001b[0m             \u001b[0;32mtry\u001b[0m\u001b[0;34m:\u001b[0m\u001b[0;34m\u001b[0m\u001b[0m\n",
      "\u001b[0;32m/usr/local/lib/python2.7/site-packages/pandas/core/index.pyc\u001b[0m in \u001b[0;36mdrop\u001b[0;34m(self, labels, errors)\u001b[0m\n\u001b[1;32m   2734\u001b[0m         \u001b[0;32mif\u001b[0m \u001b[0mmask\u001b[0m\u001b[0;34m.\u001b[0m\u001b[0many\u001b[0m\u001b[0;34m(\u001b[0m\u001b[0;34m)\u001b[0m\u001b[0;34m:\u001b[0m\u001b[0;34m\u001b[0m\u001b[0m\n\u001b[1;32m   2735\u001b[0m             \u001b[0;32mif\u001b[0m \u001b[0merrors\u001b[0m \u001b[0;34m!=\u001b[0m \u001b[0;34m'ignore'\u001b[0m\u001b[0;34m:\u001b[0m\u001b[0;34m\u001b[0m\u001b[0m\n\u001b[0;32m-> 2736\u001b[0;31m                 \u001b[0;32mraise\u001b[0m \u001b[0mValueError\u001b[0m\u001b[0;34m(\u001b[0m\u001b[0;34m'labels %s not contained in axis'\u001b[0m \u001b[0;34m%\u001b[0m \u001b[0mlabels\u001b[0m\u001b[0;34m[\u001b[0m\u001b[0mmask\u001b[0m\u001b[0;34m]\u001b[0m\u001b[0;34m)\u001b[0m\u001b[0;34m\u001b[0m\u001b[0m\n\u001b[0m\u001b[1;32m   2737\u001b[0m             \u001b[0mindexer\u001b[0m \u001b[0;34m=\u001b[0m \u001b[0mindexer\u001b[0m\u001b[0;34m[\u001b[0m\u001b[0;34m~\u001b[0m\u001b[0mmask\u001b[0m\u001b[0;34m]\u001b[0m\u001b[0;34m\u001b[0m\u001b[0m\n\u001b[1;32m   2738\u001b[0m         \u001b[0;32mreturn\u001b[0m \u001b[0mself\u001b[0m\u001b[0;34m.\u001b[0m\u001b[0mdelete\u001b[0m\u001b[0;34m(\u001b[0m\u001b[0mindexer\u001b[0m\u001b[0;34m)\u001b[0m\u001b[0;34m\u001b[0m\u001b[0m\n",
      "\u001b[0;31mValueError\u001b[0m: labels ['fault_severity'] not contained in axis"
     ]
    }
   ],
   "source": [
    "X_test = df_test.copy().drop(attribute_drop, 1).values\n",
    "ids = df_test.id.values\n",
    "prob = clf.predict_proba(X_test)\n",
    "\n",
    "df_result = pd.DataFrame({\n",
    "        'id': ids,\n",
    "        'predict_0': prob[:, 0],\n",
    "        'predict_1': prob[:, 1],\n",
    "        'predict_2': prob[:, 2]})\n",
    "df_result.to_csv('first_submission.csv', index=False)"
=======
   "execution_count": null,
   "metadata": {
    "collapsed": false
   },
   "outputs": [],
   "source": [
    "# save to hdf5 file\n",
    "hdf = pd.HDFStore(hdf_file)\n",
    "hdf.put('df_pca', df_pca)\n",
    "hdf.close()\n",
    "call([\"lrztar\", \"-zf\", hdf_file])"
>>>>>>> 9f47264f3074ab180144dc57fdc34786e3b4a7e5
   ]
  },
  {
   "cell_type": "markdown",
<<<<<<< HEAD
   "metadata": {
    "heading_collapsed": true
   },
   "source": [
    "# Feature Engineering"
=======
   "metadata": {},
   "source": [
    "Doesn't look like linearly separable data (as exposed in correlation tasks above). Need to try kernel PCA to remove the nonlinearity."
>>>>>>> 9f47264f3074ab180144dc57fdc34786e3b4a7e5
   ]
  },
  {
   "cell_type": "markdown",
<<<<<<< HEAD
   "metadata": {},
   "source": [
    "* Data has complex multi-dimensional structure that ML algos know how to find and exploit to make decisions\n",
    "* What's not exposed to the models?\n",
    "    * Events are too dense or too complex for the algo to find. Fix == dim reduction (PCA or SVD)\n",
    "    * How the various events are communicating. Fix == clustering\n",
    "    * There is more attribute aggregation/creation needed. Fix == hyperattributes\n",
    "    * Time and location dependance of the events. Fix == ???\n",
    "\n",
    "* Remove correlated features\n",
    "* Remove features using statistical tests\n",
    "* Try pair-wise feature interactions, e.g. a*b, a-b, a+b, a/b\n",
    "* Try feature transformations, e.g. sqrt(a), log(a), abs(a)"
   ]
  },
  {
   "cell_type": "markdown",
   "metadata": {
    "heading_collapsed": true
   },
   "source": [
    "## Importance"
=======
   "metadata": {
    "heading_collapsed": true
   },
   "source": [
    "#### Kernel PCA"
   ]
  },
  {
   "cell_type": "code",
   "execution_count": null,
   "metadata": {
    "collapsed": true
   },
   "outputs": [],
   "source": [
    "# transform X\n",
    "X_kpca = KernelPCA(n_components=2, kernel=\"rbf\", gamma=20).fit_transform(X)"
>>>>>>> 9f47264f3074ab180144dc57fdc34786e3b4a7e5
   ]
  },
  {
   "cell_type": "code",
   "execution_count": null,
   "metadata": {
    "collapsed": false
   },
   "outputs": [],
   "source": [
<<<<<<< HEAD
    "# train data\n",
    "X_train = df_all[(df_all.is_train==True)].copy().drop(drop, 1)\n",
    "xcols   = X_train.columns\n",
    "X_train = X_train.values\n",
    "y_train = df_all[(df_all.is_train==True)].fault_severity.values\n",
    "\n",
    "# simple rand forest\n",
    "from sklearn.ensemble import RandomForestClassifier\n",
    "clf = RandomForestClassifier(n_estimators=3000, n_jobs=-1)\n",
    "scores = cross_validation.cross_val_score(clf, X_train, y_train, cv=15, n_jobs=-1)\n",
    "print scores.mean(), '+/-', scores.std()\n",
    "\n",
    "# top ten features\n",
    "clf = pipeline.Pipeline([('scaler', preprocessing.StandardScaler()), ('clf', clf)])\n",
    "clf.fit(X_train, y_train)\n",
    "fea_impt = zip(xcols, (clf.feature_importances_ * 100.0).astype(int))\n",
    "sorted(fea_impt, key=lambda x: -x[1])[0:10]"
   ]
  },
  {
   "cell_type": "markdown",
   "metadata": {
    "heading_collapsed": true
   },
   "source": [
    "## Extraction"
   ]
  },
  {
   "cell_type": "markdown",
   "metadata": {
    "heading_collapsed": true
   },
   "source": [
    "## Selection"
=======
    "# save pca to df and add back dropped cols\n",
    "df_kpca = pd.DataFrame(X_kpca,\n",
    "                       columns=['kpca{}'.format(c) for c in range(ncomps)],\n",
    "                       index=df_all.index)\n",
    "\n",
    "for c in drop:\n",
    "    df_kpca[c] = df_all[c]\n",
    "\n",
    "# save col names for easy filter later\n",
    "kpcacols = [c for c in df_kpca.columns if c[:4] == 'kpca']\n",
    "\n",
    "# check size\n",
    "assert(df_kpca.shape[0] == df_all.shape[0])"
   ]
  },
  {
   "cell_type": "code",
   "execution_count": null,
   "metadata": {
    "collapsed": false
   },
   "outputs": [],
   "source": [
    "g = sns.lmplot('kpca0', 'kpca1',\n",
    "               data=df_kpca,\n",
    "               fit_reg=False,\n",
    "               col=\"fault_severity\")"
   ]
  },
  {
   "cell_type": "code",
   "execution_count": null,
   "metadata": {
    "collapsed": false
   },
   "outputs": [],
   "source": [
    "# save to hdf5 file\n",
    "hdf = pd.HDFStore(hdf_file)\n",
    "hdf.put('df_kpca', df_kpca)\n",
    "hdf.close()\n",
    "call([\"lrztar\", \"-zf\", hdf_file])"
>>>>>>> 9f47264f3074ab180144dc57fdc34786e3b4a7e5
   ]
  },
  {
   "cell_type": "markdown",
   "metadata": {
    "heading_collapsed": true
   },
   "source": [
<<<<<<< HEAD
    "### Univariate"
=======
    "#### LLE"
>>>>>>> 9f47264f3074ab180144dc57fdc34786e3b4a7e5
   ]
  },
  {
   "cell_type": "code",
   "execution_count": null,
   "metadata": {
    "collapsed": false
   },
   "outputs": [],
   "source": [
<<<<<<< HEAD
    "from sklearn.svm import LinearSVC\n",
    "from sklearn.feature_selection import SelectPercentile, f_classif\n",
    "\n",
    "X = df_train.copy().drop(drop, 1)\n",
    "cols = X.columns\n",
    "X = X.values\n",
    "y = df_train.fault_severity.values.astype(int)\n",
    "\n",
    "mpl_fig = plt.figure(1, figsize=(11,8))\n",
    "plt.clf()\n",
    "\n",
    "X_indices = np.arange(X.shape[-1])\n",
    "\n",
    "# Univariate feature selection with F-test for feature scoring\n",
    "selector = SelectPercentile(f_classif, percentile=50)\n",
    "selector.fit(X, y)\n",
    "\n",
    "# get scores\n",
    "scores = -np.log10(np.array(selector.pvalues_))\n",
    "scores[np.isnan(scores)] = 0\n",
    "scores /= scores.max()\n",
    "plt.bar(X_indices - .45, scores,\n",
    "        width=.2, label=r'Univariate score ($-Log(p_{value})$)', color='g')\n",
    "\n",
    "# Compare to the weights of an SVM\n",
    "clf = LinearSVC(C=0.3, penalty=\"l1\", dual=False)\n",
    "clf.fit(X, y)\n",
    "\n",
    "svm_weights = (clf.coef_ ** 2).sum(axis=0)\n",
    "svm_weights /= svm_weights.max()\n",
    "\n",
    "plt.bar(X_indices - .25, svm_weights,\n",
    "        width=.2, label='SVM weight', color='r')\n",
    "\n",
    "clf_selected = LinearSVC(C=0.3, penalty=\"l1\", dual=False)\n",
    "clf_selected.fit(selector.transform(X), y)\n",
    "\n",
    "svm_weights_selected = (clf_selected.coef_ ** 2).sum(axis=0)\n",
    "svm_weights_selected /= svm_weights_selected.max()\n",
    "\n",
    "plt.bar(X_indices[selector.get_support()] - .05, svm_weights_selected,\n",
    "        width=.2, label='SVM weights after selection', color='b')\n",
    "\n",
    "\n",
    "plt.xlabel('Supported feature number')\n",
    "plt.yticks(())\n",
    "plt.axis('tight')\n",
    "plt.legend(loc='upper right')\n",
    "plt.show()"
=======
    "from sklearn import manifold\n",
    "X_lle, err = manifold.locally_linear_embedding(X, n_neighbors=12,\n",
    "                                             n_components=2)\n",
    "print(\"Done. Reconstruction error: %g\" % err)"
>>>>>>> 9f47264f3074ab180144dc57fdc34786e3b4a7e5
   ]
  },
  {
   "cell_type": "code",
   "execution_count": null,
   "metadata": {
<<<<<<< HEAD
    "collapsed": false
   },
   "outputs": [],
   "source": [
    "print selector.transform(X).shape[1]\n",
    "uni_fea = Xcols[selector.get_support(indices=True)].tolist()"
=======
    "collapsed": true
   },
   "outputs": [],
   "source": [
    "# save pca to df and add back dropped cols\n",
    "df_lle = pd.DataFrame(X_lle,\n",
    "                      columns=['lle{}'.format(c) for c in range(ncomps)],\n",
    "                      index=df_all.index)\n",
    "for c in drop:\n",
    "    df_lle[c] = df_all[c]\n",
    "\n",
    "# save col names for easy filter later\n",
    "llecols = [c for c in df_lle.columns if c[:3] == 'lle']\n",
    "\n",
    "# check size\n",
    "assert(df_lle.shape[0] == df_all.shape[0])"
>>>>>>> 9f47264f3074ab180144dc57fdc34786e3b4a7e5
   ]
  },
  {
   "cell_type": "code",
   "execution_count": null,
   "metadata": {
    "collapsed": false
   },
   "outputs": [],
   "source": [
<<<<<<< HEAD
    "# get index of max value\n",
    "idx = X_indices[selector.get_support()][svm_weights_selected.argmax()]\n",
    "\n",
    "# get column name\n",
    "Xcols[idx]"
   ]
  },
  {
   "cell_type": "markdown",
   "metadata": {},
   "source": [
    "Well no shit, it's log_feature_203 again. Check the baseline models section, it showed up in the decision tree feature importance list as #1 and being almost 2x more important than #2."
=======
    "g = sns.lmplot('lle0', 'lle1',\n",
    "               data=df_lle,\n",
    "               fit_reg=False,\n",
    "               col=\"fault_severity\")"
   ]
  },
  {
   "cell_type": "code",
   "execution_count": null,
   "metadata": {
    "collapsed": false
   },
   "outputs": [],
   "source": [
    "# save to hdf5 file\n",
    "hdf = pd.HDFStore(hdf_file)\n",
    "hdf.put('df_lle', df_lle)\n",
    "hdf.close()\n",
    "call([\"lrztar\", \"-zf\", hdf_file])"
>>>>>>> 9f47264f3074ab180144dc57fdc34786e3b4a7e5
   ]
  },
  {
   "cell_type": "markdown",
   "metadata": {
    "heading_collapsed": true
   },
   "source": [
<<<<<<< HEAD
    "### Recursive"
=======
    "#### t-SNE"
>>>>>>> 9f47264f3074ab180144dc57fdc34786e3b4a7e5
   ]
  },
  {
   "cell_type": "markdown",
   "metadata": {},
   "source": [
<<<<<<< HEAD
    "Want to know what features may be the most important before any transformation. Try recursive feature elimination with cross-validation (RFECV). For multiclass, stratified K-fold used by default and shuffle is True."
=======
    "Tried SVD and KPCA inputs: SVD outperformed any other. Using it as input to t-SNE"
>>>>>>> 9f47264f3074ab180144dc57fdc34786e3b4a7e5
   ]
  },
  {
   "cell_type": "code",
   "execution_count": null,
   "metadata": {
    "collapsed": false
   },
   "outputs": [],
   "source": [
<<<<<<< HEAD
    "from sklearn.feature_selection import RFECV\n",
    "from sklearn.linear_model import LogisticRegression as LR\n",
    "from sklearn.ensemble import RandomForestClassifier as RF\n",
    "from sklearn.linear_model import SGDClassifier as SGD\n",
    "from sklearn.naive_bayes import MultinomialNB as MNB\n",
    "\n",
    "# get training data\n",
    "X = df_all[(df_all.is_train == True)].copy()\n",
    "y = X.fault_severity\n",
    "X.drop(drop, 1, inplace=True)\n",
    "\n",
    "# make df to store results\n",
    "df_frank = pd.DataFrame({'feature':X.columns.values})\n",
    "\n",
    "# create base classifier\n",
    "models =[]\n",
    "models.append(LR(n_jobs=-1))\n",
    "models.append(RF(n_jobs=-1))\n",
    "models.append(SGD(n_jobs=-1))\n",
    "models.append(MNB())\n",
    "\n",
    "# iterate over models\n",
    "for m in models:\n",
    "    mname = str(m).split('(')[0]\n",
    "    rfecv = RFECV(m, cv=3, scoring='accuracy')\n",
    "    rfecv = rfecv.fit(X, y)\n",
    "    print(\"%s Optimal # features: %d\" % (mname, rfecv.n_features_))\n",
    "    c = 'rfecv_'+str(mname[:3])\n",
    "    df_frank[c] = rfecv.ranking_\n",
    "    \n",
    "    # n_features vs cv score\n",
    "    plt.figure()\n",
    "    plt.title(mname)\n",
    "    plt.xlabel(\"# features\")\n",
    "    plt.ylabel(\"CV score\")\n",
    "    plt.plot(range(1, len(rfecv.grid_scores_) + 1), rfecv.grid_scores_)\n",
    "    plt.axvline(rfecv.n_features_, color='r', linestyle='--')\n",
    "    plt.show()"
   ]
  },
  {
   "cell_type": "markdown",
   "metadata": {},
   "source": [
    "MNB is not a good model, nor SGD. Try SVC linear in their place."
=======
    "# build tsne fitter\n",
    "from sklearn.manifold import TSNE\n",
    "#metric = metrics.pairwise.manhattan_distances\n",
    "tsne = TSNE(n_components=2,\n",
    "            #init='pca',\n",
    "            perplexity=50,\n",
    "            #metric=metric,\n",
    "            learning_rate=500,\n",
    "            method='barnes_hut',\n",
    "            verbose=2)\n",
    "\n",
    "# fit training data only\n",
    "Z = tsne.fit_transform(df_svd[svdcols])\n",
    "\n",
    "# save to df\n",
    "df_tsne = pd.DataFrame(Z, columns=['x','y'], index=df_svd.index)\n",
    "for c in drop:\n",
    "    df_tsne[c] = df_svd[c]\n",
    "\n",
    "# check size\n",
    "assert(df_tsne.shape[0] == df_svd.shape[0])"
>>>>>>> 9f47264f3074ab180144dc57fdc34786e3b4a7e5
   ]
  },
  {
   "cell_type": "code",
   "execution_count": null,
   "metadata": {
<<<<<<< HEAD
    "collapsed": false
   },
   "outputs": [],
   "source": [
    "from sklearn.svm import SVC\n",
    "m = SVC(kernel='linear')\n",
    "mname = str(m).split('(')[0]\n",
    "rfecv = RFECV(m, cv=3, scoring='accuracy')\n",
    "rfecv = rfecv.fit(X, y)\n",
    "print(\"%s Optimal # features: %d\" % (mname, rfecv.n_features_))\n",
    "c = 'rfecv_'+str(mname[:3])\n",
    "df_frank[c] = rfecv.ranking_\n",
    "    \n",
    "# n_features vs cv score\n",
    "plt.figure()\n",
    "plt.title(mname)\n",
    "plt.xlabel(\"# features\")\n",
    "plt.ylabel(\"CV score\")\n",
    "plt.plot(range(1, len(rfecv.grid_scores_) + 1), rfecv.grid_scores_)\n",
    "plt.axvline(rfecv.n_features_, color='r', linestyle='--')\n",
    "plt.show()"
=======
    "collapsed": false,
    "scrolled": true
   },
   "outputs": [],
   "source": [
    "# kpca\n",
    "g = sns.lmplot('x', 'y',\n",
    "               data=df_tsne,\n",
    "               fit_reg=False,\n",
    "               col=\"fault_severity\")"
>>>>>>> 9f47264f3074ab180144dc57fdc34786e3b4a7e5
   ]
  },
  {
   "cell_type": "code",
   "execution_count": null,
   "metadata": {
    "collapsed": false
   },
   "outputs": [],
   "source": [
<<<<<<< HEAD
    "# get avg rank and abs rank\n",
    "df_frank['avg_rank'] = df_frank[['rfecv_Log', 'rfecv_Ran', 'rfecv_SVC']].mean(axis=1)\n",
    "df_frank['abs_rank'] = df_frank.avg_rank.rank(method='min')"
   ]
  },
  {
   "cell_type": "code",
   "execution_count": null,
   "metadata": {
    "collapsed": false
   },
   "outputs": [],
   "source": [
    "# save to hdf5 file\n",
    "hdf = pd.HDFStore(hdf_file)\n",
    "hdf.put('df_frank', df_frank)\n",
    "hdf.close()\n",
    "call([\"lrztar\", \"-zf\", hdf_file])"
=======
    "# save to hdf5 file\n",
    "hdf = pd.HDFStore(hdf_file)\n",
    "hdf.put('df_tsne', df_tsne)\n",
    "hdf.close()\n",
    "call([\"lrztar\", \"-zf\", hdf_file])"
   ]
  },
  {
   "cell_type": "markdown",
   "metadata": {
    "heading_collapsed": true
   },
   "source": [
    "### Clustering"
>>>>>>> 9f47264f3074ab180144dc57fdc34786e3b4a7e5
   ]
  },
  {
   "cell_type": "markdown",
   "metadata": {},
   "source": [
<<<<<<< HEAD
    "### Weights"
   ]
  },
  {
   "cell_type": "code",
   "execution_count": null,
   "metadata": {
    "collapsed": false
   },
   "outputs": [],
   "source": [
    "from sklearn.svm import LinearSVC\n",
    "X = df_train.copy().drop(drop, 1)\n",
    "cols = X.columns\n",
    "y = df_train.fault_severity\n",
    "clf = LinearSVC(C=0.3, penalty=\"l1\", dual=False)\n",
    "selector = feature_selection.SelectFromModel(clf, threshold=0.50)\n",
    "selector.fit(X, y)"
=======
    "Clustering may be interesting too: could add cluster membership as a new feature. \n",
    "\n",
    "* [Binary Jaccard similarity matrix fed into hierarchical cluster and then using the top \"nodes\"](http://scikit-learn.org/stable/modules/generated/sklearn.metrics.jaccard_similarity_score.html)\n",
    "* [K-mode/median clustering](https://github.com/nicodv/kmodes)\n",
    "* [Cosine similarities fed into spectral clustering or dbscan](http://stackoverflow.com/questions/30089675/clustering-cosine-similarity-matrix)\n",
    "* Frequent itemset mining"
   ]
  },
  {
   "cell_type": "markdown",
   "metadata": {
    "heading_collapsed": true
   },
   "source": [
    "#### DBScan"
>>>>>>> 9f47264f3074ab180144dc57fdc34786e3b4a7e5
   ]
  },
  {
   "cell_type": "code",
   "execution_count": null,
   "metadata": {
<<<<<<< HEAD
    "collapsed": false,
    "scrolled": true
   },
   "outputs": [],
   "source": [
    "print selector.transform(X).shape[1]\n",
    "imp_fea = cols[selector.get_support(indices=True)].tolist()"
   ]
  },
  {
   "cell_type": "markdown",
   "metadata": {
    "heading_collapsed": true
   },
   "source": [
    "## Construction"
   ]
  },
  {
   "cell_type": "markdown",
   "metadata": {
    "heading_collapsed": true
   },
   "source": [
    "### Dimension Reduction"
   ]
  },
  {
   "cell_type": "markdown",
   "metadata": {},
   "source": [
    "The correlation matricies show there are redundant values. How many components in the full dataset to preserve? The eigenvalues in SVD should help determine what attributes are valuable. Data is sparse matrix of binary and multiclass values, options for analysis:\n",
    "* [Single value decomposition and Principal component analysis](http://blog.applied.ai/visualising-high-dimensional-data/)\n",
    "* [Kernel PCA](http://sebastianraschka.com/Articles/2014_kernel_pca.html)\n",
    "* [Locally Linear Embedding](http://scikit-learn.org/stable/auto_examples/manifold/plot_swissroll.html)\n",
    "* [t-Distributed Stochastic Neighbor Embedding](https://www.oreilly.com/learning/an-illustrated-introduction-to-the-t-sne-algorithm)"
   ]
  },
  {
   "cell_type": "markdown",
   "metadata": {
    "heading_collapsed": true
   },
   "source": [
    "#### SVD"
=======
    "collapsed": false
   },
   "outputs": [],
   "source": [
    "# remove the log_feature features which are scaled volumes\n",
    "ecols = [c for c in df_all.columns if 'log_feature' not in c]\n",
    "X = df_all.copy()[ecols]\n",
    "X = X[(X.is_train == True)].drop(drop, 1)"
   ]
  },
  {
   "cell_type": "code",
   "execution_count": null,
   "metadata": {
    "collapsed": false
   },
   "outputs": [],
   "source": [
    "# base similarity matrix\n",
    "similarity = np.dot(X, X.T)\n",
    "\n",
    "# squared magnitude of preference vectors (number of occurrences)\n",
    "square_mag = np.diag(similarity)\n",
    "\n",
    "# inverse squared magnitude\n",
    "inv_square_mag = 1 / square_mag\n",
    "\n",
    "# if it doesn't occur, set it's inverse magnitude to zero (instead of inf)\n",
    "inv_square_mag[np.isinf(inv_square_mag)] = 0\n",
    "\n",
    "# inverse of the magnitude\n",
    "inv_mag = np.sqrt(inv_square_mag)\n",
    "\n",
    "# cosine similarity\n",
    "cosine = similarity * inv_mag\n",
    "cosine = cosine.T * inv_mag"
   ]
  },
  {
   "cell_type": "code",
   "execution_count": null,
   "metadata": {
    "collapsed": false
   },
   "outputs": [],
   "source": [
    "# find whole factors for matrix\n",
    "factors(cosine.shape[0])"
   ]
  },
  {
   "cell_type": "code",
   "execution_count": null,
   "metadata": {
    "collapsed": false
   },
   "outputs": [],
   "source": [
    "# plot it\n",
    "binning = 11\n",
    "plt.figure(figsize=(14, 11))\n",
    "cmap = sns.light_palette(\"blue\", as_cmap=True)\n",
    "plt.imshow(cosine[::binning, ::binning], interpolation='none', cmap=cmap)"
   ]
  },
  {
   "cell_type": "code",
   "execution_count": null,
   "metadata": {
    "collapsed": true
   },
   "outputs": [],
   "source": [
    "# dbscan expects distances, so need 1-cosine input\n",
    "from sklearn.cluster import DBSCAN\n",
    "dbclust = DBSCAN(min_samples=30, eps=0.6).fit_predict(1.0-cosine)"
>>>>>>> 9f47264f3074ab180144dc57fdc34786e3b4a7e5
   ]
  },
  {
   "cell_type": "code",
   "execution_count": null,
   "metadata": {
    "collapsed": false
   },
   "outputs": [],
   "source": [
<<<<<<< HEAD
    "# get rid of the cols that I suspect are not important\n",
    "X = df_all.copy().drop(drop, 1)\n",
    "\n",
    "# orig num comps\n",
    "ncomps = X.shape[1] - 1\n",
    "\n",
    "# run svd\n",
    "from sklearn.decomposition import TruncatedSVD\n",
    "svd = TruncatedSVD(n_components=ncomps)\n",
    "svd_fit = svd.fit(X)\n",
    "\n",
    "# print out variance ranges\n",
    "for i in range(0, X.shape[1], 20):\n",
    "    svar = svd_fit.explained_variance_ratio_.cumsum()[i]\n",
    "    if svar >= 0.95:\n",
    "        print('Variance preserved at {:} components == {:.1%}'.format(i, svar))\n",
    "\n",
    "# plot result        \n",
    "ax = pd.Series(svd_fit.explained_variance_ratio_.cumsum()).plot(kind='line')"
=======
    "# viz the cluster dist\n",
    "from collections import Counter\n",
    "for i in Counter(dbclust).items():\n",
    "    print i\n",
    "sns.distplot(dbclust, kde=False)"
>>>>>>> 9f47264f3074ab180144dc57fdc34786e3b4a7e5
   ]
  },
  {
   "cell_type": "markdown",
<<<<<<< HEAD
   "metadata": {},
   "source": [
    "At 60 components 98% of variance is preserved, so try keeping just those in a new df."
=======
   "metadata": {
    "heading_collapsed": true
   },
   "source": [
    "#### K-modes"
>>>>>>> 9f47264f3074ab180144dc57fdc34786e3b4a7e5
   ]
  },
  {
   "cell_type": "code",
   "execution_count": null,
   "metadata": {
<<<<<<< HEAD
    "collapsed": true
   },
   "outputs": [],
   "source": [
    "# transform X\n",
    "ncomps = 60\n",
    "X_svd = TruncatedSVD(n_components=ncomps).fit_transform(X)\n",
    "\n",
    "# save svd to df and add back dropped cols\n",
    "df_svd = pd.DataFrame(X_svd, columns=['svd{}'.format(c) for c in range(ncomps)], index=df_all.index)\n",
    "for c in drop:\n",
    "    df_svd[c] = df_all[c]\n",
    "\n",
    "# save col names for easy filter later\n",
    "svdcols = [c for c in df_svd.columns if c[:3] == 'svd']\n",
    "\n",
    "# check size\n",
    "assert(df_svd.shape[0] == df_all.shape[0])"
   ]
  },
  {
   "cell_type": "code",
   "execution_count": null,
   "metadata": {
    "collapsed": false
   },
   "outputs": [],
   "source": [
    "# save to hdf5 file\n",
    "hdf = pd.HDFStore(hdf_file)\n",
    "hdf.put('df_svd', df_svd)\n",
    "hdf.close()\n",
    "call([\"lrztar\", \"-zf\", hdf_file])"
=======
    "collapsed": false
   },
   "outputs": [],
   "source": [
    "from kmodes import kmodes\n",
    "\n",
    "# build the clusters\n",
    "km = kmodes.KModes(n_clusters=22, init='Cao', n_init=5, verbose=1)\n",
    "clusters = km.fit_predict(X)\n",
    "\n",
    "# viz the cluster dist\n",
    "for i in Counter(clusters).items():\n",
    "    print i\n",
    "sns.distplot(clusters, kde=False)"
   ]
  },
  {
   "cell_type": "markdown",
   "metadata": {},
   "source": [
    "That's not a terrible result, it somewhat mimics the tsne result, except for bins 3 and 4, as I don't see any isolated points in tsne, but it's not a 1:1 comparison. Let's see how this performs. First add the cluster assignments to the X matrix."
>>>>>>> 9f47264f3074ab180144dc57fdc34786e3b4a7e5
   ]
  },
  {
   "cell_type": "markdown",
   "metadata": {
    "heading_collapsed": true
   },
   "source": [
<<<<<<< HEAD
    "#### Linear PCA"
=======
    "#### Hierarchical"
   ]
  },
  {
   "cell_type": "markdown",
   "metadata": {},
   "source": [
    "revisit the correlation measures\n",
    "run a hierarch model"
>>>>>>> 9f47264f3074ab180144dc57fdc34786e3b4a7e5
   ]
  },
  {
   "cell_type": "code",
   "execution_count": null,
   "metadata": {
<<<<<<< HEAD
    "collapsed": false,
    "scrolled": true
   },
   "outputs": [],
   "source": [
    "# get rid of the cols that I suspect are not important\n",
    "X = df_all.copy().drop(drop, 1)\n",
    "\n",
    "# orig num comps\n",
    "ncomps = X.shape[1] - 1\n",
    "\n",
    "# run pca\n",
    "from sklearn.decomposition import PCA, KernelPCA\n",
    "pca = PCA(n_components=ncomps, whiten=True)\n",
    "pca_fit = pca.fit(X)\n",
    "\n",
    "# plot result        \n",
    "ax = pd.Series(pca_fit.explained_variance_ratio_.cumsum()).plot(kind='line')"
=======
    "collapsed": true
   },
   "outputs": [],
   "source": [
    "from scipy.spatial.distance import pdist\n",
    "from scipy.cluster.hierarchy import dendrogram, linkage\n",
    "from scipy.cluster.hierarchy import cophenet\n",
    "from scipy.cluster.hierarchy import fcluster\n",
    "\n",
    "# create dist matrix\n",
    "Y = 1.0 - np.abs(df_svd.corr())\n",
    "Z = linkage(Y, 'complete', 'correlation')\n",
    "\n",
    "# check cophenetic coeffs; closer to 1, the better\n",
    "c, coph_dists = cophenet(Z, Y)\n",
    "print c\n",
    "\n",
    "# view dendro\n",
    "dendro = dendrogram(z, labels=Y.columns)\n",
    "plt.show()"
>>>>>>> 9f47264f3074ab180144dc57fdc34786e3b4a7e5
   ]
  },
  {
   "cell_type": "code",
   "execution_count": null,
   "metadata": {
<<<<<<< HEAD
    "collapsed": false
   },
   "outputs": [],
   "source": [
    "# transform X\n",
    "ncomps = 2\n",
    "X_pca = PCA(n_components=ncomps, whiten=True).fit_transform(X)\n",
    "\n",
    "# check transform\n",
    "print \"Mean: \", np.round(X_pca.mean(axis=0), decimals=5)\n",
    "print \"Stdv: \", np.round(X_pca.std(axis=0), decimals=5)\n",
    "print \"Corr: \", np.round(np.corrcoef(X_pca.T), decimals=5)\n",
    "\n",
    "# save pca to df and add back dropped cols\n",
    "df_pca = pd.DataFrame(X_pca,\n",
    "                      columns=['pca{}'.format(c) for c in range(ncomps)],\n",
    "                      index=df_all.index)\n",
    "for c in drop:\n",
    "    df_pca[c] = df_all[c]\n",
    "\n",
    "# save col names for easy filter later\n",
    "pcacols = [c for c in df_pca.columns if c[:3] == 'pca']\n",
    "\n",
    "# check size\n",
    "assert(df_pca.shape[0] == df_all.shape[0])"
=======
    "collapsed": true
   },
   "outputs": [],
   "source": [
    "k = 2\n",
    "clusters = fcluster(Z, k, criterion='maxclust')\n",
    "plt.figure(figsize=(14, 11))\n",
    "plt.scatter(df_svd[:, 0], df_svd[:, 1], c=clusters, cmap='prism')\n",
    "plt.show()"
   ]
  },
  {
   "cell_type": "markdown",
   "metadata": {},
   "source": [
    "Check validity of clusters using permutation tests"
>>>>>>> 9f47264f3074ab180144dc57fdc34786e3b4a7e5
   ]
  },
  {
   "cell_type": "code",
   "execution_count": null,
   "metadata": {
<<<<<<< HEAD
    "collapsed": false
   },
   "outputs": [],
   "source": [
    "g = sns.lmplot('pca0', 'pca1',\n",
    "               data=df_pca,\n",
    "               fit_reg=False,\n",
    "               col=\"fault_severity\")"
=======
    "collapsed": true
   },
   "outputs": [],
   "source": [
    "# create permutation\n",
    "svm = SVC(kernel='linear')\n",
    "cv = StratifiedKFold(y, 2)\n",
    "score, permutation_scores, pvalue = permutation_test_score(\n",
    "    svm, X, y, scoring=\"accuracy\", cv=cv, n_permutations=100, n_jobs=-1)\n",
    "print(\"Classification score %s (pvalue : %s)\" % (score, pvalue))\n",
    "\n",
    "# histo of permu scores\n",
    "plt.hist(permutation_scores, 20, label='Permutation scores')\n",
    "ylim = plt.ylim()\n",
    "plt.plot(2 * [score], ylim, '--g', linewidth=3,\n",
    "         label='Classification Score (pvalue %s)' % pvalue)\n",
    "plt.plot(2 * [1. / n_classes], ylim, '--k', linewidth=3, label='Luck')\n",
    "plt.ylim(ylim)\n",
    "plt.legend()\n",
    "plt.xlabel('Score')\n",
    "plt.show()"
>>>>>>> 9f47264f3074ab180144dc57fdc34786e3b4a7e5
   ]
  },
  {
   "cell_type": "code",
   "execution_count": null,
   "metadata": {
    "collapsed": false
   },
   "outputs": [],
   "source": [
<<<<<<< HEAD
    "# save to hdf5 file\n",
    "hdf = pd.HDFStore(hdf_file)\n",
    "hdf.put('df_pca', df_pca)\n",
    "hdf.close()\n",
    "call([\"lrztar\", \"-zf\", hdf_file])"
   ]
  },
  {
   "cell_type": "markdown",
   "metadata": {},
   "source": [
    "Doesn't look like linearly separable data (as exposed in correlation tasks above). Need to try kernel PCA to remove the nonlinearity."
=======
    "# append cluster membership to the no-location version of X\n",
    "a = np.array(clusters)[np.newaxis]\n",
    "print 'X no loc ', X_nl.shape\n",
    "X_nlc = np.concatenate((X_nl, a.T), axis=1)\n",
    "print 'X no loc+clu ', X_nlc.shape"
>>>>>>> 9f47264f3074ab180144dc57fdc34786e3b4a7e5
   ]
  },
  {
   "cell_type": "markdown",
   "metadata": {
    "heading_collapsed": true
   },
   "source": [
<<<<<<< HEAD
    "#### Kernel PCA"
   ]
  },
  {
   "cell_type": "code",
   "execution_count": null,
   "metadata": {
    "collapsed": true
   },
   "outputs": [],
   "source": [
    "# transform X\n",
    "X_kpca = KernelPCA(n_components=2, kernel=\"rbf\", gamma=20).fit_transform(X)"
=======
    "## Learning"
   ]
  },
  {
   "cell_type": "markdown",
   "metadata": {
    "heading_collapsed": true
   },
   "source": [
    "### Stacking"
>>>>>>> 9f47264f3074ab180144dc57fdc34786e3b4a7e5
   ]
  },
  {
   "cell_type": "code",
   "execution_count": null,
   "metadata": {
<<<<<<< HEAD
    "collapsed": false
   },
   "outputs": [],
   "source": [
    "# save pca to df and add back dropped cols\n",
    "df_kpca = pd.DataFrame(X_kpca,\n",
    "                       columns=['kpca{}'.format(c) for c in range(ncomps)],\n",
    "                       index=df_all.index)\n",
    "\n",
    "for c in drop:\n",
    "    df_kpca[c] = df_all[c]\n",
    "\n",
    "# save col names for easy filter later\n",
    "kpcacols = [c for c in df_kpca.columns if c[:4] == 'kpca']\n",
    "\n",
    "# check size\n",
    "assert(df_kpca.shape[0] == df_all.shape[0])"
   ]
  },
  {
   "cell_type": "code",
   "execution_count": null,
   "metadata": {
    "collapsed": false
   },
   "outputs": [],
   "source": [
    "g = sns.lmplot('kpca0', 'kpca1',\n",
    "               data=df_kpca,\n",
    "               fit_reg=False,\n",
    "               col=\"fault_severity\")"
   ]
  },
  {
   "cell_type": "code",
   "execution_count": null,
   "metadata": {
    "collapsed": false
   },
   "outputs": [],
   "source": [
    "# save to hdf5 file\n",
    "hdf = pd.HDFStore(hdf_file)\n",
    "hdf.put('df_kpca', df_kpca)\n",
    "hdf.close()\n",
    "call([\"lrztar\", \"-zf\", hdf_file])"
=======
    "collapsed": true
   },
   "outputs": [],
   "source": [
    "from sklearn.pipeline import Pipeline, FeatureUnion\n",
    "from sklearn.grid_search import GridSearchCV\n",
    "from sklearn.svm import SVC\n",
    "from sklearn.decomposition import PCA\n",
    "from sklearn.feature_selection import SelectKBest\n",
    "\n",
    "X = \n",
    "y = \n",
    "\n",
    "# pca\n",
    "pca = PCA(n_components=2)\n",
    "\n",
    "# univariate\n",
    "selection = SelectKBest(k=1)\n",
    "\n",
    "# combined estimator\n",
    "combined_features = FeatureUnion([(\"pca\", pca), (\"univ_select\", selection)])\n",
    "\n",
    "# Use combined features to transform dataset:\n",
    "X_features = combined_features.fit(X, y).transform(X)\n",
    "\n",
    "svm = SVC(kernel=\"linear\")\n",
    "\n",
    "# Do grid search over k, n_components and C:\n",
    "pipeline = Pipeline([(\"features\", combined_features), (\"svm\", svm)])\n",
    "param_grid = dict(features__pca__n_components=[1, 2, 3],\n",
    "                  features__univ_select__k=[1, 2],\n",
    "                  svm__C=[0.1, 1, 10])\n",
    "\n",
    "grid_search = GridSearchCV(pipeline, param_grid=param_grid, verbose=10)\n",
    "grid_search.fit(X, y)\n",
    "print(grid_search.best_estimator_)"
   ]
  },
  {
   "cell_type": "markdown",
   "metadata": {
    "heading_collapsed": true
   },
   "source": [
    "# Model Evaluation"
   ]
  },
  {
   "cell_type": "markdown",
   "metadata": {
    "heading_collapsed": true
   },
   "source": [
    "## Lasagne"
>>>>>>> 9f47264f3074ab180144dc57fdc34786e3b4a7e5
   ]
  },
  {
   "cell_type": "markdown",
<<<<<<< HEAD
   "metadata": {
    "heading_collapsed": true
   },
   "source": [
    "#### LLE"
=======
   "metadata": {},
   "source": [
    "* use PCA with NN (2 hidden layers + ReLU + dropout)\n",
    "* shooting for logloss < 0.5"
>>>>>>> 9f47264f3074ab180144dc57fdc34786e3b4a7e5
   ]
  },
  {
   "cell_type": "code",
   "execution_count": null,
   "metadata": {
    "collapsed": false
   },
   "outputs": [],
   "source": [
<<<<<<< HEAD
    "from sklearn import manifold\n",
    "X_lle, err = manifold.locally_linear_embedding(X, n_neighbors=12,\n",
    "                                             n_components=2)\n",
    "print(\"Done. Reconstruction error: %g\" % err)"
=======
    "import lasagne\n",
    "\n",
    "# real train data\n",
    "X = df_all[(df_all.is_train==True)].copy()\n",
    "y = X.fault_severity.values\n",
    "X.drop(drop, 1, inplace=True)\n",
    "X = X.as_matrix()\n",
    "\n",
    "# theano format\n",
    "X = X.astype(thno.config.floatX)\n",
    "y = y.astype('int32')"
>>>>>>> 9f47264f3074ab180144dc57fdc34786e3b4a7e5
   ]
  },
  {
   "cell_type": "code",
   "execution_count": null,
   "metadata": {
<<<<<<< HEAD
    "collapsed": true
   },
   "outputs": [],
   "source": [
    "# save pca to df and add back dropped cols\n",
    "df_lle = pd.DataFrame(X_lle,\n",
    "                      columns=['lle{}'.format(c) for c in range(ncomps)],\n",
    "                      index=df_all.index)\n",
    "for c in drop:\n",
    "    df_lle[c] = df_all[c]\n",
    "\n",
    "# save col names for easy filter later\n",
    "llecols = [c for c in df_lle.columns if c[:3] == 'lle']\n",
    "\n",
    "# check size\n",
    "assert(df_lle.shape[0] == df_all.shape[0])"
=======
    "collapsed": false
   },
   "outputs": [],
   "source": [
    "# input layer\n",
    "l_in = lasagne.layers.InputLayer(\n",
    "    shape=X.shape\n",
    ")\n",
    "\n",
    "# hidden layer1\n",
    "l_hidden1 = lasagne.layers.DenseLayer(\n",
    "    l_in,\n",
    "    num_units=30,\n",
    "    nonlinearity=lasagne.nonlinearities.rectify,\n",
    "    W=lasagne.init.HeNormal(gain='relu')\n",
    ")\n",
    "\n",
    "# hidden layer2\n",
    "l_hidden2 = lasagne.layers.DenseLayer(\n",
    "    l_hidden1,\n",
    "    num_units=10,\n",
    "    nonlinearity=lasagne.nonlinearities.rectify,\n",
    "    W=lasagne.init.HeNormal(gain='relu')\n",
    ")\n",
    "\n",
    "# dropout layer\n",
    "l_dropout = lasagne.layers.DropoutLayer(\n",
    "    l_hidden2,\n",
    "    p=0.25\n",
    ")\n",
    "\n",
    "# output layer\n",
    "l_output = lasagne.layers.DenseLayer(\n",
    "    l_dropout,\n",
    "    num_units=3,\n",
    "    nonlinearity=lasagne.nonlinearities.softmax)"
>>>>>>> 9f47264f3074ab180144dc57fdc34786e3b4a7e5
   ]
  },
  {
   "cell_type": "code",
   "execution_count": null,
   "metadata": {
    "collapsed": false
   },
   "outputs": [],
   "source": [
<<<<<<< HEAD
    "g = sns.lmplot('lle0', 'lle1',\n",
    "               data=df_lle,\n",
    "               fit_reg=False,\n",
    "               col=\"fault_severity\")"
=======
    "output_train = lasagne.layers.get_output(l_output, X)\n",
    "\n",
    "loss_train = lasagne.objectives.aggregate(\n",
    "    lasagne.objectives.categorical_crossentropy(output_train, y))\n",
    "\n",
    "output_eval = lasagne.layers.get_output(l_output, X, deterministic=True)\n",
    "\n",
    "loss_train = lasagne.objectives.aggregate(\n",
    "    lasagne.objectives.categorical_crossentropy(output_eval, y))"
>>>>>>> 9f47264f3074ab180144dc57fdc34786e3b4a7e5
   ]
  },
  {
   "cell_type": "code",
   "execution_count": null,
   "metadata": {
    "collapsed": false
   },
   "outputs": [],
   "source": [
<<<<<<< HEAD
    "# save to hdf5 file\n",
    "hdf = pd.HDFStore(hdf_file)\n",
    "hdf.put('df_lle', df_lle)\n",
    "hdf.close()\n",
    "call([\"lrztar\", \"-zf\", hdf_file])"
   ]
  },
  {
   "cell_type": "markdown",
   "metadata": {
    "heading_collapsed": true
   },
   "source": [
    "#### t-SNE"
=======
    "all_params = lasagne.layers.get_all_params(l_output)"
   ]
  },
  {
   "cell_type": "code",
   "execution_count": null,
   "metadata": {
    "collapsed": false
   },
   "outputs": [],
   "source": [
    "# Use ADADELTA for updates\n",
    "updates = lasagne.updates.adadelta(loss_train, all_params)\n",
    "true_output = T.ivector('true_output')\n",
    "train = theano.function([l_in.input_var, true_output], loss_train, updates=updates)"
   ]
  },
  {
   "cell_type": "code",
   "execution_count": null,
   "metadata": {
    "collapsed": true
   },
   "outputs": [],
   "source": [
    "# train in mini-batches\n",
    "batch_size = 100\n",
    "n_epochs = 10\n",
    "\n",
    "# iterate\n",
    "batch_idx = 0\n",
    "epoch = 0\n",
    "while epoch < n_epochs:\n",
    "    # extract train data/label batch and update the parameters with it\n",
    "    train(dataset['train']['X'][batch_idx:batch_idx + batch_size],\n",
    " \n",
    "          \n",
    "          \n",
    "          dataset['train']['y'][batch_idx:batch_idx + BATCH_SIZE])\n",
    " batch_idx += BATCH_SIZE\n",
    " # Once we've trained on the entire training set...\n",
    " if batch_idx >= dataset['train']['X'].shape[0]:\n",
    " # Reset the batch index\n",
    " batch_idx = 0\n",
    " # Update the number of epochs trained\n",
    " epoch += 1\n",
    " # Compute the network's on the validation data\n",
    " val_output = get_output(dataset['valid']['X'])\n",
    " # The predicted class is just the index of the largest probability in the output\n",
    " val_predictions = np.argmax(val_output, axis=1)\n",
    " # The accuracy is the average number of correct predictions\n",
    " accuracy = np.mean(val_predictions == dataset['valid']['y'])\n",
    " print(\"Epoch {} validation accuracy: {}\".format(epoch, accuracy))"
>>>>>>> 9f47264f3074ab180144dc57fdc34786e3b4a7e5
   ]
  },
  {
   "cell_type": "markdown",
<<<<<<< HEAD
   "metadata": {},
   "source": [
    "Tried SVD and KPCA inputs: SVD outperformed any other. Using it as input to t-SNE"
=======
   "metadata": {
    "heading_collapsed": true
   },
   "source": [
    "## Keras"
>>>>>>> 9f47264f3074ab180144dc57fdc34786e3b4a7e5
   ]
  },
  {
   "cell_type": "code",
   "execution_count": null,
   "metadata": {
    "collapsed": false
   },
   "outputs": [],
   "source": [
<<<<<<< HEAD
    "# build tsne fitter\n",
    "from sklearn.manifold import TSNE\n",
    "#metric = metrics.pairwise.manhattan_distances\n",
    "tsne = TSNE(n_components=2,\n",
    "            #init='pca',\n",
    "            perplexity=50,\n",
    "            #metric=metric,\n",
    "            learning_rate=500,\n",
    "            method='barnes_hut',\n",
    "            verbose=2)\n",
    "\n",
    "# fit training data only\n",
    "Z = tsne.fit_transform(df_svd[svdcols])\n",
    "\n",
    "# save to df\n",
    "df_tsne = pd.DataFrame(Z, columns=['x','y'], index=df_svd.index)\n",
    "for c in drop:\n",
    "    df_tsne[c] = df_svd[c]\n",
    "\n",
    "# check size\n",
    "assert(df_tsne.shape[0] == df_svd.shape[0])"
=======
    "# quick existing model test\n",
    "from keras.models import Sequential\n",
    "from keras.layers.core import Dense, Dropout, Activation\n",
    "from keras.utils import np_utils\n",
    "thno.config.compute_test_value = 'warn'\n",
    "\n",
    "# base data\n",
    "X_train = df_train.copy().drop(drop, 1).as_matrix()\n",
    "y_train = df_train.fault_severity.values"
>>>>>>> 9f47264f3074ab180144dc57fdc34786e3b4a7e5
   ]
  },
  {
   "cell_type": "code",
   "execution_count": null,
   "metadata": {
    "collapsed": false,
    "scrolled": true
   },
   "outputs": [],
   "source": [
<<<<<<< HEAD
    "# kpca\n",
    "g = sns.lmplot('x', 'y',\n",
    "               data=df_tsne,\n",
    "               fit_reg=False,\n",
    "               col=\"fault_severity\")"
=======
    "# rebuild the train and test sets\n",
    "X_train, X_test, y_train, y_test = cross_validation.train_test_split(X, y, test_size=0.4)\n",
    "Y_train = np_utils.to_categorical(y_train, 3)\n",
    "Y_test = np_utils.to_categorical(y_test, 3)\n",
    "\n",
    "# common vars\n",
    "nb_epoch = 100\n",
    "dims = X_train.shape[1]\n",
    "fs = list(factors(dims))\n",
    "batch_size = fs[-1]/4\n",
    "\n",
    "# NN model and layers\n",
    "model = Sequential()\n",
    "model.add(Dense(512, input_shape=(dims,)))\n",
    "model.add(Activation('relu'))\n",
    "model.add(Dropout(0.2))\n",
    "model.add(Dense(512))\n",
    "model.add(Activation('relu'))\n",
    "model.add(Dropout(0.2))\n",
    "model.add(Dense(3))\n",
    "model.add(Activation('softmax'))\n",
    "\n",
    "# build model\n",
    "model.compile(loss='categorical_crossentropy', optimizer='rmsprop')\n",
    "\n",
    "# fit the model\n",
    "model.fit(X_train, Y_train,\n",
    "          batch_size=batch_size,\n",
    "          nb_epoch=nb_epoch,\n",
    "          show_accuracy=True,\n",
    "          verbose=1,\n",
    "          validation_data=(X_test, Y_test))\n",
    "score = model.evaluate(X_test, Y_test,\n",
    "                       show_accuracy=True,\n",
    "                       verbose=0)\n",
    "print('Test score:', score[0])\n",
    "print('Test accuracy:', score[1])"
>>>>>>> 9f47264f3074ab180144dc57fdc34786e3b4a7e5
   ]
  },
  {
   "cell_type": "code",
   "execution_count": null,
   "metadata": {
    "collapsed": false
   },
   "outputs": [],
   "source": [
<<<<<<< HEAD
    "# save to hdf5 file\n",
    "hdf = pd.HDFStore(hdf_file)\n",
    "hdf.put('df_tsne', df_tsne)\n",
    "hdf.close()\n",
    "call([\"lrztar\", \"-zf\", hdf_file])"
   ]
  },
  {
   "cell_type": "markdown",
   "metadata": {
    "heading_collapsed": true
   },
   "source": [
    "### Clustering"
=======
    "# base data\n",
    "X = df_test.copy()\n",
    "ids = X.id\n",
    "for c in drop:\n",
    "    if c in X.columns:\n",
    "        X.drop(c, 1, inplace=True)\n",
    "X = X.as_matrix()\n",
    "y_probs = model.predict(X)\n",
    "\n",
    "final = [[iden, (y_probs[j][0]), (y_probs[j][1]), (y_probs[j][2])] for j, iden in enumerate(ids)]\n",
    "frame = pd.DataFrame(final,columns=('id','predict_0','predict_1','predict_2'))\n",
    "frame.to_csv(\"keras.csv\",index=False)"
>>>>>>> 9f47264f3074ab180144dc57fdc34786e3b4a7e5
   ]
  },
  {
   "cell_type": "markdown",
   "metadata": {},
   "source": [
<<<<<<< HEAD
    "Clustering may be interesting too: could add cluster membership as a new feature. \n",
    "\n",
    "* [Binary Jaccard similarity matrix fed into hierarchical cluster and then using the top \"nodes\"](http://scikit-learn.org/stable/modules/generated/sklearn.metrics.jaccard_similarity_score.html)\n",
    "* [K-mode/median clustering](https://github.com/nicodv/kmodes)\n",
    "* [Cosine similarities fed into spectral clustering or dbscan](http://stackoverflow.com/questions/30089675/clustering-cosine-similarity-matrix)\n",
    "* Frequent itemset mining"
=======
    "|Run|Local  |LB     |Changes|\n",
    "|---|-------|-------|:------|\n",
    "|1  |0.62779|0.65748|Initial\n",
    "|2  |0.67230|-------|Adadelta opt\n",
    "|3  |0.75352|-------|SGD opt\n",
    "|4  |0.82378|-------|Adam\n",
    "\n",
    "\n",
    "According to forums:\n",
    "\"The norm for CV and LB disagreement seems to be about 0.01-0.03 based on what I've experienced and read from others. A disagreement as large as you have indicates you're probably over-fitting and may have some minor leakage.\""
>>>>>>> 9f47264f3074ab180144dc57fdc34786e3b4a7e5
   ]
  },
  {
   "cell_type": "markdown",
   "metadata": {
    "heading_collapsed": true
   },
   "source": [
<<<<<<< HEAD
    "#### DBScan"
   ]
  },
  {
   "cell_type": "code",
   "execution_count": null,
   "metadata": {
    "collapsed": false
   },
   "outputs": [],
   "source": [
    "# remove the log_feature features which are scaled volumes\n",
    "ecols = [c for c in df_all.columns if 'log_feature' not in c]\n",
    "X = df_all.copy()[ecols]\n",
    "X = X[(X.is_train == True)].drop(drop, 1)"
=======
    "## XGBoost"
>>>>>>> 9f47264f3074ab180144dc57fdc34786e3b4a7e5
   ]
  },
  {
   "cell_type": "code",
   "execution_count": null,
   "metadata": {
    "collapsed": false
   },
   "outputs": [],
   "source": [
<<<<<<< HEAD
    "# base similarity matrix\n",
    "similarity = np.dot(X, X.T)\n",
    "\n",
    "# squared magnitude of preference vectors (number of occurrences)\n",
    "square_mag = np.diag(similarity)\n",
    "\n",
    "# inverse squared magnitude\n",
    "inv_square_mag = 1 / square_mag\n",
    "\n",
    "# if it doesn't occur, set it's inverse magnitude to zero (instead of inf)\n",
    "inv_square_mag[np.isinf(inv_square_mag)] = 0\n",
    "\n",
    "# inverse of the magnitude\n",
    "inv_mag = np.sqrt(inv_square_mag)\n",
    "\n",
    "# cosine similarity\n",
    "cosine = similarity * inv_mag\n",
    "cosine = cosine.T * inv_mag"
=======
    "# get train inputs\n",
    "X_train = df_train.copy()\n",
    "y_train = X_train.fault_severity\n",
    "X_train.drop(drop, 1, inplace=True)\n",
    "\n",
    "# get test inputs\n",
    "X_test = df_test.copy()\n",
    "X_test.drop(drop, 1, inplace=True)\n",
    "\n",
    "# split train into... train and test\n",
    "from sklearn.cross_validation import train_test_split\n",
    "xg_train, xg_test, yg_train, yg_test = train_test_split(X_train, y_train, test_size=0.33)"
>>>>>>> 9f47264f3074ab180144dc57fdc34786e3b4a7e5
   ]
  },
  {
   "cell_type": "code",
   "execution_count": null,
   "metadata": {
<<<<<<< HEAD
    "collapsed": false
   },
   "outputs": [],
   "source": [
    "# find whole factors for matrix\n",
    "factors(cosine.shape[0])"
=======
    "collapsed": true
   },
   "outputs": [],
   "source": [
    "import xgboost as xgb\n",
    "\n",
    "xg_train = xgb.DMatrix(xg_train, label=yg_train.values)\n",
    "xg_test = xgb.DMatrix(xg_test, label=yg_test.values)"
>>>>>>> 9f47264f3074ab180144dc57fdc34786e3b4a7e5
   ]
  },
  {
   "cell_type": "code",
   "execution_count": null,
   "metadata": {
    "collapsed": false
   },
   "outputs": [],
   "source": [
<<<<<<< HEAD
    "# plot it\n",
    "binning = 11\n",
    "plt.figure(figsize=(14, 11))\n",
    "cmap = sns.light_palette(\"blue\", as_cmap=True)\n",
    "plt.imshow(cosine[::binning, ::binning], interpolation='none', cmap=cmap)"
=======
    "xg_train.save_binary(\"xg_train.buffer\")\n",
    "xg_test.save_binary(\"xg_test.buffer\")"
>>>>>>> 9f47264f3074ab180144dc57fdc34786e3b4a7e5
   ]
  },
  {
   "cell_type": "code",
   "execution_count": null,
   "metadata": {
    "collapsed": true
   },
   "outputs": [],
   "source": [
<<<<<<< HEAD
    "# dbscan expects distances, so need 1-cosine input\n",
    "from sklearn.cluster import DBSCAN\n",
    "dbclust = DBSCAN(min_samples=30, eps=0.6).fit_predict(1.0-cosine)"
   ]
  },
  {
   "cell_type": "code",
   "execution_count": null,
   "metadata": {
    "collapsed": false
   },
   "outputs": [],
   "source": [
    "# viz the cluster dist\n",
    "from collections import Counter\n",
    "for i in Counter(dbclust).items():\n",
    "    print i\n",
    "sns.distplot(dbclust, kde=False)"
   ]
  },
  {
   "cell_type": "markdown",
   "metadata": {
    "heading_collapsed": true
   },
   "source": [
    "#### K-modes"
   ]
  },
  {
   "cell_type": "code",
   "execution_count": null,
   "metadata": {
    "collapsed": false
   },
   "outputs": [],
   "source": [
    "from kmodes import kmodes\n",
    "\n",
    "# build the clusters\n",
    "km = kmodes.KModes(n_clusters=22, init='Cao', n_init=5, verbose=1)\n",
    "clusters = km.fit_predict(X)\n",
    "\n",
    "# viz the cluster dist\n",
    "for i in Counter(clusters).items():\n",
    "    print i\n",
    "sns.distplot(clusters, kde=False)"
   ]
  },
  {
   "cell_type": "markdown",
   "metadata": {},
   "source": [
    "That's not a terrible result, it somewhat mimics the tsne result, except for bins 3 and 4, as I don't see any isolated points in tsne, but it's not a 1:1 comparison. Let's see how this performs. First add the cluster assignments to the X matrix."
   ]
  },
  {
   "cell_type": "markdown",
   "metadata": {
    "heading_collapsed": true
   },
   "source": [
    "#### Hierarchical"
   ]
  },
  {
   "cell_type": "markdown",
   "metadata": {},
   "source": [
    "revisit the correlation measures\n",
    "run a hierarch model"
   ]
  },
  {
   "cell_type": "code",
   "execution_count": null,
   "metadata": {
    "collapsed": true
   },
   "outputs": [],
   "source": [
    "from scipy.spatial.distance import pdist\n",
    "from scipy.cluster.hierarchy import dendrogram, linkage\n",
    "from scipy.cluster.hierarchy import cophenet\n",
    "from scipy.cluster.hierarchy import fcluster\n",
    "\n",
    "# create dist matrix\n",
    "Y = 1.0 - np.abs(df_svd.corr())\n",
    "Z = linkage(Y, 'complete', 'correlation')\n",
    "\n",
    "# check cophenetic coeffs; closer to 1, the better\n",
    "c, coph_dists = cophenet(Z, Y)\n",
    "print c\n",
    "\n",
    "# view dendro\n",
    "dendro = dendrogram(z, labels=Y.columns)\n",
    "plt.show()"
   ]
  },
  {
   "cell_type": "code",
   "execution_count": null,
   "metadata": {
    "collapsed": true
   },
   "outputs": [],
   "source": [
    "k = 2\n",
    "clusters = fcluster(Z, k, criterion='maxclust')\n",
    "plt.figure(figsize=(14, 11))\n",
    "plt.scatter(df_svd[:, 0], df_svd[:, 1], c=clusters, cmap='prism')\n",
    "plt.show()"
   ]
  },
  {
   "cell_type": "markdown",
   "metadata": {},
   "source": [
    "Check validity of clusters using permutation tests"
   ]
  },
  {
   "cell_type": "code",
   "execution_count": null,
   "metadata": {
    "collapsed": true
   },
   "outputs": [],
   "source": [
    "# create permutation\n",
    "svm = SVC(kernel='linear')\n",
    "cv = StratifiedKFold(y, 2)\n",
    "score, permutation_scores, pvalue = permutation_test_score(\n",
    "    svm, X, y, scoring=\"accuracy\", cv=cv, n_permutations=100, n_jobs=-1)\n",
    "print(\"Classification score %s (pvalue : %s)\" % (score, pvalue))\n",
    "\n",
    "# histo of permu scores\n",
    "plt.hist(permutation_scores, 20, label='Permutation scores')\n",
    "ylim = plt.ylim()\n",
    "plt.plot(2 * [score], ylim, '--g', linewidth=3,\n",
    "         label='Classification Score (pvalue %s)' % pvalue)\n",
    "plt.plot(2 * [1. / n_classes], ylim, '--k', linewidth=3, label='Luck')\n",
    "plt.ylim(ylim)\n",
    "plt.legend()\n",
    "plt.xlabel('Score')\n",
    "plt.show()"
   ]
  },
  {
   "cell_type": "code",
   "execution_count": null,
   "metadata": {
    "collapsed": false
   },
   "outputs": [],
   "source": [
    "# append cluster membership to the no-location version of X\n",
    "a = np.array(clusters)[np.newaxis]\n",
    "print 'X no loc ', X_nl.shape\n",
    "X_nlc = np.concatenate((X_nl, a.T), axis=1)\n",
    "print 'X no loc+clu ', X_nlc.shape"
   ]
  },
  {
   "cell_type": "markdown",
   "metadata": {
    "heading_collapsed": true
   },
   "source": [
    "## Learning"
   ]
  },
  {
   "cell_type": "markdown",
   "metadata": {
    "heading_collapsed": true
   },
   "source": [
    "### Stacking"
   ]
  },
  {
   "cell_type": "code",
   "execution_count": null,
   "metadata": {
    "collapsed": true
   },
   "outputs": [],
   "source": [
    "from sklearn.pipeline import Pipeline, FeatureUnion\n",
    "from sklearn.grid_search import GridSearchCV\n",
    "from sklearn.svm import SVC\n",
    "from sklearn.decomposition import PCA\n",
    "from sklearn.feature_selection import SelectKBest\n",
    "\n",
    "X = \n",
    "y = \n",
    "\n",
    "# pca\n",
    "pca = PCA(n_components=2)\n",
    "\n",
    "# univariate\n",
    "selection = SelectKBest(k=1)\n",
    "\n",
    "# combined estimator\n",
    "combined_features = FeatureUnion([(\"pca\", pca), (\"univ_select\", selection)])\n",
    "\n",
    "# Use combined features to transform dataset:\n",
    "X_features = combined_features.fit(X, y).transform(X)\n",
    "\n",
    "svm = SVC(kernel=\"linear\")\n",
    "\n",
    "# Do grid search over k, n_components and C:\n",
    "pipeline = Pipeline([(\"features\", combined_features), (\"svm\", svm)])\n",
    "param_grid = dict(features__pca__n_components=[1, 2, 3],\n",
    "                  features__univ_select__k=[1, 2],\n",
    "                  svm__C=[0.1, 1, 10])\n",
    "\n",
    "grid_search = GridSearchCV(pipeline, param_grid=param_grid, verbose=10)\n",
    "grid_search.fit(X, y)\n",
    "print(grid_search.best_estimator_)"
   ]
  },
  {
   "cell_type": "markdown",
   "metadata": {
    "heading_collapsed": true
   },
   "source": [
    "# Model Evaluation"
   ]
  },
  {
   "cell_type": "markdown",
   "metadata": {
    "heading_collapsed": true
   },
   "source": [
    "## Lasagne"
   ]
  },
  {
   "cell_type": "markdown",
   "metadata": {},
   "source": [
    "* use PCA with NN (2 hidden layers + ReLU + dropout)\n",
    "* shooting for logloss < 0.5"
   ]
  },
  {
   "cell_type": "code",
   "execution_count": null,
   "metadata": {
    "collapsed": false
   },
   "outputs": [],
   "source": [
    "import lasagne\n",
    "\n",
    "# real train data\n",
    "X = df_all[(df_all.is_train==True)].copy()\n",
    "y = X.fault_severity.values\n",
    "X.drop(drop, 1, inplace=True)\n",
    "X = X.as_matrix()\n",
    "\n",
    "# theano format\n",
    "X = X.astype(thno.config.floatX)\n",
    "y = y.astype('int32')"
   ]
  },
  {
   "cell_type": "code",
   "execution_count": null,
   "metadata": {
    "collapsed": false
   },
   "outputs": [],
   "source": [
    "# input layer\n",
    "l_in = lasagne.layers.InputLayer(\n",
    "    shape=X.shape\n",
    ")\n",
    "\n",
    "# hidden layer1\n",
    "l_hidden1 = lasagne.layers.DenseLayer(\n",
    "    l_in,\n",
    "    num_units=30,\n",
    "    nonlinearity=lasagne.nonlinearities.rectify,\n",
    "    W=lasagne.init.HeNormal(gain='relu')\n",
    ")\n",
    "\n",
    "# hidden layer2\n",
    "l_hidden2 = lasagne.layers.DenseLayer(\n",
    "    l_hidden1,\n",
    "    num_units=10,\n",
    "    nonlinearity=lasagne.nonlinearities.rectify,\n",
    "    W=lasagne.init.HeNormal(gain='relu')\n",
    ")\n",
    "\n",
    "# dropout layer\n",
    "l_dropout = lasagne.layers.DropoutLayer(\n",
    "    l_hidden2,\n",
    "    p=0.25\n",
    ")\n",
    "\n",
    "# output layer\n",
    "l_output = lasagne.layers.DenseLayer(\n",
    "    l_dropout,\n",
    "    num_units=3,\n",
    "    nonlinearity=lasagne.nonlinearities.softmax)"
   ]
  },
  {
   "cell_type": "code",
   "execution_count": null,
   "metadata": {
    "collapsed": false
   },
   "outputs": [],
   "source": [
    "output_train = lasagne.layers.get_output(l_output, X)\n",
    "\n",
    "loss_train = lasagne.objectives.aggregate(\n",
    "    lasagne.objectives.categorical_crossentropy(output_train, y))\n",
    "\n",
    "output_eval = lasagne.layers.get_output(l_output, X, deterministic=True)\n",
    "\n",
    "loss_train = lasagne.objectives.aggregate(\n",
    "    lasagne.objectives.categorical_crossentropy(output_eval, y))"
   ]
  },
  {
   "cell_type": "code",
   "execution_count": null,
   "metadata": {
    "collapsed": false
   },
   "outputs": [],
   "source": [
    "all_params = lasagne.layers.get_all_params(l_output)"
   ]
  },
  {
   "cell_type": "code",
   "execution_count": null,
   "metadata": {
    "collapsed": false
   },
   "outputs": [],
   "source": [
    "# Use ADADELTA for updates\n",
    "updates = lasagne.updates.adadelta(loss_train, all_params)\n",
    "true_output = T.ivector('true_output')\n",
    "train = theano.function([l_in.input_var, true_output], loss_train, updates=updates)"
   ]
  },
  {
   "cell_type": "code",
   "execution_count": null,
   "metadata": {
    "collapsed": true
   },
   "outputs": [],
   "source": [
    "# train in mini-batches\n",
    "batch_size = 100\n",
    "n_epochs = 10\n",
    "\n",
    "# iterate\n",
    "batch_idx = 0\n",
    "epoch = 0\n",
    "while epoch < n_epochs:\n",
    "    # extract train data/label batch and update the parameters with it\n",
    "    train(dataset['train']['X'][batch_idx:batch_idx + batch_size],\n",
    " \n",
    "          \n",
    "          \n",
    "          dataset['train']['y'][batch_idx:batch_idx + BATCH_SIZE])\n",
    " batch_idx += BATCH_SIZE\n",
    " # Once we've trained on the entire training set...\n",
    " if batch_idx >= dataset['train']['X'].shape[0]:\n",
    " # Reset the batch index\n",
    " batch_idx = 0\n",
    " # Update the number of epochs trained\n",
    " epoch += 1\n",
    " # Compute the network's on the validation data\n",
    " val_output = get_output(dataset['valid']['X'])\n",
    " # The predicted class is just the index of the largest probability in the output\n",
    " val_predictions = np.argmax(val_output, axis=1)\n",
    " # The accuracy is the average number of correct predictions\n",
    " accuracy = np.mean(val_predictions == dataset['valid']['y'])\n",
    " print(\"Epoch {} validation accuracy: {}\".format(epoch, accuracy))"
   ]
  },
  {
   "cell_type": "markdown",
   "metadata": {
    "heading_collapsed": true
   },
   "source": [
    "## Keras"
   ]
  },
  {
   "cell_type": "code",
   "execution_count": null,
   "metadata": {
    "collapsed": false
   },
   "outputs": [],
   "source": [
    "# quick existing model test\n",
    "from keras.models import Sequential\n",
    "from keras.layers.core import Dense, Dropout, Activation\n",
    "from keras.utils import np_utils\n",
    "thno.config.compute_test_value = 'warn'\n",
    "\n",
    "# base data\n",
    "X_train = df_train.copy().drop(drop, 1).as_matrix()\n",
    "y_train = df_train.fault_severity.values"
   ]
  },
  {
   "cell_type": "code",
   "execution_count": null,
   "metadata": {
    "collapsed": false,
    "scrolled": true
   },
   "outputs": [],
   "source": [
    "# rebuild the train and test sets\n",
    "X_train, X_test, y_train, y_test = cross_validation.train_test_split(X, y, test_size=0.4)\n",
    "Y_train = np_utils.to_categorical(y_train, 3)\n",
    "Y_test = np_utils.to_categorical(y_test, 3)\n",
    "\n",
    "# common vars\n",
    "nb_epoch = 100\n",
    "dims = X_train.shape[1]\n",
    "fs = list(factors(dims))\n",
    "batch_size = fs[-1]/4\n",
    "\n",
    "# NN model and layers\n",
    "model = Sequential()\n",
    "model.add(Dense(512, input_shape=(dims,)))\n",
    "model.add(Activation('relu'))\n",
    "model.add(Dropout(0.2))\n",
    "model.add(Dense(512))\n",
    "model.add(Activation('relu'))\n",
    "model.add(Dropout(0.2))\n",
    "model.add(Dense(3))\n",
    "model.add(Activation('softmax'))\n",
    "\n",
    "# build model\n",
    "model.compile(loss='categorical_crossentropy', optimizer='rmsprop')\n",
    "\n",
    "# fit the model\n",
    "model.fit(X_train, Y_train,\n",
    "          batch_size=batch_size,\n",
    "          nb_epoch=nb_epoch,\n",
    "          show_accuracy=True,\n",
    "          verbose=1,\n",
    "          validation_data=(X_test, Y_test))\n",
    "score = model.evaluate(X_test, Y_test,\n",
    "                       show_accuracy=True,\n",
    "                       verbose=0)\n",
    "print('Test score:', score[0])\n",
    "print('Test accuracy:', score[1])"
   ]
  },
  {
   "cell_type": "code",
   "execution_count": null,
   "metadata": {
    "collapsed": false
   },
   "outputs": [],
   "source": [
    "# base data\n",
    "X = df_test.copy()\n",
    "ids = X.id\n",
    "for c in drop:\n",
    "    if c in X.columns:\n",
    "        X.drop(c, 1, inplace=True)\n",
    "X = X.as_matrix()\n",
    "y_probs = model.predict(X)\n",
    "\n",
    "final = [[iden, (y_probs[j][0]), (y_probs[j][1]), (y_probs[j][2])] for j, iden in enumerate(ids)]\n",
    "frame = pd.DataFrame(final,columns=('id','predict_0','predict_1','predict_2'))\n",
    "frame.to_csv(\"keras.csv\",index=False)"
   ]
  },
  {
   "cell_type": "markdown",
   "metadata": {},
   "source": [
    "|Run|Local  |LB     |Changes|\n",
    "|---|-------|-------|:------|\n",
    "|1  |0.62779|0.65748|Initial\n",
    "|2  |0.67230|-------|Adadelta opt\n",
    "|3  |0.75352|-------|SGD opt\n",
    "|4  |0.82378|-------|Adam\n",
    "\n",
    "\n",
    "According to forums:\n",
    "\"The norm for CV and LB disagreement seems to be about 0.01-0.03 based on what I've experienced and read from others. A disagreement as large as you have indicates you're probably over-fitting and may have some minor leakage.\""
   ]
  },
  {
   "cell_type": "markdown",
   "metadata": {
    "heading_collapsed": true
   },
   "source": [
    "## XGBoost"
   ]
  },
  {
   "cell_type": "code",
   "execution_count": null,
   "metadata": {
    "collapsed": false
   },
   "outputs": [],
   "source": [
    "# get train inputs\n",
    "X_train = df_train.copy()\n",
    "y_train = X_train.fault_severity\n",
    "X_train.drop(drop, 1, inplace=True)\n",
    "\n",
    "# get test inputs\n",
    "X_test = df_test.copy()\n",
    "X_test.drop(drop, 1, inplace=True)\n",
    "\n",
    "# split train into... train and test\n",
    "from sklearn.cross_validation import train_test_split\n",
    "xg_train, xg_test, yg_train, yg_test = train_test_split(X_train, y_train, test_size=0.33)"
   ]
  },
  {
   "cell_type": "code",
   "execution_count": null,
   "metadata": {
    "collapsed": true
   },
   "outputs": [],
   "source": [
    "import xgboost as xgb\n",
    "\n",
    "xg_train = xgb.DMatrix(xg_train, label=yg_train.values)\n",
    "xg_test = xgb.DMatrix(xg_test, label=yg_test.values)"
   ]
  },
  {
   "cell_type": "code",
   "execution_count": null,
   "metadata": {
    "collapsed": false
   },
   "outputs": [],
   "source": [
    "xg_train.save_binary(\"xg_train.buffer\")\n",
    "xg_test.save_binary(\"xg_test.buffer\")"
   ]
  },
  {
   "cell_type": "code",
   "execution_count": null,
   "metadata": {
    "collapsed": true
   },
   "outputs": [],
   "source": [
    "nclass = 3\n",
    "param = {'booster':'gbtree',\n",
    "         'objective': 'multi:softprob',\n",
    "         'num_class': nclass,\n",
    "         'eval_metric': 'mlogloss',\n",
    "         'max_depth': 0,\n",
    "         'subsample': 0.9,\n",
    "         'colsample_bytree': 0.9,\n",
    "         'eta': 0.0,\n",
    "         'gamma': 0.0,\n",
    "         #'alpha': 0.1,\n",
    "         #'lambda': 0.1,\n",
    "         'silent': True}"
   ]
  },
  {
   "cell_type": "code",
   "execution_count": null,
   "metadata": {
    "collapsed": true
   },
   "outputs": [],
   "source": [
    "clf = MyXGBClassifier(n_rounds=n_rounds,eta=0.2,max_depth=10,subsample=0.9,colsample_bytree=0.9)\n",
    "gridsearch = GridSearchCV(clf, params, scoring=scorer_logloss, n_jobs=10, cv=3, refit=True)\n",
    "gridsearch.fit(X,Y)\n",
    "\n",
    "grid_scores = gridsearch.grid_scores_\n",
    "top_scores = sorted(grid_scores, key=itemgetter(1), reverse=True)[:3]\n",
    "for i, score in enumerate(top_scores):\n",
    "    print(\"Model with rank: {0}\".format(i + 1))\n",
    "    print(\"Mean validation score: {0:.3f} (std: {1:.3f})\".format(\n",
    "            score.mean_validation_score,\n",
    "            np.std(score.cv_validation_scores)))\n",
    "    print(\"Parameters: {0}\".format(score.parameters))"
   ]
  },
  {
   "cell_type": "code",
   "execution_count": null,
   "metadata": {
    "collapsed": false,
    "scrolled": true
   },
   "outputs": [],
   "source": [
    "num_round = 1000\n",
    "best_perr = 1.0\n",
    "for gamma in (0, 0.5, 1):\n",
    "    for depth in range(5, 20, 5):\n",
    "        for eta in np.arange(0.1, 0.22, 0.02):\n",
    "            param['max_depth'] = depth\n",
    "            param['eta'] = eta\n",
    "            param['gamma'] = gamma\n",
    "            bst = xgb.train(param, xg_train, num_round)\n",
    "            yg_prob = bst.predict(xg_test).reshape(yg_test.shape[0], nclass)\n",
    "            yg_label = np.argmax(yg_prob, axis=1)\n",
    "            perr = sum(int(yg_label[i]) != yg_test.values[i] for i in\n",
    "                       range(len(yg_test.values))) / float(len(yg_test.values))\n",
    "            print \"Gamma: %.3f, Depth: %d, Eta: %.3f, Err: %.3f\" % (gamma, depth, eta, perr)\n",
    "            if perr < best_perr:\n",
    "                print '**** NEW BEST *****'\n",
    "                best_perr = perr\n",
    "                best_depth = depth\n",
    "                best_eta = eta\n",
    "                best_gamma = gamma\n",
    "print \"Best Pred. %.3f (Depth %d, Eta %.3f, Gamma %.3f)\" % (best_perr, best_depth, best_eta, best_gamma)\n",
    "param['max_depth'] = best_depth\n",
    "param['eta'] = best_eta\n",
    "param['gamma'] = best_gamma"
   ]
  },
  {
   "cell_type": "code",
   "execution_count": null,
   "metadata": {
    "collapsed": true
   },
   "outputs": [],
   "source": [
    "# retrain best model\n",
    "bst = xgb.train(param, xg_train, num_round)"
   ]
  },
  {
   "cell_type": "code",
   "execution_count": null,
   "metadata": {
    "collapsed": false
   },
   "outputs": [],
   "source": [
    "bst.save_model('0001.model')\n",
    "bst.dump_model('dump.raw.txt')"
   ]
  },
  {
   "cell_type": "code",
   "execution_count": null,
   "metadata": {
    "collapsed": false,
    "scrolled": false
   },
   "outputs": [],
   "source": [
    "# plot feature importance\n",
    "f, ax = plt.subplots(figsize=(8,20))\n",
    "xgb.plot_importance(bst, ax=ax)"
   ]
  },
  {
   "cell_type": "code",
   "execution_count": null,
   "metadata": {
    "collapsed": true
   },
   "outputs": [],
   "source": [
    "# train on full set\n",
    "X_train = xgb.DMatrix(X_train, label=y_train.values)\n",
    "bst = xgb.train(param, X_train, num_round)"
   ]
  },
  {
   "cell_type": "code",
   "execution_count": null,
   "metadata": {
    "collapsed": true,
    "scrolled": true
   },
   "outputs": [],
   "source": [
    "# setup test set\n",
    "X_test = xgb.DMatrix(X_test)\n",
    "y_pred = bst.predict(X_test)"
   ]
  },
  {
   "cell_type": "code",
   "execution_count": null,
   "metadata": {
    "collapsed": true
   },
   "outputs": [],
   "source": [
    "dtest = df_all[(df_all.is_train == False)].copy()\n",
    "with open(\"submission.csv\", \"w\") as f:\n",
    "    f.write(\"id,predict_0,predict_1,predict_2\\n\")\n",
    "    for i, item in enumerate(ypred):\n",
    "        f.write(str(int(dtest.id.iloc[i])) + \",\" + \",\".join(map(lambda x:str(x), item)) + \"\\n\")"
   ]
  },
  {
   "cell_type": "code",
   "execution_count": null,
   "metadata": {
    "collapsed": true
   },
   "outputs": [],
   "source": [
    "x_train_xgb = x_train.as_matrix()\n",
    "y_train_xgb = y_train.as_matrix()\n",
    "\n",
    "model = xgb.XGBClassifier()\n",
    "model.fit(x_train_xgb, y_train_xgb)\n",
    "\n",
    "y_probs = model.predict_proba(x_test.as_matrix())\n",
    "print(y_probs)\n",
    "\n",
    "final = [[iden,(y_probs[j][0]),(y_probs[j][1]),(y_probs[j][2])] for j,iden in enumerate(testUniqueIds)]\n",
    "frame = pd.DataFrame(final,columns=('id','predict_0','predict_1','predict_2'))\n",
    "frame.to_csv(\"submission.csv\",index=False)"
   ]
  },
  {
   "cell_type": "markdown",
   "metadata": {
    "heading_collapsed": true
   },
   "source": [
    "## Decision Trees"
   ]
  },
  {
   "cell_type": "code",
   "execution_count": 68,
   "metadata": {
    "collapsed": false,
    "scrolled": true
   },
   "outputs": [
    {
     "name": "stderr",
     "output_type": "stream",
     "text": [
      "/usr/local/lib/python2.7/site-packages/sklearn/metrics/classification.py:1304: DeprecationWarning:\n",
      "\n",
      "The default `weighted` averaging is deprecated, and from version 0.18, use of precision, recall or F-score with multiclass or multilabel data or pos_label=None will result in an exception. Please set an explicit value for `average`, one of (None, 'micro', 'macro', 'weighted', 'samples'). In cross validation use, for instance, scoring=\"f1_weighted\" instead of scoring=\"f1\".\n",
      "\n",
      "/usr/local/lib/python2.7/site-packages/sklearn/metrics/classification.py:1203: DeprecationWarning:\n",
      "\n",
      "The default `weighted` averaging is deprecated, and from version 0.18, use of precision, recall or F-score with multiclass or multilabel data or pos_label=None will result in an exception. Please set an explicit value for `average`, one of (None, 'micro', 'macro', 'weighted', 'samples'). In cross validation use, for instance, scoring=\"f1_weighted\" instead of scoring=\"f1\".\n",
      "\n",
      "/usr/local/lib/python2.7/site-packages/sklearn/metrics/classification.py:756: DeprecationWarning:\n",
      "\n",
      "The default `weighted` averaging is deprecated, and from version 0.18, use of precision, recall or F-score with multiclass or multilabel data or pos_label=None will result in an exception. Please set an explicit value for `average`, one of (None, 'micro', 'macro', 'weighted', 'samples'). In cross validation use, for instance, scoring=\"f1_weighted\" instead of scoring=\"f1\".\n",
      "\n",
      "/usr/local/lib/python2.7/site-packages/sklearn/metrics/classification.py:1304: DeprecationWarning:\n",
      "\n",
      "The default `weighted` averaging is deprecated, and from version 0.18, use of precision, recall or F-score with multiclass or multilabel data or pos_label=None will result in an exception. Please set an explicit value for `average`, one of (None, 'micro', 'macro', 'weighted', 'samples'). In cross validation use, for instance, scoring=\"f1_weighted\" instead of scoring=\"f1\".\n",
      "\n"
     ]
    },
    {
     "name": "stdout",
     "output_type": "stream",
     "text": [
      "740\n",
      "739"
     ]
    },
    {
     "name": "stderr",
     "output_type": "stream",
     "text": [
      "/usr/local/lib/python2.7/site-packages/sklearn/metrics/classification.py:1203: DeprecationWarning:\n",
      "\n",
      "The default `weighted` averaging is deprecated, and from version 0.18, use of precision, recall or F-score with multiclass or multilabel data or pos_label=None will result in an exception. Please set an explicit value for `average`, one of (None, 'micro', 'macro', 'weighted', 'samples'). In cross validation use, for instance, scoring=\"f1_weighted\" instead of scoring=\"f1\".\n",
      "\n",
      "/usr/local/lib/python2.7/site-packages/sklearn/metrics/classification.py:756: DeprecationWarning:\n",
      "\n",
      "The default `weighted` averaging is deprecated, and from version 0.18, use of precision, recall or F-score with multiclass or multilabel data or pos_label=None will result in an exception. Please set an explicit value for `average`, one of (None, 'micro', 'macro', 'weighted', 'samples'). In cross validation use, for instance, scoring=\"f1_weighted\" instead of scoring=\"f1\".\n",
      "\n",
      "/usr/local/lib/python2.7/site-packages/sklearn/metrics/classification.py:1304: DeprecationWarning:\n",
      "\n",
      "The default `weighted` averaging is deprecated, and from version 0.18, use of precision, recall or F-score with multiclass or multilabel data or pos_label=None will result in an exception. Please set an explicit value for `average`, one of (None, 'micro', 'macro', 'weighted', 'samples'). In cross validation use, for instance, scoring=\"f1_weighted\" instead of scoring=\"f1\".\n",
      "\n"
     ]
    },
    {
     "name": "stdout",
     "output_type": "stream",
     "text": [
      "\n",
      "739"
     ]
    },
    {
     "name": "stderr",
     "output_type": "stream",
     "text": [
      "/usr/local/lib/python2.7/site-packages/sklearn/metrics/classification.py:1203: DeprecationWarning:\n",
      "\n",
      "The default `weighted` averaging is deprecated, and from version 0.18, use of precision, recall or F-score with multiclass or multilabel data or pos_label=None will result in an exception. Please set an explicit value for `average`, one of (None, 'micro', 'macro', 'weighted', 'samples'). In cross validation use, for instance, scoring=\"f1_weighted\" instead of scoring=\"f1\".\n",
      "\n",
      "/usr/local/lib/python2.7/site-packages/sklearn/metrics/classification.py:756: DeprecationWarning:\n",
      "\n",
      "The default `weighted` averaging is deprecated, and from version 0.18, use of precision, recall or F-score with multiclass or multilabel data or pos_label=None will result in an exception. Please set an explicit value for `average`, one of (None, 'micro', 'macro', 'weighted', 'samples'). In cross validation use, for instance, scoring=\"f1_weighted\" instead of scoring=\"f1\".\n",
      "\n",
      "/usr/local/lib/python2.7/site-packages/sklearn/metrics/classification.py:1304: DeprecationWarning:\n",
      "\n",
      "The default `weighted` averaging is deprecated, and from version 0.18, use of precision, recall or F-score with multiclass or multilabel data or pos_label=None will result in an exception. Please set an explicit value for `average`, one of (None, 'micro', 'macro', 'weighted', 'samples'). In cross validation use, for instance, scoring=\"f1_weighted\" instead of scoring=\"f1\".\n",
      "\n"
     ]
    },
    {
     "name": "stdout",
     "output_type": "stream",
     "text": [
      "\n",
      "739"
     ]
    },
    {
     "name": "stderr",
     "output_type": "stream",
     "text": [
      "/usr/local/lib/python2.7/site-packages/sklearn/metrics/classification.py:1203: DeprecationWarning:\n",
      "\n",
      "The default `weighted` averaging is deprecated, and from version 0.18, use of precision, recall or F-score with multiclass or multilabel data or pos_label=None will result in an exception. Please set an explicit value for `average`, one of (None, 'micro', 'macro', 'weighted', 'samples'). In cross validation use, for instance, scoring=\"f1_weighted\" instead of scoring=\"f1\".\n",
      "\n",
      "/usr/local/lib/python2.7/site-packages/sklearn/metrics/classification.py:756: DeprecationWarning:\n",
      "\n",
      "The default `weighted` averaging is deprecated, and from version 0.18, use of precision, recall or F-score with multiclass or multilabel data or pos_label=None will result in an exception. Please set an explicit value for `average`, one of (None, 'micro', 'macro', 'weighted', 'samples'). In cross validation use, for instance, scoring=\"f1_weighted\" instead of scoring=\"f1\".\n",
      "\n",
      "/usr/local/lib/python2.7/site-packages/sklearn/metrics/classification.py:1304: DeprecationWarning:\n",
      "\n",
      "The default `weighted` averaging is deprecated, and from version 0.18, use of precision, recall or F-score with multiclass or multilabel data or pos_label=None will result in an exception. Please set an explicit value for `average`, one of (None, 'micro', 'macro', 'weighted', 'samples'). In cross validation use, for instance, scoring=\"f1_weighted\" instead of scoring=\"f1\".\n",
      "\n"
     ]
    },
    {
     "name": "stdout",
     "output_type": "stream",
     "text": [
      "\n",
      "738"
     ]
    },
    {
     "name": "stderr",
     "output_type": "stream",
     "text": [
      "/usr/local/lib/python2.7/site-packages/sklearn/metrics/classification.py:1203: DeprecationWarning:\n",
      "\n",
      "The default `weighted` averaging is deprecated, and from version 0.18, use of precision, recall or F-score with multiclass or multilabel data or pos_label=None will result in an exception. Please set an explicit value for `average`, one of (None, 'micro', 'macro', 'weighted', 'samples'). In cross validation use, for instance, scoring=\"f1_weighted\" instead of scoring=\"f1\".\n",
      "\n",
      "/usr/local/lib/python2.7/site-packages/sklearn/metrics/classification.py:756: DeprecationWarning:\n",
      "\n",
      "The default `weighted` averaging is deprecated, and from version 0.18, use of precision, recall or F-score with multiclass or multilabel data or pos_label=None will result in an exception. Please set an explicit value for `average`, one of (None, 'micro', 'macro', 'weighted', 'samples'). In cross validation use, for instance, scoring=\"f1_weighted\" instead of scoring=\"f1\".\n",
      "\n",
      "/usr/local/lib/python2.7/site-packages/sklearn/metrics/classification.py:1304: DeprecationWarning:\n",
      "\n",
      "The default `weighted` averaging is deprecated, and from version 0.18, use of precision, recall or F-score with multiclass or multilabel data or pos_label=None will result in an exception. Please set an explicit value for `average`, one of (None, 'micro', 'macro', 'weighted', 'samples'). In cross validation use, for instance, scoring=\"f1_weighted\" instead of scoring=\"f1\".\n",
      "\n"
     ]
    },
    {
     "name": "stdout",
     "output_type": "stream",
     "text": [
      "\n",
      "738"
     ]
    },
    {
     "name": "stderr",
     "output_type": "stream",
     "text": [
      "/usr/local/lib/python2.7/site-packages/sklearn/metrics/classification.py:1203: DeprecationWarning:\n",
      "\n",
      "The default `weighted` averaging is deprecated, and from version 0.18, use of precision, recall or F-score with multiclass or multilabel data or pos_label=None will result in an exception. Please set an explicit value for `average`, one of (None, 'micro', 'macro', 'weighted', 'samples'). In cross validation use, for instance, scoring=\"f1_weighted\" instead of scoring=\"f1\".\n",
      "\n",
      "/usr/local/lib/python2.7/site-packages/sklearn/metrics/classification.py:756: DeprecationWarning:\n",
      "\n",
      "The default `weighted` averaging is deprecated, and from version 0.18, use of precision, recall or F-score with multiclass or multilabel data or pos_label=None will result in an exception. Please set an explicit value for `average`, one of (None, 'micro', 'macro', 'weighted', 'samples'). In cross validation use, for instance, scoring=\"f1_weighted\" instead of scoring=\"f1\".\n",
      "\n",
      "/usr/local/lib/python2.7/site-packages/sklearn/metrics/classification.py:1304: DeprecationWarning:\n",
      "\n",
      "The default `weighted` averaging is deprecated, and from version 0.18, use of precision, recall or F-score with multiclass or multilabel data or pos_label=None will result in an exception. Please set an explicit value for `average`, one of (None, 'micro', 'macro', 'weighted', 'samples'). In cross validation use, for instance, scoring=\"f1_weighted\" instead of scoring=\"f1\".\n",
      "\n"
     ]
    },
    {
     "name": "stdout",
     "output_type": "stream",
     "text": [
      "\n",
      "737"
     ]
    },
    {
     "name": "stderr",
     "output_type": "stream",
     "text": [
      "/usr/local/lib/python2.7/site-packages/sklearn/metrics/classification.py:1203: DeprecationWarning:\n",
      "\n",
      "The default `weighted` averaging is deprecated, and from version 0.18, use of precision, recall or F-score with multiclass or multilabel data or pos_label=None will result in an exception. Please set an explicit value for `average`, one of (None, 'micro', 'macro', 'weighted', 'samples'). In cross validation use, for instance, scoring=\"f1_weighted\" instead of scoring=\"f1\".\n",
      "\n",
      "/usr/local/lib/python2.7/site-packages/sklearn/metrics/classification.py:756: DeprecationWarning:\n",
      "\n",
      "The default `weighted` averaging is deprecated, and from version 0.18, use of precision, recall or F-score with multiclass or multilabel data or pos_label=None will result in an exception. Please set an explicit value for `average`, one of (None, 'micro', 'macro', 'weighted', 'samples'). In cross validation use, for instance, scoring=\"f1_weighted\" instead of scoring=\"f1\".\n",
      "\n",
      "/usr/local/lib/python2.7/site-packages/sklearn/metrics/classification.py:1304: DeprecationWarning:\n",
      "\n",
      "The default `weighted` averaging is deprecated, and from version 0.18, use of precision, recall or F-score with multiclass or multilabel data or pos_label=None will result in an exception. Please set an explicit value for `average`, one of (None, 'micro', 'macro', 'weighted', 'samples'). In cross validation use, for instance, scoring=\"f1_weighted\" instead of scoring=\"f1\".\n",
      "\n"
     ]
    },
    {
     "name": "stdout",
     "output_type": "stream",
     "text": [
      "\n",
      "737"
     ]
    },
    {
     "name": "stderr",
     "output_type": "stream",
     "text": [
      "/usr/local/lib/python2.7/site-packages/sklearn/metrics/classification.py:1203: DeprecationWarning:\n",
      "\n",
      "The default `weighted` averaging is deprecated, and from version 0.18, use of precision, recall or F-score with multiclass or multilabel data or pos_label=None will result in an exception. Please set an explicit value for `average`, one of (None, 'micro', 'macro', 'weighted', 'samples'). In cross validation use, for instance, scoring=\"f1_weighted\" instead of scoring=\"f1\".\n",
      "\n",
      "/usr/local/lib/python2.7/site-packages/sklearn/metrics/classification.py:756: DeprecationWarning:\n",
      "\n",
      "The default `weighted` averaging is deprecated, and from version 0.18, use of precision, recall or F-score with multiclass or multilabel data or pos_label=None will result in an exception. Please set an explicit value for `average`, one of (None, 'micro', 'macro', 'weighted', 'samples'). In cross validation use, for instance, scoring=\"f1_weighted\" instead of scoring=\"f1\".\n",
      "\n",
      "/usr/local/lib/python2.7/site-packages/sklearn/metrics/classification.py:1304: DeprecationWarning:\n",
      "\n",
      "The default `weighted` averaging is deprecated, and from version 0.18, use of precision, recall or F-score with multiclass or multilabel data or pos_label=None will result in an exception. Please set an explicit value for `average`, one of (None, 'micro', 'macro', 'weighted', 'samples'). In cross validation use, for instance, scoring=\"f1_weighted\" instead of scoring=\"f1\".\n",
      "\n"
     ]
    },
    {
     "name": "stdout",
     "output_type": "stream",
     "text": [
      "\n",
      "737"
     ]
    },
    {
     "name": "stderr",
     "output_type": "stream",
     "text": [
      "/usr/local/lib/python2.7/site-packages/sklearn/metrics/classification.py:1203: DeprecationWarning:\n",
      "\n",
      "The default `weighted` averaging is deprecated, and from version 0.18, use of precision, recall or F-score with multiclass or multilabel data or pos_label=None will result in an exception. Please set an explicit value for `average`, one of (None, 'micro', 'macro', 'weighted', 'samples'). In cross validation use, for instance, scoring=\"f1_weighted\" instead of scoring=\"f1\".\n",
      "\n",
      "/usr/local/lib/python2.7/site-packages/sklearn/metrics/classification.py:756: DeprecationWarning:\n",
      "\n",
      "The default `weighted` averaging is deprecated, and from version 0.18, use of precision, recall or F-score with multiclass or multilabel data or pos_label=None will result in an exception. Please set an explicit value for `average`, one of (None, 'micro', 'macro', 'weighted', 'samples'). In cross validation use, for instance, scoring=\"f1_weighted\" instead of scoring=\"f1\".\n",
      "\n",
      "/usr/local/lib/python2.7/site-packages/sklearn/metrics/classification.py:1304: DeprecationWarning:\n",
      "\n",
      "The default `weighted` averaging is deprecated, and from version 0.18, use of precision, recall or F-score with multiclass or multilabel data or pos_label=None will result in an exception. Please set an explicit value for `average`, one of (None, 'micro', 'macro', 'weighted', 'samples'). In cross validation use, for instance, scoring=\"f1_weighted\" instead of scoring=\"f1\".\n",
      "\n"
     ]
    },
    {
     "name": "stdout",
     "output_type": "stream",
     "text": [
      "\n",
      "737"
     ]
    },
    {
     "name": "stderr",
     "output_type": "stream",
     "text": [
      "/usr/local/lib/python2.7/site-packages/sklearn/metrics/classification.py:1203: DeprecationWarning:\n",
      "\n",
      "The default `weighted` averaging is deprecated, and from version 0.18, use of precision, recall or F-score with multiclass or multilabel data or pos_label=None will result in an exception. Please set an explicit value for `average`, one of (None, 'micro', 'macro', 'weighted', 'samples'). In cross validation use, for instance, scoring=\"f1_weighted\" instead of scoring=\"f1\".\n",
      "\n",
      "/usr/local/lib/python2.7/site-packages/sklearn/metrics/classification.py:756: DeprecationWarning:\n",
      "\n",
      "The default `weighted` averaging is deprecated, and from version 0.18, use of precision, recall or F-score with multiclass or multilabel data or pos_label=None will result in an exception. Please set an explicit value for `average`, one of (None, 'micro', 'macro', 'weighted', 'samples'). In cross validation use, for instance, scoring=\"f1_weighted\" instead of scoring=\"f1\".\n",
      "\n",
      "/usr/local/lib/python2.7/site-packages/sklearn/metrics/classification.py:1304: DeprecationWarning:\n",
      "\n",
      "The default `weighted` averaging is deprecated, and from version 0.18, use of precision, recall or F-score with multiclass or multilabel data or pos_label=None will result in an exception. Please set an explicit value for `average`, one of (None, 'micro', 'macro', 'weighted', 'samples'). In cross validation use, for instance, scoring=\"f1_weighted\" instead of scoring=\"f1\".\n",
      "\n"
     ]
    },
    {
     "name": "stdout",
     "output_type": "stream",
     "text": [
      "\n",
      "740"
     ]
    },
    {
     "name": "stderr",
     "output_type": "stream",
     "text": [
      "/usr/local/lib/python2.7/site-packages/sklearn/metrics/classification.py:1203: DeprecationWarning:\n",
      "\n",
      "The default `weighted` averaging is deprecated, and from version 0.18, use of precision, recall or F-score with multiclass or multilabel data or pos_label=None will result in an exception. Please set an explicit value for `average`, one of (None, 'micro', 'macro', 'weighted', 'samples'). In cross validation use, for instance, scoring=\"f1_weighted\" instead of scoring=\"f1\".\n",
      "\n",
      "/usr/local/lib/python2.7/site-packages/sklearn/metrics/classification.py:756: DeprecationWarning:\n",
      "\n",
      "The default `weighted` averaging is deprecated, and from version 0.18, use of precision, recall or F-score with multiclass or multilabel data or pos_label=None will result in an exception. Please set an explicit value for `average`, one of (None, 'micro', 'macro', 'weighted', 'samples'). In cross validation use, for instance, scoring=\"f1_weighted\" instead of scoring=\"f1\".\n",
      "\n",
      "/usr/local/lib/python2.7/site-packages/sklearn/metrics/classification.py:1304: DeprecationWarning:\n",
      "\n",
      "The default `weighted` averaging is deprecated, and from version 0.18, use of precision, recall or F-score with multiclass or multilabel data or pos_label=None will result in an exception. Please set an explicit value for `average`, one of (None, 'micro', 'macro', 'weighted', 'samples'). In cross validation use, for instance, scoring=\"f1_weighted\" instead of scoring=\"f1\".\n",
      "\n"
     ]
    },
    {
     "name": "stdout",
     "output_type": "stream",
     "text": [
      "\n",
      "739"
     ]
    },
    {
     "name": "stderr",
     "output_type": "stream",
     "text": [
      "/usr/local/lib/python2.7/site-packages/sklearn/metrics/classification.py:1203: DeprecationWarning:\n",
      "\n",
      "The default `weighted` averaging is deprecated, and from version 0.18, use of precision, recall or F-score with multiclass or multilabel data or pos_label=None will result in an exception. Please set an explicit value for `average`, one of (None, 'micro', 'macro', 'weighted', 'samples'). In cross validation use, for instance, scoring=\"f1_weighted\" instead of scoring=\"f1\".\n",
      "\n",
      "/usr/local/lib/python2.7/site-packages/sklearn/metrics/classification.py:756: DeprecationWarning:\n",
      "\n",
      "The default `weighted` averaging is deprecated, and from version 0.18, use of precision, recall or F-score with multiclass or multilabel data or pos_label=None will result in an exception. Please set an explicit value for `average`, one of (None, 'micro', 'macro', 'weighted', 'samples'). In cross validation use, for instance, scoring=\"f1_weighted\" instead of scoring=\"f1\".\n",
      "\n",
      "/usr/local/lib/python2.7/site-packages/sklearn/metrics/classification.py:1304: DeprecationWarning:\n",
      "\n",
      "The default `weighted` averaging is deprecated, and from version 0.18, use of precision, recall or F-score with multiclass or multilabel data or pos_label=None will result in an exception. Please set an explicit value for `average`, one of (None, 'micro', 'macro', 'weighted', 'samples'). In cross validation use, for instance, scoring=\"f1_weighted\" instead of scoring=\"f1\".\n",
      "\n"
     ]
    },
    {
     "name": "stdout",
     "output_type": "stream",
     "text": [
      "\n",
      "739"
     ]
    },
    {
     "name": "stderr",
     "output_type": "stream",
     "text": [
      "/usr/local/lib/python2.7/site-packages/sklearn/metrics/classification.py:1203: DeprecationWarning:\n",
      "\n",
      "The default `weighted` averaging is deprecated, and from version 0.18, use of precision, recall or F-score with multiclass or multilabel data or pos_label=None will result in an exception. Please set an explicit value for `average`, one of (None, 'micro', 'macro', 'weighted', 'samples'). In cross validation use, for instance, scoring=\"f1_weighted\" instead of scoring=\"f1\".\n",
      "\n",
      "/usr/local/lib/python2.7/site-packages/sklearn/metrics/classification.py:756: DeprecationWarning:\n",
      "\n",
      "The default `weighted` averaging is deprecated, and from version 0.18, use of precision, recall or F-score with multiclass or multilabel data or pos_label=None will result in an exception. Please set an explicit value for `average`, one of (None, 'micro', 'macro', 'weighted', 'samples'). In cross validation use, for instance, scoring=\"f1_weighted\" instead of scoring=\"f1\".\n",
      "\n",
      "/usr/local/lib/python2.7/site-packages/sklearn/metrics/classification.py:1304: DeprecationWarning:\n",
      "\n",
      "The default `weighted` averaging is deprecated, and from version 0.18, use of precision, recall or F-score with multiclass or multilabel data or pos_label=None will result in an exception. Please set an explicit value for `average`, one of (None, 'micro', 'macro', 'weighted', 'samples'). In cross validation use, for instance, scoring=\"f1_weighted\" instead of scoring=\"f1\".\n",
      "\n"
     ]
    },
    {
     "name": "stdout",
     "output_type": "stream",
     "text": [
      "\n",
      "739"
     ]
    },
    {
     "name": "stderr",
     "output_type": "stream",
     "text": [
      "/usr/local/lib/python2.7/site-packages/sklearn/metrics/classification.py:1203: DeprecationWarning:\n",
      "\n",
      "The default `weighted` averaging is deprecated, and from version 0.18, use of precision, recall or F-score with multiclass or multilabel data or pos_label=None will result in an exception. Please set an explicit value for `average`, one of (None, 'micro', 'macro', 'weighted', 'samples'). In cross validation use, for instance, scoring=\"f1_weighted\" instead of scoring=\"f1\".\n",
      "\n",
      "/usr/local/lib/python2.7/site-packages/sklearn/metrics/classification.py:756: DeprecationWarning:\n",
      "\n",
      "The default `weighted` averaging is deprecated, and from version 0.18, use of precision, recall or F-score with multiclass or multilabel data or pos_label=None will result in an exception. Please set an explicit value for `average`, one of (None, 'micro', 'macro', 'weighted', 'samples'). In cross validation use, for instance, scoring=\"f1_weighted\" instead of scoring=\"f1\".\n",
      "\n",
      "/usr/local/lib/python2.7/site-packages/sklearn/metrics/classification.py:1304: DeprecationWarning:\n",
      "\n",
      "The default `weighted` averaging is deprecated, and from version 0.18, use of precision, recall or F-score with multiclass or multilabel data or pos_label=None will result in an exception. Please set an explicit value for `average`, one of (None, 'micro', 'macro', 'weighted', 'samples'). In cross validation use, for instance, scoring=\"f1_weighted\" instead of scoring=\"f1\".\n",
      "\n"
     ]
    },
    {
     "name": "stdout",
     "output_type": "stream",
     "text": [
      "\n",
      "738"
     ]
    },
    {
     "name": "stderr",
     "output_type": "stream",
     "text": [
      "/usr/local/lib/python2.7/site-packages/sklearn/metrics/classification.py:1203: DeprecationWarning:\n",
      "\n",
      "The default `weighted` averaging is deprecated, and from version 0.18, use of precision, recall or F-score with multiclass or multilabel data or pos_label=None will result in an exception. Please set an explicit value for `average`, one of (None, 'micro', 'macro', 'weighted', 'samples'). In cross validation use, for instance, scoring=\"f1_weighted\" instead of scoring=\"f1\".\n",
      "\n",
      "/usr/local/lib/python2.7/site-packages/sklearn/metrics/classification.py:756: DeprecationWarning:\n",
      "\n",
      "The default `weighted` averaging is deprecated, and from version 0.18, use of precision, recall or F-score with multiclass or multilabel data or pos_label=None will result in an exception. Please set an explicit value for `average`, one of (None, 'micro', 'macro', 'weighted', 'samples'). In cross validation use, for instance, scoring=\"f1_weighted\" instead of scoring=\"f1\".\n",
      "\n",
      "/usr/local/lib/python2.7/site-packages/sklearn/metrics/classification.py:1304: DeprecationWarning:\n",
      "\n",
      "The default `weighted` averaging is deprecated, and from version 0.18, use of precision, recall or F-score with multiclass or multilabel data or pos_label=None will result in an exception. Please set an explicit value for `average`, one of (None, 'micro', 'macro', 'weighted', 'samples'). In cross validation use, for instance, scoring=\"f1_weighted\" instead of scoring=\"f1\".\n",
      "\n"
     ]
    },
    {
     "name": "stdout",
     "output_type": "stream",
     "text": [
      "\n",
      "738"
     ]
    },
    {
     "name": "stderr",
     "output_type": "stream",
     "text": [
      "/usr/local/lib/python2.7/site-packages/sklearn/metrics/classification.py:1203: DeprecationWarning:\n",
      "\n",
      "The default `weighted` averaging is deprecated, and from version 0.18, use of precision, recall or F-score with multiclass or multilabel data or pos_label=None will result in an exception. Please set an explicit value for `average`, one of (None, 'micro', 'macro', 'weighted', 'samples'). In cross validation use, for instance, scoring=\"f1_weighted\" instead of scoring=\"f1\".\n",
      "\n",
      "/usr/local/lib/python2.7/site-packages/sklearn/metrics/classification.py:756: DeprecationWarning:\n",
      "\n",
      "The default `weighted` averaging is deprecated, and from version 0.18, use of precision, recall or F-score with multiclass or multilabel data or pos_label=None will result in an exception. Please set an explicit value for `average`, one of (None, 'micro', 'macro', 'weighted', 'samples'). In cross validation use, for instance, scoring=\"f1_weighted\" instead of scoring=\"f1\".\n",
      "\n",
      "/usr/local/lib/python2.7/site-packages/sklearn/metrics/classification.py:1304: DeprecationWarning:\n",
      "\n",
      "The default `weighted` averaging is deprecated, and from version 0.18, use of precision, recall or F-score with multiclass or multilabel data or pos_label=None will result in an exception. Please set an explicit value for `average`, one of (None, 'micro', 'macro', 'weighted', 'samples'). In cross validation use, for instance, scoring=\"f1_weighted\" instead of scoring=\"f1\".\n",
      "\n"
     ]
    },
    {
     "name": "stdout",
     "output_type": "stream",
     "text": [
      "\n",
      "737"
     ]
    },
    {
     "name": "stderr",
     "output_type": "stream",
     "text": [
      "/usr/local/lib/python2.7/site-packages/sklearn/metrics/classification.py:1203: DeprecationWarning:\n",
      "\n",
      "The default `weighted` averaging is deprecated, and from version 0.18, use of precision, recall or F-score with multiclass or multilabel data or pos_label=None will result in an exception. Please set an explicit value for `average`, one of (None, 'micro', 'macro', 'weighted', 'samples'). In cross validation use, for instance, scoring=\"f1_weighted\" instead of scoring=\"f1\".\n",
      "\n",
      "/usr/local/lib/python2.7/site-packages/sklearn/metrics/classification.py:756: DeprecationWarning:\n",
      "\n",
      "The default `weighted` averaging is deprecated, and from version 0.18, use of precision, recall or F-score with multiclass or multilabel data or pos_label=None will result in an exception. Please set an explicit value for `average`, one of (None, 'micro', 'macro', 'weighted', 'samples'). In cross validation use, for instance, scoring=\"f1_weighted\" instead of scoring=\"f1\".\n",
      "\n",
      "/usr/local/lib/python2.7/site-packages/sklearn/metrics/classification.py:1304: DeprecationWarning:\n",
      "\n",
      "The default `weighted` averaging is deprecated, and from version 0.18, use of precision, recall or F-score with multiclass or multilabel data or pos_label=None will result in an exception. Please set an explicit value for `average`, one of (None, 'micro', 'macro', 'weighted', 'samples'). In cross validation use, for instance, scoring=\"f1_weighted\" instead of scoring=\"f1\".\n",
      "\n"
     ]
    },
    {
     "name": "stdout",
     "output_type": "stream",
     "text": [
      "\n",
      "737"
     ]
    },
    {
     "name": "stderr",
     "output_type": "stream",
     "text": [
      "/usr/local/lib/python2.7/site-packages/sklearn/metrics/classification.py:1203: DeprecationWarning:\n",
      "\n",
      "The default `weighted` averaging is deprecated, and from version 0.18, use of precision, recall or F-score with multiclass or multilabel data or pos_label=None will result in an exception. Please set an explicit value for `average`, one of (None, 'micro', 'macro', 'weighted', 'samples'). In cross validation use, for instance, scoring=\"f1_weighted\" instead of scoring=\"f1\".\n",
      "\n",
      "/usr/local/lib/python2.7/site-packages/sklearn/metrics/classification.py:756: DeprecationWarning:\n",
      "\n",
      "The default `weighted` averaging is deprecated, and from version 0.18, use of precision, recall or F-score with multiclass or multilabel data or pos_label=None will result in an exception. Please set an explicit value for `average`, one of (None, 'micro', 'macro', 'weighted', 'samples'). In cross validation use, for instance, scoring=\"f1_weighted\" instead of scoring=\"f1\".\n",
      "\n",
      "/usr/local/lib/python2.7/site-packages/sklearn/metrics/classification.py:1304: DeprecationWarning:\n",
      "\n",
      "The default `weighted` averaging is deprecated, and from version 0.18, use of precision, recall or F-score with multiclass or multilabel data or pos_label=None will result in an exception. Please set an explicit value for `average`, one of (None, 'micro', 'macro', 'weighted', 'samples'). In cross validation use, for instance, scoring=\"f1_weighted\" instead of scoring=\"f1\".\n",
      "\n"
     ]
    },
    {
     "name": "stdout",
     "output_type": "stream",
     "text": [
      "\n",
      "737"
     ]
    },
    {
     "name": "stderr",
     "output_type": "stream",
     "text": [
      "/usr/local/lib/python2.7/site-packages/sklearn/metrics/classification.py:1203: DeprecationWarning:\n",
      "\n",
      "The default `weighted` averaging is deprecated, and from version 0.18, use of precision, recall or F-score with multiclass or multilabel data or pos_label=None will result in an exception. Please set an explicit value for `average`, one of (None, 'micro', 'macro', 'weighted', 'samples'). In cross validation use, for instance, scoring=\"f1_weighted\" instead of scoring=\"f1\".\n",
      "\n",
      "/usr/local/lib/python2.7/site-packages/sklearn/metrics/classification.py:756: DeprecationWarning:\n",
      "\n",
      "The default `weighted` averaging is deprecated, and from version 0.18, use of precision, recall or F-score with multiclass or multilabel data or pos_label=None will result in an exception. Please set an explicit value for `average`, one of (None, 'micro', 'macro', 'weighted', 'samples'). In cross validation use, for instance, scoring=\"f1_weighted\" instead of scoring=\"f1\".\n",
      "\n",
      "/usr/local/lib/python2.7/site-packages/sklearn/metrics/classification.py:1304: DeprecationWarning:\n",
      "\n",
      "The default `weighted` averaging is deprecated, and from version 0.18, use of precision, recall or F-score with multiclass or multilabel data or pos_label=None will result in an exception. Please set an explicit value for `average`, one of (None, 'micro', 'macro', 'weighted', 'samples'). In cross validation use, for instance, scoring=\"f1_weighted\" instead of scoring=\"f1\".\n",
      "\n"
     ]
    },
    {
     "name": "stdout",
     "output_type": "stream",
     "text": [
      "\n",
      "737"
     ]
    },
    {
     "name": "stderr",
     "output_type": "stream",
     "text": [
      "/usr/local/lib/python2.7/site-packages/sklearn/metrics/classification.py:1203: DeprecationWarning:\n",
      "\n",
      "The default `weighted` averaging is deprecated, and from version 0.18, use of precision, recall or F-score with multiclass or multilabel data or pos_label=None will result in an exception. Please set an explicit value for `average`, one of (None, 'micro', 'macro', 'weighted', 'samples'). In cross validation use, for instance, scoring=\"f1_weighted\" instead of scoring=\"f1\".\n",
      "\n",
      "/usr/local/lib/python2.7/site-packages/sklearn/metrics/classification.py:756: DeprecationWarning:\n",
      "\n",
      "The default `weighted` averaging is deprecated, and from version 0.18, use of precision, recall or F-score with multiclass or multilabel data or pos_label=None will result in an exception. Please set an explicit value for `average`, one of (None, 'micro', 'macro', 'weighted', 'samples'). In cross validation use, for instance, scoring=\"f1_weighted\" instead of scoring=\"f1\".\n",
      "\n",
      "/usr/local/lib/python2.7/site-packages/sklearn/metrics/classification.py:1304: DeprecationWarning:\n",
      "\n",
      "The default `weighted` averaging is deprecated, and from version 0.18, use of precision, recall or F-score with multiclass or multilabel data or pos_label=None will result in an exception. Please set an explicit value for `average`, one of (None, 'micro', 'macro', 'weighted', 'samples'). In cross validation use, for instance, scoring=\"f1_weighted\" instead of scoring=\"f1\".\n",
      "\n"
     ]
    },
    {
     "name": "stdout",
     "output_type": "stream",
     "text": [
      "\n",
      "740"
     ]
    },
    {
     "name": "stderr",
     "output_type": "stream",
     "text": [
      "/usr/local/lib/python2.7/site-packages/sklearn/metrics/classification.py:1203: DeprecationWarning:\n",
      "\n",
      "The default `weighted` averaging is deprecated, and from version 0.18, use of precision, recall or F-score with multiclass or multilabel data or pos_label=None will result in an exception. Please set an explicit value for `average`, one of (None, 'micro', 'macro', 'weighted', 'samples'). In cross validation use, for instance, scoring=\"f1_weighted\" instead of scoring=\"f1\".\n",
      "\n",
      "/usr/local/lib/python2.7/site-packages/sklearn/metrics/classification.py:756: DeprecationWarning:\n",
      "\n",
      "The default `weighted` averaging is deprecated, and from version 0.18, use of precision, recall or F-score with multiclass or multilabel data or pos_label=None will result in an exception. Please set an explicit value for `average`, one of (None, 'micro', 'macro', 'weighted', 'samples'). In cross validation use, for instance, scoring=\"f1_weighted\" instead of scoring=\"f1\".\n",
      "\n",
      "/usr/local/lib/python2.7/site-packages/sklearn/metrics/classification.py:1304: DeprecationWarning:\n",
      "\n",
      "The default `weighted` averaging is deprecated, and from version 0.18, use of precision, recall or F-score with multiclass or multilabel data or pos_label=None will result in an exception. Please set an explicit value for `average`, one of (None, 'micro', 'macro', 'weighted', 'samples'). In cross validation use, for instance, scoring=\"f1_weighted\" instead of scoring=\"f1\".\n",
      "\n"
     ]
    },
    {
     "name": "stdout",
     "output_type": "stream",
     "text": [
      "\n",
      "739"
     ]
    },
    {
     "name": "stderr",
     "output_type": "stream",
     "text": [
      "/usr/local/lib/python2.7/site-packages/sklearn/metrics/classification.py:1203: DeprecationWarning:\n",
      "\n",
      "The default `weighted` averaging is deprecated, and from version 0.18, use of precision, recall or F-score with multiclass or multilabel data or pos_label=None will result in an exception. Please set an explicit value for `average`, one of (None, 'micro', 'macro', 'weighted', 'samples'). In cross validation use, for instance, scoring=\"f1_weighted\" instead of scoring=\"f1\".\n",
      "\n",
      "/usr/local/lib/python2.7/site-packages/sklearn/metrics/classification.py:756: DeprecationWarning:\n",
      "\n",
      "The default `weighted` averaging is deprecated, and from version 0.18, use of precision, recall or F-score with multiclass or multilabel data or pos_label=None will result in an exception. Please set an explicit value for `average`, one of (None, 'micro', 'macro', 'weighted', 'samples'). In cross validation use, for instance, scoring=\"f1_weighted\" instead of scoring=\"f1\".\n",
      "\n",
      "/usr/local/lib/python2.7/site-packages/sklearn/metrics/classification.py:1304: DeprecationWarning:\n",
      "\n",
      "The default `weighted` averaging is deprecated, and from version 0.18, use of precision, recall or F-score with multiclass or multilabel data or pos_label=None will result in an exception. Please set an explicit value for `average`, one of (None, 'micro', 'macro', 'weighted', 'samples'). In cross validation use, for instance, scoring=\"f1_weighted\" instead of scoring=\"f1\".\n",
      "\n"
     ]
    },
    {
     "name": "stdout",
     "output_type": "stream",
     "text": [
      "\n",
      "739"
     ]
    },
    {
     "name": "stderr",
     "output_type": "stream",
     "text": [
      "/usr/local/lib/python2.7/site-packages/sklearn/metrics/classification.py:1203: DeprecationWarning:\n",
      "\n",
      "The default `weighted` averaging is deprecated, and from version 0.18, use of precision, recall or F-score with multiclass or multilabel data or pos_label=None will result in an exception. Please set an explicit value for `average`, one of (None, 'micro', 'macro', 'weighted', 'samples'). In cross validation use, for instance, scoring=\"f1_weighted\" instead of scoring=\"f1\".\n",
      "\n",
      "/usr/local/lib/python2.7/site-packages/sklearn/metrics/classification.py:756: DeprecationWarning:\n",
      "\n",
      "The default `weighted` averaging is deprecated, and from version 0.18, use of precision, recall or F-score with multiclass or multilabel data or pos_label=None will result in an exception. Please set an explicit value for `average`, one of (None, 'micro', 'macro', 'weighted', 'samples'). In cross validation use, for instance, scoring=\"f1_weighted\" instead of scoring=\"f1\".\n",
      "\n",
      "/usr/local/lib/python2.7/site-packages/sklearn/metrics/classification.py:1304: DeprecationWarning:\n",
      "\n",
      "The default `weighted` averaging is deprecated, and from version 0.18, use of precision, recall or F-score with multiclass or multilabel data or pos_label=None will result in an exception. Please set an explicit value for `average`, one of (None, 'micro', 'macro', 'weighted', 'samples'). In cross validation use, for instance, scoring=\"f1_weighted\" instead of scoring=\"f1\".\n",
      "\n"
     ]
    },
    {
     "name": "stdout",
     "output_type": "stream",
     "text": [
      "\n",
      "739"
     ]
    },
    {
     "name": "stderr",
     "output_type": "stream",
     "text": [
      "/usr/local/lib/python2.7/site-packages/sklearn/metrics/classification.py:1203: DeprecationWarning:\n",
      "\n",
      "The default `weighted` averaging is deprecated, and from version 0.18, use of precision, recall or F-score with multiclass or multilabel data or pos_label=None will result in an exception. Please set an explicit value for `average`, one of (None, 'micro', 'macro', 'weighted', 'samples'). In cross validation use, for instance, scoring=\"f1_weighted\" instead of scoring=\"f1\".\n",
      "\n",
      "/usr/local/lib/python2.7/site-packages/sklearn/metrics/classification.py:756: DeprecationWarning:\n",
      "\n",
      "The default `weighted` averaging is deprecated, and from version 0.18, use of precision, recall or F-score with multiclass or multilabel data or pos_label=None will result in an exception. Please set an explicit value for `average`, one of (None, 'micro', 'macro', 'weighted', 'samples'). In cross validation use, for instance, scoring=\"f1_weighted\" instead of scoring=\"f1\".\n",
      "\n",
      "/usr/local/lib/python2.7/site-packages/sklearn/metrics/classification.py:1304: DeprecationWarning:\n",
      "\n",
      "The default `weighted` averaging is deprecated, and from version 0.18, use of precision, recall or F-score with multiclass or multilabel data or pos_label=None will result in an exception. Please set an explicit value for `average`, one of (None, 'micro', 'macro', 'weighted', 'samples'). In cross validation use, for instance, scoring=\"f1_weighted\" instead of scoring=\"f1\".\n",
      "\n"
     ]
    },
    {
     "name": "stdout",
     "output_type": "stream",
     "text": [
      "\n",
      "738"
     ]
    },
    {
     "name": "stderr",
     "output_type": "stream",
     "text": [
      "/usr/local/lib/python2.7/site-packages/sklearn/metrics/classification.py:1203: DeprecationWarning:\n",
      "\n",
      "The default `weighted` averaging is deprecated, and from version 0.18, use of precision, recall or F-score with multiclass or multilabel data or pos_label=None will result in an exception. Please set an explicit value for `average`, one of (None, 'micro', 'macro', 'weighted', 'samples'). In cross validation use, for instance, scoring=\"f1_weighted\" instead of scoring=\"f1\".\n",
      "\n",
      "/usr/local/lib/python2.7/site-packages/sklearn/metrics/classification.py:756: DeprecationWarning:\n",
      "\n",
      "The default `weighted` averaging is deprecated, and from version 0.18, use of precision, recall or F-score with multiclass or multilabel data or pos_label=None will result in an exception. Please set an explicit value for `average`, one of (None, 'micro', 'macro', 'weighted', 'samples'). In cross validation use, for instance, scoring=\"f1_weighted\" instead of scoring=\"f1\".\n",
      "\n",
      "/usr/local/lib/python2.7/site-packages/sklearn/metrics/classification.py:1304: DeprecationWarning:\n",
      "\n",
      "The default `weighted` averaging is deprecated, and from version 0.18, use of precision, recall or F-score with multiclass or multilabel data or pos_label=None will result in an exception. Please set an explicit value for `average`, one of (None, 'micro', 'macro', 'weighted', 'samples'). In cross validation use, for instance, scoring=\"f1_weighted\" instead of scoring=\"f1\".\n",
      "\n"
     ]
    },
    {
     "name": "stdout",
     "output_type": "stream",
     "text": [
      "\n",
      "738"
     ]
    },
    {
     "name": "stderr",
     "output_type": "stream",
     "text": [
      "/usr/local/lib/python2.7/site-packages/sklearn/metrics/classification.py:1203: DeprecationWarning:\n",
      "\n",
      "The default `weighted` averaging is deprecated, and from version 0.18, use of precision, recall or F-score with multiclass or multilabel data or pos_label=None will result in an exception. Please set an explicit value for `average`, one of (None, 'micro', 'macro', 'weighted', 'samples'). In cross validation use, for instance, scoring=\"f1_weighted\" instead of scoring=\"f1\".\n",
      "\n",
      "/usr/local/lib/python2.7/site-packages/sklearn/metrics/classification.py:756: DeprecationWarning:\n",
      "\n",
      "The default `weighted` averaging is deprecated, and from version 0.18, use of precision, recall or F-score with multiclass or multilabel data or pos_label=None will result in an exception. Please set an explicit value for `average`, one of (None, 'micro', 'macro', 'weighted', 'samples'). In cross validation use, for instance, scoring=\"f1_weighted\" instead of scoring=\"f1\".\n",
      "\n",
      "/usr/local/lib/python2.7/site-packages/sklearn/metrics/classification.py:1304: DeprecationWarning:\n",
      "\n",
      "The default `weighted` averaging is deprecated, and from version 0.18, use of precision, recall or F-score with multiclass or multilabel data or pos_label=None will result in an exception. Please set an explicit value for `average`, one of (None, 'micro', 'macro', 'weighted', 'samples'). In cross validation use, for instance, scoring=\"f1_weighted\" instead of scoring=\"f1\".\n",
      "\n"
     ]
    },
    {
     "name": "stdout",
     "output_type": "stream",
     "text": [
      "\n",
      "737"
     ]
    },
    {
     "name": "stderr",
     "output_type": "stream",
     "text": [
      "/usr/local/lib/python2.7/site-packages/sklearn/metrics/classification.py:1203: DeprecationWarning:\n",
      "\n",
      "The default `weighted` averaging is deprecated, and from version 0.18, use of precision, recall or F-score with multiclass or multilabel data or pos_label=None will result in an exception. Please set an explicit value for `average`, one of (None, 'micro', 'macro', 'weighted', 'samples'). In cross validation use, for instance, scoring=\"f1_weighted\" instead of scoring=\"f1\".\n",
      "\n",
      "/usr/local/lib/python2.7/site-packages/sklearn/metrics/classification.py:756: DeprecationWarning:\n",
      "\n",
      "The default `weighted` averaging is deprecated, and from version 0.18, use of precision, recall or F-score with multiclass or multilabel data or pos_label=None will result in an exception. Please set an explicit value for `average`, one of (None, 'micro', 'macro', 'weighted', 'samples'). In cross validation use, for instance, scoring=\"f1_weighted\" instead of scoring=\"f1\".\n",
      "\n",
      "/usr/local/lib/python2.7/site-packages/sklearn/metrics/classification.py:1304: DeprecationWarning:\n",
      "\n",
      "The default `weighted` averaging is deprecated, and from version 0.18, use of precision, recall or F-score with multiclass or multilabel data or pos_label=None will result in an exception. Please set an explicit value for `average`, one of (None, 'micro', 'macro', 'weighted', 'samples'). In cross validation use, for instance, scoring=\"f1_weighted\" instead of scoring=\"f1\".\n",
      "\n"
     ]
    },
    {
     "name": "stdout",
     "output_type": "stream",
     "text": [
      "\n",
      "737"
     ]
    },
    {
     "name": "stderr",
     "output_type": "stream",
     "text": [
      "/usr/local/lib/python2.7/site-packages/sklearn/metrics/classification.py:1203: DeprecationWarning:\n",
      "\n",
      "The default `weighted` averaging is deprecated, and from version 0.18, use of precision, recall or F-score with multiclass or multilabel data or pos_label=None will result in an exception. Please set an explicit value for `average`, one of (None, 'micro', 'macro', 'weighted', 'samples'). In cross validation use, for instance, scoring=\"f1_weighted\" instead of scoring=\"f1\".\n",
      "\n",
      "/usr/local/lib/python2.7/site-packages/sklearn/metrics/classification.py:756: DeprecationWarning:\n",
      "\n",
      "The default `weighted` averaging is deprecated, and from version 0.18, use of precision, recall or F-score with multiclass or multilabel data or pos_label=None will result in an exception. Please set an explicit value for `average`, one of (None, 'micro', 'macro', 'weighted', 'samples'). In cross validation use, for instance, scoring=\"f1_weighted\" instead of scoring=\"f1\".\n",
      "\n",
      "/usr/local/lib/python2.7/site-packages/sklearn/metrics/classification.py:1304: DeprecationWarning:\n",
      "\n",
      "The default `weighted` averaging is deprecated, and from version 0.18, use of precision, recall or F-score with multiclass or multilabel data or pos_label=None will result in an exception. Please set an explicit value for `average`, one of (None, 'micro', 'macro', 'weighted', 'samples'). In cross validation use, for instance, scoring=\"f1_weighted\" instead of scoring=\"f1\".\n",
      "\n"
     ]
    },
    {
     "name": "stdout",
     "output_type": "stream",
     "text": [
      "\n",
      "737"
     ]
    },
    {
     "name": "stderr",
     "output_type": "stream",
     "text": [
      "/usr/local/lib/python2.7/site-packages/sklearn/metrics/classification.py:1203: DeprecationWarning:\n",
      "\n",
      "The default `weighted` averaging is deprecated, and from version 0.18, use of precision, recall or F-score with multiclass or multilabel data or pos_label=None will result in an exception. Please set an explicit value for `average`, one of (None, 'micro', 'macro', 'weighted', 'samples'). In cross validation use, for instance, scoring=\"f1_weighted\" instead of scoring=\"f1\".\n",
      "\n",
      "/usr/local/lib/python2.7/site-packages/sklearn/metrics/classification.py:756: DeprecationWarning:\n",
      "\n",
      "The default `weighted` averaging is deprecated, and from version 0.18, use of precision, recall or F-score with multiclass or multilabel data or pos_label=None will result in an exception. Please set an explicit value for `average`, one of (None, 'micro', 'macro', 'weighted', 'samples'). In cross validation use, for instance, scoring=\"f1_weighted\" instead of scoring=\"f1\".\n",
      "\n",
      "/usr/local/lib/python2.7/site-packages/sklearn/metrics/classification.py:1304: DeprecationWarning:\n",
      "\n",
      "The default `weighted` averaging is deprecated, and from version 0.18, use of precision, recall or F-score with multiclass or multilabel data or pos_label=None will result in an exception. Please set an explicit value for `average`, one of (None, 'micro', 'macro', 'weighted', 'samples'). In cross validation use, for instance, scoring=\"f1_weighted\" instead of scoring=\"f1\".\n",
      "\n"
     ]
    },
    {
     "name": "stdout",
     "output_type": "stream",
     "text": [
      "\n",
      "737"
     ]
    },
    {
     "name": "stderr",
     "output_type": "stream",
     "text": [
      "/usr/local/lib/python2.7/site-packages/sklearn/metrics/classification.py:1203: DeprecationWarning:\n",
      "\n",
      "The default `weighted` averaging is deprecated, and from version 0.18, use of precision, recall or F-score with multiclass or multilabel data or pos_label=None will result in an exception. Please set an explicit value for `average`, one of (None, 'micro', 'macro', 'weighted', 'samples'). In cross validation use, for instance, scoring=\"f1_weighted\" instead of scoring=\"f1\".\n",
      "\n",
      "/usr/local/lib/python2.7/site-packages/sklearn/metrics/classification.py:756: DeprecationWarning:\n",
      "\n",
      "The default `weighted` averaging is deprecated, and from version 0.18, use of precision, recall or F-score with multiclass or multilabel data or pos_label=None will result in an exception. Please set an explicit value for `average`, one of (None, 'micro', 'macro', 'weighted', 'samples'). In cross validation use, for instance, scoring=\"f1_weighted\" instead of scoring=\"f1\".\n",
      "\n",
      "/usr/local/lib/python2.7/site-packages/sklearn/metrics/classification.py:1304: DeprecationWarning:\n",
      "\n",
      "The default `weighted` averaging is deprecated, and from version 0.18, use of precision, recall or F-score with multiclass or multilabel data or pos_label=None will result in an exception. Please set an explicit value for `average`, one of (None, 'micro', 'macro', 'weighted', 'samples'). In cross validation use, for instance, scoring=\"f1_weighted\" instead of scoring=\"f1\".\n",
      "\n"
     ]
    },
    {
     "name": "stdout",
     "output_type": "stream",
     "text": [
      "\n",
      "740"
     ]
    },
    {
     "name": "stderr",
     "output_type": "stream",
     "text": [
      "/usr/local/lib/python2.7/site-packages/sklearn/metrics/classification.py:1203: DeprecationWarning:\n",
      "\n",
      "The default `weighted` averaging is deprecated, and from version 0.18, use of precision, recall or F-score with multiclass or multilabel data or pos_label=None will result in an exception. Please set an explicit value for `average`, one of (None, 'micro', 'macro', 'weighted', 'samples'). In cross validation use, for instance, scoring=\"f1_weighted\" instead of scoring=\"f1\".\n",
      "\n",
      "/usr/local/lib/python2.7/site-packages/sklearn/metrics/classification.py:756: DeprecationWarning:\n",
      "\n",
      "The default `weighted` averaging is deprecated, and from version 0.18, use of precision, recall or F-score with multiclass or multilabel data or pos_label=None will result in an exception. Please set an explicit value for `average`, one of (None, 'micro', 'macro', 'weighted', 'samples'). In cross validation use, for instance, scoring=\"f1_weighted\" instead of scoring=\"f1\".\n",
      "\n",
      "/usr/local/lib/python2.7/site-packages/sklearn/metrics/classification.py:1304: DeprecationWarning:\n",
      "\n",
      "The default `weighted` averaging is deprecated, and from version 0.18, use of precision, recall or F-score with multiclass or multilabel data or pos_label=None will result in an exception. Please set an explicit value for `average`, one of (None, 'micro', 'macro', 'weighted', 'samples'). In cross validation use, for instance, scoring=\"f1_weighted\" instead of scoring=\"f1\".\n",
      "\n"
     ]
    },
    {
     "name": "stdout",
     "output_type": "stream",
     "text": [
      "\n",
      "739"
     ]
    },
    {
     "name": "stderr",
     "output_type": "stream",
     "text": [
      "/usr/local/lib/python2.7/site-packages/sklearn/metrics/classification.py:1203: DeprecationWarning:\n",
      "\n",
      "The default `weighted` averaging is deprecated, and from version 0.18, use of precision, recall or F-score with multiclass or multilabel data or pos_label=None will result in an exception. Please set an explicit value for `average`, one of (None, 'micro', 'macro', 'weighted', 'samples'). In cross validation use, for instance, scoring=\"f1_weighted\" instead of scoring=\"f1\".\n",
      "\n",
      "/usr/local/lib/python2.7/site-packages/sklearn/metrics/classification.py:756: DeprecationWarning:\n",
      "\n",
      "The default `weighted` averaging is deprecated, and from version 0.18, use of precision, recall or F-score with multiclass or multilabel data or pos_label=None will result in an exception. Please set an explicit value for `average`, one of (None, 'micro', 'macro', 'weighted', 'samples'). In cross validation use, for instance, scoring=\"f1_weighted\" instead of scoring=\"f1\".\n",
      "\n",
      "/usr/local/lib/python2.7/site-packages/sklearn/metrics/classification.py:1304: DeprecationWarning:\n",
      "\n",
      "The default `weighted` averaging is deprecated, and from version 0.18, use of precision, recall or F-score with multiclass or multilabel data or pos_label=None will result in an exception. Please set an explicit value for `average`, one of (None, 'micro', 'macro', 'weighted', 'samples'). In cross validation use, for instance, scoring=\"f1_weighted\" instead of scoring=\"f1\".\n",
      "\n"
     ]
    },
    {
     "name": "stdout",
     "output_type": "stream",
     "text": [
      "\n",
      "739"
     ]
    },
    {
     "name": "stderr",
     "output_type": "stream",
     "text": [
      "/usr/local/lib/python2.7/site-packages/sklearn/metrics/classification.py:1203: DeprecationWarning:\n",
      "\n",
      "The default `weighted` averaging is deprecated, and from version 0.18, use of precision, recall or F-score with multiclass or multilabel data or pos_label=None will result in an exception. Please set an explicit value for `average`, one of (None, 'micro', 'macro', 'weighted', 'samples'). In cross validation use, for instance, scoring=\"f1_weighted\" instead of scoring=\"f1\".\n",
      "\n",
      "/usr/local/lib/python2.7/site-packages/sklearn/metrics/classification.py:756: DeprecationWarning:\n",
      "\n",
      "The default `weighted` averaging is deprecated, and from version 0.18, use of precision, recall or F-score with multiclass or multilabel data or pos_label=None will result in an exception. Please set an explicit value for `average`, one of (None, 'micro', 'macro', 'weighted', 'samples'). In cross validation use, for instance, scoring=\"f1_weighted\" instead of scoring=\"f1\".\n",
      "\n",
      "/usr/local/lib/python2.7/site-packages/sklearn/metrics/classification.py:1304: DeprecationWarning:\n",
      "\n",
      "The default `weighted` averaging is deprecated, and from version 0.18, use of precision, recall or F-score with multiclass or multilabel data or pos_label=None will result in an exception. Please set an explicit value for `average`, one of (None, 'micro', 'macro', 'weighted', 'samples'). In cross validation use, for instance, scoring=\"f1_weighted\" instead of scoring=\"f1\".\n",
      "\n"
     ]
    },
    {
     "name": "stdout",
     "output_type": "stream",
     "text": [
      "\n",
      "739"
     ]
    },
    {
     "name": "stderr",
     "output_type": "stream",
     "text": [
      "/usr/local/lib/python2.7/site-packages/sklearn/metrics/classification.py:1203: DeprecationWarning:\n",
      "\n",
      "The default `weighted` averaging is deprecated, and from version 0.18, use of precision, recall or F-score with multiclass or multilabel data or pos_label=None will result in an exception. Please set an explicit value for `average`, one of (None, 'micro', 'macro', 'weighted', 'samples'). In cross validation use, for instance, scoring=\"f1_weighted\" instead of scoring=\"f1\".\n",
      "\n",
      "/usr/local/lib/python2.7/site-packages/sklearn/metrics/classification.py:756: DeprecationWarning:\n",
      "\n",
      "The default `weighted` averaging is deprecated, and from version 0.18, use of precision, recall or F-score with multiclass or multilabel data or pos_label=None will result in an exception. Please set an explicit value for `average`, one of (None, 'micro', 'macro', 'weighted', 'samples'). In cross validation use, for instance, scoring=\"f1_weighted\" instead of scoring=\"f1\".\n",
      "\n",
      "/usr/local/lib/python2.7/site-packages/sklearn/metrics/classification.py:1304: DeprecationWarning:\n",
      "\n",
      "The default `weighted` averaging is deprecated, and from version 0.18, use of precision, recall or F-score with multiclass or multilabel data or pos_label=None will result in an exception. Please set an explicit value for `average`, one of (None, 'micro', 'macro', 'weighted', 'samples'). In cross validation use, for instance, scoring=\"f1_weighted\" instead of scoring=\"f1\".\n",
      "\n"
     ]
    },
    {
     "name": "stdout",
     "output_type": "stream",
     "text": [
      "\n",
      "738"
     ]
    },
    {
     "name": "stderr",
     "output_type": "stream",
     "text": [
      "/usr/local/lib/python2.7/site-packages/sklearn/metrics/classification.py:1203: DeprecationWarning:\n",
      "\n",
      "The default `weighted` averaging is deprecated, and from version 0.18, use of precision, recall or F-score with multiclass or multilabel data or pos_label=None will result in an exception. Please set an explicit value for `average`, one of (None, 'micro', 'macro', 'weighted', 'samples'). In cross validation use, for instance, scoring=\"f1_weighted\" instead of scoring=\"f1\".\n",
      "\n",
      "/usr/local/lib/python2.7/site-packages/sklearn/metrics/classification.py:756: DeprecationWarning:\n",
      "\n",
      "The default `weighted` averaging is deprecated, and from version 0.18, use of precision, recall or F-score with multiclass or multilabel data or pos_label=None will result in an exception. Please set an explicit value for `average`, one of (None, 'micro', 'macro', 'weighted', 'samples'). In cross validation use, for instance, scoring=\"f1_weighted\" instead of scoring=\"f1\".\n",
      "\n",
      "/usr/local/lib/python2.7/site-packages/sklearn/metrics/classification.py:1304: DeprecationWarning:\n",
      "\n",
      "The default `weighted` averaging is deprecated, and from version 0.18, use of precision, recall or F-score with multiclass or multilabel data or pos_label=None will result in an exception. Please set an explicit value for `average`, one of (None, 'micro', 'macro', 'weighted', 'samples'). In cross validation use, for instance, scoring=\"f1_weighted\" instead of scoring=\"f1\".\n",
      "\n"
     ]
    },
    {
     "name": "stdout",
     "output_type": "stream",
     "text": [
      "\n",
      "738"
     ]
    },
    {
     "name": "stderr",
     "output_type": "stream",
     "text": [
      "/usr/local/lib/python2.7/site-packages/sklearn/metrics/classification.py:1203: DeprecationWarning:\n",
      "\n",
      "The default `weighted` averaging is deprecated, and from version 0.18, use of precision, recall or F-score with multiclass or multilabel data or pos_label=None will result in an exception. Please set an explicit value for `average`, one of (None, 'micro', 'macro', 'weighted', 'samples'). In cross validation use, for instance, scoring=\"f1_weighted\" instead of scoring=\"f1\".\n",
      "\n",
      "/usr/local/lib/python2.7/site-packages/sklearn/metrics/classification.py:756: DeprecationWarning:\n",
      "\n",
      "The default `weighted` averaging is deprecated, and from version 0.18, use of precision, recall or F-score with multiclass or multilabel data or pos_label=None will result in an exception. Please set an explicit value for `average`, one of (None, 'micro', 'macro', 'weighted', 'samples'). In cross validation use, for instance, scoring=\"f1_weighted\" instead of scoring=\"f1\".\n",
      "\n",
      "/usr/local/lib/python2.7/site-packages/sklearn/metrics/classification.py:1304: DeprecationWarning:\n",
      "\n",
      "The default `weighted` averaging is deprecated, and from version 0.18, use of precision, recall or F-score with multiclass or multilabel data or pos_label=None will result in an exception. Please set an explicit value for `average`, one of (None, 'micro', 'macro', 'weighted', 'samples'). In cross validation use, for instance, scoring=\"f1_weighted\" instead of scoring=\"f1\".\n",
      "\n"
     ]
    },
    {
     "name": "stdout",
     "output_type": "stream",
     "text": [
      "\n",
      "737"
     ]
    },
    {
     "name": "stderr",
     "output_type": "stream",
     "text": [
      "/usr/local/lib/python2.7/site-packages/sklearn/metrics/classification.py:1203: DeprecationWarning:\n",
      "\n",
      "The default `weighted` averaging is deprecated, and from version 0.18, use of precision, recall or F-score with multiclass or multilabel data or pos_label=None will result in an exception. Please set an explicit value for `average`, one of (None, 'micro', 'macro', 'weighted', 'samples'). In cross validation use, for instance, scoring=\"f1_weighted\" instead of scoring=\"f1\".\n",
      "\n",
      "/usr/local/lib/python2.7/site-packages/sklearn/metrics/classification.py:756: DeprecationWarning:\n",
      "\n",
      "The default `weighted` averaging is deprecated, and from version 0.18, use of precision, recall or F-score with multiclass or multilabel data or pos_label=None will result in an exception. Please set an explicit value for `average`, one of (None, 'micro', 'macro', 'weighted', 'samples'). In cross validation use, for instance, scoring=\"f1_weighted\" instead of scoring=\"f1\".\n",
      "\n",
      "/usr/local/lib/python2.7/site-packages/sklearn/metrics/classification.py:1304: DeprecationWarning:\n",
      "\n",
      "The default `weighted` averaging is deprecated, and from version 0.18, use of precision, recall or F-score with multiclass or multilabel data or pos_label=None will result in an exception. Please set an explicit value for `average`, one of (None, 'micro', 'macro', 'weighted', 'samples'). In cross validation use, for instance, scoring=\"f1_weighted\" instead of scoring=\"f1\".\n",
      "\n"
     ]
    },
    {
     "name": "stdout",
     "output_type": "stream",
     "text": [
      "\n",
      "737"
     ]
    },
    {
     "name": "stderr",
     "output_type": "stream",
     "text": [
      "/usr/local/lib/python2.7/site-packages/sklearn/metrics/classification.py:1203: DeprecationWarning:\n",
      "\n",
      "The default `weighted` averaging is deprecated, and from version 0.18, use of precision, recall or F-score with multiclass or multilabel data or pos_label=None will result in an exception. Please set an explicit value for `average`, one of (None, 'micro', 'macro', 'weighted', 'samples'). In cross validation use, for instance, scoring=\"f1_weighted\" instead of scoring=\"f1\".\n",
      "\n",
      "/usr/local/lib/python2.7/site-packages/sklearn/metrics/classification.py:756: DeprecationWarning:\n",
      "\n",
      "The default `weighted` averaging is deprecated, and from version 0.18, use of precision, recall or F-score with multiclass or multilabel data or pos_label=None will result in an exception. Please set an explicit value for `average`, one of (None, 'micro', 'macro', 'weighted', 'samples'). In cross validation use, for instance, scoring=\"f1_weighted\" instead of scoring=\"f1\".\n",
      "\n",
      "/usr/local/lib/python2.7/site-packages/sklearn/metrics/classification.py:1304: DeprecationWarning:\n",
      "\n",
      "The default `weighted` averaging is deprecated, and from version 0.18, use of precision, recall or F-score with multiclass or multilabel data or pos_label=None will result in an exception. Please set an explicit value for `average`, one of (None, 'micro', 'macro', 'weighted', 'samples'). In cross validation use, for instance, scoring=\"f1_weighted\" instead of scoring=\"f1\".\n",
      "\n"
     ]
    },
    {
     "name": "stdout",
     "output_type": "stream",
     "text": [
      "\n",
      "737"
     ]
    },
    {
     "name": "stderr",
     "output_type": "stream",
     "text": [
      "/usr/local/lib/python2.7/site-packages/sklearn/metrics/classification.py:1203: DeprecationWarning:\n",
      "\n",
      "The default `weighted` averaging is deprecated, and from version 0.18, use of precision, recall or F-score with multiclass or multilabel data or pos_label=None will result in an exception. Please set an explicit value for `average`, one of (None, 'micro', 'macro', 'weighted', 'samples'). In cross validation use, for instance, scoring=\"f1_weighted\" instead of scoring=\"f1\".\n",
      "\n",
      "/usr/local/lib/python2.7/site-packages/sklearn/metrics/classification.py:756: DeprecationWarning:\n",
      "\n",
      "The default `weighted` averaging is deprecated, and from version 0.18, use of precision, recall or F-score with multiclass or multilabel data or pos_label=None will result in an exception. Please set an explicit value for `average`, one of (None, 'micro', 'macro', 'weighted', 'samples'). In cross validation use, for instance, scoring=\"f1_weighted\" instead of scoring=\"f1\".\n",
      "\n",
      "/usr/local/lib/python2.7/site-packages/sklearn/metrics/classification.py:1304: DeprecationWarning:\n",
      "\n",
      "The default `weighted` averaging is deprecated, and from version 0.18, use of precision, recall or F-score with multiclass or multilabel data or pos_label=None will result in an exception. Please set an explicit value for `average`, one of (None, 'micro', 'macro', 'weighted', 'samples'). In cross validation use, for instance, scoring=\"f1_weighted\" instead of scoring=\"f1\".\n",
      "\n"
     ]
    },
    {
     "name": "stdout",
     "output_type": "stream",
     "text": [
      "\n",
      "737"
     ]
    },
    {
     "name": "stderr",
     "output_type": "stream",
     "text": [
      "/usr/local/lib/python2.7/site-packages/sklearn/metrics/classification.py:1203: DeprecationWarning:\n",
      "\n",
      "The default `weighted` averaging is deprecated, and from version 0.18, use of precision, recall or F-score with multiclass or multilabel data or pos_label=None will result in an exception. Please set an explicit value for `average`, one of (None, 'micro', 'macro', 'weighted', 'samples'). In cross validation use, for instance, scoring=\"f1_weighted\" instead of scoring=\"f1\".\n",
      "\n",
      "/usr/local/lib/python2.7/site-packages/sklearn/metrics/classification.py:756: DeprecationWarning:\n",
      "\n",
      "The default `weighted` averaging is deprecated, and from version 0.18, use of precision, recall or F-score with multiclass or multilabel data or pos_label=None will result in an exception. Please set an explicit value for `average`, one of (None, 'micro', 'macro', 'weighted', 'samples'). In cross validation use, for instance, scoring=\"f1_weighted\" instead of scoring=\"f1\".\n",
      "\n",
      "/usr/local/lib/python2.7/site-packages/sklearn/metrics/classification.py:1304: DeprecationWarning:\n",
      "\n",
      "The default `weighted` averaging is deprecated, and from version 0.18, use of precision, recall or F-score with multiclass or multilabel data or pos_label=None will result in an exception. Please set an explicit value for `average`, one of (None, 'micro', 'macro', 'weighted', 'samples'). In cross validation use, for instance, scoring=\"f1_weighted\" instead of scoring=\"f1\".\n",
      "\n"
     ]
    },
    {
     "name": "stdout",
     "output_type": "stream",
     "text": [
      "\n",
      "740"
     ]
    },
    {
     "name": "stderr",
     "output_type": "stream",
     "text": [
      "/usr/local/lib/python2.7/site-packages/sklearn/metrics/classification.py:1203: DeprecationWarning:\n",
      "\n",
      "The default `weighted` averaging is deprecated, and from version 0.18, use of precision, recall or F-score with multiclass or multilabel data or pos_label=None will result in an exception. Please set an explicit value for `average`, one of (None, 'micro', 'macro', 'weighted', 'samples'). In cross validation use, for instance, scoring=\"f1_weighted\" instead of scoring=\"f1\".\n",
      "\n",
      "/usr/local/lib/python2.7/site-packages/sklearn/metrics/classification.py:756: DeprecationWarning:\n",
      "\n",
      "The default `weighted` averaging is deprecated, and from version 0.18, use of precision, recall or F-score with multiclass or multilabel data or pos_label=None will result in an exception. Please set an explicit value for `average`, one of (None, 'micro', 'macro', 'weighted', 'samples'). In cross validation use, for instance, scoring=\"f1_weighted\" instead of scoring=\"f1\".\n",
      "\n",
      "/usr/local/lib/python2.7/site-packages/sklearn/metrics/classification.py:1304: DeprecationWarning:\n",
      "\n",
      "The default `weighted` averaging is deprecated, and from version 0.18, use of precision, recall or F-score with multiclass or multilabel data or pos_label=None will result in an exception. Please set an explicit value for `average`, one of (None, 'micro', 'macro', 'weighted', 'samples'). In cross validation use, for instance, scoring=\"f1_weighted\" instead of scoring=\"f1\".\n",
      "\n"
     ]
    },
    {
     "name": "stdout",
     "output_type": "stream",
     "text": [
      "\n",
      "739"
     ]
    },
    {
     "name": "stderr",
     "output_type": "stream",
     "text": [
      "/usr/local/lib/python2.7/site-packages/sklearn/metrics/classification.py:1203: DeprecationWarning:\n",
      "\n",
      "The default `weighted` averaging is deprecated, and from version 0.18, use of precision, recall or F-score with multiclass or multilabel data or pos_label=None will result in an exception. Please set an explicit value for `average`, one of (None, 'micro', 'macro', 'weighted', 'samples'). In cross validation use, for instance, scoring=\"f1_weighted\" instead of scoring=\"f1\".\n",
      "\n",
      "/usr/local/lib/python2.7/site-packages/sklearn/metrics/classification.py:756: DeprecationWarning:\n",
      "\n",
      "The default `weighted` averaging is deprecated, and from version 0.18, use of precision, recall or F-score with multiclass or multilabel data or pos_label=None will result in an exception. Please set an explicit value for `average`, one of (None, 'micro', 'macro', 'weighted', 'samples'). In cross validation use, for instance, scoring=\"f1_weighted\" instead of scoring=\"f1\".\n",
      "\n",
      "/usr/local/lib/python2.7/site-packages/sklearn/metrics/classification.py:1304: DeprecationWarning:\n",
      "\n",
      "The default `weighted` averaging is deprecated, and from version 0.18, use of precision, recall or F-score with multiclass or multilabel data or pos_label=None will result in an exception. Please set an explicit value for `average`, one of (None, 'micro', 'macro', 'weighted', 'samples'). In cross validation use, for instance, scoring=\"f1_weighted\" instead of scoring=\"f1\".\n",
      "\n"
     ]
    },
    {
     "name": "stdout",
     "output_type": "stream",
     "text": [
      "\n",
      "739"
     ]
    },
    {
     "name": "stderr",
     "output_type": "stream",
     "text": [
      "/usr/local/lib/python2.7/site-packages/sklearn/metrics/classification.py:1203: DeprecationWarning:\n",
      "\n",
      "The default `weighted` averaging is deprecated, and from version 0.18, use of precision, recall or F-score with multiclass or multilabel data or pos_label=None will result in an exception. Please set an explicit value for `average`, one of (None, 'micro', 'macro', 'weighted', 'samples'). In cross validation use, for instance, scoring=\"f1_weighted\" instead of scoring=\"f1\".\n",
      "\n",
      "/usr/local/lib/python2.7/site-packages/sklearn/metrics/classification.py:756: DeprecationWarning:\n",
      "\n",
      "The default `weighted` averaging is deprecated, and from version 0.18, use of precision, recall or F-score with multiclass or multilabel data or pos_label=None will result in an exception. Please set an explicit value for `average`, one of (None, 'micro', 'macro', 'weighted', 'samples'). In cross validation use, for instance, scoring=\"f1_weighted\" instead of scoring=\"f1\".\n",
      "\n",
      "/usr/local/lib/python2.7/site-packages/sklearn/metrics/classification.py:1304: DeprecationWarning:\n",
      "\n",
      "The default `weighted` averaging is deprecated, and from version 0.18, use of precision, recall or F-score with multiclass or multilabel data or pos_label=None will result in an exception. Please set an explicit value for `average`, one of (None, 'micro', 'macro', 'weighted', 'samples'). In cross validation use, for instance, scoring=\"f1_weighted\" instead of scoring=\"f1\".\n",
      "\n"
     ]
    },
    {
     "name": "stdout",
     "output_type": "stream",
     "text": [
      "\n",
      "739"
     ]
    },
    {
     "name": "stderr",
     "output_type": "stream",
     "text": [
      "/usr/local/lib/python2.7/site-packages/sklearn/metrics/classification.py:1203: DeprecationWarning:\n",
      "\n",
      "The default `weighted` averaging is deprecated, and from version 0.18, use of precision, recall or F-score with multiclass or multilabel data or pos_label=None will result in an exception. Please set an explicit value for `average`, one of (None, 'micro', 'macro', 'weighted', 'samples'). In cross validation use, for instance, scoring=\"f1_weighted\" instead of scoring=\"f1\".\n",
      "\n",
      "/usr/local/lib/python2.7/site-packages/sklearn/metrics/classification.py:756: DeprecationWarning:\n",
      "\n",
      "The default `weighted` averaging is deprecated, and from version 0.18, use of precision, recall or F-score with multiclass or multilabel data or pos_label=None will result in an exception. Please set an explicit value for `average`, one of (None, 'micro', 'macro', 'weighted', 'samples'). In cross validation use, for instance, scoring=\"f1_weighted\" instead of scoring=\"f1\".\n",
      "\n",
      "/usr/local/lib/python2.7/site-packages/sklearn/metrics/classification.py:1304: DeprecationWarning:\n",
      "\n",
      "The default `weighted` averaging is deprecated, and from version 0.18, use of precision, recall or F-score with multiclass or multilabel data or pos_label=None will result in an exception. Please set an explicit value for `average`, one of (None, 'micro', 'macro', 'weighted', 'samples'). In cross validation use, for instance, scoring=\"f1_weighted\" instead of scoring=\"f1\".\n",
      "\n"
     ]
    },
    {
     "name": "stdout",
     "output_type": "stream",
     "text": [
      "\n",
      "738"
     ]
    },
    {
     "name": "stderr",
     "output_type": "stream",
     "text": [
      "/usr/local/lib/python2.7/site-packages/sklearn/metrics/classification.py:1203: DeprecationWarning:\n",
      "\n",
      "The default `weighted` averaging is deprecated, and from version 0.18, use of precision, recall or F-score with multiclass or multilabel data or pos_label=None will result in an exception. Please set an explicit value for `average`, one of (None, 'micro', 'macro', 'weighted', 'samples'). In cross validation use, for instance, scoring=\"f1_weighted\" instead of scoring=\"f1\".\n",
      "\n",
      "/usr/local/lib/python2.7/site-packages/sklearn/metrics/classification.py:756: DeprecationWarning:\n",
      "\n",
      "The default `weighted` averaging is deprecated, and from version 0.18, use of precision, recall or F-score with multiclass or multilabel data or pos_label=None will result in an exception. Please set an explicit value for `average`, one of (None, 'micro', 'macro', 'weighted', 'samples'). In cross validation use, for instance, scoring=\"f1_weighted\" instead of scoring=\"f1\".\n",
      "\n",
      "/usr/local/lib/python2.7/site-packages/sklearn/metrics/classification.py:1304: DeprecationWarning:\n",
      "\n",
      "The default `weighted` averaging is deprecated, and from version 0.18, use of precision, recall or F-score with multiclass or multilabel data or pos_label=None will result in an exception. Please set an explicit value for `average`, one of (None, 'micro', 'macro', 'weighted', 'samples'). In cross validation use, for instance, scoring=\"f1_weighted\" instead of scoring=\"f1\".\n",
      "\n"
     ]
    },
    {
     "name": "stdout",
     "output_type": "stream",
     "text": [
      "\n",
      "738"
     ]
    },
    {
     "name": "stderr",
     "output_type": "stream",
     "text": [
      "/usr/local/lib/python2.7/site-packages/sklearn/metrics/classification.py:1203: DeprecationWarning:\n",
      "\n",
      "The default `weighted` averaging is deprecated, and from version 0.18, use of precision, recall or F-score with multiclass or multilabel data or pos_label=None will result in an exception. Please set an explicit value for `average`, one of (None, 'micro', 'macro', 'weighted', 'samples'). In cross validation use, for instance, scoring=\"f1_weighted\" instead of scoring=\"f1\".\n",
      "\n",
      "/usr/local/lib/python2.7/site-packages/sklearn/metrics/classification.py:756: DeprecationWarning:\n",
      "\n",
      "The default `weighted` averaging is deprecated, and from version 0.18, use of precision, recall or F-score with multiclass or multilabel data or pos_label=None will result in an exception. Please set an explicit value for `average`, one of (None, 'micro', 'macro', 'weighted', 'samples'). In cross validation use, for instance, scoring=\"f1_weighted\" instead of scoring=\"f1\".\n",
      "\n",
      "/usr/local/lib/python2.7/site-packages/sklearn/metrics/classification.py:1304: DeprecationWarning:\n",
      "\n",
      "The default `weighted` averaging is deprecated, and from version 0.18, use of precision, recall or F-score with multiclass or multilabel data or pos_label=None will result in an exception. Please set an explicit value for `average`, one of (None, 'micro', 'macro', 'weighted', 'samples'). In cross validation use, for instance, scoring=\"f1_weighted\" instead of scoring=\"f1\".\n",
      "\n"
     ]
    },
    {
     "name": "stdout",
     "output_type": "stream",
     "text": [
      "\n",
      "737"
     ]
    },
    {
     "name": "stderr",
     "output_type": "stream",
     "text": [
      "/usr/local/lib/python2.7/site-packages/sklearn/metrics/classification.py:1203: DeprecationWarning:\n",
      "\n",
      "The default `weighted` averaging is deprecated, and from version 0.18, use of precision, recall or F-score with multiclass or multilabel data or pos_label=None will result in an exception. Please set an explicit value for `average`, one of (None, 'micro', 'macro', 'weighted', 'samples'). In cross validation use, for instance, scoring=\"f1_weighted\" instead of scoring=\"f1\".\n",
      "\n",
      "/usr/local/lib/python2.7/site-packages/sklearn/metrics/classification.py:756: DeprecationWarning:\n",
      "\n",
      "The default `weighted` averaging is deprecated, and from version 0.18, use of precision, recall or F-score with multiclass or multilabel data or pos_label=None will result in an exception. Please set an explicit value for `average`, one of (None, 'micro', 'macro', 'weighted', 'samples'). In cross validation use, for instance, scoring=\"f1_weighted\" instead of scoring=\"f1\".\n",
      "\n",
      "/usr/local/lib/python2.7/site-packages/sklearn/metrics/classification.py:1304: DeprecationWarning:\n",
      "\n",
      "The default `weighted` averaging is deprecated, and from version 0.18, use of precision, recall or F-score with multiclass or multilabel data or pos_label=None will result in an exception. Please set an explicit value for `average`, one of (None, 'micro', 'macro', 'weighted', 'samples'). In cross validation use, for instance, scoring=\"f1_weighted\" instead of scoring=\"f1\".\n",
      "\n"
     ]
    },
    {
     "name": "stdout",
     "output_type": "stream",
     "text": [
      "\n",
      "737"
     ]
    },
    {
     "name": "stderr",
     "output_type": "stream",
     "text": [
      "/usr/local/lib/python2.7/site-packages/sklearn/metrics/classification.py:1203: DeprecationWarning:\n",
      "\n",
      "The default `weighted` averaging is deprecated, and from version 0.18, use of precision, recall or F-score with multiclass or multilabel data or pos_label=None will result in an exception. Please set an explicit value for `average`, one of (None, 'micro', 'macro', 'weighted', 'samples'). In cross validation use, for instance, scoring=\"f1_weighted\" instead of scoring=\"f1\".\n",
      "\n",
      "/usr/local/lib/python2.7/site-packages/sklearn/metrics/classification.py:756: DeprecationWarning:\n",
      "\n",
      "The default `weighted` averaging is deprecated, and from version 0.18, use of precision, recall or F-score with multiclass or multilabel data or pos_label=None will result in an exception. Please set an explicit value for `average`, one of (None, 'micro', 'macro', 'weighted', 'samples'). In cross validation use, for instance, scoring=\"f1_weighted\" instead of scoring=\"f1\".\n",
      "\n",
      "/usr/local/lib/python2.7/site-packages/sklearn/metrics/classification.py:1304: DeprecationWarning:\n",
      "\n",
      "The default `weighted` averaging is deprecated, and from version 0.18, use of precision, recall or F-score with multiclass or multilabel data or pos_label=None will result in an exception. Please set an explicit value for `average`, one of (None, 'micro', 'macro', 'weighted', 'samples'). In cross validation use, for instance, scoring=\"f1_weighted\" instead of scoring=\"f1\".\n",
      "\n"
     ]
    },
    {
     "name": "stdout",
     "output_type": "stream",
     "text": [
      "\n",
      "737"
     ]
    },
    {
     "name": "stderr",
     "output_type": "stream",
     "text": [
      "/usr/local/lib/python2.7/site-packages/sklearn/metrics/classification.py:1203: DeprecationWarning:\n",
      "\n",
      "The default `weighted` averaging is deprecated, and from version 0.18, use of precision, recall or F-score with multiclass or multilabel data or pos_label=None will result in an exception. Please set an explicit value for `average`, one of (None, 'micro', 'macro', 'weighted', 'samples'). In cross validation use, for instance, scoring=\"f1_weighted\" instead of scoring=\"f1\".\n",
      "\n",
      "/usr/local/lib/python2.7/site-packages/sklearn/metrics/classification.py:756: DeprecationWarning:\n",
      "\n",
      "The default `weighted` averaging is deprecated, and from version 0.18, use of precision, recall or F-score with multiclass or multilabel data or pos_label=None will result in an exception. Please set an explicit value for `average`, one of (None, 'micro', 'macro', 'weighted', 'samples'). In cross validation use, for instance, scoring=\"f1_weighted\" instead of scoring=\"f1\".\n",
      "\n",
      "/usr/local/lib/python2.7/site-packages/sklearn/metrics/classification.py:1304: DeprecationWarning:\n",
      "\n",
      "The default `weighted` averaging is deprecated, and from version 0.18, use of precision, recall or F-score with multiclass or multilabel data or pos_label=None will result in an exception. Please set an explicit value for `average`, one of (None, 'micro', 'macro', 'weighted', 'samples'). In cross validation use, for instance, scoring=\"f1_weighted\" instead of scoring=\"f1\".\n",
      "\n"
     ]
    },
    {
     "name": "stdout",
     "output_type": "stream",
     "text": [
      "\n",
      "737"
     ]
    },
    {
     "name": "stderr",
     "output_type": "stream",
     "text": [
      "/usr/local/lib/python2.7/site-packages/sklearn/metrics/classification.py:1203: DeprecationWarning:\n",
      "\n",
      "The default `weighted` averaging is deprecated, and from version 0.18, use of precision, recall or F-score with multiclass or multilabel data or pos_label=None will result in an exception. Please set an explicit value for `average`, one of (None, 'micro', 'macro', 'weighted', 'samples'). In cross validation use, for instance, scoring=\"f1_weighted\" instead of scoring=\"f1\".\n",
      "\n",
      "/usr/local/lib/python2.7/site-packages/sklearn/metrics/classification.py:756: DeprecationWarning:\n",
      "\n",
      "The default `weighted` averaging is deprecated, and from version 0.18, use of precision, recall or F-score with multiclass or multilabel data or pos_label=None will result in an exception. Please set an explicit value for `average`, one of (None, 'micro', 'macro', 'weighted', 'samples'). In cross validation use, for instance, scoring=\"f1_weighted\" instead of scoring=\"f1\".\n",
      "\n",
      "/usr/local/lib/python2.7/site-packages/sklearn/metrics/classification.py:1304: DeprecationWarning:\n",
      "\n",
      "The default `weighted` averaging is deprecated, and from version 0.18, use of precision, recall or F-score with multiclass or multilabel data or pos_label=None will result in an exception. Please set an explicit value for `average`, one of (None, 'micro', 'macro', 'weighted', 'samples'). In cross validation use, for instance, scoring=\"f1_weighted\" instead of scoring=\"f1\".\n",
      "\n"
     ]
    },
    {
     "name": "stdout",
     "output_type": "stream",
     "text": [
      "\n",
      "740"
     ]
    },
    {
     "name": "stderr",
     "output_type": "stream",
     "text": [
      "/usr/local/lib/python2.7/site-packages/sklearn/metrics/classification.py:1203: DeprecationWarning:\n",
      "\n",
      "The default `weighted` averaging is deprecated, and from version 0.18, use of precision, recall or F-score with multiclass or multilabel data or pos_label=None will result in an exception. Please set an explicit value for `average`, one of (None, 'micro', 'macro', 'weighted', 'samples'). In cross validation use, for instance, scoring=\"f1_weighted\" instead of scoring=\"f1\".\n",
      "\n",
      "/usr/local/lib/python2.7/site-packages/sklearn/metrics/classification.py:756: DeprecationWarning:\n",
      "\n",
      "The default `weighted` averaging is deprecated, and from version 0.18, use of precision, recall or F-score with multiclass or multilabel data or pos_label=None will result in an exception. Please set an explicit value for `average`, one of (None, 'micro', 'macro', 'weighted', 'samples'). In cross validation use, for instance, scoring=\"f1_weighted\" instead of scoring=\"f1\".\n",
      "\n",
      "/usr/local/lib/python2.7/site-packages/sklearn/metrics/classification.py:1304: DeprecationWarning:\n",
      "\n",
      "The default `weighted` averaging is deprecated, and from version 0.18, use of precision, recall or F-score with multiclass or multilabel data or pos_label=None will result in an exception. Please set an explicit value for `average`, one of (None, 'micro', 'macro', 'weighted', 'samples'). In cross validation use, for instance, scoring=\"f1_weighted\" instead of scoring=\"f1\".\n",
      "\n"
     ]
    },
    {
     "name": "stdout",
     "output_type": "stream",
     "text": [
      "\n",
      "739"
     ]
    },
    {
     "name": "stderr",
     "output_type": "stream",
     "text": [
      "/usr/local/lib/python2.7/site-packages/sklearn/metrics/classification.py:1203: DeprecationWarning:\n",
      "\n",
      "The default `weighted` averaging is deprecated, and from version 0.18, use of precision, recall or F-score with multiclass or multilabel data or pos_label=None will result in an exception. Please set an explicit value for `average`, one of (None, 'micro', 'macro', 'weighted', 'samples'). In cross validation use, for instance, scoring=\"f1_weighted\" instead of scoring=\"f1\".\n",
      "\n",
      "/usr/local/lib/python2.7/site-packages/sklearn/metrics/classification.py:756: DeprecationWarning:\n",
      "\n",
      "The default `weighted` averaging is deprecated, and from version 0.18, use of precision, recall or F-score with multiclass or multilabel data or pos_label=None will result in an exception. Please set an explicit value for `average`, one of (None, 'micro', 'macro', 'weighted', 'samples'). In cross validation use, for instance, scoring=\"f1_weighted\" instead of scoring=\"f1\".\n",
      "\n",
      "/usr/local/lib/python2.7/site-packages/sklearn/metrics/classification.py:1304: DeprecationWarning:\n",
      "\n",
      "The default `weighted` averaging is deprecated, and from version 0.18, use of precision, recall or F-score with multiclass or multilabel data or pos_label=None will result in an exception. Please set an explicit value for `average`, one of (None, 'micro', 'macro', 'weighted', 'samples'). In cross validation use, for instance, scoring=\"f1_weighted\" instead of scoring=\"f1\".\n",
      "\n"
     ]
    },
    {
     "name": "stdout",
     "output_type": "stream",
     "text": [
      "\n",
      "739"
     ]
    },
    {
     "name": "stderr",
     "output_type": "stream",
     "text": [
      "/usr/local/lib/python2.7/site-packages/sklearn/metrics/classification.py:1203: DeprecationWarning:\n",
      "\n",
      "The default `weighted` averaging is deprecated, and from version 0.18, use of precision, recall or F-score with multiclass or multilabel data or pos_label=None will result in an exception. Please set an explicit value for `average`, one of (None, 'micro', 'macro', 'weighted', 'samples'). In cross validation use, for instance, scoring=\"f1_weighted\" instead of scoring=\"f1\".\n",
      "\n",
      "/usr/local/lib/python2.7/site-packages/sklearn/metrics/classification.py:756: DeprecationWarning:\n",
      "\n",
      "The default `weighted` averaging is deprecated, and from version 0.18, use of precision, recall or F-score with multiclass or multilabel data or pos_label=None will result in an exception. Please set an explicit value for `average`, one of (None, 'micro', 'macro', 'weighted', 'samples'). In cross validation use, for instance, scoring=\"f1_weighted\" instead of scoring=\"f1\".\n",
      "\n",
      "/usr/local/lib/python2.7/site-packages/sklearn/metrics/classification.py:1304: DeprecationWarning:\n",
      "\n",
      "The default `weighted` averaging is deprecated, and from version 0.18, use of precision, recall or F-score with multiclass or multilabel data or pos_label=None will result in an exception. Please set an explicit value for `average`, one of (None, 'micro', 'macro', 'weighted', 'samples'). In cross validation use, for instance, scoring=\"f1_weighted\" instead of scoring=\"f1\".\n",
      "\n"
     ]
    },
    {
     "name": "stdout",
     "output_type": "stream",
     "text": [
      "\n",
      "739"
     ]
    },
    {
     "name": "stderr",
     "output_type": "stream",
     "text": [
      "/usr/local/lib/python2.7/site-packages/sklearn/metrics/classification.py:1203: DeprecationWarning:\n",
      "\n",
      "The default `weighted` averaging is deprecated, and from version 0.18, use of precision, recall or F-score with multiclass or multilabel data or pos_label=None will result in an exception. Please set an explicit value for `average`, one of (None, 'micro', 'macro', 'weighted', 'samples'). In cross validation use, for instance, scoring=\"f1_weighted\" instead of scoring=\"f1\".\n",
      "\n",
      "/usr/local/lib/python2.7/site-packages/sklearn/metrics/classification.py:756: DeprecationWarning:\n",
      "\n",
      "The default `weighted` averaging is deprecated, and from version 0.18, use of precision, recall or F-score with multiclass or multilabel data or pos_label=None will result in an exception. Please set an explicit value for `average`, one of (None, 'micro', 'macro', 'weighted', 'samples'). In cross validation use, for instance, scoring=\"f1_weighted\" instead of scoring=\"f1\".\n",
      "\n",
      "/usr/local/lib/python2.7/site-packages/sklearn/metrics/classification.py:1304: DeprecationWarning:\n",
      "\n",
      "The default `weighted` averaging is deprecated, and from version 0.18, use of precision, recall or F-score with multiclass or multilabel data or pos_label=None will result in an exception. Please set an explicit value for `average`, one of (None, 'micro', 'macro', 'weighted', 'samples'). In cross validation use, for instance, scoring=\"f1_weighted\" instead of scoring=\"f1\".\n",
      "\n"
     ]
    },
    {
     "name": "stdout",
     "output_type": "stream",
     "text": [
      "\n",
      "738"
     ]
    },
    {
     "name": "stderr",
     "output_type": "stream",
     "text": [
      "/usr/local/lib/python2.7/site-packages/sklearn/metrics/classification.py:1203: DeprecationWarning:\n",
      "\n",
      "The default `weighted` averaging is deprecated, and from version 0.18, use of precision, recall or F-score with multiclass or multilabel data or pos_label=None will result in an exception. Please set an explicit value for `average`, one of (None, 'micro', 'macro', 'weighted', 'samples'). In cross validation use, for instance, scoring=\"f1_weighted\" instead of scoring=\"f1\".\n",
      "\n",
      "/usr/local/lib/python2.7/site-packages/sklearn/metrics/classification.py:756: DeprecationWarning:\n",
      "\n",
      "The default `weighted` averaging is deprecated, and from version 0.18, use of precision, recall or F-score with multiclass or multilabel data or pos_label=None will result in an exception. Please set an explicit value for `average`, one of (None, 'micro', 'macro', 'weighted', 'samples'). In cross validation use, for instance, scoring=\"f1_weighted\" instead of scoring=\"f1\".\n",
      "\n",
      "/usr/local/lib/python2.7/site-packages/sklearn/metrics/classification.py:1304: DeprecationWarning:\n",
      "\n",
      "The default `weighted` averaging is deprecated, and from version 0.18, use of precision, recall or F-score with multiclass or multilabel data or pos_label=None will result in an exception. Please set an explicit value for `average`, one of (None, 'micro', 'macro', 'weighted', 'samples'). In cross validation use, for instance, scoring=\"f1_weighted\" instead of scoring=\"f1\".\n",
      "\n"
     ]
    },
    {
     "name": "stdout",
     "output_type": "stream",
     "text": [
      "\n",
      "738"
     ]
    },
    {
     "name": "stderr",
     "output_type": "stream",
     "text": [
      "/usr/local/lib/python2.7/site-packages/sklearn/metrics/classification.py:1203: DeprecationWarning:\n",
      "\n",
      "The default `weighted` averaging is deprecated, and from version 0.18, use of precision, recall or F-score with multiclass or multilabel data or pos_label=None will result in an exception. Please set an explicit value for `average`, one of (None, 'micro', 'macro', 'weighted', 'samples'). In cross validation use, for instance, scoring=\"f1_weighted\" instead of scoring=\"f1\".\n",
      "\n",
      "/usr/local/lib/python2.7/site-packages/sklearn/metrics/classification.py:756: DeprecationWarning:\n",
      "\n",
      "The default `weighted` averaging is deprecated, and from version 0.18, use of precision, recall or F-score with multiclass or multilabel data or pos_label=None will result in an exception. Please set an explicit value for `average`, one of (None, 'micro', 'macro', 'weighted', 'samples'). In cross validation use, for instance, scoring=\"f1_weighted\" instead of scoring=\"f1\".\n",
      "\n",
      "/usr/local/lib/python2.7/site-packages/sklearn/metrics/classification.py:1304: DeprecationWarning:\n",
      "\n",
      "The default `weighted` averaging is deprecated, and from version 0.18, use of precision, recall or F-score with multiclass or multilabel data or pos_label=None will result in an exception. Please set an explicit value for `average`, one of (None, 'micro', 'macro', 'weighted', 'samples'). In cross validation use, for instance, scoring=\"f1_weighted\" instead of scoring=\"f1\".\n",
      "\n"
     ]
    },
    {
     "name": "stdout",
     "output_type": "stream",
     "text": [
      "\n",
      "737"
     ]
    },
    {
     "name": "stderr",
     "output_type": "stream",
     "text": [
      "/usr/local/lib/python2.7/site-packages/sklearn/metrics/classification.py:1203: DeprecationWarning:\n",
      "\n",
      "The default `weighted` averaging is deprecated, and from version 0.18, use of precision, recall or F-score with multiclass or multilabel data or pos_label=None will result in an exception. Please set an explicit value for `average`, one of (None, 'micro', 'macro', 'weighted', 'samples'). In cross validation use, for instance, scoring=\"f1_weighted\" instead of scoring=\"f1\".\n",
      "\n",
      "/usr/local/lib/python2.7/site-packages/sklearn/metrics/classification.py:756: DeprecationWarning:\n",
      "\n",
      "The default `weighted` averaging is deprecated, and from version 0.18, use of precision, recall or F-score with multiclass or multilabel data or pos_label=None will result in an exception. Please set an explicit value for `average`, one of (None, 'micro', 'macro', 'weighted', 'samples'). In cross validation use, for instance, scoring=\"f1_weighted\" instead of scoring=\"f1\".\n",
      "\n",
      "/usr/local/lib/python2.7/site-packages/sklearn/metrics/classification.py:1304: DeprecationWarning:\n",
      "\n",
      "The default `weighted` averaging is deprecated, and from version 0.18, use of precision, recall or F-score with multiclass or multilabel data or pos_label=None will result in an exception. Please set an explicit value for `average`, one of (None, 'micro', 'macro', 'weighted', 'samples'). In cross validation use, for instance, scoring=\"f1_weighted\" instead of scoring=\"f1\".\n",
      "\n"
     ]
    },
    {
     "name": "stdout",
     "output_type": "stream",
     "text": [
      "\n",
      "737"
     ]
    },
    {
     "name": "stderr",
     "output_type": "stream",
     "text": [
      "/usr/local/lib/python2.7/site-packages/sklearn/metrics/classification.py:1203: DeprecationWarning:\n",
      "\n",
      "The default `weighted` averaging is deprecated, and from version 0.18, use of precision, recall or F-score with multiclass or multilabel data or pos_label=None will result in an exception. Please set an explicit value for `average`, one of (None, 'micro', 'macro', 'weighted', 'samples'). In cross validation use, for instance, scoring=\"f1_weighted\" instead of scoring=\"f1\".\n",
      "\n",
      "/usr/local/lib/python2.7/site-packages/sklearn/metrics/classification.py:756: DeprecationWarning:\n",
      "\n",
      "The default `weighted` averaging is deprecated, and from version 0.18, use of precision, recall or F-score with multiclass or multilabel data or pos_label=None will result in an exception. Please set an explicit value for `average`, one of (None, 'micro', 'macro', 'weighted', 'samples'). In cross validation use, for instance, scoring=\"f1_weighted\" instead of scoring=\"f1\".\n",
      "\n",
      "/usr/local/lib/python2.7/site-packages/sklearn/metrics/classification.py:1304: DeprecationWarning:\n",
      "\n",
      "The default `weighted` averaging is deprecated, and from version 0.18, use of precision, recall or F-score with multiclass or multilabel data or pos_label=None will result in an exception. Please set an explicit value for `average`, one of (None, 'micro', 'macro', 'weighted', 'samples'). In cross validation use, for instance, scoring=\"f1_weighted\" instead of scoring=\"f1\".\n",
      "\n"
     ]
    },
    {
     "name": "stdout",
     "output_type": "stream",
     "text": [
      "\n",
      "737"
     ]
    },
    {
     "name": "stderr",
     "output_type": "stream",
     "text": [
      "/usr/local/lib/python2.7/site-packages/sklearn/metrics/classification.py:1203: DeprecationWarning:\n",
      "\n",
      "The default `weighted` averaging is deprecated, and from version 0.18, use of precision, recall or F-score with multiclass or multilabel data or pos_label=None will result in an exception. Please set an explicit value for `average`, one of (None, 'micro', 'macro', 'weighted', 'samples'). In cross validation use, for instance, scoring=\"f1_weighted\" instead of scoring=\"f1\".\n",
      "\n",
      "/usr/local/lib/python2.7/site-packages/sklearn/metrics/classification.py:756: DeprecationWarning:\n",
      "\n",
      "The default `weighted` averaging is deprecated, and from version 0.18, use of precision, recall or F-score with multiclass or multilabel data or pos_label=None will result in an exception. Please set an explicit value for `average`, one of (None, 'micro', 'macro', 'weighted', 'samples'). In cross validation use, for instance, scoring=\"f1_weighted\" instead of scoring=\"f1\".\n",
      "\n",
      "/usr/local/lib/python2.7/site-packages/sklearn/metrics/classification.py:1304: DeprecationWarning:\n",
      "\n",
      "The default `weighted` averaging is deprecated, and from version 0.18, use of precision, recall or F-score with multiclass or multilabel data or pos_label=None will result in an exception. Please set an explicit value for `average`, one of (None, 'micro', 'macro', 'weighted', 'samples'). In cross validation use, for instance, scoring=\"f1_weighted\" instead of scoring=\"f1\".\n",
      "\n"
     ]
    },
    {
     "name": "stdout",
     "output_type": "stream",
     "text": [
      "\n",
      "737"
     ]
    },
    {
     "name": "stderr",
     "output_type": "stream",
     "text": [
      "/usr/local/lib/python2.7/site-packages/sklearn/metrics/classification.py:1203: DeprecationWarning:\n",
      "\n",
      "The default `weighted` averaging is deprecated, and from version 0.18, use of precision, recall or F-score with multiclass or multilabel data or pos_label=None will result in an exception. Please set an explicit value for `average`, one of (None, 'micro', 'macro', 'weighted', 'samples'). In cross validation use, for instance, scoring=\"f1_weighted\" instead of scoring=\"f1\".\n",
      "\n",
      "/usr/local/lib/python2.7/site-packages/sklearn/metrics/classification.py:756: DeprecationWarning:\n",
      "\n",
      "The default `weighted` averaging is deprecated, and from version 0.18, use of precision, recall or F-score with multiclass or multilabel data or pos_label=None will result in an exception. Please set an explicit value for `average`, one of (None, 'micro', 'macro', 'weighted', 'samples'). In cross validation use, for instance, scoring=\"f1_weighted\" instead of scoring=\"f1\".\n",
      "\n",
      "/usr/local/lib/python2.7/site-packages/sklearn/metrics/classification.py:1304: DeprecationWarning:\n",
      "\n",
      "The default `weighted` averaging is deprecated, and from version 0.18, use of precision, recall or F-score with multiclass or multilabel data or pos_label=None will result in an exception. Please set an explicit value for `average`, one of (None, 'micro', 'macro', 'weighted', 'samples'). In cross validation use, for instance, scoring=\"f1_weighted\" instead of scoring=\"f1\".\n",
      "\n"
     ]
    },
    {
     "name": "stdout",
     "output_type": "stream",
     "text": [
      "\n",
      "740"
     ]
    },
    {
     "name": "stderr",
     "output_type": "stream",
     "text": [
      "/usr/local/lib/python2.7/site-packages/sklearn/metrics/classification.py:1203: DeprecationWarning:\n",
      "\n",
      "The default `weighted` averaging is deprecated, and from version 0.18, use of precision, recall or F-score with multiclass or multilabel data or pos_label=None will result in an exception. Please set an explicit value for `average`, one of (None, 'micro', 'macro', 'weighted', 'samples'). In cross validation use, for instance, scoring=\"f1_weighted\" instead of scoring=\"f1\".\n",
      "\n",
      "/usr/local/lib/python2.7/site-packages/sklearn/metrics/classification.py:756: DeprecationWarning:\n",
      "\n",
      "The default `weighted` averaging is deprecated, and from version 0.18, use of precision, recall or F-score with multiclass or multilabel data or pos_label=None will result in an exception. Please set an explicit value for `average`, one of (None, 'micro', 'macro', 'weighted', 'samples'). In cross validation use, for instance, scoring=\"f1_weighted\" instead of scoring=\"f1\".\n",
      "\n",
      "/usr/local/lib/python2.7/site-packages/sklearn/metrics/classification.py:1304: DeprecationWarning:\n",
      "\n",
      "The default `weighted` averaging is deprecated, and from version 0.18, use of precision, recall or F-score with multiclass or multilabel data or pos_label=None will result in an exception. Please set an explicit value for `average`, one of (None, 'micro', 'macro', 'weighted', 'samples'). In cross validation use, for instance, scoring=\"f1_weighted\" instead of scoring=\"f1\".\n",
      "\n"
     ]
    },
    {
     "name": "stdout",
     "output_type": "stream",
     "text": [
      "\n",
      "739"
     ]
    },
    {
     "name": "stderr",
     "output_type": "stream",
     "text": [
      "/usr/local/lib/python2.7/site-packages/sklearn/metrics/classification.py:1203: DeprecationWarning:\n",
      "\n",
      "The default `weighted` averaging is deprecated, and from version 0.18, use of precision, recall or F-score with multiclass or multilabel data or pos_label=None will result in an exception. Please set an explicit value for `average`, one of (None, 'micro', 'macro', 'weighted', 'samples'). In cross validation use, for instance, scoring=\"f1_weighted\" instead of scoring=\"f1\".\n",
      "\n",
      "/usr/local/lib/python2.7/site-packages/sklearn/metrics/classification.py:756: DeprecationWarning:\n",
      "\n",
      "The default `weighted` averaging is deprecated, and from version 0.18, use of precision, recall or F-score with multiclass or multilabel data or pos_label=None will result in an exception. Please set an explicit value for `average`, one of (None, 'micro', 'macro', 'weighted', 'samples'). In cross validation use, for instance, scoring=\"f1_weighted\" instead of scoring=\"f1\".\n",
      "\n",
      "/usr/local/lib/python2.7/site-packages/sklearn/metrics/classification.py:1304: DeprecationWarning:\n",
      "\n",
      "The default `weighted` averaging is deprecated, and from version 0.18, use of precision, recall or F-score with multiclass or multilabel data or pos_label=None will result in an exception. Please set an explicit value for `average`, one of (None, 'micro', 'macro', 'weighted', 'samples'). In cross validation use, for instance, scoring=\"f1_weighted\" instead of scoring=\"f1\".\n",
      "\n"
     ]
    },
    {
     "name": "stdout",
     "output_type": "stream",
     "text": [
      "\n",
      "739"
     ]
    },
    {
     "name": "stderr",
     "output_type": "stream",
     "text": [
      "/usr/local/lib/python2.7/site-packages/sklearn/metrics/classification.py:1203: DeprecationWarning:\n",
      "\n",
      "The default `weighted` averaging is deprecated, and from version 0.18, use of precision, recall or F-score with multiclass or multilabel data or pos_label=None will result in an exception. Please set an explicit value for `average`, one of (None, 'micro', 'macro', 'weighted', 'samples'). In cross validation use, for instance, scoring=\"f1_weighted\" instead of scoring=\"f1\".\n",
      "\n",
      "/usr/local/lib/python2.7/site-packages/sklearn/metrics/classification.py:756: DeprecationWarning:\n",
      "\n",
      "The default `weighted` averaging is deprecated, and from version 0.18, use of precision, recall or F-score with multiclass or multilabel data or pos_label=None will result in an exception. Please set an explicit value for `average`, one of (None, 'micro', 'macro', 'weighted', 'samples'). In cross validation use, for instance, scoring=\"f1_weighted\" instead of scoring=\"f1\".\n",
      "\n",
      "/usr/local/lib/python2.7/site-packages/sklearn/metrics/classification.py:1304: DeprecationWarning:\n",
      "\n",
      "The default `weighted` averaging is deprecated, and from version 0.18, use of precision, recall or F-score with multiclass or multilabel data or pos_label=None will result in an exception. Please set an explicit value for `average`, one of (None, 'micro', 'macro', 'weighted', 'samples'). In cross validation use, for instance, scoring=\"f1_weighted\" instead of scoring=\"f1\".\n",
      "\n"
     ]
    },
    {
     "name": "stdout",
     "output_type": "stream",
     "text": [
      "\n",
      "739"
     ]
    },
    {
     "name": "stderr",
     "output_type": "stream",
     "text": [
      "/usr/local/lib/python2.7/site-packages/sklearn/metrics/classification.py:1203: DeprecationWarning:\n",
      "\n",
      "The default `weighted` averaging is deprecated, and from version 0.18, use of precision, recall or F-score with multiclass or multilabel data or pos_label=None will result in an exception. Please set an explicit value for `average`, one of (None, 'micro', 'macro', 'weighted', 'samples'). In cross validation use, for instance, scoring=\"f1_weighted\" instead of scoring=\"f1\".\n",
      "\n",
      "/usr/local/lib/python2.7/site-packages/sklearn/metrics/classification.py:756: DeprecationWarning:\n",
      "\n",
      "The default `weighted` averaging is deprecated, and from version 0.18, use of precision, recall or F-score with multiclass or multilabel data or pos_label=None will result in an exception. Please set an explicit value for `average`, one of (None, 'micro', 'macro', 'weighted', 'samples'). In cross validation use, for instance, scoring=\"f1_weighted\" instead of scoring=\"f1\".\n",
      "\n",
      "/usr/local/lib/python2.7/site-packages/sklearn/metrics/classification.py:1304: DeprecationWarning:\n",
      "\n",
      "The default `weighted` averaging is deprecated, and from version 0.18, use of precision, recall or F-score with multiclass or multilabel data or pos_label=None will result in an exception. Please set an explicit value for `average`, one of (None, 'micro', 'macro', 'weighted', 'samples'). In cross validation use, for instance, scoring=\"f1_weighted\" instead of scoring=\"f1\".\n",
      "\n"
     ]
    },
    {
     "name": "stdout",
     "output_type": "stream",
     "text": [
      "\n",
      "738"
     ]
    },
    {
     "name": "stderr",
     "output_type": "stream",
     "text": [
      "/usr/local/lib/python2.7/site-packages/sklearn/metrics/classification.py:1203: DeprecationWarning:\n",
      "\n",
      "The default `weighted` averaging is deprecated, and from version 0.18, use of precision, recall or F-score with multiclass or multilabel data or pos_label=None will result in an exception. Please set an explicit value for `average`, one of (None, 'micro', 'macro', 'weighted', 'samples'). In cross validation use, for instance, scoring=\"f1_weighted\" instead of scoring=\"f1\".\n",
      "\n",
      "/usr/local/lib/python2.7/site-packages/sklearn/metrics/classification.py:756: DeprecationWarning:\n",
      "\n",
      "The default `weighted` averaging is deprecated, and from version 0.18, use of precision, recall or F-score with multiclass or multilabel data or pos_label=None will result in an exception. Please set an explicit value for `average`, one of (None, 'micro', 'macro', 'weighted', 'samples'). In cross validation use, for instance, scoring=\"f1_weighted\" instead of scoring=\"f1\".\n",
      "\n",
      "/usr/local/lib/python2.7/site-packages/sklearn/metrics/classification.py:1304: DeprecationWarning:\n",
      "\n",
      "The default `weighted` averaging is deprecated, and from version 0.18, use of precision, recall or F-score with multiclass or multilabel data or pos_label=None will result in an exception. Please set an explicit value for `average`, one of (None, 'micro', 'macro', 'weighted', 'samples'). In cross validation use, for instance, scoring=\"f1_weighted\" instead of scoring=\"f1\".\n",
      "\n"
     ]
    },
    {
     "name": "stdout",
     "output_type": "stream",
     "text": [
      "\n",
      "738"
     ]
    },
    {
     "name": "stderr",
     "output_type": "stream",
     "text": [
      "/usr/local/lib/python2.7/site-packages/sklearn/metrics/classification.py:1203: DeprecationWarning:\n",
      "\n",
      "The default `weighted` averaging is deprecated, and from version 0.18, use of precision, recall or F-score with multiclass or multilabel data or pos_label=None will result in an exception. Please set an explicit value for `average`, one of (None, 'micro', 'macro', 'weighted', 'samples'). In cross validation use, for instance, scoring=\"f1_weighted\" instead of scoring=\"f1\".\n",
      "\n",
      "/usr/local/lib/python2.7/site-packages/sklearn/metrics/classification.py:756: DeprecationWarning:\n",
      "\n",
      "The default `weighted` averaging is deprecated, and from version 0.18, use of precision, recall or F-score with multiclass or multilabel data or pos_label=None will result in an exception. Please set an explicit value for `average`, one of (None, 'micro', 'macro', 'weighted', 'samples'). In cross validation use, for instance, scoring=\"f1_weighted\" instead of scoring=\"f1\".\n",
      "\n",
      "/usr/local/lib/python2.7/site-packages/sklearn/metrics/classification.py:1304: DeprecationWarning:\n",
      "\n",
      "The default `weighted` averaging is deprecated, and from version 0.18, use of precision, recall or F-score with multiclass or multilabel data or pos_label=None will result in an exception. Please set an explicit value for `average`, one of (None, 'micro', 'macro', 'weighted', 'samples'). In cross validation use, for instance, scoring=\"f1_weighted\" instead of scoring=\"f1\".\n",
      "\n"
     ]
    },
    {
     "name": "stdout",
     "output_type": "stream",
     "text": [
      "\n",
      "737"
     ]
    },
    {
     "name": "stderr",
     "output_type": "stream",
     "text": [
      "/usr/local/lib/python2.7/site-packages/sklearn/metrics/classification.py:1203: DeprecationWarning:\n",
      "\n",
      "The default `weighted` averaging is deprecated, and from version 0.18, use of precision, recall or F-score with multiclass or multilabel data or pos_label=None will result in an exception. Please set an explicit value for `average`, one of (None, 'micro', 'macro', 'weighted', 'samples'). In cross validation use, for instance, scoring=\"f1_weighted\" instead of scoring=\"f1\".\n",
      "\n",
      "/usr/local/lib/python2.7/site-packages/sklearn/metrics/classification.py:756: DeprecationWarning:\n",
      "\n",
      "The default `weighted` averaging is deprecated, and from version 0.18, use of precision, recall or F-score with multiclass or multilabel data or pos_label=None will result in an exception. Please set an explicit value for `average`, one of (None, 'micro', 'macro', 'weighted', 'samples'). In cross validation use, for instance, scoring=\"f1_weighted\" instead of scoring=\"f1\".\n",
      "\n",
      "/usr/local/lib/python2.7/site-packages/sklearn/metrics/classification.py:1304: DeprecationWarning:\n",
      "\n",
      "The default `weighted` averaging is deprecated, and from version 0.18, use of precision, recall or F-score with multiclass or multilabel data or pos_label=None will result in an exception. Please set an explicit value for `average`, one of (None, 'micro', 'macro', 'weighted', 'samples'). In cross validation use, for instance, scoring=\"f1_weighted\" instead of scoring=\"f1\".\n",
      "\n"
     ]
    },
    {
     "name": "stdout",
     "output_type": "stream",
     "text": [
      "\n",
      "737"
     ]
    },
    {
     "name": "stderr",
     "output_type": "stream",
     "text": [
      "/usr/local/lib/python2.7/site-packages/sklearn/metrics/classification.py:1203: DeprecationWarning:\n",
      "\n",
      "The default `weighted` averaging is deprecated, and from version 0.18, use of precision, recall or F-score with multiclass or multilabel data or pos_label=None will result in an exception. Please set an explicit value for `average`, one of (None, 'micro', 'macro', 'weighted', 'samples'). In cross validation use, for instance, scoring=\"f1_weighted\" instead of scoring=\"f1\".\n",
      "\n",
      "/usr/local/lib/python2.7/site-packages/sklearn/metrics/classification.py:756: DeprecationWarning:\n",
      "\n",
      "The default `weighted` averaging is deprecated, and from version 0.18, use of precision, recall or F-score with multiclass or multilabel data or pos_label=None will result in an exception. Please set an explicit value for `average`, one of (None, 'micro', 'macro', 'weighted', 'samples'). In cross validation use, for instance, scoring=\"f1_weighted\" instead of scoring=\"f1\".\n",
      "\n",
      "/usr/local/lib/python2.7/site-packages/sklearn/metrics/classification.py:1304: DeprecationWarning:\n",
      "\n",
      "The default `weighted` averaging is deprecated, and from version 0.18, use of precision, recall or F-score with multiclass or multilabel data or pos_label=None will result in an exception. Please set an explicit value for `average`, one of (None, 'micro', 'macro', 'weighted', 'samples'). In cross validation use, for instance, scoring=\"f1_weighted\" instead of scoring=\"f1\".\n",
      "\n"
     ]
    },
    {
     "name": "stdout",
     "output_type": "stream",
     "text": [
      "\n",
      "737"
     ]
    },
    {
     "name": "stderr",
     "output_type": "stream",
     "text": [
      "/usr/local/lib/python2.7/site-packages/sklearn/metrics/classification.py:1203: DeprecationWarning:\n",
      "\n",
      "The default `weighted` averaging is deprecated, and from version 0.18, use of precision, recall or F-score with multiclass or multilabel data or pos_label=None will result in an exception. Please set an explicit value for `average`, one of (None, 'micro', 'macro', 'weighted', 'samples'). In cross validation use, for instance, scoring=\"f1_weighted\" instead of scoring=\"f1\".\n",
      "\n",
      "/usr/local/lib/python2.7/site-packages/sklearn/metrics/classification.py:756: DeprecationWarning:\n",
      "\n",
      "The default `weighted` averaging is deprecated, and from version 0.18, use of precision, recall or F-score with multiclass or multilabel data or pos_label=None will result in an exception. Please set an explicit value for `average`, one of (None, 'micro', 'macro', 'weighted', 'samples'). In cross validation use, for instance, scoring=\"f1_weighted\" instead of scoring=\"f1\".\n",
      "\n",
      "/usr/local/lib/python2.7/site-packages/sklearn/metrics/classification.py:1304: DeprecationWarning:\n",
      "\n",
      "The default `weighted` averaging is deprecated, and from version 0.18, use of precision, recall or F-score with multiclass or multilabel data or pos_label=None will result in an exception. Please set an explicit value for `average`, one of (None, 'micro', 'macro', 'weighted', 'samples'). In cross validation use, for instance, scoring=\"f1_weighted\" instead of scoring=\"f1\".\n",
      "\n"
     ]
    },
    {
     "name": "stdout",
     "output_type": "stream",
     "text": [
      "\n",
      "737"
     ]
    },
    {
     "name": "stderr",
     "output_type": "stream",
     "text": [
      "/usr/local/lib/python2.7/site-packages/sklearn/metrics/classification.py:1203: DeprecationWarning:\n",
      "\n",
      "The default `weighted` averaging is deprecated, and from version 0.18, use of precision, recall or F-score with multiclass or multilabel data or pos_label=None will result in an exception. Please set an explicit value for `average`, one of (None, 'micro', 'macro', 'weighted', 'samples'). In cross validation use, for instance, scoring=\"f1_weighted\" instead of scoring=\"f1\".\n",
      "\n",
      "/usr/local/lib/python2.7/site-packages/sklearn/metrics/classification.py:756: DeprecationWarning:\n",
      "\n",
      "The default `weighted` averaging is deprecated, and from version 0.18, use of precision, recall or F-score with multiclass or multilabel data or pos_label=None will result in an exception. Please set an explicit value for `average`, one of (None, 'micro', 'macro', 'weighted', 'samples'). In cross validation use, for instance, scoring=\"f1_weighted\" instead of scoring=\"f1\".\n",
      "\n",
      "/usr/local/lib/python2.7/site-packages/sklearn/metrics/classification.py:1304: DeprecationWarning:\n",
      "\n",
      "The default `weighted` averaging is deprecated, and from version 0.18, use of precision, recall or F-score with multiclass or multilabel data or pos_label=None will result in an exception. Please set an explicit value for `average`, one of (None, 'micro', 'macro', 'weighted', 'samples'). In cross validation use, for instance, scoring=\"f1_weighted\" instead of scoring=\"f1\".\n",
      "\n"
     ]
    },
    {
     "name": "stdout",
     "output_type": "stream",
     "text": [
      "\n",
      "740"
     ]
    },
    {
     "name": "stderr",
     "output_type": "stream",
     "text": [
      "/usr/local/lib/python2.7/site-packages/sklearn/metrics/classification.py:1203: DeprecationWarning:\n",
      "\n",
      "The default `weighted` averaging is deprecated, and from version 0.18, use of precision, recall or F-score with multiclass or multilabel data or pos_label=None will result in an exception. Please set an explicit value for `average`, one of (None, 'micro', 'macro', 'weighted', 'samples'). In cross validation use, for instance, scoring=\"f1_weighted\" instead of scoring=\"f1\".\n",
      "\n",
      "/usr/local/lib/python2.7/site-packages/sklearn/metrics/classification.py:756: DeprecationWarning:\n",
      "\n",
      "The default `weighted` averaging is deprecated, and from version 0.18, use of precision, recall or F-score with multiclass or multilabel data or pos_label=None will result in an exception. Please set an explicit value for `average`, one of (None, 'micro', 'macro', 'weighted', 'samples'). In cross validation use, for instance, scoring=\"f1_weighted\" instead of scoring=\"f1\".\n",
      "\n",
      "/usr/local/lib/python2.7/site-packages/sklearn/metrics/classification.py:1304: DeprecationWarning:\n",
      "\n",
      "The default `weighted` averaging is deprecated, and from version 0.18, use of precision, recall or F-score with multiclass or multilabel data or pos_label=None will result in an exception. Please set an explicit value for `average`, one of (None, 'micro', 'macro', 'weighted', 'samples'). In cross validation use, for instance, scoring=\"f1_weighted\" instead of scoring=\"f1\".\n",
      "\n"
     ]
    },
    {
     "name": "stdout",
     "output_type": "stream",
     "text": [
      "\n",
      "739"
     ]
    },
    {
     "name": "stderr",
     "output_type": "stream",
     "text": [
      "/usr/local/lib/python2.7/site-packages/sklearn/metrics/classification.py:1203: DeprecationWarning:\n",
      "\n",
      "The default `weighted` averaging is deprecated, and from version 0.18, use of precision, recall or F-score with multiclass or multilabel data or pos_label=None will result in an exception. Please set an explicit value for `average`, one of (None, 'micro', 'macro', 'weighted', 'samples'). In cross validation use, for instance, scoring=\"f1_weighted\" instead of scoring=\"f1\".\n",
      "\n",
      "/usr/local/lib/python2.7/site-packages/sklearn/metrics/classification.py:756: DeprecationWarning:\n",
      "\n",
      "The default `weighted` averaging is deprecated, and from version 0.18, use of precision, recall or F-score with multiclass or multilabel data or pos_label=None will result in an exception. Please set an explicit value for `average`, one of (None, 'micro', 'macro', 'weighted', 'samples'). In cross validation use, for instance, scoring=\"f1_weighted\" instead of scoring=\"f1\".\n",
      "\n",
      "/usr/local/lib/python2.7/site-packages/sklearn/metrics/classification.py:1304: DeprecationWarning:\n",
      "\n",
      "The default `weighted` averaging is deprecated, and from version 0.18, use of precision, recall or F-score with multiclass or multilabel data or pos_label=None will result in an exception. Please set an explicit value for `average`, one of (None, 'micro', 'macro', 'weighted', 'samples'). In cross validation use, for instance, scoring=\"f1_weighted\" instead of scoring=\"f1\".\n",
      "\n"
     ]
    },
    {
     "name": "stdout",
     "output_type": "stream",
     "text": [
      "\n",
      "739"
     ]
    },
    {
     "name": "stderr",
     "output_type": "stream",
     "text": [
      "/usr/local/lib/python2.7/site-packages/sklearn/metrics/classification.py:1203: DeprecationWarning:\n",
      "\n",
      "The default `weighted` averaging is deprecated, and from version 0.18, use of precision, recall or F-score with multiclass or multilabel data or pos_label=None will result in an exception. Please set an explicit value for `average`, one of (None, 'micro', 'macro', 'weighted', 'samples'). In cross validation use, for instance, scoring=\"f1_weighted\" instead of scoring=\"f1\".\n",
      "\n",
      "/usr/local/lib/python2.7/site-packages/sklearn/metrics/classification.py:756: DeprecationWarning:\n",
      "\n",
      "The default `weighted` averaging is deprecated, and from version 0.18, use of precision, recall or F-score with multiclass or multilabel data or pos_label=None will result in an exception. Please set an explicit value for `average`, one of (None, 'micro', 'macro', 'weighted', 'samples'). In cross validation use, for instance, scoring=\"f1_weighted\" instead of scoring=\"f1\".\n",
      "\n",
      "/usr/local/lib/python2.7/site-packages/sklearn/metrics/classification.py:1304: DeprecationWarning:\n",
      "\n",
      "The default `weighted` averaging is deprecated, and from version 0.18, use of precision, recall or F-score with multiclass or multilabel data or pos_label=None will result in an exception. Please set an explicit value for `average`, one of (None, 'micro', 'macro', 'weighted', 'samples'). In cross validation use, for instance, scoring=\"f1_weighted\" instead of scoring=\"f1\".\n",
      "\n"
     ]
    },
    {
     "name": "stdout",
     "output_type": "stream",
     "text": [
      "\n",
      "739"
     ]
    },
    {
     "name": "stderr",
     "output_type": "stream",
     "text": [
      "/usr/local/lib/python2.7/site-packages/sklearn/metrics/classification.py:1203: DeprecationWarning:\n",
      "\n",
      "The default `weighted` averaging is deprecated, and from version 0.18, use of precision, recall or F-score with multiclass or multilabel data or pos_label=None will result in an exception. Please set an explicit value for `average`, one of (None, 'micro', 'macro', 'weighted', 'samples'). In cross validation use, for instance, scoring=\"f1_weighted\" instead of scoring=\"f1\".\n",
      "\n",
      "/usr/local/lib/python2.7/site-packages/sklearn/metrics/classification.py:756: DeprecationWarning:\n",
      "\n",
      "The default `weighted` averaging is deprecated, and from version 0.18, use of precision, recall or F-score with multiclass or multilabel data or pos_label=None will result in an exception. Please set an explicit value for `average`, one of (None, 'micro', 'macro', 'weighted', 'samples'). In cross validation use, for instance, scoring=\"f1_weighted\" instead of scoring=\"f1\".\n",
      "\n",
      "/usr/local/lib/python2.7/site-packages/sklearn/metrics/classification.py:1304: DeprecationWarning:\n",
      "\n",
      "The default `weighted` averaging is deprecated, and from version 0.18, use of precision, recall or F-score with multiclass or multilabel data or pos_label=None will result in an exception. Please set an explicit value for `average`, one of (None, 'micro', 'macro', 'weighted', 'samples'). In cross validation use, for instance, scoring=\"f1_weighted\" instead of scoring=\"f1\".\n",
      "\n"
     ]
    },
    {
     "name": "stdout",
     "output_type": "stream",
     "text": [
      "\n",
      "738"
     ]
    },
    {
     "name": "stderr",
     "output_type": "stream",
     "text": [
      "/usr/local/lib/python2.7/site-packages/sklearn/metrics/classification.py:1203: DeprecationWarning:\n",
      "\n",
      "The default `weighted` averaging is deprecated, and from version 0.18, use of precision, recall or F-score with multiclass or multilabel data or pos_label=None will result in an exception. Please set an explicit value for `average`, one of (None, 'micro', 'macro', 'weighted', 'samples'). In cross validation use, for instance, scoring=\"f1_weighted\" instead of scoring=\"f1\".\n",
      "\n",
      "/usr/local/lib/python2.7/site-packages/sklearn/metrics/classification.py:756: DeprecationWarning:\n",
      "\n",
      "The default `weighted` averaging is deprecated, and from version 0.18, use of precision, recall or F-score with multiclass or multilabel data or pos_label=None will result in an exception. Please set an explicit value for `average`, one of (None, 'micro', 'macro', 'weighted', 'samples'). In cross validation use, for instance, scoring=\"f1_weighted\" instead of scoring=\"f1\".\n",
      "\n",
      "/usr/local/lib/python2.7/site-packages/sklearn/metrics/classification.py:1304: DeprecationWarning:\n",
      "\n",
      "The default `weighted` averaging is deprecated, and from version 0.18, use of precision, recall or F-score with multiclass or multilabel data or pos_label=None will result in an exception. Please set an explicit value for `average`, one of (None, 'micro', 'macro', 'weighted', 'samples'). In cross validation use, for instance, scoring=\"f1_weighted\" instead of scoring=\"f1\".\n",
      "\n"
     ]
    },
    {
     "name": "stdout",
     "output_type": "stream",
     "text": [
      "\n",
      "738"
     ]
    },
    {
     "name": "stderr",
     "output_type": "stream",
     "text": [
      "/usr/local/lib/python2.7/site-packages/sklearn/metrics/classification.py:1203: DeprecationWarning:\n",
      "\n",
      "The default `weighted` averaging is deprecated, and from version 0.18, use of precision, recall or F-score with multiclass or multilabel data or pos_label=None will result in an exception. Please set an explicit value for `average`, one of (None, 'micro', 'macro', 'weighted', 'samples'). In cross validation use, for instance, scoring=\"f1_weighted\" instead of scoring=\"f1\".\n",
      "\n",
      "/usr/local/lib/python2.7/site-packages/sklearn/metrics/classification.py:756: DeprecationWarning:\n",
      "\n",
      "The default `weighted` averaging is deprecated, and from version 0.18, use of precision, recall or F-score with multiclass or multilabel data or pos_label=None will result in an exception. Please set an explicit value for `average`, one of (None, 'micro', 'macro', 'weighted', 'samples'). In cross validation use, for instance, scoring=\"f1_weighted\" instead of scoring=\"f1\".\n",
      "\n",
      "/usr/local/lib/python2.7/site-packages/sklearn/metrics/classification.py:1304: DeprecationWarning:\n",
      "\n",
      "The default `weighted` averaging is deprecated, and from version 0.18, use of precision, recall or F-score with multiclass or multilabel data or pos_label=None will result in an exception. Please set an explicit value for `average`, one of (None, 'micro', 'macro', 'weighted', 'samples'). In cross validation use, for instance, scoring=\"f1_weighted\" instead of scoring=\"f1\".\n",
      "\n"
     ]
    },
    {
     "name": "stdout",
     "output_type": "stream",
     "text": [
      "\n",
      "737"
     ]
    },
    {
     "name": "stderr",
     "output_type": "stream",
     "text": [
      "/usr/local/lib/python2.7/site-packages/sklearn/metrics/classification.py:1203: DeprecationWarning:\n",
      "\n",
      "The default `weighted` averaging is deprecated, and from version 0.18, use of precision, recall or F-score with multiclass or multilabel data or pos_label=None will result in an exception. Please set an explicit value for `average`, one of (None, 'micro', 'macro', 'weighted', 'samples'). In cross validation use, for instance, scoring=\"f1_weighted\" instead of scoring=\"f1\".\n",
      "\n",
      "/usr/local/lib/python2.7/site-packages/sklearn/metrics/classification.py:756: DeprecationWarning:\n",
      "\n",
      "The default `weighted` averaging is deprecated, and from version 0.18, use of precision, recall or F-score with multiclass or multilabel data or pos_label=None will result in an exception. Please set an explicit value for `average`, one of (None, 'micro', 'macro', 'weighted', 'samples'). In cross validation use, for instance, scoring=\"f1_weighted\" instead of scoring=\"f1\".\n",
      "\n",
      "/usr/local/lib/python2.7/site-packages/sklearn/metrics/classification.py:1304: DeprecationWarning:\n",
      "\n",
      "The default `weighted` averaging is deprecated, and from version 0.18, use of precision, recall or F-score with multiclass or multilabel data or pos_label=None will result in an exception. Please set an explicit value for `average`, one of (None, 'micro', 'macro', 'weighted', 'samples'). In cross validation use, for instance, scoring=\"f1_weighted\" instead of scoring=\"f1\".\n",
      "\n"
     ]
    },
    {
     "name": "stdout",
     "output_type": "stream",
     "text": [
      "\n",
      "737"
     ]
    },
    {
     "name": "stderr",
     "output_type": "stream",
     "text": [
      "/usr/local/lib/python2.7/site-packages/sklearn/metrics/classification.py:1203: DeprecationWarning:\n",
      "\n",
      "The default `weighted` averaging is deprecated, and from version 0.18, use of precision, recall or F-score with multiclass or multilabel data or pos_label=None will result in an exception. Please set an explicit value for `average`, one of (None, 'micro', 'macro', 'weighted', 'samples'). In cross validation use, for instance, scoring=\"f1_weighted\" instead of scoring=\"f1\".\n",
      "\n",
      "/usr/local/lib/python2.7/site-packages/sklearn/metrics/classification.py:756: DeprecationWarning:\n",
      "\n",
      "The default `weighted` averaging is deprecated, and from version 0.18, use of precision, recall or F-score with multiclass or multilabel data or pos_label=None will result in an exception. Please set an explicit value for `average`, one of (None, 'micro', 'macro', 'weighted', 'samples'). In cross validation use, for instance, scoring=\"f1_weighted\" instead of scoring=\"f1\".\n",
      "\n",
      "/usr/local/lib/python2.7/site-packages/sklearn/metrics/classification.py:1304: DeprecationWarning:\n",
      "\n",
      "The default `weighted` averaging is deprecated, and from version 0.18, use of precision, recall or F-score with multiclass or multilabel data or pos_label=None will result in an exception. Please set an explicit value for `average`, one of (None, 'micro', 'macro', 'weighted', 'samples'). In cross validation use, for instance, scoring=\"f1_weighted\" instead of scoring=\"f1\".\n",
      "\n"
     ]
    },
    {
     "name": "stdout",
     "output_type": "stream",
     "text": [
      "\n",
      "737"
     ]
    },
    {
     "name": "stderr",
     "output_type": "stream",
     "text": [
      "/usr/local/lib/python2.7/site-packages/sklearn/metrics/classification.py:1203: DeprecationWarning:\n",
      "\n",
      "The default `weighted` averaging is deprecated, and from version 0.18, use of precision, recall or F-score with multiclass or multilabel data or pos_label=None will result in an exception. Please set an explicit value for `average`, one of (None, 'micro', 'macro', 'weighted', 'samples'). In cross validation use, for instance, scoring=\"f1_weighted\" instead of scoring=\"f1\".\n",
      "\n",
      "/usr/local/lib/python2.7/site-packages/sklearn/metrics/classification.py:756: DeprecationWarning:\n",
      "\n",
      "The default `weighted` averaging is deprecated, and from version 0.18, use of precision, recall or F-score with multiclass or multilabel data or pos_label=None will result in an exception. Please set an explicit value for `average`, one of (None, 'micro', 'macro', 'weighted', 'samples'). In cross validation use, for instance, scoring=\"f1_weighted\" instead of scoring=\"f1\".\n",
      "\n",
      "/usr/local/lib/python2.7/site-packages/sklearn/metrics/classification.py:1304: DeprecationWarning:\n",
      "\n",
      "The default `weighted` averaging is deprecated, and from version 0.18, use of precision, recall or F-score with multiclass or multilabel data or pos_label=None will result in an exception. Please set an explicit value for `average`, one of (None, 'micro', 'macro', 'weighted', 'samples'). In cross validation use, for instance, scoring=\"f1_weighted\" instead of scoring=\"f1\".\n",
      "\n"
     ]
    },
    {
     "name": "stdout",
     "output_type": "stream",
     "text": [
      "\n",
      "737"
     ]
    },
    {
     "name": "stderr",
     "output_type": "stream",
     "text": [
      "/usr/local/lib/python2.7/site-packages/sklearn/metrics/classification.py:1203: DeprecationWarning:\n",
      "\n",
      "The default `weighted` averaging is deprecated, and from version 0.18, use of precision, recall or F-score with multiclass or multilabel data or pos_label=None will result in an exception. Please set an explicit value for `average`, one of (None, 'micro', 'macro', 'weighted', 'samples'). In cross validation use, for instance, scoring=\"f1_weighted\" instead of scoring=\"f1\".\n",
      "\n",
      "/usr/local/lib/python2.7/site-packages/sklearn/metrics/classification.py:756: DeprecationWarning:\n",
      "\n",
      "The default `weighted` averaging is deprecated, and from version 0.18, use of precision, recall or F-score with multiclass or multilabel data or pos_label=None will result in an exception. Please set an explicit value for `average`, one of (None, 'micro', 'macro', 'weighted', 'samples'). In cross validation use, for instance, scoring=\"f1_weighted\" instead of scoring=\"f1\".\n",
      "\n",
      "/usr/local/lib/python2.7/site-packages/sklearn/metrics/classification.py:1304: DeprecationWarning:\n",
      "\n",
      "The default `weighted` averaging is deprecated, and from version 0.18, use of precision, recall or F-score with multiclass or multilabel data or pos_label=None will result in an exception. Please set an explicit value for `average`, one of (None, 'micro', 'macro', 'weighted', 'samples'). In cross validation use, for instance, scoring=\"f1_weighted\" instead of scoring=\"f1\".\n",
      "\n"
     ]
    },
    {
     "name": "stdout",
     "output_type": "stream",
     "text": [
      "\n",
      "740"
     ]
    },
    {
     "name": "stderr",
     "output_type": "stream",
     "text": [
      "/usr/local/lib/python2.7/site-packages/sklearn/metrics/classification.py:1203: DeprecationWarning:\n",
      "\n",
      "The default `weighted` averaging is deprecated, and from version 0.18, use of precision, recall or F-score with multiclass or multilabel data or pos_label=None will result in an exception. Please set an explicit value for `average`, one of (None, 'micro', 'macro', 'weighted', 'samples'). In cross validation use, for instance, scoring=\"f1_weighted\" instead of scoring=\"f1\".\n",
      "\n",
      "/usr/local/lib/python2.7/site-packages/sklearn/metrics/classification.py:756: DeprecationWarning:\n",
      "\n",
      "The default `weighted` averaging is deprecated, and from version 0.18, use of precision, recall or F-score with multiclass or multilabel data or pos_label=None will result in an exception. Please set an explicit value for `average`, one of (None, 'micro', 'macro', 'weighted', 'samples'). In cross validation use, for instance, scoring=\"f1_weighted\" instead of scoring=\"f1\".\n",
      "\n",
      "/usr/local/lib/python2.7/site-packages/sklearn/metrics/classification.py:1304: DeprecationWarning:\n",
      "\n",
      "The default `weighted` averaging is deprecated, and from version 0.18, use of precision, recall or F-score with multiclass or multilabel data or pos_label=None will result in an exception. Please set an explicit value for `average`, one of (None, 'micro', 'macro', 'weighted', 'samples'). In cross validation use, for instance, scoring=\"f1_weighted\" instead of scoring=\"f1\".\n",
      "\n"
     ]
    },
    {
     "name": "stdout",
     "output_type": "stream",
     "text": [
      "\n",
      "739"
     ]
    },
    {
     "name": "stderr",
     "output_type": "stream",
     "text": [
      "/usr/local/lib/python2.7/site-packages/sklearn/metrics/classification.py:1203: DeprecationWarning:\n",
      "\n",
      "The default `weighted` averaging is deprecated, and from version 0.18, use of precision, recall or F-score with multiclass or multilabel data or pos_label=None will result in an exception. Please set an explicit value for `average`, one of (None, 'micro', 'macro', 'weighted', 'samples'). In cross validation use, for instance, scoring=\"f1_weighted\" instead of scoring=\"f1\".\n",
      "\n",
      "/usr/local/lib/python2.7/site-packages/sklearn/metrics/classification.py:756: DeprecationWarning:\n",
      "\n",
      "The default `weighted` averaging is deprecated, and from version 0.18, use of precision, recall or F-score with multiclass or multilabel data or pos_label=None will result in an exception. Please set an explicit value for `average`, one of (None, 'micro', 'macro', 'weighted', 'samples'). In cross validation use, for instance, scoring=\"f1_weighted\" instead of scoring=\"f1\".\n",
      "\n",
      "/usr/local/lib/python2.7/site-packages/sklearn/metrics/classification.py:1304: DeprecationWarning:\n",
      "\n",
      "The default `weighted` averaging is deprecated, and from version 0.18, use of precision, recall or F-score with multiclass or multilabel data or pos_label=None will result in an exception. Please set an explicit value for `average`, one of (None, 'micro', 'macro', 'weighted', 'samples'). In cross validation use, for instance, scoring=\"f1_weighted\" instead of scoring=\"f1\".\n",
      "\n"
     ]
    },
    {
     "name": "stdout",
     "output_type": "stream",
     "text": [
      "\n",
      "739"
     ]
    },
    {
     "name": "stderr",
     "output_type": "stream",
     "text": [
      "/usr/local/lib/python2.7/site-packages/sklearn/metrics/classification.py:1203: DeprecationWarning:\n",
      "\n",
      "The default `weighted` averaging is deprecated, and from version 0.18, use of precision, recall or F-score with multiclass or multilabel data or pos_label=None will result in an exception. Please set an explicit value for `average`, one of (None, 'micro', 'macro', 'weighted', 'samples'). In cross validation use, for instance, scoring=\"f1_weighted\" instead of scoring=\"f1\".\n",
      "\n",
      "/usr/local/lib/python2.7/site-packages/sklearn/metrics/classification.py:756: DeprecationWarning:\n",
      "\n",
      "The default `weighted` averaging is deprecated, and from version 0.18, use of precision, recall or F-score with multiclass or multilabel data or pos_label=None will result in an exception. Please set an explicit value for `average`, one of (None, 'micro', 'macro', 'weighted', 'samples'). In cross validation use, for instance, scoring=\"f1_weighted\" instead of scoring=\"f1\".\n",
      "\n",
      "/usr/local/lib/python2.7/site-packages/sklearn/metrics/classification.py:1304: DeprecationWarning:\n",
      "\n",
      "The default `weighted` averaging is deprecated, and from version 0.18, use of precision, recall or F-score with multiclass or multilabel data or pos_label=None will result in an exception. Please set an explicit value for `average`, one of (None, 'micro', 'macro', 'weighted', 'samples'). In cross validation use, for instance, scoring=\"f1_weighted\" instead of scoring=\"f1\".\n",
      "\n"
     ]
    },
    {
     "name": "stdout",
     "output_type": "stream",
     "text": [
      "\n",
      "739"
     ]
    },
    {
     "name": "stderr",
     "output_type": "stream",
     "text": [
      "/usr/local/lib/python2.7/site-packages/sklearn/metrics/classification.py:1203: DeprecationWarning:\n",
      "\n",
      "The default `weighted` averaging is deprecated, and from version 0.18, use of precision, recall or F-score with multiclass or multilabel data or pos_label=None will result in an exception. Please set an explicit value for `average`, one of (None, 'micro', 'macro', 'weighted', 'samples'). In cross validation use, for instance, scoring=\"f1_weighted\" instead of scoring=\"f1\".\n",
      "\n",
      "/usr/local/lib/python2.7/site-packages/sklearn/metrics/classification.py:756: DeprecationWarning:\n",
      "\n",
      "The default `weighted` averaging is deprecated, and from version 0.18, use of precision, recall or F-score with multiclass or multilabel data or pos_label=None will result in an exception. Please set an explicit value for `average`, one of (None, 'micro', 'macro', 'weighted', 'samples'). In cross validation use, for instance, scoring=\"f1_weighted\" instead of scoring=\"f1\".\n",
      "\n",
      "/usr/local/lib/python2.7/site-packages/sklearn/metrics/classification.py:1304: DeprecationWarning:\n",
      "\n",
      "The default `weighted` averaging is deprecated, and from version 0.18, use of precision, recall or F-score with multiclass or multilabel data or pos_label=None will result in an exception. Please set an explicit value for `average`, one of (None, 'micro', 'macro', 'weighted', 'samples'). In cross validation use, for instance, scoring=\"f1_weighted\" instead of scoring=\"f1\".\n",
      "\n"
     ]
    },
    {
     "name": "stdout",
     "output_type": "stream",
     "text": [
      "\n",
      "738"
     ]
    },
    {
     "name": "stderr",
     "output_type": "stream",
     "text": [
      "/usr/local/lib/python2.7/site-packages/sklearn/metrics/classification.py:1203: DeprecationWarning:\n",
      "\n",
      "The default `weighted` averaging is deprecated, and from version 0.18, use of precision, recall or F-score with multiclass or multilabel data or pos_label=None will result in an exception. Please set an explicit value for `average`, one of (None, 'micro', 'macro', 'weighted', 'samples'). In cross validation use, for instance, scoring=\"f1_weighted\" instead of scoring=\"f1\".\n",
      "\n",
      "/usr/local/lib/python2.7/site-packages/sklearn/metrics/classification.py:756: DeprecationWarning:\n",
      "\n",
      "The default `weighted` averaging is deprecated, and from version 0.18, use of precision, recall or F-score with multiclass or multilabel data or pos_label=None will result in an exception. Please set an explicit value for `average`, one of (None, 'micro', 'macro', 'weighted', 'samples'). In cross validation use, for instance, scoring=\"f1_weighted\" instead of scoring=\"f1\".\n",
      "\n",
      "/usr/local/lib/python2.7/site-packages/sklearn/metrics/classification.py:1304: DeprecationWarning:\n",
      "\n",
      "The default `weighted` averaging is deprecated, and from version 0.18, use of precision, recall or F-score with multiclass or multilabel data or pos_label=None will result in an exception. Please set an explicit value for `average`, one of (None, 'micro', 'macro', 'weighted', 'samples'). In cross validation use, for instance, scoring=\"f1_weighted\" instead of scoring=\"f1\".\n",
      "\n"
     ]
    },
    {
     "name": "stdout",
     "output_type": "stream",
     "text": [
      "\n",
      "738"
     ]
    },
    {
     "name": "stderr",
     "output_type": "stream",
     "text": [
      "/usr/local/lib/python2.7/site-packages/sklearn/metrics/classification.py:1203: DeprecationWarning:\n",
      "\n",
      "The default `weighted` averaging is deprecated, and from version 0.18, use of precision, recall or F-score with multiclass or multilabel data or pos_label=None will result in an exception. Please set an explicit value for `average`, one of (None, 'micro', 'macro', 'weighted', 'samples'). In cross validation use, for instance, scoring=\"f1_weighted\" instead of scoring=\"f1\".\n",
      "\n",
      "/usr/local/lib/python2.7/site-packages/sklearn/metrics/classification.py:756: DeprecationWarning:\n",
      "\n",
      "The default `weighted` averaging is deprecated, and from version 0.18, use of precision, recall or F-score with multiclass or multilabel data or pos_label=None will result in an exception. Please set an explicit value for `average`, one of (None, 'micro', 'macro', 'weighted', 'samples'). In cross validation use, for instance, scoring=\"f1_weighted\" instead of scoring=\"f1\".\n",
      "\n",
      "/usr/local/lib/python2.7/site-packages/sklearn/metrics/classification.py:1304: DeprecationWarning:\n",
      "\n",
      "The default `weighted` averaging is deprecated, and from version 0.18, use of precision, recall or F-score with multiclass or multilabel data or pos_label=None will result in an exception. Please set an explicit value for `average`, one of (None, 'micro', 'macro', 'weighted', 'samples'). In cross validation use, for instance, scoring=\"f1_weighted\" instead of scoring=\"f1\".\n",
      "\n"
     ]
    },
    {
     "name": "stdout",
     "output_type": "stream",
     "text": [
      "\n",
      "737"
     ]
    },
    {
     "name": "stderr",
     "output_type": "stream",
     "text": [
      "/usr/local/lib/python2.7/site-packages/sklearn/metrics/classification.py:1203: DeprecationWarning:\n",
      "\n",
      "The default `weighted` averaging is deprecated, and from version 0.18, use of precision, recall or F-score with multiclass or multilabel data or pos_label=None will result in an exception. Please set an explicit value for `average`, one of (None, 'micro', 'macro', 'weighted', 'samples'). In cross validation use, for instance, scoring=\"f1_weighted\" instead of scoring=\"f1\".\n",
      "\n",
      "/usr/local/lib/python2.7/site-packages/sklearn/metrics/classification.py:756: DeprecationWarning:\n",
      "\n",
      "The default `weighted` averaging is deprecated, and from version 0.18, use of precision, recall or F-score with multiclass or multilabel data or pos_label=None will result in an exception. Please set an explicit value for `average`, one of (None, 'micro', 'macro', 'weighted', 'samples'). In cross validation use, for instance, scoring=\"f1_weighted\" instead of scoring=\"f1\".\n",
      "\n",
      "/usr/local/lib/python2.7/site-packages/sklearn/metrics/classification.py:1304: DeprecationWarning:\n",
      "\n",
      "The default `weighted` averaging is deprecated, and from version 0.18, use of precision, recall or F-score with multiclass or multilabel data or pos_label=None will result in an exception. Please set an explicit value for `average`, one of (None, 'micro', 'macro', 'weighted', 'samples'). In cross validation use, for instance, scoring=\"f1_weighted\" instead of scoring=\"f1\".\n",
      "\n"
     ]
    },
    {
     "name": "stdout",
     "output_type": "stream",
     "text": [
      "\n",
      "737"
     ]
    },
    {
     "name": "stderr",
     "output_type": "stream",
     "text": [
      "/usr/local/lib/python2.7/site-packages/sklearn/metrics/classification.py:1203: DeprecationWarning:\n",
      "\n",
      "The default `weighted` averaging is deprecated, and from version 0.18, use of precision, recall or F-score with multiclass or multilabel data or pos_label=None will result in an exception. Please set an explicit value for `average`, one of (None, 'micro', 'macro', 'weighted', 'samples'). In cross validation use, for instance, scoring=\"f1_weighted\" instead of scoring=\"f1\".\n",
      "\n",
      "/usr/local/lib/python2.7/site-packages/sklearn/metrics/classification.py:756: DeprecationWarning:\n",
      "\n",
      "The default `weighted` averaging is deprecated, and from version 0.18, use of precision, recall or F-score with multiclass or multilabel data or pos_label=None will result in an exception. Please set an explicit value for `average`, one of (None, 'micro', 'macro', 'weighted', 'samples'). In cross validation use, for instance, scoring=\"f1_weighted\" instead of scoring=\"f1\".\n",
      "\n",
      "/usr/local/lib/python2.7/site-packages/sklearn/metrics/classification.py:1304: DeprecationWarning:\n",
      "\n",
      "The default `weighted` averaging is deprecated, and from version 0.18, use of precision, recall or F-score with multiclass or multilabel data or pos_label=None will result in an exception. Please set an explicit value for `average`, one of (None, 'micro', 'macro', 'weighted', 'samples'). In cross validation use, for instance, scoring=\"f1_weighted\" instead of scoring=\"f1\".\n",
      "\n"
     ]
    },
    {
     "name": "stdout",
     "output_type": "stream",
     "text": [
      "\n",
      "737"
     ]
    },
    {
     "name": "stderr",
     "output_type": "stream",
     "text": [
      "/usr/local/lib/python2.7/site-packages/sklearn/metrics/classification.py:1203: DeprecationWarning:\n",
      "\n",
      "The default `weighted` averaging is deprecated, and from version 0.18, use of precision, recall or F-score with multiclass or multilabel data or pos_label=None will result in an exception. Please set an explicit value for `average`, one of (None, 'micro', 'macro', 'weighted', 'samples'). In cross validation use, for instance, scoring=\"f1_weighted\" instead of scoring=\"f1\".\n",
      "\n",
      "/usr/local/lib/python2.7/site-packages/sklearn/metrics/classification.py:756: DeprecationWarning:\n",
      "\n",
      "The default `weighted` averaging is deprecated, and from version 0.18, use of precision, recall or F-score with multiclass or multilabel data or pos_label=None will result in an exception. Please set an explicit value for `average`, one of (None, 'micro', 'macro', 'weighted', 'samples'). In cross validation use, for instance, scoring=\"f1_weighted\" instead of scoring=\"f1\".\n",
      "\n",
      "/usr/local/lib/python2.7/site-packages/sklearn/metrics/classification.py:1304: DeprecationWarning:\n",
      "\n",
      "The default `weighted` averaging is deprecated, and from version 0.18, use of precision, recall or F-score with multiclass or multilabel data or pos_label=None will result in an exception. Please set an explicit value for `average`, one of (None, 'micro', 'macro', 'weighted', 'samples'). In cross validation use, for instance, scoring=\"f1_weighted\" instead of scoring=\"f1\".\n",
      "\n"
     ]
    },
    {
     "name": "stdout",
     "output_type": "stream",
     "text": [
      "\n",
      "737"
     ]
    },
    {
     "name": "stderr",
     "output_type": "stream",
     "text": [
      "/usr/local/lib/python2.7/site-packages/sklearn/metrics/classification.py:1203: DeprecationWarning:\n",
      "\n",
      "The default `weighted` averaging is deprecated, and from version 0.18, use of precision, recall or F-score with multiclass or multilabel data or pos_label=None will result in an exception. Please set an explicit value for `average`, one of (None, 'micro', 'macro', 'weighted', 'samples'). In cross validation use, for instance, scoring=\"f1_weighted\" instead of scoring=\"f1\".\n",
      "\n",
      "/usr/local/lib/python2.7/site-packages/sklearn/metrics/classification.py:756: DeprecationWarning:\n",
      "\n",
      "The default `weighted` averaging is deprecated, and from version 0.18, use of precision, recall or F-score with multiclass or multilabel data or pos_label=None will result in an exception. Please set an explicit value for `average`, one of (None, 'micro', 'macro', 'weighted', 'samples'). In cross validation use, for instance, scoring=\"f1_weighted\" instead of scoring=\"f1\".\n",
      "\n",
      "/usr/local/lib/python2.7/site-packages/sklearn/metrics/classification.py:1304: DeprecationWarning:\n",
      "\n",
      "The default `weighted` averaging is deprecated, and from version 0.18, use of precision, recall or F-score with multiclass or multilabel data or pos_label=None will result in an exception. Please set an explicit value for `average`, one of (None, 'micro', 'macro', 'weighted', 'samples'). In cross validation use, for instance, scoring=\"f1_weighted\" instead of scoring=\"f1\".\n",
      "\n"
     ]
    },
    {
     "name": "stdout",
     "output_type": "stream",
     "text": [
      "\n",
      "740"
     ]
    },
    {
     "name": "stderr",
     "output_type": "stream",
     "text": [
      "/usr/local/lib/python2.7/site-packages/sklearn/metrics/classification.py:1203: DeprecationWarning:\n",
      "\n",
      "The default `weighted` averaging is deprecated, and from version 0.18, use of precision, recall or F-score with multiclass or multilabel data or pos_label=None will result in an exception. Please set an explicit value for `average`, one of (None, 'micro', 'macro', 'weighted', 'samples'). In cross validation use, for instance, scoring=\"f1_weighted\" instead of scoring=\"f1\".\n",
      "\n",
      "/usr/local/lib/python2.7/site-packages/sklearn/metrics/classification.py:756: DeprecationWarning:\n",
      "\n",
      "The default `weighted` averaging is deprecated, and from version 0.18, use of precision, recall or F-score with multiclass or multilabel data or pos_label=None will result in an exception. Please set an explicit value for `average`, one of (None, 'micro', 'macro', 'weighted', 'samples'). In cross validation use, for instance, scoring=\"f1_weighted\" instead of scoring=\"f1\".\n",
      "\n",
      "/usr/local/lib/python2.7/site-packages/sklearn/metrics/classification.py:1304: DeprecationWarning:\n",
      "\n",
      "The default `weighted` averaging is deprecated, and from version 0.18, use of precision, recall or F-score with multiclass or multilabel data or pos_label=None will result in an exception. Please set an explicit value for `average`, one of (None, 'micro', 'macro', 'weighted', 'samples'). In cross validation use, for instance, scoring=\"f1_weighted\" instead of scoring=\"f1\".\n",
      "\n"
     ]
    },
    {
     "name": "stdout",
     "output_type": "stream",
     "text": [
      "\n",
      "739"
     ]
    },
    {
     "name": "stderr",
     "output_type": "stream",
     "text": [
      "/usr/local/lib/python2.7/site-packages/sklearn/metrics/classification.py:1203: DeprecationWarning:\n",
      "\n",
      "The default `weighted` averaging is deprecated, and from version 0.18, use of precision, recall or F-score with multiclass or multilabel data or pos_label=None will result in an exception. Please set an explicit value for `average`, one of (None, 'micro', 'macro', 'weighted', 'samples'). In cross validation use, for instance, scoring=\"f1_weighted\" instead of scoring=\"f1\".\n",
      "\n",
      "/usr/local/lib/python2.7/site-packages/sklearn/metrics/classification.py:756: DeprecationWarning:\n",
      "\n",
      "The default `weighted` averaging is deprecated, and from version 0.18, use of precision, recall or F-score with multiclass or multilabel data or pos_label=None will result in an exception. Please set an explicit value for `average`, one of (None, 'micro', 'macro', 'weighted', 'samples'). In cross validation use, for instance, scoring=\"f1_weighted\" instead of scoring=\"f1\".\n",
      "\n",
      "/usr/local/lib/python2.7/site-packages/sklearn/metrics/classification.py:1304: DeprecationWarning:\n",
      "\n",
      "The default `weighted` averaging is deprecated, and from version 0.18, use of precision, recall or F-score with multiclass or multilabel data or pos_label=None will result in an exception. Please set an explicit value for `average`, one of (None, 'micro', 'macro', 'weighted', 'samples'). In cross validation use, for instance, scoring=\"f1_weighted\" instead of scoring=\"f1\".\n",
      "\n"
     ]
    },
    {
     "name": "stdout",
     "output_type": "stream",
     "text": [
      "\n",
      "739"
     ]
    },
    {
     "name": "stderr",
     "output_type": "stream",
     "text": [
      "/usr/local/lib/python2.7/site-packages/sklearn/metrics/classification.py:1203: DeprecationWarning:\n",
      "\n",
      "The default `weighted` averaging is deprecated, and from version 0.18, use of precision, recall or F-score with multiclass or multilabel data or pos_label=None will result in an exception. Please set an explicit value for `average`, one of (None, 'micro', 'macro', 'weighted', 'samples'). In cross validation use, for instance, scoring=\"f1_weighted\" instead of scoring=\"f1\".\n",
      "\n",
      "/usr/local/lib/python2.7/site-packages/sklearn/metrics/classification.py:756: DeprecationWarning:\n",
      "\n",
      "The default `weighted` averaging is deprecated, and from version 0.18, use of precision, recall or F-score with multiclass or multilabel data or pos_label=None will result in an exception. Please set an explicit value for `average`, one of (None, 'micro', 'macro', 'weighted', 'samples'). In cross validation use, for instance, scoring=\"f1_weighted\" instead of scoring=\"f1\".\n",
      "\n",
      "/usr/local/lib/python2.7/site-packages/sklearn/metrics/classification.py:1304: DeprecationWarning:\n",
      "\n",
      "The default `weighted` averaging is deprecated, and from version 0.18, use of precision, recall or F-score with multiclass or multilabel data or pos_label=None will result in an exception. Please set an explicit value for `average`, one of (None, 'micro', 'macro', 'weighted', 'samples'). In cross validation use, for instance, scoring=\"f1_weighted\" instead of scoring=\"f1\".\n",
      "\n"
     ]
    },
    {
     "name": "stdout",
     "output_type": "stream",
     "text": [
      "\n",
      "739"
     ]
    },
    {
     "name": "stderr",
     "output_type": "stream",
     "text": [
      "/usr/local/lib/python2.7/site-packages/sklearn/metrics/classification.py:1203: DeprecationWarning:\n",
      "\n",
      "The default `weighted` averaging is deprecated, and from version 0.18, use of precision, recall or F-score with multiclass or multilabel data or pos_label=None will result in an exception. Please set an explicit value for `average`, one of (None, 'micro', 'macro', 'weighted', 'samples'). In cross validation use, for instance, scoring=\"f1_weighted\" instead of scoring=\"f1\".\n",
      "\n",
      "/usr/local/lib/python2.7/site-packages/sklearn/metrics/classification.py:756: DeprecationWarning:\n",
      "\n",
      "The default `weighted` averaging is deprecated, and from version 0.18, use of precision, recall or F-score with multiclass or multilabel data or pos_label=None will result in an exception. Please set an explicit value for `average`, one of (None, 'micro', 'macro', 'weighted', 'samples'). In cross validation use, for instance, scoring=\"f1_weighted\" instead of scoring=\"f1\".\n",
      "\n",
      "/usr/local/lib/python2.7/site-packages/sklearn/metrics/classification.py:1304: DeprecationWarning:\n",
      "\n",
      "The default `weighted` averaging is deprecated, and from version 0.18, use of precision, recall or F-score with multiclass or multilabel data or pos_label=None will result in an exception. Please set an explicit value for `average`, one of (None, 'micro', 'macro', 'weighted', 'samples'). In cross validation use, for instance, scoring=\"f1_weighted\" instead of scoring=\"f1\".\n",
      "\n"
     ]
    },
    {
     "name": "stdout",
     "output_type": "stream",
     "text": [
      "\n",
      "738"
     ]
    },
    {
     "name": "stderr",
     "output_type": "stream",
     "text": [
      "/usr/local/lib/python2.7/site-packages/sklearn/metrics/classification.py:1203: DeprecationWarning:\n",
      "\n",
      "The default `weighted` averaging is deprecated, and from version 0.18, use of precision, recall or F-score with multiclass or multilabel data or pos_label=None will result in an exception. Please set an explicit value for `average`, one of (None, 'micro', 'macro', 'weighted', 'samples'). In cross validation use, for instance, scoring=\"f1_weighted\" instead of scoring=\"f1\".\n",
      "\n",
      "/usr/local/lib/python2.7/site-packages/sklearn/metrics/classification.py:756: DeprecationWarning:\n",
      "\n",
      "The default `weighted` averaging is deprecated, and from version 0.18, use of precision, recall or F-score with multiclass or multilabel data or pos_label=None will result in an exception. Please set an explicit value for `average`, one of (None, 'micro', 'macro', 'weighted', 'samples'). In cross validation use, for instance, scoring=\"f1_weighted\" instead of scoring=\"f1\".\n",
      "\n",
      "/usr/local/lib/python2.7/site-packages/sklearn/metrics/classification.py:1304: DeprecationWarning:\n",
      "\n",
      "The default `weighted` averaging is deprecated, and from version 0.18, use of precision, recall or F-score with multiclass or multilabel data or pos_label=None will result in an exception. Please set an explicit value for `average`, one of (None, 'micro', 'macro', 'weighted', 'samples'). In cross validation use, for instance, scoring=\"f1_weighted\" instead of scoring=\"f1\".\n",
      "\n"
     ]
    },
    {
     "name": "stdout",
     "output_type": "stream",
     "text": [
      "\n",
      "738"
     ]
    },
    {
     "name": "stderr",
     "output_type": "stream",
     "text": [
      "/usr/local/lib/python2.7/site-packages/sklearn/metrics/classification.py:1203: DeprecationWarning:\n",
      "\n",
      "The default `weighted` averaging is deprecated, and from version 0.18, use of precision, recall or F-score with multiclass or multilabel data or pos_label=None will result in an exception. Please set an explicit value for `average`, one of (None, 'micro', 'macro', 'weighted', 'samples'). In cross validation use, for instance, scoring=\"f1_weighted\" instead of scoring=\"f1\".\n",
      "\n",
      "/usr/local/lib/python2.7/site-packages/sklearn/metrics/classification.py:756: DeprecationWarning:\n",
      "\n",
      "The default `weighted` averaging is deprecated, and from version 0.18, use of precision, recall or F-score with multiclass or multilabel data or pos_label=None will result in an exception. Please set an explicit value for `average`, one of (None, 'micro', 'macro', 'weighted', 'samples'). In cross validation use, for instance, scoring=\"f1_weighted\" instead of scoring=\"f1\".\n",
      "\n",
      "/usr/local/lib/python2.7/site-packages/sklearn/metrics/classification.py:1304: DeprecationWarning:\n",
      "\n",
      "The default `weighted` averaging is deprecated, and from version 0.18, use of precision, recall or F-score with multiclass or multilabel data or pos_label=None will result in an exception. Please set an explicit value for `average`, one of (None, 'micro', 'macro', 'weighted', 'samples'). In cross validation use, for instance, scoring=\"f1_weighted\" instead of scoring=\"f1\".\n",
      "\n"
     ]
    },
    {
     "name": "stdout",
     "output_type": "stream",
     "text": [
      "\n",
      "737"
     ]
    },
    {
     "name": "stderr",
     "output_type": "stream",
     "text": [
      "/usr/local/lib/python2.7/site-packages/sklearn/metrics/classification.py:1203: DeprecationWarning:\n",
      "\n",
      "The default `weighted` averaging is deprecated, and from version 0.18, use of precision, recall or F-score with multiclass or multilabel data or pos_label=None will result in an exception. Please set an explicit value for `average`, one of (None, 'micro', 'macro', 'weighted', 'samples'). In cross validation use, for instance, scoring=\"f1_weighted\" instead of scoring=\"f1\".\n",
      "\n",
      "/usr/local/lib/python2.7/site-packages/sklearn/metrics/classification.py:756: DeprecationWarning:\n",
      "\n",
      "The default `weighted` averaging is deprecated, and from version 0.18, use of precision, recall or F-score with multiclass or multilabel data or pos_label=None will result in an exception. Please set an explicit value for `average`, one of (None, 'micro', 'macro', 'weighted', 'samples'). In cross validation use, for instance, scoring=\"f1_weighted\" instead of scoring=\"f1\".\n",
      "\n",
      "/usr/local/lib/python2.7/site-packages/sklearn/metrics/classification.py:1304: DeprecationWarning:\n",
      "\n",
      "The default `weighted` averaging is deprecated, and from version 0.18, use of precision, recall or F-score with multiclass or multilabel data or pos_label=None will result in an exception. Please set an explicit value for `average`, one of (None, 'micro', 'macro', 'weighted', 'samples'). In cross validation use, for instance, scoring=\"f1_weighted\" instead of scoring=\"f1\".\n",
      "\n"
     ]
    },
    {
     "name": "stdout",
     "output_type": "stream",
     "text": [
      "\n",
      "737"
     ]
    },
    {
     "name": "stderr",
     "output_type": "stream",
     "text": [
      "/usr/local/lib/python2.7/site-packages/sklearn/metrics/classification.py:1203: DeprecationWarning:\n",
      "\n",
      "The default `weighted` averaging is deprecated, and from version 0.18, use of precision, recall or F-score with multiclass or multilabel data or pos_label=None will result in an exception. Please set an explicit value for `average`, one of (None, 'micro', 'macro', 'weighted', 'samples'). In cross validation use, for instance, scoring=\"f1_weighted\" instead of scoring=\"f1\".\n",
      "\n",
      "/usr/local/lib/python2.7/site-packages/sklearn/metrics/classification.py:756: DeprecationWarning:\n",
      "\n",
      "The default `weighted` averaging is deprecated, and from version 0.18, use of precision, recall or F-score with multiclass or multilabel data or pos_label=None will result in an exception. Please set an explicit value for `average`, one of (None, 'micro', 'macro', 'weighted', 'samples'). In cross validation use, for instance, scoring=\"f1_weighted\" instead of scoring=\"f1\".\n",
      "\n",
      "/usr/local/lib/python2.7/site-packages/sklearn/metrics/classification.py:1304: DeprecationWarning:\n",
      "\n",
      "The default `weighted` averaging is deprecated, and from version 0.18, use of precision, recall or F-score with multiclass or multilabel data or pos_label=None will result in an exception. Please set an explicit value for `average`, one of (None, 'micro', 'macro', 'weighted', 'samples'). In cross validation use, for instance, scoring=\"f1_weighted\" instead of scoring=\"f1\".\n",
      "\n"
     ]
    },
    {
     "name": "stdout",
     "output_type": "stream",
     "text": [
      "\n",
      "737"
     ]
    },
    {
     "name": "stderr",
     "output_type": "stream",
     "text": [
      "/usr/local/lib/python2.7/site-packages/sklearn/metrics/classification.py:1203: DeprecationWarning:\n",
      "\n",
      "The default `weighted` averaging is deprecated, and from version 0.18, use of precision, recall or F-score with multiclass or multilabel data or pos_label=None will result in an exception. Please set an explicit value for `average`, one of (None, 'micro', 'macro', 'weighted', 'samples'). In cross validation use, for instance, scoring=\"f1_weighted\" instead of scoring=\"f1\".\n",
      "\n",
      "/usr/local/lib/python2.7/site-packages/sklearn/metrics/classification.py:756: DeprecationWarning:\n",
      "\n",
      "The default `weighted` averaging is deprecated, and from version 0.18, use of precision, recall or F-score with multiclass or multilabel data or pos_label=None will result in an exception. Please set an explicit value for `average`, one of (None, 'micro', 'macro', 'weighted', 'samples'). In cross validation use, for instance, scoring=\"f1_weighted\" instead of scoring=\"f1\".\n",
      "\n",
      "/usr/local/lib/python2.7/site-packages/sklearn/metrics/classification.py:1304: DeprecationWarning:\n",
      "\n",
      "The default `weighted` averaging is deprecated, and from version 0.18, use of precision, recall or F-score with multiclass or multilabel data or pos_label=None will result in an exception. Please set an explicit value for `average`, one of (None, 'micro', 'macro', 'weighted', 'samples'). In cross validation use, for instance, scoring=\"f1_weighted\" instead of scoring=\"f1\".\n",
      "\n"
     ]
    },
    {
     "name": "stdout",
     "output_type": "stream",
     "text": [
      "\n",
      "737"
     ]
    },
    {
     "name": "stderr",
     "output_type": "stream",
     "text": [
      "/usr/local/lib/python2.7/site-packages/sklearn/metrics/classification.py:1203: DeprecationWarning:\n",
      "\n",
      "The default `weighted` averaging is deprecated, and from version 0.18, use of precision, recall or F-score with multiclass or multilabel data or pos_label=None will result in an exception. Please set an explicit value for `average`, one of (None, 'micro', 'macro', 'weighted', 'samples'). In cross validation use, for instance, scoring=\"f1_weighted\" instead of scoring=\"f1\".\n",
      "\n",
      "/usr/local/lib/python2.7/site-packages/sklearn/metrics/classification.py:756: DeprecationWarning:\n",
      "\n",
      "The default `weighted` averaging is deprecated, and from version 0.18, use of precision, recall or F-score with multiclass or multilabel data or pos_label=None will result in an exception. Please set an explicit value for `average`, one of (None, 'micro', 'macro', 'weighted', 'samples'). In cross validation use, for instance, scoring=\"f1_weighted\" instead of scoring=\"f1\".\n",
      "\n",
      "/usr/local/lib/python2.7/site-packages/sklearn/metrics/classification.py:1304: DeprecationWarning:\n",
      "\n",
      "The default `weighted` averaging is deprecated, and from version 0.18, use of precision, recall or F-score with multiclass or multilabel data or pos_label=None will result in an exception. Please set an explicit value for `average`, one of (None, 'micro', 'macro', 'weighted', 'samples'). In cross validation use, for instance, scoring=\"f1_weighted\" instead of scoring=\"f1\".\n",
      "\n"
     ]
    },
    {
     "name": "stdout",
     "output_type": "stream",
     "text": [
      "\n",
      "740"
     ]
    },
    {
     "name": "stderr",
     "output_type": "stream",
     "text": [
      "/usr/local/lib/python2.7/site-packages/sklearn/metrics/classification.py:1203: DeprecationWarning:\n",
      "\n",
      "The default `weighted` averaging is deprecated, and from version 0.18, use of precision, recall or F-score with multiclass or multilabel data or pos_label=None will result in an exception. Please set an explicit value for `average`, one of (None, 'micro', 'macro', 'weighted', 'samples'). In cross validation use, for instance, scoring=\"f1_weighted\" instead of scoring=\"f1\".\n",
      "\n",
      "/usr/local/lib/python2.7/site-packages/sklearn/metrics/classification.py:756: DeprecationWarning:\n",
      "\n",
      "The default `weighted` averaging is deprecated, and from version 0.18, use of precision, recall or F-score with multiclass or multilabel data or pos_label=None will result in an exception. Please set an explicit value for `average`, one of (None, 'micro', 'macro', 'weighted', 'samples'). In cross validation use, for instance, scoring=\"f1_weighted\" instead of scoring=\"f1\".\n",
      "\n",
      "/usr/local/lib/python2.7/site-packages/sklearn/metrics/classification.py:1304: DeprecationWarning:\n",
      "\n",
      "The default `weighted` averaging is deprecated, and from version 0.18, use of precision, recall or F-score with multiclass or multilabel data or pos_label=None will result in an exception. Please set an explicit value for `average`, one of (None, 'micro', 'macro', 'weighted', 'samples'). In cross validation use, for instance, scoring=\"f1_weighted\" instead of scoring=\"f1\".\n",
      "\n"
     ]
    },
    {
     "name": "stdout",
     "output_type": "stream",
     "text": [
      "\n",
      "739"
     ]
    },
    {
     "name": "stderr",
     "output_type": "stream",
     "text": [
      "/usr/local/lib/python2.7/site-packages/sklearn/metrics/classification.py:1203: DeprecationWarning:\n",
      "\n",
      "The default `weighted` averaging is deprecated, and from version 0.18, use of precision, recall or F-score with multiclass or multilabel data or pos_label=None will result in an exception. Please set an explicit value for `average`, one of (None, 'micro', 'macro', 'weighted', 'samples'). In cross validation use, for instance, scoring=\"f1_weighted\" instead of scoring=\"f1\".\n",
      "\n",
      "/usr/local/lib/python2.7/site-packages/sklearn/metrics/classification.py:756: DeprecationWarning:\n",
      "\n",
      "The default `weighted` averaging is deprecated, and from version 0.18, use of precision, recall or F-score with multiclass or multilabel data or pos_label=None will result in an exception. Please set an explicit value for `average`, one of (None, 'micro', 'macro', 'weighted', 'samples'). In cross validation use, for instance, scoring=\"f1_weighted\" instead of scoring=\"f1\".\n",
      "\n",
      "/usr/local/lib/python2.7/site-packages/sklearn/metrics/classification.py:1304: DeprecationWarning:\n",
      "\n",
      "The default `weighted` averaging is deprecated, and from version 0.18, use of precision, recall or F-score with multiclass or multilabel data or pos_label=None will result in an exception. Please set an explicit value for `average`, one of (None, 'micro', 'macro', 'weighted', 'samples'). In cross validation use, for instance, scoring=\"f1_weighted\" instead of scoring=\"f1\".\n",
      "\n"
     ]
    },
    {
     "name": "stdout",
     "output_type": "stream",
     "text": [
      "\n",
      "739"
     ]
    },
    {
     "name": "stderr",
     "output_type": "stream",
     "text": [
      "/usr/local/lib/python2.7/site-packages/sklearn/metrics/classification.py:1203: DeprecationWarning:\n",
      "\n",
      "The default `weighted` averaging is deprecated, and from version 0.18, use of precision, recall or F-score with multiclass or multilabel data or pos_label=None will result in an exception. Please set an explicit value for `average`, one of (None, 'micro', 'macro', 'weighted', 'samples'). In cross validation use, for instance, scoring=\"f1_weighted\" instead of scoring=\"f1\".\n",
      "\n",
      "/usr/local/lib/python2.7/site-packages/sklearn/metrics/classification.py:756: DeprecationWarning:\n",
      "\n",
      "The default `weighted` averaging is deprecated, and from version 0.18, use of precision, recall or F-score with multiclass or multilabel data or pos_label=None will result in an exception. Please set an explicit value for `average`, one of (None, 'micro', 'macro', 'weighted', 'samples'). In cross validation use, for instance, scoring=\"f1_weighted\" instead of scoring=\"f1\".\n",
      "\n",
      "/usr/local/lib/python2.7/site-packages/sklearn/metrics/classification.py:1304: DeprecationWarning:\n",
      "\n",
      "The default `weighted` averaging is deprecated, and from version 0.18, use of precision, recall or F-score with multiclass or multilabel data or pos_label=None will result in an exception. Please set an explicit value for `average`, one of (None, 'micro', 'macro', 'weighted', 'samples'). In cross validation use, for instance, scoring=\"f1_weighted\" instead of scoring=\"f1\".\n",
      "\n"
     ]
    },
    {
     "name": "stdout",
     "output_type": "stream",
     "text": [
      "\n",
      "739"
     ]
    },
    {
     "name": "stderr",
     "output_type": "stream",
     "text": [
      "/usr/local/lib/python2.7/site-packages/sklearn/metrics/classification.py:1203: DeprecationWarning:\n",
      "\n",
      "The default `weighted` averaging is deprecated, and from version 0.18, use of precision, recall or F-score with multiclass or multilabel data or pos_label=None will result in an exception. Please set an explicit value for `average`, one of (None, 'micro', 'macro', 'weighted', 'samples'). In cross validation use, for instance, scoring=\"f1_weighted\" instead of scoring=\"f1\".\n",
      "\n",
      "/usr/local/lib/python2.7/site-packages/sklearn/metrics/classification.py:756: DeprecationWarning:\n",
      "\n",
      "The default `weighted` averaging is deprecated, and from version 0.18, use of precision, recall or F-score with multiclass or multilabel data or pos_label=None will result in an exception. Please set an explicit value for `average`, one of (None, 'micro', 'macro', 'weighted', 'samples'). In cross validation use, for instance, scoring=\"f1_weighted\" instead of scoring=\"f1\".\n",
      "\n",
      "/usr/local/lib/python2.7/site-packages/sklearn/metrics/classification.py:1304: DeprecationWarning:\n",
      "\n",
      "The default `weighted` averaging is deprecated, and from version 0.18, use of precision, recall or F-score with multiclass or multilabel data or pos_label=None will result in an exception. Please set an explicit value for `average`, one of (None, 'micro', 'macro', 'weighted', 'samples'). In cross validation use, for instance, scoring=\"f1_weighted\" instead of scoring=\"f1\".\n",
      "\n"
     ]
    },
    {
     "name": "stdout",
     "output_type": "stream",
     "text": [
      "\n",
      "738"
     ]
    },
    {
     "name": "stderr",
     "output_type": "stream",
     "text": [
      "/usr/local/lib/python2.7/site-packages/sklearn/metrics/classification.py:1203: DeprecationWarning:\n",
      "\n",
      "The default `weighted` averaging is deprecated, and from version 0.18, use of precision, recall or F-score with multiclass or multilabel data or pos_label=None will result in an exception. Please set an explicit value for `average`, one of (None, 'micro', 'macro', 'weighted', 'samples'). In cross validation use, for instance, scoring=\"f1_weighted\" instead of scoring=\"f1\".\n",
      "\n",
      "/usr/local/lib/python2.7/site-packages/sklearn/metrics/classification.py:756: DeprecationWarning:\n",
      "\n",
      "The default `weighted` averaging is deprecated, and from version 0.18, use of precision, recall or F-score with multiclass or multilabel data or pos_label=None will result in an exception. Please set an explicit value for `average`, one of (None, 'micro', 'macro', 'weighted', 'samples'). In cross validation use, for instance, scoring=\"f1_weighted\" instead of scoring=\"f1\".\n",
      "\n",
      "/usr/local/lib/python2.7/site-packages/sklearn/metrics/classification.py:1304: DeprecationWarning:\n",
      "\n",
      "The default `weighted` averaging is deprecated, and from version 0.18, use of precision, recall or F-score with multiclass or multilabel data or pos_label=None will result in an exception. Please set an explicit value for `average`, one of (None, 'micro', 'macro', 'weighted', 'samples'). In cross validation use, for instance, scoring=\"f1_weighted\" instead of scoring=\"f1\".\n",
      "\n"
     ]
    },
    {
     "name": "stdout",
     "output_type": "stream",
     "text": [
      "\n",
      "738"
     ]
    },
    {
     "name": "stderr",
     "output_type": "stream",
     "text": [
      "/usr/local/lib/python2.7/site-packages/sklearn/metrics/classification.py:1203: DeprecationWarning:\n",
      "\n",
      "The default `weighted` averaging is deprecated, and from version 0.18, use of precision, recall or F-score with multiclass or multilabel data or pos_label=None will result in an exception. Please set an explicit value for `average`, one of (None, 'micro', 'macro', 'weighted', 'samples'). In cross validation use, for instance, scoring=\"f1_weighted\" instead of scoring=\"f1\".\n",
      "\n",
      "/usr/local/lib/python2.7/site-packages/sklearn/metrics/classification.py:756: DeprecationWarning:\n",
      "\n",
      "The default `weighted` averaging is deprecated, and from version 0.18, use of precision, recall or F-score with multiclass or multilabel data or pos_label=None will result in an exception. Please set an explicit value for `average`, one of (None, 'micro', 'macro', 'weighted', 'samples'). In cross validation use, for instance, scoring=\"f1_weighted\" instead of scoring=\"f1\".\n",
      "\n",
      "/usr/local/lib/python2.7/site-packages/sklearn/metrics/classification.py:1304: DeprecationWarning:\n",
      "\n",
      "The default `weighted` averaging is deprecated, and from version 0.18, use of precision, recall or F-score with multiclass or multilabel data or pos_label=None will result in an exception. Please set an explicit value for `average`, one of (None, 'micro', 'macro', 'weighted', 'samples'). In cross validation use, for instance, scoring=\"f1_weighted\" instead of scoring=\"f1\".\n",
      "\n"
     ]
    },
    {
     "name": "stdout",
     "output_type": "stream",
     "text": [
      "\n",
      "737"
     ]
    },
    {
     "name": "stderr",
     "output_type": "stream",
     "text": [
      "/usr/local/lib/python2.7/site-packages/sklearn/metrics/classification.py:1203: DeprecationWarning:\n",
      "\n",
      "The default `weighted` averaging is deprecated, and from version 0.18, use of precision, recall or F-score with multiclass or multilabel data or pos_label=None will result in an exception. Please set an explicit value for `average`, one of (None, 'micro', 'macro', 'weighted', 'samples'). In cross validation use, for instance, scoring=\"f1_weighted\" instead of scoring=\"f1\".\n",
      "\n",
      "/usr/local/lib/python2.7/site-packages/sklearn/metrics/classification.py:756: DeprecationWarning:\n",
      "\n",
      "The default `weighted` averaging is deprecated, and from version 0.18, use of precision, recall or F-score with multiclass or multilabel data or pos_label=None will result in an exception. Please set an explicit value for `average`, one of (None, 'micro', 'macro', 'weighted', 'samples'). In cross validation use, for instance, scoring=\"f1_weighted\" instead of scoring=\"f1\".\n",
      "\n",
      "/usr/local/lib/python2.7/site-packages/sklearn/metrics/classification.py:1304: DeprecationWarning:\n",
      "\n",
      "The default `weighted` averaging is deprecated, and from version 0.18, use of precision, recall or F-score with multiclass or multilabel data or pos_label=None will result in an exception. Please set an explicit value for `average`, one of (None, 'micro', 'macro', 'weighted', 'samples'). In cross validation use, for instance, scoring=\"f1_weighted\" instead of scoring=\"f1\".\n",
      "\n"
     ]
    },
    {
     "name": "stdout",
     "output_type": "stream",
     "text": [
      "\n",
      "737"
     ]
    },
    {
     "name": "stderr",
     "output_type": "stream",
     "text": [
      "/usr/local/lib/python2.7/site-packages/sklearn/metrics/classification.py:1203: DeprecationWarning:\n",
      "\n",
      "The default `weighted` averaging is deprecated, and from version 0.18, use of precision, recall or F-score with multiclass or multilabel data or pos_label=None will result in an exception. Please set an explicit value for `average`, one of (None, 'micro', 'macro', 'weighted', 'samples'). In cross validation use, for instance, scoring=\"f1_weighted\" instead of scoring=\"f1\".\n",
      "\n",
      "/usr/local/lib/python2.7/site-packages/sklearn/metrics/classification.py:756: DeprecationWarning:\n",
      "\n",
      "The default `weighted` averaging is deprecated, and from version 0.18, use of precision, recall or F-score with multiclass or multilabel data or pos_label=None will result in an exception. Please set an explicit value for `average`, one of (None, 'micro', 'macro', 'weighted', 'samples'). In cross validation use, for instance, scoring=\"f1_weighted\" instead of scoring=\"f1\".\n",
      "\n",
      "/usr/local/lib/python2.7/site-packages/sklearn/metrics/classification.py:1304: DeprecationWarning:\n",
      "\n",
      "The default `weighted` averaging is deprecated, and from version 0.18, use of precision, recall or F-score with multiclass or multilabel data or pos_label=None will result in an exception. Please set an explicit value for `average`, one of (None, 'micro', 'macro', 'weighted', 'samples'). In cross validation use, for instance, scoring=\"f1_weighted\" instead of scoring=\"f1\".\n",
      "\n"
     ]
    },
    {
     "name": "stdout",
     "output_type": "stream",
     "text": [
      "\n",
      "737"
     ]
    },
    {
     "name": "stderr",
     "output_type": "stream",
     "text": [
      "/usr/local/lib/python2.7/site-packages/sklearn/metrics/classification.py:1203: DeprecationWarning:\n",
      "\n",
      "The default `weighted` averaging is deprecated, and from version 0.18, use of precision, recall or F-score with multiclass or multilabel data or pos_label=None will result in an exception. Please set an explicit value for `average`, one of (None, 'micro', 'macro', 'weighted', 'samples'). In cross validation use, for instance, scoring=\"f1_weighted\" instead of scoring=\"f1\".\n",
      "\n",
      "/usr/local/lib/python2.7/site-packages/sklearn/metrics/classification.py:756: DeprecationWarning:\n",
      "\n",
      "The default `weighted` averaging is deprecated, and from version 0.18, use of precision, recall or F-score with multiclass or multilabel data or pos_label=None will result in an exception. Please set an explicit value for `average`, one of (None, 'micro', 'macro', 'weighted', 'samples'). In cross validation use, for instance, scoring=\"f1_weighted\" instead of scoring=\"f1\".\n",
      "\n",
      "/usr/local/lib/python2.7/site-packages/sklearn/metrics/classification.py:1304: DeprecationWarning:\n",
      "\n",
      "The default `weighted` averaging is deprecated, and from version 0.18, use of precision, recall or F-score with multiclass or multilabel data or pos_label=None will result in an exception. Please set an explicit value for `average`, one of (None, 'micro', 'macro', 'weighted', 'samples'). In cross validation use, for instance, scoring=\"f1_weighted\" instead of scoring=\"f1\".\n",
      "\n"
     ]
    },
    {
     "name": "stdout",
     "output_type": "stream",
     "text": [
      "\n",
      "737"
     ]
    },
    {
     "name": "stderr",
     "output_type": "stream",
     "text": [
      "/usr/local/lib/python2.7/site-packages/sklearn/metrics/classification.py:1203: DeprecationWarning:\n",
      "\n",
      "The default `weighted` averaging is deprecated, and from version 0.18, use of precision, recall or F-score with multiclass or multilabel data or pos_label=None will result in an exception. Please set an explicit value for `average`, one of (None, 'micro', 'macro', 'weighted', 'samples'). In cross validation use, for instance, scoring=\"f1_weighted\" instead of scoring=\"f1\".\n",
      "\n",
      "/usr/local/lib/python2.7/site-packages/sklearn/metrics/classification.py:756: DeprecationWarning:\n",
      "\n",
      "The default `weighted` averaging is deprecated, and from version 0.18, use of precision, recall or F-score with multiclass or multilabel data or pos_label=None will result in an exception. Please set an explicit value for `average`, one of (None, 'micro', 'macro', 'weighted', 'samples'). In cross validation use, for instance, scoring=\"f1_weighted\" instead of scoring=\"f1\".\n",
      "\n",
      "/usr/local/lib/python2.7/site-packages/sklearn/metrics/classification.py:1304: DeprecationWarning:\n",
      "\n",
      "The default `weighted` averaging is deprecated, and from version 0.18, use of precision, recall or F-score with multiclass or multilabel data or pos_label=None will result in an exception. Please set an explicit value for `average`, one of (None, 'micro', 'macro', 'weighted', 'samples'). In cross validation use, for instance, scoring=\"f1_weighted\" instead of scoring=\"f1\".\n",
      "\n"
     ]
    },
    {
     "name": "stdout",
     "output_type": "stream",
     "text": [
      "\n",
      "740"
     ]
    },
    {
     "name": "stderr",
     "output_type": "stream",
     "text": [
      "/usr/local/lib/python2.7/site-packages/sklearn/metrics/classification.py:1203: DeprecationWarning:\n",
      "\n",
      "The default `weighted` averaging is deprecated, and from version 0.18, use of precision, recall or F-score with multiclass or multilabel data or pos_label=None will result in an exception. Please set an explicit value for `average`, one of (None, 'micro', 'macro', 'weighted', 'samples'). In cross validation use, for instance, scoring=\"f1_weighted\" instead of scoring=\"f1\".\n",
      "\n",
      "/usr/local/lib/python2.7/site-packages/sklearn/metrics/classification.py:756: DeprecationWarning:\n",
      "\n",
      "The default `weighted` averaging is deprecated, and from version 0.18, use of precision, recall or F-score with multiclass or multilabel data or pos_label=None will result in an exception. Please set an explicit value for `average`, one of (None, 'micro', 'macro', 'weighted', 'samples'). In cross validation use, for instance, scoring=\"f1_weighted\" instead of scoring=\"f1\".\n",
      "\n",
      "/usr/local/lib/python2.7/site-packages/sklearn/metrics/classification.py:1304: DeprecationWarning:\n",
      "\n",
      "The default `weighted` averaging is deprecated, and from version 0.18, use of precision, recall or F-score with multiclass or multilabel data or pos_label=None will result in an exception. Please set an explicit value for `average`, one of (None, 'micro', 'macro', 'weighted', 'samples'). In cross validation use, for instance, scoring=\"f1_weighted\" instead of scoring=\"f1\".\n",
      "\n"
     ]
    },
    {
     "name": "stdout",
     "output_type": "stream",
     "text": [
      "\n",
      "739"
     ]
    },
    {
     "name": "stderr",
     "output_type": "stream",
     "text": [
      "/usr/local/lib/python2.7/site-packages/sklearn/metrics/classification.py:1203: DeprecationWarning:\n",
      "\n",
      "The default `weighted` averaging is deprecated, and from version 0.18, use of precision, recall or F-score with multiclass or multilabel data or pos_label=None will result in an exception. Please set an explicit value for `average`, one of (None, 'micro', 'macro', 'weighted', 'samples'). In cross validation use, for instance, scoring=\"f1_weighted\" instead of scoring=\"f1\".\n",
      "\n",
      "/usr/local/lib/python2.7/site-packages/sklearn/metrics/classification.py:756: DeprecationWarning:\n",
      "\n",
      "The default `weighted` averaging is deprecated, and from version 0.18, use of precision, recall or F-score with multiclass or multilabel data or pos_label=None will result in an exception. Please set an explicit value for `average`, one of (None, 'micro', 'macro', 'weighted', 'samples'). In cross validation use, for instance, scoring=\"f1_weighted\" instead of scoring=\"f1\".\n",
      "\n",
      "/usr/local/lib/python2.7/site-packages/sklearn/metrics/classification.py:1304: DeprecationWarning:\n",
      "\n",
      "The default `weighted` averaging is deprecated, and from version 0.18, use of precision, recall or F-score with multiclass or multilabel data or pos_label=None will result in an exception. Please set an explicit value for `average`, one of (None, 'micro', 'macro', 'weighted', 'samples'). In cross validation use, for instance, scoring=\"f1_weighted\" instead of scoring=\"f1\".\n",
      "\n"
     ]
    },
    {
     "name": "stdout",
     "output_type": "stream",
     "text": [
      "\n",
      "739"
     ]
    },
    {
     "name": "stderr",
     "output_type": "stream",
     "text": [
      "/usr/local/lib/python2.7/site-packages/sklearn/metrics/classification.py:1203: DeprecationWarning:\n",
      "\n",
      "The default `weighted` averaging is deprecated, and from version 0.18, use of precision, recall or F-score with multiclass or multilabel data or pos_label=None will result in an exception. Please set an explicit value for `average`, one of (None, 'micro', 'macro', 'weighted', 'samples'). In cross validation use, for instance, scoring=\"f1_weighted\" instead of scoring=\"f1\".\n",
      "\n",
      "/usr/local/lib/python2.7/site-packages/sklearn/metrics/classification.py:756: DeprecationWarning:\n",
      "\n",
      "The default `weighted` averaging is deprecated, and from version 0.18, use of precision, recall or F-score with multiclass or multilabel data or pos_label=None will result in an exception. Please set an explicit value for `average`, one of (None, 'micro', 'macro', 'weighted', 'samples'). In cross validation use, for instance, scoring=\"f1_weighted\" instead of scoring=\"f1\".\n",
      "\n",
      "/usr/local/lib/python2.7/site-packages/sklearn/metrics/classification.py:1304: DeprecationWarning:\n",
      "\n",
      "The default `weighted` averaging is deprecated, and from version 0.18, use of precision, recall or F-score with multiclass or multilabel data or pos_label=None will result in an exception. Please set an explicit value for `average`, one of (None, 'micro', 'macro', 'weighted', 'samples'). In cross validation use, for instance, scoring=\"f1_weighted\" instead of scoring=\"f1\".\n",
      "\n"
     ]
    },
    {
     "name": "stdout",
     "output_type": "stream",
     "text": [
      "\n",
      "739"
     ]
    },
    {
     "name": "stderr",
     "output_type": "stream",
     "text": [
      "/usr/local/lib/python2.7/site-packages/sklearn/metrics/classification.py:1203: DeprecationWarning:\n",
      "\n",
      "The default `weighted` averaging is deprecated, and from version 0.18, use of precision, recall or F-score with multiclass or multilabel data or pos_label=None will result in an exception. Please set an explicit value for `average`, one of (None, 'micro', 'macro', 'weighted', 'samples'). In cross validation use, for instance, scoring=\"f1_weighted\" instead of scoring=\"f1\".\n",
      "\n",
      "/usr/local/lib/python2.7/site-packages/sklearn/metrics/classification.py:756: DeprecationWarning:\n",
      "\n",
      "The default `weighted` averaging is deprecated, and from version 0.18, use of precision, recall or F-score with multiclass or multilabel data or pos_label=None will result in an exception. Please set an explicit value for `average`, one of (None, 'micro', 'macro', 'weighted', 'samples'). In cross validation use, for instance, scoring=\"f1_weighted\" instead of scoring=\"f1\".\n",
      "\n",
      "/usr/local/lib/python2.7/site-packages/sklearn/metrics/classification.py:1304: DeprecationWarning:\n",
      "\n",
      "The default `weighted` averaging is deprecated, and from version 0.18, use of precision, recall or F-score with multiclass or multilabel data or pos_label=None will result in an exception. Please set an explicit value for `average`, one of (None, 'micro', 'macro', 'weighted', 'samples'). In cross validation use, for instance, scoring=\"f1_weighted\" instead of scoring=\"f1\".\n",
      "\n"
     ]
    },
    {
     "name": "stdout",
     "output_type": "stream",
     "text": [
      "\n",
      "738"
     ]
    },
    {
     "name": "stderr",
     "output_type": "stream",
     "text": [
      "/usr/local/lib/python2.7/site-packages/sklearn/metrics/classification.py:1203: DeprecationWarning:\n",
      "\n",
      "The default `weighted` averaging is deprecated, and from version 0.18, use of precision, recall or F-score with multiclass or multilabel data or pos_label=None will result in an exception. Please set an explicit value for `average`, one of (None, 'micro', 'macro', 'weighted', 'samples'). In cross validation use, for instance, scoring=\"f1_weighted\" instead of scoring=\"f1\".\n",
      "\n",
      "/usr/local/lib/python2.7/site-packages/sklearn/metrics/classification.py:756: DeprecationWarning:\n",
      "\n",
      "The default `weighted` averaging is deprecated, and from version 0.18, use of precision, recall or F-score with multiclass or multilabel data or pos_label=None will result in an exception. Please set an explicit value for `average`, one of (None, 'micro', 'macro', 'weighted', 'samples'). In cross validation use, for instance, scoring=\"f1_weighted\" instead of scoring=\"f1\".\n",
      "\n",
      "/usr/local/lib/python2.7/site-packages/sklearn/metrics/classification.py:1304: DeprecationWarning:\n",
      "\n",
      "The default `weighted` averaging is deprecated, and from version 0.18, use of precision, recall or F-score with multiclass or multilabel data or pos_label=None will result in an exception. Please set an explicit value for `average`, one of (None, 'micro', 'macro', 'weighted', 'samples'). In cross validation use, for instance, scoring=\"f1_weighted\" instead of scoring=\"f1\".\n",
      "\n"
     ]
    },
    {
     "name": "stdout",
     "output_type": "stream",
     "text": [
      "\n",
      "738"
     ]
    },
    {
     "name": "stderr",
     "output_type": "stream",
     "text": [
      "/usr/local/lib/python2.7/site-packages/sklearn/metrics/classification.py:1203: DeprecationWarning:\n",
      "\n",
      "The default `weighted` averaging is deprecated, and from version 0.18, use of precision, recall or F-score with multiclass or multilabel data or pos_label=None will result in an exception. Please set an explicit value for `average`, one of (None, 'micro', 'macro', 'weighted', 'samples'). In cross validation use, for instance, scoring=\"f1_weighted\" instead of scoring=\"f1\".\n",
      "\n",
      "/usr/local/lib/python2.7/site-packages/sklearn/metrics/classification.py:756: DeprecationWarning:\n",
      "\n",
      "The default `weighted` averaging is deprecated, and from version 0.18, use of precision, recall or F-score with multiclass or multilabel data or pos_label=None will result in an exception. Please set an explicit value for `average`, one of (None, 'micro', 'macro', 'weighted', 'samples'). In cross validation use, for instance, scoring=\"f1_weighted\" instead of scoring=\"f1\".\n",
      "\n",
      "/usr/local/lib/python2.7/site-packages/sklearn/metrics/classification.py:1304: DeprecationWarning:\n",
      "\n",
      "The default `weighted` averaging is deprecated, and from version 0.18, use of precision, recall or F-score with multiclass or multilabel data or pos_label=None will result in an exception. Please set an explicit value for `average`, one of (None, 'micro', 'macro', 'weighted', 'samples'). In cross validation use, for instance, scoring=\"f1_weighted\" instead of scoring=\"f1\".\n",
      "\n"
     ]
    },
    {
     "name": "stdout",
     "output_type": "stream",
     "text": [
      "\n",
      "737"
     ]
    },
    {
     "name": "stderr",
     "output_type": "stream",
     "text": [
      "/usr/local/lib/python2.7/site-packages/sklearn/metrics/classification.py:1203: DeprecationWarning:\n",
      "\n",
      "The default `weighted` averaging is deprecated, and from version 0.18, use of precision, recall or F-score with multiclass or multilabel data or pos_label=None will result in an exception. Please set an explicit value for `average`, one of (None, 'micro', 'macro', 'weighted', 'samples'). In cross validation use, for instance, scoring=\"f1_weighted\" instead of scoring=\"f1\".\n",
      "\n",
      "/usr/local/lib/python2.7/site-packages/sklearn/metrics/classification.py:756: DeprecationWarning:\n",
      "\n",
      "The default `weighted` averaging is deprecated, and from version 0.18, use of precision, recall or F-score with multiclass or multilabel data or pos_label=None will result in an exception. Please set an explicit value for `average`, one of (None, 'micro', 'macro', 'weighted', 'samples'). In cross validation use, for instance, scoring=\"f1_weighted\" instead of scoring=\"f1\".\n",
      "\n",
      "/usr/local/lib/python2.7/site-packages/sklearn/metrics/classification.py:1304: DeprecationWarning:\n",
      "\n",
      "The default `weighted` averaging is deprecated, and from version 0.18, use of precision, recall or F-score with multiclass or multilabel data or pos_label=None will result in an exception. Please set an explicit value for `average`, one of (None, 'micro', 'macro', 'weighted', 'samples'). In cross validation use, for instance, scoring=\"f1_weighted\" instead of scoring=\"f1\".\n",
      "\n"
     ]
    },
    {
     "name": "stdout",
     "output_type": "stream",
     "text": [
      "\n",
      "737"
     ]
    },
    {
     "name": "stderr",
     "output_type": "stream",
     "text": [
      "/usr/local/lib/python2.7/site-packages/sklearn/metrics/classification.py:1203: DeprecationWarning:\n",
      "\n",
      "The default `weighted` averaging is deprecated, and from version 0.18, use of precision, recall or F-score with multiclass or multilabel data or pos_label=None will result in an exception. Please set an explicit value for `average`, one of (None, 'micro', 'macro', 'weighted', 'samples'). In cross validation use, for instance, scoring=\"f1_weighted\" instead of scoring=\"f1\".\n",
      "\n",
      "/usr/local/lib/python2.7/site-packages/sklearn/metrics/classification.py:756: DeprecationWarning:\n",
      "\n",
      "The default `weighted` averaging is deprecated, and from version 0.18, use of precision, recall or F-score with multiclass or multilabel data or pos_label=None will result in an exception. Please set an explicit value for `average`, one of (None, 'micro', 'macro', 'weighted', 'samples'). In cross validation use, for instance, scoring=\"f1_weighted\" instead of scoring=\"f1\".\n",
      "\n",
      "/usr/local/lib/python2.7/site-packages/sklearn/metrics/classification.py:1304: DeprecationWarning:\n",
      "\n",
      "The default `weighted` averaging is deprecated, and from version 0.18, use of precision, recall or F-score with multiclass or multilabel data or pos_label=None will result in an exception. Please set an explicit value for `average`, one of (None, 'micro', 'macro', 'weighted', 'samples'). In cross validation use, for instance, scoring=\"f1_weighted\" instead of scoring=\"f1\".\n",
      "\n"
     ]
    },
    {
     "name": "stdout",
     "output_type": "stream",
     "text": [
      "\n",
      "737"
     ]
    },
    {
     "name": "stderr",
     "output_type": "stream",
     "text": [
      "/usr/local/lib/python2.7/site-packages/sklearn/metrics/classification.py:1203: DeprecationWarning:\n",
      "\n",
      "The default `weighted` averaging is deprecated, and from version 0.18, use of precision, recall or F-score with multiclass or multilabel data or pos_label=None will result in an exception. Please set an explicit value for `average`, one of (None, 'micro', 'macro', 'weighted', 'samples'). In cross validation use, for instance, scoring=\"f1_weighted\" instead of scoring=\"f1\".\n",
      "\n",
      "/usr/local/lib/python2.7/site-packages/sklearn/metrics/classification.py:756: DeprecationWarning:\n",
      "\n",
      "The default `weighted` averaging is deprecated, and from version 0.18, use of precision, recall or F-score with multiclass or multilabel data or pos_label=None will result in an exception. Please set an explicit value for `average`, one of (None, 'micro', 'macro', 'weighted', 'samples'). In cross validation use, for instance, scoring=\"f1_weighted\" instead of scoring=\"f1\".\n",
      "\n",
      "/usr/local/lib/python2.7/site-packages/sklearn/metrics/classification.py:1304: DeprecationWarning:\n",
      "\n",
      "The default `weighted` averaging is deprecated, and from version 0.18, use of precision, recall or F-score with multiclass or multilabel data or pos_label=None will result in an exception. Please set an explicit value for `average`, one of (None, 'micro', 'macro', 'weighted', 'samples'). In cross validation use, for instance, scoring=\"f1_weighted\" instead of scoring=\"f1\".\n",
      "\n"
     ]
    },
    {
     "name": "stdout",
     "output_type": "stream",
     "text": [
      "\n",
      "737"
     ]
    },
    {
     "name": "stderr",
     "output_type": "stream",
     "text": [
      "/usr/local/lib/python2.7/site-packages/sklearn/metrics/classification.py:1203: DeprecationWarning:\n",
      "\n",
      "The default `weighted` averaging is deprecated, and from version 0.18, use of precision, recall or F-score with multiclass or multilabel data or pos_label=None will result in an exception. Please set an explicit value for `average`, one of (None, 'micro', 'macro', 'weighted', 'samples'). In cross validation use, for instance, scoring=\"f1_weighted\" instead of scoring=\"f1\".\n",
      "\n",
      "/usr/local/lib/python2.7/site-packages/sklearn/metrics/classification.py:756: DeprecationWarning:\n",
      "\n",
      "The default `weighted` averaging is deprecated, and from version 0.18, use of precision, recall or F-score with multiclass or multilabel data or pos_label=None will result in an exception. Please set an explicit value for `average`, one of (None, 'micro', 'macro', 'weighted', 'samples'). In cross validation use, for instance, scoring=\"f1_weighted\" instead of scoring=\"f1\".\n",
      "\n",
      "/usr/local/lib/python2.7/site-packages/sklearn/metrics/classification.py:1304: DeprecationWarning:\n",
      "\n",
      "The default `weighted` averaging is deprecated, and from version 0.18, use of precision, recall or F-score with multiclass or multilabel data or pos_label=None will result in an exception. Please set an explicit value for `average`, one of (None, 'micro', 'macro', 'weighted', 'samples'). In cross validation use, for instance, scoring=\"f1_weighted\" instead of scoring=\"f1\".\n",
      "\n"
     ]
    },
    {
     "name": "stdout",
     "output_type": "stream",
     "text": [
      "\n",
      "740"
     ]
    },
    {
     "name": "stderr",
     "output_type": "stream",
     "text": [
      "/usr/local/lib/python2.7/site-packages/sklearn/metrics/classification.py:1203: DeprecationWarning:\n",
      "\n",
      "The default `weighted` averaging is deprecated, and from version 0.18, use of precision, recall or F-score with multiclass or multilabel data or pos_label=None will result in an exception. Please set an explicit value for `average`, one of (None, 'micro', 'macro', 'weighted', 'samples'). In cross validation use, for instance, scoring=\"f1_weighted\" instead of scoring=\"f1\".\n",
      "\n",
      "/usr/local/lib/python2.7/site-packages/sklearn/metrics/classification.py:756: DeprecationWarning:\n",
      "\n",
      "The default `weighted` averaging is deprecated, and from version 0.18, use of precision, recall or F-score with multiclass or multilabel data or pos_label=None will result in an exception. Please set an explicit value for `average`, one of (None, 'micro', 'macro', 'weighted', 'samples'). In cross validation use, for instance, scoring=\"f1_weighted\" instead of scoring=\"f1\".\n",
      "\n",
      "/usr/local/lib/python2.7/site-packages/sklearn/metrics/classification.py:1304: DeprecationWarning:\n",
      "\n",
      "The default `weighted` averaging is deprecated, and from version 0.18, use of precision, recall or F-score with multiclass or multilabel data or pos_label=None will result in an exception. Please set an explicit value for `average`, one of (None, 'micro', 'macro', 'weighted', 'samples'). In cross validation use, for instance, scoring=\"f1_weighted\" instead of scoring=\"f1\".\n",
      "\n"
     ]
    },
    {
     "name": "stdout",
     "output_type": "stream",
     "text": [
      "\n",
      "739"
     ]
    },
    {
     "name": "stderr",
     "output_type": "stream",
     "text": [
      "/usr/local/lib/python2.7/site-packages/sklearn/metrics/classification.py:1203: DeprecationWarning:\n",
      "\n",
      "The default `weighted` averaging is deprecated, and from version 0.18, use of precision, recall or F-score with multiclass or multilabel data or pos_label=None will result in an exception. Please set an explicit value for `average`, one of (None, 'micro', 'macro', 'weighted', 'samples'). In cross validation use, for instance, scoring=\"f1_weighted\" instead of scoring=\"f1\".\n",
      "\n",
      "/usr/local/lib/python2.7/site-packages/sklearn/metrics/classification.py:756: DeprecationWarning:\n",
      "\n",
      "The default `weighted` averaging is deprecated, and from version 0.18, use of precision, recall or F-score with multiclass or multilabel data or pos_label=None will result in an exception. Please set an explicit value for `average`, one of (None, 'micro', 'macro', 'weighted', 'samples'). In cross validation use, for instance, scoring=\"f1_weighted\" instead of scoring=\"f1\".\n",
      "\n",
      "/usr/local/lib/python2.7/site-packages/sklearn/metrics/classification.py:1304: DeprecationWarning:\n",
      "\n",
      "The default `weighted` averaging is deprecated, and from version 0.18, use of precision, recall or F-score with multiclass or multilabel data or pos_label=None will result in an exception. Please set an explicit value for `average`, one of (None, 'micro', 'macro', 'weighted', 'samples'). In cross validation use, for instance, scoring=\"f1_weighted\" instead of scoring=\"f1\".\n",
      "\n"
     ]
    },
    {
     "name": "stdout",
     "output_type": "stream",
     "text": [
      "\n",
      "739"
     ]
    },
    {
     "name": "stderr",
     "output_type": "stream",
     "text": [
      "/usr/local/lib/python2.7/site-packages/sklearn/metrics/classification.py:1203: DeprecationWarning:\n",
      "\n",
      "The default `weighted` averaging is deprecated, and from version 0.18, use of precision, recall or F-score with multiclass or multilabel data or pos_label=None will result in an exception. Please set an explicit value for `average`, one of (None, 'micro', 'macro', 'weighted', 'samples'). In cross validation use, for instance, scoring=\"f1_weighted\" instead of scoring=\"f1\".\n",
      "\n",
      "/usr/local/lib/python2.7/site-packages/sklearn/metrics/classification.py:756: DeprecationWarning:\n",
      "\n",
      "The default `weighted` averaging is deprecated, and from version 0.18, use of precision, recall or F-score with multiclass or multilabel data or pos_label=None will result in an exception. Please set an explicit value for `average`, one of (None, 'micro', 'macro', 'weighted', 'samples'). In cross validation use, for instance, scoring=\"f1_weighted\" instead of scoring=\"f1\".\n",
      "\n",
      "/usr/local/lib/python2.7/site-packages/sklearn/metrics/classification.py:1304: DeprecationWarning:\n",
      "\n",
      "The default `weighted` averaging is deprecated, and from version 0.18, use of precision, recall or F-score with multiclass or multilabel data or pos_label=None will result in an exception. Please set an explicit value for `average`, one of (None, 'micro', 'macro', 'weighted', 'samples'). In cross validation use, for instance, scoring=\"f1_weighted\" instead of scoring=\"f1\".\n",
      "\n"
     ]
    },
    {
     "name": "stdout",
     "output_type": "stream",
     "text": [
      "\n",
      "739"
     ]
    },
    {
     "name": "stderr",
     "output_type": "stream",
     "text": [
      "/usr/local/lib/python2.7/site-packages/sklearn/metrics/classification.py:1203: DeprecationWarning:\n",
      "\n",
      "The default `weighted` averaging is deprecated, and from version 0.18, use of precision, recall or F-score with multiclass or multilabel data or pos_label=None will result in an exception. Please set an explicit value for `average`, one of (None, 'micro', 'macro', 'weighted', 'samples'). In cross validation use, for instance, scoring=\"f1_weighted\" instead of scoring=\"f1\".\n",
      "\n",
      "/usr/local/lib/python2.7/site-packages/sklearn/metrics/classification.py:756: DeprecationWarning:\n",
      "\n",
      "The default `weighted` averaging is deprecated, and from version 0.18, use of precision, recall or F-score with multiclass or multilabel data or pos_label=None will result in an exception. Please set an explicit value for `average`, one of (None, 'micro', 'macro', 'weighted', 'samples'). In cross validation use, for instance, scoring=\"f1_weighted\" instead of scoring=\"f1\".\n",
      "\n",
      "/usr/local/lib/python2.7/site-packages/sklearn/metrics/classification.py:1304: DeprecationWarning:\n",
      "\n",
      "The default `weighted` averaging is deprecated, and from version 0.18, use of precision, recall or F-score with multiclass or multilabel data or pos_label=None will result in an exception. Please set an explicit value for `average`, one of (None, 'micro', 'macro', 'weighted', 'samples'). In cross validation use, for instance, scoring=\"f1_weighted\" instead of scoring=\"f1\".\n",
      "\n"
     ]
    },
    {
     "name": "stdout",
     "output_type": "stream",
     "text": [
      "\n",
      "738"
     ]
    },
    {
     "name": "stderr",
     "output_type": "stream",
     "text": [
      "/usr/local/lib/python2.7/site-packages/sklearn/metrics/classification.py:1203: DeprecationWarning:\n",
      "\n",
      "The default `weighted` averaging is deprecated, and from version 0.18, use of precision, recall or F-score with multiclass or multilabel data or pos_label=None will result in an exception. Please set an explicit value for `average`, one of (None, 'micro', 'macro', 'weighted', 'samples'). In cross validation use, for instance, scoring=\"f1_weighted\" instead of scoring=\"f1\".\n",
      "\n",
      "/usr/local/lib/python2.7/site-packages/sklearn/metrics/classification.py:756: DeprecationWarning:\n",
      "\n",
      "The default `weighted` averaging is deprecated, and from version 0.18, use of precision, recall or F-score with multiclass or multilabel data or pos_label=None will result in an exception. Please set an explicit value for `average`, one of (None, 'micro', 'macro', 'weighted', 'samples'). In cross validation use, for instance, scoring=\"f1_weighted\" instead of scoring=\"f1\".\n",
      "\n",
      "/usr/local/lib/python2.7/site-packages/sklearn/metrics/classification.py:1304: DeprecationWarning:\n",
      "\n",
      "The default `weighted` averaging is deprecated, and from version 0.18, use of precision, recall or F-score with multiclass or multilabel data or pos_label=None will result in an exception. Please set an explicit value for `average`, one of (None, 'micro', 'macro', 'weighted', 'samples'). In cross validation use, for instance, scoring=\"f1_weighted\" instead of scoring=\"f1\".\n",
      "\n"
     ]
    },
    {
     "name": "stdout",
     "output_type": "stream",
     "text": [
      "\n",
      "738"
     ]
    },
    {
     "name": "stderr",
     "output_type": "stream",
     "text": [
      "/usr/local/lib/python2.7/site-packages/sklearn/metrics/classification.py:1203: DeprecationWarning:\n",
      "\n",
      "The default `weighted` averaging is deprecated, and from version 0.18, use of precision, recall or F-score with multiclass or multilabel data or pos_label=None will result in an exception. Please set an explicit value for `average`, one of (None, 'micro', 'macro', 'weighted', 'samples'). In cross validation use, for instance, scoring=\"f1_weighted\" instead of scoring=\"f1\".\n",
      "\n",
      "/usr/local/lib/python2.7/site-packages/sklearn/metrics/classification.py:756: DeprecationWarning:\n",
      "\n",
      "The default `weighted` averaging is deprecated, and from version 0.18, use of precision, recall or F-score with multiclass or multilabel data or pos_label=None will result in an exception. Please set an explicit value for `average`, one of (None, 'micro', 'macro', 'weighted', 'samples'). In cross validation use, for instance, scoring=\"f1_weighted\" instead of scoring=\"f1\".\n",
      "\n",
      "/usr/local/lib/python2.7/site-packages/sklearn/metrics/classification.py:1304: DeprecationWarning:\n",
      "\n",
      "The default `weighted` averaging is deprecated, and from version 0.18, use of precision, recall or F-score with multiclass or multilabel data or pos_label=None will result in an exception. Please set an explicit value for `average`, one of (None, 'micro', 'macro', 'weighted', 'samples'). In cross validation use, for instance, scoring=\"f1_weighted\" instead of scoring=\"f1\".\n",
      "\n"
     ]
    },
    {
     "name": "stdout",
     "output_type": "stream",
     "text": [
      "\n",
      "737"
     ]
    },
    {
     "name": "stderr",
     "output_type": "stream",
     "text": [
      "/usr/local/lib/python2.7/site-packages/sklearn/metrics/classification.py:1203: DeprecationWarning:\n",
      "\n",
      "The default `weighted` averaging is deprecated, and from version 0.18, use of precision, recall or F-score with multiclass or multilabel data or pos_label=None will result in an exception. Please set an explicit value for `average`, one of (None, 'micro', 'macro', 'weighted', 'samples'). In cross validation use, for instance, scoring=\"f1_weighted\" instead of scoring=\"f1\".\n",
      "\n",
      "/usr/local/lib/python2.7/site-packages/sklearn/metrics/classification.py:756: DeprecationWarning:\n",
      "\n",
      "The default `weighted` averaging is deprecated, and from version 0.18, use of precision, recall or F-score with multiclass or multilabel data or pos_label=None will result in an exception. Please set an explicit value for `average`, one of (None, 'micro', 'macro', 'weighted', 'samples'). In cross validation use, for instance, scoring=\"f1_weighted\" instead of scoring=\"f1\".\n",
      "\n",
      "/usr/local/lib/python2.7/site-packages/sklearn/metrics/classification.py:1304: DeprecationWarning:\n",
      "\n",
      "The default `weighted` averaging is deprecated, and from version 0.18, use of precision, recall or F-score with multiclass or multilabel data or pos_label=None will result in an exception. Please set an explicit value for `average`, one of (None, 'micro', 'macro', 'weighted', 'samples'). In cross validation use, for instance, scoring=\"f1_weighted\" instead of scoring=\"f1\".\n",
      "\n"
     ]
    },
    {
     "name": "stdout",
     "output_type": "stream",
     "text": [
      "\n",
      "737"
     ]
    },
    {
     "name": "stderr",
     "output_type": "stream",
     "text": [
      "/usr/local/lib/python2.7/site-packages/sklearn/metrics/classification.py:1203: DeprecationWarning:\n",
      "\n",
      "The default `weighted` averaging is deprecated, and from version 0.18, use of precision, recall or F-score with multiclass or multilabel data or pos_label=None will result in an exception. Please set an explicit value for `average`, one of (None, 'micro', 'macro', 'weighted', 'samples'). In cross validation use, for instance, scoring=\"f1_weighted\" instead of scoring=\"f1\".\n",
      "\n",
      "/usr/local/lib/python2.7/site-packages/sklearn/metrics/classification.py:756: DeprecationWarning:\n",
      "\n",
      "The default `weighted` averaging is deprecated, and from version 0.18, use of precision, recall or F-score with multiclass or multilabel data or pos_label=None will result in an exception. Please set an explicit value for `average`, one of (None, 'micro', 'macro', 'weighted', 'samples'). In cross validation use, for instance, scoring=\"f1_weighted\" instead of scoring=\"f1\".\n",
      "\n",
      "/usr/local/lib/python2.7/site-packages/sklearn/metrics/classification.py:1304: DeprecationWarning:\n",
      "\n",
      "The default `weighted` averaging is deprecated, and from version 0.18, use of precision, recall or F-score with multiclass or multilabel data or pos_label=None will result in an exception. Please set an explicit value for `average`, one of (None, 'micro', 'macro', 'weighted', 'samples'). In cross validation use, for instance, scoring=\"f1_weighted\" instead of scoring=\"f1\".\n",
      "\n"
     ]
    },
    {
     "name": "stdout",
     "output_type": "stream",
     "text": [
      "\n",
      "737"
     ]
    },
    {
     "name": "stderr",
     "output_type": "stream",
     "text": [
      "/usr/local/lib/python2.7/site-packages/sklearn/metrics/classification.py:1203: DeprecationWarning:\n",
      "\n",
      "The default `weighted` averaging is deprecated, and from version 0.18, use of precision, recall or F-score with multiclass or multilabel data or pos_label=None will result in an exception. Please set an explicit value for `average`, one of (None, 'micro', 'macro', 'weighted', 'samples'). In cross validation use, for instance, scoring=\"f1_weighted\" instead of scoring=\"f1\".\n",
      "\n",
      "/usr/local/lib/python2.7/site-packages/sklearn/metrics/classification.py:756: DeprecationWarning:\n",
      "\n",
      "The default `weighted` averaging is deprecated, and from version 0.18, use of precision, recall or F-score with multiclass or multilabel data or pos_label=None will result in an exception. Please set an explicit value for `average`, one of (None, 'micro', 'macro', 'weighted', 'samples'). In cross validation use, for instance, scoring=\"f1_weighted\" instead of scoring=\"f1\".\n",
      "\n",
      "/usr/local/lib/python2.7/site-packages/sklearn/metrics/classification.py:1304: DeprecationWarning:\n",
      "\n",
      "The default `weighted` averaging is deprecated, and from version 0.18, use of precision, recall or F-score with multiclass or multilabel data or pos_label=None will result in an exception. Please set an explicit value for `average`, one of (None, 'micro', 'macro', 'weighted', 'samples'). In cross validation use, for instance, scoring=\"f1_weighted\" instead of scoring=\"f1\".\n",
      "\n"
     ]
    },
    {
     "name": "stdout",
     "output_type": "stream",
     "text": [
      "\n",
      "737"
     ]
    },
    {
     "name": "stderr",
     "output_type": "stream",
     "text": [
      "/usr/local/lib/python2.7/site-packages/sklearn/metrics/classification.py:1203: DeprecationWarning:\n",
      "\n",
      "The default `weighted` averaging is deprecated, and from version 0.18, use of precision, recall or F-score with multiclass or multilabel data or pos_label=None will result in an exception. Please set an explicit value for `average`, one of (None, 'micro', 'macro', 'weighted', 'samples'). In cross validation use, for instance, scoring=\"f1_weighted\" instead of scoring=\"f1\".\n",
      "\n",
      "/usr/local/lib/python2.7/site-packages/sklearn/metrics/classification.py:756: DeprecationWarning:\n",
      "\n",
      "The default `weighted` averaging is deprecated, and from version 0.18, use of precision, recall or F-score with multiclass or multilabel data or pos_label=None will result in an exception. Please set an explicit value for `average`, one of (None, 'micro', 'macro', 'weighted', 'samples'). In cross validation use, for instance, scoring=\"f1_weighted\" instead of scoring=\"f1\".\n",
      "\n",
      "/usr/local/lib/python2.7/site-packages/sklearn/metrics/classification.py:1304: DeprecationWarning:\n",
      "\n",
      "The default `weighted` averaging is deprecated, and from version 0.18, use of precision, recall or F-score with multiclass or multilabel data or pos_label=None will result in an exception. Please set an explicit value for `average`, one of (None, 'micro', 'macro', 'weighted', 'samples'). In cross validation use, for instance, scoring=\"f1_weighted\" instead of scoring=\"f1\".\n",
      "\n"
     ]
    },
    {
     "name": "stdout",
     "output_type": "stream",
     "text": [
      "\n",
      "740"
     ]
    },
    {
     "name": "stderr",
     "output_type": "stream",
     "text": [
      "/usr/local/lib/python2.7/site-packages/sklearn/metrics/classification.py:1203: DeprecationWarning:\n",
      "\n",
      "The default `weighted` averaging is deprecated, and from version 0.18, use of precision, recall or F-score with multiclass or multilabel data or pos_label=None will result in an exception. Please set an explicit value for `average`, one of (None, 'micro', 'macro', 'weighted', 'samples'). In cross validation use, for instance, scoring=\"f1_weighted\" instead of scoring=\"f1\".\n",
      "\n",
      "/usr/local/lib/python2.7/site-packages/sklearn/metrics/classification.py:756: DeprecationWarning:\n",
      "\n",
      "The default `weighted` averaging is deprecated, and from version 0.18, use of precision, recall or F-score with multiclass or multilabel data or pos_label=None will result in an exception. Please set an explicit value for `average`, one of (None, 'micro', 'macro', 'weighted', 'samples'). In cross validation use, for instance, scoring=\"f1_weighted\" instead of scoring=\"f1\".\n",
      "\n",
      "/usr/local/lib/python2.7/site-packages/sklearn/metrics/classification.py:1304: DeprecationWarning:\n",
      "\n",
      "The default `weighted` averaging is deprecated, and from version 0.18, use of precision, recall or F-score with multiclass or multilabel data or pos_label=None will result in an exception. Please set an explicit value for `average`, one of (None, 'micro', 'macro', 'weighted', 'samples'). In cross validation use, for instance, scoring=\"f1_weighted\" instead of scoring=\"f1\".\n",
      "\n"
     ]
    },
    {
     "name": "stdout",
     "output_type": "stream",
     "text": [
      "\n",
      "739"
     ]
    },
    {
     "name": "stderr",
     "output_type": "stream",
     "text": [
      "/usr/local/lib/python2.7/site-packages/sklearn/metrics/classification.py:1203: DeprecationWarning:\n",
      "\n",
      "The default `weighted` averaging is deprecated, and from version 0.18, use of precision, recall or F-score with multiclass or multilabel data or pos_label=None will result in an exception. Please set an explicit value for `average`, one of (None, 'micro', 'macro', 'weighted', 'samples'). In cross validation use, for instance, scoring=\"f1_weighted\" instead of scoring=\"f1\".\n",
      "\n",
      "/usr/local/lib/python2.7/site-packages/sklearn/metrics/classification.py:756: DeprecationWarning:\n",
      "\n",
      "The default `weighted` averaging is deprecated, and from version 0.18, use of precision, recall or F-score with multiclass or multilabel data or pos_label=None will result in an exception. Please set an explicit value for `average`, one of (None, 'micro', 'macro', 'weighted', 'samples'). In cross validation use, for instance, scoring=\"f1_weighted\" instead of scoring=\"f1\".\n",
      "\n",
      "/usr/local/lib/python2.7/site-packages/sklearn/metrics/classification.py:1304: DeprecationWarning:\n",
      "\n",
      "The default `weighted` averaging is deprecated, and from version 0.18, use of precision, recall or F-score with multiclass or multilabel data or pos_label=None will result in an exception. Please set an explicit value for `average`, one of (None, 'micro', 'macro', 'weighted', 'samples'). In cross validation use, for instance, scoring=\"f1_weighted\" instead of scoring=\"f1\".\n",
      "\n"
     ]
    },
    {
     "name": "stdout",
     "output_type": "stream",
     "text": [
      "\n",
      "739"
     ]
    },
    {
     "name": "stderr",
     "output_type": "stream",
     "text": [
      "/usr/local/lib/python2.7/site-packages/sklearn/metrics/classification.py:1203: DeprecationWarning:\n",
      "\n",
      "The default `weighted` averaging is deprecated, and from version 0.18, use of precision, recall or F-score with multiclass or multilabel data or pos_label=None will result in an exception. Please set an explicit value for `average`, one of (None, 'micro', 'macro', 'weighted', 'samples'). In cross validation use, for instance, scoring=\"f1_weighted\" instead of scoring=\"f1\".\n",
      "\n",
      "/usr/local/lib/python2.7/site-packages/sklearn/metrics/classification.py:756: DeprecationWarning:\n",
      "\n",
      "The default `weighted` averaging is deprecated, and from version 0.18, use of precision, recall or F-score with multiclass or multilabel data or pos_label=None will result in an exception. Please set an explicit value for `average`, one of (None, 'micro', 'macro', 'weighted', 'samples'). In cross validation use, for instance, scoring=\"f1_weighted\" instead of scoring=\"f1\".\n",
      "\n",
      "/usr/local/lib/python2.7/site-packages/sklearn/metrics/classification.py:1304: DeprecationWarning:\n",
      "\n",
      "The default `weighted` averaging is deprecated, and from version 0.18, use of precision, recall or F-score with multiclass or multilabel data or pos_label=None will result in an exception. Please set an explicit value for `average`, one of (None, 'micro', 'macro', 'weighted', 'samples'). In cross validation use, for instance, scoring=\"f1_weighted\" instead of scoring=\"f1\".\n",
      "\n"
     ]
    },
    {
     "name": "stdout",
     "output_type": "stream",
     "text": [
      "\n",
      "739"
     ]
    },
    {
     "name": "stderr",
     "output_type": "stream",
     "text": [
      "/usr/local/lib/python2.7/site-packages/sklearn/metrics/classification.py:1203: DeprecationWarning:\n",
      "\n",
      "The default `weighted` averaging is deprecated, and from version 0.18, use of precision, recall or F-score with multiclass or multilabel data or pos_label=None will result in an exception. Please set an explicit value for `average`, one of (None, 'micro', 'macro', 'weighted', 'samples'). In cross validation use, for instance, scoring=\"f1_weighted\" instead of scoring=\"f1\".\n",
      "\n",
      "/usr/local/lib/python2.7/site-packages/sklearn/metrics/classification.py:756: DeprecationWarning:\n",
      "\n",
      "The default `weighted` averaging is deprecated, and from version 0.18, use of precision, recall or F-score with multiclass or multilabel data or pos_label=None will result in an exception. Please set an explicit value for `average`, one of (None, 'micro', 'macro', 'weighted', 'samples'). In cross validation use, for instance, scoring=\"f1_weighted\" instead of scoring=\"f1\".\n",
      "\n",
      "/usr/local/lib/python2.7/site-packages/sklearn/metrics/classification.py:1304: DeprecationWarning:\n",
      "\n",
      "The default `weighted` averaging is deprecated, and from version 0.18, use of precision, recall or F-score with multiclass or multilabel data or pos_label=None will result in an exception. Please set an explicit value for `average`, one of (None, 'micro', 'macro', 'weighted', 'samples'). In cross validation use, for instance, scoring=\"f1_weighted\" instead of scoring=\"f1\".\n",
      "\n"
     ]
    },
    {
     "name": "stdout",
     "output_type": "stream",
     "text": [
      "\n",
      "738"
     ]
    },
    {
     "name": "stderr",
     "output_type": "stream",
     "text": [
      "/usr/local/lib/python2.7/site-packages/sklearn/metrics/classification.py:1203: DeprecationWarning:\n",
      "\n",
      "The default `weighted` averaging is deprecated, and from version 0.18, use of precision, recall or F-score with multiclass or multilabel data or pos_label=None will result in an exception. Please set an explicit value for `average`, one of (None, 'micro', 'macro', 'weighted', 'samples'). In cross validation use, for instance, scoring=\"f1_weighted\" instead of scoring=\"f1\".\n",
      "\n",
      "/usr/local/lib/python2.7/site-packages/sklearn/metrics/classification.py:756: DeprecationWarning:\n",
      "\n",
      "The default `weighted` averaging is deprecated, and from version 0.18, use of precision, recall or F-score with multiclass or multilabel data or pos_label=None will result in an exception. Please set an explicit value for `average`, one of (None, 'micro', 'macro', 'weighted', 'samples'). In cross validation use, for instance, scoring=\"f1_weighted\" instead of scoring=\"f1\".\n",
      "\n",
      "/usr/local/lib/python2.7/site-packages/sklearn/metrics/classification.py:1304: DeprecationWarning:\n",
      "\n",
      "The default `weighted` averaging is deprecated, and from version 0.18, use of precision, recall or F-score with multiclass or multilabel data or pos_label=None will result in an exception. Please set an explicit value for `average`, one of (None, 'micro', 'macro', 'weighted', 'samples'). In cross validation use, for instance, scoring=\"f1_weighted\" instead of scoring=\"f1\".\n",
      "\n"
     ]
    },
    {
     "name": "stdout",
     "output_type": "stream",
     "text": [
      "\n",
      "738"
     ]
    },
    {
     "name": "stderr",
     "output_type": "stream",
     "text": [
      "/usr/local/lib/python2.7/site-packages/sklearn/metrics/classification.py:1203: DeprecationWarning:\n",
      "\n",
      "The default `weighted` averaging is deprecated, and from version 0.18, use of precision, recall or F-score with multiclass or multilabel data or pos_label=None will result in an exception. Please set an explicit value for `average`, one of (None, 'micro', 'macro', 'weighted', 'samples'). In cross validation use, for instance, scoring=\"f1_weighted\" instead of scoring=\"f1\".\n",
      "\n",
      "/usr/local/lib/python2.7/site-packages/sklearn/metrics/classification.py:756: DeprecationWarning:\n",
      "\n",
      "The default `weighted` averaging is deprecated, and from version 0.18, use of precision, recall or F-score with multiclass or multilabel data or pos_label=None will result in an exception. Please set an explicit value for `average`, one of (None, 'micro', 'macro', 'weighted', 'samples'). In cross validation use, for instance, scoring=\"f1_weighted\" instead of scoring=\"f1\".\n",
      "\n",
      "/usr/local/lib/python2.7/site-packages/sklearn/metrics/classification.py:1304: DeprecationWarning:\n",
      "\n",
      "The default `weighted` averaging is deprecated, and from version 0.18, use of precision, recall or F-score with multiclass or multilabel data or pos_label=None will result in an exception. Please set an explicit value for `average`, one of (None, 'micro', 'macro', 'weighted', 'samples'). In cross validation use, for instance, scoring=\"f1_weighted\" instead of scoring=\"f1\".\n",
      "\n"
     ]
    },
    {
     "name": "stdout",
     "output_type": "stream",
     "text": [
      "\n",
      "737"
     ]
    },
    {
     "name": "stderr",
     "output_type": "stream",
     "text": [
      "/usr/local/lib/python2.7/site-packages/sklearn/metrics/classification.py:1203: DeprecationWarning:\n",
      "\n",
      "The default `weighted` averaging is deprecated, and from version 0.18, use of precision, recall or F-score with multiclass or multilabel data or pos_label=None will result in an exception. Please set an explicit value for `average`, one of (None, 'micro', 'macro', 'weighted', 'samples'). In cross validation use, for instance, scoring=\"f1_weighted\" instead of scoring=\"f1\".\n",
      "\n",
      "/usr/local/lib/python2.7/site-packages/sklearn/metrics/classification.py:756: DeprecationWarning:\n",
      "\n",
      "The default `weighted` averaging is deprecated, and from version 0.18, use of precision, recall or F-score with multiclass or multilabel data or pos_label=None will result in an exception. Please set an explicit value for `average`, one of (None, 'micro', 'macro', 'weighted', 'samples'). In cross validation use, for instance, scoring=\"f1_weighted\" instead of scoring=\"f1\".\n",
      "\n",
      "/usr/local/lib/python2.7/site-packages/sklearn/metrics/classification.py:1304: DeprecationWarning:\n",
      "\n",
      "The default `weighted` averaging is deprecated, and from version 0.18, use of precision, recall or F-score with multiclass or multilabel data or pos_label=None will result in an exception. Please set an explicit value for `average`, one of (None, 'micro', 'macro', 'weighted', 'samples'). In cross validation use, for instance, scoring=\"f1_weighted\" instead of scoring=\"f1\".\n",
      "\n"
     ]
    },
    {
     "name": "stdout",
     "output_type": "stream",
     "text": [
      "\n",
      "737"
     ]
    },
    {
     "name": "stderr",
     "output_type": "stream",
     "text": [
      "/usr/local/lib/python2.7/site-packages/sklearn/metrics/classification.py:1203: DeprecationWarning:\n",
      "\n",
      "The default `weighted` averaging is deprecated, and from version 0.18, use of precision, recall or F-score with multiclass or multilabel data or pos_label=None will result in an exception. Please set an explicit value for `average`, one of (None, 'micro', 'macro', 'weighted', 'samples'). In cross validation use, for instance, scoring=\"f1_weighted\" instead of scoring=\"f1\".\n",
      "\n",
      "/usr/local/lib/python2.7/site-packages/sklearn/metrics/classification.py:756: DeprecationWarning:\n",
      "\n",
      "The default `weighted` averaging is deprecated, and from version 0.18, use of precision, recall or F-score with multiclass or multilabel data or pos_label=None will result in an exception. Please set an explicit value for `average`, one of (None, 'micro', 'macro', 'weighted', 'samples'). In cross validation use, for instance, scoring=\"f1_weighted\" instead of scoring=\"f1\".\n",
      "\n",
      "/usr/local/lib/python2.7/site-packages/sklearn/metrics/classification.py:1304: DeprecationWarning:\n",
      "\n",
      "The default `weighted` averaging is deprecated, and from version 0.18, use of precision, recall or F-score with multiclass or multilabel data or pos_label=None will result in an exception. Please set an explicit value for `average`, one of (None, 'micro', 'macro', 'weighted', 'samples'). In cross validation use, for instance, scoring=\"f1_weighted\" instead of scoring=\"f1\".\n",
      "\n"
     ]
    },
    {
     "name": "stdout",
     "output_type": "stream",
     "text": [
      "\n",
      "737"
     ]
    },
    {
     "name": "stderr",
     "output_type": "stream",
     "text": [
      "/usr/local/lib/python2.7/site-packages/sklearn/metrics/classification.py:1203: DeprecationWarning:\n",
      "\n",
      "The default `weighted` averaging is deprecated, and from version 0.18, use of precision, recall or F-score with multiclass or multilabel data or pos_label=None will result in an exception. Please set an explicit value for `average`, one of (None, 'micro', 'macro', 'weighted', 'samples'). In cross validation use, for instance, scoring=\"f1_weighted\" instead of scoring=\"f1\".\n",
      "\n",
      "/usr/local/lib/python2.7/site-packages/sklearn/metrics/classification.py:756: DeprecationWarning:\n",
      "\n",
      "The default `weighted` averaging is deprecated, and from version 0.18, use of precision, recall or F-score with multiclass or multilabel data or pos_label=None will result in an exception. Please set an explicit value for `average`, one of (None, 'micro', 'macro', 'weighted', 'samples'). In cross validation use, for instance, scoring=\"f1_weighted\" instead of scoring=\"f1\".\n",
      "\n",
      "/usr/local/lib/python2.7/site-packages/sklearn/metrics/classification.py:1304: DeprecationWarning:\n",
      "\n",
      "The default `weighted` averaging is deprecated, and from version 0.18, use of precision, recall or F-score with multiclass or multilabel data or pos_label=None will result in an exception. Please set an explicit value for `average`, one of (None, 'micro', 'macro', 'weighted', 'samples'). In cross validation use, for instance, scoring=\"f1_weighted\" instead of scoring=\"f1\".\n",
      "\n"
     ]
    },
    {
     "name": "stdout",
     "output_type": "stream",
     "text": [
      "\n",
      "737"
     ]
    },
    {
     "name": "stderr",
     "output_type": "stream",
     "text": [
      "/usr/local/lib/python2.7/site-packages/sklearn/metrics/classification.py:1203: DeprecationWarning:\n",
      "\n",
      "The default `weighted` averaging is deprecated, and from version 0.18, use of precision, recall or F-score with multiclass or multilabel data or pos_label=None will result in an exception. Please set an explicit value for `average`, one of (None, 'micro', 'macro', 'weighted', 'samples'). In cross validation use, for instance, scoring=\"f1_weighted\" instead of scoring=\"f1\".\n",
      "\n",
      "/usr/local/lib/python2.7/site-packages/sklearn/metrics/classification.py:756: DeprecationWarning:\n",
      "\n",
      "The default `weighted` averaging is deprecated, and from version 0.18, use of precision, recall or F-score with multiclass or multilabel data or pos_label=None will result in an exception. Please set an explicit value for `average`, one of (None, 'micro', 'macro', 'weighted', 'samples'). In cross validation use, for instance, scoring=\"f1_weighted\" instead of scoring=\"f1\".\n",
      "\n",
      "/usr/local/lib/python2.7/site-packages/sklearn/metrics/classification.py:1304: DeprecationWarning:\n",
      "\n",
      "The default `weighted` averaging is deprecated, and from version 0.18, use of precision, recall or F-score with multiclass or multilabel data or pos_label=None will result in an exception. Please set an explicit value for `average`, one of (None, 'micro', 'macro', 'weighted', 'samples'). In cross validation use, for instance, scoring=\"f1_weighted\" instead of scoring=\"f1\".\n",
      "\n"
     ]
    },
    {
     "name": "stdout",
     "output_type": "stream",
     "text": [
      "\n",
      "740"
     ]
    },
    {
     "name": "stderr",
     "output_type": "stream",
     "text": [
      "/usr/local/lib/python2.7/site-packages/sklearn/metrics/classification.py:1203: DeprecationWarning:\n",
      "\n",
      "The default `weighted` averaging is deprecated, and from version 0.18, use of precision, recall or F-score with multiclass or multilabel data or pos_label=None will result in an exception. Please set an explicit value for `average`, one of (None, 'micro', 'macro', 'weighted', 'samples'). In cross validation use, for instance, scoring=\"f1_weighted\" instead of scoring=\"f1\".\n",
      "\n",
      "/usr/local/lib/python2.7/site-packages/sklearn/metrics/classification.py:756: DeprecationWarning:\n",
      "\n",
      "The default `weighted` averaging is deprecated, and from version 0.18, use of precision, recall or F-score with multiclass or multilabel data or pos_label=None will result in an exception. Please set an explicit value for `average`, one of (None, 'micro', 'macro', 'weighted', 'samples'). In cross validation use, for instance, scoring=\"f1_weighted\" instead of scoring=\"f1\".\n",
      "\n",
      "/usr/local/lib/python2.7/site-packages/sklearn/metrics/classification.py:1304: DeprecationWarning:\n",
      "\n",
      "The default `weighted` averaging is deprecated, and from version 0.18, use of precision, recall or F-score with multiclass or multilabel data or pos_label=None will result in an exception. Please set an explicit value for `average`, one of (None, 'micro', 'macro', 'weighted', 'samples'). In cross validation use, for instance, scoring=\"f1_weighted\" instead of scoring=\"f1\".\n",
      "\n"
     ]
    },
    {
     "name": "stdout",
     "output_type": "stream",
     "text": [
      "\n",
      "739"
     ]
    },
    {
     "name": "stderr",
     "output_type": "stream",
     "text": [
      "/usr/local/lib/python2.7/site-packages/sklearn/metrics/classification.py:1203: DeprecationWarning:\n",
      "\n",
      "The default `weighted` averaging is deprecated, and from version 0.18, use of precision, recall or F-score with multiclass or multilabel data or pos_label=None will result in an exception. Please set an explicit value for `average`, one of (None, 'micro', 'macro', 'weighted', 'samples'). In cross validation use, for instance, scoring=\"f1_weighted\" instead of scoring=\"f1\".\n",
      "\n",
      "/usr/local/lib/python2.7/site-packages/sklearn/metrics/classification.py:756: DeprecationWarning:\n",
      "\n",
      "The default `weighted` averaging is deprecated, and from version 0.18, use of precision, recall or F-score with multiclass or multilabel data or pos_label=None will result in an exception. Please set an explicit value for `average`, one of (None, 'micro', 'macro', 'weighted', 'samples'). In cross validation use, for instance, scoring=\"f1_weighted\" instead of scoring=\"f1\".\n",
      "\n",
      "/usr/local/lib/python2.7/site-packages/sklearn/metrics/classification.py:1304: DeprecationWarning:\n",
      "\n",
      "The default `weighted` averaging is deprecated, and from version 0.18, use of precision, recall or F-score with multiclass or multilabel data or pos_label=None will result in an exception. Please set an explicit value for `average`, one of (None, 'micro', 'macro', 'weighted', 'samples'). In cross validation use, for instance, scoring=\"f1_weighted\" instead of scoring=\"f1\".\n",
      "\n"
     ]
    },
    {
     "name": "stdout",
     "output_type": "stream",
     "text": [
      "\n",
      "739"
     ]
    },
    {
     "name": "stderr",
     "output_type": "stream",
     "text": [
      "/usr/local/lib/python2.7/site-packages/sklearn/metrics/classification.py:1203: DeprecationWarning:\n",
      "\n",
      "The default `weighted` averaging is deprecated, and from version 0.18, use of precision, recall or F-score with multiclass or multilabel data or pos_label=None will result in an exception. Please set an explicit value for `average`, one of (None, 'micro', 'macro', 'weighted', 'samples'). In cross validation use, for instance, scoring=\"f1_weighted\" instead of scoring=\"f1\".\n",
      "\n",
      "/usr/local/lib/python2.7/site-packages/sklearn/metrics/classification.py:756: DeprecationWarning:\n",
      "\n",
      "The default `weighted` averaging is deprecated, and from version 0.18, use of precision, recall or F-score with multiclass or multilabel data or pos_label=None will result in an exception. Please set an explicit value for `average`, one of (None, 'micro', 'macro', 'weighted', 'samples'). In cross validation use, for instance, scoring=\"f1_weighted\" instead of scoring=\"f1\".\n",
      "\n",
      "/usr/local/lib/python2.7/site-packages/sklearn/metrics/classification.py:1304: DeprecationWarning:\n",
      "\n",
      "The default `weighted` averaging is deprecated, and from version 0.18, use of precision, recall or F-score with multiclass or multilabel data or pos_label=None will result in an exception. Please set an explicit value for `average`, one of (None, 'micro', 'macro', 'weighted', 'samples'). In cross validation use, for instance, scoring=\"f1_weighted\" instead of scoring=\"f1\".\n",
      "\n"
     ]
    },
    {
     "name": "stdout",
     "output_type": "stream",
     "text": [
      "\n",
      "739"
     ]
    },
    {
     "name": "stderr",
     "output_type": "stream",
     "text": [
      "/usr/local/lib/python2.7/site-packages/sklearn/metrics/classification.py:1203: DeprecationWarning:\n",
      "\n",
      "The default `weighted` averaging is deprecated, and from version 0.18, use of precision, recall or F-score with multiclass or multilabel data or pos_label=None will result in an exception. Please set an explicit value for `average`, one of (None, 'micro', 'macro', 'weighted', 'samples'). In cross validation use, for instance, scoring=\"f1_weighted\" instead of scoring=\"f1\".\n",
      "\n",
      "/usr/local/lib/python2.7/site-packages/sklearn/metrics/classification.py:756: DeprecationWarning:\n",
      "\n",
      "The default `weighted` averaging is deprecated, and from version 0.18, use of precision, recall or F-score with multiclass or multilabel data or pos_label=None will result in an exception. Please set an explicit value for `average`, one of (None, 'micro', 'macro', 'weighted', 'samples'). In cross validation use, for instance, scoring=\"f1_weighted\" instead of scoring=\"f1\".\n",
      "\n",
      "/usr/local/lib/python2.7/site-packages/sklearn/metrics/classification.py:1304: DeprecationWarning:\n",
      "\n",
      "The default `weighted` averaging is deprecated, and from version 0.18, use of precision, recall or F-score with multiclass or multilabel data or pos_label=None will result in an exception. Please set an explicit value for `average`, one of (None, 'micro', 'macro', 'weighted', 'samples'). In cross validation use, for instance, scoring=\"f1_weighted\" instead of scoring=\"f1\".\n",
      "\n"
     ]
    },
    {
     "name": "stdout",
     "output_type": "stream",
     "text": [
      "\n",
      "738"
     ]
    },
    {
     "name": "stderr",
     "output_type": "stream",
     "text": [
      "/usr/local/lib/python2.7/site-packages/sklearn/metrics/classification.py:1203: DeprecationWarning:\n",
      "\n",
      "The default `weighted` averaging is deprecated, and from version 0.18, use of precision, recall or F-score with multiclass or multilabel data or pos_label=None will result in an exception. Please set an explicit value for `average`, one of (None, 'micro', 'macro', 'weighted', 'samples'). In cross validation use, for instance, scoring=\"f1_weighted\" instead of scoring=\"f1\".\n",
      "\n",
      "/usr/local/lib/python2.7/site-packages/sklearn/metrics/classification.py:756: DeprecationWarning:\n",
      "\n",
      "The default `weighted` averaging is deprecated, and from version 0.18, use of precision, recall or F-score with multiclass or multilabel data or pos_label=None will result in an exception. Please set an explicit value for `average`, one of (None, 'micro', 'macro', 'weighted', 'samples'). In cross validation use, for instance, scoring=\"f1_weighted\" instead of scoring=\"f1\".\n",
      "\n",
      "/usr/local/lib/python2.7/site-packages/sklearn/metrics/classification.py:1304: DeprecationWarning:\n",
      "\n",
      "The default `weighted` averaging is deprecated, and from version 0.18, use of precision, recall or F-score with multiclass or multilabel data or pos_label=None will result in an exception. Please set an explicit value for `average`, one of (None, 'micro', 'macro', 'weighted', 'samples'). In cross validation use, for instance, scoring=\"f1_weighted\" instead of scoring=\"f1\".\n",
      "\n"
     ]
    },
    {
     "name": "stdout",
     "output_type": "stream",
     "text": [
      "\n",
      "738"
     ]
    },
    {
     "name": "stderr",
     "output_type": "stream",
     "text": [
      "/usr/local/lib/python2.7/site-packages/sklearn/metrics/classification.py:1203: DeprecationWarning:\n",
      "\n",
      "The default `weighted` averaging is deprecated, and from version 0.18, use of precision, recall or F-score with multiclass or multilabel data or pos_label=None will result in an exception. Please set an explicit value for `average`, one of (None, 'micro', 'macro', 'weighted', 'samples'). In cross validation use, for instance, scoring=\"f1_weighted\" instead of scoring=\"f1\".\n",
      "\n",
      "/usr/local/lib/python2.7/site-packages/sklearn/metrics/classification.py:756: DeprecationWarning:\n",
      "\n",
      "The default `weighted` averaging is deprecated, and from version 0.18, use of precision, recall or F-score with multiclass or multilabel data or pos_label=None will result in an exception. Please set an explicit value for `average`, one of (None, 'micro', 'macro', 'weighted', 'samples'). In cross validation use, for instance, scoring=\"f1_weighted\" instead of scoring=\"f1\".\n",
      "\n",
      "/usr/local/lib/python2.7/site-packages/sklearn/metrics/classification.py:1304: DeprecationWarning:\n",
      "\n",
      "The default `weighted` averaging is deprecated, and from version 0.18, use of precision, recall or F-score with multiclass or multilabel data or pos_label=None will result in an exception. Please set an explicit value for `average`, one of (None, 'micro', 'macro', 'weighted', 'samples'). In cross validation use, for instance, scoring=\"f1_weighted\" instead of scoring=\"f1\".\n",
      "\n"
     ]
    },
    {
     "name": "stdout",
     "output_type": "stream",
     "text": [
      "\n",
      "737"
     ]
    },
    {
     "name": "stderr",
     "output_type": "stream",
     "text": [
      "/usr/local/lib/python2.7/site-packages/sklearn/metrics/classification.py:1203: DeprecationWarning:\n",
      "\n",
      "The default `weighted` averaging is deprecated, and from version 0.18, use of precision, recall or F-score with multiclass or multilabel data or pos_label=None will result in an exception. Please set an explicit value for `average`, one of (None, 'micro', 'macro', 'weighted', 'samples'). In cross validation use, for instance, scoring=\"f1_weighted\" instead of scoring=\"f1\".\n",
      "\n",
      "/usr/local/lib/python2.7/site-packages/sklearn/metrics/classification.py:756: DeprecationWarning:\n",
      "\n",
      "The default `weighted` averaging is deprecated, and from version 0.18, use of precision, recall or F-score with multiclass or multilabel data or pos_label=None will result in an exception. Please set an explicit value for `average`, one of (None, 'micro', 'macro', 'weighted', 'samples'). In cross validation use, for instance, scoring=\"f1_weighted\" instead of scoring=\"f1\".\n",
      "\n",
      "/usr/local/lib/python2.7/site-packages/sklearn/metrics/classification.py:1304: DeprecationWarning:\n",
      "\n",
      "The default `weighted` averaging is deprecated, and from version 0.18, use of precision, recall or F-score with multiclass or multilabel data or pos_label=None will result in an exception. Please set an explicit value for `average`, one of (None, 'micro', 'macro', 'weighted', 'samples'). In cross validation use, for instance, scoring=\"f1_weighted\" instead of scoring=\"f1\".\n",
      "\n"
     ]
    },
    {
     "name": "stdout",
     "output_type": "stream",
     "text": [
      "\n",
      "737"
     ]
    },
    {
     "name": "stderr",
     "output_type": "stream",
     "text": [
      "/usr/local/lib/python2.7/site-packages/sklearn/metrics/classification.py:1203: DeprecationWarning:\n",
      "\n",
      "The default `weighted` averaging is deprecated, and from version 0.18, use of precision, recall or F-score with multiclass or multilabel data or pos_label=None will result in an exception. Please set an explicit value for `average`, one of (None, 'micro', 'macro', 'weighted', 'samples'). In cross validation use, for instance, scoring=\"f1_weighted\" instead of scoring=\"f1\".\n",
      "\n",
      "/usr/local/lib/python2.7/site-packages/sklearn/metrics/classification.py:756: DeprecationWarning:\n",
      "\n",
      "The default `weighted` averaging is deprecated, and from version 0.18, use of precision, recall or F-score with multiclass or multilabel data or pos_label=None will result in an exception. Please set an explicit value for `average`, one of (None, 'micro', 'macro', 'weighted', 'samples'). In cross validation use, for instance, scoring=\"f1_weighted\" instead of scoring=\"f1\".\n",
      "\n",
      "/usr/local/lib/python2.7/site-packages/sklearn/metrics/classification.py:1304: DeprecationWarning:\n",
      "\n",
      "The default `weighted` averaging is deprecated, and from version 0.18, use of precision, recall or F-score with multiclass or multilabel data or pos_label=None will result in an exception. Please set an explicit value for `average`, one of (None, 'micro', 'macro', 'weighted', 'samples'). In cross validation use, for instance, scoring=\"f1_weighted\" instead of scoring=\"f1\".\n",
      "\n"
     ]
    },
    {
     "name": "stdout",
     "output_type": "stream",
     "text": [
      "\n",
      "737"
     ]
    },
    {
     "name": "stderr",
     "output_type": "stream",
     "text": [
      "/usr/local/lib/python2.7/site-packages/sklearn/metrics/classification.py:1203: DeprecationWarning:\n",
      "\n",
      "The default `weighted` averaging is deprecated, and from version 0.18, use of precision, recall or F-score with multiclass or multilabel data or pos_label=None will result in an exception. Please set an explicit value for `average`, one of (None, 'micro', 'macro', 'weighted', 'samples'). In cross validation use, for instance, scoring=\"f1_weighted\" instead of scoring=\"f1\".\n",
      "\n",
      "/usr/local/lib/python2.7/site-packages/sklearn/metrics/classification.py:756: DeprecationWarning:\n",
      "\n",
      "The default `weighted` averaging is deprecated, and from version 0.18, use of precision, recall or F-score with multiclass or multilabel data or pos_label=None will result in an exception. Please set an explicit value for `average`, one of (None, 'micro', 'macro', 'weighted', 'samples'). In cross validation use, for instance, scoring=\"f1_weighted\" instead of scoring=\"f1\".\n",
      "\n",
      "/usr/local/lib/python2.7/site-packages/sklearn/metrics/classification.py:1304: DeprecationWarning:\n",
      "\n",
      "The default `weighted` averaging is deprecated, and from version 0.18, use of precision, recall or F-score with multiclass or multilabel data or pos_label=None will result in an exception. Please set an explicit value for `average`, one of (None, 'micro', 'macro', 'weighted', 'samples'). In cross validation use, for instance, scoring=\"f1_weighted\" instead of scoring=\"f1\".\n",
      "\n"
     ]
    },
    {
     "name": "stdout",
     "output_type": "stream",
     "text": [
      "\n",
      "737\n"
     ]
    },
    {
     "name": "stderr",
     "output_type": "stream",
     "text": [
      "/usr/local/lib/python2.7/site-packages/sklearn/metrics/classification.py:1203: DeprecationWarning:\n",
      "\n",
      "The default `weighted` averaging is deprecated, and from version 0.18, use of precision, recall or F-score with multiclass or multilabel data or pos_label=None will result in an exception. Please set an explicit value for `average`, one of (None, 'micro', 'macro', 'weighted', 'samples'). In cross validation use, for instance, scoring=\"f1_weighted\" instead of scoring=\"f1\".\n",
      "\n",
      "/usr/local/lib/python2.7/site-packages/sklearn/metrics/classification.py:756: DeprecationWarning:\n",
      "\n",
      "The default `weighted` averaging is deprecated, and from version 0.18, use of precision, recall or F-score with multiclass or multilabel data or pos_label=None will result in an exception. Please set an explicit value for `average`, one of (None, 'micro', 'macro', 'weighted', 'samples'). In cross validation use, for instance, scoring=\"f1_weighted\" instead of scoring=\"f1\".\n",
      "\n"
     ]
    }
   ],
=======
    "nclass = 3\n",
    "param = {'booster':'gbtree',\n",
    "         'objective': 'multi:softprob',\n",
    "         'num_class': nclass,\n",
    "         'eval_metric': 'mlogloss',\n",
    "         'max_depth': 0,\n",
    "         'subsample': 0.9,\n",
    "         'colsample_bytree': 0.9,\n",
    "         'eta': 0.0,\n",
    "         'gamma': 0.0,\n",
    "         #'alpha': 0.1,\n",
    "         #'lambda': 0.1,\n",
    "         'silent': True}"
   ]
  },
  {
   "cell_type": "code",
   "execution_count": null,
   "metadata": {
    "collapsed": true
   },
   "outputs": [],
   "source": [
    "clf = MyXGBClassifier(n_rounds=n_rounds,eta=0.2,max_depth=10,subsample=0.9,colsample_bytree=0.9)\n",
    "gridsearch = GridSearchCV(clf, params, scoring=scorer_logloss, n_jobs=10, cv=3, refit=True)\n",
    "gridsearch.fit(X,Y)\n",
    "\n",
    "grid_scores = gridsearch.grid_scores_\n",
    "top_scores = sorted(grid_scores, key=itemgetter(1), reverse=True)[:3]\n",
    "for i, score in enumerate(top_scores):\n",
    "    print(\"Model with rank: {0}\".format(i + 1))\n",
    "    print(\"Mean validation score: {0:.3f} (std: {1:.3f})\".format(\n",
    "            score.mean_validation_score,\n",
    "            np.std(score.cv_validation_scores)))\n",
    "    print(\"Parameters: {0}\".format(score.parameters))"
   ]
  },
  {
   "cell_type": "code",
   "execution_count": null,
   "metadata": {
    "collapsed": false,
    "scrolled": true
   },
   "outputs": [],
   "source": [
    "num_round = 1000\n",
    "best_perr = 1.0\n",
    "for gamma in (0, 0.5, 1):\n",
    "    for depth in range(5, 20, 5):\n",
    "        for eta in np.arange(0.1, 0.22, 0.02):\n",
    "            param['max_depth'] = depth\n",
    "            param['eta'] = eta\n",
    "            param['gamma'] = gamma\n",
    "            bst = xgb.train(param, xg_train, num_round)\n",
    "            yg_prob = bst.predict(xg_test).reshape(yg_test.shape[0], nclass)\n",
    "            yg_label = np.argmax(yg_prob, axis=1)\n",
    "            perr = sum(int(yg_label[i]) != yg_test.values[i] for i in\n",
    "                       range(len(yg_test.values))) / float(len(yg_test.values))\n",
    "            print \"Gamma: %.3f, Depth: %d, Eta: %.3f, Err: %.3f\" % (gamma, depth, eta, perr)\n",
    "            if perr < best_perr:\n",
    "                print '**** NEW BEST *****'\n",
    "                best_perr = perr\n",
    "                best_depth = depth\n",
    "                best_eta = eta\n",
    "                best_gamma = gamma\n",
    "print \"Best Pred. %.3f (Depth %d, Eta %.3f, Gamma %.3f)\" % (best_perr, best_depth, best_eta, best_gamma)\n",
    "param['max_depth'] = best_depth\n",
    "param['eta'] = best_eta\n",
    "param['gamma'] = best_gamma"
   ]
  },
  {
   "cell_type": "code",
   "execution_count": null,
   "metadata": {
    "collapsed": true
   },
   "outputs": [],
   "source": [
    "# retrain best model\n",
    "bst = xgb.train(param, xg_train, num_round)"
   ]
  },
  {
   "cell_type": "code",
   "execution_count": null,
   "metadata": {
    "collapsed": false
   },
   "outputs": [],
   "source": [
    "bst.save_model('0001.model')\n",
    "bst.dump_model('dump.raw.txt')"
   ]
  },
  {
   "cell_type": "code",
   "execution_count": null,
   "metadata": {
    "collapsed": false,
    "scrolled": false
   },
   "outputs": [],
   "source": [
    "# plot feature importance\n",
    "f, ax = plt.subplots(figsize=(8,20))\n",
    "xgb.plot_importance(bst, ax=ax)"
   ]
  },
  {
   "cell_type": "code",
   "execution_count": null,
   "metadata": {
    "collapsed": true
   },
   "outputs": [],
   "source": [
    "# train on full set\n",
    "X_train = xgb.DMatrix(X_train, label=y_train.values)\n",
    "bst = xgb.train(param, X_train, num_round)"
   ]
  },
  {
   "cell_type": "code",
   "execution_count": null,
   "metadata": {
    "collapsed": true,
    "scrolled": true
   },
   "outputs": [],
   "source": [
    "# setup test set\n",
    "X_test = xgb.DMatrix(X_test)\n",
    "y_pred = bst.predict(X_test)"
   ]
  },
  {
   "cell_type": "code",
   "execution_count": null,
   "metadata": {
    "collapsed": true
   },
   "outputs": [],
   "source": [
    "dtest = df_all[(df_all.is_train == False)].copy()\n",
    "with open(\"submission.csv\", \"w\") as f:\n",
    "    f.write(\"id,predict_0,predict_1,predict_2\\n\")\n",
    "    for i, item in enumerate(ypred):\n",
    "        f.write(str(int(dtest.id.iloc[i])) + \",\" + \",\".join(map(lambda x:str(x), item)) + \"\\n\")"
   ]
  },
  {
   "cell_type": "code",
   "execution_count": null,
   "metadata": {
    "collapsed": true
   },
   "outputs": [],
   "source": [
    "x_train_xgb = x_train.as_matrix()\n",
    "y_train_xgb = y_train.as_matrix()\n",
    "\n",
    "model = xgb.XGBClassifier()\n",
    "model.fit(x_train_xgb, y_train_xgb)\n",
    "\n",
    "y_probs = model.predict_proba(x_test.as_matrix())\n",
    "print(y_probs)\n",
    "\n",
    "final = [[iden,(y_probs[j][0]),(y_probs[j][1]),(y_probs[j][2])] for j,iden in enumerate(testUniqueIds)]\n",
    "frame = pd.DataFrame(final,columns=('id','predict_0','predict_1','predict_2'))\n",
    "frame.to_csv(\"submission.csv\",index=False)"
   ]
  },
  {
   "cell_type": "markdown",
   "metadata": {
    "heading_collapsed": true
   },
   "source": [
    "## Decision Trees"
   ]
  },
  {
   "cell_type": "code",
   "execution_count": null,
   "metadata": {
    "collapsed": false,
    "scrolled": true
   },
   "outputs": [],
>>>>>>> 9f47264f3074ab180144dc57fdc34786e3b4a7e5
   "source": [
    "from sklearn.tree import DecisionTreeClassifier as DT\n",
    "from sklearn.ensemble import AdaBoostClassifier as ABC\n",
    "tree_stump = DT(max_depth=4, min_samples_leaf=1)\n",
    "\n",
    "kwargs = {'base_estimator':tree_stump,\n",
    "          'learning_rate':1,\n",
    "          'n_estimators':400,\n",
    "          'algorithm':\"SAMME\"}\n",
    "\n",
    "results = feature_mixer(df_train, attributes, ABC, **kwargs)"
   ]
  },
  {
   "cell_type": "code",
   "execution_count": 70,
   "metadata": {
    "collapsed": true
   },
   "outputs": [],
   "source": [
    "# save to hdf5 file\n",
    "hdf = pd.HDFStore(hdf_file)\n",
    "hdf.put('df_adatree', results)\n",
    "hdf.close()"
   ]
  },
  {
   "cell_type": "code",
   "execution_count": 74,
   "metadata": {
    "collapsed": false,
    "scrolled": false
   },
   "outputs": [
    {
     "data": {
      "image/png": "iVBORw0KGgoAAAANSUhEUgAAA64AAAKkCAYAAAAA6mKgAAAABHNCSVQICAgIfAhkiAAAAAlwSFlz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\nAAAASUVORK5CYII=\n",
      "text/plain": [
       "<matplotlib.figure.Figure at 0x11be7be50>"
      ]
     },
     "metadata": {},
     "output_type": "display_data"
    }
   ],
   "source": [
    "plt.figure(figsize=(16, 6))\n",
    "ax = plt.subplot(111)\n",
    "results.loc[:, 'accuracy'].plot(kind='line', ax=ax, rot=90, marker='o')\n",
    "results.loc[:, 'precision'].plot(kind='line', ax=ax, color='r', rot=90, marker='o')\n",
    "results.loc[:, 'recall'].plot(kind='line', ax=ax, color='y', rot=90, marker='o')\n",
    "results.loc[:, 'f1'].plot(kind='line', ax=ax, color='g', rot=90, marker='o')\n",
    "results.loc[:, 'kscore'].plot(kind='line', ax=ax, color='b', rot=90, marker='o')\n",
    "plt.xticks(range(len(results.index)), results.attr_combo)\n",
    "plt.show()"
   ]
  },
  {
<<<<<<< HEAD
   "cell_type": "code",
   "execution_count": null,
   "metadata": {
    "collapsed": false
   },
   "outputs": [],
   "source": [
    "# best and worst models\n",
    "max_idx, max_value = max(enumerate(acc), key=operator.itemgetter(1))\n",
    "print '{:20} {:20} {:.2%}'.format('Best accuracy:', ml_models[max_idx][0], acc[max_idx])\n",
    "\n",
    "max_idx, max_value = max(enumerate(prec), key=operator.itemgetter(1))\n",
    "print '{:20} {:20} {:.2%}'.format('Best precision:', ml_models[max_idx][0], prec[max_idx])\n",
    "\n",
    "max_idx, max_value = max(enumerate(recl), key=operator.itemgetter(1))\n",
    "print '{:20} {:20} {:.2%}'.format('Best recall:', ml_models[max_idx][0], recl[max_idx])"
   ]
  },
  {
=======
>>>>>>> 9f47264f3074ab180144dc57fdc34786e3b4a7e5
   "cell_type": "markdown",
   "metadata": {
    "heading_collapsed": true
   },
   "source": [
    "### Algorithm Tuning"
   ]
  },
  {
   "cell_type": "markdown",
   "metadata": {
    "heading_collapsed": true
   },
   "source": [
    "#### Question: What are the important features in the model?"
   ]
  },
  {
   "cell_type": "code",
   "execution_count": null,
   "metadata": {
    "collapsed": false
   },
   "outputs": [],
   "source": [
    "# feature importance\n",
    "kf = cross_validation.KFold(len(y), n_folds=10, shuffle=True, random_state=4)\n",
    "y_pred = y.copy()\n",
    "\n",
    "# keep values for all features\n",
    "feat_impt = {}\n",
    "for f in features:\n",
    "    feat_impt[f] = []\n",
    "\n",
    "# go through all features    \n",
    "for train_index, test_index in kf:\n",
    "    clf = RF(n_estimators=50, min_samples_split=2, n_jobs=-1)\n",
    "    X_train, X_test = X.ix[train_index], X.ix[test_index]\n",
    "    y_train, y_test = y[train_index], y[test_index]\n",
    "    clf.fit(X_train, y_train)\n",
    "    y_pred[test_index] = clf.predict(X_test)\n",
    "    importances = clf.feature_importances_\n",
    "    std = np.std([tree.feature_importances_ for tree in clf.estimators_], axis=0)\n",
    "    indices = np.argsort(importances)[::-1]\n",
    "    for f in range(X.shape[1]):\n",
    "        feat_impt[features[indices[f]]].append(importances[indices[f]])\n",
    "\n",
    "for k in feat_impt:\n",
    "    val = np.mean(feat_impt[k])\n",
    "    std = np.std(feat_impt[k])\n",
    "    feat_impt[k] = val"
   ]
  },
  {
   "cell_type": "code",
   "execution_count": null,
   "metadata": {
    "collapsed": false
   },
   "outputs": [],
   "source": [
    "# sort the features by importance\n",
    "sorted_feat = sorted(feat_impt.items(), key=operator.itemgetter(1))\n",
    "sorted_feat.reverse()\n",
    "\n",
    "# bookkeeping\n",
    "cumper = 0.\n",
    "nbr = False\n",
    "\n",
    "# make a copy of original dataframe to drop unneeded features\n",
    "X_keep = X.copy()\n",
    "\n",
    "# print out importances\n",
    "print \"item -- feature -- weight -- cumm_weight\"\n",
    "for i, k in enumerate(sorted_feat):\n",
    "    cumper += k[1]\n",
    "    \n",
    "    # tell me when we hit 90% of weights\n",
    "    if (nbr is False and cumper >= 0.95):\n",
    "        print '**----  Reached 95%  ----**'\n",
    "        nbr = True\n",
    "    print i, k[0], '{:.1%}'.format(k[1]), '{:.0%}'.format(cumper)\n",
    "    \n",
    "    # drop unneeded features\n",
    "    if nbr is True:\n",
    "        X_keep = X_keep.drop(k[0], axis=1)"
   ]
  },
  {
   "cell_type": "code",
   "execution_count": null,
   "metadata": {
    "collapsed": false
   },
   "outputs": [],
   "source": [
    "features_keep = X_keep.columns\n",
    "\n",
    "# checks\n",
    "print \"\\n%d observations of %d features\" % X_keep.shape\n",
    "print \"Unique labels:\", np.unique(y)\n",
    "print \"Gut-check features: %i\" % len(features_keep)"
   ]
  },
  {
   "cell_type": "markdown",
   "metadata": {},
   "source": [
    "Re-run the ML test harness for RF only and see if the model improves (below is cut and paste of earlier code)"
   ]
  },
  {
   "cell_type": "code",
   "execution_count": null,
   "metadata": {
    "collapsed": false,
    "scrolled": true
   },
   "outputs": [],
   "source": [
    "ml_models = []\n",
    "ml_models.append([\"Random Forest\", RF, {'n_estimators':72,\n",
    "                                        'min_samples_split':9,\n",
    "                                        'n_jobs':-1}])\n",
    "acc = []\n",
    "prec = []\n",
    "recl = []\n",
    "f1 = []\n",
    "cms = []\n",
    "for m in ml_models:\n",
    "    y_pred, mean_acc, mean_prec, mean_recl, mean_f1 = run_cv(X_keep, y, m[1], **m[2])\n",
    "    acc.append(mean_acc)\n",
    "    prec.append(mean_prec)\n",
    "    recl.append(mean_recl)\n",
    "    f1.append(mean_f1)\n",
    "    cms.append((m[0], metrics.confusion_matrix(y, y_pred)))\n",
    "\n",
    "draw_confusion_matrices(cms, np.unique(y))\n",
    "max_idx, max_value = max(enumerate(acc), key=operator.itemgetter(1))\n",
    "print '{:20} {:20} {:.2%}'.format('Best accuracy:', ml_models[max_idx][0], acc[max_idx])\n",
    "max_idx, max_value = max(enumerate(prec), key=operator.itemgetter(1))\n",
    "print '{:20} {:20} {:.2%}'.format('Best precision:', ml_models[max_idx][0], prec[max_idx])\n",
    "max_idx, max_value = max(enumerate(recl), key=operator.itemgetter(1))\n",
    "print '{:20} {:20} {:.2%}'.format('Best recall:', ml_models[max_idx][0], recl[max_idx])"
   ]
  },
  {
   "cell_type": "markdown",
   "metadata": {},
   "source": [
    "* RF predictive power got worse when features contributing < 10% weight were dropped.\n",
    "* **RF predictive power got better when features contributing < 5% weight were dropped.**"
   ]
  },
  {
   "cell_type": "markdown",
   "metadata": {
    "heading_collapsed": true
   },
   "source": [
    "#### Question: What model has best calibration and discrimination?"
   ]
  },
  {
   "cell_type": "markdown",
   "metadata": {},
   "source": [
    "Calibration measures the difference between actual and predicted probability for individual groups. Discrimination measures the difference between model predictions and the baseline probability. Equations are taken from [Yang, Yates, and Smith (1991)](http://psychology.huji.ac.il/.upload/Ilan/YanivYatesSmith1991PB.pdf)."
   ]
  },
  {
   "cell_type": "code",
   "execution_count": null,
   "metadata": {
    "collapsed": true
   },
   "outputs": [],
   "source": [
    "def run_prob_cv(X, y, clf_class, **kwargs):\n",
    "    kf = cross_validation.KFold(len(y), n_folds=10, shuffle=True)\n",
    "    y_prob = np.zeros((len(y), 3))\n",
    "    for train_index, test_index in kf:\n",
    "        clf = clf_class(**kwargs)\n",
    "        X_train, X_test = X.ix[train_index], X.ix[test_index]\n",
    "        y_train = y[train_index]\n",
    "        clf.fit(X_train,y_train)\n",
    "        y_prob[test_index] = clf.predict_proba(X_test)\n",
    "    return y_prob\n",
    "\n",
    "def calibration(prob, outcome,n_bins=10):\n",
    "    prob = np.array(prob)\n",
    "    outcome = np.array(outcome)\n",
    "    c = 0.0\n",
    "    judgement_bins = np.arange(n_bins + 1) / n_bins\n",
    "    bin_num = np.digitize(prob,judgement_bins)\n",
    "    for j_bin in np.unique(bin_num):\n",
    "        in_bin = bin_num == j_bin\n",
    "        predicted_prob = np.mean(prob[in_bin])\n",
    "        true_bin_prob = np.mean(outcome[in_bin])\n",
    "        c += np.sum(in_bin) * ((predicted_prob - true_bin_prob) ** 2)\n",
    "    return c / len(prob)\n",
    "\n",
    "def discrimination(prob, outcome, n_bins=10):\n",
    "    prob = np.array(prob)\n",
    "    outcome = np.array(outcome)\n",
    "    d = 0.0\n",
    "    base_prob = np.mean(outcome)\n",
    "    judgement_bins = np.arange(n_bins + 1) / n_bins\n",
    "    bin_num = np.digitize(prob,judgement_bins)\n",
    "    for j_bin in np.unique(bin_num):\n",
    "        in_bin = bin_num == j_bin\n",
    "        true_bin_prob = np.mean(outcome[in_bin])\n",
    "        d += np.sum(in_bin) * ((true_bin_prob - base_prob) ** 2)\n",
    "    return d / len(prob)"
   ]
  },
  {
   "cell_type": "code",
   "execution_count": null,
   "metadata": {
    "collapsed": false
   },
   "outputs": [],
   "source": [
    "print \"Lower calibration and higher discrimination are preferred...\"\n",
    "\n",
    "ml_models = []\n",
    "#ml_models.append([\"XGBoost\", XGBC, {'max_depth':3, 'n_estimators':300, 'learning_rate':0.05}])\n",
    "#ml_models.append([\"Support Vector Machine\", SVC, {}])\n",
    "ml_models.append([\"Linear Logistic Regression\", LR, {'multi_class':'multinomial',\n",
    "                                                     'solver':'lbfgs'}])\n",
    "ml_models.append([\"Naive Bayes\", NB, {}])\n",
    "ml_models.append([\"Decision Trees\", DT, {}])\n",
    "ml_models.append([\"Random Forest\", RF, {'n_estimators':200,\n",
    "                                        'min_samples_split':2, 'n_jobs':-1}])\n",
    "\n",
    "cal_err = []\n",
    "discrim = []\n",
    "for m in ml_models:\n",
    "    print \"\\n\"+m[0]\n",
    "    pred_prob = run_prob_cv(X, y, m[1], **m[2])\n",
    "    churn_prob, is_churn = pred_prob[:,1], y == 1\n",
    "    cal_err.append(calibration(churn_prob, is_churn))\n",
    "    discrim.append(discrimination(churn_prob,is_churn))\n",
    "    print '{:20} {:.4f}'.format(\"Calibration Error\", cal_err[-1])\n",
    "    print '{:20} {:.4f}'.format(\"Discrimination\", discrim[-1])\n",
    "    \n",
    "idx, value = min(enumerate(cal_err), key=operator.itemgetter(1))\n",
    "print '{:20} {:20} {:.3%}'.format('\\nBest calibration error:', ml_models[idx][0], cal_err[idx])\n",
    "idx, value = max(enumerate(discrim), key=operator.itemgetter(1))\n",
    "print '{:20} {:20} {:.2%}'.format('Best discrimination:', ml_models[idx][0], discrim[idx])"
   ]
  },
  {
   "cell_type": "markdown",
   "metadata": {
    "heading_collapsed": true
   },
   "source": [
    "#### Question: Can we tune the model params to get better results?"
   ]
  },
  {
   "cell_type": "code",
   "execution_count": null,
   "metadata": {
    "collapsed": true
   },
   "outputs": [],
   "source": [
    "from operator import itemgetter\n",
    "\n",
    "def report(grid_scores, n_top=3):\n",
    "    top_scores = sorted(grid_scores, key=itemgetter(1), reverse=True)[:n_top]\n",
    "    for i, score in enumerate(top_scores):\n",
    "        print(\"Model with rank: {0}\".format(i + 1))\n",
    "        print(\"Mean validation score: {0:.3f} (std: {1:.3f})\".format(\n",
    "              score.mean_validation_score,\n",
    "              np.std(score.cv_validation_scores)))\n",
    "        print(\"Parameters: {0}\".format(score.parameters))\n",
    "        print(\"\")"
   ]
  },
  {
   "cell_type": "code",
   "execution_count": null,
   "metadata": {
    "collapsed": false
   },
   "outputs": [],
   "source": [
    "clf = RF(n_jobs=-1)\n",
    "param_grid = {\"n_estimators\":[50, 75, 100],\n",
    "              \"max_depth\": [None, 3],\n",
    "              \"max_features\": [None, 'auto'],\n",
    "              \"min_samples_split\": [4, 9],\n",
    "              \"min_samples_leaf\": [1],\n",
    "              \"bootstrap\": [True, False],\n",
    "              \"criterion\": [\"gini\", \"entropy\"]}\n",
    "gs = grid_search.GridSearchCV(clf, param_grid=param_grid)\n",
    "start = time()\n",
    "gs.fit(X, y)\n",
    "\n",
    "print(\"GridSearchCV took %.2f seconds for %d candidate parameter settings.\"\n",
    "      % (time() - start, len(gs.grid_scores_)))\n",
    "report(grid_search.grid_scores_)"
   ]
  },
  {
   "cell_type": "markdown",
   "metadata": {},
   "source": [
    "**Best scores using X (took 542.40 seconds for 32 candidate parameter settings):**\n",
    "\n",
    "Model with rank: 1\n",
    "Mean validation score: 0.956 (std: 0.007)\n",
    "Parameters: {'bootstrap': True, 'min_samples_leaf': 1, 'n_estimators': 500, 'min_samples_split': 4, 'criterion': 'entropy', 'max_features': 'auto', 'max_depth': None}\n",
    "\n",
    "Model with rank: 2\n",
    "Mean validation score: 0.956 (std: 0.009)\n",
    "Parameters: {'bootstrap': False, 'min_samples_leaf': 1, 'n_estimators': 1000, 'min_samples_split': 4, 'criterion': 'entropy', 'max_features': 'auto', 'max_depth': None}\n",
    "\n",
    "Model with rank: 3\n",
    "Mean validation score: 0.955 (std: 0.006)\n",
    "Parameters: {'bootstrap': True, 'min_samples_leaf': 1, 'n_estimators': 1000, 'min_samples_split': 4, 'criterion': 'entropy', 'max_features': 'auto', 'max_depth': None}\n",
    "\n",
    "\n",
    "**Best scores using X_keep (took 471.68 seconds for 48 candidate parameter settings):**\n",
    "\n",
    "Model with rank: 1\n",
    "Mean validation score: 0.957 (std: 0.007)\n",
    "Parameters: {'bootstrap': False, 'min_samples_leaf': 1, 'n_estimators': 1000, 'min_samples_split': 4, 'criterion': 'entropy', 'max_features': 'auto', 'max_depth': None}\n",
    "\n",
    "Model with rank: 2\n",
    "Mean validation score: 0.956 (std: 0.006)\n",
    "Parameters: {'bootstrap': True, 'min_samples_leaf': 1, 'n_estimators': 500, 'min_samples_split': 4, 'criterion': 'entropy', 'max_features': 'auto', 'max_depth': None}\n",
    "\n",
    "Model with rank: 3\n",
    "Mean validation score: 0.956 (std: 0.007)\n",
    "Parameters: {'bootstrap': False, 'min_samples_leaf': 1, 'n_estimators': 50, 'min_samples_split': 4, 'criterion': 'entropy', 'max_features': 'auto', 'max_depth': None}"
   ]
  },
  {
   "cell_type": "code",
   "execution_count": null,
   "metadata": {
    "collapsed": false
   },
   "outputs": [],
   "source": [
    "ml_models = []\n",
    "ml_models.append([\"Random Forest\", RF, {'bootstrap': True,\n",
    "                                        'min_samples_leaf': 1,\n",
    "                                        'n_estimators': 500,\n",
    "                                        'min_samples_split': 4,\n",
    "                                        'criterion': 'entropy',\n",
    "                                        'max_features': 'auto',\n",
    "                                        'max_depth': None,\n",
    "                                        'n_jobs': -1}])\n",
    "acc = []\n",
    "prec = []\n",
    "recl = []\n",
    "f1 = []\n",
    "cms = []\n",
    "for m in ml_models:\n",
    "    y_pred, mean_acc, mean_prec, mean_recl, mean_f1 = run_cv(X, y, m[1], **m[2])\n",
    "    acc.append(mean_acc)\n",
    "    prec.append(mean_prec)\n",
    "    recl.append(mean_recl)\n",
    "    f1.append(mean_f1)\n",
    "    cms.append((m[0], metrics.confusion_matrix(y, y_pred)))\n",
    "draw_confusion_matrices(cms, np.unique(y))\n",
    "max_idx, max_value = max(enumerate(acc), key=operator.itemgetter(1))\n",
    "print '{:20} {:20} {:.2%}'.format('Best accuracy:', ml_models[max_idx][0], acc[max_idx])\n",
    "max_idx, max_value = max(enumerate(prec), key=operator.itemgetter(1))\n",
    "print '{:20} {:20} {:.2%}'.format('Best precision:', ml_models[max_idx][0], prec[max_idx])\n",
    "max_idx, max_value = max(enumerate(recl), key=operator.itemgetter(1))\n",
    "print '{:20} {:20} {:.2%}'.format('Best recall:', ml_models[max_idx][0], recl[max_idx])"
   ]
  },
  {
   "cell_type": "markdown",
   "metadata": {},
   "source": [
    "**This model is hardly better than the initial guess, but it's technically simpler, so I'll run with this one.**"
   ]
  },
  {
   "cell_type": "code",
   "execution_count": null,
   "metadata": {
    "collapsed": false
   },
   "outputs": [],
   "source": [
    "# Use 10 estimators so predictions are all multiples of 0.1\n",
    "m = ([\"Random Forest\", RF, {'bootstrap': True,\n",
    "                            'min_samples_leaf': 1,\n",
    "                            'n_estimators': 10,\n",
    "                            'min_samples_split': 1,\n",
    "                            'criterion': 'entropy',\n",
    "                            'max_features': 'auto',\n",
    "                            'max_depth': None,\n",
    "                            'n_jobs': -1}])\n",
    "pred_prob = run_prob_cv(X, y, m[1], **m[2])\n",
    "pred_churn = pred_prob[:,1]\n",
    "is_churn = y == 1\n",
    "\n",
    "# Number of times a predicted probability is assigned to an observation\n",
    "counts = pd.value_counts(pred_churn)\n",
    "\n",
    "# calculate true probabilities\n",
    "true_prob = {}\n",
    "for prob in counts.index:\n",
    "    true_prob[prob] = np.mean(is_churn[pred_churn == prob])\n",
    "    true_prob = pd.Series(true_prob)\n",
    "\n",
    "# pandas-fu\n",
    "counts = pd.concat([counts,true_prob], axis=1).reset_index()\n",
    "counts.columns = ['pred_prob', 'count', 'true_prob']\n",
    "counts"
   ]
  },
  {
   "cell_type": "code",
   "execution_count": null,
   "metadata": {
    "collapsed": false
   },
   "outputs": [],
   "source": [
    "from ggplot import *\n",
    "baseline = np.mean(is_churn)\n",
    "ggplot(counts, aes(x='pred_prob',y='true_prob',size='count')) + \\\n",
    "        geom_point(color='blue') + \\\n",
    "        stat_function(fun = lambda x: x, color='red') + \\\n",
    "        stat_function(fun = lambda x: baseline, color='green') + \\\n",
    "        xlim(-0.05,  1.05) + \\\n",
    "        ylim(-0.05,1.05) + \\\n",
    "        ggtitle(\"Random Forest\") + \\\n",
    "        xlab(\"Predicted probability\") + ylab(\"Relative frequency of outcome\")"
   ]
  },
  {
   "cell_type": "markdown",
   "metadata": {
    "heading_collapsed": true
   },
   "source": [
    "# Final Model"
   ]
  },
  {
   "cell_type": "code",
   "execution_count": null,
   "metadata": {
    "collapsed": true
   },
   "outputs": [],
   "source": [
    "# event, feature, resource, severity, volume, location\n",
    "\n",
    "adc = pd.read_csv('adc.csv') #efrs\n",
    "rf = pd.read_csv('randomforest.csv') #esv\n",
    "loc = pd.read_csv('location.csv') # l\n",
    "gbc = pd.read_csv('gbc.csv') # e\n",
    "nn = pd.read_csv('neural_network.csv') # rs\n",
    "xgbc = pd.read_csv('xgbc.csv') # efrsvl\n",
    "\n",
    "df_final = rf.copy()\n",
    "df_final.loc[:, 'predict_0':'predict_2'] = (\n",
    "    5.0*rf.loc[:, 'predict_0':'predict_2'] + \n",
    "    3.0*loc.loc[:, 'predict_0':'predict_2'] +\n",
    "    0.1*adc.loc[:, 'predict_0':'predict_2'] +\n",
    "    0.2*nn.loc[:, 'predict_0':'predict_2'] +\n",
    "    6.0*gbc.loc[:, 'predict_0':'predict_2'] +\n",
    "    10.0*xgbc.loc[:, 'predict_0':'predict_2']\n",
    "    )/24.3\n",
    "\n",
    "df_final.to_csv('blend.csv', index=False)"
   ]
  },
  {
   "cell_type": "code",
   "execution_count": null,
   "metadata": {
    "collapsed": true
   },
   "outputs": [],
   "source": [
    "# save to hdf5 file\n",
    "hdf = pd.HDFStore(hdf_file)\n",
    "hdf.put('df_final', df_final)\n",
    "hdf.close()\n",
    "call([\"lrztar\", \"-zf\", hdf_file])"
   ]
<<<<<<< HEAD
  },
  {
   "cell_type": "markdown",
   "metadata": {
    "heading_collapsed": true
   },
   "source": [
    "# Ad Hoc Junk"
   ]
  },
  {
   "cell_type": "code",
   "execution_count": null,
   "metadata": {
    "collapsed": true
   },
   "outputs": [],
   "source": [
    "# build random forest\n",
    "clf = RandomForestClassifier(n_estimators=50, oob_score=True)  \n",
    "n_trials = 100\n",
    "test_size_percent = 0.1\n",
    "\n",
    "# build labels\n",
    "sig_field = 'sms_count'\n",
    "signals = df[[c for c in df.columns if c != sig_field]]\n",
    "labels = df[sig_field]\n",
    "\n",
    "# test train split\n",
    "plot_data = []\n",
    "for trial in range(n_trials):\n",
    "    train_signals, test_signals, train_labels, test_labels = train_test_split(\n",
    "                                                            signals, labels, test_size=test_size_percent)\n",
    "    clf.fit(train_signals, train_labels)\n",
    "    predictions = clf.predict_proba(test_signals)[:,1]\n",
    "    precision, recall, thresholds = precision_recall_curve(test_labels, predictions)  \n",
    "    thresholds = np.append(thresholds, 1)\n",
    "    queue_rate = []  \n",
    "    for threshold in thresholds:  \n",
    "        queue_rate.append((predictions >= threshold).mean())\n",
    "        \n",
    "    # save plot data\n",
    "    plot_data.append({\n",
    "            'thresholds': thresholds\n",
    "        ,   'precision': precision\n",
    "        ,   'recall': recall\n",
    "        ,   'queue_rate': queue_rate\n",
    "    })\n",
    "    \n",
    "# plot model\n",
    "uniform_thresholds = np.linspace(0, 1, 101)\n",
    "uniform_precision_plots = []  \n",
    "uniform_recall_plots= []  \n",
    "uniform_queue_rate_plots= []\n",
    "for p in plot_data:  \n",
    "    uniform_precision = []\n",
    "    uniform_recall = []\n",
    "    uniform_queue_rate = []\n",
    "    for ut in uniform_thresholds:\n",
    "        index = bisect.bisect_left(p['thresholds'], ut)\n",
    "        uniform_precision.append(p['precision'][index])\n",
    "        uniform_recall.append(p['recall'][index])\n",
    "        uniform_queue_rate.append(p['queue_rate'][index])\n",
    "\n",
    "    uniform_precision_plots.append(uniform_precision)\n",
    "    uniform_recall_plots.append(uniform_recall)\n",
    "    uniform_queue_rate_plots.append(uniform_queue_rate)\n",
    "\n",
    "quantiles = [0.1, 0.5, 0.9]  \n",
    "lower_precision, median_precision, upper_precision = mstats.mquantiles(uniform_precision_plots, quantiles, axis=0)  \n",
    "lower_recall, median_recall, upper_recall = mstats.mquantiles(uniform_recall_plots, quantiles, axis=0)  \n",
    "lower_queue_rate, median_queue_rate, upper_queue_rate = mstats.mquantiles(uniform_queue_rate_plots, quantiles, axis=0)\n",
    "\n",
    "plt.plot(uniform_thresholds, median_precision)  \n",
    "plt.plot(uniform_thresholds, median_recall)  \n",
    "plt.plot(uniform_thresholds, median_queue_rate)\n",
    "\n",
    "plt.fill_between(uniform_thresholds, upper_precision, lower_precision, alpha=0.5, linewidth=0, color=sns.color_palette()[0])  \n",
    "plt.fill_between(uniform_thresholds, upper_recall, lower_recall, alpha=0.5, linewidth=0, color=sns.color_palette()[1])  \n",
    "plt.fill_between(uniform_thresholds, upper_queue_rate, lower_queue_rate, alpha=0.5, linewidth=0, color=sns.color_palette()[2])\n",
    "\n",
    "leg = plt.legend(('precision', 'recall', 'queue_rate'), frameon=True)  \n",
    "leg.get_frame().set_edgecolor('k')  \n",
    "plt.xlabel('threshold')  \n",
    "plt.ylabel('%')  \n",
    "\n",
    "uniform_payout_plots = []\n",
    "n = 10000  \n",
    "success_payoff = 100  \n",
    "case_cost = 20\n",
    "\n",
    "for p in plot_data:  \n",
    "    uniform_payout = []\n",
    "    for ut in uniform_thresholds:\n",
    "        index = bisect.bisect_left(p['thresholds'], ut)\n",
    "        precision = p['precision'][index]\n",
    "        queue_rate = p['queue_rate'][index]\n",
    "        payout = n*queue_rate*(precision*100 - case_cost)\n",
    "        uniform_payout.append(payout)\n",
    "    uniform_payout_plots.append(uniform_payout)\n",
    "\n",
    "quantiles = [0.1, 0.5, 0.9]\n",
    "lower_payout, median_payout, upper_payout = mstats.mquantiles(uniform_payout_plots, quantiles, axis=0)\n",
    "\n",
    "plt.plot(uniform_thresholds, median_payout, color=sns.color_palette()[4])  \n",
    "plt.fill_between(uniform_thresholds, upper_payout, lower_payout, alpha=0.5, linewidth=0, color=sns.color_palette()[4])\n",
    "\n",
    "max_ap = uniform_thresholds[np.argmax(median_payout)]  \n",
    "plt.vlines([max_ap], -100000, 150000, linestyles='--')  \n",
    "plt.ylim(-100000, 150000)\n",
    "\n",
    "leg = plt.legend(('payout ($)', 'median argmax = {:.2f}'.format(max_ap)), frameon=True)  \n",
    "leg.get_frame().set_edgecolor('k')  \n",
    "plt.xlabel('threshold')  \n",
    "plt.ylabel('$')  \n",
    "plt.title(\"Payout as a Function of Threshold\")\n",
    "\n",
    "print '{0:.0f}'.format(np.max(median_payout))"
   ]
  },
  {
   "cell_type": "markdown",
   "metadata": {},
   "source": [
    "# Scratch Space"
   ]
  },
  {
   "cell_type": "code",
   "execution_count": 30,
   "metadata": {
    "collapsed": false,
    "scrolled": true
   },
   "outputs": [
    {
     "data": {
      "text/plain": [
       "array([[0, 1, 0],\n",
       "       [0, 0, 1],\n",
       "       [1, 0, 0],\n",
       "       [0, 1, 0],\n",
       "       [0, 0, 1]])"
      ]
     },
     "execution_count": 30,
     "metadata": {},
     "output_type": "execute_result"
    }
   ],
   "source": []
  },
  {
   "cell_type": "code",
   "execution_count": null,
   "metadata": {
    "collapsed": true
   },
   "outputs": [],
   "source": []
=======
>>>>>>> 9f47264f3074ab180144dc57fdc34786e3b4a7e5
  }
 ],
 "metadata": {
  "gist": {
   "data": {
    "description": "notes.ipynb",
    "public": false
   },
   "id": ""
  },
  "kernelspec": {
   "display_name": "Python 2",
   "language": "python",
   "name": "python2"
  },
  "language_info": {
   "codemirror_mode": {
    "name": "ipython",
    "version": 2
   },
   "file_extension": ".py",
   "mimetype": "text/x-python",
   "name": "python",
   "nbconvert_exporter": "python",
   "pygments_lexer": "ipython2",
   "version": "2.7.10"
  }
 },
 "nbformat": 4,
 "nbformat_minor": 0
}
