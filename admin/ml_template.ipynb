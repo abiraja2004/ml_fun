{
 "cells": [
  {
   "cell_type": "markdown",
   "metadata": {
    "toc": true
   },
   "source": [
    "<h1>Table of Contents<span class=\"tocSkip\"></span></h1>\n",
    "<div class=\"toc\"><ul class=\"toc-item\"><li><span><a href=\"#Initialization\" data-toc-modified-id=\"Initialization-1\"><span class=\"toc-item-num\">1&nbsp;&nbsp;</span>Initialization</a></span></li><li><span><a href=\"#Define-the-problem\" data-toc-modified-id=\"Define-the-problem-2\"><span class=\"toc-item-num\">2&nbsp;&nbsp;</span>Define the problem</a></span><ul class=\"toc-item\"><li><span><a href=\"#What's-the-problem?\" data-toc-modified-id=\"What's-the-problem?-2.1\"><span class=\"toc-item-num\">2.1&nbsp;&nbsp;</span>What's the problem?</a></span></li><li><span><a href=\"#Why-do-I-care-about-this-problem?\" data-toc-modified-id=\"Why-do-I-care-about-this-problem?-2.2\"><span class=\"toc-item-num\">2.2&nbsp;&nbsp;</span>Why do I care about this problem?</a></span></li><li><span><a href=\"#How-should-I-solve-this-problem?\" data-toc-modified-id=\"How-should-I-solve-this-problem?-2.3\"><span class=\"toc-item-num\">2.3&nbsp;&nbsp;</span>How should I solve this problem?</a></span></li></ul></li><li><span><a href=\"#Data-Preparation\" data-toc-modified-id=\"Data-Preparation-3\"><span class=\"toc-item-num\">3&nbsp;&nbsp;</span>Data Preparation</a></span><ul class=\"toc-item\"><li><span><a href=\"#Basics-and-ETL\" data-toc-modified-id=\"Basics-and-ETL-3.1\"><span class=\"toc-item-num\">3.1&nbsp;&nbsp;</span>Basics and ETL</a></span></li><li><span><a href=\"#Summarize-and-visualize-attributes\" data-toc-modified-id=\"Summarize-and-visualize-attributes-3.2\"><span class=\"toc-item-num\">3.2&nbsp;&nbsp;</span>Summarize and visualize attributes</a></span></li><li><span><a href=\"#Feature-Engineering\" data-toc-modified-id=\"Feature-Engineering-3.3\"><span class=\"toc-item-num\">3.3&nbsp;&nbsp;</span>Feature Engineering</a></span></li></ul></li><li><span><a href=\"#Algorithm-Evaluation\" data-toc-modified-id=\"Algorithm-Evaluation-4\"><span class=\"toc-item-num\">4&nbsp;&nbsp;</span>Algorithm Evaluation</a></span><ul class=\"toc-item\"><li><span><a href=\"#Experiments\" data-toc-modified-id=\"Experiments-4.1\"><span class=\"toc-item-num\">4.1&nbsp;&nbsp;</span>Experiments</a></span></li><li><span><a href=\"#Measure-Performance\" data-toc-modified-id=\"Measure-Performance-4.2\"><span class=\"toc-item-num\">4.2&nbsp;&nbsp;</span>Measure Performance</a></span></li></ul></li><li><span><a href=\"#Results\" data-toc-modified-id=\"Results-5\"><span class=\"toc-item-num\">5&nbsp;&nbsp;</span>Results</a></span><ul class=\"toc-item\"><li><span><a href=\"#Algorithm-Tuning\" data-toc-modified-id=\"Algorithm-Tuning-5.1\"><span class=\"toc-item-num\">5.1&nbsp;&nbsp;</span>Algorithm Tuning</a></span></li><li><span><a href=\"#Ensemble-Methods\" data-toc-modified-id=\"Ensemble-Methods-5.2\"><span class=\"toc-item-num\">5.2&nbsp;&nbsp;</span>Ensemble Methods</a></span></li></ul></li><li><span><a href=\"#Communicate\" data-toc-modified-id=\"Communicate-6\"><span class=\"toc-item-num\">6&nbsp;&nbsp;</span>Communicate</a></span><ul class=\"toc-item\"><li><span><a href=\"#Context\" data-toc-modified-id=\"Context-6.1\"><span class=\"toc-item-num\">6.1&nbsp;&nbsp;</span>Context</a></span></li><li><span><a href=\"#Methods-and-Findings\" data-toc-modified-id=\"Methods-and-Findings-6.2\"><span class=\"toc-item-num\">6.2&nbsp;&nbsp;</span>Methods and Findings</a></span></li><li><span><a href=\"#Results-and-Caveats\" data-toc-modified-id=\"Results-and-Caveats-6.3\"><span class=\"toc-item-num\">6.3&nbsp;&nbsp;</span>Results and Caveats</a></span></li><li><span><a href=\"#Conclusions\" data-toc-modified-id=\"Conclusions-6.4\"><span class=\"toc-item-num\">6.4&nbsp;&nbsp;</span>Conclusions</a></span></li></ul></li><li><span><a href=\"#Example\" data-toc-modified-id=\"Example-7\"><span class=\"toc-item-num\">7&nbsp;&nbsp;</span>Example</a></span></li></ul></div>"
   ]
  },
  {
   "cell_type": "markdown",
   "metadata": {
    "heading_collapsed": true
   },
   "source": [
    "# Initialization"
   ]
  },
  {
   "cell_type": "code",
   "execution_count": null,
   "metadata": {
    "ExecuteTime": {
     "end_time": "2018-02-11T15:18:12.264516Z",
     "start_time": "2018-02-11T15:17:25.170636Z"
    },
    "hidden": true
   },
   "outputs": [],
   "source": [
    "##########\n",
    "# basics #\n",
    "##########\n",
    "\n",
    "import warnings\n",
    "warnings.filterwarnings('ignore')\n",
    "import collections\n",
    "import datetime as dt\n",
    "import glob\n",
    "import hashlib\n",
    "import itertools\n",
    "import math\n",
    "import operator\n",
    "import os\n",
    "import pickle\n",
    "import random\n",
    "import re\n",
    "import string\n",
    "import sys\n",
    "import time\n",
    "\n",
    "###########\n",
    "# science #\n",
    "###########\n",
    "\n",
    "import scipy as sp\n",
    "import numpy as np\n",
    "import pandas as pd\n",
    "rseed = random.seed(42)\n",
    "np.random.seed(rseed)\n",
    "\n",
    "######\n",
    "# ml #\n",
    "######\n",
    "\n",
    "import xgboost as xgb\n",
    "import theano as thno\n",
    "import keras as krs\n",
    "import tensorflow as tf\n",
    "\n",
    "###################\n",
    "# sklearn tooling #\n",
    "###################\n",
    "\n",
    "from sklearn import decomposition\n",
    "from sklearn import preprocessing\n",
    "from sklearn import metrics\n",
    "from sklearn import model_selection\n",
    "from sklearn import grid_search\n",
    "from sklearn import pipeline\n",
    "from sklearn import feature_selection\n",
    "\n",
    "#################\n",
    "# visualization #\n",
    "#################\n",
    "\n",
    "# plotly\n",
    "import plotly.plotly as py\n",
    "import plotly.tools as tls\n",
    "from plotly.graph_objs import *\n",
    "import cufflinks as cf\n",
    "tls.set_credentials_file(\n",
    "    username=os.environ.get('PLOTLY_USERNAME'),\n",
    "    api_key=os.environ.get('PLOTLY_APIKEY'))\n",
    "cf.set_config_file(offline=False, world_readable=True, theme='pearl')\n",
    "\n",
    "# matplotlib\n",
    "import matplotlib.pyplot as plt\n",
    "import matplotlib as mpl\n",
    "from IPython.display import set_matplotlib_formats\n",
    "set_matplotlib_formats('pdf', 'svg')\n",
    "mpl.rcParams['figure.figsize'] = (15.0, 6.0)\n",
    "%matplotlib inline\n",
    "\n",
    "# seaborn\n",
    "import seaborn as sns\n",
    "#sns.set_style('darkgrid')\n",
    "#sns.set_palette('muted', n_colors=15, desat=None)\n",
    "#sns.set_context(\"notebook\", font_scale=1.5,\n",
    "#                rc={\"lines.linewidth\": 2.5})\n",
    "\n",
    "# graphistry\n",
    "import graphistry\n",
    "graphistry.register(key=os.environ.get('GRAPHISTRY_APIKEY'))"
   ]
  },
  {
   "cell_type": "code",
   "execution_count": 5,
   "metadata": {
    "ExecuteTime": {
     "end_time": "2018-02-11T15:20:13.229792Z",
     "start_time": "2018-02-11T15:20:13.161314Z"
    },
    "hidden": true
   },
   "outputs": [
    {
     "name": "stdout",
     "output_type": "stream",
     "text": [
      "Ken Cavagnolo \n",
      "last updated: Sun Feb 11 2018 \n",
      "\n",
      "CPython 3.6.2\n",
      "IPython 6.2.1\n",
      "\n",
      "numpy 1.14.0\n",
      "scipy 0.19.1\n",
      "pandas 0.22.0\n",
      "sklearn 0.18.1\n",
      "theano 0.9.0\n",
      "tensorflow 1.3.0\n",
      "keras 2.0.8\n",
      "xgboost 0.6\n",
      "matplotlib 2.0.2\n",
      "seaborn 0.8.1\n",
      "plotly 2.2.3\n",
      "graphistry 0.9.51\n",
      "\n",
      "compiler   : GCC 4.2.1 Compatible Apple LLVM 8.0.0 (clang-800.0.42.1)\n",
      "system     : Darwin\n",
      "release    : 17.4.0\n",
      "machine    : x86_64\n",
      "processor  : i386\n",
      "CPU cores  : 4\n",
      "interpreter: 64bit\n",
      "host name  : DrGonzo.local\n",
      "Git hash   : 67cedef9b568e4b2c19cdd9159e8598b514fd5ca\n"
     ]
    }
   ],
   "source": [
    "############\n",
    "# sys info #\n",
    "############\n",
    "\n",
    "%reload_ext watermark\n",
    "%watermark -a \"Ken Cavagnolo\" -n -u -v -m -h -g -p numpy,scipy,pandas,sklearn,theano,tensorflow,keras,xgboost,matplotlib,seaborn,plotly,graphistry"
   ]
  },
  {
   "cell_type": "markdown",
   "metadata": {
    "heading_collapsed": true
   },
   "source": [
    "# Define the problem"
   ]
  },
  {
   "cell_type": "markdown",
   "metadata": {
    "hidden": true
   },
   "source": [
    "## What's the problem?\n",
    "* Describe the problem informally, e.g. \"I need a program that will tell me which tweets will get retweets.\"\n",
    "\n",
    "* Describe the problem formally, e.g.\n",
    "    * Task (T): Classify a tweet that has not been published as going to get retweets or not.\n",
    "    * Experience (E): A corpus of tweets for an account where some have retweets and some do not.\n",
    "    * Performance (P): Classification accuracy, the number of tweets predicted correctly out of all tweets considered as a percentage.\n",
    "\n",
    "* List assumptions, e.g.\n",
    "    * The specific words used in the tweet matter to the model.\n",
    "    * The specific user that retweets does not matter to the model.\n",
    "    * The number of retweets may matter to the model.\n",
    "    * Older tweets are less predictive than more recent tweets.\n",
    "\n",
    "* List similar problems, e.g. \"A related problem would be email spam discrimination that uses text messages as input data and needs binary classification decision.\""
   ]
  },
  {
   "cell_type": "markdown",
   "metadata": {
    "hidden": true
   },
   "source": [
    "## Why do I care about this problem?\n",
    "* What is my motivation for studying this problem?\n",
    "* What are the benefits a solution provides?\n",
    "* How does will a solution be used, e.g. value proposition?"
   ]
  },
  {
   "cell_type": "markdown",
   "metadata": {
    "hidden": true
   },
   "source": [
    "## How should I solve this problem?\n",
    "* Brainstorm! Literally type everything as a stream of consciousness (coffee helps here)\n",
    "\n",
    "These are my thoughts. These are my thoughts. These are my thoughts. These are my thoughts. These are my thoughts. These are my thoughts. These are my thoughts. These are my thoughts. These are my thoughts. These are my thoughts.\n",
    "\n",
    "* Describe how to solve problem manually\n",
    "* What data do I have?\n",
    "* What data do I need?\n",
    "* What data I **don't** need?\n",
    "* What do I know the least about in the solution process above?\n",
    "    * knowledge gap 1\n",
    "    * knowledge gap 2\n",
    "* What am I concerned is incorrect in above solution? Find an expert online and ask them about these items\n",
    "    * concern 1\n",
    "    * concern 2"
   ]
  },
  {
   "cell_type": "markdown",
   "metadata": {
    "heading_collapsed": true
   },
   "source": [
    "# Data Preparation"
   ]
  },
  {
   "cell_type": "markdown",
   "metadata": {
    "hidden": true
   },
   "source": [
    "## Basics and ETL\n",
    "* What data sources am I using?\n",
    "* Format, Clean, Sample\n",
    "* Diagnose missing values and anomalies (MVA's)\n",
    "* What am I going to do w/ MVA's, e.g. simulate? averages? discard records?\n",
    "* Replace missing values\n",
    "* Remove duplicates\n",
    "* One-Hot encode categorical features\n",
    "* Find outliers and explain\n",
    "* Scale\n",
    "* Standardize"
   ]
  },
  {
   "cell_type": "markdown",
   "metadata": {
    "hidden": true
   },
   "source": [
    "## Summarize and visualize attributes\n",
    "* Data structure\n",
    "* Distributions\n",
    "* Histograms\n",
    "* Pairwise scatterplots"
   ]
  },
  {
   "cell_type": "markdown",
   "metadata": {
    "hidden": true
   },
   "source": [
    "## Feature Engineering\n",
    "* Data has complex multi-dimensional structures that ML algos know how to find and exploit to make decisions\n",
    "* You want to best expose those structures to the algo\n",
    "* Some structures may be too dense or too complex for the algo to find without help\n",
    "*Domain expertise comes into play here\n",
    "* Attribute decomposition into simpler components\n",
    "* Attribute aggregation, e.g. hyperattributes"
   ]
  },
  {
   "cell_type": "markdown",
   "metadata": {
    "heading_collapsed": true
   },
   "source": [
    "# Algorithm Evaluation"
   ]
  },
  {
   "cell_type": "markdown",
   "metadata": {
    "hidden": true
   },
   "source": [
    "## Experiments\n",
    "* Test harness = test, train, and validation splits\n",
    "* Loading up a bunch of standard machine learning algorithms into test harness\n",
    "* Run 5-10 standard algorithms from each [major algo family](http://machinelearningmastery.com/a-tour-of-machine-learning-algorithms/) using transformed and scaled versions of the dataset\n",
    "* Find types of algorithms and dataset combinations that give structure to the problem"
   ]
  },
  {
   "cell_type": "markdown",
   "metadata": {
    "hidden": true
   },
   "source": [
    "## Measure Performance\n",
    "* Select standard performance measures for the selected classes of algos\n",
    "* Report mean and standard deviation of the accuracy\n",
    "* Run statistical significance tests\n",
    "* Which results are meaningful and not just noise?\n",
    "* Create figures for each algo summarizing the distribution of accuracy\n",
    "* Consider 10-fold cross-validation, if applicable"
   ]
  },
  {
   "cell_type": "markdown",
   "metadata": {
    "heading_collapsed": true
   },
   "source": [
    "# Results"
   ]
  },
  {
   "cell_type": "markdown",
   "metadata": {
    "hidden": true
   },
   "source": [
    "## Algorithm Tuning\n",
    "* Which is the best model?\n",
    "* What's my method forsearching model param space?\n",
    "* Usually gonna be grid search\n",
    "* Don't forget, the more tuning, the greaters chance of overfitting"
   ]
  },
  {
   "cell_type": "markdown",
   "metadata": {
    "hidden": true
   },
   "source": [
    "## Ensemble Methods\n",
    "* Should results of several models be combined?\n",
    "* What's the justification?\n",
    "* If so, how?\n",
    "    * Bagging\n",
    "    * Boosting\n",
    "    * Blending"
   ]
  },
  {
   "cell_type": "markdown",
   "metadata": {
    "heading_collapsed": true
   },
   "source": [
    "# Communicate"
   ]
  },
  {
   "cell_type": "markdown",
   "metadata": {
    "hidden": true
   },
   "source": [
    "## Context\n",
    "* Intro and history\n",
    "* Statement of problem\n",
    "* Goal of this project"
   ]
  },
  {
   "cell_type": "markdown",
   "metadata": {
    "hidden": true
   },
   "source": [
    "## Methods and Findings\n",
    "* Data sources\n",
    "* Interesting things about data\n",
    "* Outline of methods\n",
    "* Implementation techniques\n",
    "* Evaluation of implementation\n",
    "* Analysis"
   ]
  },
  {
   "cell_type": "markdown",
   "metadata": {
    "hidden": true
   },
   "source": [
    "## Results and Caveats\n",
    "* What did I learn?\n",
    "* What is interesting?\n",
    "* What is useful?\n",
    "* Where does the model not work?\n",
    "* What questions does the model not answer?"
   ]
  },
  {
   "cell_type": "markdown",
   "metadata": {
    "hidden": true
   },
   "source": [
    "## Conclusions\n",
    "* Craft blog post from results\n",
    "* Post code to Github\n",
    "* Drop into social media stream"
   ]
  },
  {
   "cell_type": "markdown",
   "metadata": {
    "heading_collapsed": true
   },
   "source": [
    "# Example"
   ]
  },
  {
   "cell_type": "code",
   "execution_count": 10,
   "metadata": {
    "ExecuteTime": {
     "end_time": "2018-02-11T15:22:22.191092Z",
     "start_time": "2018-02-11T15:22:20.295761Z"
    },
    "hidden": true
   },
   "outputs": [
    {
     "name": "stdout",
     "output_type": "stream",
     "text": [
      "/Library/Python/2.7/site-packages/pandas/io/tests/data/iris.csv\n",
      "/Library/Python/2.7/site-packages/pandas/tests/data/iris.csv\n",
      "/Users/cavagnolo/anaconda/lib/python3.5/site-packages/blaze/examples/data/iris.csv\n",
      "/Users/cavagnolo/anaconda/lib/python3.5/site-packages/bokeh/sampledata/iris.csv\n",
      "/Users/cavagnolo/anaconda/lib/python3.5/site-packages/pandas/tests/data/iris.csv\n",
      "/Users/cavagnolo/anaconda/lib/python3.5/site-packages/pandas/tests/io/data/iris.csv\n",
      "/Users/cavagnolo/anaconda/lib/python3.5/site-packages/pandas/tests/io/parser/data/iris.csv\n",
      "/Users/cavagnolo/anaconda/lib/python3.5/site-packages/sklearn/datasets/data/iris.csv\n",
      "/Users/cavagnolo/anaconda/lib/python3.5/site-packages/statsmodels/genmod/tests/results/iris.csv\n",
      "/Users/cavagnolo/anaconda/lib/python3.5/site-packages/tensorflow/contrib/learn/python/learn/datasets/data/iris.csv\n",
      "/Users/cavagnolo/anaconda/pkgs/blaze-0.10.1-py35_0/lib/python3.5/site-packages/blaze/examples/data/iris.csv\n",
      "/Users/cavagnolo/anaconda/pkgs/bokeh-0.12.2-py35_0/lib/python3.5/site-packages/bokeh/sampledata/iris.csv\n",
      "/Users/cavagnolo/anaconda/pkgs/bokeh-0.12.6-py35_0/lib/python3.5/site-packages/bokeh/sampledata/iris.csv\n",
      "/Users/cavagnolo/anaconda/pkgs/pandas-0.18.1-np111py35_0/lib/python3.5/site-packages/pandas/io/tests/data/iris.csv\n",
      "/Users/cavagnolo/anaconda/pkgs/pandas-0.18.1-np111py35_0/lib/python3.5/site-packages/pandas/io/tests/parser/data/iris.csv\n",
      "/Users/cavagnolo/anaconda/pkgs/pandas-0.18.1-np111py35_0/lib/python3.5/site-packages/pandas/tests/data/iris.csv\n",
      "/Users/cavagnolo/anaconda/pkgs/pandas-0.19.2-np111py35_1/lib/python3.5/site-packages/pandas/io/tests/data/iris.csv\n",
      "/Users/cavagnolo/anaconda/pkgs/pandas-0.19.2-np111py35_1/lib/python3.5/site-packages/pandas/io/tests/parser/data/iris.csv\n",
      "/Users/cavagnolo/anaconda/pkgs/pandas-0.19.2-np111py35_1/lib/python3.5/site-packages/pandas/tests/data/iris.csv\n",
      "/Users/cavagnolo/anaconda/pkgs/pandas-0.19.2-np112py35_1/lib/python3.5/site-packages/pandas/io/tests/data/iris.csv\n",
      "/Users/cavagnolo/anaconda/pkgs/pandas-0.19.2-np112py35_1/lib/python3.5/site-packages/pandas/io/tests/parser/data/iris.csv\n",
      "/Users/cavagnolo/anaconda/pkgs/pandas-0.19.2-np112py35_1/lib/python3.5/site-packages/pandas/tests/data/iris.csv\n",
      "/Users/cavagnolo/anaconda/pkgs/pandas-0.20.1-np111py35_0/lib/python3.5/site-packages/pandas/tests/data/iris.csv\n",
      "/Users/cavagnolo/anaconda/pkgs/pandas-0.20.1-np111py35_0/lib/python3.5/site-packages/pandas/tests/io/data/iris.csv\n",
      "/Users/cavagnolo/anaconda/pkgs/pandas-0.20.1-np111py35_0/lib/python3.5/site-packages/pandas/tests/io/parser/data/iris.csv\n",
      "/Users/cavagnolo/anaconda/pkgs/pandas-0.20.2-np112py35_0/lib/python3.5/site-packages/pandas/tests/data/iris.csv\n",
      "/Users/cavagnolo/anaconda/pkgs/pandas-0.20.2-np112py35_0/lib/python3.5/site-packages/pandas/tests/io/data/iris.csv\n",
      "/Users/cavagnolo/anaconda/pkgs/pandas-0.20.2-np112py35_0/lib/python3.5/site-packages/pandas/tests/io/parser/data/iris.csv\n",
      "/Users/cavagnolo/anaconda/pkgs/pandas-0.20.2-np112py35_1/lib/python3.5/site-packages/pandas/tests/data/iris.csv\n",
      "/Users/cavagnolo/anaconda/pkgs/pandas-0.20.2-np112py35_1/lib/python3.5/site-packages/pandas/tests/io/data/iris.csv\n",
      "/Users/cavagnolo/anaconda/pkgs/pandas-0.20.2-np112py35_1/lib/python3.5/site-packages/pandas/tests/io/parser/data/iris.csv\n",
      "/Users/cavagnolo/anaconda/pkgs/pandas-0.20.3-py35h5e2f206_2/lib/python3.5/site-packages/pandas/tests/data/iris.csv\n",
      "/Users/cavagnolo/anaconda/pkgs/pandas-0.20.3-py35h5e2f206_2/lib/python3.5/site-packages/pandas/tests/io/data/iris.csv\n",
      "/Users/cavagnolo/anaconda/pkgs/pandas-0.20.3-py35h5e2f206_2/lib/python3.5/site-packages/pandas/tests/io/parser/data/iris.csv\n",
      "/Users/cavagnolo/anaconda/pkgs/scikit-learn-0.17.1-np111py35_2/lib/python3.5/site-packages/sklearn/datasets/data/iris.csv\n",
      "/Users/cavagnolo/anaconda/pkgs/scikit-learn-0.18.1-np111py35_1/lib/python3.5/site-packages/sklearn/datasets/data/iris.csv\n",
      "/Users/cavagnolo/anaconda/pkgs/scikit-learn-0.18.1-np112py35_1/lib/python3.5/site-packages/sklearn/datasets/data/iris.csv\n",
      "/Users/cavagnolo/anaconda/pkgs/scikit-learn-0.18.2-np112py35_0/lib/python3.5/site-packages/sklearn/datasets/data/iris.csv\n",
      "/Users/cavagnolo/anaconda/pkgs/scikit-learn-0.18.2-np112py35_blas_openblas_200/lib/python3.5/site-packages/sklearn/datasets/data/iris.csv\n",
      "/Users/cavagnolo/anaconda/pkgs/scikit-learn-0.19.0-py35hd036984_2/lib/python3.5/site-packages/sklearn/datasets/data/iris.csv\n",
      "/Users/cavagnolo/anaconda/pkgs/scikit-learn-0.19.1-py35_blas_openblas_200/lib/python3.5/site-packages/sklearn/datasets/data/iris.csv\n",
      "/Users/cavagnolo/anaconda/pkgs/scikit-learn-0.19.1-py35_blas_openblas_201/lib/python3.5/site-packages/sklearn/datasets/data/iris.csv\n",
      "/Users/cavagnolo/anaconda/pkgs/statsmodels-0.6.1-np111py35_1/lib/python3.5/site-packages/statsmodels/genmod/tests/results/iris.csv\n",
      "/Users/cavagnolo/anaconda/pkgs/statsmodels-0.8.0-np111py35_0/lib/python3.5/site-packages/statsmodels/genmod/tests/results/iris.csv\n",
      "/Users/cavagnolo/anaconda/pkgs/statsmodels-0.8.0-np112py35_0/lib/python3.5/site-packages/statsmodels/genmod/tests/results/iris.csv\n",
      "/Users/cavagnolo/anaconda/pkgs/statsmodels-0.8.0-py35ha7c9052_0/lib/python3.5/site-packages/statsmodels/genmod/tests/results/iris.csv\n",
      "/usr/local/lib/python2.7/site-packages/pandas/tests/data/iris.csv\n",
      "/usr/local/lib/python2.7/site-packages/pandas/tests/io/data/iris.csv\n",
      "/usr/local/lib/python2.7/site-packages/pandas/tests/io/parser/data/iris.csv\n",
      "/usr/local/lib/python2.7/site-packages/statsmodels/genmod/tests/results/iris.csv\n",
      "/usr/local/lib/python3.6/site-packages/pandas/tests/data/iris.csv\n",
      "/usr/local/lib/python3.6/site-packages/pandas/tests/io/data/iris.csv\n",
      "/usr/local/lib/python3.6/site-packages/pandas/tests/io/parser/data/iris.csv\n",
      "/usr/local/lib/python3.6/site-packages/sklearn/datasets/data/iris.csv\n",
      "/usr/local/lib/python3.6/site-packages/statsmodels/genmod/tests/results/iris.csv\n",
      "/usr/local/lib/python3.6/site-packages/tensorflow/contrib/learn/python/learn/datasets/data/iris.csv\n"
     ]
    }
   ],
   "source": [
    "!locate iris.csv"
   ]
  },
  {
   "cell_type": "code",
   "execution_count": 11,
   "metadata": {
    "ExecuteTime": {
     "end_time": "2018-02-11T15:23:15.164785Z",
     "start_time": "2018-02-11T15:23:15.105508Z"
    },
    "hidden": true
   },
   "outputs": [
    {
     "data": {
      "text/html": [
       "<div>\n",
       "<style scoped>\n",
       "    .dataframe tbody tr th:only-of-type {\n",
       "        vertical-align: middle;\n",
       "    }\n",
       "\n",
       "    .dataframe tbody tr th {\n",
       "        vertical-align: top;\n",
       "    }\n",
       "\n",
       "    .dataframe thead th {\n",
       "        text-align: right;\n",
       "    }\n",
       "</style>\n",
       "<table border=\"1\" class=\"dataframe\">\n",
       "  <thead>\n",
       "    <tr style=\"text-align: right;\">\n",
       "      <th></th>\n",
       "      <th>SepalLength</th>\n",
       "      <th>SepalWidth</th>\n",
       "      <th>PetalLength</th>\n",
       "      <th>PetalWidth</th>\n",
       "    </tr>\n",
       "  </thead>\n",
       "  <tbody>\n",
       "    <tr>\n",
       "      <th>count</th>\n",
       "      <td>150.000000</td>\n",
       "      <td>150.000000</td>\n",
       "      <td>150.000000</td>\n",
       "      <td>150.000000</td>\n",
       "    </tr>\n",
       "    <tr>\n",
       "      <th>mean</th>\n",
       "      <td>5.843333</td>\n",
       "      <td>3.054000</td>\n",
       "      <td>3.758667</td>\n",
       "      <td>1.198667</td>\n",
       "    </tr>\n",
       "    <tr>\n",
       "      <th>std</th>\n",
       "      <td>0.828066</td>\n",
       "      <td>0.433594</td>\n",
       "      <td>1.764420</td>\n",
       "      <td>0.763161</td>\n",
       "    </tr>\n",
       "    <tr>\n",
       "      <th>min</th>\n",
       "      <td>4.300000</td>\n",
       "      <td>2.000000</td>\n",
       "      <td>1.000000</td>\n",
       "      <td>0.100000</td>\n",
       "    </tr>\n",
       "    <tr>\n",
       "      <th>25%</th>\n",
       "      <td>5.100000</td>\n",
       "      <td>2.800000</td>\n",
       "      <td>1.600000</td>\n",
       "      <td>0.300000</td>\n",
       "    </tr>\n",
       "    <tr>\n",
       "      <th>50%</th>\n",
       "      <td>5.800000</td>\n",
       "      <td>3.000000</td>\n",
       "      <td>4.350000</td>\n",
       "      <td>1.300000</td>\n",
       "    </tr>\n",
       "    <tr>\n",
       "      <th>75%</th>\n",
       "      <td>6.400000</td>\n",
       "      <td>3.300000</td>\n",
       "      <td>5.100000</td>\n",
       "      <td>1.800000</td>\n",
       "    </tr>\n",
       "    <tr>\n",
       "      <th>max</th>\n",
       "      <td>7.900000</td>\n",
       "      <td>4.400000</td>\n",
       "      <td>6.900000</td>\n",
       "      <td>2.500000</td>\n",
       "    </tr>\n",
       "  </tbody>\n",
       "</table>\n",
       "</div>"
      ],
      "text/plain": [
       "       SepalLength  SepalWidth  PetalLength  PetalWidth\n",
       "count   150.000000  150.000000   150.000000  150.000000\n",
       "mean      5.843333    3.054000     3.758667    1.198667\n",
       "std       0.828066    0.433594     1.764420    0.763161\n",
       "min       4.300000    2.000000     1.000000    0.100000\n",
       "25%       5.100000    2.800000     1.600000    0.300000\n",
       "50%       5.800000    3.000000     4.350000    1.300000\n",
       "75%       6.400000    3.300000     5.100000    1.800000\n",
       "max       7.900000    4.400000     6.900000    2.500000"
      ]
     },
     "execution_count": 11,
     "metadata": {},
     "output_type": "execute_result"
    }
   ],
   "source": [
    "import pandas as pd\n",
    "data ='/usr/local/lib/python3.6/site-packages/pandas/tests/data/iris.csv'\n",
    "iris_data = pd.read_csv(data, na_values=['NA'])\n",
    "iris_data.describe()"
   ]
  },
  {
   "cell_type": "code",
   "execution_count": 8,
   "metadata": {
    "ExecuteTime": {
     "end_time": "2018-02-11T15:20:48.794085Z",
     "start_time": "2018-02-11T15:20:44.138055Z"
    },
    "hidden": true
   },
   "outputs": [
    {
     "data": {
      "text/plain": [
       "<seaborn.axisgrid.PairGrid at 0x124122c18>"
      ]
     },
     "execution_count": 8,
     "metadata": {},
     "output_type": "execute_result"
    },
    {
     "data": {
      "image/png": "[encoded data removed]",
      "text/plain": [
       "<matplotlib.figure.Figure at 0x1240fd9e8>"
      ]
     },
     "metadata": {},
     "output_type": "display_data"
    }
   ],
   "source": [
    "sns.pairplot(iris_data.dropna(), hue='Name')"
   ]
  },
  {
   "cell_type": "code",
   "execution_count": 9,
   "metadata": {
    "ExecuteTime": {
     "end_time": "2018-02-11T15:20:54.424664Z",
     "start_time": "2018-02-11T15:20:54.402122Z"
    },
    "hidden": true
   },
   "outputs": [
    {
     "data": {
      "text/html": [
       "<div>\n",
       "<style scoped>\n",
       "    .dataframe tbody tr th:only-of-type {\n",
       "        vertical-align: middle;\n",
       "    }\n",
       "\n",
       "    .dataframe tbody tr th {\n",
       "        vertical-align: top;\n",
       "    }\n",
       "\n",
       "    .dataframe thead th {\n",
       "        text-align: right;\n",
       "    }\n",
       "</style>\n",
       "<table border=\"1\" class=\"dataframe\">\n",
       "  <thead>\n",
       "    <tr style=\"text-align: right;\">\n",
       "      <th></th>\n",
       "      <th>SepalLength</th>\n",
       "      <th>SepalWidth</th>\n",
       "      <th>PetalLength</th>\n",
       "      <th>PetalWidth</th>\n",
       "      <th>Name</th>\n",
       "    </tr>\n",
       "  </thead>\n",
       "  <tbody>\n",
       "    <tr>\n",
       "      <th>57</th>\n",
       "      <td>4.9</td>\n",
       "      <td>2.4</td>\n",
       "      <td>3.3</td>\n",
       "      <td>1.0</td>\n",
       "      <td>Iris-versicolor</td>\n",
       "    </tr>\n",
       "    <tr>\n",
       "      <th>59</th>\n",
       "      <td>5.2</td>\n",
       "      <td>2.7</td>\n",
       "      <td>3.9</td>\n",
       "      <td>1.4</td>\n",
       "      <td>Iris-versicolor</td>\n",
       "    </tr>\n",
       "    <tr>\n",
       "      <th>60</th>\n",
       "      <td>5.0</td>\n",
       "      <td>2.0</td>\n",
       "      <td>3.5</td>\n",
       "      <td>1.0</td>\n",
       "      <td>Iris-versicolor</td>\n",
       "    </tr>\n",
       "    <tr>\n",
       "      <th>93</th>\n",
       "      <td>5.0</td>\n",
       "      <td>2.3</td>\n",
       "      <td>3.3</td>\n",
       "      <td>1.0</td>\n",
       "      <td>Iris-versicolor</td>\n",
       "    </tr>\n",
       "    <tr>\n",
       "      <th>98</th>\n",
       "      <td>5.1</td>\n",
       "      <td>2.5</td>\n",
       "      <td>3.0</td>\n",
       "      <td>1.1</td>\n",
       "      <td>Iris-versicolor</td>\n",
       "    </tr>\n",
       "    <tr>\n",
       "      <th>106</th>\n",
       "      <td>4.9</td>\n",
       "      <td>2.5</td>\n",
       "      <td>4.5</td>\n",
       "      <td>1.7</td>\n",
       "      <td>Iris-virginica</td>\n",
       "    </tr>\n",
       "  </tbody>\n",
       "</table>\n",
       "</div>"
      ],
      "text/plain": [
       "     SepalLength  SepalWidth  PetalLength  PetalWidth             Name\n",
       "57           4.9         2.4          3.3         1.0  Iris-versicolor\n",
       "59           5.2         2.7          3.9         1.4  Iris-versicolor\n",
       "60           5.0         2.0          3.5         1.0  Iris-versicolor\n",
       "93           5.0         2.3          3.3         1.0  Iris-versicolor\n",
       "98           5.1         2.5          3.0         1.1  Iris-versicolor\n",
       "106          4.9         2.5          4.5         1.7   Iris-virginica"
      ]
     },
     "execution_count": 9,
     "metadata": {},
     "output_type": "execute_result"
    }
   ],
   "source": [
    "iris_data.loc[(iris_data['SepalLength'] < 5.25)\n",
    "              & (iris_data['PetalWidth'] > 0.75)]"
   ]
  }
 ],
 "metadata": {
  "anaconda-cloud": {},
  "kernelspec": {
   "display_name": "Python 3",
   "language": "python",
   "name": "python3"
  },
  "language_info": {
   "codemirror_mode": {
    "name": "ipython",
    "version": 3
   },
   "file_extension": ".py",
   "mimetype": "text/x-python",
   "name": "python",
   "nbconvert_exporter": "python",
   "pygments_lexer": "ipython3",
   "version": "3.6.2"
  },
  "toc": {
   "nav_menu": {},
   "number_sections": true,
   "sideBar": true,
   "skip_h1_title": false,
   "title_cell": "Table of Contents",
   "title_sidebar": "Contents",
   "toc_cell": true,
   "toc_position": {},
   "toc_section_display": true,
   "toc_window_display": false
  },
  "varInspector": {
   "cols": {
    "lenName": 16,
    "lenType": 16,
    "lenVar": 40
   },
   "kernels_config": {
    "python": {
     "delete_cmd_postfix": "",
     "delete_cmd_prefix": "del ",
     "library": "var_list.py",
     "varRefreshCmd": "print(var_dic_list())"
    },
    "r": {
     "delete_cmd_postfix": ") ",
     "delete_cmd_prefix": "rm(",
     "library": "var_list.r",
     "varRefreshCmd": "cat(var_dic_list()) "
    }
   },
   "types_to_exclude": [
    "module",
    "function",
    "builtin_function_or_method",
    "instance",
    "_Feature"
   ],
   "window_display": false
  }
 },
 "nbformat": 4,
 "nbformat_minor": 1
}
